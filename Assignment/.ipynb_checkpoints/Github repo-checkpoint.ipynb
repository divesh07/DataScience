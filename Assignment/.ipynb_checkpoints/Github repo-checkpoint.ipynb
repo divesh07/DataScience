{
 "cells": [
  {
   "cell_type": "code",
   "execution_count": null,
   "id": "52c86d57",
   "metadata": {},
   "outputs": [],
   "source": [
    "'''\n",
    "Make an API call to github\n",
    "Paginate through repo API's\n",
    "Take data and parse it\n",
    "'''"
   ]
  },
  {
   "cell_type": "code",
   "execution_count": 1,
   "id": "d2942b93",
   "metadata": {},
   "outputs": [],
   "source": [
    "import requests\n"
   ]
  },
  {
   "cell_type": "code",
   "execution_count": 3,
   "id": "f7215b11",
   "metadata": {},
   "outputs": [],
   "source": [
    "url = \"https://api.github.com/search/repositories\"\n",
    "url += \"?q=language:python\""
   ]
  },
  {
   "cell_type": "code",
   "execution_count": 4,
   "id": "aa478c2b",
   "metadata": {},
   "outputs": [
    {
     "name": "stdout",
     "output_type": "stream",
     "text": [
      "200\n"
     ]
    }
   ],
   "source": [
    "headers = {\"Accept\": \"application/vnd.github.v3+json\"}\n",
    "response = requests.get(url, headers= headers)\n",
    "print(response.status_code)"
   ]
  },
  {
   "cell_type": "code",
   "execution_count": 12,
   "id": "ffbff8eb",
   "metadata": {},
   "outputs": [],
   "source": [
    "json_response = response.json()\n"
   ]
  }
 ],
 "metadata": {
  "kernelspec": {
   "display_name": "Python 3 (ipykernel)",
   "language": "python",
   "name": "python3"
  },
  "language_info": {
   "codemirror_mode": {
    "name": "ipython",
    "version": 3
   },
   "file_extension": ".py",
   "mimetype": "text/x-python",
   "name": "python",
   "nbconvert_exporter": "python",
   "pygments_lexer": "ipython3",
   "version": "3.11.5"
  }
 },
 "nbformat": 4,
 "nbformat_minor": 5
}
