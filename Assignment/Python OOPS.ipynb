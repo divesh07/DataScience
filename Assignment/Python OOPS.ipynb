{
 "cells": [
  {
   "cell_type": "code",
   "execution_count": 5,
   "id": "e69b74d5",
   "metadata": {},
   "outputs": [
    {
     "name": "stdout",
     "output_type": "stream",
     "text": [
      "Honda 2020\n"
     ]
    }
   ],
   "source": [
    "class Car:\n",
    "\n",
    "    # parameterized constructor\n",
    "    def __init__(self,modelname,year):\n",
    "        self.modelname = modelname\n",
    "        self.year = year\n",
    "        \n",
    "        \n",
    "    def display(self):\n",
    "        print(self.modelname,self.year)\n",
    "\n",
    "c1 = Car(\"Honda\", 2020)\n",
    "c1.display()"
   ]
  },
  {
   "cell_type": "code",
   "execution_count": 13,
   "id": "e40b3675",
   "metadata": {},
   "outputs": [
    {
     "name": "stdout",
     "output_type": "stream",
     "text": [
      "6 gear\n"
     ]
    }
   ],
   "source": [
    "class Bike:\n",
    "    # uses default constructor\n",
    "    def gear():\n",
    "        print(\"6 gear\")\n",
    "\n",
    "c2 = Bike\n",
    "c2.gear()"
   ]
  },
  {
   "cell_type": "code",
   "execution_count": 19,
   "id": "d3cb14bb",
   "metadata": {},
   "outputs": [
    {
     "name": "stdout",
     "output_type": "stream",
     "text": [
      "1\n",
      "Tim\n",
      "2\n",
      "Jack\n"
     ]
    }
   ],
   "source": [
    "class Person:\n",
    "    count = 0;\n",
    "    \n",
    "    def __init__(self,name,age):\n",
    "        name= name\n",
    "        age=age\n",
    "        Person.count+=1\n",
    "        print(Person.count)\n",
    "        print(name)\n",
    "\n",
    "per1 = Person(\"Tim\",20)\n",
    "per2 = Person(\"Jack\",21)"
   ]
  },
  {
   "cell_type": "code",
   "execution_count": 25,
   "id": "2800df10",
   "metadata": {},
   "outputs": [
    {
     "name": "stdout",
     "output_type": "stream",
     "text": [
      "10 Tim\n"
     ]
    }
   ],
   "source": [
    "class Employee:\n",
    "    \n",
    "    def __init__(self,name,id):\n",
    "        self.name=name\n",
    "        self.id=id\n",
    "    def display(self):\n",
    "        print(self.id,self.name)\n",
    "        \n",
    "emp1 = Employee(\"Tim\",10)\n",
    "emp1.display()"
   ]
  }
 ],
 "metadata": {
  "kernelspec": {
   "display_name": "Python 3 (ipykernel)",
   "language": "python",
   "name": "python3"
  },
  "language_info": {
   "codemirror_mode": {
    "name": "ipython",
    "version": 3
   },
   "file_extension": ".py",
   "mimetype": "text/x-python",
   "name": "python",
   "nbconvert_exporter": "python",
   "pygments_lexer": "ipython3",
   "version": "3.11.5"
  }
 },
 "nbformat": 4,
 "nbformat_minor": 5
}
