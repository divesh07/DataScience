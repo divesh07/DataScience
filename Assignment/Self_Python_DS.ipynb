{
 "cells": [
  {
   "cell_type": "code",
   "execution_count": 2,
   "id": "0e353d3e",
   "metadata": {},
   "outputs": [
    {
     "name": "stdout",
     "output_type": "stream",
     "text": [
      "2\n"
     ]
    }
   ],
   "source": [
    "# find common elements in 2 list\n",
    "\n",
    "list1 = [1,2,3,4,5,6]\n",
    "list2 = [ 7,8,9,10,11,2]\n",
    "\n",
    "for i in list1:\n",
    "    for j in list2:\n",
    "        if i == j:\n",
    "            print (i)\n",
    "        \n",
    "    "
   ]
  },
  {
   "cell_type": "code",
   "execution_count": 26,
   "id": "bc4f5221",
   "metadata": {},
   "outputs": [
    {
     "name": "stdout",
     "output_type": "stream",
     "text": [
      "[1, 2, 3, 4]\n",
      "([1, 2, 3, 4], 'two')\n",
      "True\n",
      "False\n",
      "<class 'tuple'>\n",
      "2\n",
      "3\n",
      "5\n"
     ]
    },
    {
     "data": {
      "text/plain": [
       "(1, 2, 3, 4, 5, 4, 'one', 'two', [5, 2, 3, 4])"
      ]
     },
     "execution_count": 26,
     "metadata": {},
     "output_type": "execute_result"
    }
   ],
   "source": [
    "tuple = (1,2,3,4,5,4,\"one\",'two',[1,2,3,4])\n",
    "print(tuple[-1])\n",
    "print(tuple[-1:-3:-1])\n",
    "print(1 in tuple)\n",
    "print(7 in tuple)\n",
    "print(type(tuple))\n",
    "print(tuple.count(4))\n",
    "print(tuple.index(4))\n",
    "print(tuple.index(4,4))\n",
    "#tuple[0]=1\n",
    "tuple[-1][0]=5\n",
    "tuple"
   ]
  },
  {
   "cell_type": "code",
   "execution_count": 32,
   "id": "d753a529",
   "metadata": {},
   "outputs": [
    {
     "data": {
      "text/plain": [
       "{1, 2, 3, 4, 5, 6, 9, 10, 11}"
      ]
     },
     "execution_count": 32,
     "metadata": {},
     "output_type": "execute_result"
    }
   ],
   "source": [
    "set={1,2,3,3,4,5,6,2,3}\n",
    "set.add(9)\n",
    "set.update([10,11])\n",
    "set"
   ]
  },
  {
   "cell_type": "code",
   "execution_count": 43,
   "id": "573b0946",
   "metadata": {},
   "outputs": [
    {
     "data": {
      "text/plain": [
       "{1, 4}"
      ]
     },
     "execution_count": 43,
     "metadata": {},
     "output_type": "execute_result"
    }
   ],
   "source": [
    "set1={1,2,3}\n",
    "set2={2,3,4}\n",
    "set3={3,4,5}\n",
    "set1.union(set2,set3)\n",
    "set1&set2 # intersection\n",
    "set1.intersection(set3)\n",
    "set1-set2\n",
    "set2-set1\n",
    "set1.difference(set3)\n",
    "set1^set2 # OR ( should be there in 1 of set and not common)"
   ]
  },
  {
   "cell_type": "code",
   "execution_count": 60,
   "id": "153e656c",
   "metadata": {},
   "outputs": [
    {
     "name": "stdout",
     "output_type": "stream",
     "text": [
      "1980\n",
      "sedan\n",
      "chevy\n",
      "model 1980\n",
      "type sedan\n",
      "brand chevy\n"
     ]
    }
   ],
   "source": [
    "dict = {\n",
    "    \"model\": 1980,\n",
    "    'type' : 'sedan',\n",
    "    'brand':'chevy',\n",
    "    'test':0\n",
    "    \n",
    "}\n",
    "dict.keys()\n",
    "dict.get('model')\n",
    "dict['type']\n",
    "dict.pop('test')\n",
    "dict.values()\n",
    "\n",
    "for x in dict.values():\n",
    "    print (x)\n",
    "\n",
    "for x,y in dict.items():\n",
    "    print (x,y)\n",
    "\n",
    "#frozenset(dict) # takes keys from dict"
   ]
  },
  {
   "cell_type": "code",
   "execution_count": 63,
   "id": "d0e4d465",
   "metadata": {},
   "outputs": [
    {
     "data": {
      "text/plain": [
       "0.5"
      ]
     },
     "execution_count": 63,
     "metadata": {},
     "output_type": "execute_result"
    }
   ],
   "source": [
    "add = lambda num: num+4\n",
    "add(6)\n",
    "\n",
    "a = lambda x,y : ( x * y)\n",
    "a(4,5)\n",
    "\n",
    "reciprocal = lambda num : 1/num\n",
    "reciprocal(2)"
   ]
  },
  {
   "cell_type": "code",
   "execution_count": 66,
   "id": "9765921c",
   "metadata": {},
   "outputs": [
    {
     "data": {
      "text/plain": [
       "[5, 7]"
      ]
     },
     "execution_count": 66,
     "metadata": {},
     "output_type": "execute_result"
    }
   ],
   "source": [
    "def odd(x):\n",
    "    if (x%2) != 0:\n",
    "        return x\n",
    "lst = [5,6,7,8]\n",
    "odd_lst = list(filter(odd,lst)) # filter accepts 2 args , ( function , iteratable object)\n",
    "\n",
    "odd_lst           "
   ]
  },
  {
   "cell_type": "code",
   "execution_count": 68,
   "id": "84f0ea3b",
   "metadata": {},
   "outputs": [
    {
     "data": {
      "text/plain": [
       "[5, 7]"
      ]
     },
     "execution_count": 68,
     "metadata": {},
     "output_type": "execute_result"
    }
   ],
   "source": [
    "# replace function with lambda \n",
    "# use lambda with filter\n",
    "\n",
    "lst = [5,6,7,8]\n",
    "odd_lst = list(filter(lambda num : (num%2 !=0) ,lst))\n",
    "odd_lst"
   ]
  },
  {
   "cell_type": "code",
   "execution_count": 70,
   "id": "c40838e7",
   "metadata": {},
   "outputs": [
    {
     "data": {
      "text/plain": [
       "[25, 36, 49, 64]"
      ]
     },
     "execution_count": 70,
     "metadata": {},
     "output_type": "execute_result"
    }
   ],
   "source": [
    "# use lambda with map\n",
    "lst = [5,6,7,8]\n",
    "sqr_list = list(map(lambda num : (num ** 2) ,lst))\n",
    "sqr_list"
   ]
  },
  {
   "cell_type": "code",
   "execution_count": 80,
   "id": "b596e84c",
   "metadata": {},
   "outputs": [
    {
     "data": {
      "text/plain": [
       "[<function __main__.<listcomp>.<lambda>(num=0)>,\n",
       " <function __main__.<listcomp>.<lambda>(num=1)>,\n",
       " <function __main__.<listcomp>.<lambda>(num=2)>,\n",
       " <function __main__.<listcomp>.<lambda>(num=3)>,\n",
       " <function __main__.<listcomp>.<lambda>(num=4)>,\n",
       " <function __main__.<listcomp>.<lambda>(num=5)>,\n",
       " <function __main__.<listcomp>.<lambda>(num=6)>,\n",
       " <function __main__.<listcomp>.<lambda>(num=7)>,\n",
       " <function __main__.<listcomp>.<lambda>(num=8)>,\n",
       " <function __main__.<listcomp>.<lambda>(num=9)>,\n",
       " <function __main__.<listcomp>.<lambda>(num=10)>]"
      ]
     },
     "execution_count": 80,
     "metadata": {},
     "output_type": "execute_result"
    }
   ],
   "source": [
    "# using lambda with list comprehension\n",
    "squares = [lambda num = num : num ** 2 for num in range(0,11)]\n",
    "\n",
    "for i in squares:\n",
    "    print(i())"
   ]
  },
  {
   "cell_type": "code",
   "execution_count": null,
   "id": "6a7cc1d5",
   "metadata": {},
   "outputs": [],
   "source": []
  },
  {
   "cell_type": "code",
   "execution_count": 78,
   "id": "a7ecd3b2",
   "metadata": {},
   "outputs": [
    {
     "data": {
      "text/plain": [
       "[25, 36, 49, 64]"
      ]
     },
     "execution_count": 78,
     "metadata": {},
     "output_type": "execute_result"
    }
   ],
   "source": [
    "# list compreshension\n",
    "\n",
    "lst = [5,6,7,8]\n",
    "square = [ n**2 for n in lst]\n",
    "square"
   ]
  }
 ],
 "metadata": {
  "kernelspec": {
   "display_name": "Python 3 (ipykernel)",
   "language": "python",
   "name": "python3"
  },
  "language_info": {
   "codemirror_mode": {
    "name": "ipython",
    "version": 3
   },
   "file_extension": ".py",
   "mimetype": "text/x-python",
   "name": "python",
   "nbconvert_exporter": "python",
   "pygments_lexer": "ipython3",
   "version": "3.11.5"
  }
 },
 "nbformat": 4,
 "nbformat_minor": 5
}
