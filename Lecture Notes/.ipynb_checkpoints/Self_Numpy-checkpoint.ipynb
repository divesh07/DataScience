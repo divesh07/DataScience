{
 "cells": [
  {
   "cell_type": "code",
   "execution_count": 1,
   "id": "5e79f269",
   "metadata": {},
   "outputs": [],
   "source": [
    "import numpy as np"
   ]
  },
  {
   "cell_type": "code",
   "execution_count": 3,
   "id": "e1043322",
   "metadata": {},
   "outputs": [
    {
     "name": "stdout",
     "output_type": "stream",
     "text": [
      "1.24.3\n"
     ]
    }
   ],
   "source": [
    "print(np.__version__)"
   ]
  },
  {
   "cell_type": "code",
   "execution_count": 7,
   "id": "5de9e902",
   "metadata": {},
   "outputs": [
    {
     "name": "stdout",
     "output_type": "stream",
     "text": [
      "[1. 2. 3. 4. 5.]\n",
      "[1 2 3 4 5]\n",
      "[[1 2 3 4]\n",
      " [5 6 7 8]]\n"
     ]
    }
   ],
   "source": [
    "# 1D Array\n",
    "print(np.array([1,2,3,4,5.0]))\n",
    "print(np.array([1,2,3,4,5]))\n",
    "\n",
    "#2D Array\n",
    "print(np.array([[1,2,3,4],[5,6,7,8]]))"
   ]
  },
  {
   "cell_type": "code",
   "execution_count": 8,
   "id": "621d25c0",
   "metadata": {},
   "outputs": [
    {
     "name": "stdout",
     "output_type": "stream",
     "text": [
      "[1 2 3 4]\n"
     ]
    }
   ],
   "source": [
    "# create numpy array using list\n",
    "\n",
    "L1= [1,2,3,4]\n",
    "print(np.array(L1))"
   ]
  },
  {
   "cell_type": "code",
   "execution_count": 20,
   "id": "f2dac4df",
   "metadata": {},
   "outputs": [
    {
     "data": {
      "text/plain": [
       "array([[0, 0, 0, 0],\n",
       "       [0, 0, 0, 0],\n",
       "       [0, 0, 0, 0]])"
      ]
     },
     "execution_count": 20,
     "metadata": {},
     "output_type": "execute_result"
    }
   ],
   "source": [
    "# matrix on ones and zeros\n",
    "np.ones((3,4)) # default dtype = float\n",
    "np.ones((3,4), dtype=int)\n",
    "\n",
    "np.zeros((3,4), dtype=int)\n",
    "np.zeros((3,4)).astype(int) #alternate way to define type"
   ]
  },
  {
   "cell_type": "code",
   "execution_count": 23,
   "id": "6e833b16",
   "metadata": {},
   "outputs": [
    {
     "data": {
      "text/plain": [
       "array([[1., 0., 0., 0.],\n",
       "       [0., 1., 0., 0.],\n",
       "       [0., 0., 1., 0.],\n",
       "       [0., 0., 0., 1.]])"
      ]
     },
     "execution_count": 23,
     "metadata": {},
     "output_type": "execute_result"
    }
   ],
   "source": [
    "#Identity matrix\n",
    "np.identity(4, int)\n",
    "np.identity(4)"
   ]
  },
  {
   "cell_type": "code",
   "execution_count": 28,
   "id": "27085f59",
   "metadata": {},
   "outputs": [
    {
     "data": {
      "text/plain": [
       "array([10,  9,  8,  7,  6,  5,  4,  3,  2])"
      ]
     },
     "execution_count": 28,
     "metadata": {},
     "output_type": "execute_result"
    }
   ],
   "source": [
    "#Arrange()\n",
    "np.arange(5)\n",
    "np.arange(10,1,-1)\n",
    "#np.arange(10,1,-2)"
   ]
  },
  {
   "cell_type": "code",
   "execution_count": 33,
   "id": "a4e9f248",
   "metadata": {},
   "outputs": [
    {
     "data": {
      "text/plain": [
       "array([[1],\n",
       "       [2],\n",
       "       [3],\n",
       "       [4],\n",
       "       [5],\n",
       "       [6]])"
      ]
     },
     "execution_count": 33,
     "metadata": {},
     "output_type": "execute_result"
    }
   ],
   "source": [
    "#Concat\n",
    "a = np.array([[1],[2],[3]])\n",
    "b = np.array([[4],[5],[6]])\n",
    "np.hstack((a,b))\n",
    "np.vstack((a,b))"
   ]
  },
  {
   "cell_type": "code",
   "execution_count": 42,
   "id": "1792f424",
   "metadata": {},
   "outputs": [
    {
     "name": "stdout",
     "output_type": "stream",
     "text": [
      "2\n",
      "(3, 3)\n",
      "9\n"
     ]
    }
   ],
   "source": [
    "#Attributes\n",
    "s = np.array([[1,2,3],[4,5,6],[7,8,9]])\n",
    "print(np.ndim(s)) # no of axes / dim\n",
    "print(np.shape(s)) # n * m matrix\n",
    "print(np.size(s)) # no of elements"
   ]
  },
  {
   "cell_type": "code",
   "execution_count": 51,
   "id": "e699abf6",
   "metadata": {},
   "outputs": [
    {
     "name": "stdout",
     "output_type": "stream",
     "text": [
      "[[ 1  2  3  4]\n",
      " [ 5  6  7  8]\n",
      " [ 9 10 11 12]]\n",
      "[ 1  2  3  4  5  6  7  8  9 10 11 12]\n"
     ]
    }
   ],
   "source": [
    "#reshaping the array\n",
    "A1 = np.arange(1,13)\n",
    "A2 = A1.reshape((3,4))\n",
    "print(A2)\n",
    "A1.reshape((6,2))\n",
    "A1.reshape((12,1))\n",
    "#flatten to convert matrix into 1D array\n",
    "print(A2.flatten())"
   ]
  },
  {
   "cell_type": "code",
   "execution_count": 78,
   "id": "91ee04ca",
   "metadata": {},
   "outputs": [
    {
     "name": "stdout",
     "output_type": "stream",
     "text": [
      "[[1 2 3]\n",
      " [4 5 6]\n",
      " [7 8 9]]\n",
      "[4 5 6]\n",
      "[2 5 8]\n",
      "4\n",
      "2\n"
     ]
    }
   ],
   "source": [
    "#Max and Min\n",
    "A2D = np.array([[1,2,3],[4,5,6],[7,8,9]])\n",
    "print(A2D)\n",
    "print(A2D[1,]) # row 1\n",
    "print(A2D[:,1]) # col 1\n",
    "np.max(np.array([[1,2,3],[4,5,6],[7,8,9]]))\n",
    "np.min(np.array([[1,2,3],[4,5,6],[7,8,9]]))\n",
    "\n",
    "#Max and Min of each row and col\n",
    "np.min(np.array([[1,2,3],[4,5,6],[7,8,9]]), axis=0) #min of each col\n",
    "np.min(np.array([[1,2,3],[4,5,6],[7,8,9]]), axis=1) #min of each row\n",
    "\n",
    "#Max and Min of particular row, \n",
    "# find min at row 1\n",
    "\n",
    "print(min(A2D[1,]))\n",
    "\n",
    "#Max and Min of particular col\n",
    "# find min at col 1\n",
    "print(min(A2D[:,1]))"
   ]
  },
  {
   "cell_type": "code",
   "execution_count": 105,
   "id": "a84a50b8",
   "metadata": {},
   "outputs": [
    {
     "name": "stdout",
     "output_type": "stream",
     "text": [
      "[[1 2 3]\n",
      " [4 5 6]\n",
      " [7 8 9]]\n",
      "[[1 4 7]\n",
      " [2 5 8]\n",
      " [3 6 9]]\n",
      "[1 5 9]\n",
      "15\n",
      "----------\n",
      "[[3 2 1]\n",
      " [6 5 4]\n",
      " [9 8 7]]\n",
      "[3 5 7]\n",
      "15\n",
      "----------\n",
      "[[7 8 9]\n",
      " [4 5 6]\n",
      " [1 2 3]]\n",
      "[7 5 3]\n",
      "15\n"
     ]
    }
   ],
   "source": [
    "# Diagonal, trace , reverse diagonal\n",
    "print(A2D)\n",
    "print(A2D.diagonal())\n",
    "print(A2D.trace())\n",
    "print(\"--\"*5)\n",
    "print(np.fliplr(A2D))\n",
    "print(np.fliplr(A2D).diagonal())\n",
    "print(np.fliplr(A2D).trace())\n",
    "print(\"--\"*5)\n",
    "print(np.flipud(A2D))\n",
    "print(np.flipud(A2D).diagonal())\n",
    "print(np.flipud(A2D).trace())"
   ]
  },
  {
   "cell_type": "code",
   "execution_count": 107,
   "id": "4b008337",
   "metadata": {},
   "outputs": [
    {
     "name": "stdout",
     "output_type": "stream",
     "text": [
      "[[1 2 3]\n",
      " [4 5 6]\n",
      " [7 8 9]]\n",
      "[[1 4 7]\n",
      " [2 5 8]\n",
      " [3 6 9]]\n"
     ]
    }
   ],
   "source": [
    "# Transpose # Rows into cols\n",
    "print(A2D)\n",
    "print(A2D.transpose()) # rows into cols"
   ]
  },
  {
   "cell_type": "code",
   "execution_count": 116,
   "id": "55ae1d1c",
   "metadata": {},
   "outputs": [
    {
     "name": "stdout",
     "output_type": "stream",
     "text": [
      "[[1 2 3]\n",
      " [4 5 6]\n",
      " [7 8 9]]\n",
      "[[11 12 13]\n",
      " [14 15 16]\n",
      " [17 18 19]]\n",
      "[[12 14 16]\n",
      " [18 20 22]\n",
      " [24 26 28]]\n",
      "[[10 10 10]\n",
      " [10 10 10]\n",
      " [10 10 10]]\n"
     ]
    }
   ],
   "source": [
    "# Addition and subtraction\n",
    "A2d_1 = np.arange(1,10).reshape(3,3)\n",
    "A2d_2 = np.arange(11,20).reshape(3,3)\n",
    "print(A2d_1)\n",
    "print(A2d_2)\n",
    "# Sum\n",
    "print(A2d_1 + A2d_2)\n",
    "# Diff\n",
    "print(A2d_2 - A2d_1)"
   ]
  },
  {
   "cell_type": "code",
   "execution_count": 118,
   "id": "ba959936",
   "metadata": {},
   "outputs": [
    {
     "name": "stdout",
     "output_type": "stream",
     "text": [
      "[[ 90  96 102]\n",
      " [216 231 246]\n",
      " [342 366 390]]\n",
      "[[150 186 222]\n",
      " [186 231 276]\n",
      " [222 276 330]]\n"
     ]
    }
   ],
   "source": [
    "# Matrix multiplication ( row * col)\n",
    "print(A2d_1 @ A2d_2)\n",
    "print(A2d_2 @ A2d_1)\n",
    "\n",
    "#In matrix multiplication A@B != B@A"
   ]
  },
  {
   "cell_type": "code",
   "execution_count": 121,
   "id": "05aec46e",
   "metadata": {},
   "outputs": [
    {
     "name": "stdout",
     "output_type": "stream",
     "text": [
      "[[ 11  24  39]\n",
      " [ 56  75  96]\n",
      " [119 144 171]]\n",
      "[[ 11  24  39]\n",
      " [ 56  75  96]\n",
      " [119 144 171]]\n"
     ]
    }
   ],
   "source": [
    "#Element by element multiplication\n",
    "print(A2d_1 * A2d_2)\n",
    "print(A2d_2 * A2d_1)\n",
    "\n",
    "# A*B == B **A"
   ]
  },
  {
   "cell_type": "code",
   "execution_count": 132,
   "id": "2b747e94",
   "metadata": {},
   "outputs": [
    {
     "name": "stdout",
     "output_type": "stream",
     "text": [
      "[ 1  2  3  4  5  6  7  8  9 10 11 12]\n",
      "3\n",
      "12\n",
      "[ 1  2  3  4  5  6  7  8  9 10 11 12]\n",
      "[ 1  2  3  4  5  6  7  8  9 10 11 12]\n",
      "[ 1  3  5  7  9 11]\n",
      "[12 11 10  9  8  7  6  5  4  3  2  1]\n",
      "[11 10  9]\n"
     ]
    }
   ],
   "source": [
    "#Indexing and slicing\n",
    "print(A1)\n",
    "print(A1[2])\n",
    "print(A1[-1])\n",
    "print(A1[:]) # Print all\n",
    "print(A1[::1]) # Print all ( Default move)\n",
    "print(A1[::2]) # Skip one element\n",
    "print(A1[::-1]) # Reverse print\n",
    "print(A1[-2:-5:-1])"
   ]
  },
  {
   "cell_type": "code",
   "execution_count": 138,
   "id": "231acde2",
   "metadata": {},
   "outputs": [
    {
     "name": "stdout",
     "output_type": "stream",
     "text": [
      "[[ 1  2  3  4]\n",
      " [ 5  6  7  8]\n",
      " [ 9 10 11 12]]\n",
      "1\n",
      "4\n",
      "12\n"
     ]
    }
   ],
   "source": [
    "#Indexing - extracting elements from 2Darray\n",
    "print(A2)\n",
    "print(A2[0,0])\n",
    "print(A2[0,3])\n",
    "print(A2[2,3])"
   ]
  },
  {
   "cell_type": "code",
   "execution_count": 152,
   "id": "cff1652c",
   "metadata": {},
   "outputs": [
    {
     "name": "stdout",
     "output_type": "stream",
     "text": [
      "[[ 0  1  2  3  4  5  6  7]\n",
      " [ 8  9 10 11 12 13 14 15]\n",
      " [16 17 18 19 20 21 22 23]\n",
      " [24 25 26 27 28 29 30 31]\n",
      " [32 33 34 35 36 37 38 39]\n",
      " [40 41 42 43 44 45 46 47]\n",
      " [48 49 50 51 52 53 54 55]\n",
      " [56 57 58 59 60 61 62 63]]\n",
      "[[ 0  1  2  3  4  5  6  7]\n",
      " [ 8  9 10 11 12 13 14 15]\n",
      " [16 17 18 19 20 21 22 23]]\n",
      "[ 1  9 17 25 33 41 49 57]\n",
      "[ 0  8 16 24 32 40 48 56]\n",
      "[[ 0  1]\n",
      " [ 8  9]\n",
      " [16 17]\n",
      " [24 25]\n",
      " [32 33]\n",
      " [40 41]\n",
      " [48 49]\n",
      " [56 57]]\n",
      "[[ 0  1  2  3  4  5  6  7]\n",
      " [ 8  9 10 11 12 13 14 15]\n",
      " [16 17 18 19 20 21 22 23]]\n",
      "[[0 1]\n",
      " [8 9]]\n"
     ]
    }
   ],
   "source": [
    "# Slicing - 2Darray\n",
    "A2 = np.arange(64).reshape(8,8)\n",
    "print(A2)\n",
    "print(A2[0:3,::]) # row 0-3 , cols all\n",
    "print(A2[:,1]) # all rows , col 1st\n",
    "print(A2[:,0]) # all rows , col 0th\n",
    "print(A2[:,0:2]) # all rows , first 2 cols\n",
    "print(A2[0:3,::]) # first 3 rows , all cols\n",
    "print(A2[:2,:2]) # first 2 rows and cols"
   ]
  },
  {
   "cell_type": "code",
   "execution_count": 160,
   "id": "8693f026",
   "metadata": {},
   "outputs": [
    {
     "name": "stdout",
     "output_type": "stream",
     "text": [
      "(5,) (1,) (3,)\n",
      "[3 4 5 6 7]\n",
      "[3 3 3]\n"
     ]
    },
    {
     "ename": "ValueError",
     "evalue": "operands could not be broadcast together with shapes (5,) (3,) ",
     "output_type": "error",
     "traceback": [
      "\u001b[0;31m---------------------------------------------------------------------------\u001b[0m",
      "\u001b[0;31mValueError\u001b[0m                                Traceback (most recent call last)",
      "Cell \u001b[0;32mIn[160], line 8\u001b[0m\n\u001b[1;32m      6\u001b[0m \u001b[38;5;28mprint\u001b[39m(a1\u001b[38;5;241m+\u001b[39mb1) \u001b[38;5;66;03m# either shape should match or shape should be 1 \u001b[39;00m\n\u001b[1;32m      7\u001b[0m \u001b[38;5;28mprint\u001b[39m(b1\u001b[38;5;241m+\u001b[39mc1) \n\u001b[0;32m----> 8\u001b[0m \u001b[38;5;28mprint\u001b[39m(a1\u001b[38;5;241m+\u001b[39mc1)\n",
      "\u001b[0;31mValueError\u001b[0m: operands could not be broadcast together with shapes (5,) (3,) "
     ]
    }
   ],
   "source": [
    "#Broadcasting\n",
    "a1 = np.array([1,2,3,4,5])\n",
    "b1 = np.array([2])\n",
    "c1 = np.array([1,1,1])\n",
    "print(a1.shape , b1.shape , c1.shape)\n",
    "print(a1+b1) # either shape should match or shape should be 1 \n",
    "print(b1+c1) \n",
    "#print(a1+c1) #this would throw error as shapes dont match"
   ]
  },
  {
   "cell_type": "code",
   "execution_count": 165,
   "id": "82e8bede",
   "metadata": {},
   "outputs": [
    {
     "name": "stdout",
     "output_type": "stream",
     "text": [
      "[[ 0  0  0]\n",
      " [10 10 10]\n",
      " [20 20 20]\n",
      " [30 30 30]]\n",
      "(4, 3)\n",
      "[[1 2 3]]\n",
      "(1, 3)\n",
      "[[ 1  2  3]\n",
      " [11 12 13]\n",
      " [21 22 23]\n",
      " [31 32 33]]\n"
     ]
    }
   ],
   "source": [
    "# Broadcasting 2DArray\n",
    "'''\n",
    "When a matrix is added to row vector , cols should match\n",
    "When a matrix is added to col vector , rows should match\n",
    "'''\n",
    "\n",
    "a = np.array([[0,0,0], [10,10,10], [20,20,20], [ 30,30,30]]) \n",
    "print(a)\n",
    "print(a.shape) # 4 * 3 matrix\n",
    "\n",
    "b = np.array([[1,2,3]])\n",
    "print(b)\n",
    "print(b.shape) # 1 * 3 matix , since this is a row vector , cols size should match\n",
    "\n",
    "print(a+b)"
   ]
  },
  {
   "cell_type": "code",
   "execution_count": 168,
   "id": "5c5a7647",
   "metadata": {},
   "outputs": [
    {
     "name": "stdout",
     "output_type": "stream",
     "text": [
      "[[ 0  0  0]\n",
      " [10 10 10]\n",
      " [20 20 20]\n",
      " [30 30 30]]\n",
      "[[1]\n",
      " [2]\n",
      " [3]\n",
      " [4]]\n",
      "(4, 1)\n",
      "[[ 1  1  1]\n",
      " [12 12 12]\n",
      " [23 23 23]\n",
      " [34 34 34]]\n"
     ]
    }
   ],
   "source": [
    "print(a) # 4 * 3 matrix\n",
    "\n",
    "b = np.array([[1],[2],[3],[4]])\n",
    "print(b)\n",
    "print(b.shape) # 4 * 1 matrix , this is a col vector , hence rows should match\n",
    "\n",
    "print(a+b)"
   ]
  },
  {
   "cell_type": "code",
   "execution_count": 175,
   "id": "861cf759",
   "metadata": {},
   "outputs": [
    {
     "name": "stdout",
     "output_type": "stream",
     "text": [
      "[[ 0  0  0]\n",
      " [10 10 10]\n",
      " [20 20 20]\n",
      " [30 30 30]]\n",
      "[1 2]\n",
      "(2,)\n",
      "[[ 1  2  3]\n",
      " [11 12 13]\n",
      " [21 22 23]\n",
      " [31 32 33]]\n"
     ]
    }
   ],
   "source": [
    "print(a) # 4 * 3\n",
    "\n",
    "b = np.array([1,2])\n",
    "print(b)\n",
    "print(b.shape) # 1 * 2 , its a row vector , hence col should match\n",
    "#print(a + b) # throws an error\n",
    "\n",
    "#to fix\n",
    "b = b = np.array([1,2,3])\n",
    "print(a + b) # throws an error"
   ]
  }
 ],
 "metadata": {
  "kernelspec": {
   "display_name": "Python 3 (ipykernel)",
   "language": "python",
   "name": "python3"
  },
  "language_info": {
   "codemirror_mode": {
    "name": "ipython",
    "version": 3
   },
   "file_extension": ".py",
   "mimetype": "text/x-python",
   "name": "python",
   "nbconvert_exporter": "python",
   "pygments_lexer": "ipython3",
   "version": "3.11.5"
  }
 },
 "nbformat": 4,
 "nbformat_minor": 5
}
