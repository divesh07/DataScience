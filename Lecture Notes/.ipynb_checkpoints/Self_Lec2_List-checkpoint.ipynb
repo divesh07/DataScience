{
 "cells": [
  {
   "cell_type": "code",
   "execution_count": 1,
   "id": "9545cfd1",
   "metadata": {},
   "outputs": [
    {
     "data": {
      "text/plain": [
       "' \\nList,Tuple and Dictionary are Ordered\\nList , Set and Dictionary and Mutable  \\n\\nSet is Unordered\\nTuple is Immutable\\n\\n'"
      ]
     },
     "execution_count": 1,
     "metadata": {},
     "output_type": "execute_result"
    }
   ],
   "source": [
    "''' \n",
    "List,Tuple and Dictionary are Ordered\n",
    "List , Set and Dictionary and Mutable  \n",
    "\n",
    "Set is Unordered\n",
    "Tuple is Immutable\n",
    "\n",
    "'''"
   ]
  },
  {
   "cell_type": "code",
   "execution_count": 10,
   "id": "59e3f8f8",
   "metadata": {},
   "outputs": [
    {
     "name": "stdout",
     "output_type": "stream",
     "text": [
      "[5, 6, 'a', 'b', 2.12]\n",
      "<class 'list'>\n",
      "5\n",
      "<class 'int'>\n",
      "<class 'str'>\n"
     ]
    }
   ],
   "source": [
    "#Hetrogenous\n",
    "L1 = [5,6,'a',\"b\",2.12]\n",
    "print(L1)\n",
    "print(type(L1))\n",
    "print(len(L1))\n",
    "print(type(L1[0]))\n",
    "print(type(L1[2]))"
   ]
  },
  {
   "cell_type": "code",
   "execution_count": 25,
   "id": "242978e3",
   "metadata": {},
   "outputs": [
    {
     "name": "stdout",
     "output_type": "stream",
     "text": [
      "2\n",
      "10\n",
      "20\n",
      "20\n",
      "[2, 4, 6, 8, 10, 12, 14, 16, 18]\n",
      "[2, 6, 10, 14, 18]\n",
      "[2, 8, 14]\n",
      "[2, 4, 6, 8, 10, 12, 14, 16, 18, 20]\n",
      "[2, 6, 10, 14, 18]\n",
      "[2, 4, 6, 8, 10, 12, 14, 16, 18, 20]\n",
      "[2, 4, 6, 8, 10, 12, 14, 16, 18, 20]\n",
      "[20, 18, 16, 14, 12, 10, 8, 6, 4, 2]\n",
      "[20, 16, 12, 8, 4]\n"
     ]
    }
   ],
   "source": [
    "#Slicing\n",
    "l1 = [2,4,6,8,10,12,14,16,18,20]\n",
    "print(l1[0])\n",
    "print(len(l1))\n",
    "print(l1[len(l1)-1])\n",
    "print(l1[9])\n",
    "\n",
    "print(l1[0:9])\n",
    "print(l1[0:9:2])\n",
    "print(l1[0:9:3])\n",
    "print(l1[0:10])\n",
    "print(l1[0:10:2])\n",
    "print(l1[:])\n",
    "print(l1[::1])\n",
    "print(l1[::-1])\n",
    "print(l1[::-2])"
   ]
  },
  {
   "cell_type": "code",
   "execution_count": 41,
   "id": "716ada0d",
   "metadata": {},
   "outputs": [
    {
     "name": "stdout",
     "output_type": "stream",
     "text": [
      "20\n",
      "[20, 18, 16, 14, 12, 10, 8, 6, 4]\n",
      "[14, 16]\n",
      "[10, 12, 14, 16, 18]\n",
      "[20, 16, 12]\n",
      "[10, 12, 14, 16, 18, 20]\n"
     ]
    }
   ],
   "source": [
    "#Negative indexing\n",
    "# Starts with -1\n",
    "\n",
    "l1 = [2,4,6,8,10,12,14,16,18,20]\n",
    "print(l1[-1])\n",
    "print(l1[-1:-10:-1])\n",
    "print(l1[-4:-2:1])\n",
    "print(l1[-6:-1])\n",
    "print(l1[-1:-6:-2])\n",
    "print(l1[-6:])"
   ]
  },
  {
   "cell_type": "code",
   "execution_count": 42,
   "id": "582ee7b0",
   "metadata": {},
   "outputs": [
    {
     "name": "stdout",
     "output_type": "stream",
     "text": [
      "[10, 2, 3, 4, 5, 25]\n"
     ]
    }
   ],
   "source": [
    "l1= [ 1,2,3,4,5,6]\n",
    "l1[0] = 10\n",
    "l1[-1] = 25\n",
    "print(l1)"
   ]
  },
  {
   "cell_type": "code",
   "execution_count": 48,
   "id": "d6989014",
   "metadata": {},
   "outputs": [
    {
     "name": "stdout",
     "output_type": "stream",
     "text": [
      "3\n",
      "[1, 2, 3, ['a', 'b', 'c']]\n",
      "4\n",
      "['a', 'b', 'c']\n",
      "['a', 'b', 'c']\n",
      "a\n"
     ]
    }
   ],
   "source": [
    "#Adding / Removing elements\n",
    "\n",
    "# Append() to add elements\n",
    "\n",
    "l1 = [ 1,2,3]\n",
    "l2 = ['a','b','c']\n",
    "print ( len(l1))\n",
    "l1.append(l2)\n",
    "print(l1)\n",
    "print ( len(l1))\n",
    "print(l1[-1])\n",
    "print(l1[3])\n",
    "print(l1[3][0])"
   ]
  },
  {
   "cell_type": "code",
   "execution_count": 64,
   "id": "c0eac1b9",
   "metadata": {},
   "outputs": [
    {
     "name": "stdout",
     "output_type": "stream",
     "text": [
      "[1, 2, 3]\n",
      "[1, 2, 3, 4]\n",
      "[5, 1, 2, 3, 4]\n",
      "[6, 5, 1, 2, 3, 4]\n"
     ]
    }
   ],
   "source": [
    "#insert (pos, value) - to add a particular pos ( index)\n",
    "\n",
    "l1 = [ 1,2,3]\n",
    "print(l1)\n",
    "l1.insert(3,4)\n",
    "print(l1)\n",
    "l1.insert(-4,5)\n",
    "print(l1)\n",
    "l1.insert(-5,6)\n",
    "print(l1)"
   ]
  },
  {
   "cell_type": "code",
   "execution_count": 66,
   "id": "e54af736",
   "metadata": {},
   "outputs": [
    {
     "name": "stdout",
     "output_type": "stream",
     "text": [
      "3\n",
      "[1, 2, 3, 'a', 'b', 'c']\n",
      "6\n",
      "b\n"
     ]
    }
   ],
   "source": [
    "#using extend() - add elements at the end of the list\n",
    "l1 = [ 1,2,3]\n",
    "l2 = ['a','b','c']\n",
    "print (len(l1))\n",
    "l1.extend(l2)\n",
    "print (l1)\n",
    "print (len(l1))\n",
    "print (l1[4])\n"
   ]
  },
  {
   "cell_type": "code",
   "execution_count": 69,
   "id": "0cc6fa78",
   "metadata": {},
   "outputs": [
    {
     "name": "stdout",
     "output_type": "stream",
     "text": [
      "[1, 2, 4, 5, 6, 7, 8, 5, 10]\n"
     ]
    }
   ],
   "source": [
    "#remove - one element at a time , removes first occurence of the element, throws error if element doesnt exist\n",
    "\n",
    "l1 = [1, 2, 3, 4, 5, 6,7, 8, 5, 10] \n",
    "l1.remove(3)\n",
    "print(l1)"
   ]
  },
  {
   "cell_type": "code",
   "execution_count": 75,
   "id": "9bd21af8",
   "metadata": {},
   "outputs": [
    {
     "name": "stdout",
     "output_type": "stream",
     "text": [
      "[8, 5, 10]\n",
      "[1, 2, 3, 4, 5, 6, 7]\n",
      "7\n",
      "[1, 2, 3, 4, 5, 6]\n",
      "1\n",
      "[2, 3, 4, 5, 6]\n"
     ]
    }
   ],
   "source": [
    "#Pop() , removes last element if index is not provided and returns the element \n",
    "\n",
    "l1 = [1, 2, 3, 4, 5, 6,7, [8, 5, 10] ]\n",
    "l2 = l1.pop()\n",
    "print(l2)\n",
    "print(l1)\n",
    "\n",
    "print(l1.pop(-1))\n",
    "print(l1)\n",
    "print(l1.pop(0))\n",
    "print(l1)"
   ]
  },
  {
   "cell_type": "code",
   "execution_count": 81,
   "id": "72f73e3b",
   "metadata": {},
   "outputs": [
    {
     "name": "stdout",
     "output_type": "stream",
     "text": [
      "[1, 2, 3, 4, 5, 6, [7, 8, 9]]\n",
      "[7, 8, 9]\n",
      "[1, 2, 3, 4, 5, 6, [7, 9]]\n"
     ]
    }
   ],
   "source": [
    "#nested list\n",
    "l1 = [1,2,3]\n",
    "l2 = [ 4,5,6,[7,8,9]]\n",
    "\n",
    "l1.extend(l2)\n",
    "print(l1)\n",
    "\n",
    "print(l1[6])\n",
    "l1[6].remove(8)\n",
    "print(l1)\n"
   ]
  },
  {
   "cell_type": "code",
   "execution_count": 93,
   "id": "0417ff93",
   "metadata": {},
   "outputs": [
    {
     "name": "stdout",
     "output_type": "stream",
     "text": [
      "[1, 2, 3, 8, 5, [6, 7, 8], [8, 9, 10]]\n",
      "[1, 2, 3, 8, 5, [6, 7, 8], [9, 10]]\n",
      "[1, 2, 3, 5, [6, 7, 8], [9, 10]]\n",
      "[6, 7, 8]\n",
      "[9, 10]\n"
     ]
    }
   ],
   "source": [
    "# ************* IMPORTANT ******************************\n",
    "# ******************************************************\n",
    "\n",
    "l1 = [1,2,3,8,5]\n",
    "l2 = [6,7,8]\n",
    "l3 = [ 8,9,10]\n",
    "l1.append(l2)\n",
    "l1.append(l3)\n",
    "print(l1)\n",
    "l1[6].remove(8)\n",
    "print(l1)\n",
    "l1.remove(8)\n",
    "print(l1)\n",
    "print(l2) # \n",
    "print(l3) # 8 is removed from list 3"
   ]
  },
  {
   "cell_type": "code",
   "execution_count": 96,
   "id": "a83ad7a0",
   "metadata": {},
   "outputs": [
    {
     "name": "stdout",
     "output_type": "stream",
     "text": [
      "[1, 2, 3, 5, [6, 7, 8]]\n",
      "[1, 2, 3, 5, [6, 7, 8], [6, 7, 8]]\n",
      "8\n",
      "[1, 2, 3, 5, [6, 7], [6, 7]]\n",
      "[6, 7]\n"
     ]
    }
   ],
   "source": [
    "# ************* IMPORTANT ******************************\n",
    "# ******************************************************\n",
    "l1=[1,2,3,5]\n",
    "l2=[6,7,8]\n",
    "l1.append(l2)\n",
    "print(l1)\n",
    "l1.append(l2)\n",
    "print(l1)\n",
    "print(l1[5].pop()) #Element 8 is removed from l2\n",
    "print(l1)\n",
    "print(l2)"
   ]
  },
  {
   "cell_type": "code",
   "execution_count": 103,
   "id": "500a6673",
   "metadata": {},
   "outputs": [
    {
     "name": "stdout",
     "output_type": "stream",
     "text": [
      "[1, 2]\n",
      "[1, 2, [3, 4]]\n",
      "[1, 2, [3, 4], 5, 6]\n",
      "1\n",
      "1\n"
     ]
    }
   ],
   "source": [
    "#Append()\n",
    "\n",
    "l1= []\n",
    "l1.append(1)\n",
    "l1.append(2)\n",
    "print(l1)\n",
    "l1.append([3,4])\n",
    "print(l1)\n",
    "l1.extend([5,6])\n",
    "print(l1)\n",
    "print(l1.count(6))\n",
    "print(l1[2].count(3))"
   ]
  },
  {
   "cell_type": "code",
   "execution_count": 2,
   "id": "30832bd5",
   "metadata": {},
   "outputs": [
    {
     "name": "stdout",
     "output_type": "stream",
     "text": [
      "2\n",
      "[5, 3, 2, 1]\n",
      "[1, 2, 3, 5]\n",
      "None\n"
     ]
    }
   ],
   "source": [
    "l1=[1,2,3,5]\n",
    "print(l1.index(3)) # returns index of element 3 ( first occurence)\n",
    "\n",
    "l1.reverse() #reverse the list\n",
    "print(l1)\n",
    "\n",
    "l1.sort() # Asc order\n",
    "print(l1)\n",
    "\n",
    "l1 = [ 'a','b','c','d','e']\n",
    "print(l1.sort())"
   ]
  },
  {
   "cell_type": "code",
   "execution_count": null,
   "id": "9c8046b7",
   "metadata": {},
   "outputs": [],
   "source": []
  }
 ],
 "metadata": {
  "kernelspec": {
   "display_name": "Python 3 (ipykernel)",
   "language": "python",
   "name": "python3"
  },
  "language_info": {
   "codemirror_mode": {
    "name": "ipython",
    "version": 3
   },
   "file_extension": ".py",
   "mimetype": "text/x-python",
   "name": "python",
   "nbconvert_exporter": "python",
   "pygments_lexer": "ipython3",
   "version": "3.11.5"
  }
 },
 "nbformat": 4,
 "nbformat_minor": 5
}
