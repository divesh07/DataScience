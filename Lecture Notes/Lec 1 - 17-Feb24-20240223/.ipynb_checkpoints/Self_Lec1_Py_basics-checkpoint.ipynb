{
 "cells": [
  {
   "cell_type": "code",
   "execution_count": 1,
   "id": "65ee1569",
   "metadata": {},
   "outputs": [
    {
     "name": "stdout",
     "output_type": "stream",
     "text": [
      "3.11.5 (main, Sep 11 2023, 08:31:25) [Clang 14.0.6 ]\n"
     ]
    }
   ],
   "source": [
    "#Lect 1\n",
    "\n",
    "'''Python basics'''\n",
    "\n",
    "import sys\n",
    "print (sys.version)"
   ]
  },
  {
   "cell_type": "code",
   "execution_count": 2,
   "id": "978de123",
   "metadata": {},
   "outputs": [
    {
     "data": {
      "text/plain": [
       "['shell  0.00s user 0.01s system 257% cpu 0.006 total',\n",
       " 'children  0.00s user 0.00s system 0% cpu 0.006 total']"
      ]
     },
     "execution_count": 2,
     "metadata": {},
     "output_type": "execute_result"
    }
   ],
   "source": [
    "%system time"
   ]
  },
  {
   "cell_type": "code",
   "execution_count": 14,
   "id": "1988b72d",
   "metadata": {},
   "outputs": [
    {
     "name": "stdout",
     "output_type": "stream",
     "text": [
      "a\n",
      "2\n",
      "A B c\n",
      "1 1 1\n"
     ]
    }
   ],
   "source": [
    "var1 = 'a'\n",
    "print (var1)\n",
    "var = 2\n",
    "print (var)\n",
    "a,b,c = \"A\",'B', 'c'\n",
    "print(a,b,c)\n",
    "x = y = z = 1\n",
    "print(x,y,z)"
   ]
  },
  {
   "cell_type": "code",
   "execution_count": 15,
   "id": "61fb0eb9",
   "metadata": {},
   "outputs": [
    {
     "name": "stdout",
     "output_type": "stream",
     "text": [
      " x and y 7\n"
     ]
    }
   ],
   "source": [
    "x=2\n",
    "y=5\n",
    "xy = ' x and y'\n",
    "print(xy, x+y)"
   ]
  },
  {
   "cell_type": "code",
   "execution_count": 21,
   "id": "2866e434",
   "metadata": {},
   "outputs": [
    {
     "name": "stdout",
     "output_type": "stream",
     "text": [
      "6\n",
      "27\n",
      "4.5\n",
      "4\n",
      "1\n"
     ]
    }
   ],
   "source": [
    "# Arithmetic operators\n",
    "print(3*2)\n",
    "print(3**3)\n",
    "print(9/2)\n",
    "print(9//2) # Floor division - Quotient\n",
    "print(9%2) # Remainder"
   ]
  },
  {
   "cell_type": "code",
   "execution_count": 25,
   "id": "7fca496e",
   "metadata": {},
   "outputs": [
    {
     "name": "stdout",
     "output_type": "stream",
     "text": [
      "16\n",
      "1.4142135623730951\n",
      "1.414\n"
     ]
    }
   ],
   "source": [
    "# Operator precedence - BODMAS ( Bracket , Division, Multi , Add , Sub)\n",
    "\n",
    "print ( 2**4 )\n",
    "print(2**0.5)\n",
    "print(round(2**0.5,3)) # Round off upto 3 digits after decimal"
   ]
  },
  {
   "cell_type": "code",
   "execution_count": 36,
   "id": "24e8f5d3",
   "metadata": {},
   "outputs": [
    {
     "name": "stdout",
     "output_type": "stream",
     "text": [
      "0.5\n",
      "512\n"
     ]
    }
   ],
   "source": [
    "print((2+3)*5/2% 6) \n",
    "# 5 * 5/2 % 6 == 5 * 2.5 % 6 == 12.5 % 6 == 0.5\n",
    "\n",
    "print(2**3**2) # 2e9 Associativity from right to left"
   ]
  },
  {
   "cell_type": "code",
   "execution_count": 42,
   "id": "ded16aba",
   "metadata": {},
   "outputs": [
    {
     "name": "stdout",
     "output_type": "stream",
     "text": [
      "18\n",
      "10\n",
      "80\n",
      "10.0\n",
      "20.0\n"
     ]
    }
   ],
   "source": [
    "# Assignment Operators\n",
    "a =10\n",
    "a +=8\n",
    "print(a)\n",
    "a -=8\n",
    "print(a)\n",
    "a *=8\n",
    "print(a)\n",
    "a /=8\n",
    "print(a)\n",
    "a *=2\n",
    "print(a)"
   ]
  },
  {
   "cell_type": "code",
   "execution_count": 45,
   "id": "ef754fea",
   "metadata": {},
   "outputs": [
    {
     "name": "stdout",
     "output_type": "stream",
     "text": [
      "1\n",
      "True\n",
      "False\n"
     ]
    }
   ],
   "source": [
    "# Relational Operators\n",
    "\n",
    "z=1\n",
    "print (z)\n",
    "print(z == 1)\n",
    "print (z != 1)\n"
   ]
  },
  {
   "cell_type": "code",
   "execution_count": 61,
   "id": "082ddf89",
   "metadata": {},
   "outputs": [
    {
     "name": "stdout",
     "output_type": "stream",
     "text": [
      "10 4\n",
      "0\n",
      "14\n",
      "14\n",
      "10\n",
      "-11\n"
     ]
    }
   ],
   "source": [
    "#Bitwise Operator\n",
    "a,b = 10,4\n",
    "print(a,b)\n",
    "print(a & b )\n",
    "print ( a | b)\n",
    "print (a^ b)\n",
    "print (a)\n",
    "print(~a) # One's complement - invert the bits"
   ]
  },
  {
   "cell_type": "code",
   "execution_count": 54,
   "id": "972d5749",
   "metadata": {},
   "outputs": [
    {
     "name": "stdout",
     "output_type": "stream",
     "text": [
      "0b1010\n",
      "0b100\n"
     ]
    }
   ],
   "source": [
    "print (bin(10))\n",
    "print (bin(4))"
   ]
  },
  {
   "cell_type": "code",
   "execution_count": 69,
   "id": "f30ee2dc",
   "metadata": {},
   "outputs": [
    {
     "name": "stdout",
     "output_type": "stream",
     "text": [
      "5\n",
      "20\n"
     ]
    }
   ],
   "source": [
    "#Right shift\n",
    "a = 10\n",
    "print(a >> 1) #Right shift\n",
    "\n",
    "print(a << 1)  #Left shift"
   ]
  },
  {
   "cell_type": "code",
   "execution_count": 73,
   "id": "c9f69bbe",
   "metadata": {},
   "outputs": [
    {
     "name": "stdout",
     "output_type": "stream",
     "text": [
      "6\n",
      "5\n",
      "5.44\n"
     ]
    }
   ],
   "source": [
    "#Bulit in functions\n",
    "print(round(5.54321)) # 5 or more after decimals , rounds off to 6\n",
    "print(round(5.4321)) # less than 5 , so rounds off to 4\n",
    "print(round(5.44321,2)) # truncate to 2 decimals"
   ]
  },
  {
   "cell_type": "code",
   "execution_count": 74,
   "id": "c00f342b",
   "metadata": {},
   "outputs": [
    {
     "data": {
      "text/plain": [
       "(4, 1)"
      ]
     },
     "execution_count": 74,
     "metadata": {},
     "output_type": "execute_result"
    }
   ],
   "source": [
    "divmod(9,2) #tuple of ( Remainder, quotient)"
   ]
  },
  {
   "cell_type": "code",
   "execution_count": 77,
   "id": "39e4532c",
   "metadata": {},
   "outputs": [
    {
     "data": {
      "text/plain": [
       "2"
      ]
     },
     "execution_count": 77,
     "metadata": {},
     "output_type": "execute_result"
    }
   ],
   "source": [
    "x,y = 3,3\n",
    "pow(x,y) # x**y\n",
    "pow(3,3) # x**y\n",
    "pow(3,3,5) # (3**3) % 5 = 27%5 = 2"
   ]
  },
  {
   "cell_type": "code",
   "execution_count": 83,
   "id": "9169eca7",
   "metadata": {},
   "outputs": [
    {
     "name": "stdout",
     "output_type": "stream",
     "text": [
      "type anything10\n",
      "10\n",
      "enter a no10\n",
      "11\n"
     ]
    }
   ],
   "source": [
    "abc = input('type anything')\n",
    "print(abc)\n",
    "n = int(input('enter a no')) # typecast to int\n",
    "n +=1\n",
    "print(n)\n"
   ]
  },
  {
   "cell_type": "code",
   "execution_count": 84,
   "id": "4a803ac4",
   "metadata": {},
   "outputs": [
    {
     "name": "stdout",
     "output_type": "stream",
     "text": [
      "Enter name and age:div,10\n",
      "div 10\n"
     ]
    }
   ],
   "source": [
    "#Split()\n",
    "\n",
    "name , age = input(\"Enter name and age:\").split(',')\n",
    "print(name,age)"
   ]
  },
  {
   "cell_type": "code",
   "execution_count": 87,
   "id": "60457539",
   "metadata": {},
   "outputs": [
    {
     "name": "stdout",
     "output_type": "stream",
     "text": [
      "6 bananas cost Rs 30.00\n",
      "6 bananas cost Rs 30.000\n"
     ]
    }
   ],
   "source": [
    "#Formatting\n",
    "\n",
    "print('%d %s cost Rs %.2f' % (6,'bananas',30))\n",
    "print('%d %s cost Rs %.3f' % (6,'bananas',30))"
   ]
  },
  {
   "cell_type": "code",
   "execution_count": 91,
   "id": "53b9f6e8",
   "metadata": {},
   "outputs": [
    {
     "name": "stdout",
     "output_type": "stream",
     "text": [
      "1 \n",
      " 2 \t 3 \b 4\n"
     ]
    }
   ],
   "source": [
    "print(1,\"\\n\",2,'\\t',3 ,'\\b',4 )"
   ]
  },
  {
   "cell_type": "code",
   "execution_count": 99,
   "id": "406618eb",
   "metadata": {},
   "outputs": [
    {
     "name": "stdout",
     "output_type": "stream",
     "text": [
      "single quote's\n",
      "double quotes\n",
      "single quotes\n",
      "triple\n",
      "quotes\n"
     ]
    }
   ],
   "source": [
    "s1 = \"single quote's\"\n",
    "print(s1)\n",
    "s2 = \"double quotes\"\n",
    "print(s2)\n",
    "s3 = 'single quotes'\n",
    "print(s3)\n",
    "s4 = '''triple\n",
    "quotes'''\n",
    "print(s4)"
   ]
  },
  {
   "cell_type": "code",
   "execution_count": 111,
   "id": "d8e02f35",
   "metadata": {},
   "outputs": [
    {
     "name": "stdout",
     "output_type": "stream",
     "text": [
      "p\n",
      "6\n",
      "python\n",
      "PYTHON\n",
      "python PYTHON\n",
      "python PYTHONpython PYTHON3\n",
      "python PYTHONpython PYTHON3\n"
     ]
    }
   ],
   "source": [
    "s5= 'python'\n",
    "print(s5[0])\n",
    "print(len(s5))\n",
    "print(s5.lower())\n",
    "print(s5.upper())\n",
    "s6 = s5.lower()\n",
    "s7 = s5.upper()\n",
    "s8 = s6 + \" \" + s7\n",
    "print(s8)\n",
    "s9 = s8 * 2\n",
    "print(s9 + str(3))\n",
    "print(s9 + '3')"
   ]
  },
  {
   "cell_type": "code",
   "execution_count": 115,
   "id": "606d79bb",
   "metadata": {},
   "outputs": [
    {
     "name": "stdout",
     "output_type": "stream",
     "text": [
      "Variable   Type      Data/Info\n",
      "------------------------------\n",
      "a          int       10\n",
      "abc        str       10\n",
      "age        str       10\n",
      "b          int       4\n",
      "c          str       c\n",
      "n          int       11\n",
      "name       str       div\n",
      "s1         str       single quote's\n",
      "s2         str       double quotes\n",
      "s3         str       single quotes\n",
      "s4         str       triple\\nquotes\n",
      "s5         str       python\n",
      "s6         str       python\n",
      "s7         str       PYTHON\n",
      "s8         str       python PYTHON\n",
      "s9         str       python PYTHONpython PYTHON\n",
      "sys        module    <module 'sys' (built-in)>\n",
      "var        int       2\n",
      "var1       str       a\n",
      "x          int       3\n",
      "xy         str        x and y\n",
      "y          int       3\n",
      "z          int       1\n"
     ]
    }
   ],
   "source": [
    "%whos"
   ]
  },
  {
   "cell_type": "code",
   "execution_count": 114,
   "id": "9dd1e325",
   "metadata": {},
   "outputs": [
    {
     "name": "stdout",
     "output_type": "stream",
     "text": [
      "a\t abc\t age\t b\t c\t n\t name\t s1\t s2\t \n",
      "s3\t s4\t s5\t s6\t s7\t s8\t s9\t sys\t var\t \n",
      "var1\t x\t xy\t y\t z\t \n"
     ]
    }
   ],
   "source": [
    "%who"
   ]
  },
  {
   "cell_type": "code",
   "execution_count": null,
   "id": "0f4cd737",
   "metadata": {},
   "outputs": [],
   "source": []
  }
 ],
 "metadata": {
  "kernelspec": {
   "display_name": "Python 3 (ipykernel)",
   "language": "python",
   "name": "python3"
  },
  "language_info": {
   "codemirror_mode": {
    "name": "ipython",
    "version": 3
   },
   "file_extension": ".py",
   "mimetype": "text/x-python",
   "name": "python",
   "nbconvert_exporter": "python",
   "pygments_lexer": "ipython3",
   "version": "3.11.5"
  }
 },
 "nbformat": 4,
 "nbformat_minor": 5
}
