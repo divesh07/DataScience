{
 "cells": [
  {
   "cell_type": "markdown",
   "metadata": {},
   "source": [
    " ### Python control structures\n",
    "\n",
    "* Structure theorem states that any computer program can be written using the basic control structures.\n",
    "* A control structure (or flow of control) is a block of programming that helps in the basic decision-making process. The flow of control determines the response when certain conditions and parameters are given.\n",
    "* Most programs will require ‘Loops’ and ‘Branching’ constructs.\n",
    "* The if, elif, else statements allow for branching in code.\n",
    "* The for and while statements allow for looping through sections of code\n",
    "* The programmer must provide a condition to end a while loop."
   ]
  },
  {
   "cell_type": "markdown",
   "metadata": {},
   "source": [
    "### Python - if, elif, else Conditions"
   ]
  },
  {
   "cell_type": "markdown",
   "metadata": {},
   "source": [
    "#### Simple Example: if Condition\n",
    "#### Note the colon and the indentation"
   ]
  },
  {
   "cell_type": "code",
   "execution_count": null,
   "metadata": {},
   "outputs": [],
   "source": [
    "cost = 10\n",
    "if cost < 100:\n",
    "    print(\"cost is less than 100\")"
   ]
  },
  {
   "cell_type": "markdown",
   "metadata": {},
   "source": [
    "#### multiple statements in the if block"
   ]
  },
  {
   "cell_type": "code",
   "execution_count": null,
   "metadata": {},
   "outputs": [],
   "source": [
    "cost = 10\n",
    "quantity = 20\n",
    "if cost*quantity < 700:\n",
    "    print(\"price*quantity is less than 500\")\n",
    "    print(\"price = \", cost)\n",
    "    print(\"quantity = \", quantity)"
   ]
  },
  {
   "cell_type": "markdown",
   "metadata": {},
   "source": [
    "#### Python's sensitivity towards indentation"
   ]
  },
  {
   "cell_type": "code",
   "execution_count": null,
   "metadata": {},
   "outputs": [],
   "source": [
    "### Invalid Indentation in the Block\n",
    "cost = 200\n",
    "quantity = 5\n",
    "if cost*quantity < 500:\n",
    "    print(\"price is less than 500\")\n",
    "print(\"price = \", cost)\n",
    "print(\"quantity = \", quantity)"
   ]
  },
  {
   "cell_type": "markdown",
   "metadata": {},
   "source": [
    "#### Another example of indentation (wrong indentation)"
   ]
  },
  {
   "cell_type": "code",
   "execution_count": null,
   "metadata": {},
   "outputs": [],
   "source": [
    "price = 50\n",
    "quantity = 5\n",
    "if price*quantity < 100:\n",
    "    print(\"price is less than 500\")\n",
    "    print(\"price = \", price)\n",
    "    print(\"quantity = \", quantity)\n",
    "    print(\"condition not satisfied and therefore the block is not executed\")"
   ]
  },
  {
   "cell_type": "markdown",
   "metadata": {},
   "source": [
    "#### Above example once again (correct indentation)"
   ]
  },
  {
   "cell_type": "code",
   "execution_count": null,
   "metadata": {},
   "outputs": [],
   "source": [
    "price = 50\n",
    "quantity = 5\n",
    "if price*quantity < 100:\n",
    "    print(\"price is less than 500\")\n",
    "    print(\"price = \", price)\n",
    "    print(\"quantity = \", quantity)\n",
    "print(\"condition not satisfied therefore the block was not executed\")"
   ]
  },
  {
   "cell_type": "markdown",
   "metadata": {},
   "source": [
    "#### Multiple if statements"
   ]
  },
  {
   "cell_type": "code",
   "execution_count": null,
   "metadata": {},
   "outputs": [],
   "source": [
    "### Example: Multiple if Conditions\n",
    "price = int(input(\"enter price:\"))\n",
    "quantity = int(input(\"enter quantity:\"))\n",
    "if price*quantity > 100:\n",
    "    print(\"price is greater than 100\")\n",
    "if price*quantity == 100:\n",
    "    print(\"price is 100\")\n",
    "if price*quantity < 100:\n",
    "    print(\"price is less than 100\")"
   ]
  },
  {
   "cell_type": "markdown",
   "metadata": {},
   "source": [
    "#### Including else with if"
   ]
  },
  {
   "cell_type": "code",
   "execution_count": null,
   "metadata": {},
   "outputs": [],
   "source": [
    "### Example: else Condition\n",
    "price = 200\n",
    "if price >= 100:\n",
    "    print(\"price is greater than 100\")\n",
    "else:\n",
    "    print(\"price is less than 100\")"
   ]
  },
  {
   "cell_type": "markdown",
   "metadata": {},
   "source": [
    "#### elif in place of if"
   ]
  },
  {
   "cell_type": "code",
   "execution_count": null,
   "metadata": {},
   "outputs": [],
   "source": [
    "### Example 1: if-elif Conditions\n",
    "price = 100\n",
    "if price > 100:\n",
    "    print(\"price is greater than 100\")\n",
    "elif price == 100:\n",
    "    print(\"price is 100\")\n",
    "elif price < 100:\n",
    "    print(\"price is less than 100\")"
   ]
  },
  {
   "cell_type": "code",
   "execution_count": null,
   "metadata": {},
   "outputs": [],
   "source": [
    "### Example 2:\n",
    "price = 50\n",
    "if price > 100:\n",
    "    print(\"price is greater than 100\")\n",
    "elif price == 100:\n",
    "    print(\"price is 100\")\n",
    "elif price < 100:\n",
    "    print(\"price is less than 100\")"
   ]
  },
  {
   "cell_type": "code",
   "execution_count": null,
   "metadata": {},
   "outputs": [],
   "source": [
    "### Example 2(again):\n",
    "price = 50\n",
    "if price > 100:\n",
    "    print(\"price is greater than 100\")\n",
    "elif price == 100:\n",
    "    print(\"price is 100\")\n",
    "else: \n",
    "    print(\"price is less than 100\")"
   ]
  },
  {
   "cell_type": "markdown",
   "metadata": {},
   "source": [
    "#### Nested if-elif-else Conditions (condition with in a condition)"
   ]
  },
  {
   "cell_type": "code",
   "execution_count": null,
   "metadata": {},
   "outputs": [],
   "source": [
    "price = 50\n",
    "quantity = 12\n",
    "amount = price*quantity\n",
    "### The threshosl amount is kept as 100\n",
    "if amount > 100:\n",
    "    if amount > 500: # To check if the amount is > 500 ##\n",
    "        print(\"Amount is greater than 500\")\n",
    "    else:\n",
    "        if amount < 500 and amount > 400:\n",
    "            print(\"Amount is between 400 and 500\")\n",
    "        elif amount < 500 and amount > 300:\n",
    "            print(\"Amount is between 300 and 500\")\n",
    "        else:\n",
    "            print(\"Amount is between 200 and 500\")\n",
    "elif amount == 100:\n",
    "    print(\"Amount is 100\")\n",
    "else:\n",
    "    print(\"Amount is less than 100\")"
   ]
  },
  {
   "cell_type": "markdown",
   "metadata": {},
   "source": [
    "## Loops\n",
    "1. while Loop\n",
    "2. for loop"
   ]
  },
  {
   "cell_type": "markdown",
   "metadata": {},
   "source": [
    "### 1. While Loop"
   ]
  },
  {
   "cell_type": "markdown",
   "metadata": {},
   "source": [
    "* The while loop is used to repeatedly execute lines of code until some condition becomes False.\n",
    "* For terminating the loop, the condition should be properly defined."
   ]
  },
  {
   "cell_type": "markdown",
   "metadata": {},
   "source": [
    "### Example while loop: to find the sum and product of first 10 natural numbers\n",
    "#### 1+2+...+10\n",
    "#### 1*2*3*...*10"
   ]
  },
  {
   "cell_type": "code",
   "execution_count": null,
   "metadata": {},
   "outputs": [],
   "source": [
    "# while loop\n",
    "n = 10        # defining an intial variable\n",
    "cur_sum = 0   # initializing the sum\n",
    "cur_prod = 1  # initializing the product. Find the product of first n natural numbers\n",
    "# sum of n  numbers\n",
    "i = 1\n",
    "while  i <= n :            ### Condition\n",
    "    cur_sum = cur_sum + i  ### updating the sum\n",
    "    cur_prod = cur_prod*i\n",
    "    i = i + 1 ### update i\n",
    "print(\"The sum and product of the numbers at the end of iteration\", cur_sum, \"and\", cur_prod)\n",
    "#### Sum of N numbers at the end of iteration 1 = \n",
    "#### Sum of N numbers at the end of iteration 2 = "
   ]
  },
  {
   "cell_type": "markdown",
   "metadata": {},
   "source": [
    "### Another way of giving the stopping/ termination condition"
   ]
  },
  {
   "cell_type": "code",
   "execution_count": null,
   "metadata": {},
   "outputs": [],
   "source": [
    "# while loop - summing the numbers 1 to 10\n",
    "n = 10\n",
    "cur_sum = 0\n",
    "# sum of n  numbers\n",
    "i = 0\n",
    "while  i != n :\n",
    "    cur_sum = cur_sum + i\n",
    "    i = i + 1\n",
    "print(\"The sum of the numbers from 1 to\", n, \"is \", cur_sum)"
   ]
  },
  {
   "cell_type": "markdown",
   "metadata": {},
   "source": [
    "### Example: Giving a floating point step size"
   ]
  },
  {
   "cell_type": "code",
   "execution_count": null,
   "metadata": {},
   "outputs": [],
   "source": [
    "# while loop - summing the numbers 1.1 to 9.9 i. steps of 1.1\n",
    "n = 9.9\n",
    "cur_sum = 0\n",
    "# sum of n  numbers\n",
    "i = 0\n",
    "while  i != n :\n",
    "    cur_sum = cur_sum + i\n",
    "    i = i + 1.1\n",
    "    print(i)\n",
    "    \n",
    "print(\"The sum of the numbers from 1.1 to\", n, \"is \", sum)"
   ]
  },
  {
   "cell_type": "markdown",
   "metadata": {},
   "source": [
    "### Execution of the block using else"
   ]
  },
  {
   "cell_type": "code",
   "execution_count": null,
   "metadata": {},
   "outputs": [],
   "source": [
    "### Example: while loop with else block\n",
    "n = 0\n",
    "while n < 3:\n",
    "\tn += 1   # num += 1 is same as num = num + 1\n",
    "\tprint('num = ', n)\n",
    "else:\n",
    "    print('else block executed')"
   ]
  },
  {
   "cell_type": "markdown",
   "metadata": {},
   "source": [
    "## for loop\n",
    "* The for loop, like the while loop repeatedly executes a set of statements. However, the for loop is more specific and the conditions are defined within the loop structure.\n",
    "* The for loop can be used conveniently with sequence types such as list, tuple, dictionary, etc. "
   ]
  },
  {
   "cell_type": "markdown",
   "metadata": {},
   "source": [
    "### The key part of for loop is that there should be some sequence which is ‘iterable’ i.e. one can count through the sequence, starting at the beginning and stopping at the end.\n",
    "For example for loop is suitable for iterables like:\n",
    "1. Lists \n",
    "2. tuples\n",
    "3. dictionary\n",
    "4. range() function\n",
    "5. string\n",
    "\n",
    "* keywords used in for loop are 'for' and 'in'"
   ]
  },
  {
   "cell_type": "markdown",
   "metadata": {},
   "source": [
    "#### for loop over tuple"
   ]
  },
  {
   "cell_type": "code",
   "execution_count": null,
   "metadata": {},
   "outputs": [],
   "source": [
    "### Example: For Loop with Tuple\n",
    "nums = (10, 20, 30, 40, 50)\n",
    "for i in nums:\n",
    "    print(i)"
   ]
  },
  {
   "cell_type": "markdown",
   "metadata": {},
   "source": [
    "#### for loop over string"
   ]
  },
  {
   "cell_type": "code",
   "execution_count": null,
   "metadata": {},
   "outputs": [],
   "source": [
    "### Example: Accessing String with for loop\n",
    "for char in 'Python':\n",
    "    print (char, end='\\t')"
   ]
  },
  {
   "cell_type": "markdown",
   "metadata": {},
   "source": [
    "#### for loop over a list"
   ]
  },
  {
   "cell_type": "code",
   "execution_count": null,
   "metadata": {},
   "outputs": [],
   "source": [
    "### looping over list\n",
    "days = ['Monday', 'Tuesday', 'Wednesday', 'Thursday', 'Friday']\n",
    "for i in days:\n",
    "    print(i)"
   ]
  },
  {
   "cell_type": "code",
   "execution_count": null,
   "metadata": {},
   "outputs": [],
   "source": [
    "# Looping over a string\n",
    "for char in 'Monday':\n",
    "    print(char)"
   ]
  },
  {
   "cell_type": "code",
   "execution_count": null,
   "metadata": {},
   "outputs": [],
   "source": [
    "# Looping over a tuple\n",
    "for fruit in ('Apple', 'Banana', 'Guava'):\n",
    "    print(\"Here's a fruit:\", fruit)"
   ]
  },
  {
   "cell_type": "markdown",
   "metadata": {},
   "source": [
    "#### Program to find the sum of all numbers stored in a list"
   ]
  },
  {
   "cell_type": "code",
   "execution_count": null,
   "metadata": {},
   "outputs": [],
   "source": [
    "# Create a List of numbers\n",
    "numbers = [6, 5, 3, 8, 4, 2, 5, 4, 11]\n",
    "# variable to store the sum\n",
    "sum = 0        # initiating the sum\n",
    "# iterate over the list\n",
    "for val in numbers:\n",
    "    sum = sum+val\n",
    "print(\"The sum is\", sum)"
   ]
  },
  {
   "cell_type": "markdown",
   "metadata": {},
   "source": [
    "#### Accessing a dictionary through for loop"
   ]
  },
  {
   "cell_type": "code",
   "execution_count": null,
   "metadata": {},
   "outputs": [],
   "source": [
    "### Example 1: For Loop with Dictionary\n",
    "Dict1 = { 1:'A', 2: 'B', 3: 'C'}\n",
    "for pair in Dict1.items():\n",
    "    print(pair)"
   ]
  },
  {
   "cell_type": "markdown",
   "metadata": {},
   "source": [
    "#### The key-value paris can be unpacked into two variables in the for loop to get the key and value separately."
   ]
  },
  {
   "cell_type": "code",
   "execution_count": null,
   "metadata": {},
   "outputs": [],
   "source": [
    "### Example 1: For Loop with Dictionary\n",
    "Dict1 = { 1:'One', 2: 'Two', 3: 'Three'}\n",
    "for k,v in Dict1.items(): ### k i accessing the keys and v is acessing the values\n",
    "    print(\"key = \", k , \"+ value =\", v)"
   ]
  },
  {
   "cell_type": "markdown",
   "metadata": {},
   "source": [
    "#### For Loop with the range() Function\n",
    "range() returns the range object that can be used with the for loop.\n",
    "* range() funtion has three parameters out of which the stop parameter should be defined exclusively\n",
    "* the step size can be negative as well\n",
    "- In range function the start parameter is taken as 0 by default and the step size is taken as 1 by default"
   ]
  },
  {
   "cell_type": "code",
   "execution_count": null,
   "metadata": {},
   "outputs": [],
   "source": [
    "print(range(10))\n",
    "\n",
    "print(tuple(range(10)))\n",
    "\n",
    "print(list(range(2, 8)))\n",
    "\n",
    "print(list(range(2, 20, 3)))"
   ]
  },
  {
   "cell_type": "code",
   "execution_count": null,
   "metadata": {
    "scrolled": true
   },
   "outputs": [],
   "source": [
    "for i in range(5):\n",
    "    print(i)"
   ]
  },
  {
   "cell_type": "code",
   "execution_count": null,
   "metadata": {},
   "outputs": [],
   "source": [
    "for i in range(2, 9):\n",
    "    print(i)"
   ]
  },
  {
   "cell_type": "code",
   "execution_count": null,
   "metadata": {},
   "outputs": [],
   "source": [
    "for i in range(10, 1, -2):\n",
    "    print(i)"
   ]
  },
  {
   "cell_type": "markdown",
   "metadata": {},
   "source": [
    "#### For Loop with Else Block\n",
    "The else block can follow the for loop, which will be executed when the for loop ends."
   ]
  },
  {
   "cell_type": "code",
   "execution_count": null,
   "metadata": {},
   "outputs": [],
   "source": [
    "### Example:\n",
    "for i in range(2):\n",
    "    print(i)\n",
    "else:\n",
    "     print('End of for loop')"
   ]
  },
  {
   "cell_type": "code",
   "execution_count": null,
   "metadata": {},
   "outputs": [],
   "source": [
    "List1=[1,2,3,4,5,6]\n",
    "for i in List1:\n",
    "    print(i)"
   ]
  },
  {
   "cell_type": "markdown",
   "metadata": {},
   "source": [
    "## Control statements : break and continue"
   ]
  },
  {
   "cell_type": "markdown",
   "metadata": {},
   "source": [
    "### break - exit the loop"
   ]
  },
  {
   "cell_type": "code",
   "execution_count": null,
   "metadata": {
    "scrolled": true
   },
   "outputs": [],
   "source": [
    "##Example: to break the while loop as soon as 3 is obtained\n",
    "num = 0\n",
    "while num < 5:\n",
    "    num += 1   # num += 1 is same as num = num + 1\n",
    "    if num == 3: # condition before exiting a loop\n",
    "        break\n",
    "    print('num = ', num)\n",
    "print(\"break executed\")"
   ]
  },
  {
   "cell_type": "markdown",
   "metadata": {},
   "source": [
    "### continue - will skip an iteration and move on to the next Iteration"
   ]
  },
  {
   "cell_type": "code",
   "execution_count": null,
   "metadata": {},
   "outputs": [],
   "source": [
    "### Example: Continue in while loop\n",
    "num = 0\n",
    "while num < 5:\n",
    "\tnum += 1   # or num = num + 1\n",
    "\tif num == 3: # condition before exiting a loop\n",
    "\t\tcontinue\n",
    "\tprint('num = ', num)"
   ]
  },
  {
   "cell_type": "markdown",
   "metadata": {},
   "source": [
    "### Use break and continue in a for loop "
   ]
  },
  {
   "cell_type": "markdown",
   "metadata": {},
   "source": [
    "#### Example - break"
   ]
  },
  {
   "cell_type": "code",
   "execution_count": null,
   "metadata": {},
   "outputs": [],
   "source": [
    "for letter in 'programming in python': \n",
    "    # break the loop as soon it sees 'e' \n",
    "    # or 's'\n",
    "    if letter == 'o' or letter == 'n':\n",
    "        continue\n",
    "    print(letter)"
   ]
  },
  {
   "cell_type": "markdown",
   "metadata": {},
   "source": [
    "#### Example - continue "
   ]
  },
  {
   "cell_type": "code",
   "execution_count": null,
   "metadata": {},
   "outputs": [],
   "source": [
    "# Prints all letters except 'e' and 's'\n",
    "for letter in 'programming in Python': \n",
    "    if letter == 'i' or letter == 'n':\n",
    "         continue\n",
    "    print ('Current Letter :', letter)\n",
    "    var = 10"
   ]
  },
  {
   "cell_type": "markdown",
   "metadata": {},
   "source": [
    "#### Break and Continue for range()"
   ]
  },
  {
   "cell_type": "code",
   "execution_count": null,
   "metadata": {},
   "outputs": [],
   "source": [
    "### Example:\n",
    "for i in range(1, 5):\n",
    "    if i > 2:\n",
    "        break\n",
    "    print(i)"
   ]
  },
  {
   "cell_type": "markdown",
   "metadata": {},
   "source": [
    "#### Continue Next Iteration\n",
    "\n",
    "Use the continue keyword to skip the current execution and continue on the next iteration using the continue keyword on some condition, as shown below."
   ]
  },
  {
   "cell_type": "code",
   "execution_count": null,
   "metadata": {},
   "outputs": [],
   "source": [
    "### Example:\n",
    "\n",
    "for i in range(1, 5):\n",
    "    if i > 3:\n",
    "        continue\n",
    "    print(i)"
   ]
  },
  {
   "cell_type": "markdown",
   "metadata": {},
   "source": [
    "## LISTS: Python List is basically an ordered data structure which enables us to store and manipulate the data in it."
   ]
  },
  {
   "cell_type": "markdown",
   "metadata": {},
   "source": [
    "### Using a While Loop for lists\n",
    "    You can loop through the list items by using a while loop.\n",
    "    Use the len() function to determine the length of the list, then start at 0 and loop your way through the list items by refering to their indexes.\n",
    "    Remember to increase the index by 1 after each iteration."
   ]
  },
  {
   "cell_type": "code",
   "execution_count": null,
   "metadata": {},
   "outputs": [],
   "source": [
    "listA = [\"python\", \"java\", \"c++\"]\n",
    "print(len(listA))\n",
    "i = 0\n",
    "while i < len(listA):\n",
    "  print(listA[i])\n",
    "  i = i + 1"
   ]
  },
  {
   "cell_type": "markdown",
   "metadata": {},
   "source": [
    "#### Example: to find the sum of elements of the list using while loop"
   ]
  },
  {
   "cell_type": "code",
   "execution_count": null,
   "metadata": {},
   "outputs": [],
   "source": [
    "listB = [1,2,3,4,5]\n",
    "sum=0\n",
    "i=0\n",
    "while i<=len(listB):\n",
    "    sum=sum+i\n",
    "    i=i+1\n",
    "print(sum)"
   ]
  },
  {
   "cell_type": "code",
   "execution_count": null,
   "metadata": {},
   "outputs": [],
   "source": [
    "# Python3 code to iterate over a list\n",
    "listX = [1, 3, 5, 7, 9]\n",
    "# Getting length of list\n",
    "length = len(listX)\n",
    "i = 0\n",
    "# Iterating using while loop\n",
    "while i < length:\n",
    "    print(list[i])\n",
    "    i += 1"
   ]
  },
  {
   "cell_type": "markdown",
   "metadata": {},
   "source": [
    "### for loop"
   ]
  },
  {
   "cell_type": "code",
   "execution_count": null,
   "metadata": {},
   "outputs": [],
   "source": [
    "list = [1, 3, 5, 7, 9]\n",
    "# getting length of list\n",
    "length = len(list)\n",
    "  \n",
    "# Iterating the index\n",
    "# same as 'for i in range(len(list))'\n",
    "for i in range(length):\n",
    "    print(list[i])"
   ]
  },
  {
   "cell_type": "markdown",
   "metadata": {},
   "source": [
    "### Skipping elements of a list using for-loop and slicing"
   ]
  },
  {
   "cell_type": "code",
   "execution_count": null,
   "metadata": {},
   "outputs": [],
   "source": [
    "List2 = [0, 1, 2, 3,4,5,6,7,8,9,10]\n",
    "for element in List2[1::2]: #####using the concept slicing and sub-lising \n",
    "                            #### using bracket operator and colon operator\n",
    "    print(element)"
   ]
  },
  {
   "cell_type": "code",
   "execution_count": null,
   "metadata": {},
   "outputs": [],
   "source": [
    "li = list(range(10))\n",
    "print(li)\n",
    "print(len(li))\n",
    "print(\"original list:\",li)\n",
    "for b in range(0,10):\n",
    "    if (b>=4):\n",
    "        break\n",
    "    li.remove(b)\n",
    "print(li)"
   ]
  },
  {
   "cell_type": "code",
   "execution_count": null,
   "metadata": {},
   "outputs": [],
   "source": [
    "List3=[0,1,2,3,4,5,6,7,8,9]"
   ]
  },
  {
   "cell_type": "markdown",
   "metadata": {},
   "source": [
    "### Removing elements from a list"
   ]
  },
  {
   "cell_type": "code",
   "execution_count": null,
   "metadata": {
    "scrolled": false
   },
   "outputs": [],
   "source": [
    "li =list(range(10))\n",
    "print(\"original list:\", li)\n",
    "for b in li:\n",
    "    if b < 5:\n",
    "        li.remove(b)\n",
    "print(\"list after removing elements <5\", li)"
   ]
  },
  {
   "cell_type": "markdown",
   "metadata": {},
   "source": [
    "#### Confused!!!\n",
    "You might be wondering what just happened? There is no error in the condition defined, then why are we getting an erroneous output."
   ]
  },
  {
   "cell_type": "markdown",
   "metadata": {},
   "source": [
    "* In the first iteration, 0 gets deleted based on our condition and is replaced by 1.\n",
    "* However, the iterator moves on to the next position which now holds the value 2 instead of 1. \n",
    "* This causes the condition of our program to be misinterpreted which results in a wrong output."
   ]
  },
  {
   "cell_type": "markdown",
   "metadata": {},
   "source": [
    "### Q. How we can remove all the elements less than 5 ?"
   ]
  },
  {
   "cell_type": "code",
   "execution_count": null,
   "metadata": {},
   "outputs": [],
   "source": [
    "li = [0,1,2,3,4,5,6,7,8,9] \n",
    "lo = []\n",
    "for b in li:\n",
    "    if b >=5:\n",
    "        lo.append(b)\n",
    "print(\"new list \", lo)"
   ]
  },
  {
   "cell_type": "markdown",
   "metadata": {},
   "source": [
    "### List comprehension: List comprehension offers a shorter syntax for creating a new list based on the values of an existing list."
   ]
  },
  {
   "cell_type": "code",
   "execution_count": null,
   "metadata": {
    "scrolled": true
   },
   "outputs": [],
   "source": [
    "### creating a list\n",
    "newlist1 = [x for x in range(10)] \n",
    "print(newlist1)"
   ]
  },
  {
   "cell_type": "code",
   "execution_count": null,
   "metadata": {},
   "outputs": [],
   "source": [
    "fruits1 = [\"apple\", \"banana\", \"cherry\", \"kiwi\", \"mango\"]\n",
    "newlist = [x for x in fruits1 if \"a\" in x]\n",
    "print(newlist) "
   ]
  },
  {
   "cell_type": "code",
   "execution_count": null,
   "metadata": {},
   "outputs": [],
   "source": [
    "list=[\"apple\",\"banana\",\"kiwi\",\"cherry\"]\n",
    "newlist=[x for x in list if \"a\" and \"e\" in x]\n",
    "print (newlist)"
   ]
  },
  {
   "cell_type": "code",
   "execution_count": null,
   "metadata": {},
   "outputs": [],
   "source": [
    "# Example\n",
    "li = [0,1,2,3,4,5,6,7,8,9]\n",
    "li= [x for x in li if x >= 5]\n",
    "## newli = [x for x in li if x >= 5]\n",
    "print(li)\n",
    "## print(newli)"
   ]
  },
  {
   "cell_type": "markdown",
   "metadata": {},
   "source": [
    "## Accessing the index through  range() and eumerate()\n",
    "### Both range() and enumerate() functions are often used in conjugation with for loop"
   ]
  },
  {
   "cell_type": "markdown",
   "metadata": {},
   "source": [
    "### range() function"
   ]
  },
  {
   "cell_type": "code",
   "execution_count": null,
   "metadata": {},
   "outputs": [],
   "source": [
    "for i in range(4):    # range() in iterative environment\n",
    "        print(i)"
   ]
  },
  {
   "cell_type": "code",
   "execution_count": null,
   "metadata": {},
   "outputs": [],
   "source": [
    "for i in range(len('python and C++')):\n",
    "        print(i, 'python and C++'[i]) "
   ]
  },
  {
   "cell_type": "markdown",
   "metadata": {},
   "source": [
    "### Re-writing the above program"
   ]
  },
  {
   "cell_type": "code",
   "execution_count": null,
   "metadata": {},
   "outputs": [],
   "source": [
    "for i in range(6):\n",
    "    print(i, 'python'[i]) "
   ]
  },
  {
   "cell_type": "markdown",
   "metadata": {},
   "source": [
    "### enumerate() Function\n",
    "* enumerate() is often used in **conjunction with a for loop**. \n",
    "* It takes a **sequence-type argument**, meaning both strings and lists, and returns **(index, element)** pairs. "
   ]
  },
  {
   "cell_type": "code",
   "execution_count": null,
   "metadata": {},
   "outputs": [],
   "source": [
    "### A look at the enumerate function ####\n",
    "p = enumerate('snake') \n",
    "list(enumerate('snake')) "
   ]
  },
  {
   "cell_type": "markdown",
   "metadata": {},
   "source": [
    "    Just like the .items() dictionary method we access a key and its value together, enumerate() helps in accessing a sequence element and its index side-by-side.  "
   ]
  },
  {
   "cell_type": "code",
   "execution_count": null,
   "metadata": {},
   "outputs": [],
   "source": [
    "for (i, e) in enumerate('snake'):    # i is bound to index, e bound to each letter\n",
    "        print(i, 'is the index for', e)\n",
    "        \n",
    "for (i, e) in enumerate([80, 95, 72, 88]):    # i is index, e is list element\n",
    "        print(e, 'is at index', i)"
   ]
  },
  {
   "cell_type": "markdown",
   "metadata": {},
   "source": [
    "## Infinite Loops\n",
    "* If the stopping condition is not defined properly, for example: if the condition in a while loop always holds true, then then the code if repeatedly executed.  \n",
    "* If the code gets stuck in an infinite loop during execution, press the \"Stop\" button on the toolbar (next to \"Run\") or select \"Kernel > Interrupt\" from the menu bar. "
   ]
  },
  {
   "cell_type": "code",
   "execution_count": null,
   "metadata": {},
   "outputs": [],
   "source": [
    "# INFINITE LOOP - Example 1\n",
    "result = 1\n",
    "i = 1\n",
    "\n",
    "while i <= 100:\n",
    "    result = result * i\n",
    "    # forgot to increment i"
   ]
  },
  {
   "cell_type": "code",
   "execution_count": null,
   "metadata": {},
   "outputs": [],
   "source": [
    "# INFINITE LOOP - Example 2\n",
    "result = 1\n",
    "i = 1\n",
    "while i > 0 : # wrong condition\n",
    "    result *= i\n",
    "    i += 1"
   ]
  },
  {
   "cell_type": "markdown",
   "metadata": {},
   "source": [
    "## Practice Examples"
   ]
  },
  {
   "cell_type": "markdown",
   "metadata": {},
   "source": [
    "### Example 1: find the sum of the numbers given as input by the user, until -1 is entered. Also, count the numbers entered by the user "
   ]
  },
  {
   "cell_type": "code",
   "execution_count": null,
   "metadata": {
    "scrolled": true
   },
   "outputs": [],
   "source": [
    "### Example: while loop\n",
    "\n",
    "num=0\n",
    "count=0\n",
    "sum=0\n",
    "\n",
    "while num>=0:\n",
    "    num = int(input('enter any number .. -1 to exit: '))\n",
    "    if num >= 0:\n",
    "        count = count + 1 # this counts number of inputs\n",
    "        sum = sum + num # this adds input number cumulatively.\n",
    "avg = sum/count\n",
    "print('Total numbers: ', count, \"sum=\" ,sum, 'Average: ', avg)"
   ]
  },
  {
   "cell_type": "markdown",
   "metadata": {},
   "source": [
    "### Example 2: Nested loops "
   ]
  },
  {
   "cell_type": "code",
   "execution_count": 2,
   "metadata": {},
   "outputs": [
    {
     "name": "stdout",
     "output_type": "stream",
     "text": [
      "[{'name': 'Amit', 'age': 17}, {'name': 'Aakash', 'age': 18}]\n",
      "name : Amit\n",
      "age : 17\n",
      " \n",
      "name : Aakash\n",
      "age : 18\n",
      " \n"
     ]
    }
   ],
   "source": [
    "persons = [{'name': 'Amit', 'age': 17}, {'name': 'Aakash', 'age': 18}]\n",
    "### here persons is a list having two elements which are dictionary\n",
    "print(persons)\n",
    "for person in persons:\n",
    "    for key in person:\n",
    "        print(key, \":\", person[key])\n",
    "    print(\" \")"
   ]
  },
  {
   "cell_type": "markdown",
   "metadata": {},
   "source": [
    "### Example 3: Checking the existance of an element in the dictionary\n",
    "    Using the conditional statement if in the dictionary to check whether a particular key is present"
   ]
  },
  {
   "cell_type": "code",
   "execution_count": 4,
   "metadata": {},
   "outputs": [
    {
     "name": "stdout",
     "output_type": "stream",
     "text": [
      "90\n"
     ]
    }
   ],
   "source": [
    "# program to check whether a student id is present in the dictionary\n",
    "student_id = '10015'\n",
    "marks = {'10015': 90, '10017': 55, '10009': 77}\n",
    "for student in marks:\n",
    "    if student == student_id:\n",
    "        print(marks[student])\n",
    "        break\n",
    "else:\n",
    "    print('No entry with that name found.')"
   ]
  },
  {
   "cell_type": "markdown",
   "metadata": {},
   "source": [
    "### Example 4: using while loop in a dictionary"
   ]
  },
  {
   "cell_type": "markdown",
   "metadata": {},
   "source": [
    "    Let’s say World Bank is offering startup grants for middle age founders (let’s say age range is defined as people between 25 and 55 inclusive).\n",
    "    Using while loop, let’s create a new dictionary that has people’s names as keys and True or False as key values (based on eligibility for World Bank funding)\n",
    "    We need a new dictionary with names as keys and boolean value as their application pre-filtering. "
   ]
  },
  {
   "cell_type": "code",
   "execution_count": 6,
   "metadata": {},
   "outputs": [
    {
     "name": "stdout",
     "output_type": "stream",
     "text": [
      "['James', 'Xin Xan', 'Cloe', 'Ajay', 'Mathew', 'Mandy']\n",
      "{'James': False, 'Xin Xan': False, 'Cloe': True, 'Ajay': True, 'Mathew': False, 'Mandy': True}\n"
     ]
    }
   ],
   "source": [
    "dict_1 = {\"James\": 24, \"Xin Xan\": 21, \"Cloe\": 35, \"Ajay\": 32, \"Mathew\": 18, \"Mandy\": 42}\n",
    "\n",
    "lst = list(dict_1.keys())\n",
    "print(lst)\n",
    "i=0\n",
    "dict_2 = {}\n",
    "while i < len(lst):\n",
    "    if 25 < (dict_1[lst[i]]) < 55:\n",
    "        dict_2[lst[i]] = True\n",
    "    else:\n",
    "        dict_2[lst[i]] = False\n",
    "    i+=1\n",
    " \n",
    "print(dict_2)"
   ]
  },
  {
   "cell_type": "markdown",
   "metadata": {},
   "source": [
    "## Examples of loops over dictionary "
   ]
  },
  {
   "cell_type": "markdown",
   "metadata": {},
   "source": [
    "#### Default looping is over the keys:"
   ]
  },
  {
   "cell_type": "code",
   "execution_count": 7,
   "metadata": {},
   "outputs": [
    {
     "name": "stdout",
     "output_type": "stream",
     "text": [
      "Shila\n",
      "Rakhi\n",
      "Amit\n",
      "Ajay\n"
     ]
    }
   ],
   "source": [
    "students = {'Shila':32, 'Rakhi':28, 'Amit':30, 'Ajay':28}\n",
    "for s in students:              # s iterates over keys in students and prints the associated value\n",
    "        print(s)"
   ]
  },
  {
   "cell_type": "markdown",
   "metadata": {},
   "source": [
    "#### looping over values"
   ]
  },
  {
   "cell_type": "code",
   "execution_count": 8,
   "metadata": {},
   "outputs": [
    {
     "name": "stdout",
     "output_type": "stream",
     "text": [
      "32\n",
      "28\n",
      "30\n",
      "28\n"
     ]
    }
   ],
   "source": [
    "for s in students:\n",
    "    print(students[s])"
   ]
  },
  {
   "cell_type": "markdown",
   "metadata": {},
   "source": [
    "#### Looping together over keys and values"
   ]
  },
  {
   "cell_type": "code",
   "execution_count": 9,
   "metadata": {},
   "outputs": [
    {
     "name": "stdout",
     "output_type": "stream",
     "text": [
      "Shila 32\n",
      "Rakhi 28\n",
      "Amit 30\n",
      "Ajay 28\n"
     ]
    }
   ],
   "source": [
    "for s in students:              # s iterates over keys in simpsons\n",
    "        print(s, students[s])       # key, value  "
   ]
  },
  {
   "cell_type": "markdown",
   "metadata": {},
   "source": [
    "### Looping over a dictionary through keys and values"
   ]
  },
  {
   "cell_type": "code",
   "execution_count": 10,
   "metadata": {},
   "outputs": [],
   "source": [
    "# Given dictionary\n",
    "student = {\n",
    "    'name': 'Amit Sharma',\n",
    "    'age': 18,\n",
    "    'branch': 'Commerse'\n",
    "}"
   ]
  },
  {
   "cell_type": "markdown",
   "metadata": {},
   "source": [
    "#### using .value()"
   ]
  },
  {
   "cell_type": "code",
   "execution_count": 11,
   "metadata": {},
   "outputs": [
    {
     "name": "stdout",
     "output_type": "stream",
     "text": [
      "Amit Sharma\n",
      "18\n",
      "Commerse\n"
     ]
    }
   ],
   "source": [
    "for value in student.values():\n",
    "    print(value)"
   ]
  },
  {
   "cell_type": "markdown",
   "metadata": {},
   "source": [
    "#### printing both keys and values using .item()"
   ]
  },
  {
   "cell_type": "code",
   "execution_count": 12,
   "metadata": {
    "scrolled": true
   },
   "outputs": [
    {
     "name": "stdout",
     "output_type": "stream",
     "text": [
      "('name', 'Amit Sharma')\n",
      "('age', 18)\n",
      "('branch', 'Commerse')\n"
     ]
    }
   ],
   "source": [
    "#### Answer will be in the form of a tuple ####\n",
    "for key_value_pair in student.items():\n",
    "    print(key_value_pair)"
   ]
  },
  {
   "cell_type": "code",
   "execution_count": 13,
   "metadata": {},
   "outputs": [
    {
     "name": "stdout",
     "output_type": "stream",
     "text": [
      "Key: name , Value: Amit Sharma\n",
      "Key: age , Value: 18\n",
      "Key: branch , Value: Commerse\n"
     ]
    }
   ],
   "source": [
    "#### Answer in a more specific manner ####\n",
    "for key, value in student.items():\n",
    "    print(\"Key:\", key, \",\", \"Value:\", value)"
   ]
  },
  {
   "cell_type": "markdown",
   "metadata": {},
   "source": [
    "References and credits:\n",
    "https://holypython.com/intermediate-python-lessons/lesson-9-while-loop/\n",
    "https://stackoverflow.com/questions/47694919/printing-dictionary-in-a-while-loop/47695089 (use of while in dictionaries)"
   ]
  }
 ],
 "metadata": {
  "kernelspec": {
   "display_name": "Python 3 (ipykernel)",
   "language": "python",
   "name": "python3"
  },
  "language_info": {
   "codemirror_mode": {
    "name": "ipython",
    "version": 3
   },
   "file_extension": ".py",
   "mimetype": "text/x-python",
   "name": "python",
   "nbconvert_exporter": "python",
   "pygments_lexer": "ipython3",
   "version": "3.11.5"
  }
 },
 "nbformat": 4,
 "nbformat_minor": 4
}
