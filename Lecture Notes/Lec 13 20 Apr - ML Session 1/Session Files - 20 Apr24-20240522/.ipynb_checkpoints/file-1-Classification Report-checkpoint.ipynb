{
 "cells": [
  {
   "cell_type": "code",
   "execution_count": 1,
   "id": "abda6aa3",
   "metadata": {},
   "outputs": [],
   "source": [
    "from sklearn import metrics"
   ]
  },
  {
   "cell_type": "code",
   "execution_count": 2,
   "id": "4e446ede",
   "metadata": {},
   "outputs": [],
   "source": [
    "actual=[\"c\", \"h\", \"f\", \"c\", \"h\", \"f\", \"c\", \"h\", \"h\"]"
   ]
  },
  {
   "cell_type": "code",
   "execution_count": 10,
   "id": "db831591",
   "metadata": {},
   "outputs": [],
   "source": [
    "predic=[\"c\", \"h\", \"h\", \"c\", \"h\", \"f\", \"c\", \"h\", \"h\"]"
   ]
  },
  {
   "cell_type": "code",
   "execution_count": 6,
   "id": "8c33628e",
   "metadata": {},
   "outputs": [
    {
     "name": "stdout",
     "output_type": "stream",
     "text": [
      "[[2 0 1]\n",
      " [1 2 1]\n",
      " [0 1 1]]\n"
     ]
    }
   ],
   "source": [
    "print(metrics.confusion_matrix(actual, predic, labels=[\"c\", \"h\", \"f\"]))"
   ]
  },
  {
   "cell_type": "code",
   "execution_count": 11,
   "id": "39812d27",
   "metadata": {},
   "outputs": [
    {
     "name": "stdout",
     "output_type": "stream",
     "text": [
      "              precision    recall  f1-score   support\n",
      "\n",
      "           c       1.00      1.00      1.00         3\n",
      "           h       0.80      1.00      0.89         4\n",
      "           f       1.00      0.50      0.67         2\n",
      "\n",
      "    accuracy                           0.89         9\n",
      "   macro avg       0.93      0.83      0.85         9\n",
      "weighted avg       0.91      0.89      0.88         9\n",
      "\n"
     ]
    }
   ],
   "source": [
    "print(metrics.classification_report(actual, predic, labels=[\"c\", \"h\", \"f\"]))"
   ]
  },
  {
   "cell_type": "code",
   "execution_count": null,
   "id": "f867f59f",
   "metadata": {},
   "outputs": [],
   "source": []
  }
 ],
 "metadata": {
  "kernelspec": {
   "display_name": "Python 3 (ipykernel)",
   "language": "python",
   "name": "python3"
  },
  "language_info": {
   "codemirror_mode": {
    "name": "ipython",
    "version": 3
   },
   "file_extension": ".py",
   "mimetype": "text/x-python",
   "name": "python",
   "nbconvert_exporter": "python",
   "pygments_lexer": "ipython3",
   "version": "3.11.5"
  }
 },
 "nbformat": 4,
 "nbformat_minor": 5
}
