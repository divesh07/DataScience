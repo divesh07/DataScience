{
 "cells": [
  {
   "cell_type": "code",
   "execution_count": 2,
   "id": "650d9f54",
   "metadata": {},
   "outputs": [
    {
     "name": "stdout",
     "output_type": "stream",
     "text": [
      "Collecting afinn\n",
      "  Downloading afinn-0.1.tar.gz (52 kB)\n",
      "\u001b[2K     \u001b[90m━━━━━━━━━━━━━━━━━━━━━━━━━━━━━━━━━━━━━━━━\u001b[0m \u001b[32m52.6/52.6 kB\u001b[0m \u001b[31m2.0 MB/s\u001b[0m eta \u001b[36m0:00:00\u001b[0m\n",
      "\u001b[?25h  Preparing metadata (setup.py) ... \u001b[?25ldone\n",
      "\u001b[?25hBuilding wheels for collected packages: afinn\n",
      "  Building wheel for afinn (setup.py) ... \u001b[?25ldone\n",
      "\u001b[?25h  Created wheel for afinn: filename=afinn-0.1-py3-none-any.whl size=53429 sha256=56668d4cacf8d9dfa14e97a5dbc00765664bed2e2b7fd7ad4e8616915cf4abd4\n",
      "  Stored in directory: /Users/divesh.gandhi/Library/Caches/pip/wheels/ee/d3/a0/f9255ebac29886acb1c28b35b37523f6399677fa06be379f25\n",
      "Successfully built afinn\n",
      "Installing collected packages: afinn\n",
      "Successfully installed afinn-0.1\n"
     ]
    }
   ],
   "source": [
    "!pip install afinn"
   ]
  },
  {
   "cell_type": "code",
   "execution_count": 3,
   "id": "762f63c0",
   "metadata": {},
   "outputs": [
    {
     "name": "stdout",
     "output_type": "stream",
     "text": [
      "The maximum AFINN score is: 8.0\n"
     ]
    },
    {
     "name": "stderr",
     "output_type": "stream",
     "text": [
      "[nltk_data] Downloading package punkt to\n",
      "[nltk_data]     /Users/divesh.gandhi/nltk_data...\n",
      "[nltk_data]   Package punkt is already up-to-date!\n"
     ]
    }
   ],
   "source": [
    "from afinn import Afinn\n",
    "\n",
    "# Define the text\n",
    "text = \"\"\"\n",
    "Life is a series of highs and lows, constantly testing our resilience. Why do we often focus on the negatives, allowing them to overshadow our happiness? It's easy to get bogged down by failures, feeling as though we can never succeed. However, isn't it through failure that we learn our greatest lessons? Sometimes, the future looks bleak, filled with uncertainties and fears. Yet, doesn't the unknown also hold the potential for exciting new opportunities? There are moments when loneliness engulfs us, making us question our worth. But isn't it during these times that we discover our inner strength? The burden of regret can weigh heavily on our hearts, but can't it also drive us to make better choices in the future? We might encounter people who betray our trust, leading us to question humanity's goodness. Despite this, aren't there countless others who show us kindness and love?\n",
    "Happiness can be found in the simplest of things, like a child's laughter or a blooming flower. Isn't it the small joys that make life worth living? The support of loved ones can uplift us, even in our darkest hours. Can we ever truly measure the impact of a heartfelt hug or a kind word? Achieving personal goals fills us with a sense of accomplishment and pride. Is there anything more rewarding than seeing our hard work pay off? Acts of generosity, no matter how small, can restore our faith in humanity. Isn't the feeling of helping others one of life's greatest rewards? Moments of peace, whether found in nature or solitude, can bring clarity to our minds. Why don't we seek these moments more often? Creative endeavors allow us to express our deepest emotions and connect with others. Isn't it amazing how art and music can transcend language and culture? Ultimately, life is a blend of joy and sorrow, each experience shaping us into who we are meant to be.\n",
    "\"\"\"\n",
    "\n",
    "# Split text into sentences\n",
    "import nltk\n",
    "nltk.download('punkt')\n",
    "from nltk.tokenize import sent_tokenize\n",
    "\n",
    "sentences = sent_tokenize(text)\n",
    "\n",
    "# Initialize AFINN\n",
    "afinn = Afinn()\n",
    "\n",
    "# Calculate AFINN score for each sentence\n",
    "scores = [afinn.score(sentence) for sentence in sentences]\n",
    "\n",
    "# Find the maximum score\n",
    "max_score = max(scores)\n",
    "\n",
    "print(f\"The maximum AFINN score is: {max_score}\")\n"
   ]
  },
  {
   "cell_type": "code",
   "execution_count": 4,
   "id": "e6d57510",
   "metadata": {},
   "outputs": [
    {
     "name": "stdout",
     "output_type": "stream",
     "text": [
      "The minimum AFINN score is: -2.0\n"
     ]
    }
   ],
   "source": [
    "# Find the minimum score\n",
    "min_score = min(scores)\n",
    "\n",
    "print(f\"The minimum AFINN score is: {min_score}\")"
   ]
  },
  {
   "cell_type": "code",
   "execution_count": 6,
   "id": "c521c819",
   "metadata": {},
   "outputs": [
    {
     "name": "stdout",
     "output_type": "stream",
     "text": [
      "The average AFINN score is: 2.62\n"
     ]
    },
    {
     "name": "stderr",
     "output_type": "stream",
     "text": [
      "[nltk_data] Downloading package punkt to\n",
      "[nltk_data]     /Users/divesh.gandhi/nltk_data...\n",
      "[nltk_data]   Package punkt is already up-to-date!\n"
     ]
    }
   ],
   "source": [
    "# Define the text\n",
    "text = \"\"\"\n",
    "Life is a series of highs and lows, constantly testing our resilience. Why do we often focus on the negatives, allowing them to overshadow our happiness? It's easy to get bogged down by failures, feeling as though we can never succeed. However, isn't it through failure that we learn our greatest lessons? Sometimes, the future looks bleak, filled with uncertainties and fears. Yet, doesn't the unknown also hold the potential for exciting new opportunities? There are moments when loneliness engulfs us, making us question our worth. But isn't it during these times that we discover our inner strength? The burden of regret can weigh heavily on our hearts, but can't it also drive us to make better choices in the future? We might encounter people who betray our trust, leading us to question humanity's goodness. Despite this, aren't there countless others who show us kindness and love?\n",
    "Happiness can be found in the simplest of things, like a child's laughter or a blooming flower. Isn't it the small joys that make life worth living? The support of loved ones can uplift us, even in our darkest hours. Can we ever truly measure the impact of a heartfelt hug or a kind word? Achieving personal goals fills us with a sense of accomplishment and pride. Is there anything more rewarding than seeing our hard work pay off? Acts of generosity, no matter how small, can restore our faith in humanity. Isn't the feeling of helping others one of life's greatest rewards? Moments of peace, whether found in nature or solitude, can bring clarity to our minds. Why don't we seek these moments more often? Creative endeavors allow us to express our deepest emotions and connect with others. Isn't it amazing how art and music can transcend language and culture? Ultimately, life is a blend of joy and sorrow, each experience shaping us into who we are meant to be.\n",
    "\"\"\"\n",
    "\n",
    "# Tokenize text into sentences\n",
    "nltk.download('punkt')\n",
    "sentences = sent_tokenize(text)\n",
    "\n",
    "# Initialize AFINN\n",
    "afinn = Afinn()\n",
    "\n",
    "# Calculate AFINN score for each sentence\n",
    "scores = [afinn.score(sentence) for sentence in sentences]\n",
    "\n",
    "# Calculate average score\n",
    "average_score = sum(scores) / len(scores)\n",
    "\n",
    "print(f\"The average AFINN score is: {average_score:.2f}\")"
   ]
  },
  {
   "cell_type": "code",
   "execution_count": 8,
   "id": "7823d6f5",
   "metadata": {},
   "outputs": [
    {
     "name": "stdout",
     "output_type": "stream",
     "text": [
      "The average positive component of the VADER score is: 0.2693\n"
     ]
    },
    {
     "name": "stderr",
     "output_type": "stream",
     "text": [
      "[nltk_data] Downloading package punkt to\n",
      "[nltk_data]     /Users/divesh.gandhi/nltk_data...\n",
      "[nltk_data]   Package punkt is already up-to-date!\n"
     ]
    }
   ],
   "source": [
    "from nltk.sentiment.vader import SentimentIntensityAnalyzer\n",
    "\n",
    "# Tokenize text into sentences\n",
    "nltk.download('punkt')\n",
    "sentences = sent_tokenize(text)\n",
    "\n",
    "# Initialize VADER sentiment analyzer\n",
    "analyzer = SentimentIntensityAnalyzer()\n",
    "\n",
    "# Calculate VADER score for each sentence and extract the positive component\n",
    "positive_scores = [analyzer.polarity_scores(sentence)['pos'] for sentence in sentences]\n",
    "\n",
    "# Calculate average positive score\n",
    "average_positive_score = sum(positive_scores) / len(positive_scores)\n",
    "\n",
    "print(f\"The average positive component of the VADER score is: {average_positive_score:.4f}\")"
   ]
  },
  {
   "cell_type": "code",
   "execution_count": 9,
   "id": "a23d0dca",
   "metadata": {},
   "outputs": [
    {
     "name": "stdout",
     "output_type": "stream",
     "text": [
      "The average compound component of the VADER score is: 0.370\n"
     ]
    }
   ],
   "source": [
    "# Initialize VADER sentiment analyzer\n",
    "analyzer = SentimentIntensityAnalyzer()\n",
    "\n",
    "# Calculate VADER score for each sentence and extract the compound component\n",
    "compound_scores = [analyzer.polarity_scores(sentence)['compound'] for sentence in sentences]\n",
    "\n",
    "# Calculate average compound score\n",
    "average_compound_score = sum(compound_scores) / len(compound_scores)\n",
    "\n",
    "print(f\"The average compound component of the VADER score is: {average_compound_score:.3f}\")"
   ]
  },
  {
   "cell_type": "code",
   "execution_count": 11,
   "id": "2bcd7e15",
   "metadata": {},
   "outputs": [
    {
     "name": "stdout",
     "output_type": "stream",
     "text": [
      "The percentage of sentences with a non-negative compound score is: 79.17%\n"
     ]
    }
   ],
   "source": [
    "#What is the percentage of sentences that have a non-negative compound score\n",
    "\n",
    "# Calculate VADER score for each sentence and check if the compound score is non-negative\n",
    "non_negative_count = sum(1 for sentence in sentences if analyzer.polarity_scores(sentence)['compound'] >= 0)\n",
    "\n",
    "# Calculate the percentage of sentences with non-negative compound scores\n",
    "percentage_non_negative = (non_negative_count / len(sentences)) * 100\n",
    "\n",
    "print(f\"The percentage of sentences with a non-negative compound score is: {percentage_non_negative:.2f}%\")"
   ]
  }
 ],
 "metadata": {
  "kernelspec": {
   "display_name": "Python 3 (ipykernel)",
   "language": "python",
   "name": "python3"
  },
  "language_info": {
   "codemirror_mode": {
    "name": "ipython",
    "version": 3
   },
   "file_extension": ".py",
   "mimetype": "text/x-python",
   "name": "python",
   "nbconvert_exporter": "python",
   "pygments_lexer": "ipython3",
   "version": "3.11.5"
  }
 },
 "nbformat": 4,
 "nbformat_minor": 5
}
