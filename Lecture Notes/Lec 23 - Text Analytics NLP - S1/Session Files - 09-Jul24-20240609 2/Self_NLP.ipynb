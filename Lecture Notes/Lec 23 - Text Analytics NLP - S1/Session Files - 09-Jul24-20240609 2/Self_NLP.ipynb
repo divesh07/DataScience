{
 "cells": [
  {
   "cell_type": "code",
   "execution_count": 3,
   "id": "17fa2fcd",
   "metadata": {},
   "outputs": [
    {
     "name": "stdout",
     "output_type": "stream",
     "text": [
      "hello world !!\n",
      "['This', 'place', 'is', 'awesome', ',', \"isn't\", 'it', '?', 'It', \"couldn't\", 'have', 'been', 'better', 'thatn', 'this', '!!']\n"
     ]
    }
   ],
   "source": [
    "#Case normalization\n",
    "\n",
    "txt = \"HEllo World !!\"\n",
    "print(txt.lower())\n"
   ]
  },
  {
   "cell_type": "code",
   "execution_count": 4,
   "id": "ad2e9a69",
   "metadata": {},
   "outputs": [
    {
     "name": "stdout",
     "output_type": "stream",
     "text": [
      "['This', 'place', 'is', 'awesome', ',', \"isn't\", 'it', '?', 'It', \"couldn't\", 'have', 'been', 'better', 'thatn', 'this', '!!']\n"
     ]
    }
   ],
   "source": [
    "# Tokenization- Smaller parts from text\n",
    "txt = \"This place is awesome , isn't it ? It couldn't have been better thatn this !!\"\n",
    "print(txt.split(\" \"))\n",
    "#isn't is not seperated\n",
    "#punctuations are still part of the tokens\n"
   ]
  },
  {
   "cell_type": "code",
   "execution_count": 7,
   "id": "08cc27a5",
   "metadata": {},
   "outputs": [
    {
     "name": "stderr",
     "output_type": "stream",
     "text": [
      "[nltk_data] Downloading package punkt to\n",
      "[nltk_data]     /Users/divesh.gandhi/nltk_data...\n",
      "[nltk_data]   Package punkt is already up-to-date!\n"
     ]
    },
    {
     "data": {
      "text/plain": [
       "True"
      ]
     },
     "execution_count": 7,
     "metadata": {},
     "output_type": "execute_result"
    }
   ],
   "source": [
    "import nltk #natural language text processing\n",
    "nltk.download('punkt')"
   ]
  },
  {
   "cell_type": "code",
   "execution_count": 8,
   "id": "a87a8110",
   "metadata": {},
   "outputs": [
    {
     "name": "stdout",
     "output_type": "stream",
     "text": [
      "['This', 'place', 'is', 'awesome', ',', 'is', \"n't\", 'it', '?', 'It', 'could', \"n't\", 'have', 'been', 'better', 'thatn', 'this', '!', '!']\n"
     ]
    }
   ],
   "source": [
    "from nltk.tokenize import word_tokenize\n",
    "print(word_tokenize(txt))\n",
    "# Seperates isn't into is and n't"
   ]
  },
  {
   "cell_type": "code",
   "execution_count": 10,
   "id": "294a500d",
   "metadata": {},
   "outputs": [
    {
     "name": "stdout",
     "output_type": "stream",
     "text": [
      "['This', 'place', 'is', 'awesome', ',', 'isn', \"'\", 't', 'it', '?', 'It', 'couldn', \"'\", 't', 'have', 'been', 'better', 'thatn', 'this', '!!']\n"
     ]
    }
   ],
   "source": [
    "from nltk.tokenize import wordpunct_tokenize\n",
    "print(wordpunct_tokenize(txt))\n",
    "#seprates isn't into isn and t"
   ]
  },
  {
   "cell_type": "code",
   "execution_count": 11,
   "id": "7e4e8528",
   "metadata": {},
   "outputs": [],
   "source": [
    "# if text has emojis\n",
    "from nltk.tokenize import TweetTokenizer\n"
   ]
  },
  {
   "cell_type": "code",
   "execution_count": 12,
   "id": "05da9109",
   "metadata": {},
   "outputs": [
    {
     "name": "stdout",
     "output_type": "stream",
     "text": [
      "['LMAO', '#', 'killing', 'it', ',', 'luv', 'mah', 'lyf', 'YOLO', 'LOL', ':', 'D', ':', 'D', '<', '3', '@', 'raju']\n"
     ]
    }
   ],
   "source": [
    "txt= \"LMAO #killing it, luv mah lyf YOLO LOL :D :D <3 @raju\"\n",
    "print(word_tokenize(txt))\n",
    "#Doesnt understand emoji's"
   ]
  },
  {
   "cell_type": "code",
   "execution_count": 14,
   "id": "860fb44a",
   "metadata": {},
   "outputs": [
    {
     "name": "stdout",
     "output_type": "stream",
     "text": [
      "['LMAO', '#killing', 'it', ',', 'luv', 'mah', 'lyf', 'YOLO', 'LOL', ':D', ':D', '<3', '@raju']\n"
     ]
    }
   ],
   "source": [
    "tweet = TweetTokenizer()\n",
    "print(tweet.tokenize(txt))"
   ]
  }
 ],
 "metadata": {
  "kernelspec": {
   "display_name": "Python 3 (ipykernel)",
   "language": "python",
   "name": "python3"
  },
  "language_info": {
   "codemirror_mode": {
    "name": "ipython",
    "version": 3
   },
   "file_extension": ".py",
   "mimetype": "text/x-python",
   "name": "python",
   "nbconvert_exporter": "python",
   "pygments_lexer": "ipython3",
   "version": "3.11.5"
  }
 },
 "nbformat": 4,
 "nbformat_minor": 5
}
