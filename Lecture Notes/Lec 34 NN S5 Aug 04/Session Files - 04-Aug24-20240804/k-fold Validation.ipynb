{
 "cells": [
  {
   "cell_type": "markdown",
   "id": "a9d87b1b",
   "metadata": {},
   "source": [
    "## k-fold validation"
   ]
  },
  {
   "cell_type": "code",
   "execution_count": 1,
   "id": "a7a03dfc",
   "metadata": {},
   "outputs": [],
   "source": [
    "from tensorflow.keras.datasets import cifar10\n",
    "from tensorflow.keras.models import Sequential\n",
    "from tensorflow.keras.layers import Dense, Flatten, Conv2D, MaxPooling2D\n",
    "from tensorflow.keras.losses import sparse_categorical_crossentropy\n",
    "from tensorflow.keras.optimizers import Adam\n",
    "from sklearn.model_selection import KFold\n",
    "import numpy as np"
   ]
  },
  {
   "cell_type": "markdown",
   "id": "d5eb9a01",
   "metadata": {},
   "source": [
    "### Model configuration"
   ]
  },
  {
   "cell_type": "code",
   "execution_count": 11,
   "id": "9209487f",
   "metadata": {},
   "outputs": [],
   "source": [
    "batch_size = 50\n",
    "img_width, img_height, img_num_channels = 32, 32, 3\n",
    "loss_function = sparse_categorical_crossentropy\n",
    "no_classes = 100\n",
    "no_epochs = 5\n",
    "optimizer = Adam()\n",
    "verbosity = 1\n",
    "num_folds = 5"
   ]
  },
  {
   "cell_type": "markdown",
   "id": "80fe5712",
   "metadata": {},
   "source": [
    "### Load CIFAR-10 data"
   ]
  },
  {
   "cell_type": "code",
   "execution_count": 12,
   "id": "cd32a5b9",
   "metadata": {},
   "outputs": [],
   "source": [
    "(input_train, target_train), (input_test, target_test) = cifar10.load_data()"
   ]
  },
  {
   "cell_type": "markdown",
   "id": "9348e7c6",
   "metadata": {},
   "source": [
    "### Determine shape of the data"
   ]
  },
  {
   "cell_type": "code",
   "execution_count": 13,
   "id": "124473dc",
   "metadata": {},
   "outputs": [],
   "source": [
    "input_shape = (img_width, img_height, img_num_channels)"
   ]
  },
  {
   "cell_type": "markdown",
   "id": "e10ee798",
   "metadata": {},
   "source": [
    "### Parse numbers as floats"
   ]
  },
  {
   "cell_type": "code",
   "execution_count": 14,
   "id": "d2756a4e",
   "metadata": {},
   "outputs": [],
   "source": [
    "input_train = input_train.astype('float32')\n",
    "input_test = input_test.astype('float32')"
   ]
  },
  {
   "cell_type": "markdown",
   "id": "42755923",
   "metadata": {},
   "source": [
    "### Normalize data"
   ]
  },
  {
   "cell_type": "code",
   "execution_count": 16,
   "id": "43bdda5c",
   "metadata": {},
   "outputs": [],
   "source": [
    "input_train = input_train / 255\n",
    "input_test = input_test / 255"
   ]
  },
  {
   "cell_type": "markdown",
   "id": "d7336cac",
   "metadata": {},
   "source": [
    "### Define per-fold score containers"
   ]
  },
  {
   "cell_type": "code",
   "execution_count": 17,
   "id": "e4f2782a",
   "metadata": {},
   "outputs": [],
   "source": [
    "acc_per_fold = []\n",
    "loss_per_fold = []"
   ]
  },
  {
   "cell_type": "markdown",
   "id": "95c2bcd8",
   "metadata": {},
   "source": [
    "### Merge inputs and targets"
   ]
  },
  {
   "cell_type": "code",
   "execution_count": 18,
   "id": "72c01829",
   "metadata": {},
   "outputs": [],
   "source": [
    "inputs = np.concatenate((input_train, input_test), axis=0)\n",
    "targets = np.concatenate((target_train, target_test), axis=0)"
   ]
  },
  {
   "cell_type": "markdown",
   "id": "bf1d5f34",
   "metadata": {},
   "source": [
    "### Define the K-fold Cross Validator"
   ]
  },
  {
   "cell_type": "code",
   "execution_count": 19,
   "id": "17e6540e",
   "metadata": {},
   "outputs": [],
   "source": [
    "kfold = KFold(n_splits=num_folds, shuffle=True)"
   ]
  },
  {
   "cell_type": "markdown",
   "id": "f18c7752",
   "metadata": {},
   "source": [
    "### K-fold Cross Validation model evaluation"
   ]
  },
  {
   "cell_type": "code",
   "execution_count": 20,
   "id": "4dc2bbb2",
   "metadata": {},
   "outputs": [
    {
     "name": "stdout",
     "output_type": "stream",
     "text": [
      "------------------------------------------------------------------------\n",
      "Training for fold 1 ...\n",
      "Epoch 1/5\n",
      "960/960 [==============================] - 56s 56ms/step - loss: 2.2946 - accuracy: 0.1327\n",
      "Epoch 2/5\n",
      "960/960 [==============================] - 54s 56ms/step - loss: 1.9281 - accuracy: 0.3063\n",
      "Epoch 3/5\n",
      "960/960 [==============================] - 52s 54ms/step - loss: 1.7352 - accuracy: 0.3752\n",
      "Epoch 4/5\n",
      "960/960 [==============================] - 49s 51ms/step - loss: 1.6148 - accuracy: 0.4217\n",
      "Epoch 5/5\n",
      "960/960 [==============================] - 51s 53ms/step - loss: 1.5258 - accuracy: 0.4556\n",
      "Score for fold 1: loss of 1.4955583810806274; accuracy of 46.47499918937683%\n",
      "------------------------------------------------------------------------\n",
      "Training for fold 2 ...\n",
      "Epoch 1/5\n",
      "960/960 [==============================] - 50s 51ms/step - loss: 2.3300 - accuracy: 0.1007\n",
      "Epoch 2/5\n",
      "960/960 [==============================] - 48s 50ms/step - loss: 2.3076 - accuracy: 0.1003\n",
      "Epoch 3/5\n",
      "960/960 [==============================] - 46s 48ms/step - loss: 2.3064 - accuracy: 0.1017\n",
      "Epoch 4/5\n",
      "960/960 [==============================] - 47s 49ms/step - loss: 2.3057 - accuracy: 0.0983\n",
      "Epoch 5/5\n",
      "960/960 [==============================] - 45s 47ms/step - loss: 2.3050 - accuracy: 0.1025\n",
      "Score for fold 2: loss of 2.3042306900024414; accuracy of 10.16666665673256%\n",
      "------------------------------------------------------------------------\n",
      "Training for fold 3 ...\n",
      "Epoch 1/5\n",
      "960/960 [==============================] - 50s 51ms/step - loss: 2.3297 - accuracy: 0.0990\n",
      "Epoch 2/5\n",
      "960/960 [==============================] - 48s 50ms/step - loss: 2.1001 - accuracy: 0.2239\n",
      "Epoch 3/5\n",
      "960/960 [==============================] - 47s 49ms/step - loss: 1.8847 - accuracy: 0.3227\n",
      "Epoch 4/5\n",
      "960/960 [==============================] - 49s 51ms/step - loss: 1.7916 - accuracy: 0.3575\n",
      "Epoch 5/5\n",
      "960/960 [==============================] - 48s 49ms/step - loss: 1.7392 - accuracy: 0.3762\n",
      "Score for fold 3: loss of 1.734125018119812; accuracy of 37.033334374427795%\n",
      "------------------------------------------------------------------------\n",
      "Training for fold 4 ...\n",
      "Epoch 1/5\n",
      "960/960 [==============================] - 54s 55ms/step - loss: 2.2951 - accuracy: 0.1192\n",
      "Epoch 2/5\n",
      "960/960 [==============================] - 52s 55ms/step - loss: 1.9510 - accuracy: 0.2979\n",
      "Epoch 3/5\n",
      "960/960 [==============================] - 48s 50ms/step - loss: 1.8076 - accuracy: 0.3490\n",
      "Epoch 4/5\n",
      "960/960 [==============================] - 45s 47ms/step - loss: 1.7360 - accuracy: 0.3751\n",
      "Epoch 5/5\n",
      "960/960 [==============================] - 45s 47ms/step - loss: 1.6813 - accuracy: 0.3964\n",
      "Score for fold 4: loss of 1.7199279069900513; accuracy of 38.56666684150696%\n",
      "------------------------------------------------------------------------\n",
      "Training for fold 5 ...\n",
      "Epoch 1/5\n",
      "960/960 [==============================] - 47s 47ms/step - loss: 2.3280 - accuracy: 0.1009\n",
      "Epoch 2/5\n",
      "960/960 [==============================] - 44s 46ms/step - loss: 2.3067 - accuracy: 0.1013\n",
      "Epoch 3/5\n",
      "960/960 [==============================] - 45s 47ms/step - loss: 2.3053 - accuracy: 0.0992\n",
      "Epoch 4/5\n",
      "960/960 [==============================] - 45s 47ms/step - loss: 2.3049 - accuracy: 0.0991\n",
      "Epoch 5/5\n",
      "960/960 [==============================] - 45s 47ms/step - loss: 2.3046 - accuracy: 0.0979\n",
      "Score for fold 5: loss of 2.3041908740997314; accuracy of 9.866666793823242%\n"
     ]
    }
   ],
   "source": [
    "fold_no = 1\n",
    "for train, test in kfold.split(inputs, targets):\n",
    "\n",
    "  # Define the model architecture\n",
    "  model = Sequential()\n",
    "  model.add(Conv2D(32, kernel_size=(3, 3), activation='relu', input_shape=input_shape))\n",
    "  model.add(MaxPooling2D(pool_size=(2, 2)))\n",
    "  model.add(Conv2D(64, kernel_size=(3, 3), activation='relu'))\n",
    "  model.add(MaxPooling2D(pool_size=(2, 2)))\n",
    "  model.add(Flatten())\n",
    "  model.add(Dense(256, activation='relu'))\n",
    "  model.add(Dense(128, activation='relu'))\n",
    "  model.add(Dense(no_classes, activation='softmax'))\n",
    "\n",
    "  # Compile the model\n",
    "  model.compile(loss=loss_function,\n",
    "                optimizer=optimizer,\n",
    "                metrics=['accuracy'])\n",
    "\n",
    "\n",
    "  # Generate a print\n",
    "  print('------------------------------------------------------------------------')\n",
    "  print(f'Training for fold {fold_no} ...')\n",
    "\n",
    "  # Fit data to model\n",
    "  history = model.fit(inputs[train], targets[train],\n",
    "              batch_size=batch_size,\n",
    "              epochs=no_epochs,\n",
    "              verbose=verbosity)\n",
    "\n",
    "  # Generate generalization metrics\n",
    "  scores = model.evaluate(inputs[test], targets[test], verbose=0)\n",
    "  print(f'Score for fold {fold_no}: {model.metrics_names[0]} of {scores[0]}; {model.metrics_names[1]} of {scores[1]*100}%')\n",
    "  acc_per_fold.append(scores[1] * 100)\n",
    "  loss_per_fold.append(scores[0])\n",
    "\n",
    "  # Increase fold number\n",
    "  fold_no = fold_no + 1"
   ]
  },
  {
   "cell_type": "code",
   "execution_count": 21,
   "id": "c7e21ace",
   "metadata": {},
   "outputs": [
    {
     "name": "stdout",
     "output_type": "stream",
     "text": [
      "------------------------------------------------------------------------\n",
      "Score per fold\n",
      "------------------------------------------------------------------------\n",
      "> Fold 1 - Loss: 1.4955583810806274 - Accuracy: 46.47499918937683%\n",
      "------------------------------------------------------------------------\n",
      "> Fold 2 - Loss: 2.3042306900024414 - Accuracy: 10.16666665673256%\n",
      "------------------------------------------------------------------------\n",
      "> Fold 3 - Loss: 1.734125018119812 - Accuracy: 37.033334374427795%\n",
      "------------------------------------------------------------------------\n",
      "> Fold 4 - Loss: 1.7199279069900513 - Accuracy: 38.56666684150696%\n",
      "------------------------------------------------------------------------\n",
      "> Fold 5 - Loss: 2.3041908740997314 - Accuracy: 9.866666793823242%\n",
      "------------------------------------------------------------------------\n",
      "Average scores for all folds:\n",
      "> Accuracy: 28.421666771173477 (+- 15.365791291540202)\n",
      "> Loss: 1.9116065740585326\n",
      "------------------------------------------------------------------------\n"
     ]
    }
   ],
   "source": [
    "# == Provide average scores ==\n",
    "print('------------------------------------------------------------------------')\n",
    "print('Score per fold')\n",
    "for i in range(0, len(acc_per_fold)):\n",
    "  print('------------------------------------------------------------------------')\n",
    "  print(f'> Fold {i+1} - Loss: {loss_per_fold[i]} - Accuracy: {acc_per_fold[i]}%')\n",
    "print('------------------------------------------------------------------------')\n",
    "print('Average scores for all folds:')\n",
    "print(f'> Accuracy: {np.mean(acc_per_fold)} (+- {np.std(acc_per_fold)})')\n",
    "print(f'> Loss: {np.mean(loss_per_fold)}')\n",
    "print('------------------------------------------------------------------------')"
   ]
  }
 ],
 "metadata": {
  "kernelspec": {
   "display_name": "Python 3 (ipykernel)",
   "language": "python",
   "name": "python3"
  },
  "language_info": {
   "codemirror_mode": {
    "name": "ipython",
    "version": 3
   },
   "file_extension": ".py",
   "mimetype": "text/x-python",
   "name": "python",
   "nbconvert_exporter": "python",
   "pygments_lexer": "ipython3",
   "version": "3.9.9"
  }
 },
 "nbformat": 4,
 "nbformat_minor": 5
}
