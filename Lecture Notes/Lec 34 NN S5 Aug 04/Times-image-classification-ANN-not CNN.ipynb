{
 "cells": [
  {
   "cell_type": "markdown",
   "metadata": {
    "id": "jYysdyb-CaWM"
   },
   "source": [
    "## Basic image classification through ANN (not CNN)\n",
    "## Data-set Fashion MNIST\n",
    "## Keras and Tensorflow"
   ]
  },
  {
   "cell_type": "code",
   "execution_count": 1,
   "metadata": {
    "execution": {
     "iopub.execute_input": "2022-02-05T02:23:03.661948Z",
     "iopub.status.busy": "2022-02-05T02:23:03.661380Z",
     "iopub.status.idle": "2022-02-05T02:23:06.352001Z",
     "shell.execute_reply": "2022-02-05T02:23:06.352451Z"
    },
    "id": "dzLKpmZICaWN"
   },
   "outputs": [
    {
     "name": "stdout",
     "output_type": "stream",
     "text": [
      "2.10.1\n"
     ]
    }
   ],
   "source": [
    "# TensorFlow and tf.keras\n",
    "import tensorflow as tf\n",
    "\n",
    "# Helper libraries\n",
    "import numpy as np\n",
    "import matplotlib.pyplot as plt\n",
    "\n",
    "print(tf.__version__)"
   ]
  },
  {
   "cell_type": "markdown",
   "metadata": {
    "id": "yR0EdgrLCaWR"
   },
   "source": [
    "## Import the Fashion MNIST dataset"
   ]
  },
  {
   "cell_type": "markdown",
   "metadata": {
    "id": "DLdCchMdCaWQ"
   },
   "source": [
    "**Fashion MNIST dataset contains 70,000 grayscale images in 10 categories. The images show individual articles of clothing at low resolution (28 by 28 pixels):**\n",
    "\n",
    "<table>\n",
    "  <tr><td>\n",
    "    <img src=\"https://tensorflow.org/images/fashion-mnist-sprite.png\"\n",
    "         alt=\"Fashion MNIST sprite\"  width=\"600\">\n",
    "  </td></tr>\n",
    "  <tr><td align=\"center\">\n",
    "    <b>Figure 1.</b> <a href=\"https://github.com/zalandoresearch/fashion-mnist\">Fashion-MNIST samples</a> (by Zalando, MIT License).<br/>&nbsp;\n",
    "  </td></tr>\n",
    "</table>\n",
    "\n",
    "Fashion MNIST is a replacement for the classic [MNIST](http://yann.lecun.com/exdb/mnist/) dataset—often described as the \"Hello, World\" of machine learning programs for computer vision. \n",
    "\n",
    "The MNIST dataset contains images of handwritten digits (0, 1, 2, etc.) in a format identical to that of the articles of clothing that are used here.\n",
    "\n",
    "Fashion MNIST is slightly more challenging than regular MNIST. \n",
    "\n",
    "However both datasets are relatively small and are considered to be a good starting point to test and debug code.\n",
    "\n",
    "Here, 60,000 images are used to train the network and 10,000 images to evaluate how accurately the network learned to classify images. \n",
    "\n",
    "Fashion MNIST can be accessed directly from TensorFlow. Import and [load the Fashion MNIST data](https://www.tensorflow.org/api_docs/python/tf/keras/datasets/fashion_mnist/load_data) directly from TensorFlow:"
   ]
  },
  {
   "cell_type": "code",
   "execution_count": 2,
   "metadata": {
    "execution": {
     "iopub.execute_input": "2022-02-05T02:23:06.357055Z",
     "iopub.status.busy": "2022-02-05T02:23:06.356498Z",
     "iopub.status.idle": "2022-02-05T02:23:08.243268Z",
     "shell.execute_reply": "2022-02-05T02:23:08.243667Z"
    },
    "id": "7MqDQO0KCaWS"
   },
   "outputs": [],
   "source": [
    "fashion_mnist = tf.keras.datasets.fashion_mnist\n",
    "\n",
    "(train_images, train_labels), (test_images, test_labels) = fashion_mnist.load_data()"
   ]
  },
  {
   "cell_type": "markdown",
   "metadata": {
    "id": "t9FDsUlxCaWW"
   },
   "source": [
    "Loading the dataset returns four NumPy arrays:\n",
    "\n",
    "* The `train_images` and `train_labels` arrays are the *training set*—the data the model uses to learn.\n",
    "* The model is tested against the *test set*, the `test_images`, and `test_labels` arrays.\n",
    "\n",
    "The images are 28x28 NumPy arrays, with pixel values ranging from 0 to 255. The *labels* are an array of integers, ranging from 0 to 9. These correspond to the *class* of clothing the image represents:\n",
    "\n",
    "<table>\n",
    "  <tr>\n",
    "    <th>Label</th>\n",
    "    <th>Class</th>\n",
    "  </tr>\n",
    "  <tr>\n",
    "    <td>0</td>\n",
    "    <td>T-shirt/top</td>\n",
    "  </tr>\n",
    "  <tr>\n",
    "    <td>1</td>\n",
    "    <td>Trouser</td>\n",
    "  </tr>\n",
    "    <tr>\n",
    "    <td>2</td>\n",
    "    <td>Pullover</td>\n",
    "  </tr>\n",
    "    <tr>\n",
    "    <td>3</td>\n",
    "    <td>Dress</td>\n",
    "  </tr>\n",
    "    <tr>\n",
    "    <td>4</td>\n",
    "    <td>Coat</td>\n",
    "  </tr>\n",
    "    <tr>\n",
    "    <td>5</td>\n",
    "    <td>Sandal</td>\n",
    "  </tr>\n",
    "    <tr>\n",
    "    <td>6</td>\n",
    "    <td>Shirt</td>\n",
    "  </tr>\n",
    "    <tr>\n",
    "    <td>7</td>\n",
    "    <td>Sneaker</td>\n",
    "  </tr>\n",
    "    <tr>\n",
    "    <td>8</td>\n",
    "    <td>Bag</td>\n",
    "  </tr>\n",
    "    <tr>\n",
    "    <td>9</td>\n",
    "    <td>Ankle boot</td>\n",
    "  </tr>\n",
    "</table>\n",
    "\n",
    "Each image is mapped to a single label. Since the *class names* are not included with the dataset, store them here to use later when plotting the images:"
   ]
  },
  {
   "cell_type": "code",
   "execution_count": 3,
   "metadata": {
    "execution": {
     "iopub.execute_input": "2022-02-05T02:23:08.248025Z",
     "iopub.status.busy": "2022-02-05T02:23:08.247468Z",
     "iopub.status.idle": "2022-02-05T02:23:08.249506Z",
     "shell.execute_reply": "2022-02-05T02:23:08.249073Z"
    },
    "id": "IjnLH5S2CaWx"
   },
   "outputs": [],
   "source": [
    "class_names = ['T-shirt/top', 'Trouser', 'Pullover', 'Dress', 'Coat',\n",
    "               'Sandal', 'Shirt', 'Sneaker', 'Bag', 'Ankle boot']"
   ]
  },
  {
   "cell_type": "markdown",
   "metadata": {
    "id": "Brm0b_KACaWX"
   },
   "source": [
    "## Explore the data\n",
    "\n",
    "* Explore the format of the dataset before training the model. \n",
    "* There are 60,000 images in the training set, with each image represented as 28 x 28 pixels:"
   ]
  },
  {
   "cell_type": "code",
   "execution_count": 4,
   "metadata": {
    "execution": {
     "iopub.execute_input": "2022-02-05T02:23:08.255326Z",
     "iopub.status.busy": "2022-02-05T02:23:08.254721Z",
     "iopub.status.idle": "2022-02-05T02:23:08.257282Z",
     "shell.execute_reply": "2022-02-05T02:23:08.257646Z"
    },
    "id": "zW5k_xz1CaWX"
   },
   "outputs": [
    {
     "data": {
      "text/plain": [
       "(60000, 28, 28)"
      ]
     },
     "execution_count": 4,
     "metadata": {},
     "output_type": "execute_result"
    }
   ],
   "source": [
    "train_images.shape"
   ]
  },
  {
   "cell_type": "markdown",
   "metadata": {
    "id": "cIAcvQqMCaWf"
   },
   "source": [
    "#### determine the number of labels in the training set:"
   ]
  },
  {
   "cell_type": "code",
   "execution_count": 5,
   "metadata": {
    "execution": {
     "iopub.execute_input": "2022-02-05T02:23:08.261663Z",
     "iopub.status.busy": "2022-02-05T02:23:08.261018Z",
     "iopub.status.idle": "2022-02-05T02:23:08.263268Z",
     "shell.execute_reply": "2022-02-05T02:23:08.263625Z"
    },
    "id": "TRFYHB2mCaWb"
   },
   "outputs": [
    {
     "data": {
      "text/plain": [
       "60000"
      ]
     },
     "execution_count": 5,
     "metadata": {},
     "output_type": "execute_result"
    }
   ],
   "source": [
    "len(train_labels)"
   ]
  },
  {
   "cell_type": "markdown",
   "metadata": {
    "id": "YSlYxFuRCaWk"
   },
   "source": [
    "#### Know the number of labels"
   ]
  },
  {
   "cell_type": "code",
   "execution_count": 6,
   "metadata": {
    "execution": {
     "iopub.execute_input": "2022-02-05T02:23:08.267860Z",
     "iopub.status.busy": "2022-02-05T02:23:08.267274Z",
     "iopub.status.idle": "2022-02-05T02:23:08.269783Z",
     "shell.execute_reply": "2022-02-05T02:23:08.270118Z"
    },
    "id": "XKnCTHz4CaWg"
   },
   "outputs": [
    {
     "data": {
      "text/plain": [
       "array([9, 0, 0, ..., 3, 0, 5], dtype=uint8)"
      ]
     },
     "execution_count": 6,
     "metadata": {},
     "output_type": "execute_result"
    }
   ],
   "source": [
    "train_labels"
   ]
  },
  {
   "cell_type": "markdown",
   "metadata": {
    "id": "TMPI88iZpO2T"
   },
   "source": [
    "#### Number of images in the test set (each image is represented as 28 x 28 pixels)"
   ]
  },
  {
   "cell_type": "code",
   "execution_count": 7,
   "metadata": {
    "execution": {
     "iopub.execute_input": "2022-02-05T02:23:08.273959Z",
     "iopub.status.busy": "2022-02-05T02:23:08.273317Z",
     "iopub.status.idle": "2022-02-05T02:23:08.275794Z",
     "shell.execute_reply": "2022-02-05T02:23:08.276131Z"
    },
    "id": "2KFnYlcwCaWl"
   },
   "outputs": [
    {
     "data": {
      "text/plain": [
       "(10000, 28, 28)"
      ]
     },
     "execution_count": 7,
     "metadata": {},
     "output_type": "execute_result"
    }
   ],
   "source": [
    "test_images.shape"
   ]
  },
  {
   "cell_type": "markdown",
   "metadata": {
    "id": "rd0A0Iu0CaWq"
   },
   "source": [
    "#### Number of labes in test set"
   ]
  },
  {
   "cell_type": "code",
   "execution_count": 8,
   "metadata": {
    "execution": {
     "iopub.execute_input": "2022-02-05T02:23:08.280012Z",
     "iopub.status.busy": "2022-02-05T02:23:08.279383Z",
     "iopub.status.idle": "2022-02-05T02:23:08.282069Z",
     "shell.execute_reply": "2022-02-05T02:23:08.281611Z"
    },
    "id": "iJmPr5-ACaWn"
   },
   "outputs": [
    {
     "data": {
      "text/plain": [
       "10000"
      ]
     },
     "execution_count": 8,
     "metadata": {},
     "output_type": "execute_result"
    }
   ],
   "source": [
    "len(test_labels)"
   ]
  },
  {
   "cell_type": "markdown",
   "metadata": {
    "id": "ES6uQoLKCaWr"
   },
   "source": [
    "## Preprocessing the data\n",
    "\n",
    "The data must be preprocessed before training the network. \n",
    "The pixel values fall in the range of 0 to 255:"
   ]
  },
  {
   "cell_type": "code",
   "execution_count": 9,
   "metadata": {
    "execution": {
     "iopub.execute_input": "2022-02-05T02:23:08.288632Z",
     "iopub.status.busy": "2022-02-05T02:23:08.288086Z",
     "iopub.status.idle": "2022-02-05T02:23:08.491137Z",
     "shell.execute_reply": "2022-02-05T02:23:08.491535Z"
    },
    "id": "m4VEw8Ud9Quh"
   },
   "outputs": [
    {
     "data": {
      "image/png": "[encoded data removed]",
      "text/plain": [
       "<Figure size 432x288 with 2 Axes>"
      ]
     },
     "metadata": {
      "needs_background": "light"
     },
     "output_type": "display_data"
    }
   ],
   "source": [
    "plt.figure()\n",
    "plt.imshow(train_images[0])\n",
    "plt.colorbar()\n",
    "plt.grid(False)\n",
    "plt.show()"
   ]
  },
  {
   "cell_type": "markdown",
   "metadata": {
    "id": "Wz7l27Lz9S1P"
   },
   "source": [
    "* Scale these values to a range of 0 to 1 before feeding them to the neural network model. \n",
    "* To do so, divide the values by 255. It's important that the *training set* and the *testing set* be preprocessed in the same way:"
   ]
  },
  {
   "cell_type": "code",
   "execution_count": 10,
   "metadata": {
    "execution": {
     "iopub.execute_input": "2022-02-05T02:23:08.495092Z",
     "iopub.status.busy": "2022-02-05T02:23:08.494541Z",
     "iopub.status.idle": "2022-02-05T02:23:08.649262Z",
     "shell.execute_reply": "2022-02-05T02:23:08.649716Z"
    },
    "id": "bW5WzIPlCaWv"
   },
   "outputs": [],
   "source": [
    "train_images = train_images / 255.0\n",
    "\n",
    "test_images = test_images / 255.0"
   ]
  },
  {
   "cell_type": "markdown",
   "metadata": {
    "id": "Ee638AlnCaWz"
   },
   "source": [
    "To verify that the data is in the correct format and that you're ready to build and train the network, let's display the first 25 images from the *training set* and display the class name below each image."
   ]
  },
  {
   "cell_type": "code",
   "execution_count": 11,
   "metadata": {
    "execution": {
     "iopub.execute_input": "2022-02-05T02:23:08.719166Z",
     "iopub.status.busy": "2022-02-05T02:23:08.718438Z",
     "iopub.status.idle": "2022-02-05T02:23:09.508634Z",
     "shell.execute_reply": "2022-02-05T02:23:09.509037Z"
    },
    "id": "oZTImqg_CaW1"
   },
   "outputs": [
    {
     "data": {
      "image/png": "[encoded data removed]",
      "text/plain": [
       "<Figure size 720x720 with 25 Axes>"
      ]
     },
     "metadata": {},
     "output_type": "display_data"
    }
   ],
   "source": [
    "plt.figure(figsize=(10,10))\n",
    "for i in range(25):\n",
    "    plt.subplot(5,5,i+1)\n",
    "    plt.xticks([])\n",
    "    plt.yticks([])\n",
    "    plt.grid(False)\n",
    "    plt.imshow(train_images[i], cmap=plt.cm.binary)\n",
    "    plt.xlabel(class_names[train_labels[i]])\n",
    "plt.show()"
   ]
  },
  {
   "cell_type": "markdown",
   "metadata": {
    "id": "59veuiEZCaW4"
   },
   "source": [
    "## Build the model\n",
    "\n",
    "Building the neural network requires configuring the layers of the model, then compiling the model."
   ]
  },
  {
   "cell_type": "markdown",
   "metadata": {
    "id": "Gxg1XGm0eOBy"
   },
   "source": [
    "### Set up the layers\n",
    "* The basic building block of a neural network is the *layer*. \n",
    "* Layers extract representations from the data fed into them. \n",
    "* Most of deep learning consists of chaining together simple layers. \n",
    "* Most layers, such as `tf.keras.layers.Dense`, have parameters that are learned during training."
   ]
  },
  {
   "cell_type": "code",
   "execution_count": 12,
   "metadata": {
    "execution": {
     "iopub.execute_input": "2022-02-05T02:23:09.515540Z",
     "iopub.status.busy": "2022-02-05T02:23:09.514954Z",
     "iopub.status.idle": "2022-02-05T02:23:11.016295Z",
     "shell.execute_reply": "2022-02-05T02:23:11.015745Z"
    },
    "id": "9ODch-OFCaW4"
   },
   "outputs": [
    {
     "name": "stdout",
     "output_type": "stream",
     "text": [
      "Model: \"sequential\"\n",
      "_________________________________________________________________\n",
      " Layer (type)                Output Shape              Param #   \n",
      "=================================================================\n",
      " flatten (Flatten)           (None, 784)               0         \n",
      "                                                                 \n",
      " dense (Dense)               (None, 128)               100480    \n",
      "                                                                 \n",
      " dense_1 (Dense)             (None, 10)                1290      \n",
      "                                                                 \n",
      "=================================================================\n",
      "Total params: 101,770\n",
      "Trainable params: 101,770\n",
      "Non-trainable params: 0\n",
      "_________________________________________________________________\n"
     ]
    }
   ],
   "source": [
    "model = tf.keras.Sequential([\n",
    "    tf.keras.layers.Flatten(input_shape=(28, 28)), # First layer will be a flatten layer when we are using image dataset #\n",
    "    tf.keras.layers.Dense(128, activation='relu'),\n",
    "    tf.keras.layers.Dense(10)\n",
    "])\n",
    "model.summary()"
   ]
  },
  {
   "cell_type": "markdown",
   "metadata": {
    "id": "gut8A_7rCaW6"
   },
   "source": [
    "#### First layer - Flatten layer\n",
    "The first layer in this network, `tf.keras.layers.Flatten`, transforms the format of the images from a two-dimensional array (of 28 by 28 pixels) to a one-dimensional array (of 28 * 28 = 784 pixels). \n",
    "Think of this layer as unstacking rows of pixels in the image and lining them up. \n",
    "This layer has no parameters to learn; it only reformats the data.\n",
    "\n",
    "\n",
    "After the pixels are flattened, the network consists of a sequence of two tf.keras.layers.Dense layers.\n",
    "\n",
    "    These are densely connected, or fully connected, neural layers.\n",
    "    The first Dense layer has 128 nodes (or neurons).\n",
    "    The second (and last) layer returns a logits array with length of 10. \n",
    "    Each node contains a score that indicates the current image belongs to one of the 10 classes.\n",
    "\n",
    "Compile the model\n",
    "\n",
    "model.compile (optimizer, loss, metrics)\n",
    "\n",
    "* `Loss function` —To measures how accurate the model is during training.\n",
    "* `Optimizer` — How the model is updated based on the data it sees and its loss function.\n",
    "* `Metrics`— To monitor the training and testing steps. This example uses accuracy, the fraction of the images that are correctly classified."
   ]
  },
  {
   "cell_type": "code",
   "execution_count": 13,
   "metadata": {
    "execution": {
     "iopub.execute_input": "2022-02-05T02:23:11.023505Z",
     "iopub.status.busy": "2022-02-05T02:23:11.022906Z",
     "iopub.status.idle": "2022-02-05T02:23:11.028191Z",
     "shell.execute_reply": "2022-02-05T02:23:11.027758Z"
    },
    "id": "Lhan11blCaW7"
   },
   "outputs": [],
   "source": [
    "model.compile(optimizer='adam',\n",
    "              loss=tf.keras.losses.SparseCategoricalCrossentropy(from_logits=True),\n",
    "              metrics=['accuracy'])"
   ]
  },
  {
   "cell_type": "markdown",
   "metadata": {
    "id": "qKF6uW-BCaW-"
   },
   "source": [
    "## Train the model\n",
    "\n",
    "Training the neural network model requires the following steps:\n",
    "\n",
    "1. Feed the training data to the model. In this example, the training data is in the `train_images` and `train_labels` arrays.\n",
    "2. The model learns to associate images and labels.\n",
    "3. Verify that the predictions match the labels from the `test_labels` array."
   ]
  },
  {
   "cell_type": "markdown",
   "metadata": {
    "id": "Z4P4zIV7E28Z"
   },
   "source": [
    "### Feed the model\n",
    "\n",
    "To start training,  call the [`model.fit`](https://www.tensorflow.org/api_docs/python/tf/keras/Model#fit) method—so called because it \"fits\" the model to the training data:"
   ]
  },
  {
   "cell_type": "code",
   "execution_count": 14,
   "metadata": {
    "execution": {
     "iopub.execute_input": "2022-02-05T02:23:11.032563Z",
     "iopub.status.busy": "2022-02-05T02:23:11.031996Z",
     "iopub.status.idle": "2022-02-05T02:23:45.127248Z",
     "shell.execute_reply": "2022-02-05T02:23:45.126760Z"
    },
    "id": "xvwvpA64CaW_"
   },
   "outputs": [
    {
     "name": "stdout",
     "output_type": "stream",
     "text": [
      "Epoch 1/500\n",
      "1875/1875 [==============================] - 12s 5ms/step - loss: 0.4993 - accuracy: 0.8241\n",
      "Epoch 2/500\n",
      "1875/1875 [==============================] - 9s 5ms/step - loss: 0.3790 - accuracy: 0.8633\n",
      "Epoch 3/500\n",
      "1875/1875 [==============================] - 9s 5ms/step - loss: 0.3395 - accuracy: 0.8766\n",
      "Epoch 4/500\n",
      "1875/1875 [==============================] - 9s 5ms/step - loss: 0.3141 - accuracy: 0.8850\n",
      "Epoch 5/500\n",
      "1875/1875 [==============================] - 10s 6ms/step - loss: 0.2960 - accuracy: 0.8906\n",
      "Epoch 6/500\n",
      "1875/1875 [==============================] - 15s 8ms/step - loss: 0.2828 - accuracy: 0.8959\n",
      "Epoch 7/500\n",
      "1875/1875 [==============================] - 11s 6ms/step - loss: 0.2685 - accuracy: 0.8998\n",
      "Epoch 8/500\n",
      "1875/1875 [==============================] - 10s 5ms/step - loss: 0.2585 - accuracy: 0.9035\n",
      "Epoch 9/500\n",
      "1875/1875 [==============================] - 8s 4ms/step - loss: 0.2501 - accuracy: 0.9063\n",
      "Epoch 10/500\n",
      "1875/1875 [==============================] - 6s 3ms/step - loss: 0.2377 - accuracy: 0.9110\n",
      "Epoch 11/500\n",
      "1875/1875 [==============================] - 8s 4ms/step - loss: 0.2311 - accuracy: 0.9129\n",
      "Epoch 12/500\n",
      "1875/1875 [==============================] - 7s 4ms/step - loss: 0.2245 - accuracy: 0.9163\n",
      "Epoch 13/500\n",
      "1875/1875 [==============================] - 6s 3ms/step - loss: 0.2182 - accuracy: 0.9190\n",
      "Epoch 14/500\n",
      "1875/1875 [==============================] - 8s 4ms/step - loss: 0.2108 - accuracy: 0.9202\n",
      "Epoch 15/500\n",
      "1875/1875 [==============================] - 5s 3ms/step - loss: 0.2038 - accuracy: 0.9244\n",
      "Epoch 16/500\n",
      "1875/1875 [==============================] - 7s 4ms/step - loss: 0.2002 - accuracy: 0.9248\n",
      "Epoch 17/500\n",
      "1875/1875 [==============================] - 8s 4ms/step - loss: 0.1954 - accuracy: 0.9275\n",
      "Epoch 18/500\n",
      "1875/1875 [==============================] - 5s 3ms/step - loss: 0.1877 - accuracy: 0.9304\n",
      "Epoch 19/500\n",
      "1875/1875 [==============================] - 5s 3ms/step - loss: 0.1824 - accuracy: 0.9321\n",
      "Epoch 20/500\n",
      "1875/1875 [==============================] - 5s 3ms/step - loss: 0.1796 - accuracy: 0.9338\n",
      "Epoch 21/500\n",
      "1875/1875 [==============================] - 5s 3ms/step - loss: 0.1748 - accuracy: 0.9338\n",
      "Epoch 22/500\n",
      "1875/1875 [==============================] - 5s 3ms/step - loss: 0.1688 - accuracy: 0.9365\n",
      "Epoch 23/500\n",
      "1875/1875 [==============================] - 5s 2ms/step - loss: 0.1657 - accuracy: 0.9385\n",
      "Epoch 24/500\n",
      "1875/1875 [==============================] - 8s 4ms/step - loss: 0.1617 - accuracy: 0.9391\n",
      "Epoch 25/500\n",
      "1875/1875 [==============================] - 8s 4ms/step - loss: 0.1578 - accuracy: 0.9396\n",
      "Epoch 26/500\n",
      "1875/1875 [==============================] - 8s 4ms/step - loss: 0.1541 - accuracy: 0.9416\n",
      "Epoch 27/500\n",
      "1875/1875 [==============================] - 7s 4ms/step - loss: 0.1521 - accuracy: 0.9430\n",
      "Epoch 28/500\n",
      "1875/1875 [==============================] - 7s 4ms/step - loss: 0.1461 - accuracy: 0.9460\n",
      "Epoch 29/500\n",
      "1875/1875 [==============================] - 8s 4ms/step - loss: 0.1462 - accuracy: 0.9449\n",
      "Epoch 30/500\n",
      "1875/1875 [==============================] - 7s 4ms/step - loss: 0.1417 - accuracy: 0.9462\n",
      "Epoch 31/500\n",
      "1875/1875 [==============================] - 6s 3ms/step - loss: 0.1364 - accuracy: 0.9483\n",
      "Epoch 32/500\n",
      "1875/1875 [==============================] - 7s 4ms/step - loss: 0.1371 - accuracy: 0.9485\n",
      "Epoch 33/500\n",
      "1875/1875 [==============================] - 7s 4ms/step - loss: 0.1328 - accuracy: 0.9498\n",
      "Epoch 34/500\n",
      "1875/1875 [==============================] - 7s 4ms/step - loss: 0.1315 - accuracy: 0.9503\n",
      "Epoch 35/500\n",
      "1875/1875 [==============================] - 8s 4ms/step - loss: 0.1260 - accuracy: 0.9538\n",
      "Epoch 36/500\n",
      "1875/1875 [==============================] - 10s 5ms/step - loss: 0.1265 - accuracy: 0.9528\n",
      "Epoch 37/500\n",
      "1875/1875 [==============================] - 9s 5ms/step - loss: 0.1220 - accuracy: 0.9546\n",
      "Epoch 38/500\n",
      "1875/1875 [==============================] - 5s 3ms/step - loss: 0.1204 - accuracy: 0.9546\n",
      "Epoch 39/500\n",
      "1875/1875 [==============================] - 6s 3ms/step - loss: 0.1176 - accuracy: 0.9556\n",
      "Epoch 40/500\n",
      "1875/1875 [==============================] - 6s 3ms/step - loss: 0.1186 - accuracy: 0.9563\n",
      "Epoch 41/500\n",
      "1875/1875 [==============================] - 5s 3ms/step - loss: 0.1112 - accuracy: 0.9586\n",
      "Epoch 42/500\n",
      "1875/1875 [==============================] - 5s 3ms/step - loss: 0.1124 - accuracy: 0.9576\n",
      "Epoch 43/500\n",
      "1875/1875 [==============================] - 5s 3ms/step - loss: 0.1113 - accuracy: 0.9591\n",
      "Epoch 44/500\n",
      "1875/1875 [==============================] - 5s 3ms/step - loss: 0.1079 - accuracy: 0.9602\n",
      "Epoch 45/500\n",
      "1875/1875 [==============================] - 5s 3ms/step - loss: 0.1048 - accuracy: 0.9611\n",
      "Epoch 46/500\n",
      "1875/1875 [==============================] - 5s 3ms/step - loss: 0.1051 - accuracy: 0.9604\n",
      "Epoch 47/500\n",
      "1875/1875 [==============================] - 5s 3ms/step - loss: 0.1022 - accuracy: 0.9620\n",
      "Epoch 48/500\n",
      "1875/1875 [==============================] - 8s 4ms/step - loss: 0.1000 - accuracy: 0.9629\n",
      "Epoch 49/500\n",
      "1875/1875 [==============================] - 8s 4ms/step - loss: 0.1012 - accuracy: 0.9615\n",
      "Epoch 50/500\n",
      "1875/1875 [==============================] - 8s 4ms/step - loss: 0.0960 - accuracy: 0.9639\n",
      "Epoch 51/500\n",
      "1875/1875 [==============================] - 9s 5ms/step - loss: 0.0978 - accuracy: 0.9628\n",
      "Epoch 52/500\n",
      "1875/1875 [==============================] - 8s 4ms/step - loss: 0.0940 - accuracy: 0.9650\n",
      "Epoch 53/500\n",
      "1875/1875 [==============================] - 12s 6ms/step - loss: 0.0920 - accuracy: 0.9657\n",
      "Epoch 54/500\n",
      "1875/1875 [==============================] - 12s 6ms/step - loss: 0.0914 - accuracy: 0.9663\n",
      "Epoch 55/500\n",
      "1875/1875 [==============================] - 8s 4ms/step - loss: 0.0912 - accuracy: 0.9654\n",
      "Epoch 56/500\n",
      "1875/1875 [==============================] - 7s 4ms/step - loss: 0.0873 - accuracy: 0.9675\n",
      "Epoch 57/500\n",
      "1875/1875 [==============================] - 7s 4ms/step - loss: 0.0890 - accuracy: 0.9664\n",
      "Epoch 58/500\n",
      "1875/1875 [==============================] - 7s 4ms/step - loss: 0.0847 - accuracy: 0.9688\n",
      "Epoch 59/500\n",
      "1875/1875 [==============================] - 7s 4ms/step - loss: 0.0863 - accuracy: 0.9676\n",
      "Epoch 60/500\n",
      "1875/1875 [==============================] - 7s 4ms/step - loss: 0.0830 - accuracy: 0.9688\n",
      "Epoch 61/500\n",
      "1875/1875 [==============================] - 7s 4ms/step - loss: 0.0819 - accuracy: 0.9695\n",
      "Epoch 62/500\n",
      "1875/1875 [==============================] - 7s 4ms/step - loss: 0.0824 - accuracy: 0.9700\n",
      "Epoch 63/500\n",
      "1875/1875 [==============================] - 9s 5ms/step - loss: 0.0812 - accuracy: 0.9694\n",
      "Epoch 64/500\n",
      "1875/1875 [==============================] - 7s 4ms/step - loss: 0.0784 - accuracy: 0.9707\n",
      "Epoch 65/500\n",
      "1875/1875 [==============================] - 7s 4ms/step - loss: 0.0794 - accuracy: 0.9705\n",
      "Epoch 66/500\n",
      "1875/1875 [==============================] - 8s 4ms/step - loss: 0.0764 - accuracy: 0.9718\n",
      "Epoch 67/500\n",
      "1875/1875 [==============================] - 7s 4ms/step - loss: 0.0737 - accuracy: 0.9727\n",
      "Epoch 68/500\n",
      "1875/1875 [==============================] - 8s 4ms/step - loss: 0.0756 - accuracy: 0.9716\n",
      "Epoch 69/500\n",
      "1875/1875 [==============================] - 7s 4ms/step - loss: 0.0723 - accuracy: 0.9730\n",
      "Epoch 70/500\n",
      "1875/1875 [==============================] - 7s 4ms/step - loss: 0.0759 - accuracy: 0.9719\n",
      "Epoch 71/500\n",
      "1875/1875 [==============================] - 8s 4ms/step - loss: 0.0702 - accuracy: 0.9732\n",
      "Epoch 72/500\n",
      "1875/1875 [==============================] - 7s 4ms/step - loss: 0.0736 - accuracy: 0.9729\n",
      "Epoch 73/500\n",
      "1875/1875 [==============================] - 7s 4ms/step - loss: 0.0693 - accuracy: 0.9748\n",
      "Epoch 74/500\n",
      "1875/1875 [==============================] - 7s 4ms/step - loss: 0.0685 - accuracy: 0.9740\n",
      "Epoch 75/500\n",
      "1875/1875 [==============================] - 8s 4ms/step - loss: 0.0698 - accuracy: 0.9738\n",
      "Epoch 76/500\n",
      "1875/1875 [==============================] - 11s 6ms/step - loss: 0.0634 - accuracy: 0.9764\n",
      "Epoch 77/500\n",
      "1875/1875 [==============================] - 9s 5ms/step - loss: 0.0691 - accuracy: 0.9747\n",
      "Epoch 78/500\n",
      "1875/1875 [==============================] - 7s 4ms/step - loss: 0.0640 - accuracy: 0.9764\n",
      "Epoch 79/500\n"
     ]
    },
    {
     "name": "stdout",
     "output_type": "stream",
     "text": [
      "1875/1875 [==============================] - 7s 4ms/step - loss: 0.0659 - accuracy: 0.9752\n",
      "Epoch 80/500\n",
      "1875/1875 [==============================] - 8s 4ms/step - loss: 0.0625 - accuracy: 0.9765\n",
      "Epoch 81/500\n",
      "1875/1875 [==============================] - 9s 5ms/step - loss: 0.0625 - accuracy: 0.9771\n",
      "Epoch 82/500\n",
      "1875/1875 [==============================] - 8s 4ms/step - loss: 0.0633 - accuracy: 0.9758\n",
      "Epoch 83/500\n",
      "1875/1875 [==============================] - 9s 5ms/step - loss: 0.0621 - accuracy: 0.9769\n",
      "Epoch 84/500\n",
      "1875/1875 [==============================] - 8s 4ms/step - loss: 0.0612 - accuracy: 0.9772\n",
      "Epoch 85/500\n",
      "1875/1875 [==============================] - 8s 4ms/step - loss: 0.0605 - accuracy: 0.9764\n",
      "Epoch 86/500\n",
      "1875/1875 [==============================] - 8s 4ms/step - loss: 0.0595 - accuracy: 0.9773\n",
      "Epoch 87/500\n",
      "1875/1875 [==============================] - 9s 5ms/step - loss: 0.0580 - accuracy: 0.9781\n",
      "Epoch 88/500\n",
      "1875/1875 [==============================] - 9s 5ms/step - loss: 0.0586 - accuracy: 0.9784\n",
      "Epoch 89/500\n",
      "1875/1875 [==============================] - 8s 4ms/step - loss: 0.0575 - accuracy: 0.9791\n",
      "Epoch 90/500\n",
      "1875/1875 [==============================] - 7s 4ms/step - loss: 0.0588 - accuracy: 0.9783\n",
      "Epoch 91/500\n",
      "1875/1875 [==============================] - 8s 4ms/step - loss: 0.0571 - accuracy: 0.9786\n",
      "Epoch 92/500\n",
      "1875/1875 [==============================] - 7s 4ms/step - loss: 0.0555 - accuracy: 0.9790\n",
      "Epoch 93/500\n",
      "1875/1875 [==============================] - 7s 4ms/step - loss: 0.0551 - accuracy: 0.9794\n",
      "Epoch 94/500\n",
      "1875/1875 [==============================] - 7s 4ms/step - loss: 0.0548 - accuracy: 0.9793\n",
      "Epoch 95/500\n",
      "1875/1875 [==============================] - 8s 4ms/step - loss: 0.0548 - accuracy: 0.9797\n",
      "Epoch 96/500\n",
      "1875/1875 [==============================] - 8s 4ms/step - loss: 0.0531 - accuracy: 0.9801\n",
      "Epoch 97/500\n",
      "1875/1875 [==============================] - 7s 4ms/step - loss: 0.0540 - accuracy: 0.9800\n",
      "Epoch 98/500\n",
      "1875/1875 [==============================] - 7s 4ms/step - loss: 0.0543 - accuracy: 0.9794\n",
      "Epoch 99/500\n",
      "1875/1875 [==============================] - 8s 4ms/step - loss: 0.0505 - accuracy: 0.9811\n",
      "Epoch 100/500\n",
      "1875/1875 [==============================] - 9s 5ms/step - loss: 0.0514 - accuracy: 0.9811\n",
      "Epoch 101/500\n",
      "1875/1875 [==============================] - 7s 4ms/step - loss: 0.0523 - accuracy: 0.9804\n",
      "Epoch 102/500\n",
      "1875/1875 [==============================] - 8s 4ms/step - loss: 0.0521 - accuracy: 0.9803\n",
      "Epoch 103/500\n",
      "1875/1875 [==============================] - 8s 4ms/step - loss: 0.0493 - accuracy: 0.9817\n",
      "Epoch 104/500\n",
      "1875/1875 [==============================] - 7s 4ms/step - loss: 0.0508 - accuracy: 0.9806\n",
      "Epoch 105/500\n",
      "1875/1875 [==============================] - 8s 4ms/step - loss: 0.0485 - accuracy: 0.9823\n",
      "Epoch 106/500\n",
      "1875/1875 [==============================] - 8s 4ms/step - loss: 0.0511 - accuracy: 0.9808\n",
      "Epoch 107/500\n",
      "1875/1875 [==============================] - 7s 4ms/step - loss: 0.0461 - accuracy: 0.9828\n",
      "Epoch 108/500\n",
      "1875/1875 [==============================] - 7s 4ms/step - loss: 0.0487 - accuracy: 0.9820\n",
      "Epoch 109/500\n",
      "1875/1875 [==============================] - 7s 4ms/step - loss: 0.0467 - accuracy: 0.9831\n",
      "Epoch 110/500\n",
      "1875/1875 [==============================] - 7s 4ms/step - loss: 0.0484 - accuracy: 0.9822\n",
      "Epoch 111/500\n",
      "1875/1875 [==============================] - 8s 4ms/step - loss: 0.0446 - accuracy: 0.9837\n",
      "Epoch 112/500\n",
      "1875/1875 [==============================] - 9s 5ms/step - loss: 0.0457 - accuracy: 0.9829\n",
      "Epoch 113/500\n",
      "1875/1875 [==============================] - 10s 5ms/step - loss: 0.0424 - accuracy: 0.9842\n",
      "Epoch 114/500\n",
      "1875/1875 [==============================] - 8s 4ms/step - loss: 0.0474 - accuracy: 0.9829\n",
      "Epoch 115/500\n",
      "1875/1875 [==============================] - 8s 4ms/step - loss: 0.0466 - accuracy: 0.9828\n",
      "Epoch 116/500\n",
      "1875/1875 [==============================] - 7s 4ms/step - loss: 0.0404 - accuracy: 0.9855\n",
      "Epoch 117/500\n",
      "1875/1875 [==============================] - 7s 4ms/step - loss: 0.0452 - accuracy: 0.9831\n",
      "Epoch 118/500\n",
      "1875/1875 [==============================] - 7s 4ms/step - loss: 0.0448 - accuracy: 0.9841\n",
      "Epoch 119/500\n",
      "1875/1875 [==============================] - 7s 4ms/step - loss: 0.0438 - accuracy: 0.9842\n",
      "Epoch 120/500\n",
      "1875/1875 [==============================] - 7s 4ms/step - loss: 0.0388 - accuracy: 0.9858\n",
      "Epoch 121/500\n",
      "1875/1875 [==============================] - 8s 4ms/step - loss: 0.0461 - accuracy: 0.9830\n",
      "Epoch 122/500\n",
      "1875/1875 [==============================] - 7s 4ms/step - loss: 0.0435 - accuracy: 0.9839\n",
      "Epoch 123/500\n",
      "1875/1875 [==============================] - 9s 5ms/step - loss: 0.0425 - accuracy: 0.9849\n",
      "Epoch 124/500\n",
      "1875/1875 [==============================] - 7s 4ms/step - loss: 0.0422 - accuracy: 0.9841\n",
      "Epoch 125/500\n",
      "1875/1875 [==============================] - 8s 4ms/step - loss: 0.0411 - accuracy: 0.9850\n",
      "Epoch 126/500\n",
      "1875/1875 [==============================] - 9s 5ms/step - loss: 0.0401 - accuracy: 0.9851\n",
      "Epoch 127/500\n",
      "1875/1875 [==============================] - 8s 4ms/step - loss: 0.0423 - accuracy: 0.9843\n",
      "Epoch 128/500\n",
      "1875/1875 [==============================] - 9s 5ms/step - loss: 0.0386 - accuracy: 0.9858\n",
      "Epoch 129/500\n",
      "1875/1875 [==============================] - 8s 4ms/step - loss: 0.0400 - accuracy: 0.9851\n",
      "Epoch 130/500\n",
      "1875/1875 [==============================] - 8s 5ms/step - loss: 0.0406 - accuracy: 0.9845\n",
      "Epoch 131/500\n",
      "1875/1875 [==============================] - 8s 4ms/step - loss: 0.0385 - accuracy: 0.9860\n",
      "Epoch 132/500\n",
      "1875/1875 [==============================] - 8s 4ms/step - loss: 0.0422 - accuracy: 0.9845\n",
      "Epoch 133/500\n",
      "1875/1875 [==============================] - 8s 4ms/step - loss: 0.0357 - accuracy: 0.9869\n",
      "Epoch 134/500\n",
      "1875/1875 [==============================] - 7s 4ms/step - loss: 0.0404 - accuracy: 0.9851\n",
      "Epoch 135/500\n",
      "1875/1875 [==============================] - 7s 4ms/step - loss: 0.0391 - accuracy: 0.9858\n",
      "Epoch 136/500\n",
      "1875/1875 [==============================] - 8s 4ms/step - loss: 0.0364 - accuracy: 0.9869\n",
      "Epoch 137/500\n",
      "1875/1875 [==============================] - 8s 4ms/step - loss: 0.0356 - accuracy: 0.9869\n",
      "Epoch 138/500\n",
      "1875/1875 [==============================] - 8s 4ms/step - loss: 0.0369 - accuracy: 0.9866\n",
      "Epoch 139/500\n",
      "1875/1875 [==============================] - 8s 4ms/step - loss: 0.0364 - accuracy: 0.9865\n",
      "Epoch 140/500\n",
      "1875/1875 [==============================] - 8s 4ms/step - loss: 0.0366 - accuracy: 0.9871\n",
      "Epoch 141/500\n",
      "1875/1875 [==============================] - 7s 4ms/step - loss: 0.0379 - accuracy: 0.9869\n",
      "Epoch 142/500\n",
      "1875/1875 [==============================] - 8s 4ms/step - loss: 0.0330 - accuracy: 0.9879\n",
      "Epoch 143/500\n",
      "1875/1875 [==============================] - 9s 5ms/step - loss: 0.0359 - accuracy: 0.9867\n",
      "Epoch 144/500\n",
      "1875/1875 [==============================] - 8s 5ms/step - loss: 0.0375 - accuracy: 0.9862\n",
      "Epoch 145/500\n",
      "1875/1875 [==============================] - 8s 4ms/step - loss: 0.0338 - accuracy: 0.9874\n",
      "Epoch 146/500\n",
      "1875/1875 [==============================] - 7s 4ms/step - loss: 0.0345 - accuracy: 0.9867\n",
      "Epoch 147/500\n",
      "1875/1875 [==============================] - 7s 4ms/step - loss: 0.0359 - accuracy: 0.9869\n",
      "Epoch 148/500\n",
      "1875/1875 [==============================] - 7s 4ms/step - loss: 0.0322 - accuracy: 0.9880\n",
      "Epoch 149/500\n",
      "1875/1875 [==============================] - 7s 4ms/step - loss: 0.0345 - accuracy: 0.9880\n",
      "Epoch 150/500\n",
      "1875/1875 [==============================] - 7s 4ms/step - loss: 0.0362 - accuracy: 0.9868\n",
      "Epoch 151/500\n",
      "1875/1875 [==============================] - 7s 4ms/step - loss: 0.0349 - accuracy: 0.9870\n",
      "Epoch 152/500\n",
      "1875/1875 [==============================] - 7s 4ms/step - loss: 0.0355 - accuracy: 0.9879\n",
      "Epoch 153/500\n",
      "1875/1875 [==============================] - 9s 5ms/step - loss: 0.0334 - accuracy: 0.9878\n",
      "Epoch 154/500\n",
      "1875/1875 [==============================] - 8s 4ms/step - loss: 0.0320 - accuracy: 0.9884\n",
      "Epoch 155/500\n",
      "1875/1875 [==============================] - 7s 4ms/step - loss: 0.0309 - accuracy: 0.9884\n",
      "Epoch 156/500\n",
      "1875/1875 [==============================] - 8s 4ms/step - loss: 0.0348 - accuracy: 0.9874\n",
      "Epoch 157/500\n"
     ]
    },
    {
     "name": "stdout",
     "output_type": "stream",
     "text": [
      "1875/1875 [==============================] - 9s 5ms/step - loss: 0.0311 - accuracy: 0.9890\n",
      "Epoch 158/500\n",
      "1875/1875 [==============================] - 8s 4ms/step - loss: 0.0329 - accuracy: 0.9879\n",
      "Epoch 159/500\n",
      "1875/1875 [==============================] - 7s 4ms/step - loss: 0.0322 - accuracy: 0.9877\n",
      "Epoch 160/500\n",
      "1875/1875 [==============================] - 8s 4ms/step - loss: 0.0290 - accuracy: 0.9895\n",
      "Epoch 161/500\n",
      "1875/1875 [==============================] - 8s 4ms/step - loss: 0.0314 - accuracy: 0.9886\n",
      "Epoch 162/500\n",
      "1875/1875 [==============================] - 7s 4ms/step - loss: 0.0301 - accuracy: 0.9895\n",
      "Epoch 163/500\n",
      "1875/1875 [==============================] - 8s 4ms/step - loss: 0.0317 - accuracy: 0.9887\n",
      "Epoch 164/500\n",
      "1875/1875 [==============================] - 7s 4ms/step - loss: 0.0328 - accuracy: 0.9883\n",
      "Epoch 165/500\n",
      "1875/1875 [==============================] - 7s 4ms/step - loss: 0.0310 - accuracy: 0.9893\n",
      "Epoch 166/500\n",
      "1875/1875 [==============================] - 7s 4ms/step - loss: 0.0302 - accuracy: 0.9892\n",
      "Epoch 167/500\n",
      "1875/1875 [==============================] - 7s 4ms/step - loss: 0.0323 - accuracy: 0.9887\n",
      "Epoch 168/500\n",
      "1875/1875 [==============================] - 7s 4ms/step - loss: 0.0306 - accuracy: 0.9889\n",
      "Epoch 169/500\n",
      "1875/1875 [==============================] - 7s 4ms/step - loss: 0.0313 - accuracy: 0.9887\n",
      "Epoch 170/500\n",
      "1875/1875 [==============================] - 7s 4ms/step - loss: 0.0288 - accuracy: 0.9898\n",
      "Epoch 171/500\n",
      "1875/1875 [==============================] - 7s 4ms/step - loss: 0.0282 - accuracy: 0.9899\n",
      "Epoch 172/500\n",
      "1875/1875 [==============================] - 7s 4ms/step - loss: 0.0297 - accuracy: 0.9892\n",
      "Epoch 173/500\n",
      "1875/1875 [==============================] - 7s 4ms/step - loss: 0.0307 - accuracy: 0.9891\n",
      "Epoch 174/500\n",
      "1875/1875 [==============================] - 7s 4ms/step - loss: 0.0266 - accuracy: 0.9907\n",
      "Epoch 175/500\n",
      "1875/1875 [==============================] - 7s 4ms/step - loss: 0.0301 - accuracy: 0.9894\n",
      "Epoch 176/500\n",
      "1875/1875 [==============================] - 7s 4ms/step - loss: 0.0301 - accuracy: 0.9898\n",
      "Epoch 177/500\n",
      "1875/1875 [==============================] - 7s 4ms/step - loss: 0.0293 - accuracy: 0.9893\n",
      "Epoch 178/500\n",
      "1875/1875 [==============================] - 7s 4ms/step - loss: 0.0284 - accuracy: 0.9902\n",
      "Epoch 179/500\n",
      "1875/1875 [==============================] - 7s 4ms/step - loss: 0.0294 - accuracy: 0.9898\n",
      "Epoch 180/500\n",
      "1875/1875 [==============================] - 7s 4ms/step - loss: 0.0310 - accuracy: 0.9889\n",
      "Epoch 181/500\n",
      "1875/1875 [==============================] - 7s 4ms/step - loss: 0.0266 - accuracy: 0.9902\n",
      "Epoch 182/500\n",
      "1875/1875 [==============================] - 7s 4ms/step - loss: 0.0314 - accuracy: 0.9894\n",
      "Epoch 183/500\n",
      "1875/1875 [==============================] - 7s 4ms/step - loss: 0.0253 - accuracy: 0.9904\n",
      "Epoch 184/500\n",
      "1875/1875 [==============================] - 7s 4ms/step - loss: 0.0297 - accuracy: 0.9894\n",
      "Epoch 185/500\n",
      "1875/1875 [==============================] - 7s 4ms/step - loss: 0.0281 - accuracy: 0.9899\n",
      "Epoch 186/500\n",
      "1875/1875 [==============================] - 10s 6ms/step - loss: 0.0274 - accuracy: 0.9901\n",
      "Epoch 187/500\n",
      "1875/1875 [==============================] - 7s 4ms/step - loss: 0.0282 - accuracy: 0.9897\n",
      "Epoch 188/500\n",
      "1875/1875 [==============================] - 10s 5ms/step - loss: 0.0275 - accuracy: 0.9900\n",
      "Epoch 189/500\n",
      "1875/1875 [==============================] - 10s 5ms/step - loss: 0.0284 - accuracy: 0.9900\n",
      "Epoch 190/500\n",
      "1875/1875 [==============================] - 7s 4ms/step - loss: 0.0261 - accuracy: 0.9907\n",
      "Epoch 191/500\n",
      "1875/1875 [==============================] - 7s 4ms/step - loss: 0.0263 - accuracy: 0.9905\n",
      "Epoch 192/500\n",
      "1875/1875 [==============================] - 7s 4ms/step - loss: 0.0276 - accuracy: 0.9904\n",
      "Epoch 193/500\n",
      "1875/1875 [==============================] - 6s 3ms/step - loss: 0.0260 - accuracy: 0.9911\n",
      "Epoch 194/500\n",
      "1875/1875 [==============================] - 9s 5ms/step - loss: 0.0284 - accuracy: 0.9902\n",
      "Epoch 195/500\n",
      "1875/1875 [==============================] - 5s 3ms/step - loss: 0.0250 - accuracy: 0.9910\n",
      "Epoch 196/500\n",
      "1875/1875 [==============================] - 5s 3ms/step - loss: 0.0266 - accuracy: 0.9908\n",
      "Epoch 197/500\n",
      "1875/1875 [==============================] - 5s 3ms/step - loss: 0.0261 - accuracy: 0.9910\n",
      "Epoch 198/500\n",
      "1875/1875 [==============================] - 5s 3ms/step - loss: 0.0268 - accuracy: 0.9902\n",
      "Epoch 199/500\n",
      "1875/1875 [==============================] - 5s 3ms/step - loss: 0.0267 - accuracy: 0.9906\n",
      "Epoch 200/500\n",
      "1875/1875 [==============================] - 5s 3ms/step - loss: 0.0262 - accuracy: 0.9914\n",
      "Epoch 201/500\n",
      "1875/1875 [==============================] - 5s 3ms/step - loss: 0.0247 - accuracy: 0.9913\n",
      "Epoch 202/500\n",
      "1875/1875 [==============================] - 5s 3ms/step - loss: 0.0268 - accuracy: 0.9904\n",
      "Epoch 203/500\n",
      "1875/1875 [==============================] - 5s 3ms/step - loss: 0.0287 - accuracy: 0.9897\n",
      "Epoch 204/500\n",
      "1875/1875 [==============================] - 5s 3ms/step - loss: 0.0266 - accuracy: 0.9908\n",
      "Epoch 205/500\n",
      "1875/1875 [==============================] - 5s 3ms/step - loss: 0.0244 - accuracy: 0.9916\n",
      "Epoch 206/500\n",
      "1875/1875 [==============================] - 6s 3ms/step - loss: 0.0247 - accuracy: 0.9912\n",
      "Epoch 207/500\n",
      "1875/1875 [==============================] - 7s 4ms/step - loss: 0.0249 - accuracy: 0.9909\n",
      "Epoch 208/500\n",
      "1875/1875 [==============================] - 8s 4ms/step - loss: 0.0229 - accuracy: 0.9917\n",
      "Epoch 209/500\n",
      "1875/1875 [==============================] - 8s 4ms/step - loss: 0.0265 - accuracy: 0.9909\n",
      "Epoch 210/500\n",
      "1875/1875 [==============================] - 8s 4ms/step - loss: 0.0231 - accuracy: 0.9917\n",
      "Epoch 211/500\n",
      "1875/1875 [==============================] - 9s 5ms/step - loss: 0.0242 - accuracy: 0.9921\n",
      "Epoch 212/500\n",
      "1875/1875 [==============================] - 9s 5ms/step - loss: 0.0234 - accuracy: 0.9917\n",
      "Epoch 213/500\n",
      "1875/1875 [==============================] - 9s 5ms/step - loss: 0.0252 - accuracy: 0.9914\n",
      "Epoch 214/500\n",
      "1875/1875 [==============================] - 8s 5ms/step - loss: 0.0217 - accuracy: 0.9925\n",
      "Epoch 215/500\n",
      "1875/1875 [==============================] - 7s 4ms/step - loss: 0.0271 - accuracy: 0.9908\n",
      "Epoch 216/500\n",
      "1875/1875 [==============================] - 7s 4ms/step - loss: 0.0234 - accuracy: 0.9920\n",
      "Epoch 217/500\n",
      "1875/1875 [==============================] - 7s 4ms/step - loss: 0.0242 - accuracy: 0.9917\n",
      "Epoch 218/500\n",
      "1875/1875 [==============================] - 7s 4ms/step - loss: 0.0226 - accuracy: 0.9925\n",
      "Epoch 219/500\n",
      "1875/1875 [==============================] - 7s 4ms/step - loss: 0.0245 - accuracy: 0.9913\n",
      "Epoch 220/500\n",
      "1875/1875 [==============================] - 8s 4ms/step - loss: 0.0204 - accuracy: 0.9926\n",
      "Epoch 221/500\n",
      "1875/1875 [==============================] - 9s 5ms/step - loss: 0.0265 - accuracy: 0.9905\n",
      "Epoch 222/500\n",
      "1875/1875 [==============================] - 8s 4ms/step - loss: 0.0252 - accuracy: 0.9913\n",
      "Epoch 223/500\n",
      "1875/1875 [==============================] - 7s 4ms/step - loss: 0.0232 - accuracy: 0.9924\n",
      "Epoch 224/500\n",
      "1875/1875 [==============================] - 7s 4ms/step - loss: 0.0243 - accuracy: 0.9915\n",
      "Epoch 225/500\n",
      "1875/1875 [==============================] - 7s 4ms/step - loss: 0.0181 - accuracy: 0.9934\n",
      "Epoch 226/500\n",
      "1875/1875 [==============================] - 7s 4ms/step - loss: 0.0258 - accuracy: 0.9918\n",
      "Epoch 227/500\n",
      "1875/1875 [==============================] - 7s 4ms/step - loss: 0.0217 - accuracy: 0.9922\n",
      "Epoch 228/500\n",
      "1875/1875 [==============================] - 7s 4ms/step - loss: 0.0229 - accuracy: 0.9924\n",
      "Epoch 229/500\n",
      "1875/1875 [==============================] - 7s 4ms/step - loss: 0.0225 - accuracy: 0.9920\n",
      "Epoch 230/500\n",
      "1875/1875 [==============================] - 8s 4ms/step - loss: 0.0238 - accuracy: 0.9915\n",
      "Epoch 231/500\n",
      "1875/1875 [==============================] - 8s 4ms/step - loss: 0.0254 - accuracy: 0.9919\n",
      "Epoch 232/500\n",
      "1875/1875 [==============================] - 8s 4ms/step - loss: 0.0218 - accuracy: 0.9923\n",
      "Epoch 233/500\n",
      "1875/1875 [==============================] - 8s 4ms/step - loss: 0.0195 - accuracy: 0.9933\n",
      "Epoch 234/500\n",
      "1875/1875 [==============================] - 8s 4ms/step - loss: 0.0222 - accuracy: 0.9925\n",
      "Epoch 235/500\n"
     ]
    },
    {
     "name": "stdout",
     "output_type": "stream",
     "text": [
      "1875/1875 [==============================] - 7s 4ms/step - loss: 0.0211 - accuracy: 0.9926\n",
      "Epoch 236/500\n",
      "1875/1875 [==============================] - 7s 4ms/step - loss: 0.0229 - accuracy: 0.9921\n",
      "Epoch 237/500\n",
      "1875/1875 [==============================] - 7s 4ms/step - loss: 0.0252 - accuracy: 0.9913\n",
      "Epoch 238/500\n",
      "1875/1875 [==============================] - 8s 4ms/step - loss: 0.0189 - accuracy: 0.9933\n",
      "Epoch 239/500\n",
      "1875/1875 [==============================] - 7s 4ms/step - loss: 0.0227 - accuracy: 0.9922\n",
      "Epoch 240/500\n",
      "1875/1875 [==============================] - 7s 4ms/step - loss: 0.0242 - accuracy: 0.9916\n",
      "Epoch 241/500\n",
      "1875/1875 [==============================] - 7s 4ms/step - loss: 0.0225 - accuracy: 0.9922\n",
      "Epoch 242/500\n",
      "1875/1875 [==============================] - 7s 4ms/step - loss: 0.0181 - accuracy: 0.9936\n",
      "Epoch 243/500\n",
      "1875/1875 [==============================] - 7s 4ms/step - loss: 0.0222 - accuracy: 0.9923\n",
      "Epoch 244/500\n",
      "1875/1875 [==============================] - 8s 4ms/step - loss: 0.0215 - accuracy: 0.9926\n",
      "Epoch 245/500\n",
      "1875/1875 [==============================] - 8s 4ms/step - loss: 0.0244 - accuracy: 0.9924\n",
      "Epoch 246/500\n",
      "1875/1875 [==============================] - 9s 5ms/step - loss: 0.0210 - accuracy: 0.9929\n",
      "Epoch 247/500\n",
      "1875/1875 [==============================] - 8s 4ms/step - loss: 0.0201 - accuracy: 0.9929\n",
      "Epoch 248/500\n",
      "1875/1875 [==============================] - 8s 4ms/step - loss: 0.0206 - accuracy: 0.9930\n",
      "Epoch 249/500\n",
      "1875/1875 [==============================] - 9s 5ms/step - loss: 0.0226 - accuracy: 0.9922\n",
      "Epoch 250/500\n",
      "1875/1875 [==============================] - 9s 5ms/step - loss: 0.0209 - accuracy: 0.9929\n",
      "Epoch 251/500\n",
      "1875/1875 [==============================] - 8s 4ms/step - loss: 0.0182 - accuracy: 0.9936\n",
      "Epoch 252/500\n",
      "1875/1875 [==============================] - 7s 4ms/step - loss: 0.0235 - accuracy: 0.9921\n",
      "Epoch 253/500\n",
      "1875/1875 [==============================] - 7s 4ms/step - loss: 0.0204 - accuracy: 0.9931\n",
      "Epoch 254/500\n",
      "1875/1875 [==============================] - 7s 4ms/step - loss: 0.0253 - accuracy: 0.9920\n",
      "Epoch 255/500\n",
      "1875/1875 [==============================] - 7s 4ms/step - loss: 0.0178 - accuracy: 0.9936\n",
      "Epoch 256/500\n",
      "1875/1875 [==============================] - 7s 4ms/step - loss: 0.0223 - accuracy: 0.9926\n",
      "Epoch 257/500\n",
      "1875/1875 [==============================] - 8s 4ms/step - loss: 0.0215 - accuracy: 0.9930\n",
      "Epoch 258/500\n",
      "1875/1875 [==============================] - 12s 7ms/step - loss: 0.0185 - accuracy: 0.9940\n",
      "Epoch 259/500\n",
      "1875/1875 [==============================] - 9s 5ms/step - loss: 0.0201 - accuracy: 0.9933\n",
      "Epoch 260/500\n",
      "1875/1875 [==============================] - 8s 4ms/step - loss: 0.0193 - accuracy: 0.9937\n",
      "Epoch 261/500\n",
      "1875/1875 [==============================] - 9s 5ms/step - loss: 0.0209 - accuracy: 0.9931\n",
      "Epoch 262/500\n",
      "1875/1875 [==============================] - 8s 4ms/step - loss: 0.0213 - accuracy: 0.9932\n",
      "Epoch 263/500\n",
      "1875/1875 [==============================] - 7s 4ms/step - loss: 0.0162 - accuracy: 0.9947\n",
      "Epoch 264/500\n",
      "1875/1875 [==============================] - 9s 5ms/step - loss: 0.0209 - accuracy: 0.9930\n",
      "Epoch 265/500\n",
      "1875/1875 [==============================] - 8s 4ms/step - loss: 0.0192 - accuracy: 0.9937\n",
      "Epoch 266/500\n",
      "1875/1875 [==============================] - 10s 5ms/step - loss: 0.0217 - accuracy: 0.9926\n",
      "Epoch 267/500\n",
      "1875/1875 [==============================] - 11s 6ms/step - loss: 0.0210 - accuracy: 0.9928\n",
      "Epoch 268/500\n",
      "1875/1875 [==============================] - 9s 5ms/step - loss: 0.0182 - accuracy: 0.9937\n",
      "Epoch 269/500\n",
      "1875/1875 [==============================] - 9s 5ms/step - loss: 0.0178 - accuracy: 0.9935\n",
      "Epoch 270/500\n",
      "1875/1875 [==============================] - 8s 4ms/step - loss: 0.0200 - accuracy: 0.9937\n",
      "Epoch 271/500\n",
      "1875/1875 [==============================] - 7s 4ms/step - loss: 0.0208 - accuracy: 0.9934\n",
      "Epoch 272/500\n",
      "1875/1875 [==============================] - 8s 4ms/step - loss: 0.0197 - accuracy: 0.9932\n",
      "Epoch 273/500\n",
      "1875/1875 [==============================] - 8s 4ms/step - loss: 0.0195 - accuracy: 0.9936\n",
      "Epoch 274/500\n",
      "1875/1875 [==============================] - 9s 5ms/step - loss: 0.0184 - accuracy: 0.9938\n",
      "Epoch 275/500\n",
      "1875/1875 [==============================] - 8s 4ms/step - loss: 0.0240 - accuracy: 0.9920\n",
      "Epoch 276/500\n",
      "1875/1875 [==============================] - 8s 4ms/step - loss: 0.0176 - accuracy: 0.9939\n",
      "Epoch 277/500\n",
      "1875/1875 [==============================] - 8s 4ms/step - loss: 0.0149 - accuracy: 0.9951\n",
      "Epoch 278/500\n",
      "1875/1875 [==============================] - 8s 4ms/step - loss: 0.0201 - accuracy: 0.9929\n",
      "Epoch 279/500\n",
      "1875/1875 [==============================] - 8s 4ms/step - loss: 0.0218 - accuracy: 0.9932\n",
      "Epoch 280/500\n",
      "1875/1875 [==============================] - 7s 4ms/step - loss: 0.0159 - accuracy: 0.9945\n",
      "Epoch 281/500\n",
      "1875/1875 [==============================] - 8s 4ms/step - loss: 0.0205 - accuracy: 0.9932\n",
      "Epoch 282/500\n",
      "1875/1875 [==============================] - 8s 4ms/step - loss: 0.0207 - accuracy: 0.9935\n",
      "Epoch 283/500\n",
      "1875/1875 [==============================] - 7s 4ms/step - loss: 0.0206 - accuracy: 0.9934\n",
      "Epoch 284/500\n",
      "1875/1875 [==============================] - 8s 5ms/step - loss: 0.0192 - accuracy: 0.9938\n",
      "Epoch 285/500\n",
      "1875/1875 [==============================] - 11s 6ms/step - loss: 0.0189 - accuracy: 0.9935\n",
      "Epoch 286/500\n",
      "1875/1875 [==============================] - 8s 4ms/step - loss: 0.0170 - accuracy: 0.9940\n",
      "Epoch 287/500\n",
      "1875/1875 [==============================] - 8s 4ms/step - loss: 0.0169 - accuracy: 0.9944\n",
      "Epoch 288/500\n",
      "1875/1875 [==============================] - 9s 5ms/step - loss: 0.0195 - accuracy: 0.9932\n",
      "Epoch 289/500\n",
      "1875/1875 [==============================] - 8s 4ms/step - loss: 0.0211 - accuracy: 0.9933\n",
      "Epoch 290/500\n",
      "1875/1875 [==============================] - 7s 4ms/step - loss: 0.0175 - accuracy: 0.9940\n",
      "Epoch 291/500\n",
      "1875/1875 [==============================] - 7s 4ms/step - loss: 0.0174 - accuracy: 0.9944\n",
      "Epoch 292/500\n",
      "1875/1875 [==============================] - 8s 4ms/step - loss: 0.0188 - accuracy: 0.9937\n",
      "Epoch 293/500\n",
      "1875/1875 [==============================] - 8s 4ms/step - loss: 0.0185 - accuracy: 0.9943\n",
      "Epoch 294/500\n",
      "1875/1875 [==============================] - 9s 5ms/step - loss: 0.0164 - accuracy: 0.9944\n",
      "Epoch 295/500\n",
      "1875/1875 [==============================] - 7s 4ms/step - loss: 0.0181 - accuracy: 0.9940\n",
      "Epoch 296/500\n",
      "1875/1875 [==============================] - 10s 5ms/step - loss: 0.0224 - accuracy: 0.9930\n",
      "Epoch 297/500\n",
      "1875/1875 [==============================] - 9s 5ms/step - loss: 0.0155 - accuracy: 0.9949\n",
      "Epoch 298/500\n",
      "1875/1875 [==============================] - 7s 4ms/step - loss: 0.0169 - accuracy: 0.9947\n",
      "Epoch 299/500\n",
      "1875/1875 [==============================] - 8s 4ms/step - loss: 0.0154 - accuracy: 0.9952\n",
      "Epoch 300/500\n",
      "1875/1875 [==============================] - 8s 4ms/step - loss: 0.0223 - accuracy: 0.9927\n",
      "Epoch 301/500\n",
      "1875/1875 [==============================] - 7s 4ms/step - loss: 0.0163 - accuracy: 0.9946\n",
      "Epoch 302/500\n",
      "1875/1875 [==============================] - 7s 4ms/step - loss: 0.0139 - accuracy: 0.9953\n",
      "Epoch 303/500\n",
      "1875/1875 [==============================] - 7s 4ms/step - loss: 0.0182 - accuracy: 0.9942\n",
      "Epoch 304/500\n",
      "1875/1875 [==============================] - 8s 4ms/step - loss: 0.0178 - accuracy: 0.9942\n",
      "Epoch 305/500\n",
      "1875/1875 [==============================] - 8s 4ms/step - loss: 0.0182 - accuracy: 0.9941\n",
      "Epoch 306/500\n",
      "1875/1875 [==============================] - 10s 5ms/step - loss: 0.0201 - accuracy: 0.9939\n",
      "Epoch 307/500\n",
      "1875/1875 [==============================] - 8s 4ms/step - loss: 0.0208 - accuracy: 0.9936\n",
      "Epoch 308/500\n",
      "1875/1875 [==============================] - 7s 4ms/step - loss: 0.0180 - accuracy: 0.9943\n",
      "Epoch 309/500\n",
      "1875/1875 [==============================] - 7s 4ms/step - loss: 0.0184 - accuracy: 0.9939\n",
      "Epoch 310/500\n",
      "1875/1875 [==============================] - 7s 4ms/step - loss: 0.0197 - accuracy: 0.9941\n",
      "Epoch 311/500\n",
      "1875/1875 [==============================] - 8s 4ms/step - loss: 0.0130 - accuracy: 0.9958\n",
      "Epoch 312/500\n",
      "1875/1875 [==============================] - 8s 4ms/step - loss: 0.0174 - accuracy: 0.9949\n",
      "Epoch 313/500\n"
     ]
    },
    {
     "name": "stdout",
     "output_type": "stream",
     "text": [
      "1875/1875 [==============================] - 8s 4ms/step - loss: 0.0176 - accuracy: 0.9940\n",
      "Epoch 314/500\n",
      "1875/1875 [==============================] - 9s 5ms/step - loss: 0.0177 - accuracy: 0.9943\n",
      "Epoch 315/500\n",
      "1875/1875 [==============================] - 8s 4ms/step - loss: 0.0184 - accuracy: 0.9942\n",
      "Epoch 316/500\n",
      "1875/1875 [==============================] - 7s 4ms/step - loss: 0.0187 - accuracy: 0.9937\n",
      "Epoch 317/500\n",
      "1875/1875 [==============================] - 7s 4ms/step - loss: 0.0159 - accuracy: 0.9948\n",
      "Epoch 318/500\n",
      "1875/1875 [==============================] - 7s 4ms/step - loss: 0.0141 - accuracy: 0.9953\n",
      "Epoch 319/500\n",
      "1875/1875 [==============================] - 7s 4ms/step - loss: 0.0184 - accuracy: 0.9939\n",
      "Epoch 320/500\n",
      "1875/1875 [==============================] - 7s 4ms/step - loss: 0.0204 - accuracy: 0.9931\n",
      "Epoch 321/500\n",
      "1875/1875 [==============================] - 7s 4ms/step - loss: 0.0135 - accuracy: 0.9957\n",
      "Epoch 322/500\n",
      "1875/1875 [==============================] - 7s 4ms/step - loss: 0.0180 - accuracy: 0.9943\n",
      "Epoch 323/500\n",
      "1875/1875 [==============================] - 7s 4ms/step - loss: 0.0164 - accuracy: 0.9944\n",
      "Epoch 324/500\n",
      "1875/1875 [==============================] - 7s 4ms/step - loss: 0.0169 - accuracy: 0.9944\n",
      "Epoch 325/500\n",
      "1875/1875 [==============================] - 7s 4ms/step - loss: 0.0190 - accuracy: 0.9940\n",
      "Epoch 326/500\n",
      "1875/1875 [==============================] - 8s 4ms/step - loss: 0.0186 - accuracy: 0.9941\n",
      "Epoch 327/500\n",
      "1875/1875 [==============================] - 7s 4ms/step - loss: 0.0150 - accuracy: 0.9952\n",
      "Epoch 328/500\n",
      "1875/1875 [==============================] - 7s 4ms/step - loss: 0.0172 - accuracy: 0.9945\n",
      "Epoch 329/500\n",
      "1875/1875 [==============================] - 7s 4ms/step - loss: 0.0166 - accuracy: 0.9948\n",
      "Epoch 330/500\n",
      "1875/1875 [==============================] - 7s 4ms/step - loss: 0.0168 - accuracy: 0.9944\n",
      "Epoch 331/500\n",
      "1875/1875 [==============================] - 7s 4ms/step - loss: 0.0175 - accuracy: 0.9944\n",
      "Epoch 332/500\n",
      "1875/1875 [==============================] - 7s 4ms/step - loss: 0.0169 - accuracy: 0.9945\n",
      "Epoch 333/500\n",
      "1875/1875 [==============================] - 7s 4ms/step - loss: 0.0156 - accuracy: 0.9951\n",
      "Epoch 334/500\n",
      "1875/1875 [==============================] - 7s 4ms/step - loss: 0.0152 - accuracy: 0.9950\n",
      "Epoch 335/500\n",
      "1875/1875 [==============================] - 7s 4ms/step - loss: 0.0189 - accuracy: 0.9938\n",
      "Epoch 336/500\n",
      "1875/1875 [==============================] - 8s 4ms/step - loss: 0.0154 - accuracy: 0.9948\n",
      "Epoch 337/500\n",
      "1875/1875 [==============================] - 8s 4ms/step - loss: 0.0144 - accuracy: 0.9951\n",
      "Epoch 338/500\n",
      "1875/1875 [==============================] - 8s 4ms/step - loss: 0.0166 - accuracy: 0.9947\n",
      "Epoch 339/500\n",
      "1875/1875 [==============================] - 7s 4ms/step - loss: 0.0165 - accuracy: 0.9949\n",
      "Epoch 340/500\n",
      "1875/1875 [==============================] - 7s 4ms/step - loss: 0.0176 - accuracy: 0.9944\n",
      "Epoch 341/500\n",
      "1875/1875 [==============================] - 7s 4ms/step - loss: 0.0155 - accuracy: 0.9947\n",
      "Epoch 342/500\n",
      "1875/1875 [==============================] - 7s 4ms/step - loss: 0.0198 - accuracy: 0.9939\n",
      "Epoch 343/500\n",
      "1875/1875 [==============================] - 8s 4ms/step - loss: 0.0146 - accuracy: 0.9953\n",
      "Epoch 344/500\n",
      "1875/1875 [==============================] - 8s 4ms/step - loss: 0.0160 - accuracy: 0.9954\n",
      "Epoch 345/500\n",
      "1875/1875 [==============================] - 8s 4ms/step - loss: 0.0156 - accuracy: 0.9954\n",
      "Epoch 346/500\n",
      "1875/1875 [==============================] - 9s 5ms/step - loss: 0.0151 - accuracy: 0.9952\n",
      "Epoch 347/500\n",
      "1875/1875 [==============================] - 8s 4ms/step - loss: 0.0119 - accuracy: 0.9961\n",
      "Epoch 348/500\n",
      "1875/1875 [==============================] - 8s 4ms/step - loss: 0.0207 - accuracy: 0.9940\n",
      "Epoch 349/500\n",
      "1875/1875 [==============================] - 10s 6ms/step - loss: 0.0142 - accuracy: 0.9952\n",
      "Epoch 350/500\n",
      "1875/1875 [==============================] - 8s 4ms/step - loss: 0.0155 - accuracy: 0.9950\n",
      "Epoch 351/500\n",
      "1875/1875 [==============================] - 8s 4ms/step - loss: 0.0178 - accuracy: 0.9948\n",
      "Epoch 352/500\n",
      "1875/1875 [==============================] - 7s 4ms/step - loss: 0.0146 - accuracy: 0.9949\n",
      "Epoch 353/500\n",
      "1875/1875 [==============================] - 7s 4ms/step - loss: 0.0181 - accuracy: 0.9940\n",
      "Epoch 354/500\n",
      "1875/1875 [==============================] - 7s 4ms/step - loss: 0.0203 - accuracy: 0.9935\n",
      "Epoch 355/500\n",
      "1875/1875 [==============================] - 7s 4ms/step - loss: 0.0113 - accuracy: 0.9966\n",
      "Epoch 356/500\n",
      "1875/1875 [==============================] - 7s 4ms/step - loss: 0.0186 - accuracy: 0.9940\n",
      "Epoch 357/500\n",
      "1875/1875 [==============================] - 7s 4ms/step - loss: 0.0140 - accuracy: 0.9955\n",
      "Epoch 358/500\n",
      "1875/1875 [==============================] - 8s 4ms/step - loss: 0.0146 - accuracy: 0.9948\n",
      "Epoch 359/500\n",
      "1875/1875 [==============================] - 7s 4ms/step - loss: 0.0197 - accuracy: 0.9936\n",
      "Epoch 360/500\n",
      "1875/1875 [==============================] - 7s 4ms/step - loss: 0.0146 - accuracy: 0.9955\n",
      "Epoch 361/500\n",
      "1875/1875 [==============================] - 12s 6ms/step - loss: 0.0145 - accuracy: 0.9954\n",
      "Epoch 362/500\n",
      "1875/1875 [==============================] - 11s 6ms/step - loss: 0.0142 - accuracy: 0.9955\n",
      "Epoch 363/500\n",
      "1875/1875 [==============================] - 8s 4ms/step - loss: 0.0216 - accuracy: 0.9935\n",
      "Epoch 364/500\n",
      "1875/1875 [==============================] - 8s 4ms/step - loss: 0.0068 - accuracy: 0.9978\n",
      "Epoch 365/500\n",
      "1875/1875 [==============================] - 9s 5ms/step - loss: 0.0243 - accuracy: 0.9930\n",
      "Epoch 366/500\n",
      "1875/1875 [==============================] - 9s 5ms/step - loss: 0.0148 - accuracy: 0.9952\n",
      "Epoch 367/500\n",
      "1875/1875 [==============================] - 9s 5ms/step - loss: 0.0148 - accuracy: 0.9954\n",
      "Epoch 368/500\n",
      "1875/1875 [==============================] - 9s 5ms/step - loss: 0.0142 - accuracy: 0.9950\n",
      "Epoch 369/500\n",
      "1875/1875 [==============================] - 9s 5ms/step - loss: 0.0163 - accuracy: 0.9947\n",
      "Epoch 370/500\n",
      "1875/1875 [==============================] - 7s 4ms/step - loss: 0.0141 - accuracy: 0.9953\n",
      "Epoch 371/500\n",
      "1875/1875 [==============================] - 7s 4ms/step - loss: 0.0170 - accuracy: 0.9946\n",
      "Epoch 372/500\n",
      "1875/1875 [==============================] - 8s 4ms/step - loss: 0.0162 - accuracy: 0.9950\n",
      "Epoch 373/500\n",
      "1875/1875 [==============================] - 7s 4ms/step - loss: 0.0137 - accuracy: 0.9957\n",
      "Epoch 374/500\n",
      "1875/1875 [==============================] - 7s 4ms/step - loss: 0.0164 - accuracy: 0.9950\n",
      "Epoch 375/500\n",
      "1875/1875 [==============================] - 7s 4ms/step - loss: 0.0164 - accuracy: 0.9953\n",
      "Epoch 376/500\n",
      "1875/1875 [==============================] - 8s 4ms/step - loss: 0.0134 - accuracy: 0.9958\n",
      "Epoch 377/500\n",
      "1875/1875 [==============================] - 7s 4ms/step - loss: 0.0164 - accuracy: 0.9948\n",
      "Epoch 378/500\n",
      "1875/1875 [==============================] - 7s 4ms/step - loss: 0.0166 - accuracy: 0.9956\n",
      "Epoch 379/500\n",
      "1875/1875 [==============================] - 8s 5ms/step - loss: 0.0161 - accuracy: 0.9952\n",
      "Epoch 380/500\n",
      "1875/1875 [==============================] - 9s 5ms/step - loss: 0.0114 - accuracy: 0.9960\n",
      "Epoch 381/500\n",
      "1875/1875 [==============================] - 7s 4ms/step - loss: 0.0170 - accuracy: 0.9948\n",
      "Epoch 382/500\n",
      "1875/1875 [==============================] - 8s 4ms/step - loss: 0.0164 - accuracy: 0.9949\n",
      "Epoch 383/500\n",
      "1875/1875 [==============================] - 8s 4ms/step - loss: 0.0144 - accuracy: 0.9956\n",
      "Epoch 384/500\n",
      "1875/1875 [==============================] - 8s 4ms/step - loss: 0.0128 - accuracy: 0.9959\n",
      "Epoch 385/500\n",
      "1875/1875 [==============================] - 9s 5ms/step - loss: 0.0163 - accuracy: 0.9951\n",
      "Epoch 386/500\n",
      "1875/1875 [==============================] - 7s 4ms/step - loss: 0.0146 - accuracy: 0.9952\n",
      "Epoch 387/500\n",
      "1875/1875 [==============================] - 8s 4ms/step - loss: 0.0146 - accuracy: 0.9956\n",
      "Epoch 388/500\n",
      "1875/1875 [==============================] - 10s 5ms/step - loss: 0.0126 - accuracy: 0.9963\n",
      "Epoch 389/500\n",
      "1875/1875 [==============================] - 8s 4ms/step - loss: 0.0161 - accuracy: 0.9952\n",
      "Epoch 390/500\n",
      "1875/1875 [==============================] - 4s 2ms/step - loss: 0.0162 - accuracy: 0.9954\n",
      "Epoch 391/500\n"
     ]
    },
    {
     "name": "stdout",
     "output_type": "stream",
     "text": [
      "1875/1875 [==============================] - 5s 2ms/step - loss: 0.0188 - accuracy: 0.9947\n",
      "Epoch 392/500\n",
      "1875/1875 [==============================] - 5s 3ms/step - loss: 0.0144 - accuracy: 0.9958\n",
      "Epoch 393/500\n",
      "1875/1875 [==============================] - 5s 3ms/step - loss: 0.0125 - accuracy: 0.9959\n",
      "Epoch 394/500\n",
      "1875/1875 [==============================] - 5s 3ms/step - loss: 0.0166 - accuracy: 0.9947\n",
      "Epoch 395/500\n",
      "1875/1875 [==============================] - 6s 3ms/step - loss: 0.0157 - accuracy: 0.9952\n",
      "Epoch 396/500\n",
      "1875/1875 [==============================] - 6s 3ms/step - loss: 0.0109 - accuracy: 0.9968\n",
      "Epoch 397/500\n",
      "1875/1875 [==============================] - 5s 3ms/step - loss: 0.0171 - accuracy: 0.9949\n",
      "Epoch 398/500\n",
      "1875/1875 [==============================] - 6s 3ms/step - loss: 0.0144 - accuracy: 0.9952\n",
      "Epoch 399/500\n",
      "1875/1875 [==============================] - 5s 3ms/step - loss: 0.0145 - accuracy: 0.9959\n",
      "Epoch 400/500\n",
      "1875/1875 [==============================] - 4s 2ms/step - loss: 0.0124 - accuracy: 0.9961\n",
      "Epoch 401/500\n",
      "1875/1875 [==============================] - 4s 2ms/step - loss: 0.0161 - accuracy: 0.9952\n",
      "Epoch 402/500\n",
      "1875/1875 [==============================] - 4s 2ms/step - loss: 0.0143 - accuracy: 0.9958\n",
      "Epoch 403/500\n",
      "1875/1875 [==============================] - 4s 2ms/step - loss: 0.0141 - accuracy: 0.9954\n",
      "Epoch 404/500\n",
      "1875/1875 [==============================] - 4s 2ms/step - loss: 0.0108 - accuracy: 0.9963\n",
      "Epoch 405/500\n",
      "1875/1875 [==============================] - 4s 2ms/step - loss: 0.0198 - accuracy: 0.9942\n",
      "Epoch 406/500\n",
      "1875/1875 [==============================] - 4s 2ms/step - loss: 0.0133 - accuracy: 0.9958\n",
      "Epoch 407/500\n",
      "1875/1875 [==============================] - 4s 2ms/step - loss: 0.0136 - accuracy: 0.9957\n",
      "Epoch 408/500\n",
      "1875/1875 [==============================] - 4s 2ms/step - loss: 0.0178 - accuracy: 0.9942\n",
      "Epoch 409/500\n",
      "1875/1875 [==============================] - 4s 2ms/step - loss: 0.0136 - accuracy: 0.9957\n",
      "Epoch 410/500\n",
      "1875/1875 [==============================] - 4s 2ms/step - loss: 0.0165 - accuracy: 0.9949\n",
      "Epoch 411/500\n",
      "1875/1875 [==============================] - 4s 2ms/step - loss: 0.0141 - accuracy: 0.9955\n",
      "Epoch 412/500\n",
      "1875/1875 [==============================] - 4s 2ms/step - loss: 0.0151 - accuracy: 0.9956\n",
      "Epoch 413/500\n",
      "1875/1875 [==============================] - 4s 2ms/step - loss: 0.0108 - accuracy: 0.9964\n",
      "Epoch 414/500\n",
      "1875/1875 [==============================] - 4s 2ms/step - loss: 0.0176 - accuracy: 0.9943\n",
      "Epoch 415/500\n",
      "1875/1875 [==============================] - 4s 2ms/step - loss: 0.0135 - accuracy: 0.9958\n",
      "Epoch 416/500\n",
      "1875/1875 [==============================] - 4s 2ms/step - loss: 0.0135 - accuracy: 0.9959\n",
      "Epoch 417/500\n",
      "1875/1875 [==============================] - 4s 2ms/step - loss: 0.0160 - accuracy: 0.9955\n",
      "Epoch 418/500\n",
      "1875/1875 [==============================] - 4s 2ms/step - loss: 0.0152 - accuracy: 0.9961\n",
      "Epoch 419/500\n",
      "1875/1875 [==============================] - 4s 2ms/step - loss: 0.0164 - accuracy: 0.9955\n",
      "Epoch 420/500\n",
      "1875/1875 [==============================] - 4s 2ms/step - loss: 0.0131 - accuracy: 0.9961\n",
      "Epoch 421/500\n",
      "1875/1875 [==============================] - 4s 2ms/step - loss: 0.0098 - accuracy: 0.9969\n",
      "Epoch 422/500\n",
      "1875/1875 [==============================] - 4s 2ms/step - loss: 0.0200 - accuracy: 0.9943\n",
      "Epoch 423/500\n",
      "1875/1875 [==============================] - 4s 2ms/step - loss: 0.0150 - accuracy: 0.9957\n",
      "Epoch 424/500\n",
      "1875/1875 [==============================] - 4s 2ms/step - loss: 0.0116 - accuracy: 0.9965\n",
      "Epoch 425/500\n",
      "1875/1875 [==============================] - 4s 2ms/step - loss: 0.0182 - accuracy: 0.9947\n",
      "Epoch 426/500\n",
      "1875/1875 [==============================] - 4s 2ms/step - loss: 0.0150 - accuracy: 0.9953\n",
      "Epoch 427/500\n",
      "1875/1875 [==============================] - 4s 2ms/step - loss: 0.0150 - accuracy: 0.9956\n",
      "Epoch 428/500\n",
      "1875/1875 [==============================] - 4s 2ms/step - loss: 0.0094 - accuracy: 0.9970\n",
      "Epoch 429/500\n",
      "1875/1875 [==============================] - 4s 2ms/step - loss: 0.0173 - accuracy: 0.9949\n",
      "Epoch 430/500\n",
      "1875/1875 [==============================] - 4s 2ms/step - loss: 0.0133 - accuracy: 0.9957\n",
      "Epoch 431/500\n",
      "1875/1875 [==============================] - 4s 2ms/step - loss: 0.0133 - accuracy: 0.9960\n",
      "Epoch 432/500\n",
      "1875/1875 [==============================] - 4s 2ms/step - loss: 0.0114 - accuracy: 0.9962\n",
      "Epoch 433/500\n",
      "1875/1875 [==============================] - 4s 2ms/step - loss: 0.0142 - accuracy: 0.9956\n",
      "Epoch 434/500\n",
      "1875/1875 [==============================] - 4s 2ms/step - loss: 0.0166 - accuracy: 0.9955\n",
      "Epoch 435/500\n",
      "1875/1875 [==============================] - 4s 2ms/step - loss: 0.0125 - accuracy: 0.9961\n",
      "Epoch 436/500\n",
      "1875/1875 [==============================] - 4s 2ms/step - loss: 0.0134 - accuracy: 0.9961\n",
      "Epoch 437/500\n",
      "1875/1875 [==============================] - 4s 2ms/step - loss: 0.0147 - accuracy: 0.9955\n",
      "Epoch 438/500\n",
      "1875/1875 [==============================] - 4s 2ms/step - loss: 0.0115 - accuracy: 0.9961\n",
      "Epoch 439/500\n",
      "1875/1875 [==============================] - 4s 2ms/step - loss: 0.0154 - accuracy: 0.9953\n",
      "Epoch 440/500\n",
      "1875/1875 [==============================] - 4s 2ms/step - loss: 0.0122 - accuracy: 0.9957\n",
      "Epoch 441/500\n",
      "1875/1875 [==============================] - 4s 2ms/step - loss: 0.0132 - accuracy: 0.9958\n",
      "Epoch 442/500\n",
      "1875/1875 [==============================] - 4s 2ms/step - loss: 0.0171 - accuracy: 0.9949\n",
      "Epoch 443/500\n",
      "1875/1875 [==============================] - 4s 2ms/step - loss: 0.0103 - accuracy: 0.9968\n",
      "Epoch 444/500\n",
      "1875/1875 [==============================] - 4s 2ms/step - loss: 0.0147 - accuracy: 0.9961\n",
      "Epoch 445/500\n",
      "1875/1875 [==============================] - 4s 2ms/step - loss: 0.0155 - accuracy: 0.9949\n",
      "Epoch 446/500\n",
      "1875/1875 [==============================] - 4s 2ms/step - loss: 0.0159 - accuracy: 0.9957\n",
      "Epoch 447/500\n",
      "1875/1875 [==============================] - 4s 2ms/step - loss: 0.0079 - accuracy: 0.9972\n",
      "Epoch 448/500\n",
      "1875/1875 [==============================] - 4s 2ms/step - loss: 0.0172 - accuracy: 0.9952\n",
      "Epoch 449/500\n",
      "1875/1875 [==============================] - 4s 2ms/step - loss: 0.0134 - accuracy: 0.9959\n",
      "Epoch 450/500\n",
      "1875/1875 [==============================] - 4s 2ms/step - loss: 0.0147 - accuracy: 0.9957\n",
      "Epoch 451/500\n",
      "1875/1875 [==============================] - 4s 2ms/step - loss: 0.0112 - accuracy: 0.9968\n",
      "Epoch 452/500\n",
      "1875/1875 [==============================] - 4s 2ms/step - loss: 0.0155 - accuracy: 0.9953\n",
      "Epoch 453/500\n",
      "1875/1875 [==============================] - 4s 2ms/step - loss: 0.0117 - accuracy: 0.9966\n",
      "Epoch 454/500\n",
      "1875/1875 [==============================] - 4s 2ms/step - loss: 0.0142 - accuracy: 0.9961\n",
      "Epoch 455/500\n",
      "1875/1875 [==============================] - 4s 2ms/step - loss: 0.0079 - accuracy: 0.9982\n",
      "Epoch 456/500\n",
      "1875/1875 [==============================] - 4s 2ms/step - loss: 0.0122 - accuracy: 0.9960\n",
      "Epoch 457/500\n",
      "1875/1875 [==============================] - 4s 2ms/step - loss: 0.0179 - accuracy: 0.9951\n",
      "Epoch 458/500\n",
      "1875/1875 [==============================] - 5s 3ms/step - loss: 0.0125 - accuracy: 0.9961\n",
      "Epoch 459/500\n",
      "1875/1875 [==============================] - 5s 3ms/step - loss: 0.0150 - accuracy: 0.9958\n",
      "Epoch 460/500\n",
      "1875/1875 [==============================] - 4s 2ms/step - loss: 0.0140 - accuracy: 0.9959\n",
      "Epoch 461/500\n",
      "1875/1875 [==============================] - 4s 2ms/step - loss: 0.0133 - accuracy: 0.9958\n",
      "Epoch 462/500\n",
      "1875/1875 [==============================] - 4s 2ms/step - loss: 0.0101 - accuracy: 0.9968\n",
      "Epoch 463/500\n",
      "1875/1875 [==============================] - 4s 2ms/step - loss: 0.0131 - accuracy: 0.9960\n",
      "Epoch 464/500\n",
      "1875/1875 [==============================] - 4s 2ms/step - loss: 0.0148 - accuracy: 0.9958\n",
      "Epoch 465/500\n",
      "1875/1875 [==============================] - 4s 2ms/step - loss: 0.0127 - accuracy: 0.9963\n",
      "Epoch 466/500\n",
      "1875/1875 [==============================] - 4s 2ms/step - loss: 0.0113 - accuracy: 0.9967\n",
      "Epoch 467/500\n",
      "1875/1875 [==============================] - 4s 2ms/step - loss: 0.0166 - accuracy: 0.9950\n",
      "Epoch 468/500\n",
      "1875/1875 [==============================] - 5s 2ms/step - loss: 0.0132 - accuracy: 0.9963\n",
      "Epoch 469/500\n"
     ]
    },
    {
     "name": "stdout",
     "output_type": "stream",
     "text": [
      "1875/1875 [==============================] - 5s 2ms/step - loss: 0.0131 - accuracy: 0.9965\n",
      "Epoch 470/500\n",
      "1875/1875 [==============================] - 4s 2ms/step - loss: 0.0112 - accuracy: 0.9968\n",
      "Epoch 471/500\n",
      "1875/1875 [==============================] - 4s 2ms/step - loss: 0.0138 - accuracy: 0.9959\n",
      "Epoch 472/500\n",
      "1875/1875 [==============================] - 8s 4ms/step - loss: 0.0123 - accuracy: 0.9964\n",
      "Epoch 473/500\n",
      "1875/1875 [==============================] - 10s 5ms/step - loss: 0.0106 - accuracy: 0.9968\n",
      "Epoch 474/500\n",
      "1875/1875 [==============================] - 9s 5ms/step - loss: 0.0116 - accuracy: 0.9963\n",
      "Epoch 475/500\n",
      "1875/1875 [==============================] - 6s 3ms/step - loss: 0.0141 - accuracy: 0.9958\n",
      "Epoch 476/500\n",
      "1875/1875 [==============================] - 7s 4ms/step - loss: 0.0112 - accuracy: 0.9965\n",
      "Epoch 477/500\n",
      "1875/1875 [==============================] - 6s 3ms/step - loss: 0.0149 - accuracy: 0.9956\n",
      "Epoch 478/500\n",
      "1875/1875 [==============================] - 6s 3ms/step - loss: 0.0134 - accuracy: 0.9961\n",
      "Epoch 479/500\n",
      "1875/1875 [==============================] - 5s 3ms/step - loss: 0.0131 - accuracy: 0.9960\n",
      "Epoch 480/500\n",
      "1875/1875 [==============================] - 7s 4ms/step - loss: 0.0117 - accuracy: 0.9963\n",
      "Epoch 481/500\n",
      "1875/1875 [==============================] - 4s 2ms/step - loss: 0.0127 - accuracy: 0.9961\n",
      "Epoch 482/500\n",
      "1875/1875 [==============================] - 4s 2ms/step - loss: 0.0115 - accuracy: 0.9963\n",
      "Epoch 483/500\n",
      "1875/1875 [==============================] - 4s 2ms/step - loss: 0.0108 - accuracy: 0.9969\n",
      "Epoch 484/500\n",
      "1875/1875 [==============================] - 4s 2ms/step - loss: 0.0150 - accuracy: 0.9957\n",
      "Epoch 485/500\n",
      "1875/1875 [==============================] - 5s 3ms/step - loss: 0.0143 - accuracy: 0.9962\n",
      "Epoch 486/500\n",
      "1875/1875 [==============================] - 5s 3ms/step - loss: 0.0120 - accuracy: 0.9966\n",
      "Epoch 487/500\n",
      "1875/1875 [==============================] - 4s 2ms/step - loss: 0.0091 - accuracy: 0.9972\n",
      "Epoch 488/500\n",
      "1875/1875 [==============================] - 4s 2ms/step - loss: 0.0180 - accuracy: 0.9953\n",
      "Epoch 489/500\n",
      "1875/1875 [==============================] - 4s 2ms/step - loss: 0.0102 - accuracy: 0.9970\n",
      "Epoch 490/500\n",
      "1875/1875 [==============================] - 4s 2ms/step - loss: 0.0153 - accuracy: 0.9959\n",
      "Epoch 491/500\n",
      "1875/1875 [==============================] - 4s 2ms/step - loss: 0.0166 - accuracy: 0.9960\n",
      "Epoch 492/500\n",
      "1875/1875 [==============================] - 4s 2ms/step - loss: 0.0122 - accuracy: 0.9967\n",
      "Epoch 493/500\n",
      "1875/1875 [==============================] - 5s 3ms/step - loss: 0.0135 - accuracy: 0.9965\n",
      "Epoch 494/500\n",
      "1875/1875 [==============================] - 6s 3ms/step - loss: 0.0136 - accuracy: 0.9960\n",
      "Epoch 495/500\n",
      "1875/1875 [==============================] - 5s 3ms/step - loss: 0.0125 - accuracy: 0.9963\n",
      "Epoch 496/500\n",
      "1875/1875 [==============================] - 5s 3ms/step - loss: 0.0109 - accuracy: 0.9969\n",
      "Epoch 497/500\n",
      "1875/1875 [==============================] - 4s 2ms/step - loss: 0.0116 - accuracy: 0.9963\n",
      "Epoch 498/500\n",
      "1875/1875 [==============================] - 4s 2ms/step - loss: 0.0162 - accuracy: 0.9954\n",
      "Epoch 499/500\n",
      "1875/1875 [==============================] - 4s 2ms/step - loss: 0.0101 - accuracy: 0.9967\n",
      "Epoch 500/500\n",
      "1875/1875 [==============================] - 4s 2ms/step - loss: 0.0114 - accuracy: 0.9964\n"
     ]
    },
    {
     "data": {
      "text/plain": [
       "<keras.callbacks.History at 0x20702910fa0>"
      ]
     },
     "execution_count": 14,
     "metadata": {},
     "output_type": "execute_result"
    }
   ],
   "source": [
    "model.fit(train_images, train_labels, epochs=500)"
   ]
  },
  {
   "cell_type": "markdown",
   "metadata": {
    "id": "W3ZVOhugCaXA"
   },
   "source": [
    "As the model trains, the loss and accuracy metrics are displayed. This model reaches an accuracy of about 0.91 (or 91%) on the training data."
   ]
  },
  {
   "cell_type": "markdown",
   "metadata": {
    "id": "wCpr6DGyE28h"
   },
   "source": [
    "### Evaluate accuracy\n",
    "\n",
    "Next, compare how the model performs on the test dataset:"
   ]
  },
  {
   "cell_type": "code",
   "execution_count": 15,
   "metadata": {
    "execution": {
     "iopub.execute_input": "2022-02-05T02:23:45.131545Z",
     "iopub.status.busy": "2022-02-05T02:23:45.130989Z",
     "iopub.status.idle": "2022-02-05T02:23:45.773332Z",
     "shell.execute_reply": "2022-02-05T02:23:45.773676Z"
    },
    "id": "VflXLEeECaXC"
   },
   "outputs": [
    {
     "name": "stdout",
     "output_type": "stream",
     "text": [
      "313/313 - 0s - loss: 0.3273 - accuracy: 0.8849 - 455ms/epoch - 1ms/step\n",
      "\n",
      "Test accuracy: 0.8848999738693237\n"
     ]
    }
   ],
   "source": [
    "test_loss, test_acc = model.evaluate(test_images,  test_labels, verbose=2)\n",
    "print('\\nTest accuracy:', test_acc)"
   ]
  },
  {
   "cell_type": "markdown",
   "metadata": {
    "id": "yWfgsmVXCaXG"
   },
   "source": [
    "It turns out that the accuracy on the test dataset is a little less than the accuracy on the training dataset.\n",
    "This gap between training accuracy and test accuracy represents *overfitting*. \n",
    "Overfitting happens when a machine learning model performs worse on new, previously unseen inputs than it does on the training data. \n",
    "An overfitted model \"memorizes\" the noise and details in the training dataset to a point where it negatively impacts the performance of the model on the new data. "
   ]
  },
  {
   "cell_type": "markdown",
   "metadata": {
    "id": "v-PyD1SYE28q"
   },
   "source": [
    "### Make predictions\n",
    "\n",
    "Use the model to make predictions about some images.\n",
    "Attach a softmax layer to convert the model's linear outputs—[logits](https://developers.google.com/machine-learning/glossary#logits)—to probabilities, which should be easier to interpret."
   ]
  },
  {
   "cell_type": "code",
   "execution_count": 16,
   "metadata": {
    "execution": {
     "iopub.execute_input": "2022-02-05T02:23:45.778940Z",
     "iopub.status.busy": "2022-02-05T02:23:45.778310Z",
     "iopub.status.idle": "2022-02-05T02:23:45.792392Z",
     "shell.execute_reply": "2022-02-05T02:23:45.792727Z"
    },
    "id": "DnfNA0CrQLSD"
   },
   "outputs": [],
   "source": [
    "probability_model = tf.keras.Sequential([model, \n",
    "                                         tf.keras.layers.Softmax()])"
   ]
  },
  {
   "cell_type": "code",
   "execution_count": 17,
   "metadata": {
    "execution": {
     "iopub.execute_input": "2022-02-05T02:23:45.796585Z",
     "iopub.status.busy": "2022-02-05T02:23:45.796041Z",
     "iopub.status.idle": "2022-02-05T02:23:46.217066Z",
     "shell.execute_reply": "2022-02-05T02:23:46.217474Z"
    },
    "id": "Gl91RPhdCaXI"
   },
   "outputs": [],
   "source": [
    "predictions = probability_model.predict(test_images)"
   ]
  },
  {
   "cell_type": "markdown",
   "metadata": {
    "id": "x9Kk1voUCaXJ"
   },
   "source": [
    "Here, the model has predicted the label for each image in the testing set. Let's take a look at the first prediction:"
   ]
  },
  {
   "cell_type": "code",
   "execution_count": 18,
   "metadata": {
    "execution": {
     "iopub.execute_input": "2022-02-05T02:23:46.222583Z",
     "iopub.status.busy": "2022-02-05T02:23:46.221954Z",
     "iopub.status.idle": "2022-02-05T02:23:46.224500Z",
     "shell.execute_reply": "2022-02-05T02:23:46.224882Z"
    },
    "id": "3DmJEUinCaXK"
   },
   "outputs": [
    {
     "data": {
      "text/plain": [
       "array([1.35971084e-06, 1.85229942e-09, 1.16796608e-08, 4.02856859e-09,\n",
       "       1.98280525e-09, 5.43304777e-04, 3.30415702e-07, 3.91181884e-03,\n",
       "       1.37499345e-08, 9.95543182e-01], dtype=float32)"
      ]
     },
     "execution_count": 18,
     "metadata": {},
     "output_type": "execute_result"
    }
   ],
   "source": [
    "predictions[0]"
   ]
  },
  {
   "cell_type": "markdown",
   "metadata": {
    "id": "-hw1hgeSCaXN"
   },
   "source": [
    "A prediction is an array of 10 numbers. They represent the model's \"confidence\" that the image corresponds to each of the 10 different articles of clothing. You can see which label has the highest confidence value:"
   ]
  },
  {
   "cell_type": "code",
   "execution_count": 19,
   "metadata": {
    "execution": {
     "iopub.execute_input": "2022-02-05T02:23:46.229202Z",
     "iopub.status.busy": "2022-02-05T02:23:46.228668Z",
     "iopub.status.idle": "2022-02-05T02:23:46.230873Z",
     "shell.execute_reply": "2022-02-05T02:23:46.231256Z"
    },
    "id": "qsqenuPnCaXO"
   },
   "outputs": [
    {
     "data": {
      "text/plain": [
       "9"
      ]
     },
     "execution_count": 19,
     "metadata": {},
     "output_type": "execute_result"
    }
   ],
   "source": [
    "np.argmax(predictions[0])"
   ]
  },
  {
   "cell_type": "markdown",
   "metadata": {
    "id": "E51yS7iCCaXO"
   },
   "source": [
    "So, the model is most confident that this image is an ankle boot, or `class_names[9]`. Examining the test label shows that this classification is correct:"
   ]
  },
  {
   "cell_type": "code",
   "execution_count": 20,
   "metadata": {
    "execution": {
     "iopub.execute_input": "2022-02-05T02:23:46.235327Z",
     "iopub.status.busy": "2022-02-05T02:23:46.234746Z",
     "iopub.status.idle": "2022-02-05T02:23:46.237338Z",
     "shell.execute_reply": "2022-02-05T02:23:46.237702Z"
    },
    "id": "Sd7Pgsu6CaXP"
   },
   "outputs": [
    {
     "data": {
      "text/plain": [
       "9"
      ]
     },
     "execution_count": 20,
     "metadata": {},
     "output_type": "execute_result"
    }
   ],
   "source": [
    "test_labels[0]"
   ]
  },
  {
   "cell_type": "markdown",
   "metadata": {
    "id": "ygh2yYC972ne"
   },
   "source": [
    "Graph this to look at the full set of 10 class predictions."
   ]
  },
  {
   "cell_type": "code",
   "execution_count": 21,
   "metadata": {
    "execution": {
     "iopub.execute_input": "2022-02-05T02:23:46.244767Z",
     "iopub.status.busy": "2022-02-05T02:23:46.244181Z",
     "iopub.status.idle": "2022-02-05T02:23:46.246387Z",
     "shell.execute_reply": "2022-02-05T02:23:46.245908Z"
    },
    "id": "DvYmmrpIy6Y1"
   },
   "outputs": [],
   "source": [
    "def plot_image(i, predictions_array, true_label, img):\n",
    "    true_label, img = true_label[i], img[i]\n",
    "    plt.grid(False)\n",
    "    plt.xticks([])\n",
    "    plt.yticks([])\n",
    "    \n",
    "    plt.imshow(img, cmap=plt.cm.binary)\n",
    "\n",
    "    predicted_label = np.argmax(predictions_array)\n",
    "    if predicted_label == true_label:\n",
    "        color = 'blue'\n",
    "    else:\n",
    "        color = 'red'\n",
    "\n",
    "    plt.xlabel(\"{} {:2.0f}% ({})\".format(class_names[predicted_label],\n",
    "                                100*np.max(predictions_array),\n",
    "                                class_names[true_label]),\n",
    "                                color=color)\n",
    "\n",
    "def plot_value_array(i, predictions_array, true_label):\n",
    "    true_label = true_label[i]\n",
    "    plt.grid(False)\n",
    "    plt.xticks(range(10))\n",
    "    plt.yticks([])\n",
    "    thisplot = plt.bar(range(10), predictions_array, color=\"#777777\")\n",
    "    plt.ylim([0, 1])\n",
    "    predicted_label = np.argmax(predictions_array)\n",
    "    thisplot[predicted_label].set_color('red')\n",
    "    thisplot[true_label].set_color('blue')"
   ]
  },
  {
   "cell_type": "markdown",
   "metadata": {
    "id": "Zh9yABaME29S"
   },
   "source": [
    "### Verify predictions\n",
    "\n",
    "With the model trained, you can use it to make predictions about some images."
   ]
  },
  {
   "cell_type": "markdown",
   "metadata": {
    "id": "d4Ov9OFDMmOD"
   },
   "source": [
    "Let's look at the 0th image, predictions, and prediction array. Correct prediction labels are blue and incorrect prediction labels are red. The number gives the percentage (out of 100) for the predicted label."
   ]
  },
  {
   "cell_type": "code",
   "execution_count": 22,
   "metadata": {
    "execution": {
     "iopub.execute_input": "2022-02-05T02:23:46.285608Z",
     "iopub.status.busy": "2022-02-05T02:23:46.285071Z",
     "iopub.status.idle": "2022-02-05T02:23:46.364057Z",
     "shell.execute_reply": "2022-02-05T02:23:46.364410Z"
    },
    "id": "HV5jw-5HwSmO"
   },
   "outputs": [
    {
     "data": {
      "image/png": "[encoded data removed]",
      "text/plain": [
       "<Figure size 432x216 with 2 Axes>"
      ]
     },
     "metadata": {
      "needs_background": "light"
     },
     "output_type": "display_data"
    }
   ],
   "source": [
    "i = 0\n",
    "plt.figure(figsize=(6,3))\n",
    "plt.subplot(1,2,1)\n",
    "plot_image(i, predictions[i], test_labels, test_images)\n",
    "plt.subplot(1,2,2)\n",
    "plot_value_array(i, predictions[i],  test_labels)\n",
    "plt.show()"
   ]
  },
  {
   "cell_type": "code",
   "execution_count": 23,
   "metadata": {
    "execution": {
     "iopub.execute_input": "2022-02-05T02:23:46.395590Z",
     "iopub.status.busy": "2022-02-05T02:23:46.386856Z",
     "iopub.status.idle": "2022-02-05T02:23:46.477744Z",
     "shell.execute_reply": "2022-02-05T02:23:46.478119Z"
    },
    "id": "Ko-uzOufSCSe"
   },
   "outputs": [
    {
     "data": {
      "image/png": "[encoded data removed]",
      "text/plain": [
       "<Figure size 432x216 with 2 Axes>"
      ]
     },
     "metadata": {
      "needs_background": "light"
     },
     "output_type": "display_data"
    }
   ],
   "source": [
    "i = 12\n",
    "plt.figure(figsize=(6,3))\n",
    "plt.subplot(1,2,1)\n",
    "plot_image(i, predictions[i], test_labels, test_images)\n",
    "plt.subplot(1,2,2)\n",
    "plot_value_array(i, predictions[i],  test_labels)\n",
    "plt.show()"
   ]
  },
  {
   "cell_type": "markdown",
   "metadata": {
    "id": "kgdvGD52CaXR"
   },
   "source": [
    "Plot a few images with their predictions. "
   ]
  },
  {
   "cell_type": "code",
   "execution_count": 24,
   "metadata": {
    "execution": {
     "iopub.execute_input": "2022-02-05T02:23:46.495208Z",
     "iopub.status.busy": "2022-02-05T02:23:46.494656Z",
     "iopub.status.idle": "2022-02-05T02:23:48.120493Z",
     "shell.execute_reply": "2022-02-05T02:23:48.120884Z"
    },
    "id": "hQlnbqaw2Qu_"
   },
   "outputs": [
    {
     "data": {
      "image/png": "[encoded data removed]",
      "text/plain": [
       "<Figure size 864x720 with 30 Axes>"
      ]
     },
     "metadata": {
      "needs_background": "light"
     },
     "output_type": "display_data"
    }
   ],
   "source": [
    "# Plot the first X test images, their predicted labels, and the true labels.\n",
    "# Color correct predictions in blue and incorrect predictions in red.\n",
    "num_rows = 5\n",
    "num_cols = 3\n",
    "num_images = num_rows*num_cols\n",
    "plt.figure(figsize=(2*2*num_cols, 2*num_rows))\n",
    "for i in range(num_images):\n",
    "  plt.subplot(num_rows, 2*num_cols, 2*i+1)\n",
    "  plot_image(i, predictions[i], test_labels, test_images)\n",
    "  plt.subplot(num_rows, 2*num_cols, 2*i+2)\n",
    "  plot_value_array(i, predictions[i], test_labels)\n",
    "plt.tight_layout()\n",
    "plt.show()"
   ]
  },
  {
   "cell_type": "markdown",
   "metadata": {
    "id": "R32zteKHCaXT"
   },
   "source": [
    "## Use the trained model\n",
    "\n",
    "Finally, use the trained model to make a prediction about a single image."
   ]
  },
  {
   "cell_type": "code",
   "execution_count": 25,
   "metadata": {
    "execution": {
     "iopub.execute_input": "2022-02-05T02:23:48.124975Z",
     "iopub.status.busy": "2022-02-05T02:23:48.124437Z",
     "iopub.status.idle": "2022-02-05T02:23:48.126215Z",
     "shell.execute_reply": "2022-02-05T02:23:48.126580Z"
    },
    "id": "yRJ7JU7JCaXT"
   },
   "outputs": [
    {
     "name": "stdout",
     "output_type": "stream",
     "text": [
      "(28, 28)\n"
     ]
    }
   ],
   "source": [
    "# Grab an image from the test dataset.\n",
    "img = test_images[1]\n",
    "\n",
    "print(img.shape)"
   ]
  },
  {
   "cell_type": "markdown",
   "metadata": {
    "id": "vz3bVp21CaXV"
   },
   "source": [
    "`tf.keras` models are optimized to make predictions on a *batch*, or collection, of examples at once. Accordingly, even though you're using a single image, you need to add it to a list:"
   ]
  },
  {
   "cell_type": "code",
   "execution_count": 26,
   "metadata": {
    "execution": {
     "iopub.execute_input": "2022-02-05T02:23:48.130399Z",
     "iopub.status.busy": "2022-02-05T02:23:48.129816Z",
     "iopub.status.idle": "2022-02-05T02:23:48.132539Z",
     "shell.execute_reply": "2022-02-05T02:23:48.131963Z"
    },
    "id": "lDFh5yF_CaXW"
   },
   "outputs": [
    {
     "name": "stdout",
     "output_type": "stream",
     "text": [
      "(1, 28, 28)\n"
     ]
    }
   ],
   "source": [
    "# Add the image to a batch where it's the only member.\n",
    "img = (np.expand_dims(img,0))\n",
    "\n",
    "print(img.shape)"
   ]
  },
  {
   "cell_type": "markdown",
   "metadata": {
    "id": "EQ5wLTkcCaXY"
   },
   "source": [
    "Now predict the correct label for this image:"
   ]
  },
  {
   "cell_type": "code",
   "execution_count": 27,
   "metadata": {
    "execution": {
     "iopub.execute_input": "2022-02-05T02:23:48.136943Z",
     "iopub.status.busy": "2022-02-05T02:23:48.136102Z",
     "iopub.status.idle": "2022-02-05T02:23:48.174620Z",
     "shell.execute_reply": "2022-02-05T02:23:48.175042Z"
    },
    "id": "o_rzNSdrCaXY"
   },
   "outputs": [
    {
     "name": "stdout",
     "output_type": "stream",
     "text": [
      "[[1.06611296e-04 2.17131369e-12 9.94413078e-01 1.16347765e-09\n",
      "  5.02503803e-03 1.40935652e-15 4.55343630e-04 3.97267816e-17\n",
      "  1.21796182e-08 5.49196918e-14]]\n"
     ]
    }
   ],
   "source": [
    "predictions_single = probability_model.predict(img)\n",
    "\n",
    "print(predictions_single)"
   ]
  },
  {
   "cell_type": "code",
   "execution_count": 28,
   "metadata": {
    "execution": {
     "iopub.execute_input": "2022-02-05T02:23:48.209829Z",
     "iopub.status.busy": "2022-02-05T02:23:48.188654Z",
     "iopub.status.idle": "2022-02-05T02:23:48.261300Z",
     "shell.execute_reply": "2022-02-05T02:23:48.261992Z"
    },
    "id": "6Ai-cpLjO-3A"
   },
   "outputs": [
    {
     "data": {
      "image/png": "[encoded data removed]",
      "text/plain": [
       "<Figure size 432x288 with 1 Axes>"
      ]
     },
     "metadata": {
      "needs_background": "light"
     },
     "output_type": "display_data"
    }
   ],
   "source": [
    "plot_value_array(1, predictions_single[0], test_labels)\n",
    "_ = plt.xticks(range(10), class_names, rotation=45)\n",
    "plt.show()"
   ]
  },
  {
   "cell_type": "markdown",
   "metadata": {
    "id": "cU1Y2OAMCaXb"
   },
   "source": [
    "`tf.keras.Model.predict` returns a list of lists—one list for each image in the batch of data. Grab the predictions for our (only) image in the batch:"
   ]
  },
  {
   "cell_type": "code",
   "execution_count": 29,
   "metadata": {
    "execution": {
     "iopub.execute_input": "2022-02-05T02:23:48.267791Z",
     "iopub.status.busy": "2022-02-05T02:23:48.266710Z",
     "iopub.status.idle": "2022-02-05T02:23:48.270407Z",
     "shell.execute_reply": "2022-02-05T02:23:48.271167Z"
    },
    "id": "2tRmdq_8CaXb"
   },
   "outputs": [
    {
     "data": {
      "text/plain": [
       "2"
      ]
     },
     "execution_count": 29,
     "metadata": {},
     "output_type": "execute_result"
    }
   ],
   "source": [
    "np.argmax(predictions_single[0])"
   ]
  },
  {
   "cell_type": "markdown",
   "metadata": {
    "id": "YFc2HbEVCaXd"
   },
   "source": [
    "The model predicts a label as expected."
   ]
  }
 ],
 "metadata": {
  "colab": {
   "collapsed_sections": [],
   "name": "classification.ipynb",
   "toc_visible": true
  },
  "kernelspec": {
   "display_name": "Python 3 (ipykernel)",
   "language": "python",
   "name": "python3"
  },
  "language_info": {
   "codemirror_mode": {
    "name": "ipython",
    "version": 3
   },
   "file_extension": ".py",
   "mimetype": "text/x-python",
   "name": "python",
   "nbconvert_exporter": "python",
   "pygments_lexer": "ipython3",
   "version": "3.9.9"
  }
 },
 "nbformat": 4,
 "nbformat_minor": 1
}
