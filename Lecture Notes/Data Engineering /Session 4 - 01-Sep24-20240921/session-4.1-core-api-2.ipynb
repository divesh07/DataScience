{
 "cells": [
  {
   "cell_type": "code",
   "execution_count": 11,
   "id": "4360650f-b150-4d5b-8ece-ddbd11affe35",
   "metadata": {},
   "outputs": [],
   "source": [
    "import os\n",
    "os.environ['PATH'] += ':/opt/hadoop/bin'"
   ]
  },
  {
   "cell_type": "code",
   "execution_count": 2,
   "id": "8531915f",
   "metadata": {},
   "outputs": [
    {
     "name": "stdout",
     "output_type": "stream",
     "text": [
      "head: `/user/itv012875/dsml-8/movies.csv': No such file or directory\n"
     ]
    }
   ],
   "source": [
    "! hadoop fs -head /user/itv012875/dsml-8/movies.csv"
   ]
  },
  {
   "cell_type": "code",
   "execution_count": 3,
   "id": "fc1dfdde",
   "metadata": {},
   "outputs": [
    {
     "name": "stderr",
     "output_type": "stream",
     "text": [
      "2024-09-01 05:23:01,792 WARN util.NativeCodeLoader: Unable to load native-hadoop library for your platform... using builtin-java classes where applicable\n",
      "Setting default log level to \"WARN\".\n",
      "To adjust logging level use sc.setLogLevel(newLevel). For SparkR, use setLogLevel(newLevel).\n",
      "2024-09-01 05:23:02,603 WARN util.Utils: Service 'SparkUI' could not bind on port 4040. Attempting port 4041.\n",
      "2024-09-01 05:23:03,283 WARN yarn.Client: Neither spark.yarn.jars nor spark.yarn.archive is set, falling back to uploading libraries under SPARK_HOME.\n"
     ]
    }
   ],
   "source": [
    "from pyspark import SparkContext\n",
    "\n",
    "# comand to create sparkContext\n",
    "sc = SparkContext()"
   ]
  },
  {
   "cell_type": "code",
   "execution_count": 4,
   "id": "18c5ed29",
   "metadata": {},
   "outputs": [],
   "source": [
    "country_list = [\"India\", \"USA\", \"South Africa\", \"Australia\", \"France\"]"
   ]
  },
  {
   "cell_type": "code",
   "execution_count": 5,
   "id": "b39631c5",
   "metadata": {},
   "outputs": [],
   "source": [
    "rdd_country = sc.parallelize(country_list)"
   ]
  },
  {
   "cell_type": "code",
   "execution_count": 6,
   "id": "fe800a47",
   "metadata": {},
   "outputs": [
    {
     "data": {
      "text/plain": [
       "8"
      ]
     },
     "execution_count": 6,
     "metadata": {},
     "output_type": "execute_result"
    }
   ],
   "source": [
    "rdd_country.getNumPartitions()"
   ]
  },
  {
   "cell_type": "code",
   "execution_count": 7,
   "id": "39f07378",
   "metadata": {},
   "outputs": [
    {
     "name": "stderr",
     "output_type": "stream",
     "text": [
      "                                                                                \r"
     ]
    },
    {
     "data": {
      "text/plain": [
       "[[], ['India'], [], ['USA'], ['South Africa'], [], ['Australia'], ['France']]"
      ]
     },
     "execution_count": 7,
     "metadata": {},
     "output_type": "execute_result"
    }
   ],
   "source": [
    "rdd_country.glom().collect()"
   ]
  },
  {
   "cell_type": "code",
   "execution_count": 17,
   "id": "64fc6f65",
   "metadata": {},
   "outputs": [],
   "source": [
    "rdd_movies = sc.textFile('dsml-8/movies.csv',minPartitions=5)"
   ]
  },
  {
   "cell_type": "code",
   "execution_count": 18,
   "id": "20eceb66",
   "metadata": {},
   "outputs": [
    {
     "data": {
      "text/plain": [
       "['movieId,title,genres',\n",
       " '1,Toy Story (1995),Adventure|Animation|Children|Comedy|Fantasy',\n",
       " '2,Jumanji (1995),Adventure|Children|Fantasy',\n",
       " '3,Grumpier Old Men (1995),Comedy|Romance',\n",
       " '4,Waiting to Exhale (1995),Comedy|Drama|Romance']"
      ]
     },
     "execution_count": 18,
     "metadata": {},
     "output_type": "execute_result"
    }
   ],
   "source": [
    "rdd_movies.take(5)"
   ]
  },
  {
   "cell_type": "markdown",
   "id": "4a4b9ba5",
   "metadata": {},
   "source": [
    "# Parallelize vs Textfile\n",
    "- Parallelize() use if i Have python collection\n",
    "- file format i use textfile()"
   ]
  },
  {
   "cell_type": "markdown",
   "id": "d53cdd88",
   "metadata": {},
   "source": [
    "! ! hadoop fs -head /user/itv012875/dsml-8/analytics_20_india.txt"
   ]
  },
  {
   "cell_type": "markdown",
   "id": "cef81aac",
   "metadata": {},
   "source": [
    "# Reading of file"
   ]
  },
  {
   "cell_type": "code",
   "execution_count": 19,
   "id": "d1810e60",
   "metadata": {},
   "outputs": [],
   "source": [
    "india = sc.textFile('dsml-8/analytics_20_india.txt')"
   ]
  },
  {
   "cell_type": "code",
   "execution_count": 20,
   "id": "ed8105a2",
   "metadata": {},
   "outputs": [
    {
     "data": {
      "text/plain": [
       "pyspark.rdd.RDD"
      ]
     },
     "execution_count": 20,
     "metadata": {},
     "output_type": "execute_result"
    }
   ],
   "source": [
    "type(india)"
   ]
  },
  {
   "cell_type": "markdown",
   "id": "26e58f61",
   "metadata": {},
   "source": [
    "## Operation : Action\n",
    "1. collect()\n",
    "2. take()"
   ]
  },
  {
   "cell_type": "code",
   "execution_count": 21,
   "id": "23880f9a",
   "metadata": {},
   "outputs": [
    {
     "data": {
      "text/plain": [
       "['Keaton Data_Science India',\n",
       " 'Idona Data_Science Australia',\n",
       " 'Janna HR India',\n",
       " 'Damon Data_Science India',\n",
       " 'Rahim Marketing India']"
      ]
     },
     "execution_count": 21,
     "metadata": {},
     "output_type": "execute_result"
    }
   ],
   "source": [
    "india.take(5)# returns top n"
   ]
  },
  {
   "cell_type": "code",
   "execution_count": 22,
   "id": "234a239e",
   "metadata": {},
   "outputs": [
    {
     "data": {
      "text/plain": [
       "['Keaton Data_Science India',\n",
       " 'Idona Data_Science Australia',\n",
       " 'Janna HR India',\n",
       " 'Damon Data_Science India',\n",
       " 'Rahim Marketing India',\n",
       " 'Audrey Data_Science India',\n",
       " 'Irma HR Dubai',\n",
       " 'Tatum HR India',\n",
       " 'Acton Data_Science India',\n",
       " 'Ainsley Data_Science India',\n",
       " 'Phillip Data_Science India',\n",
       " 'Maite Marketing India',\n",
       " 'Kevyn Marketing Australia',\n",
       " 'Vielka HR India',\n",
       " 'Risa Operations India',\n",
       " 'Jael Accounts Dubai',\n",
       " 'Erich Data_Science India',\n",
       " 'Pearl Operations Australia',\n",
       " 'Francesca Data_Science India',\n",
       " 'Ross Sales India',\n",
       " 'Tarik HR Dubai',\n",
       " 'Lev HR India',\n",
       " 'Nerea Accounts India',\n",
       " 'Halla Sales India',\n",
       " 'Daquan Legal India',\n",
       " 'Ivan HR India',\n",
       " 'Venus HR India',\n",
       " 'Lareina Legal India',\n",
       " 'Orlando Sales Australia',\n",
       " 'Denise Accounts India',\n",
       " 'Alvin Accounts Dubai',\n",
       " 'Rafael Data_Science Australia',\n",
       " 'Whoopi Data_Science Australia',\n",
       " 'Norman Legal Dubai',\n",
       " 'Forrest Sales Dubai',\n",
       " 'Sigourney Legal India',\n",
       " 'Stone Legal Scotland',\n",
       " 'Todd Sales India',\n",
       " 'Jerome Sales India',\n",
       " 'Signe HR India',\n",
       " 'Xavier Legal India',\n",
       " 'Kevin Customer_Support India',\n",
       " 'Michelle Customer_Support India',\n",
       " 'Lyle Customer_Support Dubai',\n",
       " 'Brendan Data_Science Australia',\n",
       " 'Melvin Data_Science Australia',\n",
       " 'Ignacia Customer_Support India',\n",
       " 'Lenore HR India']"
      ]
     },
     "execution_count": 22,
     "metadata": {},
     "output_type": "execute_result"
    }
   ],
   "source": [
    "india.collect()# return complete o/p"
   ]
  },
  {
   "cell_type": "code",
   "execution_count": 23,
   "id": "1008dd5d",
   "metadata": {},
   "outputs": [
    {
     "data": {
      "text/plain": [
       "48"
      ]
     },
     "execution_count": 23,
     "metadata": {},
     "output_type": "execute_result"
    }
   ],
   "source": [
    "india.count()"
   ]
  },
  {
   "cell_type": "markdown",
   "id": "7e88de18",
   "metadata": {},
   "source": [
    "# Transfromations\n",
    "1. Map() - transformation,\n",
    "\n",
    "'Brendan Data_Science Australia'\n",
    "map(lambda )"
   ]
  },
  {
   "cell_type": "markdown",
   "id": "852a8d4f",
   "metadata": {},
   "source": [
    "x = 'Brendan Data_Science Australia'"
   ]
  },
  {
   "cell_type": "code",
   "execution_count": 24,
   "id": "0daec0d8",
   "metadata": {},
   "outputs": [
    {
     "data": {
      "text/plain": [
       "['Keaton Data_Science India',\n",
       " 'Idona Data_Science Australia',\n",
       " 'Janna HR India',\n",
       " 'Damon Data_Science India',\n",
       " 'Rahim Marketing India']"
      ]
     },
     "execution_count": 24,
     "metadata": {},
     "output_type": "execute_result"
    }
   ],
   "source": [
    "india.take(5)"
   ]
  },
  {
   "cell_type": "code",
   "execution_count": 25,
   "id": "6df4d507",
   "metadata": {},
   "outputs": [],
   "source": [
    "map_india = india.map(lambda x:x.split(' '))"
   ]
  },
  {
   "cell_type": "markdown",
   "id": "cf336a6e-e9f1-4159-93ae-9780bd920b71",
   "metadata": {},
   "source": [
    "'Keaton Data_Science India'-> ['Keaton','Data_Science','India']"
   ]
  },
  {
   "cell_type": "code",
   "execution_count": 27,
   "id": "843e9661",
   "metadata": {},
   "outputs": [
    {
     "data": {
      "text/plain": [
       "[['Keaton', 'Data_Science', 'India'],\n",
       " ['Idona', 'Data_Science', 'Australia'],\n",
       " ['Janna', 'HR', 'India'],\n",
       " ['Damon', 'Data_Science', 'India'],\n",
       " ['Rahim', 'Marketing', 'India']]"
      ]
     },
     "execution_count": 27,
     "metadata": {},
     "output_type": "execute_result"
    }
   ],
   "source": [
    "map_india.take(5)"
   ]
  },
  {
   "cell_type": "code",
   "execution_count": 28,
   "id": "955012ef",
   "metadata": {},
   "outputs": [
    {
     "data": {
      "text/plain": [
       "['India',\n",
       " 'Australia',\n",
       " 'India',\n",
       " 'India',\n",
       " 'India',\n",
       " 'India',\n",
       " 'Dubai',\n",
       " 'India',\n",
       " 'India',\n",
       " 'India',\n",
       " 'India',\n",
       " 'India',\n",
       " 'Australia',\n",
       " 'India',\n",
       " 'India',\n",
       " 'Dubai',\n",
       " 'India',\n",
       " 'Australia',\n",
       " 'India',\n",
       " 'India',\n",
       " 'Dubai',\n",
       " 'India',\n",
       " 'India',\n",
       " 'India',\n",
       " 'India',\n",
       " 'India',\n",
       " 'India',\n",
       " 'India',\n",
       " 'Australia',\n",
       " 'India',\n",
       " 'Dubai',\n",
       " 'Australia',\n",
       " 'Australia',\n",
       " 'Dubai',\n",
       " 'Dubai',\n",
       " 'India',\n",
       " 'Scotland',\n",
       " 'India',\n",
       " 'India',\n",
       " 'India',\n",
       " 'India',\n",
       " 'India',\n",
       " 'India',\n",
       " 'Dubai',\n",
       " 'Australia',\n",
       " 'Australia',\n",
       " 'India',\n",
       " 'India']"
      ]
     },
     "execution_count": 28,
     "metadata": {},
     "output_type": "execute_result"
    }
   ],
   "source": [
    "country_india = map_india.map(lambda x:x[2])\n",
    "country_india.collect()"
   ]
  },
  {
   "cell_type": "code",
   "execution_count": 29,
   "id": "eed1f7b6",
   "metadata": {},
   "outputs": [
    {
     "data": {
      "text/plain": [
       "['India', 'Australia', 'Dubai', 'Scotland']"
      ]
     },
     "execution_count": 29,
     "metadata": {},
     "output_type": "execute_result"
    }
   ],
   "source": [
    "distinct_map_india = country_india.distinct()\n",
    "distinct_map_india.collect()"
   ]
  },
  {
   "cell_type": "markdown",
   "id": "2cfd8088",
   "metadata": {},
   "source": [
    "# Filtering"
   ]
  },
  {
   "cell_type": "code",
   "execution_count": 30,
   "id": "fc0942d6",
   "metadata": {},
   "outputs": [
    {
     "data": {
      "text/plain": [
       "[['Keaton', 'Data_Science', 'India'],\n",
       " ['Idona', 'Data_Science', 'Australia'],\n",
       " ['Janna', 'HR', 'India'],\n",
       " ['Damon', 'Data_Science', 'India'],\n",
       " ['Rahim', 'Marketing', 'India']]"
      ]
     },
     "execution_count": 30,
     "metadata": {},
     "output_type": "execute_result"
    }
   ],
   "source": [
    "map_india.take(5)"
   ]
  },
  {
   "cell_type": "code",
   "execution_count": 31,
   "id": "8ab25bf1",
   "metadata": {},
   "outputs": [
    {
     "data": {
      "text/plain": [
       "[['Keaton', 'Data_Science', 'India'],\n",
       " ['Janna', 'HR', 'India'],\n",
       " ['Damon', 'Data_Science', 'India'],\n",
       " ['Rahim', 'Marketing', 'India'],\n",
       " ['Audrey', 'Data_Science', 'India']]"
      ]
     },
     "execution_count": 31,
     "metadata": {},
     "output_type": "execute_result"
    }
   ],
   "source": [
    "india_employee = map_india.filter(lambda x:x[2]=='India')\n",
    "india_employee.take(5)"
   ]
  },
  {
   "cell_type": "markdown",
   "id": "bb3a83ef-b609-459a-94cf-c4ca67a3f473",
   "metadata": {},
   "source": [
    "# Union"
   ]
  },
  {
   "cell_type": "code",
   "execution_count": 33,
   "id": "de1f364e",
   "metadata": {},
   "outputs": [
    {
     "data": {
      "text/plain": [
       "['Leo Customer_Support Scotland',\n",
       " 'Cyrus Customer_Support India',\n",
       " 'Jolie Sales India',\n",
       " 'Susan HR Australia',\n",
       " 'Azalia Customer_Support Dubai']"
      ]
     },
     "execution_count": 33,
     "metadata": {},
     "output_type": "execute_result"
    }
   ],
   "source": [
    "dubai = sc.textFile('dsml-8/analytics_20_dubai.txt')\n",
    "dubai.take(5)"
   ]
  },
  {
   "cell_type": "code",
   "execution_count": 34,
   "id": "ba57625e-0a98-4c2f-9949-1932bb6eef6c",
   "metadata": {},
   "outputs": [],
   "source": [
    "map_dubai = dubai.map(lambda x:x.split(' '))"
   ]
  },
  {
   "cell_type": "code",
   "execution_count": 36,
   "id": "65a903f3-5844-4b29-ae89-7c113a2f5f61",
   "metadata": {},
   "outputs": [
    {
     "data": {
      "text/plain": [
       "[['Leo', 'Customer_Support', 'Scotland'],\n",
       " ['Cyrus', 'Customer_Support', 'India'],\n",
       " ['Jolie', 'Sales', 'India'],\n",
       " ['Susan', 'HR', 'Australia'],\n",
       " ['Azalia', 'Customer_Support', 'Dubai']]"
      ]
     },
     "execution_count": 36,
     "metadata": {},
     "output_type": "execute_result"
    }
   ],
   "source": [
    "map_dubai.take(5)"
   ]
  },
  {
   "cell_type": "code",
   "execution_count": 37,
   "id": "779d0ce9-b281-48f8-a0a3-b830f5030a7c",
   "metadata": {},
   "outputs": [],
   "source": [
    "country_dubai = map_dubai.map(lambda x:x[2])"
   ]
  },
  {
   "cell_type": "code",
   "execution_count": 38,
   "id": "db8f46db-3f78-4e77-bdcf-25c51bfa92ac",
   "metadata": {},
   "outputs": [
    {
     "data": {
      "text/plain": [
       "['Scotland', 'India', 'Australia', 'Dubai', 'South_Africa']"
      ]
     },
     "execution_count": 38,
     "metadata": {},
     "output_type": "execute_result"
    }
   ],
   "source": [
    "dist_country_dubai = country_dubai.distinct()\n",
    "dist_country_dubai.collect()"
   ]
  },
  {
   "cell_type": "code",
   "execution_count": 39,
   "id": "fe23c5ce-0649-4b8f-99fc-44e7e4279130",
   "metadata": {},
   "outputs": [
    {
     "data": {
      "text/plain": [
       "['India',\n",
       " 'Australia',\n",
       " 'Dubai',\n",
       " 'Scotland',\n",
       " 'Scotland',\n",
       " 'India',\n",
       " 'Australia',\n",
       " 'Dubai',\n",
       " 'South_Africa']"
      ]
     },
     "execution_count": 39,
     "metadata": {},
     "output_type": "execute_result"
    }
   ],
   "source": [
    "union_county = distinct_map_india.union(dist_country_dubai)\n",
    "union_county.collect()"
   ]
  },
  {
   "cell_type": "code",
   "execution_count": 40,
   "id": "8528d485-d729-4385-a3f8-6f77045c69cc",
   "metadata": {},
   "outputs": [
    {
     "data": {
      "text/plain": [
       "['Dubai', 'India', 'Australia', 'Scotland']"
      ]
     },
     "execution_count": 40,
     "metadata": {},
     "output_type": "execute_result"
    }
   ],
   "source": [
    "inter_county = distinct_map_india.intersection(dist_country_dubai)\n",
    "inter_county.collect()"
   ]
  },
  {
   "cell_type": "markdown",
   "id": "4d67fdd6-168d-4290-9a3a-716447f43570",
   "metadata": {},
   "source": [
    "# Flatmap"
   ]
  },
  {
   "cell_type": "code",
   "execution_count": 41,
   "id": "b00cec09-78d2-4cc9-af3d-04c950bc7c02",
   "metadata": {},
   "outputs": [
    {
     "data": {
      "text/plain": [
       "[['Keaton', 'Data_Science', 'India'],\n",
       " ['Idona', 'Data_Science', 'Australia'],\n",
       " ['Janna', 'HR', 'India'],\n",
       " ['Damon', 'Data_Science', 'India'],\n",
       " ['Rahim', 'Marketing', 'India']]"
      ]
     },
     "execution_count": 41,
     "metadata": {},
     "output_type": "execute_result"
    }
   ],
   "source": [
    "map_india.take(5)"
   ]
  },
  {
   "cell_type": "markdown",
   "id": "0d75acf7-461f-486d-85b7-b09a77cdb0f9",
   "metadata": {},
   "source": [
    "<center><img src =\"https://f133fde2.rocketcdn.me/wp-content/uploads/2021/09/map-RDD-function-in-Apache-Spark.png\"></center>"
   ]
  },
  {
   "cell_type": "code",
   "execution_count": 47,
   "id": "ad86d23b-9498-45e1-89dc-694b2d492b8d",
   "metadata": {},
   "outputs": [
    {
     "data": {
      "text/plain": [
       "['Keaton Data_Science India',\n",
       " 'Idona Data_Science Australia',\n",
       " 'Janna HR India',\n",
       " 'Damon Data_Science India',\n",
       " 'Rahim Marketing India']"
      ]
     },
     "execution_count": 47,
     "metadata": {},
     "output_type": "execute_result"
    }
   ],
   "source": [
    "india.take(5)"
   ]
  },
  {
   "cell_type": "code",
   "execution_count": 46,
   "id": "77443164-7481-40c9-a9fb-ed4a612f078d",
   "metadata": {},
   "outputs": [
    {
     "data": {
      "text/plain": [
       "[['Keaton', 'Data_Science', 'India'],\n",
       " ['Idona', 'Data_Science', 'Australia'],\n",
       " ['Janna', 'HR', 'India'],\n",
       " ['Damon', 'Data_Science', 'India'],\n",
       " ['Rahim', 'Marketing', 'India']]"
      ]
     },
     "execution_count": 46,
     "metadata": {},
     "output_type": "execute_result"
    }
   ],
   "source": [
    "map_india.take(5)"
   ]
  },
  {
   "cell_type": "code",
   "execution_count": 43,
   "id": "60765c50-29ce-4685-9787-0a2d0252c310",
   "metadata": {},
   "outputs": [],
   "source": [
    "india1 = india.flatMap(lambda x:x.split(' ')) # one-2-many trans"
   ]
  },
  {
   "cell_type": "code",
   "execution_count": 44,
   "id": "45ff2a63-73be-416f-856d-5f56f5a964c5",
   "metadata": {},
   "outputs": [
    {
     "data": {
      "text/plain": [
       "['Keaton',\n",
       " 'Data_Science',\n",
       " 'India',\n",
       " 'Idona',\n",
       " 'Data_Science',\n",
       " 'Australia',\n",
       " 'Janna',\n",
       " 'HR',\n",
       " 'India',\n",
       " 'Damon']"
      ]
     },
     "execution_count": 44,
     "metadata": {},
     "output_type": "execute_result"
    }
   ],
   "source": [
    "india1.take(10)"
   ]
  },
  {
   "cell_type": "markdown",
   "id": "1befd222-04c4-42b2-9aeb-d6f0f8c8bd55",
   "metadata": {},
   "source": [
    "# groupbyKey\n",
    "- Grouping using aggregation\n",
    "|place | Count\n",
    "-------------\n",
    "|gurgaon | 3\n",
    "|Delhi   | 4"
   ]
  },
  {
   "cell_type": "code",
   "execution_count": 48,
   "id": "87686ca8-9ee7-485f-8f86-25705219b187",
   "metadata": {},
   "outputs": [
    {
     "data": {
      "text/plain": [
       "['101 A Rohit Gurgaon 65 77 43 66 87',\n",
       " '102 B Akansha Delhi 55 46 24 66 77',\n",
       " '103 A Himanshu Faridabad 75 38 84 38 58',\n",
       " '104 A Ekta Delhi 85 84 39 58 85',\n",
       " '105 B Deepanshu Gurgaon 34 55 56 23 66']"
      ]
     },
     "execution_count": 48,
     "metadata": {},
     "output_type": "execute_result"
    }
   ],
   "source": [
    "students = sc.textFile('dsml-8/students_data.txt')\n",
    "students.take(5)"
   ]
  },
  {
   "cell_type": "code",
   "execution_count": 49,
   "id": "4d82277e-74fb-4a2d-a094-c1b153cc50bf",
   "metadata": {},
   "outputs": [
    {
     "data": {
      "text/plain": [
       "[['101', 'A', 'Rohit', 'Gurgaon', '65', '77', '43', '66', '87'],\n",
       " ['102', 'B', 'Akansha', 'Delhi', '55', '46', '24', '66', '77'],\n",
       " ['103', 'A', 'Himanshu', 'Faridabad', '75', '38', '84', '38', '58'],\n",
       " ['104', 'A', 'Ekta', 'Delhi', '85', '84', '39', '58', '85'],\n",
       " ['105', 'B', 'Deepanshu', 'Gurgaon', '34', '55', '56', '23', '66']]"
      ]
     },
     "execution_count": 49,
     "metadata": {},
     "output_type": "execute_result"
    }
   ],
   "source": [
    "map_students = students.map(lambda x:x.split(\" \"))\n",
    "map_students.take(5)"
   ]
  },
  {
   "cell_type": "code",
   "execution_count": 50,
   "id": "87e6558d-78ed-453a-ae8a-0f9d925bcef4",
   "metadata": {},
   "outputs": [
    {
     "data": {
      "text/plain": [
       "[('A', 1),\n",
       " ('B', 1),\n",
       " ('A', 1),\n",
       " ('A', 1),\n",
       " ('B', 1),\n",
       " ('B', 1),\n",
       " ('B', 1),\n",
       " ('A', 1),\n",
       " ('A', 1)]"
      ]
     },
     "execution_count": 50,
     "metadata": {},
     "output_type": "execute_result"
    }
   ],
   "source": [
    "stu_section = map_students.map(lambda x:(x[1],1))\n",
    "stu_section.take(10)"
   ]
  },
  {
   "cell_type": "code",
   "execution_count": null,
   "id": "8a4651bf-bf89-46e2-9d09-71dae6338017",
   "metadata": {},
   "outputs": [],
   "source": [
    "# Pandas \n",
    "groupby().agg(['sum','max'])"
   ]
  },
  {
   "cell_type": "code",
   "execution_count": 52,
   "id": "7eb6a424-b739-4501-8ba1-4cff7d799448",
   "metadata": {},
   "outputs": [
    {
     "data": {
      "text/plain": [
       "[('B', 4), ('A', 5)]"
      ]
     },
     "execution_count": 52,
     "metadata": {},
     "output_type": "execute_result"
    }
   ],
   "source": [
    "stu_section_groupbykey= stu_section.groupByKey()\n",
    "stu_section_groupbykey.mapValues(sum).collect()"
   ]
  },
  {
   "cell_type": "markdown",
   "id": "5acc239c-1ecc-4e5f-9a02-3b4d2db1c049",
   "metadata": {},
   "source": [
    "# Spark DataFrame API"
   ]
  },
  {
   "cell_type": "code",
   "execution_count": null,
   "id": "cf3ddcd2-ca78-4d1d-94a3-216f0525c5f6",
   "metadata": {},
   "outputs": [],
   "source": [
    "df.name"
   ]
  }
 ],
 "metadata": {
  "kernelspec": {
   "display_name": "PySpark 2",
   "language": "python",
   "name": "pyspark2_env"
  },
  "language_info": {
   "codemirror_mode": {
    "name": "ipython",
    "version": 3
   },
   "file_extension": ".py",
   "mimetype": "text/x-python",
   "name": "python",
   "nbconvert_exporter": "python",
   "pygments_lexer": "ipython3",
   "version": "3.9.13"
  }
 },
 "nbformat": 4,
 "nbformat_minor": 5
}
