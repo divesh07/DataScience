{
 "cells": [
  {
   "cell_type": "code",
   "execution_count": 2,
   "id": "41007ea5-25d9-48fb-bff7-e728167fb9da",
   "metadata": {},
   "outputs": [
    {
     "name": "stderr",
     "output_type": "stream",
     "text": [
      "2024-09-01 06:01:59,768 WARN util.NativeCodeLoader: Unable to load native-hadoop library for your platform... using builtin-java classes where applicable\n",
      "Setting default log level to \"WARN\".\n",
      "To adjust logging level use sc.setLogLevel(newLevel). For SparkR, use setLogLevel(newLevel).\n",
      "2024-09-01 06:02:00,563 WARN util.Utils: Service 'SparkUI' could not bind on port 4040. Attempting port 4041.\n",
      "2024-09-01 06:02:00,564 WARN util.Utils: Service 'SparkUI' could not bind on port 4041. Attempting port 4042.\n",
      "2024-09-01 06:02:01,253 WARN yarn.Client: Neither spark.yarn.jars nor spark.yarn.archive is set, falling back to uploading libraries under SPARK_HOME.\n"
     ]
    }
   ],
   "source": [
    "from pyspark.sql import SparkSession\n",
    "spark = SparkSession.builder \\\n",
    "        .appName(\"MySparkApp\") \\\n",
    "        .config(\"spark.sql.warehouse.dir\", f\"/user/hive/warehouse\") \\\n",
    "        .enableHiveSupport() \\\n",
    "        .master('yarn') \\\n",
    "        .getOrCreate()"
   ]
  },
  {
   "cell_type": "code",
   "execution_count": 3,
   "id": "31f278be-c192-4d4b-9b0a-c47ae6357ef0",
   "metadata": {},
   "outputs": [
    {
     "data": {
      "text/html": [
       "\n",
       "            <div>\n",
       "                <p><b>SparkSession - hive</b></p>\n",
       "                \n",
       "        <div>\n",
       "            <p><b>SparkContext</b></p>\n",
       "\n",
       "            <p><a href=\"http://ip-172-31-16-13.ap-south-1.compute.internal:4042\">Spark UI</a></p>\n",
       "\n",
       "            <dl>\n",
       "              <dt>Version</dt>\n",
       "                <dd><code>v3.1.2</code></dd>\n",
       "              <dt>Master</dt>\n",
       "                <dd><code>yarn</code></dd>\n",
       "              <dt>AppName</dt>\n",
       "                <dd><code>MySparkApp</code></dd>\n",
       "            </dl>\n",
       "        </div>\n",
       "        \n",
       "            </div>\n",
       "        "
      ],
      "text/plain": [
       "<pyspark.sql.session.SparkSession at 0x7f68340399a0>"
      ]
     },
     "execution_count": 3,
     "metadata": {},
     "output_type": "execute_result"
    }
   ],
   "source": [
    "spark"
   ]
  },
  {
   "cell_type": "markdown",
   "id": "5690bf75-2e85-4500-8ea0-cbcd6f37a36f",
   "metadata": {},
   "source": [
    "dsml-8/students_data.txt - not usable\n",
    "- Compltiable file formates\n",
    "1. csv\n",
    "2. parquet\n",
    "2. "
   ]
  },
  {
   "cell_type": "code",
   "execution_count": 5,
   "id": "5c0121ea-487d-416a-8616-01f52b8474e0",
   "metadata": {},
   "outputs": [],
   "source": [
    "path = 'dsml-8/students_data_1.csv'"
   ]
  },
  {
   "cell_type": "code",
   "execution_count": 6,
   "id": "40da0718-b131-4945-845e-9b1aff3bc04e",
   "metadata": {},
   "outputs": [
    {
     "name": "stderr",
     "output_type": "stream",
     "text": [
      "[Stage 1:>                                                          (0 + 1) / 1]\r"
     ]
    },
    {
     "name": "stdout",
     "output_type": "stream",
     "text": [
      "+---+---+---------+---------+---+---+---+---+---+\n",
      "|101|  A|    Rohit|  Gurgaon| 65| 77| 43| 66| 87|\n",
      "+---+---+---------+---------+---+---+---+---+---+\n",
      "|102|  B|  Akansha|    Delhi| 55| 46| 24| 66| 77|\n",
      "|103|  A| Himanshu|Faridabad| 75| 38| 84| 38| 58|\n",
      "|104|  A|     Ekta|    Delhi| 85| 84| 39| 58| 85|\n",
      "|105|  B|Deepanshu|  Gurgaon| 34| 55| 56| 23| 66|\n",
      "|106|  B|    Ayush|    Delhi| 66| 62| 98| 74| 87|\n",
      "|107|  B|    Aditi|    Delhi| 76| 83| 75| 38| 58|\n",
      "|108|  A|    Sahil|Faridabad| 55| 32| 43| 56| 66|\n",
      "|109|  A|    Krati|    Delhi| 34| 53| 25| 67| 75|\n",
      "+---+---+---------+---------+---+---+---+---+---+\n",
      "\n"
     ]
    },
    {
     "name": "stderr",
     "output_type": "stream",
     "text": [
      "                                                                                \r"
     ]
    }
   ],
   "source": [
    "df = spark.read.format('csv').option('header',True).load(path)\n",
    "df.show()"
   ]
  },
  {
   "cell_type": "code",
   "execution_count": 8,
   "id": "8c611f56-3d2a-444d-9674-bb2e459a6b9e",
   "metadata": {},
   "outputs": [
    {
     "name": "stdout",
     "output_type": "stream",
     "text": [
      "+-------+--------------------+--------------------+\n",
      "|movieId|               title|              genres|\n",
      "+-------+--------------------+--------------------+\n",
      "|      1|    Toy Story (1995)|Adventure|Animati...|\n",
      "|      2|      Jumanji (1995)|Adventure|Childre...|\n",
      "|      3|Grumpier Old Men ...|      Comedy|Romance|\n",
      "|      4|Waiting to Exhale...|Comedy|Drama|Romance|\n",
      "|      5|Father of the Bri...|              Comedy|\n",
      "|      6|         Heat (1995)|Action|Crime|Thri...|\n",
      "|      7|      Sabrina (1995)|      Comedy|Romance|\n",
      "|      8| Tom and Huck (1995)|  Adventure|Children|\n",
      "|      9| Sudden Death (1995)|              Action|\n",
      "|     10|    GoldenEye (1995)|Action|Adventure|...|\n",
      "|     11|American Presiden...|Comedy|Drama|Romance|\n",
      "|     12|Dracula: Dead and...|       Comedy|Horror|\n",
      "|     13|        Balto (1995)|Adventure|Animati...|\n",
      "|     14|        Nixon (1995)|               Drama|\n",
      "|     15|Cutthroat Island ...|Action|Adventure|...|\n",
      "|     16|       Casino (1995)|         Crime|Drama|\n",
      "|     17|Sense and Sensibi...|       Drama|Romance|\n",
      "|     18|   Four Rooms (1995)|              Comedy|\n",
      "|     19|Ace Ventura: When...|              Comedy|\n",
      "|     20|  Money Train (1995)|Action|Comedy|Cri...|\n",
      "+-------+--------------------+--------------------+\n",
      "only showing top 20 rows\n",
      "\n"
     ]
    }
   ],
   "source": [
    "df1 = spark.read.format('csv').option('header',True).load('dsml-8/movies.csv')\n",
    "df1.show()"
   ]
  },
  {
   "cell_type": "code",
   "execution_count": 11,
   "id": "58ddbd87-e5ec-4d1f-965b-20c129f9b44b",
   "metadata": {},
   "outputs": [],
   "source": [
    "from pyspark.sql.functions import col\n",
    "genres_df= df1.select(col('genres'))"
   ]
  },
  {
   "cell_type": "code",
   "execution_count": 12,
   "id": "11eb6f44-5eac-48ed-a6e6-57551c8e5c27",
   "metadata": {},
   "outputs": [
    {
     "name": "stdout",
     "output_type": "stream",
     "text": [
      "+--------------------+\n",
      "|              genres|\n",
      "+--------------------+\n",
      "|Adventure|Animati...|\n",
      "|Adventure|Childre...|\n",
      "|      Comedy|Romance|\n",
      "|Comedy|Drama|Romance|\n",
      "|              Comedy|\n",
      "|Action|Crime|Thri...|\n",
      "|      Comedy|Romance|\n",
      "|  Adventure|Children|\n",
      "|              Action|\n",
      "|Action|Adventure|...|\n",
      "|Comedy|Drama|Romance|\n",
      "|       Comedy|Horror|\n",
      "|Adventure|Animati...|\n",
      "|               Drama|\n",
      "|Action|Adventure|...|\n",
      "|         Crime|Drama|\n",
      "|       Drama|Romance|\n",
      "|              Comedy|\n",
      "|              Comedy|\n",
      "|Action|Comedy|Cri...|\n",
      "+--------------------+\n",
      "only showing top 20 rows\n",
      "\n"
     ]
    }
   ],
   "source": [
    "genres_df.show()"
   ]
  },
  {
   "cell_type": "code",
   "execution_count": null,
   "id": "feb52c1f-17c7-48ab-872a-20bd80ea9e4d",
   "metadata": {},
   "outputs": [],
   "source": []
  }
 ],
 "metadata": {
  "kernelspec": {
   "display_name": "PySpark 3",
   "language": "python",
   "name": "pyspark3_env"
  },
  "language_info": {
   "codemirror_mode": {
    "name": "ipython",
    "version": 3
   },
   "file_extension": ".py",
   "mimetype": "text/x-python",
   "name": "python",
   "nbconvert_exporter": "python",
   "pygments_lexer": "ipython3",
   "version": "3.9.13"
  }
 },
 "nbformat": 4,
 "nbformat_minor": 5
}
