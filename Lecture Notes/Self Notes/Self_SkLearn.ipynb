{
 "cells": [
  {
   "cell_type": "code",
   "execution_count": 4,
   "id": "4da30cfc",
   "metadata": {},
   "outputs": [
    {
     "name": "stdout",
     "output_type": "stream",
     "text": [
      "2\n"
     ]
    }
   ],
   "source": [
    "# find subsequence\n",
    "\n",
    "def max_identical_subsequences(s):\n",
    "    n = len(s)\n",
    "    freq = {}\n",
    "    for i in range(n):\n",
    "        for j in range(i + 1, n + 1):\n",
    "            sub = s[i:j]\n",
    "            if sub not in freq:\n",
    "                freq[sub] = 1\n",
    "            else:\n",
    "                freq[sub] += 1\n",
    "    max_count = 1\n",
    "    for sub, count in freq.items():\n",
    "        if len(sub) * count == n:\n",
    "            max_count = max(max_count, count)\n",
    "    return max_count\n",
    "\n",
    "s = \"diveshdiveshdiv\"\n",
    "print(max_identical_subsequences(s))"
   ]
  },
  {
   "cell_type": "code",
   "execution_count": 13,
   "id": "42d02402",
   "metadata": {},
   "outputs": [
    {
     "name": "stdout",
     "output_type": "stream",
     "text": [
      "[[2 0 1]\n",
      " [1 2 1]\n",
      " [0 1 1]]\n"
     ]
    }
   ],
   "source": [
    "from sklearn import metrics\n",
    "actual  = ['c','h','f','c','h','f','c','h','h']\n",
    "predict = ['c','h','h','c','f','f','f','c','h']\n",
    "\n",
    "# total mis clasification = 4\n",
    "# confusion matrix\n",
    "\n",
    "print(metrics.confusion_matrix(actual, predict, labels=['c','h','f']))"
   ]
  },
  {
   "cell_type": "code",
   "execution_count": 14,
   "id": "6feef7f4",
   "metadata": {},
   "outputs": [
    {
     "name": "stdout",
     "output_type": "stream",
     "text": [
      "              precision    recall  f1-score   support\n",
      "\n",
      "           c       0.67      0.67      0.67         3\n",
      "           h       0.67      0.50      0.57         4\n",
      "           f       0.33      0.50      0.40         2\n",
      "\n",
      "    accuracy                           0.56         9\n",
      "   macro avg       0.56      0.56      0.55         9\n",
      "weighted avg       0.59      0.56      0.57         9\n",
      "\n"
     ]
    }
   ],
   "source": [
    "print(metrics.classification_report(actual,predict,labels=['c','h','f']))"
   ]
  }
 ],
 "metadata": {
  "kernelspec": {
   "display_name": "Python 3 (ipykernel)",
   "language": "python",
   "name": "python3"
  },
  "language_info": {
   "codemirror_mode": {
    "name": "ipython",
    "version": 3
   },
   "file_extension": ".py",
   "mimetype": "text/x-python",
   "name": "python",
   "nbconvert_exporter": "python",
   "pygments_lexer": "ipython3",
   "version": "3.11.5"
  }
 },
 "nbformat": 4,
 "nbformat_minor": 5
}
