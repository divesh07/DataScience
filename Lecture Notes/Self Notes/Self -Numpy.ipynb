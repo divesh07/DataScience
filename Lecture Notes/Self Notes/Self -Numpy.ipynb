{
 "cells": [
  {
   "cell_type": "code",
   "execution_count": 3,
   "id": "b964fbc5",
   "metadata": {},
   "outputs": [
    {
     "name": "stdout",
     "output_type": "stream",
     "text": [
      "1.24.3\n"
     ]
    }
   ],
   "source": [
    "# Numerical python ( numpy) , homogenous values\n",
    "# Written over C and hence its efficient\n",
    "# 3PL\n",
    "# Mostly used for Matrices\n",
    "\n",
    "import numpy as np # Alias\n",
    "print (np.__version__)"
   ]
  },
  {
   "cell_type": "code",
   "execution_count": 4,
   "id": "8a014c9a",
   "metadata": {},
   "outputs": [
    {
     "name": "stdout",
     "output_type": "stream",
     "text": [
      "[1. 2. 3. 4. 5.]\n"
     ]
    }
   ],
   "source": [
    "# Smallest form of matrices are arrays\n",
    "\n",
    "A1 = np.array([1,2,3,4,5.0]) # Create matrix in py\n",
    "print(A1) # A1 is a 1D array"
   ]
  },
  {
   "cell_type": "code",
   "execution_count": 5,
   "id": "68ca2f1d",
   "metadata": {},
   "outputs": [
    {
     "name": "stdout",
     "output_type": "stream",
     "text": [
      "[1 2 3 4 5]\n"
     ]
    }
   ],
   "source": [
    "A1 = np.array([1,2,3,4,5]) # Create matrix in py\n",
    "print(A1) # A1 is a 1D array"
   ]
  },
  {
   "cell_type": "code",
   "execution_count": 6,
   "id": "fc70104f",
   "metadata": {},
   "outputs": [
    {
     "name": "stdout",
     "output_type": "stream",
     "text": [
      "[[1 2 3 4]\n",
      " [5 6 7 8]\n",
      " [2 1 3 5]]\n"
     ]
    }
   ],
   "source": [
    "# Multi Dim Array ( 2 D matrix  - 3row , 4 col)\n",
    "\n",
    "A2 = np.array([[1,2,3,4],[5,6,7,8],[2,1,3,5]])\n",
    "print(A2)"
   ]
  },
  {
   "cell_type": "code",
   "execution_count": 7,
   "id": "5961eaa7",
   "metadata": {},
   "outputs": [
    {
     "name": "stdout",
     "output_type": "stream",
     "text": [
      "[1, 2, 3, 4]\n",
      "[1 2 3 4]\n"
     ]
    }
   ],
   "source": [
    "#Create np array via list\n",
    "\n",
    "l1 = [1,2,3,4]\n",
    "print(l1)\n",
    "\n",
    "A3 = np.array(l1)\n",
    "print (A3)"
   ]
  },
  {
   "cell_type": "code",
   "execution_count": 8,
   "id": "aea5a9f3",
   "metadata": {},
   "outputs": [
    {
     "name": "stdout",
     "output_type": "stream",
     "text": [
      "[[1. 1. 1. 1.]\n",
      " [1. 1. 1. 1.]\n",
      " [1. 1. 1. 1.]]\n"
     ]
    }
   ],
   "source": [
    "#Ones()\n",
    "\n",
    "B1 = np.ones((3,4))\n",
    "print(B1) # Default float"
   ]
  },
  {
   "cell_type": "code",
   "execution_count": 10,
   "id": "5bdcb0eb",
   "metadata": {},
   "outputs": [
    {
     "name": "stdout",
     "output_type": "stream",
     "text": [
      "[[1 1 1 1]\n",
      " [1 1 1 1]\n",
      " [1 1 1 1]]\n"
     ]
    }
   ],
   "source": [
    "B1 = np.ones((3,4), dtype=int)\n",
    "print(B1) # Int matrix"
   ]
  },
  {
   "cell_type": "code",
   "execution_count": 11,
   "id": "3d1a2841",
   "metadata": {},
   "outputs": [
    {
     "name": "stdout",
     "output_type": "stream",
     "text": [
      "[[0 0 0]\n",
      " [0 0 0]\n",
      " [0 0 0]]\n"
     ]
    }
   ],
   "source": [
    "B2 = np.zeros((3,3)).astype(int)\n",
    "print(B2)"
   ]
  },
  {
   "cell_type": "code",
   "execution_count": 15,
   "id": "2466b3c6",
   "metadata": {},
   "outputs": [
    {
     "name": "stdout",
     "output_type": "stream",
     "text": [
      "[[1 0 0 0]\n",
      " [0 1 0 0]\n",
      " [0 0 1 0]\n",
      " [0 0 0 1]]\n"
     ]
    }
   ],
   "source": [
    "#Identity matrix - square matrix with diagonal elements are 1 and remaining are zero\n",
    "\n",
    "print(np.identity(4).astype(int))\n"
   ]
  },
  {
   "cell_type": "code",
   "execution_count": 13,
   "id": "8f6d0bf9",
   "metadata": {},
   "outputs": [
    {
     "name": "stdout",
     "output_type": "stream",
     "text": [
      "[0 1 2 3 4]\n"
     ]
    }
   ],
   "source": [
    "# Array range()\n",
    "# starts with zero and default step size = 1 \n",
    "# Dimension 1 row , 5 cols\n",
    "print(np.arange(5))\n"
   ]
  },
  {
   "cell_type": "code",
   "execution_count": 16,
   "id": "3ec424d5",
   "metadata": {},
   "outputs": [
    {
     "name": "stdout",
     "output_type": "stream",
     "text": [
      "[10  8  6  4  2]\n"
     ]
    }
   ],
   "source": [
    "print(np.arange(10,1,-2))"
   ]
  },
  {
   "cell_type": "code",
   "execution_count": 19,
   "id": "2c8108e9",
   "metadata": {},
   "outputs": [
    {
     "name": "stdout",
     "output_type": "stream",
     "text": [
      "[ 0 -2 -4 -6 -8]\n"
     ]
    }
   ],
   "source": [
    "print(np.arange(0,-10,-2))"
   ]
  },
  {
   "cell_type": "code",
   "execution_count": 21,
   "id": "24b86e7f",
   "metadata": {},
   "outputs": [
    {
     "name": "stdout",
     "output_type": "stream",
     "text": [
      "[0 2 4 6 8]\n"
     ]
    }
   ],
   "source": [
    "print(np.arange(0,10,2))"
   ]
  },
  {
   "cell_type": "code",
   "execution_count": 25,
   "id": "008ca3d2",
   "metadata": {},
   "outputs": [
    {
     "name": "stdout",
     "output_type": "stream",
     "text": [
      "[[1 2 1 2]\n",
      " [2 3 2 3]\n",
      " [3 4 3 4]]\n"
     ]
    }
   ],
   "source": [
    "#concat\n",
    "\n",
    "#Vertical stack ( on top ) and horizontal stack ( side by side)\n",
    "\n",
    "a = np.array([[1,2],[2,3],[3,4]])\n",
    "b = np.array([[1,2],[2,3],[3,4]])\n",
    "print(np.hstack((a,b)))"
   ]
  },
  {
   "cell_type": "code",
   "execution_count": 26,
   "id": "68568ab5",
   "metadata": {},
   "outputs": [
    {
     "name": "stdout",
     "output_type": "stream",
     "text": [
      "[[1 2]\n",
      " [2 3]\n",
      " [3 4]\n",
      " [1 2]\n",
      " [2 3]\n",
      " [3 4]]\n"
     ]
    }
   ],
   "source": [
    "a = np.array([[1,2],[2,3],[3,4]])\n",
    "b = np.array([[1,2],[2,3],[3,4]])\n",
    "print(np.vstack((a,b)))"
   ]
  },
  {
   "cell_type": "code",
   "execution_count": 31,
   "id": "3c912914",
   "metadata": {},
   "outputs": [
    {
     "name": "stdout",
     "output_type": "stream",
     "text": [
      "2\n",
      "(3, 3)\n",
      "9\n"
     ]
    }
   ],
   "source": [
    "s = np.array([[1,2,3],[2,3,4],[3,4,5]])\n",
    "print(np.ndim(s))\n",
    "print(np.shape(s))\n",
    "print(np.size(s))"
   ]
  },
  {
   "cell_type": "code",
   "execution_count": 35,
   "id": "f26571b1",
   "metadata": {},
   "outputs": [
    {
     "name": "stdout",
     "output_type": "stream",
     "text": [
      "[[ 1  2  3  4]\n",
      " [ 5  6  7  8]\n",
      " [ 9 10 11 12]]\n",
      "[[ 1  2]\n",
      " [ 3  4]\n",
      " [ 5  6]\n",
      " [ 7  8]\n",
      " [ 9 10]\n",
      " [11 12]]\n",
      "[[ 1]\n",
      " [ 2]\n",
      " [ 3]\n",
      " [ 4]\n",
      " [ 5]\n",
      " [ 6]\n",
      " [ 7]\n",
      " [ 8]\n",
      " [ 9]\n",
      " [10]\n",
      " [11]\n",
      " [12]]\n",
      "[[ 1  2  3  4  5  6  7  8  9 10 11 12]]\n"
     ]
    }
   ],
   "source": [
    "# Reshaping reshape(m,n) - m no of rows , n - no of cols\n",
    "\n",
    "'''Converting 1d to 2 D array'''\n",
    "A1 = np.array([1,2,3,4,5,6,7,8,9,10,11,12])\n",
    "print(A1.reshape(3,4))\n",
    "print(A1.reshape(6,2))\n",
    "print(A1.reshape(12,1))\n",
    "print(A1.reshape(1,12))"
   ]
  },
  {
   "cell_type": "code",
   "execution_count": 41,
   "id": "b5116166",
   "metadata": {},
   "outputs": [
    {
     "name": "stdout",
     "output_type": "stream",
     "text": [
      "[ 1  2  3  4  5  6  7  8  9 10 11 12]\n",
      "[[ 1  2  3  4]\n",
      " [ 5  6  7  8]\n",
      " [ 9 10 11 12]]\n",
      "12\n",
      "1\n",
      "[ 1  2  3  4  5  6  7  8  9 10 11 12]\n"
     ]
    }
   ],
   "source": [
    "#Flatten() , transform to 1d array\n",
    "# Used in CNN \n",
    "A1 = np.array([1,2,3,4,5,6,7,8,9,10,11,12])\n",
    "A2 = A1.reshape(3,4)\n",
    "print(A1)\n",
    "print(A2)\n",
    "print(A2.flatten())\n"
   ]
  },
  {
   "cell_type": "code",
   "execution_count": null,
   "id": "1d36c27f",
   "metadata": {},
   "outputs": [],
   "source": [
    "#Max and min\n",
    "A1 = np.array([1,2,3,4,5,6,7,8,9,10,11,12])\n",
    "A2 = A1.reshape(3,4)\n",
    "print(A1)\n",
    "print(A2)\n",
    "print(np.max(A2))\n",
    "print(np.min(A2))"
   ]
  },
  {
   "cell_type": "code",
   "execution_count": 44,
   "id": "cdf149b9",
   "metadata": {},
   "outputs": [
    {
     "name": "stdout",
     "output_type": "stream",
     "text": [
      "[[1 2 3]\n",
      " [4 5 6]\n",
      " [7 8 9]]\n"
     ]
    },
    {
     "data": {
      "text/plain": [
       "array([1, 4, 7])"
      ]
     },
     "execution_count": 44,
     "metadata": {},
     "output_type": "execute_result"
    }
   ],
   "source": [
    "A = np.array([[1,2,3],[4,5,6],[7,8,9]])\n",
    "print(A)\n",
    "np.min(A, axis=0)\n",
    "np.min(A, axis=1)"
   ]
  },
  {
   "cell_type": "code",
   "execution_count": 56,
   "id": "a904c8d4",
   "metadata": {},
   "outputs": [
    {
     "name": "stdout",
     "output_type": "stream",
     "text": [
      "[[0 1 2]\n",
      " [3 4 5]\n",
      " [6 7 8]]\n",
      "[[0 1 2]\n",
      " [3 4 5]\n",
      " [6 7 8]]\n",
      "[[ 0  2  4]\n",
      " [ 6  8 10]\n",
      " [12 14 16]]\n",
      "[[0 0 0]\n",
      " [0 0 0]\n",
      " [0 0 0]]\n",
      "[[ 15  18  21]\n",
      " [ 42  54  66]\n",
      " [ 69  90 111]]\n",
      "[[ 15  18  21]\n",
      " [ 42  54  66]\n",
      " [ 69  90 111]]\n"
     ]
    }
   ],
   "source": [
    "# Matrix Operations\n",
    "\n",
    "'''\n",
    "Transpose - rows into cols\n",
    "Multiplication - Row * cols or Element * element \n",
    "Diagonal()\n",
    "Trace() - sum of diagonal elements\n",
    "Reverse diagonal - fliplr , flipup\n",
    "Addition and subtraction\n",
    "Multiplication a @ b (A@B is not equal to B@A) - row @ cols\n",
    "Multiplication a * b - Element * element \n",
    "\n",
    "\n",
    "'''\n",
    "\n",
    "a1 = np.arange(9).reshape(3,3)\n",
    "print(a1)\n",
    "a2 = np.arange(9).reshape(3,3)\n",
    "print(a2)\n",
    "print(a1 + a2)\n",
    "print(a1 - a2)\n",
    "print(a1 @ a2)\n",
    "print(a2 @ a1)"
   ]
  },
  {
   "cell_type": "code",
   "execution_count": 62,
   "id": "1fa4b1de",
   "metadata": {},
   "outputs": [
    {
     "name": "stdout",
     "output_type": "stream",
     "text": [
      "[ 1  3  5  7  9 11 13 15 17 19 21 23 25 27 29]\n",
      "5\n",
      "29\n",
      "[27 25 23]\n"
     ]
    }
   ],
   "source": [
    "#Extract elements of array [ start : stop : step size]\n",
    "a1 = np.arange(1,30,2)\n",
    "print(a1)\n",
    "print(a1[2])\n",
    "print(a1[-1]) # Last element\n",
    "print( a1[-2:-5:-1])"
   ]
  },
  {
   "cell_type": "code",
   "execution_count": 65,
   "id": "d05e37de",
   "metadata": {},
   "outputs": [
    {
     "name": "stdout",
     "output_type": "stream",
     "text": [
      "[[ 0  1  2  3  4  5  6  7]\n",
      " [ 8  9 10 11 12 13 14 15]\n",
      " [16 17 18 19 20 21 22 23]]\n"
     ]
    }
   ],
   "source": [
    "#2D array - define for both rows and cols\n",
    "a2 = np.arange(64).reshape(8,8)\n",
    "print(a2[0:3,::]) # First 3 rows and all cols\n"
   ]
  },
  {
   "cell_type": "code",
   "execution_count": 71,
   "id": "d99951a2",
   "metadata": {},
   "outputs": [
    {
     "name": "stdout",
     "output_type": "stream",
     "text": [
      "[1 2 3 4 5]\n",
      "(5,)\n",
      "[3 4 5 6 7]\n",
      "(1,)\n",
      "[3 3 3]\n",
      "(3,)\n"
     ]
    },
    {
     "ename": "ValueError",
     "evalue": "operands could not be broadcast together with shapes (5,) (3,) ",
     "output_type": "error",
     "traceback": [
      "\u001b[0;31m---------------------------------------------------------------------------\u001b[0m",
      "\u001b[0;31mValueError\u001b[0m                                Traceback (most recent call last)",
      "Cell \u001b[0;32mIn[71], line 16\u001b[0m\n\u001b[1;32m     13\u001b[0m \u001b[38;5;28mprint\u001b[39m (b1 \u001b[38;5;241m+\u001b[39m c1)\n\u001b[1;32m     14\u001b[0m \u001b[38;5;28mprint\u001b[39m (c1\u001b[38;5;241m.\u001b[39mshape)\n\u001b[0;32m---> 16\u001b[0m \u001b[38;5;28mprint\u001b[39m ( a1 \u001b[38;5;241m+\u001b[39m c1 )\n",
      "\u001b[0;31mValueError\u001b[0m: operands could not be broadcast together with shapes (5,) (3,) "
     ]
    }
   ],
   "source": [
    "#Broadcasting\n",
    "#bringing smaller arry to size of larger array to perform vector and scalar ops\n",
    "# Ex Matrix a + 1 ( 1 is added to all elements of matrix)\n",
    "'''Broadcasting happens when they are equal, or one of them is 1.'''\n",
    "\n",
    "a1 = np.array([1,2,3,4,5])\n",
    "b1 = np.array([2])  \n",
    "c1 = np.array([1,1,1])\n",
    "aa1 = 2\n",
    "\n",
    "print (a1)\n",
    "print (a1.shape)\n",
    "print (a1 + b1)  # Called broadcasting of b1 as b1 is stretched\n",
    "print ( b1.shape)\n",
    "print (b1 + c1)\n",
    "print (c1.shape)\n",
    "\n",
    "#print ( a1 + c1 ) # This is not allowed as shape doesn't match"
   ]
  },
  {
   "cell_type": "code",
   "execution_count": null,
   "id": "3ba04db9",
   "metadata": {},
   "outputs": [],
   "source": []
  }
 ],
 "metadata": {
  "kernelspec": {
   "display_name": "Python 3 (ipykernel)",
   "language": "python",
   "name": "python3"
  },
  "language_info": {
   "codemirror_mode": {
    "name": "ipython",
    "version": 3
   },
   "file_extension": ".py",
   "mimetype": "text/x-python",
   "name": "python",
   "nbconvert_exporter": "python",
   "pygments_lexer": "ipython3",
   "version": "3.11.5"
  }
 },
 "nbformat": 4,
 "nbformat_minor": 5
}
