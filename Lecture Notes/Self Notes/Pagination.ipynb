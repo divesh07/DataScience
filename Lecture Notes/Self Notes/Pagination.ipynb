{
 "cells": [
  {
   "cell_type": "code",
   "execution_count": 54,
   "id": "06c2d46f",
   "metadata": {},
   "outputs": [],
   "source": [
    "import requests\n",
    "import pandas as pd"
   ]
  },
  {
   "cell_type": "code",
   "execution_count": 47,
   "id": "17df4c3c",
   "metadata": {},
   "outputs": [],
   "source": [
    "# use https://rickandmortyapi.com/api - open source and no auth required\n",
    "# Get all characters - \"https://rickandmortyapi.com/api/character\n",
    "\n",
    "baseurl = \"https://rickandmortyapi.com/api/\"\n",
    "endpoint = 'character'\n",
    "\n",
    "\n",
    "def main_request(baseurl, endpoint, x):\n",
    "    r = requests.get(baseurl + endpoint + f'?page={x}')\n",
    "    return r.json()\n",
    "\n",
    "def get_info(response):\n",
    "    return (response['info'])\n",
    "    \n",
    "def get_pages(response):\n",
    "    return response['info']['pages']\n",
    "\n",
    "\n",
    "def parse_json(response):\n",
    "    charlist = []\n",
    "    for item in response['results']:\n",
    "        char = {\n",
    "            'id': item['id'],\n",
    "            'name': item['name'],\n",
    "            'no_ep' : len(item['episode'])\n",
    "        }\n",
    "        charlist.append(char)\n",
    "    return charlist\n",
    "    "
   ]
  },
  {
   "cell_type": "code",
   "execution_count": 57,
   "id": "6abc0bec",
   "metadata": {},
   "outputs": [
    {
     "name": "stdout",
     "output_type": "stream",
     "text": [
      "           name  no_ep\n",
      "0  Rick Sanchez     51\n",
      "1   Morty Smith     51\n",
      "2  Summer Smith     42\n",
      "3    Beth Smith     42\n",
      "4   Jerry Smith     39              name  no_ep\n",
      "821   Young Jerry      1\n",
      "822    Young Beth      1\n",
      "823    Young Beth      1\n",
      "824   Young Jerry      1\n",
      "825  Butter Robot      1\n"
     ]
    }
   ],
   "source": [
    "mainlist=[]\n",
    "#data = main_request(baseurl,endpoint,2)\n",
    "for x in range(1,get_pages(data)+1):\n",
    "    #print(x) # total pages 42\n",
    "    mainlist.extend(parse_json(main_request(baseurl, endpoint, x)))\n",
    "    #print(len(mainlist)) # total count = 826\n",
    "\n",
    "df = pd.DataFrame(mainlist)\n",
    "#df.to_csv('chalist.csv', index=False)\n",
    "\n",
    "print(df.head(), df.tail())"
   ]
  },
  {
   "cell_type": "code",
   "execution_count": null,
   "id": "a153331b",
   "metadata": {},
   "outputs": [],
   "source": []
  }
 ],
 "metadata": {
  "kernelspec": {
   "display_name": "Python 3 (ipykernel)",
   "language": "python",
   "name": "python3"
  },
  "language_info": {
   "codemirror_mode": {
    "name": "ipython",
    "version": 3
   },
   "file_extension": ".py",
   "mimetype": "text/x-python",
   "name": "python",
   "nbconvert_exporter": "python",
   "pygments_lexer": "ipython3",
   "version": "3.11.5"
  }
 },
 "nbformat": 4,
 "nbformat_minor": 5
}
