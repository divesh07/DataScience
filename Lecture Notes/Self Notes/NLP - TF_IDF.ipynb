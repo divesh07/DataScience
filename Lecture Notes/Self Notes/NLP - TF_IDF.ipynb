{
 "cells": [
  {
   "cell_type": "code",
   "execution_count": 1,
   "id": "8ef79a02",
   "metadata": {},
   "outputs": [],
   "source": [
    "import nltk\n",
    "import numpy as np\n",
    "import pandas as pd\n",
    "from string import punctuation\n",
    "from nltk.corpus import stopwords\n",
    "from nltk.tokenize import word_tokenize"
   ]
  },
  {
   "cell_type": "code",
   "execution_count": 3,
   "id": "f0119802",
   "metadata": {},
   "outputs": [],
   "source": [
    "doc1 = \"Text analytics is boring boring boring!!\"\n",
    "doc2 = \"Analytics in interesting\"\n",
    "doc3 = \"We want interesting sports analytics\""
   ]
  },
  {
   "cell_type": "code",
   "execution_count": null,
   "id": "5848d9e2",
   "metadata": {},
   "outputs": [],
   "source": [
    "def clean_text(string):\n",
    "    tokesn"
   ]
  }
 ],
 "metadata": {
  "kernelspec": {
   "display_name": "Python 3 (ipykernel)",
   "language": "python",
   "name": "python3"
  },
  "language_info": {
   "codemirror_mode": {
    "name": "ipython",
    "version": 3
   },
   "file_extension": ".py",
   "mimetype": "text/x-python",
   "name": "python",
   "nbconvert_exporter": "python",
   "pygments_lexer": "ipython3",
   "version": "3.11.5"
  }
 },
 "nbformat": 4,
 "nbformat_minor": 5
}
