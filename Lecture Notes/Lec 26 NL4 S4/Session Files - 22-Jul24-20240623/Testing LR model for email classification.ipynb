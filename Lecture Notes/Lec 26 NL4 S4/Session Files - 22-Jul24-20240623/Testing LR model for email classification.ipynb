{
 "cells": [
  {
   "cell_type": "markdown",
   "id": "3b244386",
   "metadata": {},
   "source": [
    "# First get the pickle files from the notebook titled - Email_spam_classification_Case_Study-2"
   ]
  },
  {
   "cell_type": "code",
   "execution_count": 16,
   "id": "5997bd0d",
   "metadata": {},
   "outputs": [],
   "source": [
    "import numpy as np\n",
    "import re\n",
    "import pickle"
   ]
  },
  {
   "cell_type": "code",
   "execution_count": 17,
   "id": "ed7f93ae",
   "metadata": {},
   "outputs": [],
   "source": [
    "# Using our classifier\n",
    "with open('tfidfmodel.pickle','rb') as f:\n",
    "    tfidf = pickle.load(f)"
   ]
  },
  {
   "cell_type": "code",
   "execution_count": 18,
   "id": "f9c17e09",
   "metadata": {},
   "outputs": [],
   "source": [
    "with open('classifier.pickle','rb') as f:\n",
    "    clf = pickle.load(f)"
   ]
  },
  {
   "cell_type": "code",
   "execution_count": 22,
   "id": "a393512a",
   "metadata": {},
   "outputs": [
    {
     "data": {
      "text/plain": [
       "['win unbelievable lottery free offer',\n",
       " 'project meeting tomorrow',\n",
       " 'no class tomorrow',\n",
       " 'party with us after money from intern',\n",
       " 'party with us after intern']"
      ]
     },
     "execution_count": 22,
     "metadata": {},
     "output_type": "execute_result"
    }
   ],
   "source": [
    "sampl = [\"win unbelievable lottery free offer\",\"project meeting tomorrow\",\"no class tomorrow\",\"party with us after money from intern\",\"party with us after intern\"]\n",
    "sampl"
   ]
  },
  {
   "cell_type": "code",
   "execution_count": 23,
   "id": "74943a17",
   "metadata": {},
   "outputs": [
    {
     "data": {
      "text/plain": [
       "array([1, 0, 0, 1, 0], dtype=int64)"
      ]
     },
     "execution_count": 23,
     "metadata": {},
     "output_type": "execute_result"
    }
   ],
   "source": [
    "sample = tfidf.transform(sampl).toarray()\n",
    "spam = clf.predict(sample)\n",
    "spam"
   ]
  },
  {
   "cell_type": "code",
   "execution_count": null,
   "id": "a73a954a",
   "metadata": {},
   "outputs": [],
   "source": []
  },
  {
   "cell_type": "code",
   "execution_count": null,
   "id": "c178e4ab",
   "metadata": {},
   "outputs": [],
   "source": []
  }
 ],
 "metadata": {
  "kernelspec": {
   "display_name": "Python 3",
   "language": "python",
   "name": "python3"
  },
  "language_info": {
   "codemirror_mode": {
    "name": "ipython",
    "version": 3
   },
   "file_extension": ".py",
   "mimetype": "text/x-python",
   "name": "python",
   "nbconvert_exporter": "python",
   "pygments_lexer": "ipython3",
   "version": "3.8.8"
  }
 },
 "nbformat": 4,
 "nbformat_minor": 5
}
