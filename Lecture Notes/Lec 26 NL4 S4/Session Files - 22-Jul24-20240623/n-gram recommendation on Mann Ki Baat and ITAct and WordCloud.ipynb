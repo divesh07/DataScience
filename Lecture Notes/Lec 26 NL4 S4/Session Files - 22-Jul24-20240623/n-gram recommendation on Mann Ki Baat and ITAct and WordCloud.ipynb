{
 "cells": [
  {
   "cell_type": "code",
   "execution_count": null,
   "id": "a321a51f",
   "metadata": {},
   "outputs": [],
   "source": [
    "# N-Gram Recommendation\n",
    "# Import libraries\n",
    "import random\n",
    "import nltk\n",
    "import re"
   ]
  },
  {
   "cell_type": "code",
   "execution_count": null,
   "id": "eb478e56",
   "metadata": {},
   "outputs": [],
   "source": [
    "!pip install PyPDF2"
   ]
  },
  {
   "cell_type": "code",
   "execution_count": null,
   "id": "31f740df",
   "metadata": {},
   "outputs": [],
   "source": [
    "import PyPDF2\n",
    "reader = PyPDF2.PdfFileReader('ITAct.pdf')\n",
    "print(reader.documentInfo)\n",
    "print(reader.getNumPages())"
   ]
  },
  {
   "cell_type": "code",
   "execution_count": null,
   "id": "5da0e8e3",
   "metadata": {},
   "outputs": [],
   "source": [
    "entiretext = \"\"\n",
    "for i in range(0,reader.getNumPages()):\n",
    "    entiretext += reader.getPage(i).extractText()"
   ]
  },
  {
   "cell_type": "code",
   "execution_count": null,
   "id": "989d778a",
   "metadata": {},
   "outputs": [],
   "source": [
    "entiretext"
   ]
  },
  {
   "cell_type": "code",
   "execution_count": null,
   "id": "9421630e",
   "metadata": {},
   "outputs": [],
   "source": []
  },
  {
   "cell_type": "code",
   "execution_count": null,
   "id": "00122fb9",
   "metadata": {},
   "outputs": [],
   "source": []
  },
  {
   "cell_type": "code",
   "execution_count": null,
   "id": "b3ad7030",
   "metadata": {},
   "outputs": [],
   "source": []
  },
  {
   "cell_type": "code",
   "execution_count": null,
   "id": "16cbfd26",
   "metadata": {},
   "outputs": [],
   "source": [
    "#?PyPDF2.PdfReader"
   ]
  },
  {
   "cell_type": "code",
   "execution_count": null,
   "id": "790c37ad",
   "metadata": {},
   "outputs": [],
   "source": [
    "with open(\"Mankibaat.txt\",encoding='utf-8') as f:\n",
    "    data = f.read()\n",
    "data"
   ]
  },
  {
   "cell_type": "code",
   "execution_count": null,
   "id": "176db613",
   "metadata": {},
   "outputs": [],
   "source": []
  },
  {
   "cell_type": "code",
   "execution_count": null,
   "id": "a91379b8",
   "metadata": {},
   "outputs": [],
   "source": [
    "sentence1 = \"I am, you are. why is? fdsiofn\""
   ]
  },
  {
   "cell_type": "code",
   "execution_count": null,
   "id": "f8bd8655",
   "metadata": {},
   "outputs": [],
   "source": [
    "sentence2 = re.sub(r\"[^\\w\\s]+\",\" \",sentence1)\n",
    "sentence2"
   ]
  },
  {
   "cell_type": "code",
   "execution_count": null,
   "id": "f076b993",
   "metadata": {},
   "outputs": [],
   "source": [
    "speech = data\n",
    "speech = re.sub(r\"[^\\w\\s]+\",\" \",speech)\n",
    "speech"
   ]
  },
  {
   "cell_type": "markdown",
   "id": "9088a04e",
   "metadata": {},
   "source": [
    "# Custom Word-Cloud"
   ]
  },
  {
   "cell_type": "code",
   "execution_count": null,
   "id": "b8e0de58",
   "metadata": {},
   "outputs": [],
   "source": [
    "from wordcloud import WordCloud\n",
    "import pandas as pd,numpy as np\n",
    "import matplotlib.pyplot as plt"
   ]
  },
  {
   "cell_type": "code",
   "execution_count": null,
   "id": "cd3d6852",
   "metadata": {},
   "outputs": [],
   "source": [
    "word_cloud = WordCloud(collocations = True, width=800,height=800,background_color='white',max_words=200, random_state = 15424, stopwords = None).\\\n",
    "generate_from_text(entiretext)\n",
    "plt.figure(figsize=[7,7])\n",
    "plt.imshow(word_cloud)\n",
    "plt.show()"
   ]
  },
  {
   "cell_type": "code",
   "execution_count": null,
   "id": "360f6e43",
   "metadata": {},
   "outputs": [],
   "source": [
    "from PIL import Image\n",
    "mask = np.array(Image.open('indiamap.png'))\n",
    "wc = WordCloud(mask=mask, background_color=\"white\",\n",
    "               max_words=500, max_font_size=256,\n",
    "               random_state=11922, width=mask.shape[1],\n",
    "               height=mask.shape[0])\n",
    "wc.generate(speech)\n",
    "#plt.imshow(wc, interpolation=\"bilinear\")\n",
    "plt.figure(figsize=[10,10])\n",
    "plt.imshow(wc, interpolation=\"bilinear\")\n",
    "plt.axis('off')\n",
    "plt.show()"
   ]
  },
  {
   "cell_type": "code",
   "execution_count": null,
   "id": "a8d73fd3",
   "metadata": {},
   "outputs": [],
   "source": []
  },
  {
   "cell_type": "code",
   "execution_count": null,
   "id": "e9e7bc03",
   "metadata": {},
   "outputs": [],
   "source": [
    "import nltk\n",
    "words= speech.split(\" \")\n",
    "words\n",
    "len(words)"
   ]
  },
  {
   "cell_type": "code",
   "execution_count": null,
   "id": "f3d697d7",
   "metadata": {},
   "outputs": [],
   "source": [
    "#Value of n\n",
    "# n = 2 is tri-gram model, n=1 is bigram model\n",
    "n = 5"
   ]
  },
  {
   "cell_type": "code",
   "execution_count": null,
   "id": "4bf8a7a1",
   "metadata": {},
   "outputs": [],
   "source": [
    "#n-gram dictionary\n",
    "ngrams = {}"
   ]
  },
  {
   "cell_type": "code",
   "execution_count": null,
   "id": "13a4e982",
   "metadata": {},
   "outputs": [],
   "source": [
    "sentence = \"I am doing well\""
   ]
  },
  {
   "cell_type": "code",
   "execution_count": null,
   "id": "1992783e",
   "metadata": {},
   "outputs": [],
   "source": [
    "nltk.word_tokenize(sentence)"
   ]
  },
  {
   "cell_type": "code",
   "execution_count": null,
   "id": "3e61747d",
   "metadata": {},
   "outputs": [],
   "source": [
    "speech"
   ]
  },
  {
   "cell_type": "code",
   "execution_count": null,
   "id": "bf68dc51",
   "metadata": {},
   "outputs": [],
   "source": [
    "# Building the model\n",
    "words = nltk.word_tokenize(speech)\n",
    "for i in range(len(words)-n):\n",
    "    gram = ' '.join(words[i:i+n])\n",
    "    if gram not in ngrams.keys():\n",
    "        ngrams[gram] = []\n",
    "    ngrams[gram].append(words[i+n])"
   ]
  },
  {
   "cell_type": "code",
   "execution_count": null,
   "id": "2a2b3433",
   "metadata": {},
   "outputs": [],
   "source": [
    "words[10:11]"
   ]
  },
  {
   "cell_type": "code",
   "execution_count": null,
   "id": "55f9deec",
   "metadata": {},
   "outputs": [],
   "source": [
    "print(ngrams[\"heartiest\"])"
   ]
  },
  {
   "cell_type": "code",
   "execution_count": null,
   "id": "f49301f3",
   "metadata": {},
   "outputs": [],
   "source": [
    "ngrams"
   ]
  },
  {
   "cell_type": "code",
   "execution_count": null,
   "id": "b5e6140e",
   "metadata": {},
   "outputs": [],
   "source": [
    "# Testing the model\n",
    "currentGram = ' '.join(words[0:n])\n",
    "result = currentGram"
   ]
  },
  {
   "cell_type": "code",
   "execution_count": null,
   "id": "89e316e1",
   "metadata": {},
   "outputs": [],
   "source": [
    "result"
   ]
  },
  {
   "cell_type": "code",
   "execution_count": null,
   "id": "6eff6c28",
   "metadata": {},
   "outputs": [],
   "source": [
    "currentGram"
   ]
  },
  {
   "cell_type": "code",
   "execution_count": null,
   "id": "e88fba2d",
   "metadata": {},
   "outputs": [],
   "source": [
    "currentGram = ' '.join(words[0:n])\n",
    "currentGram = \"My Dear Countryme Today is\"\n",
    "result = currentGram\n",
    "for i in range(1000):\n",
    "    if currentGram not in ngrams.keys():\n",
    "        break\n",
    "    possibilities = ngrams[currentGram]\n",
    "    nextItem = possibilities[random.randrange(len(possibilities))]\n",
    "    result += ' '+nextItem\n",
    "    rWords = nltk.word_tokenize(result)\n",
    "    currentGram = ' '.join(rWords[len(rWords)-n:len(rWords)])\n",
    "result"
   ]
  },
  {
   "cell_type": "code",
   "execution_count": null,
   "id": "c57e80e5",
   "metadata": {},
   "outputs": [],
   "source": [
    "random.randrange(10)"
   ]
  },
  {
   "cell_type": "code",
   "execution_count": null,
   "id": "183979c1",
   "metadata": {},
   "outputs": [],
   "source": []
  },
  {
   "cell_type": "code",
   "execution_count": null,
   "id": "7d38aa6c",
   "metadata": {},
   "outputs": [],
   "source": [
    "possibilities = ngrams[\"I am\"]\n",
    "possibilities"
   ]
  },
  {
   "cell_type": "code",
   "execution_count": null,
   "id": "34d6a747",
   "metadata": {},
   "outputs": [],
   "source": [
    "result"
   ]
  },
  {
   "cell_type": "code",
   "execution_count": null,
   "id": "9fd22b50",
   "metadata": {},
   "outputs": [],
   "source": []
  },
  {
   "cell_type": "code",
   "execution_count": null,
   "id": "763baf01",
   "metadata": {},
   "outputs": [],
   "source": [
    "result"
   ]
  },
  {
   "cell_type": "code",
   "execution_count": null,
   "id": "127c2cdc",
   "metadata": {},
   "outputs": [],
   "source": []
  },
  {
   "cell_type": "code",
   "execution_count": null,
   "id": "4db7ab7d",
   "metadata": {},
   "outputs": [],
   "source": []
  }
 ],
 "metadata": {
  "kernelspec": {
   "display_name": "Python 3",
   "language": "python",
   "name": "python3"
  },
  "language_info": {
   "codemirror_mode": {
    "name": "ipython",
    "version": 3
   },
   "file_extension": ".py",
   "mimetype": "text/x-python",
   "name": "python",
   "nbconvert_exporter": "python",
   "pygments_lexer": "ipython3",
   "version": "3.8.8"
  }
 },
 "nbformat": 4,
 "nbformat_minor": 5
}
