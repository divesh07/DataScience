{
 "cells": [
  {
   "cell_type": "code",
   "execution_count": 1,
   "metadata": {},
   "outputs": [
    {
     "name": "stdout",
     "output_type": "stream",
     "text": [
      "Requirement already satisfied: nltk in d:\\python\\lib\\site-packages (3.6.2)\n",
      "Requirement already satisfied: joblib in d:\\python\\lib\\site-packages (from nltk) (1.0.1)\n",
      "Requirement already satisfied: tqdm in d:\\python\\lib\\site-packages (from nltk) (4.62.0)\n",
      "Requirement already satisfied: regex in d:\\python\\lib\\site-packages (from nltk) (2021.4.4)\n",
      "Requirement already satisfied: click in d:\\python\\lib\\site-packages (from nltk) (8.0.1)\n",
      "Requirement already satisfied: colorama in d:\\python\\lib\\site-packages (from click->nltk) (0.4.4)\n"
     ]
    }
   ],
   "source": [
    "!pip install nltk"
   ]
  },
  {
   "cell_type": "code",
   "execution_count": null,
   "metadata": {},
   "outputs": [],
   "source": [
    "#!pip install wordcloud"
   ]
  },
  {
   "cell_type": "code",
   "execution_count": 2,
   "metadata": {},
   "outputs": [],
   "source": [
    "import nltk"
   ]
  },
  {
   "cell_type": "code",
   "execution_count": 7,
   "metadata": {
    "scrolled": true
   },
   "outputs": [
    {
     "name": "stdout",
     "output_type": "stream",
     "text": [
      "showing info https://raw.githubusercontent.com/nltk/nltk_data/gh-pages/index.xml\n"
     ]
    },
    {
     "data": {
      "text/plain": [
       "True"
      ]
     },
     "execution_count": 7,
     "metadata": {},
     "output_type": "execute_result"
    }
   ],
   "source": [
    "nltk.download()"
   ]
  },
  {
   "cell_type": "code",
   "execution_count": 3,
   "metadata": {},
   "outputs": [],
   "source": [
    "import nltk"
   ]
  },
  {
   "cell_type": "code",
   "execution_count": 4,
   "metadata": {},
   "outputs": [],
   "source": [
    "import pandas as pd,numpy as np\n",
    "import matplotlib.pyplot as plt"
   ]
  },
  {
   "cell_type": "code",
   "execution_count": 5,
   "metadata": {},
   "outputs": [],
   "source": [
    "reviews = pd.read_csv(\"K8 Reviews.csv\")"
   ]
  },
  {
   "cell_type": "code",
   "execution_count": 7,
   "metadata": {},
   "outputs": [
    {
     "data": {
      "text/html": [
       "<div>\n",
       "<style scoped>\n",
       "    .dataframe tbody tr th:only-of-type {\n",
       "        vertical-align: middle;\n",
       "    }\n",
       "\n",
       "    .dataframe tbody tr th {\n",
       "        vertical-align: top;\n",
       "    }\n",
       "\n",
       "    .dataframe thead th {\n",
       "        text-align: right;\n",
       "    }\n",
       "</style>\n",
       "<table border=\"1\" class=\"dataframe\">\n",
       "  <thead>\n",
       "    <tr style=\"text-align: right;\">\n",
       "      <th></th>\n",
       "      <th>sentiment</th>\n",
       "      <th>review</th>\n",
       "    </tr>\n",
       "  </thead>\n",
       "  <tbody>\n",
       "    <tr>\n",
       "      <th>14665</th>\n",
       "      <td>1</td>\n",
       "      <td>Worth your money.</td>\n",
       "    </tr>\n",
       "    <tr>\n",
       "      <th>14666</th>\n",
       "      <td>0</td>\n",
       "      <td>I am facing problem with network connection.Wh...</td>\n",
       "    </tr>\n",
       "    <tr>\n",
       "      <th>14667</th>\n",
       "      <td>1</td>\n",
       "      <td>Nice phone</td>\n",
       "    </tr>\n",
       "    <tr>\n",
       "      <th>14668</th>\n",
       "      <td>0</td>\n",
       "      <td>Not so good.</td>\n",
       "    </tr>\n",
       "    <tr>\n",
       "      <th>14669</th>\n",
       "      <td>0</td>\n",
       "      <td>Very poour battery parformance and prosecer</td>\n",
       "    </tr>\n",
       "    <tr>\n",
       "      <th>14670</th>\n",
       "      <td>1</td>\n",
       "      <td>I really like the phone, Everything is working...</td>\n",
       "    </tr>\n",
       "    <tr>\n",
       "      <th>14671</th>\n",
       "      <td>1</td>\n",
       "      <td>The Lenovo K8 Note is awesome. It takes best p...</td>\n",
       "    </tr>\n",
       "    <tr>\n",
       "      <th>14672</th>\n",
       "      <td>1</td>\n",
       "      <td>Awesome Gaget.. @ this price</td>\n",
       "    </tr>\n",
       "    <tr>\n",
       "      <th>14673</th>\n",
       "      <td>1</td>\n",
       "      <td>This phone is nice processing will be successf...</td>\n",
       "    </tr>\n",
       "    <tr>\n",
       "      <th>14674</th>\n",
       "      <td>1</td>\n",
       "      <td>Good product but the pakeging was not enough.</td>\n",
       "    </tr>\n",
       "  </tbody>\n",
       "</table>\n",
       "</div>"
      ],
      "text/plain": [
       "       sentiment                                             review\n",
       "14665          1                                  Worth your money.\n",
       "14666          0  I am facing problem with network connection.Wh...\n",
       "14667          1                                         Nice phone\n",
       "14668          0                                       Not so good.\n",
       "14669          0        Very poour battery parformance and prosecer\n",
       "14670          1  I really like the phone, Everything is working...\n",
       "14671          1  The Lenovo K8 Note is awesome. It takes best p...\n",
       "14672          1                       Awesome Gaget.. @ this price\n",
       "14673          1  This phone is nice processing will be successf...\n",
       "14674          1      Good product but the pakeging was not enough."
      ]
     },
     "execution_count": 7,
     "metadata": {},
     "output_type": "execute_result"
    }
   ],
   "source": [
    "reviews.tail(10)"
   ]
  },
  {
   "cell_type": "markdown",
   "metadata": {},
   "source": [
    "This dataset is scrapped from amazon about Lenevo K8 mobile phones.While the users gave the reviews, they also give the ratings\n",
    "- Ratings 1,2,3 -> negitive sentiment has a value 0 in the sentiment column\n",
    "- Ratings 4,5 -> positive sentiment has a value 1 in the sentiment column"
   ]
  },
  {
   "cell_type": "code",
   "execution_count": 8,
   "metadata": {},
   "outputs": [
    {
     "data": {
      "text/plain": [
       "0    7712\n",
       "1    6963\n",
       "Name: sentiment, dtype: int64"
      ]
     },
     "execution_count": 8,
     "metadata": {},
     "output_type": "execute_result"
    }
   ],
   "source": [
    "reviews.sentiment.value_counts()"
   ]
  },
  {
   "cell_type": "code",
   "execution_count": 9,
   "metadata": {},
   "outputs": [
    {
     "data": {
      "text/plain": [
       "0    0.52552\n",
       "1    0.47448\n",
       "Name: sentiment, dtype: float64"
      ]
     },
     "execution_count": 9,
     "metadata": {},
     "output_type": "execute_result"
    }
   ],
   "source": [
    "reviews.sentiment.value_counts(normalize = True)"
   ]
  },
  {
   "cell_type": "code",
   "execution_count": 11,
   "metadata": {},
   "outputs": [
    {
     "data": {
      "text/plain": [
       "(14675, 2)"
      ]
     },
     "execution_count": 11,
     "metadata": {},
     "output_type": "execute_result"
    }
   ],
   "source": [
    "reviews.shape"
   ]
  },
  {
   "cell_type": "code",
   "execution_count": 12,
   "metadata": {},
   "outputs": [
    {
     "data": {
      "text/plain": [
       "array(['Good but need updates and improvements',\n",
       "       \"Worst mobile i have bought ever, Battery is draining like hell, backup is only 6 to 7 hours with internet uses, even if I put mobile idle its getting discharged.This is biggest lie from Amazon & Lenove which is not at all expected, they are making full by saying that battery is 4000MAH & booster charger is fake, it takes at least 4 to 5 hours to be fully charged.Don't know how Lenovo will survive by making full of us.Please don;t go for this else you will regret like me.\",\n",
       "       'when I will get my 10% cash back.... its already 15 January..',\n",
       "       ..., 'Awesome Gaget.. @ this price',\n",
       "       'This phone is nice processing will be successful but dual camera is not be successfully in dual mod',\n",
       "       'Good product but the pakeging was not enough.'], dtype=object)"
      ]
     },
     "execution_count": 12,
     "metadata": {},
     "output_type": "execute_result"
    }
   ],
   "source": [
    "reviews.review.values"
   ]
  },
  {
   "cell_type": "code",
   "execution_count": 21,
   "metadata": {},
   "outputs": [
    {
     "data": {
      "text/plain": [
       "['Good product', ' bad', ' ca', 'me', 'r', 'a']"
      ]
     },
     "execution_count": 21,
     "metadata": {},
     "output_type": "execute_result"
    }
   ],
   "source": [
    "sentence = \"Good product, bad, ca,me,r,a\"\n",
    "sentence.split(\",\")"
   ]
  },
  {
   "cell_type": "code",
   "execution_count": 18,
   "metadata": {},
   "outputs": [
    {
     "data": {
      "text/plain": [
       "'good product=bad=camera'"
      ]
     },
     "execution_count": 18,
     "metadata": {},
     "output_type": "execute_result"
    }
   ],
   "source": [
    "listwords = [\"good product\",'bad','camera']\n",
    "\"=\".join(listwords)"
   ]
  },
  {
   "cell_type": "code",
   "execution_count": 48,
   "metadata": {},
   "outputs": [
    {
     "name": "stdout",
     "output_type": "stream",
     "text": [
      "phone is good... PHONE IS GOOD...\n"
     ]
    }
   ],
   "source": [
    "sentence = \"PHOnE is GooD...\"\n",
    "print(sentence.lower(),sentence.upper())"
   ]
  },
  {
   "cell_type": "code",
   "execution_count": null,
   "metadata": {},
   "outputs": [],
   "source": []
  },
  {
   "cell_type": "code",
   "execution_count": null,
   "metadata": {},
   "outputs": [],
   "source": []
  },
  {
   "cell_type": "code",
   "execution_count": 15,
   "metadata": {},
   "outputs": [],
   "source": [
    "import re"
   ]
  },
  {
   "cell_type": "code",
   "execution_count": 16,
   "metadata": {
    "scrolled": false
   },
   "outputs": [],
   "source": [
    "allreviews = \" \".join(reviews.review.values)\n",
    "#allreviews = \" --------$$$----- \".join(reviews.review.values)\n",
    "allreviews = allreviews.lower()\n",
    "allreviews = re.sub(\"\\.\",\". \",allreviews)\n",
    "#allreviews"
   ]
  },
  {
   "cell_type": "code",
   "execution_count": 18,
   "metadata": {},
   "outputs": [],
   "source": [
    "#all_terms = allreviews.split(\" \")\n",
    "from nltk.tokenize import word_tokenize\n",
    "all_terms = word_tokenize(allreviews)\n",
    "fdist = {}\n",
    "for word in all_terms:\n",
    "    #fdist[word] = fdist[word] + 1\n",
    "    fdist[word] = fdist.get(word,0) + 1"
   ]
  },
  {
   "cell_type": "code",
   "execution_count": 19,
   "metadata": {},
   "outputs": [
    {
     "data": {
      "text/plain": [
       "349371"
      ]
     },
     "execution_count": 19,
     "metadata": {},
     "output_type": "execute_result"
    }
   ],
   "source": [
    "len(all_terms)"
   ]
  },
  {
   "cell_type": "code",
   "execution_count": 20,
   "metadata": {},
   "outputs": [
    {
     "data": {
      "text/plain": [
       "13693"
      ]
     },
     "execution_count": 20,
     "metadata": {},
     "output_type": "execute_result"
    }
   ],
   "source": [
    "len(set(all_terms))"
   ]
  },
  {
   "cell_type": "code",
   "execution_count": 83,
   "metadata": {},
   "outputs": [
    {
     "data": {
      "text/plain": [
       "18.556129985228953"
      ]
     },
     "execution_count": 83,
     "metadata": {},
     "output_type": "execute_result"
    }
   ],
   "source": [
    "326625/17602"
   ]
  },
  {
   "cell_type": "code",
   "execution_count": 21,
   "metadata": {},
   "outputs": [],
   "source": [
    "from string import punctuation"
   ]
  },
  {
   "cell_type": "code",
   "execution_count": 22,
   "metadata": {},
   "outputs": [
    {
     "name": "stdout",
     "output_type": "stream",
     "text": [
      "['!', '\"', '#', '$', '%', '&', \"'\", '(', ')', '*', '+', ',', '-', '.', '/', ':', ';', '<', '=', '>', '?', '@', '[', '\\\\', ']', '^', '_', '`', '{', '|', '}', '~']\n"
     ]
    }
   ],
   "source": [
    "print(list(punctuation))"
   ]
  },
  {
   "cell_type": "code",
   "execution_count": 23,
   "metadata": {},
   "outputs": [
    {
     "data": {
      "text/plain": [
       "'!\"#$%&\\'()*+,-./:;<=>?@[\\\\]^_`{|}~'"
      ]
     },
     "execution_count": 23,
     "metadata": {},
     "output_type": "execute_result"
    }
   ],
   "source": [
    "punctuation"
   ]
  },
  {
   "cell_type": "code",
   "execution_count": 24,
   "metadata": {},
   "outputs": [],
   "source": [
    "from nltk.corpus import stopwords\n",
    "stop_nltk = stopwords.words(\"english\")\n",
    "stop_nltk.remove(\"not\")\n",
    "punct_stop = list(punctuation) + stop_nltk + [\"lenovo\",\"phone\",\"k8\",\"amazon\",\"product\"]"
   ]
  },
  {
   "cell_type": "code",
   "execution_count": 25,
   "metadata": {},
   "outputs": [],
   "source": [
    "listwords = [word for word in word_tokenize(allreviews) if word not in punct_stop]"
   ]
  },
  {
   "cell_type": "code",
   "execution_count": 26,
   "metadata": {},
   "outputs": [
    {
     "data": {
      "text/plain": [
       "13525"
      ]
     },
     "execution_count": 26,
     "metadata": {},
     "output_type": "execute_result"
    }
   ],
   "source": [
    "len(set(listwords))"
   ]
  },
  {
   "cell_type": "code",
   "execution_count": 27,
   "metadata": {},
   "outputs": [
    {
     "data": {
      "text/plain": [
       "179179"
      ]
     },
     "execution_count": 27,
     "metadata": {},
     "output_type": "execute_result"
    }
   ],
   "source": [
    "len(listwords)"
   ]
  },
  {
   "cell_type": "code",
   "execution_count": 29,
   "metadata": {},
   "outputs": [
    {
     "data": {
      "text/plain": [
       "700.0"
      ]
     },
     "execution_count": 29,
     "metadata": {},
     "output_type": "execute_result"
    }
   ],
   "source": [
    "140000/200"
   ]
  },
  {
   "cell_type": "code",
   "execution_count": 30,
   "metadata": {},
   "outputs": [
    {
     "data": {
      "text/plain": [
       "215"
      ]
     },
     "execution_count": 30,
     "metadata": {},
     "output_type": "execute_result"
    }
   ],
   "source": [
    "len(punct_stop)"
   ]
  },
  {
   "cell_type": "code",
   "execution_count": 31,
   "metadata": {},
   "outputs": [],
   "source": [
    "fdist = {}\n",
    "for word in listwords:\n",
    "    #fdist[word] = fdist[word] + 1\n",
    "    fdist[word] = fdist.get(word,0) + 1"
   ]
  },
  {
   "cell_type": "code",
   "execution_count": 33,
   "metadata": {},
   "outputs": [
    {
     "data": {
      "text/plain": [
       "6120"
      ]
     },
     "execution_count": 33,
     "metadata": {},
     "output_type": "execute_result"
    }
   ],
   "source": [
    "fdist['good']"
   ]
  },
  {
   "cell_type": "code",
   "execution_count": null,
   "metadata": {},
   "outputs": [],
   "source": []
  },
  {
   "cell_type": "code",
   "execution_count": null,
   "metadata": {},
   "outputs": [],
   "source": []
  },
  {
   "cell_type": "code",
   "execution_count": null,
   "metadata": {},
   "outputs": [],
   "source": []
  },
  {
   "cell_type": "code",
   "execution_count": null,
   "metadata": {},
   "outputs": [],
   "source": []
  },
  {
   "cell_type": "code",
   "execution_count": 54,
   "metadata": {},
   "outputs": [
    {
     "data": {
      "text/plain": [
       "0"
      ]
     },
     "execution_count": 54,
     "metadata": {},
     "output_type": "execute_result"
    }
   ],
   "source": [
    "fdist.get(\"Good\",0)"
   ]
  },
  {
   "cell_type": "code",
   "execution_count": 34,
   "metadata": {},
   "outputs": [
    {
     "data": {
      "text/plain": [
       "'phone is good, really good. nothing good about amazon, bad is amazon. really bad.'"
      ]
     },
     "execution_count": 34,
     "metadata": {},
     "output_type": "execute_result"
    }
   ],
   "source": [
    "sentence = \"phone is good, really good. nothing good about amazon, bad is amazon. really bad.\"\n",
    "sentence"
   ]
  },
  {
   "cell_type": "code",
   "execution_count": 79,
   "metadata": {},
   "outputs": [
    {
     "name": "stdout",
     "output_type": "stream",
     "text": [
      "['phone', 'is', 'good,', 'really', 'good.', 'nothing', 'good', 'about', 'amazon,', 'bad', 'is', 'amazon.', 'really', 'bad.'] 14 12\n",
      "['phone', 'is', 'good', ',', 'really', 'good', '.', 'nothing', 'good', 'about', 'amazon', ',', 'bad', 'is', 'amazon', '.', 'really', 'bad', '.'] 19 10\n"
     ]
    }
   ],
   "source": [
    "print(sentence.split(\" \"), len(sentence.split(\" \")), len(set(sentence.split(\" \"))))\n",
    "print(word_tokenize(sentence), len(word_tokenize(sentence)),len(set(word_tokenize(sentence))))"
   ]
  },
  {
   "cell_type": "code",
   "execution_count": null,
   "metadata": {},
   "outputs": [],
   "source": []
  },
  {
   "cell_type": "code",
   "execution_count": null,
   "metadata": {},
   "outputs": [],
   "source": []
  },
  {
   "cell_type": "code",
   "execution_count": null,
   "metadata": {},
   "outputs": [],
   "source": []
  },
  {
   "cell_type": "code",
   "execution_count": 44,
   "metadata": {},
   "outputs": [
    {
     "name": "stdout",
     "output_type": "stream",
     "text": [
      "1315 3348 490 1 173 56 3 63 62\n"
     ]
    }
   ],
   "source": [
    "print(fdist[\"Good\"],fdist['good'],fdist['good.'],fdist['gOOd'],fdist['good,'],fdist['GOOD'],fdist['goood'],fdist['gud'],fdist['good...'])"
   ]
  },
  {
   "cell_type": "code",
   "execution_count": null,
   "metadata": {},
   "outputs": [],
   "source": [
    "#good...."
   ]
  },
  {
   "cell_type": "code",
   "execution_count": 35,
   "metadata": {},
   "outputs": [
    {
     "data": {
      "text/plain": [
       "'Phone is good camera is good bad, OS is okay'"
      ]
     },
     "execution_count": 35,
     "metadata": {},
     "output_type": "execute_result"
    }
   ],
   "source": [
    "import re\n",
    "sentence1 = \"Phone is good.... camera is good bad, OS is okay\"\n",
    "sentence2 = re.sub(\"\\.\",\"\",sentence1)\n",
    "sentence2"
   ]
  },
  {
   "cell_type": "code",
   "execution_count": 36,
   "metadata": {},
   "outputs": [
    {
     "data": {
      "text/plain": [
       "'Phone is perfect.... camera is perfect bad, OS is okay'"
      ]
     },
     "execution_count": 36,
     "metadata": {},
     "output_type": "execute_result"
    }
   ],
   "source": [
    "sentence3 = re.sub(\"good\",\"perfect\",sentence1)\n",
    "sentence3"
   ]
  },
  {
   "cell_type": "code",
   "execution_count": null,
   "metadata": {},
   "outputs": [],
   "source": []
  },
  {
   "cell_type": "code",
   "execution_count": null,
   "metadata": {},
   "outputs": [],
   "source": []
  },
  {
   "cell_type": "code",
   "execution_count": 68,
   "metadata": {},
   "outputs": [
    {
     "data": {
      "text/plain": [
       "6510651651651"
      ]
     },
     "execution_count": 68,
     "metadata": {},
     "output_type": "execute_result"
    }
   ],
   "source": [
    "fdist.get(\"Good\",6510651651651)"
   ]
  },
  {
   "cell_type": "code",
   "execution_count": 29,
   "metadata": {},
   "outputs": [
    {
     "data": {
      "text/plain": [
       "6510651651651"
      ]
     },
     "execution_count": 29,
     "metadata": {},
     "output_type": "execute_result"
    }
   ],
   "source": [
    "fdist.get(\"Goodgsdrsdghsdg\",6510651651651)"
   ]
  },
  {
   "cell_type": "code",
   "execution_count": 37,
   "metadata": {},
   "outputs": [
    {
     "data": {
      "text/plain": [
       "{'good': 6120,\n",
       " 'need': 257,\n",
       " 'updates': 145,\n",
       " 'improvements': 7,\n",
       " 'worst': 959,\n",
       " 'mobile': 2511,\n",
       " 'bought': 315,\n",
       " 'ever': 317,\n",
       " 'battery': 3466,\n",
       " 'draining': 205,\n",
       " 'like': 962,\n",
       " 'hell': 42,\n",
       " 'backup': 682,\n",
       " '6': 191,\n",
       " '7': 124,\n",
       " 'hours': 424,\n",
       " 'internet': 151,\n",
       " 'uses': 25,\n",
       " 'even': 838,\n",
       " 'put': 66,\n",
       " 'idle': 72,\n",
       " 'getting': 409,\n",
       " 'discharged': 23,\n",
       " 'biggest': 30,\n",
       " 'lie': 6,\n",
       " 'lenove': 6,\n",
       " 'not': 6124,\n",
       " 'expected': 215,\n",
       " 'making': 38,\n",
       " 'full': 368,\n",
       " 'saying': 34,\n",
       " '4000mah': 111,\n",
       " 'booster': 6,\n",
       " 'charger': 493,\n",
       " 'fake': 66,\n",
       " 'takes': 297,\n",
       " 'least': 36,\n",
       " '4': 430,\n",
       " '5': 413,\n",
       " 'fully': 129,\n",
       " 'charged': 134,\n",
       " \"n't\": 1860,\n",
       " 'know': 145,\n",
       " 'survive': 8,\n",
       " 'us': 57,\n",
       " 'please': 414,\n",
       " 'go': 389,\n",
       " 'else': 69,\n",
       " 'regret': 30,\n",
       " 'get': 527,\n",
       " '10': 202,\n",
       " 'cash': 35,\n",
       " 'back': 693,\n",
       " 'already': 77,\n",
       " '15': 113,\n",
       " 'january': 11,\n",
       " 'everthey': 1,\n",
       " 'changed': 29,\n",
       " 'last': 294,\n",
       " 'problem': 1408,\n",
       " 'still': 205,\n",
       " 'returning': 36,\n",
       " 'highly': 37,\n",
       " 'disappointing': 55,\n",
       " \"'m\": 199,\n",
       " 'telling': 10,\n",
       " 'buyi': 1,\n",
       " 'totally': 138,\n",
       " 'disappointedpoor': 1,\n",
       " 'batterypoor': 1,\n",
       " 'camerawaste': 1,\n",
       " 'money': 675,\n",
       " 'awesome': 716,\n",
       " 'charging': 1166,\n",
       " 'heats': 209,\n",
       " 'allot': 1,\n",
       " 'really': 457,\n",
       " 'genuine': 14,\n",
       " 'reason': 39,\n",
       " 'hate': 24,\n",
       " 'note': 1312,\n",
       " 'level': 45,\n",
       " 'worn': 1,\n",
       " \"'s\": 1647,\n",
       " 'hitting': 38,\n",
       " 'problems': 222,\n",
       " 'hanging': 218,\n",
       " 'k': 80,\n",
       " '8': 196,\n",
       " 'service': 496,\n",
       " 'station': 12,\n",
       " 'ahmedabad': 1,\n",
       " 'one': 1060,\n",
       " 'years': 23,\n",
       " 'warranty': 95,\n",
       " 'change': 84,\n",
       " 'lot': 256,\n",
       " 'glitches': 9,\n",
       " 'dont': 230,\n",
       " 'buy': 1276,\n",
       " 'thing': 185,\n",
       " 'better': 671,\n",
       " 'options': 99,\n",
       " 'wrost': 39,\n",
       " 'working': 1191,\n",
       " 'damage': 38,\n",
       " 'within': 219,\n",
       " '2': 528,\n",
       " 'months': 283,\n",
       " 'purchase': 248,\n",
       " 'item': 75,\n",
       " 'much': 630,\n",
       " 'heating': 1354,\n",
       " 'life': 348,\n",
       " 'poor': 817,\n",
       " 'faced': 67,\n",
       " 'motherboard': 17,\n",
       " 'slim': 18,\n",
       " 'battry': 18,\n",
       " 'screen': 760,\n",
       " 'love': 162,\n",
       " 'headset': 68,\n",
       " 'available': 253,\n",
       " 'every': 175,\n",
       " 'time': 866,\n",
       " 'automatic': 28,\n",
       " 'kindly': 48,\n",
       " 'suggest': 114,\n",
       " 'best': 904,\n",
       " 'according': 38,\n",
       " 'prize': 15,\n",
       " 'range': 399,\n",
       " 'specification': 36,\n",
       " 'comparison': 17,\n",
       " 'another': 114,\n",
       " 'seal': 11,\n",
       " 'paid': 34,\n",
       " '10,999': 2,\n",
       " 'also': 1118,\n",
       " 'hdpf': 1,\n",
       " 'credit': 5,\n",
       " 'card': 150,\n",
       " 'rs': 89,\n",
       " '9998.': 1,\n",
       " '1': 431,\n",
       " 'deal': 43,\n",
       " 'hv': 24,\n",
       " 'done': 58,\n",
       " 'rapidly': 20,\n",
       " 'tell': 47,\n",
       " 'possible': 55,\n",
       " 'solutions': 7,\n",
       " 'smartphone': 154,\n",
       " 'galery': 1,\n",
       " 'atmos': 152,\n",
       " 'speakernormal': 1,\n",
       " 'speaker': 290,\n",
       " 'excellent': 489,\n",
       " 'camera': 3445,\n",
       " 'speed': 246,\n",
       " 'features': 650,\n",
       " 'excelent': 4,\n",
       " 'ok': 291,\n",
       " 'os': 69,\n",
       " 'quickly': 157,\n",
       " 'odinary': 1,\n",
       " 'unexpected': 6,\n",
       " 'many': 355,\n",
       " 'cast': 218,\n",
       " 'without': 169,\n",
       " 'wifi': 134,\n",
       " 'call': 522,\n",
       " 'recording': 168,\n",
       " 'option': 316,\n",
       " 'connect': 94,\n",
       " 'hotspot': 49,\n",
       " 'gave': 34,\n",
       " 'usb': 51,\n",
       " 'cable': 56,\n",
       " 'price': 955,\n",
       " 'second': 92,\n",
       " 'fast': 805,\n",
       " 'display': 408,\n",
       " 'improved': 30,\n",
       " 'specifications': 84,\n",
       " 'functions': 46,\n",
       " 'any1': 1,\n",
       " 'bouth': 1,\n",
       " 'fon': 10,\n",
       " 'surprised': 11,\n",
       " 'see': 114,\n",
       " 'two': 160,\n",
       " 'speekars': 1,\n",
       " 'ringing': 9,\n",
       " 'non': 22,\n",
       " 'disappointed': 241,\n",
       " 'issue': 1034,\n",
       " 'displaying': 8,\n",
       " 'colors': 10,\n",
       " 'new': 240,\n",
       " 'update': 481,\n",
       " '0': 98,\n",
       " 'oreo': 139,\n",
       " 'worked': 39,\n",
       " 'superbly': 2,\n",
       " 'back-up': 7,\n",
       " 'superb': 238,\n",
       " 'got': 417,\n",
       " 'simply': 50,\n",
       " 'unnecessarily': 4,\n",
       " '😒😒☹️': 1,\n",
       " 'dual': 479,\n",
       " 'sim': 365,\n",
       " 'customer': 184,\n",
       " 'performance': 998,\n",
       " 'gets': 299,\n",
       " 'oveheated': 1,\n",
       " 'bestin': 1,\n",
       " 'pricefull': 1,\n",
       " 'passa': 1,\n",
       " 'wasole': 1,\n",
       " 'wonderful': 42,\n",
       " 'bad': 1055,\n",
       " 'signal': 184,\n",
       " 'goes': 57,\n",
       " 'frequently': 67,\n",
       " 'restarts': 15,\n",
       " 'whenever': 18,\n",
       " 'feels': 53,\n",
       " 'bcoms': 1,\n",
       " 'hot': 153,\n",
       " 'plzz': 7,\n",
       " 'round': 5,\n",
       " 'purchasing': 32,\n",
       " 'loosed': 1,\n",
       " '3000': 16,\n",
       " 'span': 5,\n",
       " '30': 59,\n",
       " 'days': 456,\n",
       " 'trust': 34,\n",
       " 'worthy': 39,\n",
       " 'deals': 2,\n",
       " 'worth': 314,\n",
       " 'big': 139,\n",
       " 'disappointment': 30,\n",
       " 'headache': 4,\n",
       " 'incoming': 45,\n",
       " 'calls': 153,\n",
       " 'always': 121,\n",
       " 'show': 98,\n",
       " 'rate': 58,\n",
       " 'quality': 1419,\n",
       " 'works': 241,\n",
       " 'well': 281,\n",
       " 'amazing': 280,\n",
       " 'lower': 31,\n",
       " 'using': 733,\n",
       " '3-4': 27,\n",
       " 'mins': 52,\n",
       " 'continuously': 24,\n",
       " 'heated': 196,\n",
       " 'purchased': 173,\n",
       " 'bigggggggest': 1,\n",
       " 'first': 213,\n",
       " 'sell': 31,\n",
       " 'slow': 250,\n",
       " 'take': 206,\n",
       " 'around': 73,\n",
       " 'hr': 45,\n",
       " 'charge': 522,\n",
       " 'ekdam': 3,\n",
       " 'bakwaaaasssdo': 1,\n",
       " 'network': 520,\n",
       " 'permanent': 6,\n",
       " 'lowbattery': 1,\n",
       " 'lowpls': 1,\n",
       " 'nice': 1481,\n",
       " '4gb': 112,\n",
       " 'rm': 1,\n",
       " '64gb': 34,\n",
       " 'inbuilt': 49,\n",
       " 'memory': 147,\n",
       " 'featurs': 1,\n",
       " 'loved': 71,\n",
       " 'phone😍😍': 1,\n",
       " 'value': 255,\n",
       " 'beautiful': 29,\n",
       " 'looking': 152,\n",
       " 'bluetooth': 210,\n",
       " 'connecting': 32,\n",
       " 'audio': 99,\n",
       " 'breakups': 1,\n",
       " 'happened': 24,\n",
       " 'youtube': 43,\n",
       " 'half': 87,\n",
       " 'hour': 106,\n",
       " 'exists': 4,\n",
       " 'choice': 39,\n",
       " 'standby': 42,\n",
       " 'long': 156,\n",
       " 'killer': 160,\n",
       " 'jet': 3,\n",
       " 'run': 39,\n",
       " 'apps': 259,\n",
       " '👌👌': 3,\n",
       " 'described': 28,\n",
       " 'ca': 230,\n",
       " 'work': 419,\n",
       " 'tv': 74,\n",
       " 'miracast': 9,\n",
       " 'upto': 100,\n",
       " 'contacts': 62,\n",
       " 'vcf': 1,\n",
       " 'files': 15,\n",
       " 'download': 42,\n",
       " 'google': 96,\n",
       " 'drive': 7,\n",
       " 'sd': 63,\n",
       " 'total': 44,\n",
       " 'device': 427,\n",
       " 'average': 334,\n",
       " 'usage': 275,\n",
       " 'could': 159,\n",
       " 'day': 477,\n",
       " 'con': 19,\n",
       " 'though': 170,\n",
       " '4000': 120,\n",
       " 'mah': 151,\n",
       " 'drains': 289,\n",
       " 'specially': 37,\n",
       " 'depth': 264,\n",
       " 'enabled': 35,\n",
       " 'mode': 376,\n",
       " 'focus': 55,\n",
       " 'perfect': 137,\n",
       " 'india': 21,\n",
       " 'ka': 60,\n",
       " 'werorst': 1,\n",
       " 'offer': 48,\n",
       " '100': 124,\n",
       " 'signals': 26,\n",
       " 'coverage': 21,\n",
       " 'area': 17,\n",
       " 'cheating': 36,\n",
       " 'people': 102,\n",
       " 'mark': 204,\n",
       " 'weight': 58,\n",
       " 'high': 177,\n",
       " 'point': 68,\n",
       " 'improve': 60,\n",
       " 'mo': 8,\n",
       " 'added': 22,\n",
       " 'system': 170,\n",
       " 'updated': 67,\n",
       " 'delivery': 227,\n",
       " '10000.': 1,\n",
       " 'gestures': 6,\n",
       " 'latest': 54,\n",
       " 'issues': 552,\n",
       " 'choose': 31,\n",
       " 'brands': 25,\n",
       " 'great': 651,\n",
       " 'cleare': 1,\n",
       " 'sharp': 18,\n",
       " 'thanks': 135,\n",
       " 'must': 76,\n",
       " 'guys': 89,\n",
       " 'verigood': 2,\n",
       " 'firstly': 4,\n",
       " 'delivered': 82,\n",
       " 'dissatisfied': 24,\n",
       " 'weeks': 55,\n",
       " 'secondly': 11,\n",
       " 'android': 303,\n",
       " 'naugat': 7,\n",
       " 'optionthirdly': 1,\n",
       " 'selling': 28,\n",
       " 'cost': 103,\n",
       " '13999/-': 3,\n",
       " 'drastically': 9,\n",
       " 'dropped': 20,\n",
       " '10999/-fourthly': 1,\n",
       " 'talking': 30,\n",
       " 'nerve': 1,\n",
       " 'pulling': 2,\n",
       " 'radiation': 4,\n",
       " 'immediate': 5,\n",
       " 'fix': 74,\n",
       " 'matter': 19,\n",
       " 'safety': 4,\n",
       " 'security': 21,\n",
       " 'fifthly': 1,\n",
       " 'hardware': 72,\n",
       " 'let': 54,\n",
       " 'centers': 2,\n",
       " 'location': 14,\n",
       " 'ensure': 1,\n",
       " 'availability': 4,\n",
       " 'customers': 40,\n",
       " 'booked': 9,\n",
       " 'finally': 49,\n",
       " 'discribed': 2,\n",
       " 'found': 149,\n",
       " 'mentioned': 79,\n",
       " 'earlier': 58,\n",
       " 'would': 212,\n",
       " 'met': 9,\n",
       " 'expectations': 101,\n",
       " 'snap': 7,\n",
       " 'attached': 13,\n",
       " 'automatically': 153,\n",
       " 'recently': 17,\n",
       " 'thoroughly': 6,\n",
       " 'thumbs': 6,\n",
       " 'hello': 14,\n",
       " 'remember': 3,\n",
       " 'check': 84,\n",
       " 'picture': 125,\n",
       " 'use': 722,\n",
       " 'sleeping': 1,\n",
       " 'make': 107,\n",
       " 'sure': 62,\n",
       " 'data': 183,\n",
       " 'performanc': 2,\n",
       " 'super': 285,\n",
       " 'turbo': 411,\n",
       " 'calling': 96,\n",
       " 'waste': 361,\n",
       " 'thn': 5,\n",
       " 'raised': 15,\n",
       " 'return': 398,\n",
       " 'request': 71,\n",
       " 'pros': 54,\n",
       " 'rest': 84,\n",
       " 'cameradesignperformance': 1,\n",
       " 'etc': 127,\n",
       " 'wrest': 1,\n",
       " 'hang': 138,\n",
       " 'happy': 172,\n",
       " '☺️🙂': 1,\n",
       " 'lots': 75,\n",
       " 'malfunction': 3,\n",
       " 'donot': 10,\n",
       " 'look': 186,\n",
       " 'sleekness': 1,\n",
       " 'less': 166,\n",
       " 'basic': 108,\n",
       " 'sound': 514,\n",
       " 'controler': 1,\n",
       " 'shortcut': 17,\n",
       " 'shutter': 7,\n",
       " 'importantly': 9,\n",
       " 'voice': 111,\n",
       " 'recorder': 75,\n",
       " 'third': 58,\n",
       " 'class': 69,\n",
       " 'k3': 62,\n",
       " 'k4': 168,\n",
       " 'kind': 36,\n",
       " 'thinking': 24,\n",
       " 'stucks': 3,\n",
       " 'anytime': 8,\n",
       " 'load': 11,\n",
       " 'ram': 275,\n",
       " 'defuces': 1,\n",
       " 'short': 28,\n",
       " 'sometimes': 176,\n",
       " 'normal': 240,\n",
       " 'gallery': 119,\n",
       " 'othet': 2,\n",
       " 'stock': 166,\n",
       " 'often': 37,\n",
       " 'shows': 77,\n",
       " 'process': 43,\n",
       " 'com': 9,\n",
       " 'stopped': 69,\n",
       " 'workingwhat': 2,\n",
       " 'shut': 10,\n",
       " 'handset': 227,\n",
       " 'replace': 127,\n",
       " '3': 388,\n",
       " 'times': 181,\n",
       " 'allahabad': 1,\n",
       " 'centre': 97,\n",
       " 'month': 239,\n",
       " 'becomes': 25,\n",
       " 'plz': 125,\n",
       " 'u': 349,\n",
       " 'gift': 13,\n",
       " 'raping': 1,\n",
       " 'poorwords': 1,\n",
       " 'small': 62,\n",
       " 'refund': 120,\n",
       " 'personally': 11,\n",
       " 'recommend': 121,\n",
       " 'anyone': 57,\n",
       " 'want': 280,\n",
       " 'compatible': 10,\n",
       " 'chromecast': 19,\n",
       " 'casting': 40,\n",
       " 'model': 112,\n",
       " 'mid': 13,\n",
       " 'pretty': 56,\n",
       " 'arises': 3,\n",
       " 'ignored': 2,\n",
       " 'slot': 103,\n",
       " 'returned': 65,\n",
       " 'giving': 98,\n",
       " 'star': 115,\n",
       " 'bcz': 17,\n",
       " 'fan': 19,\n",
       " 'year': 61,\n",
       " 'guess': 20,\n",
       " 'ignore': 9,\n",
       " 'v.': 12,\n",
       " 'gaming': 134,\n",
       " 'music': 234,\n",
       " 'deca': 77,\n",
       " 'core': 112,\n",
       " 'processor': 317,\n",
       " 'worse': 49,\n",
       " 'quad': 3,\n",
       " 'processed': 5,\n",
       " 'said': 74,\n",
       " 'speakers': 93,\n",
       " 'left': 79,\n",
       " 'holes': 2,\n",
       " 'cheat': 12,\n",
       " 'buyers': 23,\n",
       " 'decent': 104,\n",
       " 'made': 73,\n",
       " 'keeps': 40,\n",
       " '50': 25,\n",
       " '60': 9,\n",
       " 'awsome': 30,\n",
       " 'sep-17': 1,\n",
       " '25dec17': 1,\n",
       " 'way': 69,\n",
       " 'fool': 19,\n",
       " 'called': 51,\n",
       " 'lol': 5,\n",
       " 'effecting': 1,\n",
       " 'popularity': 1,\n",
       " 'segment': 53,\n",
       " 'productcamera': 1,\n",
       " 'greatsound': 1,\n",
       " 'greatover': 1,\n",
       " 'expect': 63,\n",
       " 'drawback': 37,\n",
       " 'late': 28,\n",
       " 'experience': 342,\n",
       " 'previously': 16,\n",
       " 'k5': 108,\n",
       " 'mic': 17,\n",
       " 'facing': 146,\n",
       " 'phones': 306,\n",
       " 'expectation': 44,\n",
       " 'hurts': 2,\n",
       " '😪': 1,\n",
       " 'apart': 27,\n",
       " '4g+4g': 11,\n",
       " 'logic': 2,\n",
       " 'needs': 66,\n",
       " 'clear': 79,\n",
       " 'sales': 9,\n",
       " 'dolby': 272,\n",
       " 'feature': 247,\n",
       " '8.': 22,\n",
       " 'switch': 106,\n",
       " 'weak': 45,\n",
       " 'punching': 1,\n",
       " 'compare': 113,\n",
       " 'k6': 55,\n",
       " 'sofwares': 1,\n",
       " 'defective': 109,\n",
       " 'earliest': 3,\n",
       " 'images': 58,\n",
       " 'yellow': 16,\n",
       " 'shadow': 2,\n",
       " 'occurred': 9,\n",
       " 'showing': 89,\n",
       " 'add': 25,\n",
       " 'false': 14,\n",
       " 'mi': 174,\n",
       " 'brand': 73,\n",
       " 'give': 194,\n",
       " 'perform': 28,\n",
       " 'story': 3,\n",
       " 'drain': 186,\n",
       " 'joke': 13,\n",
       " 'known': 14,\n",
       " 'phn': 46,\n",
       " 'gud': 122,\n",
       " 'n': 173,\n",
       " 'prpperly': 1,\n",
       " 'major': 87,\n",
       " 'disadvantage': 13,\n",
       " 'detachable': 1,\n",
       " 'except': 119,\n",
       " 'xt1902-3': 1,\n",
       " 'type': 43,\n",
       " 'm2cb2': 1,\n",
       " 'since': 151,\n",
       " 'ten': 5,\n",
       " 'satisfied': 263,\n",
       " 'description': 26,\n",
       " 'slots': 20,\n",
       " '4g': 197,\n",
       " 'support': 260,\n",
       " 'whereas': 13,\n",
       " 'supports': 24,\n",
       " '3g': 25,\n",
       " 'okay': 52,\n",
       " 'effects': 18,\n",
       " 'cameras': 89,\n",
       " 'otherwise': 165,\n",
       " 'backlogs1': 1,\n",
       " 'mobiles': 86,\n",
       " 'struck': 6,\n",
       " 'delay': 14,\n",
       " 'responding': 40,\n",
       " 'runs': 25,\n",
       " '3100': 1,\n",
       " '3.': 119,\n",
       " 'operating': 33,\n",
       " 'response': 67,\n",
       " '4.': 116,\n",
       " 'contact': 93,\n",
       " 'searching': 16,\n",
       " 'irritating': 25,\n",
       " 'search': 23,\n",
       " 'save': 32,\n",
       " '5.': 76,\n",
       " 'friends': 34,\n",
       " 'pls': 130,\n",
       " 'swear': 2,\n",
       " 'front': 373,\n",
       " 'reasonable': 27,\n",
       " 'channel': 5,\n",
       " 'right': 60,\n",
       " 'avarage': 10,\n",
       " 'double': 28,\n",
       " 'tap': 16,\n",
       " 'wakeup': 2,\n",
       " 'properly': 353,\n",
       " 'earphone': 97,\n",
       " 'jbl': 5,\n",
       " 'hota': 26,\n",
       " 'hai': 238,\n",
       " 'connectivity': 99,\n",
       " 'quick': 82,\n",
       " 'talk': 32,\n",
       " 'due': 99,\n",
       " 'large': 15,\n",
       " 'twin': 3,\n",
       " 'requires': 7,\n",
       " 'steadier': 1,\n",
       " 'hands': 21,\n",
       " 'mine': 13,\n",
       " 'ota': 16,\n",
       " '0.': 4,\n",
       " 'connection': 62,\n",
       " 'intermittent': 3,\n",
       " 'unstable': 5,\n",
       " 'supplementary': 1,\n",
       " 'information': 19,\n",
       " 'claimed': 16,\n",
       " 'gorilla': 136,\n",
       " 'glass': 228,\n",
       " 'probably': 17,\n",
       " 'ordinary': 15,\n",
       " 'cracked': 21,\n",
       " 'slipped': 9,\n",
       " 'grasp': 1,\n",
       " 'sitting': 2,\n",
       " 'sofa': 1,\n",
       " 'says': 55,\n",
       " 'covered': 17,\n",
       " 'reducing': 4,\n",
       " 'rating': 57,\n",
       " 'stars': 50,\n",
       " 'provided': 86,\n",
       " 'districts': 1,\n",
       " 'bit': 175,\n",
       " 'heavy': 220,\n",
       " 'notification': 95,\n",
       " 'sounds': 31,\n",
       " 'adjusted': 1,\n",
       " 'annoying': 20,\n",
       " 'photos': 107,\n",
       " 'clarity': 135,\n",
       " 'bodru': 1,\n",
       " '29th': 2,\n",
       " 'august': 22,\n",
       " '4000mhz': 1,\n",
       " 'try': 60,\n",
       " 'solve': 45,\n",
       " 'batterybattery': 2,\n",
       " 'hrsit': 1,\n",
       " '😎😎': 2,\n",
       " 'smooth': 135,\n",
       " 'configuration': 38,\n",
       " 'auto': 68,\n",
       " 'deduced': 1,\n",
       " 'listing': 2,\n",
       " 'touch': 184,\n",
       " 'huge': 27,\n",
       " '22': 7,\n",
       " 'nd': 69,\n",
       " 'jan': 7,\n",
       " '2018.': 11,\n",
       " 'supposed': 17,\n",
       " 'lasts': 59,\n",
       " 'lookswise': 1,\n",
       " 'name': 61,\n",
       " 'upon': 11,\n",
       " 'smart': 152,\n",
       " 'course': 9,\n",
       " 'rough': 9,\n",
       " 'given': 119,\n",
       " 'damaged': 50,\n",
       " 'terms': 39,\n",
       " 'rom': 24,\n",
       " 'alongwith': 2,\n",
       " 'corning': 17,\n",
       " 'things': 100,\n",
       " 'burning': 6,\n",
       " 'ur': 56,\n",
       " 'pocket': 35,\n",
       " 'lacks': 26,\n",
       " 'pc': 21,\n",
       " 'started': 102,\n",
       " '25': 18,\n",
       " 'gb': 129,\n",
       " 'seriously': 19,\n",
       " 'think': 195,\n",
       " 'ye': 32,\n",
       " 'wale': 4,\n",
       " 'b.': 3,\n",
       " 'c': 13,\n",
       " 'kharida': 1,\n",
       " 'usme': 1,\n",
       " 'game': 89,\n",
       " 'ly': 1,\n",
       " 'bolte': 4,\n",
       " 'par': 39,\n",
       " 'behanchod': 2,\n",
       " 'layla': 1,\n",
       " 'dete': 4,\n",
       " 'bhosdi': 3,\n",
       " 'ke': 45,\n",
       " 'pese': 3,\n",
       " 'jane': 4,\n",
       " 'bhi': 57,\n",
       " 'nai': 6,\n",
       " 'inka': 1,\n",
       " 'technician': 25,\n",
       " 'khelke': 1,\n",
       " 'kenya': 1,\n",
       " 'koi': 34,\n",
       " 'copy': 27,\n",
       " 'bhej': 4,\n",
       " 'diya': 7,\n",
       " 'mat': 21,\n",
       " 'kaharidna': 1,\n",
       " 'se': 40,\n",
       " 'bhot': 4,\n",
       " 'volte': 161,\n",
       " 'sms': 36,\n",
       " 'coming': 57,\n",
       " 'smoothly': 44,\n",
       " 'running': 64,\n",
       " 'till': 150,\n",
       " 'goodbut': 12,\n",
       " '13mp': 36,\n",
       " 'effect': 115,\n",
       " 'honestly': 9,\n",
       " 'a1': 41,\n",
       " 'youif': 1,\n",
       " 'selfie': 99,\n",
       " 'holic': 1,\n",
       " 'literally': 6,\n",
       " 'top': 48,\n",
       " 'selfiein': 1,\n",
       " \"'ll\": 51,\n",
       " 'say': 115,\n",
       " 'snapdragon': 28,\n",
       " '625': 12,\n",
       " 'redmi': 191,\n",
       " 'built': 40,\n",
       " '20': 62,\n",
       " 'nm': 2,\n",
       " 'technology': 11,\n",
       " '14': 19,\n",
       " 'efficient': 10,\n",
       " 'providing': 30,\n",
       " '15w': 21,\n",
       " 'worry': 15,\n",
       " 'plug': 13,\n",
       " '70': 6,\n",
       " '80': 12,\n",
       " 'hrs': 169,\n",
       " 'minimal': 7,\n",
       " 'keep': 80,\n",
       " 'mind': 23,\n",
       " 'cons': 92,\n",
       " \"'re\": 14,\n",
       " 'buying': 177,\n",
       " 'may': 116,\n",
       " 'occur': 12,\n",
       " 'overall': 384,\n",
       " 'condition': 74,\n",
       " 'fabulous': 19,\n",
       " 'parfomce': 1,\n",
       " '👌👌👌': 3,\n",
       " 'recent': 22,\n",
       " 'record': 34,\n",
       " 'facilities': 7,\n",
       " 'adequate': 10,\n",
       " 'instructions': 1,\n",
       " 'compete': 6,\n",
       " 'redme': 6,\n",
       " 'rasidul': 1,\n",
       " 'kaji': 1,\n",
       " 'announced': 3,\n",
       " 'killar': 3,\n",
       " 'saw': 12,\n",
       " 'decide': 13,\n",
       " 'bu': 3,\n",
       " 'aftwr': 1,\n",
       " '7th': 5,\n",
       " 'playing': 159,\n",
       " 'simple': 44,\n",
       " 'ex-': 2,\n",
       " 'temple': 2,\n",
       " 'opinion': 28,\n",
       " 'west': 17,\n",
       " 'availablebattery': 2,\n",
       " 'goodbelow': 1,\n",
       " 'key': 86,\n",
       " 'light': 220,\n",
       " 'availableheating': 2,\n",
       " 'thanx': 7,\n",
       " 'ok.': 120,\n",
       " 'tym': 6,\n",
       " 'chrger': 2,\n",
       " 'accessories': 19,\n",
       " 'kept': 36,\n",
       " 'something': 38,\n",
       " 'per': 114,\n",
       " 'software': 307,\n",
       " 'unfortunately': 12,\n",
       " 'older': 18,\n",
       " 'ekdum': 3,\n",
       " 'bakwas': 28,\n",
       " 'frustrating': 11,\n",
       " 'mistake': 28,\n",
       " '1st': 37,\n",
       " 'led': 63,\n",
       " 'side': 119,\n",
       " 'buttons': 26,\n",
       " 'loose': 7,\n",
       " 'deapth': 3,\n",
       " 'sensing': 10,\n",
       " 'finger': 77,\n",
       " 'print': 62,\n",
       " 'senser': 2,\n",
       " 'require': 8,\n",
       " 'start': 75,\n",
       " 'lasting': 35,\n",
       " 'useful': 27,\n",
       " 'age': 4,\n",
       " 'group': 6,\n",
       " 'thank': 76,\n",
       " 'delivering': 9,\n",
       " 'performing': 23,\n",
       " 'fantastic': 73,\n",
       " 'used': 291,\n",
       " 'storagesat': 1,\n",
       " 'lte': 55,\n",
       " 'bugs': 55,\n",
       " 'several': 30,\n",
       " 'proper': 79,\n",
       " 'care': 121,\n",
       " 'roam': 1,\n",
       " 'center': 149,\n",
       " '14k': 44,\n",
       " 'idiots': 1,\n",
       " 'crap': 19,\n",
       " 'traps': 1,\n",
       " 'lovely': 15,\n",
       " 'ordered': 39,\n",
       " 'venom': 29,\n",
       " 'black': 52,\n",
       " 'variant': 18,\n",
       " 'received': 225,\n",
       " 'gold': 22,\n",
       " 'pathetic': 86,\n",
       " 'going': 88,\n",
       " 'touchscreen': 5,\n",
       " '15k': 22,\n",
       " 'approx': 17,\n",
       " 'handy': 24,\n",
       " 'supporting': 22,\n",
       " 'serious': 31,\n",
       " 'able': 128,\n",
       " 'crack': 13,\n",
       " 'ready': 20,\n",
       " 'amount': 35,\n",
       " 'defected': 10,\n",
       " 'piece': 106,\n",
       " 'headphone': 92,\n",
       " 'jack': 67,\n",
       " 'prefer': 18,\n",
       " 'moto': 114,\n",
       " 'g5': 17,\n",
       " 'dubble': 1,\n",
       " 'image': 56,\n",
       " 'zoom': 20,\n",
       " 'opetion': 1,\n",
       " 'menu': 19,\n",
       " 'soon': 96,\n",
       " 'records': 5,\n",
       " 'reception': 34,\n",
       " 'compared': 153,\n",
       " 'devices': 43,\n",
       " 'provider': 12,\n",
       " 'flactuating': 1,\n",
       " 'zero': 18,\n",
       " 'complaint': 30,\n",
       " 'solution': 52,\n",
       " 'forum': 16,\n",
       " 'anything': 49,\n",
       " 'yet': 54,\n",
       " 'future': 51,\n",
       " 'asome': 3,\n",
       " 'products': 83,\n",
       " 'inaudible': 2,\n",
       " 'express': 4,\n",
       " 'pc/laptop': 1,\n",
       " 'complained': 8,\n",
       " 'exchange': 51,\n",
       " 'waiting': 38,\n",
       " 'resolution': 43,\n",
       " 'supurb': 1,\n",
       " 'invoice': 48,\n",
       " 'singal': 4,\n",
       " 'singnal': 3,\n",
       " 'operators': 1,\n",
       " 'disgusting': 12,\n",
       " 'low': 397,\n",
       " 'afraid': 4,\n",
       " 'burst': 9,\n",
       " 'planing': 3,\n",
       " 'throw': 5,\n",
       " 'threat': 1,\n",
       " 'policy': 76,\n",
       " 'wrong': 36,\n",
       " 'asking': 22,\n",
       " 'verified': 6,\n",
       " 'faulty': 60,\n",
       " 'returnable': 6,\n",
       " 'period': 21,\n",
       " 'strongly': 11,\n",
       " 'garbage': 13,\n",
       " 'site': 14,\n",
       " 'fine': 248,\n",
       " 'subsequently': 3,\n",
       " 'inspite': 16,\n",
       " 'rapid': 13,\n",
       " 'thier': 2,\n",
       " 'auth': 2,\n",
       " 'vain': 1,\n",
       " 'aware': 7,\n",
       " 'lying': 3,\n",
       " '17': 13,\n",
       " 'became': 10,\n",
       " 'navigation': 15,\n",
       " 'makes': 56,\n",
       " 'rethink': 1,\n",
       " 'sale': 67,\n",
       " 'drawbacks': 9,\n",
       " 'apple': 4,\n",
       " 'never': 211,\n",
       " 'boots': 1,\n",
       " 'night': 68,\n",
       " 'logo': 5,\n",
       " 'powered': 3,\n",
       " 'sad': 24,\n",
       " 'phoen': 1,\n",
       " 'peice': 4,\n",
       " 'meagain': 1,\n",
       " 'replacing': 7,\n",
       " 'peiceand': 1,\n",
       " 'meant': 4,\n",
       " 'requirementsgood': 1,\n",
       " 'speedgood': 1,\n",
       " 'cameragreat': 2,\n",
       " 'hangingloved': 1,\n",
       " 'bill': 61,\n",
       " ...}"
      ]
     },
     "execution_count": 37,
     "metadata": {},
     "output_type": "execute_result"
    }
   ],
   "source": [
    "fdist"
   ]
  },
  {
   "cell_type": "code",
   "execution_count": 38,
   "metadata": {
    "scrolled": true
   },
   "outputs": [
    {
     "data": {
      "text/html": [
       "<div>\n",
       "<style scoped>\n",
       "    .dataframe tbody tr th:only-of-type {\n",
       "        vertical-align: middle;\n",
       "    }\n",
       "\n",
       "    .dataframe tbody tr th {\n",
       "        vertical-align: top;\n",
       "    }\n",
       "\n",
       "    .dataframe thead th {\n",
       "        text-align: right;\n",
       "    }\n",
       "</style>\n",
       "<table border=\"1\" class=\"dataframe\">\n",
       "  <thead>\n",
       "    <tr style=\"text-align: right;\">\n",
       "      <th></th>\n",
       "      <th>words</th>\n",
       "      <th>freq</th>\n",
       "    </tr>\n",
       "  </thead>\n",
       "  <tbody>\n",
       "    <tr>\n",
       "      <th>0</th>\n",
       "      <td>good</td>\n",
       "      <td>6120</td>\n",
       "    </tr>\n",
       "    <tr>\n",
       "      <th>1</th>\n",
       "      <td>need</td>\n",
       "      <td>257</td>\n",
       "    </tr>\n",
       "    <tr>\n",
       "      <th>2</th>\n",
       "      <td>updates</td>\n",
       "      <td>145</td>\n",
       "    </tr>\n",
       "    <tr>\n",
       "      <th>3</th>\n",
       "      <td>improvements</td>\n",
       "      <td>7</td>\n",
       "    </tr>\n",
       "    <tr>\n",
       "      <th>4</th>\n",
       "      <td>worst</td>\n",
       "      <td>959</td>\n",
       "    </tr>\n",
       "    <tr>\n",
       "      <th>...</th>\n",
       "      <td>...</td>\n",
       "      <td>...</td>\n",
       "    </tr>\n",
       "    <tr>\n",
       "      <th>13520</th>\n",
       "      <td>parformance</td>\n",
       "      <td>1</td>\n",
       "    </tr>\n",
       "    <tr>\n",
       "      <th>13521</th>\n",
       "      <td>prosecer</td>\n",
       "      <td>1</td>\n",
       "    </tr>\n",
       "    <tr>\n",
       "      <th>13522</th>\n",
       "      <td>whater</td>\n",
       "      <td>1</td>\n",
       "    </tr>\n",
       "    <tr>\n",
       "      <th>13523</th>\n",
       "      <td>gaget</td>\n",
       "      <td>1</td>\n",
       "    </tr>\n",
       "    <tr>\n",
       "      <th>13524</th>\n",
       "      <td>pakeging</td>\n",
       "      <td>1</td>\n",
       "    </tr>\n",
       "  </tbody>\n",
       "</table>\n",
       "<p>13525 rows × 2 columns</p>\n",
       "</div>"
      ],
      "text/plain": [
       "              words  freq\n",
       "0              good  6120\n",
       "1              need   257\n",
       "2           updates   145\n",
       "3      improvements     7\n",
       "4             worst   959\n",
       "...             ...   ...\n",
       "13520   parformance     1\n",
       "13521      prosecer     1\n",
       "13522        whater     1\n",
       "13523         gaget     1\n",
       "13524      pakeging     1\n",
       "\n",
       "[13525 rows x 2 columns]"
      ]
     },
     "execution_count": 38,
     "metadata": {},
     "output_type": "execute_result"
    }
   ],
   "source": [
    "freq = {\"words\":list(fdist.keys()),\"freq\":list(fdist.values())}\n",
    "df_dist = pd.DataFrame(freq)\n",
    "df_dist"
   ]
  },
  {
   "cell_type": "code",
   "execution_count": 39,
   "metadata": {},
   "outputs": [],
   "source": [
    "#30321 - 26707  - 17602\n"
   ]
  },
  {
   "cell_type": "code",
   "execution_count": 40,
   "metadata": {},
   "outputs": [
    {
     "data": {
      "text/plain": [
       "<AxesSubplot:xlabel='words'>"
      ]
     },
     "execution_count": 40,
     "metadata": {},
     "output_type": "execute_result"
    },
    {
     "data": {
      "image/png": "[encoded data removed]",
      "text/plain": [
       "<Figure size 1440x360 with 1 Axes>"
      ]
     },
     "metadata": {
      "needs_background": "light"
     },
     "output_type": "display_data"
    }
   ],
   "source": [
    "%matplotlib inline\n",
    "df_dist.sort_values(ascending=False, by=\"freq\").head(25).\\\n",
    "plot.bar(x= \"words\", y= \"freq\",figsize=(20,5)) "
   ]
  },
  {
   "cell_type": "code",
   "execution_count": null,
   "metadata": {},
   "outputs": [],
   "source": []
  },
  {
   "cell_type": "code",
   "execution_count": null,
   "metadata": {},
   "outputs": [],
   "source": []
  },
  {
   "cell_type": "code",
   "execution_count": null,
   "metadata": {},
   "outputs": [],
   "source": []
  },
  {
   "cell_type": "code",
   "execution_count": null,
   "metadata": {},
   "outputs": [],
   "source": []
  },
  {
   "cell_type": "code",
   "execution_count": null,
   "metadata": {},
   "outputs": [],
   "source": []
  },
  {
   "cell_type": "code",
   "execution_count": null,
   "metadata": {},
   "outputs": [],
   "source": []
  },
  {
   "cell_type": "code",
   "execution_count": null,
   "metadata": {},
   "outputs": [],
   "source": []
  },
  {
   "cell_type": "code",
   "execution_count": null,
   "metadata": {},
   "outputs": [],
   "source": [
    "from wordcloud import WordCloud"
   ]
  },
  {
   "cell_type": "code",
   "execution_count": null,
   "metadata": {},
   "outputs": [],
   "source": [
    "reviews_combined = \" \".join(reviews.review.values)"
   ]
  },
  {
   "cell_type": "code",
   "execution_count": null,
   "metadata": {},
   "outputs": [],
   "source": [
    "#Total words in reviews\n",
    "len(reviews_combined)"
   ]
  },
  {
   "cell_type": "code",
   "execution_count": null,
   "metadata": {},
   "outputs": [],
   "source": [
    "reviews_combined[:200]"
   ]
  },
  {
   "cell_type": "code",
   "execution_count": null,
   "metadata": {},
   "outputs": [],
   "source": [
    "word_cloud = WordCloud().generate_from_text(reviews_combined)"
   ]
  },
  {
   "cell_type": "code",
   "execution_count": null,
   "metadata": {},
   "outputs": [],
   "source": [
    "#?WordCloud"
   ]
  },
  {
   "cell_type": "code",
   "execution_count": null,
   "metadata": {},
   "outputs": [],
   "source": [
    "plt.figure()\n",
    "plt.imshow(word_cloud)\n",
    "plt.show()"
   ]
  },
  {
   "cell_type": "code",
   "execution_count": null,
   "metadata": {},
   "outputs": [],
   "source": [
    "word_cloud = WordCloud(width=800,height=800,background_color='white',max_words=150).\\\n",
    "generate_from_text(reviews_combined)"
   ]
  },
  {
   "cell_type": "code",
   "execution_count": null,
   "metadata": {},
   "outputs": [],
   "source": [
    "plt.figure(figsize=[8,8])\n",
    "plt.imshow(word_cloud)\n",
    "plt.show()"
   ]
  },
  {
   "cell_type": "code",
   "execution_count": null,
   "metadata": {},
   "outputs": [],
   "source": [
    "all_terms = []\n",
    "fdist = {}\n",
    "all_terms = reviews_combined.split(\" \")\n",
    "for word in all_terms:\n",
    "    fdist[word] = fdist.get(word,0) + 1"
   ]
  },
  {
   "cell_type": "code",
   "execution_count": null,
   "metadata": {},
   "outputs": [],
   "source": [
    "freq = {\"words\":list(fdist.keys()),\"freq\":list(fdist.values())}\n",
    "df_dist = pd.DataFrame(freq)"
   ]
  },
  {
   "cell_type": "code",
   "execution_count": null,
   "metadata": {},
   "outputs": [],
   "source": [
    "%matplotlib inline\n",
    "df_dist.sort_values(ascending=False, by=\"freq\").head(25).\\\n",
    "plot.bar(x= \"words\", y= \"freq\",figsize=(20,5)) "
   ]
  },
  {
   "cell_type": "markdown",
   "metadata": {},
   "source": [
    "Problems with the above visuals\n",
    "    1.case is non uniform\n",
    "    2. punctuations and stop words\n",
    "    3. words with different tense forms like charged, charging, charges has its root form in charge"
   ]
  },
  {
   "cell_type": "code",
   "execution_count": null,
   "metadata": {},
   "outputs": [],
   "source": [
    "#1. case normalization and tokenizing"
   ]
  },
  {
   "cell_type": "code",
   "execution_count": null,
   "metadata": {},
   "outputs": [],
   "source": [
    "reviews.review[:10]"
   ]
  },
  {
   "cell_type": "code",
   "execution_count": null,
   "metadata": {},
   "outputs": [],
   "source": [
    "from nltk.tokenize import word_tokenize"
   ]
  },
  {
   "cell_type": "code",
   "execution_count": null,
   "metadata": {},
   "outputs": [],
   "source": [
    "#All Reviews tokenized and in lower case\n",
    "all_terms = word_tokenize(reviews_combined.lower())"
   ]
  },
  {
   "cell_type": "code",
   "execution_count": null,
   "metadata": {},
   "outputs": [],
   "source": [
    "print(all_terms[:20])"
   ]
  },
  {
   "cell_type": "code",
   "execution_count": null,
   "metadata": {},
   "outputs": [],
   "source": [
    "len(set(all_terms))"
   ]
  },
  {
   "cell_type": "code",
   "execution_count": null,
   "metadata": {},
   "outputs": [],
   "source": [
    "#visualizing the frequency distrinution"
   ]
  },
  {
   "cell_type": "code",
   "execution_count": null,
   "metadata": {},
   "outputs": [],
   "source": [
    "from nltk.probability import FreqDist"
   ]
  },
  {
   "cell_type": "code",
   "execution_count": null,
   "metadata": {},
   "outputs": [],
   "source": [
    "fdist = FreqDist(all_terms)\n",
    "fdist"
   ]
  },
  {
   "cell_type": "code",
   "execution_count": null,
   "metadata": {},
   "outputs": [],
   "source": [
    "fdist.plot(30,cumulative=False)\n",
    "plt.show()"
   ]
  },
  {
   "cell_type": "code",
   "execution_count": null,
   "metadata": {},
   "outputs": [],
   "source": [
    "from string import punctuation\n",
    "from nltk.corpus import stopwords"
   ]
  },
  {
   "cell_type": "code",
   "execution_count": null,
   "metadata": {},
   "outputs": [],
   "source": [
    "stop_nltk = stopwords.words(\"english\")"
   ]
  },
  {
   "cell_type": "code",
   "execution_count": null,
   "metadata": {},
   "outputs": [],
   "source": [
    "stop_updated = stop_nltk + list(punctuation) + [\"...\"] + [\"phone\", \"mobile\",\"lenovo\",\"k8\",\"product\"]"
   ]
  },
  {
   "cell_type": "markdown",
   "metadata": {},
   "source": [
    "below code removes:\n",
    "1. stopwords, \n",
    "2. punct's,\n",
    "3. custom stop words,\n",
    "4. words with lenght less than 2"
   ]
  },
  {
   "cell_type": "code",
   "execution_count": null,
   "metadata": {},
   "outputs": [],
   "source": [
    "reviews_updated1 = [word for word in all_terms if word not in stop_updated and len(word) > 2]"
   ]
  },
  {
   "cell_type": "code",
   "execution_count": null,
   "metadata": {},
   "outputs": [],
   "source": [
    "print(reviews_updated1[:20])"
   ]
  },
  {
   "cell_type": "code",
   "execution_count": null,
   "metadata": {},
   "outputs": [],
   "source": [
    "len(set(reviews_updated1))"
   ]
  },
  {
   "cell_type": "code",
   "execution_count": null,
   "metadata": {},
   "outputs": [],
   "source": [
    "from nltk.stem import SnowballStemmer\n",
    "stemmer_s = SnowballStemmer(\"english\")"
   ]
  },
  {
   "cell_type": "code",
   "execution_count": null,
   "metadata": {},
   "outputs": [],
   "source": [
    "reviews_updated_stem = [ stemmer_s.stem(word) for word in reviews_updated1]"
   ]
  },
  {
   "cell_type": "code",
   "execution_count": null,
   "metadata": {},
   "outputs": [],
   "source": [
    "from nltk.stem import WordNetLemmatizer\n",
    "lemm = WordNetLemmatizer()"
   ]
  },
  {
   "cell_type": "code",
   "execution_count": null,
   "metadata": {},
   "outputs": [],
   "source": [
    "reviews_updated_lemm = [ lemm.lemmatize(word) for word in reviews_updated1]"
   ]
  },
  {
   "cell_type": "code",
   "execution_count": null,
   "metadata": {},
   "outputs": [],
   "source": [
    "print(len(set(reviews_updated_stem)),len(set(reviews_updated_lemm)))"
   ]
  },
  {
   "cell_type": "code",
   "execution_count": null,
   "metadata": {},
   "outputs": [],
   "source": [
    "#Stememr reduces the number of distinct words in the corpus to a greater exten"
   ]
  },
  {
   "cell_type": "code",
   "execution_count": null,
   "metadata": {},
   "outputs": [],
   "source": [
    "# Define function that takes in a raw string, returns a clean string\n",
    "# - Tokenize, lower case, remove stop words, stem, stitch back to string\n",
    "def clean_txt(sent):\n",
    "    tokens = word_tokenize(sent.lower())\n",
    "    stemmed = [stemmer_s.stem(term) for term in tokens if term not in stop_updated and len(term) > 2] \n",
    "    res = \" \".join(stemmed)\n",
    "    return res"
   ]
  },
  {
   "cell_type": "code",
   "execution_count": null,
   "metadata": {},
   "outputs": [],
   "source": [
    "reviews['clean_review'] = reviews.review.apply(clean_txt)"
   ]
  },
  {
   "cell_type": "code",
   "execution_count": null,
   "metadata": {},
   "outputs": [],
   "source": [
    "reviews.head()"
   ]
  },
  {
   "cell_type": "markdown",
   "metadata": {},
   "source": [
    "# Word cloud on cleaned dataset"
   ]
  },
  {
   "cell_type": "code",
   "execution_count": null,
   "metadata": {},
   "outputs": [],
   "source": [
    "reviews_combined = \" \".join(reviews.clean_review.values)"
   ]
  },
  {
   "cell_type": "code",
   "execution_count": null,
   "metadata": {},
   "outputs": [],
   "source": [
    "word_cloud = WordCloud(width=800,height=800,background_color='white',max_words=150).\\\n",
    "generate_from_text(reviews_combined)"
   ]
  },
  {
   "cell_type": "code",
   "execution_count": null,
   "metadata": {},
   "outputs": [],
   "source": [
    "plt.figure(figsize=[8,8])\n",
    "plt.imshow(word_cloud)\n",
    "plt.show()"
   ]
  },
  {
   "cell_type": "markdown",
   "metadata": {},
   "source": [
    "# Bar Graph on top 25 words"
   ]
  },
  {
   "cell_type": "code",
   "execution_count": null,
   "metadata": {},
   "outputs": [],
   "source": [
    "all_terms = []\n",
    "fdist = {}\n",
    "all_terms = reviews_combined.split(\" \")\n",
    "for word in all_terms:\n",
    "    fdist[word] = fdist.get(word,0) + 1"
   ]
  },
  {
   "cell_type": "code",
   "execution_count": null,
   "metadata": {},
   "outputs": [],
   "source": [
    "freq = {\"words\":list(fdist.keys()),\"freq\":list(fdist.values())}\n",
    "df_dist = pd.DataFrame(freq)"
   ]
  },
  {
   "cell_type": "code",
   "execution_count": null,
   "metadata": {},
   "outputs": [],
   "source": [
    "%matplotlib inline\n",
    "df_dist.sort_values(ascending=False, by=\"freq\").head(25).\\\n",
    "plot.bar(x= \"words\", y= \"freq\",figsize=(20,5)) "
   ]
  },
  {
   "cell_type": "markdown",
   "metadata": {},
   "source": [
    "# Plot the bar graph for top 25 frequenctly used bigrams"
   ]
  },
  {
   "cell_type": "code",
   "execution_count": null,
   "metadata": {},
   "outputs": [],
   "source": [
    "from sklearn.feature_extraction.text import CountVectorizer"
   ]
  },
  {
   "cell_type": "code",
   "execution_count": null,
   "metadata": {},
   "outputs": [],
   "source": [
    "# create a bigram count vectorizer object\n",
    "bigram_count_vectorizer = CountVectorizer(ngram_range=(2,2),max_features = 1500)"
   ]
  },
  {
   "cell_type": "code",
   "execution_count": null,
   "metadata": {},
   "outputs": [],
   "source": [
    "X_bigram = bigram_count_vectorizer.fit_transform(reviews['clean_review'])\n",
    "\n",
    "# Creating a DTM\n",
    "DTM_bigram = pd.DataFrame(X_bigram.toarray(), columns=bigram_count_vectorizer.get_feature_names())"
   ]
  },
  {
   "cell_type": "code",
   "execution_count": null,
   "metadata": {},
   "outputs": [],
   "source": [
    "bigram_count_vectorizer.get_feature_names()[:20]"
   ]
  },
  {
   "cell_type": "code",
   "execution_count": null,
   "metadata": {},
   "outputs": [],
   "source": [
    "DTM_bigram.head()"
   ]
  },
  {
   "cell_type": "code",
   "execution_count": null,
   "metadata": {},
   "outputs": [],
   "source": [
    "DTM_bigram.sum().sort_values(ascending=False).head(25).plot.bar(figsize=(20,5)) "
   ]
  },
  {
   "cell_type": "markdown",
   "metadata": {},
   "source": [
    "In the amazon case study dataset\n",
    "Find the top 5 relavent reviews which has the below words\n",
    " - \"battery drain\"\n",
    " -\"Good camera\"\n",
    "If there is a clash in the scores, review at index 0 has higher precedence than at index 1 and so on...."
   ]
  },
  {
   "cell_type": "markdown",
   "metadata": {},
   "source": [
    "# Sentiment Classification"
   ]
  },
  {
   "cell_type": "markdown",
   "metadata": {},
   "source": [
    "### Sentiment Prediction Strategy 1: Word based scoring "
   ]
  },
  {
   "cell_type": "code",
   "execution_count": null,
   "metadata": {},
   "outputs": [],
   "source": [
    "afinn = pd.read_csv(\"AFINN-111.txt\", sep=\"\\t\", header=None)\n",
    "afinn.columns = ['Term','Score']\n",
    "term_scores = dict(afinn.values)"
   ]
  },
  {
   "cell_type": "code",
   "execution_count": null,
   "metadata": {},
   "outputs": [],
   "source": [
    "def get_sentiment(sent):\n",
    "    tokens = word_tokenize(sent.lower())\n",
    "    score = 0\n",
    "    for term in tokens:\n",
    "        score += term_scores.get(term,0)\n",
    "    return score"
   ]
  },
  {
   "cell_type": "code",
   "execution_count": null,
   "metadata": {},
   "outputs": [],
   "source": [
    "reviews['sent_score'] = reviews.clean_review.apply(get_sentiment)"
   ]
  },
  {
   "cell_type": "code",
   "execution_count": null,
   "metadata": {},
   "outputs": [],
   "source": [
    "reviews.head()"
   ]
  },
  {
   "cell_type": "code",
   "execution_count": null,
   "metadata": {},
   "outputs": [],
   "source": [
    "reviews.sent_score.hist()"
   ]
  },
  {
   "cell_type": "markdown",
   "metadata": {},
   "source": [
    "#sentiment Prediction\n",
    "    if the sent_score > 0 predicted sentiment is 1\n",
    "    else the predicted sentiment is 0"
   ]
  },
  {
   "cell_type": "code",
   "execution_count": null,
   "metadata": {},
   "outputs": [],
   "source": [
    "reviews['sent_prediction'] = reviews.sent_score.apply(lambda x:1 if x>0 else 0)"
   ]
  },
  {
   "cell_type": "code",
   "execution_count": null,
   "metadata": {},
   "outputs": [],
   "source": [
    "reviews.head()"
   ]
  },
  {
   "cell_type": "code",
   "execution_count": null,
   "metadata": {},
   "outputs": [],
   "source": [
    "from sklearn.metrics import confusion_matrix, accuracy_score"
   ]
  },
  {
   "cell_type": "code",
   "execution_count": null,
   "metadata": {},
   "outputs": [],
   "source": [
    "confusion_matrix(reviews.sentiment,reviews.sent_prediction)"
   ]
  },
  {
   "cell_type": "code",
   "execution_count": null,
   "metadata": {},
   "outputs": [],
   "source": [
    "accuracy_score(reviews.sentiment,reviews.sent_prediction)"
   ]
  },
  {
   "cell_type": "code",
   "execution_count": null,
   "metadata": {},
   "outputs": [],
   "source": [
    "#lets build a udf which takes a text as input and does all the above cleaning steps\n",
    "# one review at a time will be passed from the the reviews column to this function\n",
    "#based on the outcome of this function, you should be able to add a new column in the data frame\n",
    "def  clean_txt_new(sent):\n",
    "    tokens = word_tokenize(sent.lower().replace('[^a-z ]',' '))\n",
    "    cleaned_token = [(term) for term in tokens \n",
    "               if term not in stop_updated and len(term) > 2] \n",
    "    res = \" \".join(cleaned_token)\n",
    "    return res"
   ]
  },
  {
   "cell_type": "code",
   "execution_count": null,
   "metadata": {},
   "outputs": [],
   "source": [
    "reviews['clean_review_new'] = reviews.review.apply(clean_txt_new)"
   ]
  },
  {
   "cell_type": "code",
   "execution_count": null,
   "metadata": {},
   "outputs": [],
   "source": [
    "reviews.head()"
   ]
  },
  {
   "cell_type": "code",
   "execution_count": null,
   "metadata": {},
   "outputs": [],
   "source": [
    "reviews['sent_score_new'] = reviews.clean_review_new.apply(get_sentiment)"
   ]
  },
  {
   "cell_type": "code",
   "execution_count": null,
   "metadata": {},
   "outputs": [],
   "source": [
    "reviews['sent_prediction_new'] = reviews.sent_score_new.apply(lambda x:1 if x>0 else 0)"
   ]
  },
  {
   "cell_type": "code",
   "execution_count": null,
   "metadata": {},
   "outputs": [],
   "source": [
    "accuracy_score(reviews.sentiment,reviews.sent_prediction_new)"
   ]
  },
  {
   "cell_type": "markdown",
   "metadata": {},
   "source": [
    "### Sentiment Prediction Strategy 2: Using popular package - Vader"
   ]
  },
  {
   "cell_type": "code",
   "execution_count": null,
   "metadata": {},
   "outputs": [],
   "source": [
    "from nltk.sentiment.vader import SentimentIntensityAnalyzer\n",
    "analyser = SentimentIntensityAnalyzer()"
   ]
  },
  {
   "cell_type": "code",
   "execution_count": null,
   "metadata": {},
   "outputs": [],
   "source": [
    "def get_vader_sentiment(sent):\n",
    "    return analyser.polarity_scores(sent)['compound']"
   ]
  },
  {
   "cell_type": "code",
   "execution_count": null,
   "metadata": {},
   "outputs": [],
   "source": [
    "reviews['score_vader'] = reviews.review.apply(get_vader_sentiment)"
   ]
  },
  {
   "cell_type": "code",
   "execution_count": null,
   "metadata": {},
   "outputs": [],
   "source": [
    "reviews['sent_prediction_vader'] = reviews.score_vader.\\\n",
    "apply(lambda x:1 if x>0 else 0)"
   ]
  },
  {
   "cell_type": "code",
   "execution_count": null,
   "metadata": {},
   "outputs": [],
   "source": [
    "accuracy_score(reviews.sentiment,reviews.sent_prediction_vader)"
   ]
  },
  {
   "cell_type": "code",
   "execution_count": null,
   "metadata": {},
   "outputs": [],
   "source": [
    "confusion_matrix(reviews.sentiment,reviews.sent_prediction_vader)"
   ]
  },
  {
   "cell_type": "markdown",
   "metadata": {},
   "source": [
    "### Sentiment Prediction Strategy : Making our own model"
   ]
  },
  {
   "cell_type": "code",
   "execution_count": null,
   "metadata": {},
   "outputs": [],
   "source": [
    "reviews.head()"
   ]
  },
  {
   "cell_type": "code",
   "execution_count": null,
   "metadata": {},
   "outputs": [],
   "source": [
    "X = reviews.clean_review.values\n",
    "y = reviews.sentiment.values"
   ]
  },
  {
   "cell_type": "code",
   "execution_count": null,
   "metadata": {},
   "outputs": [],
   "source": [
    "X[:5]"
   ]
  },
  {
   "cell_type": "code",
   "execution_count": null,
   "metadata": {},
   "outputs": [],
   "source": [
    "from sklearn.model_selection import train_test_split\n",
    "X_train,X_test,y_train,y_test = train_test_split(X,y,test_size=0.30,\n",
    "                                                 random_state=42)"
   ]
  },
  {
   "cell_type": "code",
   "execution_count": null,
   "metadata": {},
   "outputs": [],
   "source": [
    "from sklearn.feature_extraction.text import CountVectorizer"
   ]
  },
  {
   "cell_type": "code",
   "execution_count": null,
   "metadata": {},
   "outputs": [],
   "source": [
    "vectorizer = CountVectorizer(max_features=1500)"
   ]
  },
  {
   "cell_type": "code",
   "execution_count": null,
   "metadata": {},
   "outputs": [],
   "source": [
    "# Extarct the features and transform -> get the count of terms in every document\n",
    "X_train_bow = vectorizer.fit_transform(X_train)"
   ]
  },
  {
   "cell_type": "code",
   "execution_count": null,
   "metadata": {},
   "outputs": [],
   "source": [
    "# Only transform -> get the count of terms in every document, the test data\n",
    "\n",
    "X_test_bow = vectorizer.transform(X_test)"
   ]
  },
  {
   "cell_type": "code",
   "execution_count": null,
   "metadata": {
    "scrolled": true
   },
   "outputs": [],
   "source": [
    "X_train_bow.shape, X_test_bow.shape"
   ]
  },
  {
   "cell_type": "code",
   "execution_count": null,
   "metadata": {},
   "outputs": [],
   "source": [
    "from sklearn.linear_model import LogisticRegression"
   ]
  },
  {
   "cell_type": "code",
   "execution_count": null,
   "metadata": {},
   "outputs": [],
   "source": [
    "logreg = LogisticRegression()"
   ]
  },
  {
   "cell_type": "code",
   "execution_count": null,
   "metadata": {
    "scrolled": true
   },
   "outputs": [],
   "source": [
    "logreg.fit(X_train_bow,y_train)"
   ]
  },
  {
   "cell_type": "code",
   "execution_count": null,
   "metadata": {},
   "outputs": [],
   "source": [
    "y_test_pred = logreg.predict(X_test_bow)"
   ]
  },
  {
   "cell_type": "code",
   "execution_count": null,
   "metadata": {},
   "outputs": [],
   "source": [
    "accuracy_score(y_test, y_test_pred)"
   ]
  },
  {
   "cell_type": "markdown",
   "metadata": {},
   "source": [
    "#### Sentiment classification using tfidfvectorizer"
   ]
  },
  {
   "cell_type": "code",
   "execution_count": null,
   "metadata": {},
   "outputs": [],
   "source": [
    "from sklearn.feature_extraction.text import TfidfVectorizer"
   ]
  },
  {
   "cell_type": "code",
   "execution_count": null,
   "metadata": {},
   "outputs": [],
   "source": [
    "vectorizer = TfidfVectorizer(max_features=2000)"
   ]
  },
  {
   "cell_type": "code",
   "execution_count": null,
   "metadata": {},
   "outputs": [],
   "source": [
    "# Extarct the features and transform -> get the count of terms in every document\n",
    "X_train_bow = vectorizer.fit_transform(X_train)"
   ]
  },
  {
   "cell_type": "code",
   "execution_count": null,
   "metadata": {},
   "outputs": [],
   "source": [
    "# Only transform -> get the count of terms in every document, the test data\n",
    "X_test_bow = vectorizer.transform(X_test)"
   ]
  },
  {
   "cell_type": "code",
   "execution_count": null,
   "metadata": {},
   "outputs": [],
   "source": [
    "X_train_bow.shape, X_test_bow.shape"
   ]
  },
  {
   "cell_type": "code",
   "execution_count": null,
   "metadata": {},
   "outputs": [],
   "source": [
    "from sklearn.linear_model import LogisticRegression"
   ]
  },
  {
   "cell_type": "code",
   "execution_count": null,
   "metadata": {},
   "outputs": [],
   "source": [
    "logreg = LogisticRegression()"
   ]
  },
  {
   "cell_type": "code",
   "execution_count": null,
   "metadata": {},
   "outputs": [],
   "source": [
    "logreg.fit(X_train_bow,y_train)"
   ]
  },
  {
   "cell_type": "code",
   "execution_count": null,
   "metadata": {},
   "outputs": [],
   "source": [
    "y_test_pred = logreg.predict(X_test_bow)"
   ]
  },
  {
   "cell_type": "code",
   "execution_count": null,
   "metadata": {},
   "outputs": [],
   "source": [
    "accuracy_score(y_test, y_test_pred)"
   ]
  },
  {
   "cell_type": "markdown",
   "metadata": {},
   "source": [
    "### Document clustering"
   ]
  },
  {
   "cell_type": "code",
   "execution_count": null,
   "metadata": {},
   "outputs": [],
   "source": [
    "from sklearn.feature_extraction.text import TfidfVectorizer\n",
    "tfidfvectorizer = TfidfVectorizer(max_features=150)"
   ]
  },
  {
   "cell_type": "code",
   "execution_count": null,
   "metadata": {},
   "outputs": [],
   "source": [
    "X = tfidfvectorizer.fit_transform(reviews['clean_review'])"
   ]
  },
  {
   "cell_type": "code",
   "execution_count": null,
   "metadata": {},
   "outputs": [],
   "source": [
    "from sklearn.cluster import KMeans"
   ]
  },
  {
   "cell_type": "code",
   "execution_count": null,
   "metadata": {},
   "outputs": [],
   "source": [
    "num_clusters = 6\n",
    "km = KMeans(n_clusters=num_clusters)\n",
    "km.fit(X)"
   ]
  },
  {
   "cell_type": "code",
   "execution_count": null,
   "metadata": {},
   "outputs": [],
   "source": [
    "pred_cluster = km.predict(X)\n",
    "reviews['cluster_predicted'] = pred_cluster\n",
    "reviews['cluster_predicted'].value_counts()"
   ]
  },
  {
   "cell_type": "code",
   "execution_count": null,
   "metadata": {},
   "outputs": [],
   "source": [
    "pred_cluster.shape"
   ]
  },
  {
   "cell_type": "code",
   "execution_count": null,
   "metadata": {},
   "outputs": [],
   "source": [
    "km.cluster_centers_.shape"
   ]
  },
  {
   "cell_type": "markdown",
   "metadata": {},
   "source": [
    "in TFIDF or in DTM every word is a feature\n",
    "when these words are clustered, the cluster center value for every feature tells us the centeroid of the word relavencies/frequencies.\n",
    "\n",
    "Higher the cluster centeroid for that feature, higher will be value of word relevency/frequency."
   ]
  },
  {
   "cell_type": "code",
   "execution_count": null,
   "metadata": {},
   "outputs": [],
   "source": [
    "print(\"Top 5 terms per cluster:\")\n",
    "order_centroids = km.cluster_centers_.argsort()[:, ::-1]\n",
    "terms = tfidfvectorizer.get_feature_names()\n",
    "for i in range(num_clusters):\n",
    "    print (\"Cluster %d:\" % i),\n",
    "    for ind in order_centroids[i, : 5]:\n",
    "        print (' %s' % terms[ind]),\n",
    "    print"
   ]
  },
  {
   "cell_type": "code",
   "execution_count": null,
   "metadata": {},
   "outputs": [],
   "source": [
    "group = reviews[reviews['cluster_predicted'] == 1]\n",
    "text = ' '.join(reviews['clean_review'])\n",
    "wc = WordCloud(background_color='white').generate(text)\n",
    "plt.imshow(wc)"
   ]
  },
  {
   "cell_type": "markdown",
   "metadata": {},
   "source": [
    "### Cosine Similarity"
   ]
  },
  {
   "cell_type": "code",
   "execution_count": null,
   "metadata": {},
   "outputs": [],
   "source": [
    "from sklearn.metrics.pairwise import cosine_similarity"
   ]
  },
  {
   "cell_type": "code",
   "execution_count": null,
   "metadata": {},
   "outputs": [],
   "source": [
    "tfidfvectorizer = TfidfVectorizer(max_features=1500)"
   ]
  },
  {
   "cell_type": "code",
   "execution_count": null,
   "metadata": {},
   "outputs": [],
   "source": [
    "X = tfidfvectorizer.fit_transform(reviews['clean_review'])\n",
    "df_tfidf = pd.DataFrame(X.toarray(),columns=tfidfvectorizer.get_feature_names())"
   ]
  },
  {
   "cell_type": "code",
   "execution_count": null,
   "metadata": {},
   "outputs": [],
   "source": [
    "#Check the cosine similarity with the second and the third reviews\n",
    "cosine_similarity(df_tfidf[1:2], df_tfidf[2:3])"
   ]
  },
  {
   "cell_type": "code",
   "execution_count": null,
   "metadata": {},
   "outputs": [],
   "source": [
    "cosine_similarity([df_tfidf['batteri'],df_tfidf['battery']])"
   ]
  },
  {
   "cell_type": "code",
   "execution_count": null,
   "metadata": {},
   "outputs": [],
   "source": [
    "cs = cosine_similarity(df_tfidf.T)"
   ]
  },
  {
   "cell_type": "code",
   "execution_count": null,
   "metadata": {},
   "outputs": [],
   "source": [
    "def get_similar_words(input_word, sim_mat):\n",
    "    cos_vals = sim_mat[input_word].sort_values(ascending=False)\n",
    "    similar_words = cos_vals.drop(input_word).head(5)\n",
    "    return similar_words"
   ]
  },
  {
   "cell_type": "code",
   "execution_count": null,
   "metadata": {},
   "outputs": [],
   "source": [
    "sim_mat = cosine_similarity(df_tfidf.T)\n",
    "\n",
    "sim_mat = pd.DataFrame(sim_mat, columns= df_tfidf.columns, index= df_tfidf.columns)\n",
    "\n",
    "get_similar_words('drain', sim_mat)"
   ]
  },
  {
   "cell_type": "code",
   "execution_count": null,
   "metadata": {},
   "outputs": [],
   "source": [
    "#Understanding how the function works\n",
    "sim_mat['charge'].sort_values(ascending=False).drop('charge').head(5)"
   ]
  }
 ],
 "metadata": {
  "kernelspec": {
   "display_name": "Python 3",
   "language": "python",
   "name": "python3"
  },
  "language_info": {
   "codemirror_mode": {
    "name": "ipython",
    "version": 3
   },
   "file_extension": ".py",
   "mimetype": "text/x-python",
   "name": "python",
   "nbconvert_exporter": "python",
   "pygments_lexer": "ipython3",
   "version": "3.8.8"
  }
 },
 "nbformat": 4,
 "nbformat_minor": 2
}
