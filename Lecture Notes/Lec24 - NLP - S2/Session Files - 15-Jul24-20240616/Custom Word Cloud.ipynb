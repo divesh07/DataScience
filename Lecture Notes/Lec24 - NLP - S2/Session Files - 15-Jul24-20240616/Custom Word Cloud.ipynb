{
 "cells": [
  {
   "cell_type": "code",
   "execution_count": null,
   "id": "a321a51f",
   "metadata": {},
   "outputs": [],
   "source": [
    "# N-Gram Recommendation\n",
    "# Import libraries\n",
    "import random\n",
    "import nltk\n",
    "import re"
   ]
  },
  {
   "cell_type": "code",
   "execution_count": null,
   "id": "790c37ad",
   "metadata": {},
   "outputs": [],
   "source": [
    "with open(\"Mankibaat.txt\",encoding='utf-8') as f:\n",
    "    data = f.read()\n",
    "data"
   ]
  },
  {
   "cell_type": "code",
   "execution_count": null,
   "id": "f076b993",
   "metadata": {},
   "outputs": [],
   "source": [
    "speech = data\n",
    "speech = re.sub(r\"[^\\w\\s]+\",\" \",speech)\n",
    "speech"
   ]
  },
  {
   "cell_type": "markdown",
   "id": "0887c471",
   "metadata": {},
   "source": [
    "# Custom Word-Cloud"
   ]
  },
  {
   "cell_type": "code",
   "execution_count": null,
   "id": "8468b938",
   "metadata": {},
   "outputs": [],
   "source": [
    "from wordcloud import WordCloud\n",
    "import pandas as pd,numpy as np\n",
    "import matplotlib.pyplot as plt"
   ]
  },
  {
   "cell_type": "code",
   "execution_count": null,
   "id": "1159ef46",
   "metadata": {},
   "outputs": [],
   "source": [
    "word_cloud = WordCloud(collocations = False, width=800,height=800,background_color='white',max_words=200, random_state = 15424, stopwords = None).\\\n",
    "generate_from_text(speech)\n",
    "plt.figure(figsize=[7,7])\n",
    "plt.imshow(word_cloud)\n",
    "plt.show()"
   ]
  },
  {
   "cell_type": "code",
   "execution_count": null,
   "id": "bccf77cb",
   "metadata": {},
   "outputs": [],
   "source": [
    "from PIL import Image\n",
    "mask = np.array(Image.open('indiamap.png'))\n",
    "wc = WordCloud(mask=mask, background_color=\"white\",\n",
    "               max_words=500, max_font_size=256,\n",
    "               random_state=11922, width=mask.shape[1],\n",
    "               height=mask.shape[0])\n",
    "wc.generate(speech)\n",
    "#plt.imshow(wc, interpolation=\"bilinear\")\n",
    "plt.figure(figsize=[10,10])\n",
    "plt.imshow(wc, interpolation=\"bilinear\")\n",
    "plt.axis('off')\n",
    "plt.show()"
   ]
  },
  {
   "cell_type": "code",
   "execution_count": null,
   "id": "eb6bf5be",
   "metadata": {},
   "outputs": [],
   "source": [
    "from PIL import Image\n",
    "mask = np.array(Image.open('lotus.jpg'))\n",
    "wc = WordCloud(mask=mask, background_color=\"white\",\n",
    "               max_words=500, max_font_size=256,\n",
    "               random_state=21424, width=mask.shape[1],\n",
    "               height=mask.shape[0])\n",
    "wc.generate(speech)\n",
    "#plt.imshow(wc, interpolation=\"bilinear\")\n",
    "plt.figure(figsize=[10,10])\n",
    "plt.imshow(wc, interpolation=\"bilinear\")\n",
    "plt.axis('off')\n",
    "plt.show()"
   ]
  },
  {
   "cell_type": "code",
   "execution_count": null,
   "id": "d0c534b9",
   "metadata": {},
   "outputs": [],
   "source": []
  }
 ],
 "metadata": {
  "kernelspec": {
   "display_name": "Python 3",
   "language": "python",
   "name": "python3"
  },
  "language_info": {
   "codemirror_mode": {
    "name": "ipython",
    "version": 3
   },
   "file_extension": ".py",
   "mimetype": "text/x-python",
   "name": "python",
   "nbconvert_exporter": "python",
   "pygments_lexer": "ipython3",
   "version": "3.8.8"
  }
 },
 "nbformat": 4,
 "nbformat_minor": 5
}
