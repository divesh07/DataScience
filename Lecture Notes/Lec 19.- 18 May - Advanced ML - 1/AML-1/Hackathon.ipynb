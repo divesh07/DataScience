{
 "cells": [
  {
   "cell_type": "code",
   "execution_count": 1,
   "id": "86937cdc",
   "metadata": {},
   "outputs": [],
   "source": [
    "import pandas as pd\n",
    "import numpy as np"
   ]
  },
  {
   "cell_type": "code",
   "execution_count": 4,
   "id": "e461171e",
   "metadata": {},
   "outputs": [],
   "source": [
    "arr = np.array(['id', 'McCabeDesignComplexity', 'McCabeCyclomaticComplexity',\n",
    "       'IsDeprecated', 'HalsteadTotalOperatorsOperands',\n",
    "       'HalsteadProgramLength', 'HalsteadVolume', 'CodeType',\n",
    "       'HalsteadLineCountComment', 'CodeSizeCategory', 'CodeAge',\n",
    "       'McCabeEssentialComplexity', 'CodeLanguage', 'HalsteadB',\n",
    "       'HalsteadLineCountCodeAndComment', 'ComplexityEfficiency',\n",
    "       'HalsteadDifficulty', 'BranchCount', 'CodeAndCommentRatio',\n",
    "       'TotalOperators', 'HalsteadEffort', 'HalsteadLineCountBlank',\n",
    "       'TotalOperands', 'QualityScore', 'TeamSize', 'CodeQuality',\n",
    "       'HalsteadLineCountCode', 'HalsteadIntelligence', 'CommentDensity',\n",
    "       'CodeDensity', 'OperandsPerOperator', 'OperatorToOperandRatio',\n",
    "       'HalsteadTimeEstimator', 'UniqueOperands', 'UniqueOperators',\n",
    "       'McCabeLineCount'])"
   ]
  },
  {
   "cell_type": "code",
   "execution_count": 6,
   "id": "e8be995f",
   "metadata": {},
   "outputs": [
    {
     "data": {
      "text/plain": [
       "array(['McCabeLineCount', 'UniqueOperators', 'UniqueOperands',\n",
       "       'HalsteadTimeEstimator', 'OperatorToOperandRatio',\n",
       "       'OperandsPerOperator', 'CodeDensity', 'CommentDensity',\n",
       "       'HalsteadIntelligence', 'HalsteadLineCountCode', 'CodeQuality',\n",
       "       'TeamSize', 'QualityScore', 'TotalOperands',\n",
       "       'HalsteadLineCountBlank', 'HalsteadEffort', 'TotalOperators',\n",
       "       'CodeAndCommentRatio', 'BranchCount', 'HalsteadDifficulty',\n",
       "       'ComplexityEfficiency', 'HalsteadLineCountCodeAndComment',\n",
       "       'HalsteadB', 'CodeLanguage', 'McCabeEssentialComplexity',\n",
       "       'CodeAge', 'CodeSizeCategory', 'HalsteadLineCountComment',\n",
       "       'CodeType', 'HalsteadVolume', 'HalsteadProgramLength',\n",
       "       'HalsteadTotalOperatorsOperands', 'IsDeprecated',\n",
       "       'McCabeCyclomaticComplexity', 'McCabeDesignComplexity', 'id'],\n",
       "      dtype='<U31')"
      ]
     },
     "execution_count": 6,
     "metadata": {},
     "output_type": "execute_result"
    }
   ],
   "source": [
    "rev = arr[::-1]\n",
    "rev"
   ]
  }
 ],
 "metadata": {
  "kernelspec": {
   "display_name": "Python 3 (ipykernel)",
   "language": "python",
   "name": "python3"
  },
  "language_info": {
   "codemirror_mode": {
    "name": "ipython",
    "version": 3
   },
   "file_extension": ".py",
   "mimetype": "text/x-python",
   "name": "python",
   "nbconvert_exporter": "python",
   "pygments_lexer": "ipython3",
   "version": "3.11.5"
  }
 },
 "nbformat": 4,
 "nbformat_minor": 5
}
