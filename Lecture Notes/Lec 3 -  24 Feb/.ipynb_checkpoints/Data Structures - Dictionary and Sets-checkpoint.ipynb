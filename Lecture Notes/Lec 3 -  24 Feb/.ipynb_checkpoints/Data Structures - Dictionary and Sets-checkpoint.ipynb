{
 "cells": [
  {
   "cell_type": "markdown",
   "id": "29bdc926",
   "metadata": {},
   "source": [
    "# DICTIONARY"
   ]
  },
  {
   "cell_type": "markdown",
   "id": "908174a5",
   "metadata": {},
   "source": [
    "* Dictionaries are used to store data values in key:value pairs.\n",
    "* A dictionary is a collection which is ordered*, changeable and does not allow duplicates.\n",
    "  * `As of Python version 3.7, dictionaries are ordered. In Python 3.6 and earlier, dictionaries are unordered.`\n",
    "* Dictionaries are written with curly brackets, and have keys and values\n",
    "* A dictionary can store any type of data.\n",
    "* in comparison of lists, dictionaries are more representable to real data."
   ]
  },
  {
   "cell_type": "markdown",
   "id": "371fdfc3",
   "metadata": {},
   "source": [
    "#### Similarities and differences between Dictionaries and Lists:\n",
    "##### Similarities\n",
    "* Mutable.\n",
    "* Dynamic (one can add or remove items)\n",
    "* Both can be nested. A list can contain another list. A dictionary can contain another dictionary. \n",
    "* A dictionary can also contain a list, and vice versa.\n",
    "##### Differences\n",
    "Dictionaries and lists mainly differ from each other in how elements are accessed:\n",
    "* List elements are accessed by their position in the list, via indexing.\n",
    "* Dictionary elements are accessed via keys.\n"
   ]
  },
  {
   "cell_type": "markdown",
   "id": "ff3dae6f",
   "metadata": {},
   "source": [
    "#### Ordered or Unordered?\n",
    "    As of Python version 3.7, dictionaries are ordered. In Python 3.6 and earlier, dictionaries are unordered.\n",
    "    When we say that dictionaries are ordered, it means that the items have a defined order, and that order will not change.\n",
    "    Unordered means that the items does not have a defined order, you cannot refer to an item by using an index."
   ]
  },
  {
   "cell_type": "markdown",
   "id": "6e170804",
   "metadata": {},
   "source": [
    "#### Example: using List to represent name, age, fav movies and fav players"
   ]
  },
  {
   "cell_type": "code",
   "execution_count": 65,
   "id": "b20b5340",
   "metadata": {},
   "outputs": [
    {
     "name": "stdout",
     "output_type": "stream",
     "text": [
      "['Atul Kumar', 28, ['Joker  ', 'Interstellar'], ['Virat', 'Sehwag']]\n"
     ]
    }
   ],
   "source": [
    "user_list = [\"Atul Kumar\", 28, [\"Joker  \", \"Interstellar\"], [\"Virat\",\"Sehwag\"]]\n",
    "print(user_list)"
   ]
  },
  {
   "cell_type": "markdown",
   "id": "5e816907",
   "metadata": {},
   "source": [
    "### Example: using the same data in a dictionary"
   ]
  },
  {
   "cell_type": "code",
   "execution_count": 66,
   "id": "83a69b94",
   "metadata": {},
   "outputs": [
    {
     "name": "stdout",
     "output_type": "stream",
     "text": [
      "{'name': 'Atul Kumar', 'age': 28}\n",
      "{'name': 'Atul Kumar', 'age': 28}\n"
     ]
    }
   ],
   "source": [
    "# Second, create dictionary\n",
    "user = {'name' : 'Atul Kumar', 'age' : 28} # use {} to create dictionary.\n",
    "user1 = dict(name = 'Atul Kumar', age = 28) # dict() to create dictionary.\n",
    "print(user)\n",
    "print(user1)"
   ]
  },
  {
   "cell_type": "code",
   "execution_count": 2,
   "id": "c6775a21",
   "metadata": {},
   "outputs": [
    {
     "name": "stdout",
     "output_type": "stream",
     "text": [
      "{'Maths': 40, 'Physics': 48, 'Chemistry': 42}\n"
     ]
    }
   ],
   "source": [
    "score1 = {\n",
    "          \"Maths\": 40,\n",
    "          \"Physics\": 48,\n",
    "          \"Chemistry\": 42\n",
    "        }\n",
    "print(score1)"
   ]
  },
  {
   "cell_type": "markdown",
   "id": "e764883d",
   "metadata": {},
   "source": [
    "### Accessing the items of a dictionary"
   ]
  },
  {
   "cell_type": "markdown",
   "id": "0c3c0659",
   "metadata": {},
   "source": [
    "#### items (data) of the dictionary can be accessed through the key name\n",
    "* Items of a dictionary can be accessed by referring to its key name, inside square brackets"
   ]
  },
  {
   "cell_type": "markdown",
   "id": "50fa75b4",
   "metadata": {},
   "source": [
    "**Example: Get the values of Maths and Chemistry:**"
   ]
  },
  {
   "cell_type": "code",
   "execution_count": 69,
   "id": "d277544e",
   "metadata": {},
   "outputs": [
    {
     "name": "stdout",
     "output_type": "stream",
     "text": [
      "the score for maths is: 40\n",
      "42\n"
     ]
    }
   ],
   "source": [
    "print(\"the score for maths is:\", score1['Maths'])\n",
    "print(score1['Chemistry'])"
   ]
  },
  {
   "cell_type": "markdown",
   "id": "27b23a3c",
   "metadata": {},
   "source": [
    "#### .get() method\n",
    "Method .get() will yield the same result as above"
   ]
  },
  {
   "cell_type": "markdown",
   "id": "94bab4d4",
   "metadata": {},
   "source": [
    "**Example: Get the value of the \"Physics\" key:**"
   ]
  },
  {
   "cell_type": "code",
   "execution_count": 70,
   "id": "ce984eb7",
   "metadata": {},
   "outputs": [
    {
     "name": "stdout",
     "output_type": "stream",
     "text": [
      "the score in Physics is: 48\n"
     ]
    }
   ],
   "source": [
    "x = score1.get(\"Physics\")\n",
    "print(\"the score in Physics is:\", x)"
   ]
  },
  {
   "cell_type": "markdown",
   "id": "bdb2c459",
   "metadata": {},
   "source": [
    "### Accessing the Keys:\n",
    "#### .keys() method can be used for returning the list of all the keys in the dictionary."
   ]
  },
  {
   "cell_type": "code",
   "execution_count": 71,
   "id": "155d1e67",
   "metadata": {},
   "outputs": [
    {
     "name": "stdout",
     "output_type": "stream",
     "text": [
      "dict_keys(['Maths', 'Physics', 'Chemistry'])\n"
     ]
    }
   ],
   "source": [
    "##Example: print the list of keys for the above dictionary:\n",
    "x = score1.keys() \n",
    "print(x)"
   ]
  },
  {
   "cell_type": "markdown",
   "id": "87078161",
   "metadata": {},
   "source": [
    "    The list of the keys is a view of the dictionary, meaning that any changes done to the dictionary will be reflected in the keys list."
   ]
  },
  {
   "cell_type": "code",
   "execution_count": 72,
   "id": "3f9daf63",
   "metadata": {},
   "outputs": [
    {
     "name": "stdout",
     "output_type": "stream",
     "text": [
      "dict_keys(['Maths', 'Physics', 'Chemistry'])\n",
      "dict_keys(['Maths', 'Physics', 'Chemistry', 'Name'])\n"
     ]
    }
   ],
   "source": [
    "##Example for mutable property of the dictionary\n",
    "##If we ddd a new item to the original dictionary the keys list gets updated as well:\n",
    "score1 = {\n",
    "    \"Maths\": 40,\n",
    "    \"Physics\": 48,\n",
    "    \"Chemistry\": 42\n",
    "}\n",
    "x = score1.keys()\n",
    "print(x) #before the change\n",
    "#### Define a new key with a value ####\n",
    "score1[\"Name\"] = \"Amit\"\n",
    "print(x) #after the change "
   ]
  },
  {
   "cell_type": "markdown",
   "id": "d13c064f",
   "metadata": {},
   "source": [
    "### Accessing the values of the list \n",
    "#### using .values() method\n",
    "The values() method return a list of all the values in the dictionary."
   ]
  },
  {
   "cell_type": "code",
   "execution_count": 39,
   "id": "77fbda0a",
   "metadata": {},
   "outputs": [
    {
     "name": "stdout",
     "output_type": "stream",
     "text": [
      "dict_values([40, 48, 42, 'Amit'])\n"
     ]
    }
   ],
   "source": [
    "##Example: Get a list of the values:\n",
    "x = score1.values() \n",
    "print(x)"
   ]
  },
  {
   "cell_type": "markdown",
   "id": "93a7967d",
   "metadata": {},
   "source": [
    "    The list of the values is a view of the dictionary, meaning that any changes done to the dictionary will be reflected in the values list."
   ]
  },
  {
   "cell_type": "code",
   "execution_count": 40,
   "id": "863774b3",
   "metadata": {},
   "outputs": [
    {
     "name": "stdout",
     "output_type": "stream",
     "text": [
      "dict_values([40, 48, 42])\n",
      "dict_values([40, 48, 42, 2020])\n"
     ]
    }
   ],
   "source": [
    "score1 = {\n",
    "    \"Maths\": 40,\n",
    "    \"Physics\": 48,\n",
    "    \"Chemistry\": 42\n",
    "}\n",
    "x = score1.values()\n",
    "print(x) #before the change\n",
    "score1[\"year\"] = 2020\n",
    "print(x) #after the change "
   ]
  },
  {
   "cell_type": "code",
   "execution_count": 41,
   "id": "61770516",
   "metadata": {},
   "outputs": [
    {
     "name": "stdout",
     "output_type": "stream",
     "text": [
      "dict_values(['Ford', 'Mustang', 1964])\n",
      "dict_values(['Ford', 'Mustang', 1964, 'red'])\n"
     ]
    }
   ],
   "source": [
    "### Another example\n",
    "car = {\n",
    "\"brand\": \"Ford\",\n",
    "\"model\": \"Mustang\",\n",
    "\"year\": 1964\n",
    "}\n",
    "x = car.values()\n",
    "print(x) #before the change\n",
    "car[\"color\"] = \"red\"\n",
    "print(x) #after the change "
   ]
  },
  {
   "cell_type": "markdown",
   "id": "6924b3a9",
   "metadata": {},
   "source": [
    "#### Method: .Items()\n",
    "    The items() method will return each item in a dictionary, as tuples in a list."
   ]
  },
  {
   "cell_type": "code",
   "execution_count": 43,
   "id": "f5fd1ba2",
   "metadata": {},
   "outputs": [
    {
     "name": "stdout",
     "output_type": "stream",
     "text": [
      "dict_items([('Maths', 40), ('Physics', 48), ('Chemistry', 42), ('year', 2018)])\n",
      "dict_items([('Maths', 40), ('Physics', 48), ('Chemistry', 42), ('year', 2020)])\n"
     ]
    }
   ],
   "source": [
    "score1 = {\n",
    "    \"Maths\": 40,\n",
    "    \"Physics\": 48,\n",
    "    \"Chemistry\": 42,\n",
    "    \"year\": 2018\n",
    "}\n",
    "x = score1.items()\n",
    "print(x) #before the change\n",
    "score1[\"year\"] = 2020\n",
    "print(x) #after the change "
   ]
  },
  {
   "cell_type": "markdown",
   "id": "7f824d6a",
   "metadata": {},
   "source": [
    "### Changing Values of the item\n",
    "**Value of a specific item can be changed by referring to its key**"
   ]
  },
  {
   "cell_type": "code",
   "execution_count": 73,
   "id": "79c2a884",
   "metadata": {},
   "outputs": [
    {
     "name": "stdout",
     "output_type": "stream",
     "text": [
      "{'Maths': 40, 'Physics': 48, 'Chemistry': 42, 'year': 2018}\n"
     ]
    }
   ],
   "source": [
    "score1 = {\n",
    "    \"Maths\": 40,\n",
    "    \"Physics\": 48,\n",
    "    \"Chemistry\": 42,\n",
    "    \"year\": 2020\n",
    "}\n",
    "score1[\"year\"] = 2018\n",
    "print(score1)"
   ]
  },
  {
   "cell_type": "markdown",
   "id": "f814297e",
   "metadata": {},
   "source": [
    "### Adding items to Dictionary "
   ]
  },
  {
   "cell_type": "markdown",
   "id": "2bbdd563",
   "metadata": {},
   "source": [
    "   * Adding an item to the dictionary can be done by using a new index key and assigning a value to it"
   ]
  },
  {
   "cell_type": "code",
   "execution_count": 74,
   "id": "1f5dcc73",
   "metadata": {},
   "outputs": [
    {
     "name": "stdout",
     "output_type": "stream",
     "text": [
      "{'Maths': 40, 'Physics': 48, 'Chemistry': 42, 'year': 2020, 'Name': 'Amit'}\n"
     ]
    }
   ],
   "source": [
    "score1 = {\n",
    "    \"Maths\": 40,\n",
    "    \"Physics\": 48,\n",
    "    \"Chemistry\": 42,\n",
    "    \"year\": 2020\n",
    "}\n",
    "score1[\"Name\"] = \"Amit\"\n",
    "print(score1)"
   ]
  },
  {
   "cell_type": "markdown",
   "id": "e41daa56",
   "metadata": {},
   "source": [
    "#### Adding items to Dictionary through .update() method\n",
    "* It will update the dictionary with the items from the given argument. The argument must be a dictionary, or an iterable object with key:value pairs"
   ]
  },
  {
   "cell_type": "code",
   "execution_count": 48,
   "id": "7c0db5b1",
   "metadata": {},
   "outputs": [
    {
     "name": "stdout",
     "output_type": "stream",
     "text": [
      "{'Maths': 40, 'Physics': 48, 'Chemistry': 42, 'year': 2021}\n"
     ]
    }
   ],
   "source": [
    "score1 = {\n",
    "    \"Maths\": 40,\n",
    "    \"Physics\": 48,\n",
    "    \"Chemistry\": 42,\n",
    "    \"year\": 2020\n",
    "}\n",
    "score1.update({\"year\": 2021}) \n",
    "print(score1)"
   ]
  },
  {
   "cell_type": "markdown",
   "id": "a3523f0f",
   "metadata": {},
   "source": [
    "### Removing items from the Dictionary \n",
    "#### .pop() method"
   ]
  },
  {
   "cell_type": "code",
   "execution_count": 49,
   "id": "78b90663",
   "metadata": {},
   "outputs": [
    {
     "name": "stdout",
     "output_type": "stream",
     "text": [
      "{'Maths': 40, 'Physics': 48, 'Chemistry': 42}\n"
     ]
    }
   ],
   "source": [
    "### The pop() method removes the item with the specified key name:\n",
    "score1 = {\n",
    "    \"Maths\": 40,\n",
    "    \"Physics\": 48,\n",
    "    \"Chemistry\": 42,\n",
    "    \"year\": 2020\n",
    "}\n",
    "score1.pop(\"year\")\n",
    "print(score1) "
   ]
  },
  {
   "cell_type": "markdown",
   "id": "279165a0",
   "metadata": {},
   "source": [
    "#### .popitem() method"
   ]
  },
  {
   "cell_type": "markdown",
   "id": "4e4136b3",
   "metadata": {},
   "source": [
    "* The popitem() method removes the last inserted item.\n",
    "**in versions before 3.7, a random item is removed instead**"
   ]
  },
  {
   "cell_type": "code",
   "execution_count": 57,
   "id": "d0b2c508",
   "metadata": {},
   "outputs": [
    {
     "name": "stdout",
     "output_type": "stream",
     "text": [
      "{'Maths': 40, 'Physics': 48, 'Chemistry': 42}\n"
     ]
    }
   ],
   "source": [
    "score1 = {\n",
    "    \"Maths\": 40,\n",
    "    \"Physics\": 48,\n",
    "    \"Chemistry\": 42,\n",
    "    \"year\": 2020\n",
    "}\n",
    "score1.popitem()\n",
    "print(score1) "
   ]
  },
  {
   "cell_type": "markdown",
   "id": "4e52a07e",
   "metadata": {},
   "source": [
    "#### del method: The del keyword removes the item with the specified key name"
   ]
  },
  {
   "cell_type": "markdown",
   "id": "13487c7f",
   "metadata": {},
   "source": [
    "score1 = {\n",
    "    \"Maths\": 40,\n",
    "    \"Physics\": 48,\n",
    "    \"Chemistry\": 42,\n",
    "    \"year\": 2020\n",
    "}\n",
    "del score1[\"year\"]\n",
    "print(score1) "
   ]
  },
  {
   "cell_type": "markdown",
   "id": "7360b41b",
   "metadata": {},
   "source": [
    "#### The del keyword can also be used to delete the dictionary completely:"
   ]
  },
  {
   "cell_type": "code",
   "execution_count": 75,
   "id": "3d6a744e",
   "metadata": {},
   "outputs": [
    {
     "ename": "NameError",
     "evalue": "name 'thisdict' is not defined",
     "output_type": "error",
     "traceback": [
      "\u001b[1;31m---------------------------------------------------------------------------\u001b[0m",
      "\u001b[1;31mNameError\u001b[0m                                 Traceback (most recent call last)",
      "\u001b[1;32m<ipython-input-75-ea90939e6319>\u001b[0m in \u001b[0;36m<module>\u001b[1;34m\u001b[0m\n\u001b[0;32m      5\u001b[0m }\n\u001b[0;32m      6\u001b[0m \u001b[1;32mdel\u001b[0m \u001b[0mthisdict\u001b[0m\u001b[1;33m\u001b[0m\u001b[1;33m\u001b[0m\u001b[0m\n\u001b[1;32m----> 7\u001b[1;33m \u001b[0mprint\u001b[0m\u001b[1;33m(\u001b[0m\u001b[0mthisdict\u001b[0m\u001b[1;33m)\u001b[0m \u001b[1;31m#this will cause an error because \"thisdict\" no longer exists.\u001b[0m\u001b[1;33m\u001b[0m\u001b[1;33m\u001b[0m\u001b[0m\n\u001b[0m",
      "\u001b[1;31mNameError\u001b[0m: name 'thisdict' is not defined"
     ]
    }
   ],
   "source": [
    "thisdict ={\n",
    "  \"brand\": \"Ford\",\n",
    "  \"model\": \"Mustang\",\n",
    "  \"year\": 1964\n",
    "}\n",
    "del thisdict\n",
    "print(thisdict) #this will cause an error because \"thisdict\" no longer exists. "
   ]
  },
  {
   "cell_type": "markdown",
   "id": "797b1b7d",
   "metadata": {},
   "source": [
    "#### .clear() will empty the dictionary"
   ]
  },
  {
   "cell_type": "code",
   "execution_count": 52,
   "id": "5c378ed0",
   "metadata": {},
   "outputs": [
    {
     "name": "stdout",
     "output_type": "stream",
     "text": [
      "{}\n"
     ]
    }
   ],
   "source": [
    "score1 = {\n",
    "    \"Maths\": 40,\n",
    "    \"Physics\": 48,\n",
    "    \"Chemistry\": 42,\n",
    "    \"year\": 2020\n",
    "}\n",
    "score1.clear()\n",
    "print(score1) ### output will be an empty dictionary"
   ]
  },
  {
   "cell_type": "markdown",
   "id": "070b1b3d",
   "metadata": {},
   "source": [
    "### Nested Dictionaries"
   ]
  },
  {
   "cell_type": "code",
   "execution_count": 54,
   "id": "09db08b6",
   "metadata": {},
   "outputs": [
    {
     "name": "stdout",
     "output_type": "stream",
     "text": [
      "{'student1': {'name': 'Anil', 'Age': 17}, 'student2': {'name': 'Ashok', 'Age': 16}, 'student3': {'name': 'Asha', 'Age': 17}}\n",
      "{'name': 'Anil', 'Age': 17}\n"
     ]
    }
   ],
   "source": [
    "batchA = {\n",
    "  \"student1\" : {\n",
    "    \"name\" : \"Anil\",\n",
    "    \"Age\" : 17\n",
    "  },\n",
    "  \"student2\" : {\n",
    "    \"name\" : \"Ashok\",\n",
    "    \"Age\" : 16\n",
    "  },\n",
    "  \"student3\" : {\n",
    "    \"name\" : \"Asha\",\n",
    "    \"Age\" : 17\n",
    "  }\n",
    "} \n",
    "print(batchA)##printing the entire information\n",
    "print(batchA['student1'])## printing a particular information"
   ]
  },
  {
   "cell_type": "markdown",
   "id": "35126049",
   "metadata": {},
   "source": [
    "#### Creating dictionary through dictionaries"
   ]
  },
  {
   "cell_type": "code",
   "execution_count": 22,
   "id": "c07330f8",
   "metadata": {},
   "outputs": [
    {
     "name": "stdout",
     "output_type": "stream",
     "text": [
      "{'name': 'Anil', 'Age': 17}\n",
      "{'student1': {'name': 'Anil', 'Age': 17}, 'student2': {'name': 'Ashok', 'Age': 16}, 'student3': {'name': 'Asha', 'Age': 17}}\n"
     ]
    }
   ],
   "source": [
    "student1 = {\n",
    "    \"name\" : \"Anil\",\n",
    "    \"Age\" : 17\n",
    "}\n",
    "student2 = {\n",
    "    \"name\" : \"Ashok\",\n",
    "    \"Age\" : 16\n",
    "}\n",
    "student3 = {\n",
    "    \"name\" : \"Asha\",\n",
    "    \"Age\" : 17\n",
    "}\n",
    "batchA = {\n",
    "  \"student1\" : student1,\n",
    "  \"student2\" : student2,\n",
    "  \"student3\" : student3\n",
    "} \n",
    "print(student1)\n",
    "print(batchA)"
   ]
  },
  {
   "cell_type": "code",
   "execution_count": 6,
   "id": "54450544",
   "metadata": {},
   "outputs": [
    {
     "name": "stdout",
     "output_type": "stream",
     "text": [
      "{'name': 'Atul Kumar', 'age': 28, 'fav_movies': ['Joker', 'Interstellar'], 'fav_players': ['Virat', 'Sehwag']}\n",
      "{'name': 'Vivekanand Panday', 'age': 27, 'fav_movies': ['Get out', 'Laxmi Bomb'], 'fav_players': ['Rohit Sharma', 'Dhoni']}\n",
      "['Joker', 'Interstellar']\n"
     ]
    }
   ],
   "source": [
    "# Example 2\n",
    "users = {\n",
    "        'user1': {\n",
    "            'name': 'Atul Kumar',\n",
    "            'age' : 28,\n",
    "      'fav_movies': [\"Joker\", \"Interstellar\"],\n",
    "      'fav_players': [\"Virat\",\"Sehwag\"]\n",
    "      },\n",
    "        'user2':{\n",
    "            'name': 'Vivekanand Panday',\n",
    "            'age':27,\n",
    "            'fav_movies':[\"Get out\",\"Laxmi Bomb\"],\n",
    "            'fav_players':[\"Rohit Sharma\",\"Dhoni\"]},\n",
    "    }\n",
    "print(users['user1'])\n",
    "print(users['user2'])\n",
    "print(users['user1']['fav_movies'])"
   ]
  },
  {
   "cell_type": "markdown",
   "id": "ce03ca48",
   "metadata": {},
   "source": [
    "### Adding data to an empty dictionary"
   ]
  },
  {
   "cell_type": "code",
   "execution_count": 7,
   "id": "aee47981",
   "metadata": {},
   "outputs": [
    {
     "name": "stdout",
     "output_type": "stream",
     "text": [
      "{'name': 'Atul', 'age': 28}\n"
     ]
    }
   ],
   "source": [
    "# To add data to empty dictionary\n",
    "user_info2 = {}\n",
    "user_info2['name'] = 'Atul'\n",
    "user_info2['age'] = 28\n",
    "print(user_info2)"
   ]
  },
  {
   "cell_type": "markdown",
   "id": "d875d278",
   "metadata": {},
   "source": [
    "### Some other builtin functions/ features of dictionaries"
   ]
  },
  {
   "cell_type": "code",
   "execution_count": 8,
   "id": "e29fd034",
   "metadata": {},
   "outputs": [
    {
     "name": "stdout",
     "output_type": "stream",
     "text": [
      "{'name': 'unknown', 'age': 'unknown', 'height': 'unknown'}\n"
     ]
    }
   ],
   "source": [
    "# fromkeys\n",
    "d = {'name':'unknown', 'age':'unknown'}\n",
    "d = dict.fromkeys(('name','age','height'),'unknown')\n",
    "print(d)"
   ]
  },
  {
   "cell_type": "code",
   "execution_count": 55,
   "id": "3100c496",
   "metadata": {},
   "outputs": [
    {
     "name": "stdout",
     "output_type": "stream",
     "text": [
      "{'a': 4, 'b': 4, 'c': 4}\n"
     ]
    }
   ],
   "source": [
    "# string will be split with unknown value\n",
    "d = dict.fromkeys(\"abc\",4)\n",
    "print(d)"
   ]
  },
  {
   "cell_type": "code",
   "execution_count": 56,
   "id": "d68860ce",
   "metadata": {},
   "outputs": [
    {
     "name": "stdout",
     "output_type": "stream",
     "text": [
      "{1: 'unknown', 2: 'unknown', 3: 'unknown', 4: 'unknown', 5: 'unknown', 6: 'unknown', 7: 'unknown', 8: 'unknown', 9: 'unknown', 10: 'unknown'}\n",
      "{'name': 'unknown', 'age': 'unknown'}\n"
     ]
    }
   ],
   "source": [
    "# list will be split with unknown value\n",
    "d = dict.fromkeys(range(1,11),'unknown')\n",
    "print(d)\n",
    "d = dict.fromkeys(['name','age'],'unknown')  \n",
    "print(d)"
   ]
  },
  {
   "cell_type": "code",
   "execution_count": 11,
   "id": "d4421a1d",
   "metadata": {},
   "outputs": [
    {
     "name": "stdout",
     "output_type": "stream",
     "text": [
      "None\n"
     ]
    }
   ],
   "source": [
    "# get method identify whether the input is present or not in the dictionary. \n",
    "\n",
    "d = {'name':'unknown', 'age':'unknown'}\n",
    "# print(d['names']) # error\n",
    "print(d.get('names')) # better to write using get()."
   ]
  },
  {
   "cell_type": "code",
   "execution_count": 16,
   "id": "aba625bb",
   "metadata": {},
   "outputs": [
    {
     "name": "stdout",
     "output_type": "stream",
     "text": [
      "Atul\n",
      "None\n"
     ]
    }
   ],
   "source": [
    "# More about get, two same keys in dictionaries.\n",
    "user = {'name':'Atul', 'age':28}\n",
    "print(user.get('name'))\n",
    "print(user.get('names')) # if word is not in the dictionary then get() will give output None"
   ]
  },
  {
   "cell_type": "markdown",
   "id": "d632580c",
   "metadata": {},
   "source": [
    "#### Examples: Updating Dictionary"
   ]
  },
  {
   "cell_type": "code",
   "execution_count": 18,
   "id": "86eba7a7",
   "metadata": {},
   "outputs": [
    {
     "name": "stdout",
     "output_type": "stream",
     "text": [
      "{'name': 'Atul Kumar', 'age': 28, 'fav_movies': ['Joker', 'Interstellar'], 'fav_players': ['Virat', 'Sehwag'], 'state': 'UP', 'Hobbies': ['reading', 'playing', 'coding']}\n"
     ]
    }
   ],
   "source": [
    "# Update dictionary\n",
    "user_info = {\n",
    "    'name': 'Atul Kumar',\n",
    "    'age' : 28,\n",
    "    'fav_movies': [\"Joker\", \"Interstellar\"],\n",
    "    'fav_players': [\"Virat\",\"Sehwag\"]\n",
    "    }\n",
    "more_info = {'name':'Atul Kumar','state':'UP',\n",
    "             'Hobbies':['reading','playing','coding']}\n",
    "user_info.update(more_info)\n",
    "print(user_info)"
   ]
  },
  {
   "cell_type": "markdown",
   "id": "1899a756",
   "metadata": {},
   "source": [
    "#### Using add and delete "
   ]
  },
  {
   "cell_type": "code",
   "execution_count": 19,
   "id": "b89955fd",
   "metadata": {},
   "outputs": [
    {
     "name": "stdout",
     "output_type": "stream",
     "text": [
      "{'name': 'Atul Kumar', 'age': 28, 'fav_movies': ['Joker', 'Interstellar'], 'fav_players': ['Virat', 'Sehwag'], 'fav_song': ['song1', 'song2']}\n"
     ]
    }
   ],
   "source": [
    "user_info = {\n",
    "    'name': 'Atul Kumar',\n",
    "    'age' : 28,\n",
    "    'fav_movies': [\"Joker\", \"Interstellar\"],\n",
    "    'fav_players': [\"Virat\",\"Sehwag\"]\n",
    "    }\n",
    "# To add data\n",
    "user_info['fav_song'] = ['song1', 'song2']\n",
    "print(user_info)\n"
   ]
  },
  {
   "cell_type": "code",
   "execution_count": 20,
   "id": "e6567ca7",
   "metadata": {},
   "outputs": [
    {
     "name": "stdout",
     "output_type": "stream",
     "text": [
      "poped item is ['Virat', 'Sehwag']\n",
      "{'name': 'Atul Kumar', 'age': 28, 'fav_movies': ['Joker', 'Interstellar'], 'fav_song': ['song1', 'song2']}\n"
     ]
    }
   ],
   "source": [
    "# pop method.\n",
    "poped_item = user_info.pop('fav_players')\n",
    "print(f\"poped item is {poped_item}\")\n",
    "print(user_info)"
   ]
  },
  {
   "cell_type": "markdown",
   "id": "a346efab",
   "metadata": {},
   "source": [
    "    Note: Although access to items in a dictionary does not depend on order, Python does guarantee that the order of items in a dictionary is preserved. When displayed, items will appear in the order they were defined, and iteration through the keys will occur in that order as well. Items added to a dictionary are added at the end. If items are deleted, the order of the remaining items is retained.\n",
    "    You can only count on this preservation of order very recently. It was added as a part of the Python language specification in version 3.7. However, it was true as of version 3.6 as well—by happenstance as a result of the implementation but not guaranteed by the language specification.\n"
   ]
  },
  {
   "cell_type": "markdown",
   "id": "a3151fe5",
   "metadata": {},
   "source": [
    "# Sets"
   ]
  },
  {
   "cell_type": "markdown",
   "id": "34494524",
   "metadata": {},
   "source": [
    "Modifying a set in Python\n",
    "\n",
    "Sets are mutable. However, since they are unordered, indexing has no meaning.\n",
    "\n",
    "We cannot access or change an element of a set using indexing or slicing. Set data type does not support it.\n",
    "\n",
    "We can add a single element using the add() method, and multiple elements using the update() method. The update() method can take tuples, lists, strings or other sets as its argument. In all cases, duplicates are avoided."
   ]
  },
  {
   "cell_type": "code",
   "execution_count": null,
   "id": "80b0b71c",
   "metadata": {},
   "outputs": [],
   "source": [
    "# initialize my_set\n",
    "my_set = {1, 3}\n",
    "print(my_set)\n",
    "\n",
    "# my_set[0]\n",
    "# if you uncomment the above line\n",
    "# you will get an error\n",
    "# TypeError: 'set' object does not support indexing\n",
    "\n",
    "# add an element\n",
    "# Output: {1, 2, 3}\n",
    "my_set.add(2)\n",
    "print(my_set)\n",
    "\n",
    "# add multiple elements\n",
    "# Output: {1, 2, 3, 4}\n",
    "my_set.update([2, 3, 4])\n",
    "print(my_set)\n",
    "\n",
    "# add list and set\n",
    "# Output: {1, 2, 3, 4, 5, 6, 8}\n",
    "my_set.update([4, 5], {1, 6, 8})\n",
    "print(my_set)"
   ]
  },
  {
   "cell_type": "markdown",
   "id": "6cc858de",
   "metadata": {},
   "source": [
    "### Removing elements from a set\n",
    "\n",
    "#### A particular item can be removed from a set using the methods discard() and remove().\n",
    "\n",
    "* The only difference between the two is that the discard() function leaves a set unchanged if the element is not present in the set. \n",
    "* On the other hand, the remove() function will raise an error in such a condition (if element is not present in the set)."
   ]
  },
  {
   "cell_type": "code",
   "execution_count": null,
   "id": "4c8ec7e1",
   "metadata": {},
   "outputs": [],
   "source": [
    "# Difference between discard() and remove()\n",
    "\n",
    "# initialize my_set\n",
    "my_set = {1, 3, 4, 5, 6}\n",
    "print(my_set)\n",
    "\n",
    "# discard an element\n",
    "# Output: {1, 3, 5, 6}\n",
    "my_set.discard(4)\n",
    "print(my_set)\n",
    "\n",
    "# remove an element\n",
    "# Output: {1, 3, 5}\n",
    "my_set.remove(6)\n",
    "print(my_set)\n",
    "\n",
    "# discard an element\n",
    "# not present in my_set\n",
    "# Output: {1, 3, 5}\n",
    "my_set.discard(2)\n",
    "print(my_set)\n",
    "\n",
    "# remove an element\n",
    "# not present in my_set\n",
    "# you will get an error.\n",
    "# Output: KeyError\n",
    "\n",
    "my_set.remove(2)"
   ]
  },
  {
   "cell_type": "markdown",
   "id": "d7e2a76d",
   "metadata": {},
   "source": [
    "Similarly, we can remove and return an item using the pop() method.\n",
    "\n",
    "Since set is an unordered data type, there is no way of determining which item will be popped. It is completely arbitrary.\n",
    "\n",
    "We can also remove all the items from a set using the clear() method."
   ]
  },
  {
   "cell_type": "code",
   "execution_count": null,
   "id": "d47561a4",
   "metadata": {},
   "outputs": [],
   "source": [
    "# initialize my_set\n",
    "# Output: set of unique elements\n",
    "my_set = set(\"HelloWorld\")\n",
    "print(my_set)\n",
    "\n",
    "# pop an element\n",
    "# Output: random element\n",
    "print(my_set.pop())\n",
    "\n",
    "# pop another element\n",
    "my_set.pop()\n",
    "print(my_set)\n",
    "\n",
    "# clear my_set\n",
    "# Output: set()\n",
    "my_set.clear()\n",
    "print(my_set)\n",
    "\n",
    "print(my_set)"
   ]
  }
 ],
 "metadata": {
  "kernelspec": {
   "display_name": "Python 3 (ipykernel)",
   "language": "python",
   "name": "python3"
  },
  "language_info": {
   "codemirror_mode": {
    "name": "ipython",
    "version": 3
   },
   "file_extension": ".py",
   "mimetype": "text/x-python",
   "name": "python",
   "nbconvert_exporter": "python",
   "pygments_lexer": "ipython3",
   "version": "3.11.5"
  }
 },
 "nbformat": 4,
 "nbformat_minor": 5
}
