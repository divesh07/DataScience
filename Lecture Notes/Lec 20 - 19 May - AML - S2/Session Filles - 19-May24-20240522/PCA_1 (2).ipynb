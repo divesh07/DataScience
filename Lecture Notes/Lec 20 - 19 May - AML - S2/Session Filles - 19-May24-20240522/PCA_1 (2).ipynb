{
 "cells": [
  {
   "cell_type": "code",
   "execution_count": 1,
   "metadata": {
    "colab": {
     "base_uri": "https://localhost:8080/"
    },
    "id": "r5bpDaBZzswS",
    "outputId": "0b45b012-6a1e-4877-8e51-814526158f31"
   },
   "outputs": [
    {
     "name": "stdout",
     "output_type": "stream",
     "text": [
      "[[ 1  3]\n",
      " [ 3  5]\n",
      " [ 4  7]\n",
      " [ 7  8]\n",
      " [13  8]\n",
      " [ 9 10]\n",
      " [18 11]\n",
      " [20 13]\n",
      " [20 17]\n",
      " [22 18]\n",
      " [25 19]\n",
      " [24 20]\n",
      " [28 26]]\n"
     ]
    }
   ],
   "source": [
    "#Lets make a 2-D synthetic data:\n",
    "import numpy as np\n",
    "X=np.array([[1, 3, 4, 7, 13, 9, 18, 20, 20, 22, 25, 24, 28],[3, 5, 7, 8, 8, 10, 11, 13, 17, 18, 19, 20, 26]])\n",
    "X=X.T\n",
    "print(X)"
   ]
  },
  {
   "cell_type": "code",
   "execution_count": 2,
   "metadata": {
    "colab": {
     "base_uri": "https://localhost:8080/",
     "height": 283
    },
    "id": "CUZpFpXQ0hOc",
    "outputId": "569fd0ec-c86a-46d2-c6df-a549c7d49515"
   },
   "outputs": [
    {
     "data": {
      "text/plain": [
       "<matplotlib.collections.PathCollection at 0x285a28af430>"
      ]
     },
     "execution_count": 2,
     "metadata": {},
     "output_type": "execute_result"
    },
    {
     "data": {
      "image/png": "[encoded data removed]",
      "text/plain": [
       "<Figure size 640x480 with 1 Axes>"
      ]
     },
     "metadata": {},
     "output_type": "display_data"
    }
   ],
   "source": [
    "#Plotting of data:\n",
    "import matplotlib.pyplot as plt\n",
    "plt.scatter(X[:,0],X[:,1])"
   ]
  },
  {
   "cell_type": "code",
   "execution_count": 4,
   "metadata": {
    "id": "FlpWCjVe0weO"
   },
   "outputs": [],
   "source": [
    "#Normalizing the Data:\n",
    "X_meaned = X - np.mean(X , axis = 0)"
   ]
  },
  {
   "cell_type": "code",
   "execution_count": 5,
   "metadata": {
    "colab": {
     "base_uri": "https://localhost:8080/"
    },
    "id": "xYv2AB4-2oRr",
    "outputId": "e167d3b5-d738-4a32-fe99-a5f9b37b81df"
   },
   "outputs": [
    {
     "name": "stdout",
     "output_type": "stream",
     "text": [
      "[[85.24358974 59.22435897]\n",
      " [59.22435897 46.3974359 ]]\n"
     ]
    }
   ],
   "source": [
    "#Calculate Covariance matrix:\n",
    "C=np.cov(X_meaned, rowvar=False)\n",
    "print(C)"
   ]
  },
  {
   "cell_type": "code",
   "execution_count": null,
   "metadata": {
    "colab": {
     "base_uri": "https://localhost:8080/"
    },
    "id": "FDDd4s4227QJ",
    "outputId": "d269be34-17dc-474c-9c6a-3b9167bd4745"
   },
   "outputs": [
    {
     "name": "stdout",
     "output_type": "stream",
     "text": [
      "[128.14852108   3.49250457]\n",
      "[[ 0.80982306 -0.58667419]\n",
      " [ 0.58667419  0.80982306]]\n"
     ]
    }
   ],
   "source": [
    "eval, eig=np.linalg.eig(C)\n",
    "print(eval)\n",
    "print(eig)"
   ]
  },
  {
   "cell_type": "code",
   "execution_count": null,
   "metadata": {
    "id": "RyIv8Stb3PQA"
   },
   "outputs": [],
   "source": [
    "#Sort Eigenvalues and Eigenvectors:\n",
    "#sort the eigenvalues in descending order\n",
    "sorted_index = np.argsort(eval)[::-1]\n",
    "\n",
    "sorted_eigenvalue = eval[sorted_index]\n",
    "#similarly sort the eigenvectors \n",
    "sorted_eigenvectors = eig[:,sorted_index]"
   ]
  },
  {
   "cell_type": "code",
   "execution_count": null,
   "metadata": {
    "id": "10CpTpGP36jk"
   },
   "outputs": [],
   "source": [
    "#Sorting the data:\n",
    "# select the first k eigenvectors, k is desired dimension\n",
    "# of our final reduced data.\n",
    "\n",
    "n_components = 1 #you can select any number of components.\n",
    "eigenvector_subset = sorted_eigenvectors[:,0:n_components]"
   ]
  },
  {
   "cell_type": "code",
   "execution_count": null,
   "metadata": {
    "colab": {
     "base_uri": "https://localhost:8080/"
    },
    "id": "NdzgB-th4CWr",
    "outputId": "f7ef1272-5727-4721-9df2-38b0f2eb266c"
   },
   "outputs": [
    {
     "name": "stdout",
     "output_type": "stream",
     "text": [
      "[[-16.96145558]\n",
      " [-14.16846107]\n",
      " [-12.18528962]\n",
      " [ -9.16914624]\n",
      " [ -4.31020786]\n",
      " [ -6.37615173]\n",
      " [  1.49893002]\n",
      " [  4.29192453]\n",
      " [  6.6386213 ]\n",
      " [  8.84494161]\n",
      " [ 11.86108499]\n",
      " [ 11.63793612]\n",
      " [ 18.39727352]]\n"
     ]
    }
   ],
   "source": [
    "#Transformed the data:\n",
    "#Transform the data \n",
    "X_reduced = np.dot(eigenvector_subset.transpose(),X_meaned.transpose()).transpose()\n",
    "print(X_reduced)\n",
    "XX=(.8099/.5867)*X_reduced"
   ]
  },
  {
   "cell_type": "code",
   "execution_count": null,
   "metadata": {
    "colab": {
     "base_uri": "https://localhost:8080/",
     "height": 283
    },
    "id": "kV9rJXQu5L-4",
    "outputId": "4744be5c-848f-47fb-bd61-3b0c27ee17ca"
   },
   "outputs": [
    {
     "data": {
      "text/plain": [
       "<matplotlib.collections.PathCollection at 0x7fb0384789d0>"
      ]
     },
     "execution_count": 9,
     "metadata": {},
     "output_type": "execute_result"
    },
    {
     "data": {
      "image/png": "[encoded data removed]",
      "text/plain": [
       "<Figure size 432x288 with 1 Axes>"
      ]
     },
     "metadata": {
      "needs_background": "light"
     },
     "output_type": "display_data"
    }
   ],
   "source": [
    "plt.figure\n",
    "plt.scatter(X_reduced, XX)\n",
    "plt.scatter(X_meaned[:,0],X_meaned[:,1])"
   ]
  },
  {
   "cell_type": "code",
   "execution_count": null,
   "metadata": {
    "colab": {
     "base_uri": "https://localhost:8080/"
    },
    "id": "Je5FqMqO9YMd",
    "outputId": "32a56348-c20d-4f8a-d2fc-04ac358d752f"
   },
   "outputs": [
    {
     "name": "stdout",
     "output_type": "stream",
     "text": [
      "[[-16.96145558]\n",
      " [-14.16846107]\n",
      " [-12.18528962]\n",
      " [ -9.16914624]\n",
      " [ -4.31020786]\n",
      " [ -6.37615173]\n",
      " [  1.49893002]\n",
      " [  4.29192453]\n",
      " [  6.6386213 ]\n",
      " [  8.84494161]\n",
      " [ 11.86108499]\n",
      " [ 11.63793612]\n",
      " [ 18.39727352]]\n"
     ]
    }
   ],
   "source": [
    "###Using sklearn:\n",
    "from sklearn.decomposition import PCA\n",
    "pca = PCA(n_components=1)\n",
    "pca.fit(X)\n",
    "Xr = pca.transform(X)\n",
    "print(Xr)\n"
   ]
  }
 ],
 "metadata": {
  "colab": {
   "provenance": []
  },
  "kernelspec": {
   "display_name": "Python 3 (ipykernel)",
   "language": "python",
   "name": "python3"
  },
  "language_info": {
   "codemirror_mode": {
    "name": "ipython",
    "version": 3
   },
   "file_extension": ".py",
   "mimetype": "text/x-python",
   "name": "python",
   "nbconvert_exporter": "python",
   "pygments_lexer": "ipython3",
   "version": "3.10.9"
  }
 },
 "nbformat": 4,
 "nbformat_minor": 1
}
