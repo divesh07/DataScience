{
 "cells": [
  {
   "cell_type": "code",
   "execution_count": 1,
   "metadata": {},
   "outputs": [],
   "source": [
    "#!pip install nltk"
   ]
  },
  {
   "cell_type": "code",
   "execution_count": 2,
   "metadata": {},
   "outputs": [],
   "source": [
    "#!pip install wordcloud"
   ]
  },
  {
   "cell_type": "code",
   "execution_count": 3,
   "metadata": {},
   "outputs": [],
   "source": [
    "#!pip install wordcloud"
   ]
  },
  {
   "cell_type": "code",
   "execution_count": 4,
   "metadata": {
    "scrolled": true
   },
   "outputs": [],
   "source": [
    "#nltk.download()"
   ]
  },
  {
   "cell_type": "code",
   "execution_count": 5,
   "metadata": {},
   "outputs": [],
   "source": [
    "import nltk"
   ]
  },
  {
   "cell_type": "code",
   "execution_count": 6,
   "metadata": {},
   "outputs": [],
   "source": [
    "import pandas as pd,numpy as np\n",
    "import matplotlib.pyplot as plt"
   ]
  },
  {
   "cell_type": "code",
   "execution_count": 7,
   "metadata": {},
   "outputs": [],
   "source": [
    "reviews = pd.read_csv(\"K8 Reviews.csv\")"
   ]
  },
  {
   "cell_type": "code",
   "execution_count": 8,
   "metadata": {},
   "outputs": [
    {
     "data": {
      "text/html": [
       "<div>\n",
       "<style scoped>\n",
       "    .dataframe tbody tr th:only-of-type {\n",
       "        vertical-align: middle;\n",
       "    }\n",
       "\n",
       "    .dataframe tbody tr th {\n",
       "        vertical-align: top;\n",
       "    }\n",
       "\n",
       "    .dataframe thead th {\n",
       "        text-align: right;\n",
       "    }\n",
       "</style>\n",
       "<table border=\"1\" class=\"dataframe\">\n",
       "  <thead>\n",
       "    <tr style=\"text-align: right;\">\n",
       "      <th></th>\n",
       "      <th>sentiment</th>\n",
       "      <th>review</th>\n",
       "    </tr>\n",
       "  </thead>\n",
       "  <tbody>\n",
       "    <tr>\n",
       "      <th>14665</th>\n",
       "      <td>1</td>\n",
       "      <td>Worth your money.</td>\n",
       "    </tr>\n",
       "    <tr>\n",
       "      <th>14666</th>\n",
       "      <td>0</td>\n",
       "      <td>I am facing problem with network connection.Wh...</td>\n",
       "    </tr>\n",
       "    <tr>\n",
       "      <th>14667</th>\n",
       "      <td>1</td>\n",
       "      <td>Nice phone</td>\n",
       "    </tr>\n",
       "    <tr>\n",
       "      <th>14668</th>\n",
       "      <td>0</td>\n",
       "      <td>Not so good.</td>\n",
       "    </tr>\n",
       "    <tr>\n",
       "      <th>14669</th>\n",
       "      <td>0</td>\n",
       "      <td>Very poour battery parformance and prosecer</td>\n",
       "    </tr>\n",
       "    <tr>\n",
       "      <th>14670</th>\n",
       "      <td>1</td>\n",
       "      <td>I really like the phone, Everything is working...</td>\n",
       "    </tr>\n",
       "    <tr>\n",
       "      <th>14671</th>\n",
       "      <td>1</td>\n",
       "      <td>The Lenovo K8 Note is awesome. It takes best p...</td>\n",
       "    </tr>\n",
       "    <tr>\n",
       "      <th>14672</th>\n",
       "      <td>1</td>\n",
       "      <td>Awesome Gaget.. @ this price</td>\n",
       "    </tr>\n",
       "    <tr>\n",
       "      <th>14673</th>\n",
       "      <td>1</td>\n",
       "      <td>This phone is nice processing will be successf...</td>\n",
       "    </tr>\n",
       "    <tr>\n",
       "      <th>14674</th>\n",
       "      <td>1</td>\n",
       "      <td>Good product but the pakeging was not enough.</td>\n",
       "    </tr>\n",
       "  </tbody>\n",
       "</table>\n",
       "</div>"
      ],
      "text/plain": [
       "       sentiment                                             review\n",
       "14665          1                                  Worth your money.\n",
       "14666          0  I am facing problem with network connection.Wh...\n",
       "14667          1                                         Nice phone\n",
       "14668          0                                       Not so good.\n",
       "14669          0        Very poour battery parformance and prosecer\n",
       "14670          1  I really like the phone, Everything is working...\n",
       "14671          1  The Lenovo K8 Note is awesome. It takes best p...\n",
       "14672          1                       Awesome Gaget.. @ this price\n",
       "14673          1  This phone is nice processing will be successf...\n",
       "14674          1      Good product but the pakeging was not enough."
      ]
     },
     "execution_count": 8,
     "metadata": {},
     "output_type": "execute_result"
    }
   ],
   "source": [
    "reviews.tail(10)"
   ]
  },
  {
   "cell_type": "markdown",
   "metadata": {},
   "source": [
    "This dataset is scrapped from amazon about Lenevo K8 mobile phones.While the users gave the reviews, they also give the ratings\n",
    "- Ratings 1,2,3 -> negative sentiment has a value 0 in the sentiment column\n",
    "- Ratings 4,5 -> positive sentiment has a value 1 in the sentiment column"
   ]
  },
  {
   "cell_type": "code",
   "execution_count": 9,
   "metadata": {},
   "outputs": [
    {
     "data": {
      "text/plain": [
       "0    7712\n",
       "1    6963\n",
       "Name: sentiment, dtype: int64"
      ]
     },
     "execution_count": 9,
     "metadata": {},
     "output_type": "execute_result"
    }
   ],
   "source": [
    "reviews.sentiment.value_counts()"
   ]
  },
  {
   "cell_type": "code",
   "execution_count": 10,
   "metadata": {},
   "outputs": [
    {
     "data": {
      "text/plain": [
       "0    0.52552\n",
       "1    0.47448\n",
       "Name: sentiment, dtype: float64"
      ]
     },
     "execution_count": 10,
     "metadata": {},
     "output_type": "execute_result"
    }
   ],
   "source": [
    "reviews.sentiment.value_counts(normalize = True)"
   ]
  },
  {
   "cell_type": "code",
   "execution_count": 11,
   "metadata": {},
   "outputs": [
    {
     "data": {
      "text/plain": [
       "(14675, 2)"
      ]
     },
     "execution_count": 11,
     "metadata": {},
     "output_type": "execute_result"
    }
   ],
   "source": [
    "reviews.shape"
   ]
  },
  {
   "cell_type": "code",
   "execution_count": 12,
   "metadata": {},
   "outputs": [
    {
     "data": {
      "text/plain": [
       "array(['Good but need updates and improvements',\n",
       "       \"Worst mobile i have bought ever, Battery is draining like hell, backup is only 6 to 7 hours with internet uses, even if I put mobile idle its getting discharged.This is biggest lie from Amazon & Lenove which is not at all expected, they are making full by saying that battery is 4000MAH & booster charger is fake, it takes at least 4 to 5 hours to be fully charged.Don't know how Lenovo will survive by making full of us.Please don;t go for this else you will regret like me.\",\n",
       "       'when I will get my 10% cash back.... its already 15 January..',\n",
       "       ..., 'Awesome Gaget.. @ this price',\n",
       "       'This phone is nice processing will be successful but dual camera is not be successfully in dual mod',\n",
       "       'Good product but the pakeging was not enough.'], dtype=object)"
      ]
     },
     "execution_count": 12,
     "metadata": {},
     "output_type": "execute_result"
    }
   ],
   "source": [
    "reviews.review.values"
   ]
  },
  {
   "cell_type": "code",
   "execution_count": 13,
   "metadata": {},
   "outputs": [
    {
     "data": {
      "text/plain": [
       "['Good product', ' bad', ' ca', 'me', 'r', 'a']"
      ]
     },
     "execution_count": 13,
     "metadata": {},
     "output_type": "execute_result"
    }
   ],
   "source": [
    "sentence = \"Good product, bad, ca,me,r,a\"\n",
    "sentence.split(\",\")"
   ]
  },
  {
   "cell_type": "code",
   "execution_count": 14,
   "metadata": {},
   "outputs": [
    {
     "data": {
      "text/plain": [
       "'good product=bad=camera'"
      ]
     },
     "execution_count": 14,
     "metadata": {},
     "output_type": "execute_result"
    }
   ],
   "source": [
    "listwords = [\"good product\",'bad','camera']\n",
    "\"=\".join(listwords)"
   ]
  },
  {
   "cell_type": "code",
   "execution_count": 15,
   "metadata": {},
   "outputs": [
    {
     "name": "stdout",
     "output_type": "stream",
     "text": [
      "phone is good... PHONE IS GOOD...\n"
     ]
    }
   ],
   "source": [
    "sentence = \"PHOnE is GooD...\"\n",
    "print(sentence.lower(),sentence.upper())"
   ]
  },
  {
   "cell_type": "code",
   "execution_count": null,
   "metadata": {},
   "outputs": [],
   "source": []
  },
  {
   "cell_type": "code",
   "execution_count": null,
   "metadata": {},
   "outputs": [],
   "source": []
  },
  {
   "cell_type": "code",
   "execution_count": 16,
   "metadata": {},
   "outputs": [],
   "source": [
    "import re"
   ]
  },
  {
   "cell_type": "code",
   "execution_count": 17,
   "metadata": {
    "scrolled": false
   },
   "outputs": [],
   "source": [
    "allreviews = \" \".join(reviews.review.values)\n",
    "#allreviews = \" --------$$$----- \".join(reviews.review.values)\n",
    "allreviews = allreviews.lower()\n",
    "allreviews = re.sub(\"\\.\",\". \",allreviews)\n",
    "#allreviews"
   ]
  },
  {
   "cell_type": "code",
   "execution_count": 18,
   "metadata": {},
   "outputs": [],
   "source": [
    "#all_terms = allreviews.split(\" \")\n",
    "from nltk.tokenize import word_tokenize\n",
    "all_terms = word_tokenize(allreviews)\n",
    "fdist = {}\n",
    "for word in all_terms:\n",
    "    #fdist[word] = fdist[word] + 1\n",
    "    fdist[word] = fdist.get(word,0) + 1"
   ]
  },
  {
   "cell_type": "code",
   "execution_count": 19,
   "metadata": {},
   "outputs": [
    {
     "data": {
      "text/plain": [
       "349371"
      ]
     },
     "execution_count": 19,
     "metadata": {},
     "output_type": "execute_result"
    }
   ],
   "source": [
    "len(all_terms)"
   ]
  },
  {
   "cell_type": "code",
   "execution_count": 20,
   "metadata": {},
   "outputs": [
    {
     "data": {
      "text/plain": [
       "13693"
      ]
     },
     "execution_count": 20,
     "metadata": {},
     "output_type": "execute_result"
    }
   ],
   "source": [
    "len(set(all_terms))"
   ]
  },
  {
   "cell_type": "code",
   "execution_count": 21,
   "metadata": {},
   "outputs": [],
   "source": [
    "singlewordlist =[]\n",
    "for key in fdist.keys():\n",
    "    if fdist[key]==1:\n",
    "        singlewordlist.append(key)    "
   ]
  },
  {
   "cell_type": "code",
   "execution_count": 22,
   "metadata": {},
   "outputs": [
    {
     "data": {
      "text/plain": [
       "8227"
      ]
     },
     "execution_count": 22,
     "metadata": {},
     "output_type": "execute_result"
    }
   ],
   "source": [
    "len(singlewordlist)"
   ]
  },
  {
   "cell_type": "code",
   "execution_count": 23,
   "metadata": {},
   "outputs": [
    {
     "name": "stdout",
     "output_type": "stream",
     "text": [
      "['everthey', 'buyi', 'disappointedpoor', 'batterypoor', 'camerawaste', 'allot', 'worn', 'ahmedabad', 'hdpf', '9998.', 'galery', 'speakernormal', 'odinary', 'any1', 'bouth', 'speekars', '😒😒☹️', 'oveheated', 'bestin', 'pricefull', 'passa', 'wasole', 'bcoms', 'loosed', 'bigggggggest', 'bakwaaaasssdo', 'lowbattery', 'lowpls', 'rm', 'featurs', 'phone😍😍', 'breakups', 'vcf', 'werorst', '10000.', 'cleare', 'optionthirdly', '10999/-fourthly', 'nerve', 'fifthly', 'ensure', 'sleeping', 'cameradesignperformance', 'wrest', '☺️🙂', 'sleekness', 'controler', 'defuces', 'allahabad', 'raping', 'poorwords', 'sep-17', '25dec17', 'effecting', 'popularity', 'productcamera', 'greatsound', 'greatover', '😪', 'punching', 'sofwares', 'prpperly', 'detachable', 'xt1902-3', 'm2cb2', 'backlogs1', '3100', 'steadier', 'supplementary', 'grasp', 'sofa', 'districts', 'adjusted', 'bodru', '4000mhz', 'hrsit', 'deduced', 'lookswise', 'kharida', 'usme', 'ly', 'layla', 'inka', 'khelke', 'kenya', 'kaharidna', 'youif', 'holic', 'selfiein', 'parfomce', 'instructions', 'rasidul', 'kaji', 'aftwr', 'goodbelow', 'storagesat', 'roam', 'idiots', 'traps', 'dubble', 'opetion', 'flactuating', 'pc/laptop', 'supurb', 'operators', 'threat', 'vain', 'rethink', 'boots', 'phoen', 'meagain', 'peiceand', 'requirementsgood', 'speedgood', 'hangingloved', 'bhangar', 'demerits', 'brokenable', 'competeting', 'gimmickcamera', 'pricebut', 'everor', 'everbattery', '100-10never', 'castthere', 'disappointingly', 'mr', 'saleem', 'posts', 'disk', 'stylist', 'friendhe', 'requirementsbuta', 'skinned', 'fullotherwise', '40-45', 'predecessors', '08/10/2017', 'consulting', 'mapusa', 'dimage', 'panjim', 'dayi', 'g3', 's3', '628g', 'escalate', 'tricked', 'slowmo', 'wakes', 'doulby', 'experiencetotally', 'adagond', 'gap', 'purcsaesd', 'lodged', 'afterwords', 'truble', 'repaired👎👎', 'chargingcharging', 'prospicture', 'qualitydolby', 'atmosbatteryprocessormusic', 'keystock', 'androidfast', 'chargecons', 'camerano', 'uiheating', 'goodness', 'nvr', 'turnoff', 'relationship', 'spectaluar', 'puts', 'haven', 'previledge', 'begining', 'sep.', 'reinstall', 'fck', 'bestest', 'chargre', 'illuminate', 'illuminating', 'strains', '85', '12-14', 'return/exchange', 'misguided', 'modification', 'unacceptably', 'better1', 'mins2', 'freezes3', 'latch', 'alerts4', 'trucaller', 'wellthis', 'born', 'tecording', 'natura', 'qualitywhen', 'looting', 'flas', 'kahi', 'bahar', '2se', 'ghanta', 'photographer', '-switch', 'afford', 'batterylow', 'takes1and', 'chargewrost', 'monthsafter', 'surethe', '4overall', 'parformence', 'y1', 'san', 'andreas', 'nova', 'pump', 'musoc', 'supporting2', 'horhe', ',dollby', 'krdlo', 'performancebutlow', 'camed', 'setsfid', 'badit', 'magzineee', 'amazome', 'dis-', 'appointing', 'seeking', 'utni', 'replacement/return', 'wasul', 'alternates', 'beautifulbranded', 'heats-up', 'cableservice', 'cabledont', 'bettory', 'demanding', 'goodfor', '2cheap', 'phonewaste', 'smooththanks', 'relay', 'mths', '❤️😄😍', 'blindfolded', 'helios', 'begin', 'k8performance', 'closest', 'rival-', 'antiscratchscratch', 'downbad', 'glassscreen', 'clocked', 'roms', 'booklet', 'arebeautiful_', 'needfull', 'repacked', 'valid', 'dec2018', '27april2018', 'tacky', 'response2', 'set/earphone', 'alternatives', 'synergy', 'problemkeyboard', 'data/internet', 'absurd', 'problemgood', 'workinv', 'repenting', 'phonegreat', 'bugging', 'ilove', 'apn', 'prepare', 'rectifies', 'nero', 'suoerrr', 'gamingbarry', 'superboverall', 'goodthanks', 'games3', 'gaming4', 'plastic6', 'space7', 'effectsnice', 'costnew', 'lookbut', 'declare', 'essentially', 'liar', 'arrived2-', 'issue,3-', 'fastly5-', 'lence', 'coverd', 'hoid', 'download/', 'though:1.', 'ramthe', 'employees', 'worstphone', 'shamelenovo', 'configruation', 'somethings', 'utilizing', 'cyanogenmod', '51', 'recovered', 'batteryis', 'cons:1', 'expectedp', '-my', 'neighbour', 'attacheing', \"phone's1\", 'playings', 'foulty', 'baking', 'phonekoi', 'pura', 'akdom', 'instumet', 'deley', 'hotport', 'transfers', 'vice-versa', 'corrective', 'withdraw', 'upadatons', '8000rs', 'chargerthe', '7to', 'impore', 'prdt', 'standardsvery', 'wothy', '4500', 'lazy', 'flicking', 'cured', 'replicate', \"'without\", 'competiror', \"'dolby\", \"'null\", 'trader', 'dated', '05/09/2017', 'bckup', 'tlng', 'tommorow', 'unables', 'ar', 'robbed', 'stripped', 'dumping', 'projected', 'problemslet', 'reviewthnks', 'regrettable', 'wholeso', 'fastits', 'chargeweight', '20-22', 'a57', '/moto', 'recipient', 'kho', 'dijiye', 'infrad', 'stablity', 'prospects', '😍but', 'mediatek😭', '122', 'photoholics', 'resonde', 'phone/charger', 'qualiy', 'naught', '20/09/2017', 'expires', '08/june/2018', 'worthy-', \"tv's-\", 'available-', 'parallel', 'wifi-', 'minute-', 'pathetic-', 'amend', 'keen', 'jio4gvoice', 'smoothest', 'updating/downloading', 'bo', 'a2', '-25', 'lt', 'eighteen', 'rigid', 'lot😂😂', 'writingit', '26th', 'eight', 'qualitysupereb', 'matically', 'zeo', 'work100℅charging', '5hoursturbo', 'workwent', '♥️', 'utilization', '14999.', 'dislikeenhanced', 'lenovowhich', 'builth', 'annoyingoverall', 'makan', 'kcharger', 'phonecast', 'tweak', 'ummaah', 'bolby', 'ohms', 'sennheiser', '300', 'minimises', 'twice/thrice', 'complementary', 'soyou', 'resolving', 'began', 'rendered', 'sucksand', 'picturesi', 'itemnow', 'tenor', 'glet', 'companyanyways', 'sucksthe', 'videoand', 'updatetheir', 'tolerated', 'cheak', 'whatsup', 'scary', 'rs13999', 'obvious', 'staggering', 'execute', 'upgradation', 'vigorous', 'edits', 'feeld', 'excelant', 'veraions', 'elapses', 'productsome', 'televisions', 'ssue', 'allure', 'router', 'tablets', '11650.', 'tale', 'trasparent', 'lighted', 'surf', 'fans', 'pointed', 'damp', 'cloth', 'disappointedcharging', 'mire', 'earplug', 'greetings', 'dhaka', 'thankssriram', 'bedluk', 'exicited', 'weapon', 'worthfull', 'dischargingno', 'gorla', 'problem1-bettry', '2-back', 'funtation', 'velly', '6-', 'assuming', 'smaller', 'slighly', ',cemara', 'perparmence', 'letv2', 'interface4', 'printer', 'campared', 'bower', 'lemovo', 'xxxxxrupes', 'badthe', 'scrathed', 'scrathes', 'eill', 'appearbon', 'pocketvery', 'pooormain', 'proplem', 'prey', 'avglook', 'okthe', 'confusebattery', 'plusfront', 'avarge', 'miter', 'havent', 'fase', 'mirring', 'r/sir', 'lip', '2v', 'moneyafter', 'pixelsi', 'kow', 'baf', 'vth', 'singtone', '13499', 'exceptional', 'nuisance', 'idling', 'phonemoney', 'workingworst', 'desire', '816g', 'awake', '14.', '15.', 'customizations', 'comely', 'wonderfull', '4000mahcons', 'nearest', 'letter', 'settled', 'real-life', 'particularly', 'adieu', '0ct2017', 'pinned', 'reae', 'spped', '13-14', 'mnt', 'deurability', '481', 'ppi', '😒😒', 'capacitive', 'popup', 'heatsup', 'restricting', 'disturbs', 'routine', 'highno', 'on-off', 'featurewe', 'buzzing', '9999', 'powwr', 'lounched', '6months', 'lounching', 'follows:1', 'scene', '7:00', 'whatsapp/fb', 'hangouts', 'negativity', 'otps', 'journalist', 'problemssensor', 'fastapp', 'hangedscreen', 'callin', 'manageri', 'childish', '4g2', 'ram/battery', 'managementuser', 'awesomes', 'utterly', 'specify', 'mobile:1.', 'pocket-friendly2', 'isn', 'krdi', 'camera-poor', 'maintioned', '5m', 'mobilepeople', 'ironing', 'dress', 'butterfly', 'reare', 'competent', 'tacke', 'futile', 'biswajit', 'adhikary', 'paas', 'reguest', 'poucha', 'yesi', 'downwhile', 'swiftness', 'fulled', 'vivid', 'dable', 'dikhavati', 'moneyi', 'returnablepls', 'reminders', 'snapdeal', 'comapints', 'perfamenc', 'struggled', 'feeble', 'pcb', 'r.', 'denniscnlew', 'sarvis', 'mano', 'saman', 'mgao', 'flipcard', '15mints', 'electric', 'idiot', 'huwai', '12,999.', 'bhokeh', 'degrades', 'amused', 'excell', 'immediately/quickly', 'mobile2', 'note3', 'guard5', 'effect6', 'side7', '65-75', 'charger8', '90min', '90-100', 'understatement', 'thin', '1s', 'doessnot', 'genuinely', 'resolutions', 'unwatchable', 'activates', 'indefinite', '3/4th', 'be-aware', 'remotes', 'expetions', '14khave', 'moon', 'month1', 'perc', 'mange', 'goof', 'far😀😀😀', 'uptomark', '0-90', 'lowered', 'gi8', 'lately', '3products', 'uninserted', 'fasterheadphones', 'outstandingok', 'dectection', 'problembookeh', 'greatfantastic', 'looksamazing', 'selfieshonest', 'instilling', 'gomora', 'az', 'deceived', 'august,2017', 'masha', 'allah', '~30', 'stared', 'smarttest', 'game😥', 'reactifi', 'grocery', 'goodvalue', '51gbheating', 'elongated', 'eska', 'spouse', 'hisab', 'bateery', 'oz', 'bareilly', 'region', 'stillwaiting', 'desplay', 'lappy', 'kehi', 'mele', 'ga.', 'jaga', 'peppar', 'pis', 'mujhko', 'parfect', 'surley', \"'cast\", 'non-functional', 'hight', 'displaynice', 'performanceaverage', 'ghatu', 'beset', '22-02-2018.', 'jumbled', 'workingeven', 'compelled', 'nly', 'rite', 'quire', 'andi', 'cahrges', '22-aug-2017', 'catcher', 'either2', 'grainy3', 'either4', 'better5', 'far4', 'dimmer', 'display6', 'fine7', 'rangeverdict', 'jumping', '25-aug-2017', 'patience', 'shot3', 'issue5', 'dataverdict', 'believed', '8999', 'esasyly', 'turn-offs', 'saturation', 'one+6', 'much👍👍', 'hangging', 'apeksha', 'usingbphone', 'chagre', 'updates3', 'installation4', 'responsivesmooth', 'awesome6', 'atmos7', 'gimmick,2', 'camera,3', 'performance,4', 'weirdly', 'lookkiller', 'camerakiller', '360°', 'atmosawesome', 'badiyaa', 'aachi', 'karbaya', 'ply', 'kyu', 'casback', 'mony', 'ablebal', 'acoumnt', '3000mh', 'overaal', '👍5', 'screenno', 'recorderdump', 'intake', '2pcs', 'quatlity', 'irla', 'vile', 'parle', '15-days', 'reoccurred', 'sick', 'clipboard', '190gram', 'portals', 'kit', 'outgo', 'misfired', 'specifically', 'desires', 'elderly', 'anroid', 'stones', 'misssing', 'notk8', 'buttry', 'reciving', 'it,3', 'caputring', 'measuring', 'only6', 'only7', 'mobi8', 'good9', ',64', 'romin', 'effectively', 'woww', 'recless', 'wasteage', 'worser', 'looted', 're-boot', 'resulted', 'wisly', 'heartly', 'malad', 'speed/power', 'audiophile', 'enthusiasts', 'fasst', 'issuehow', 'avrg', 'fasti', 'playiy', 'katha', 'hbe', 'kono', 'proportion', 'bnd', 'chalna', ',or', 'sbse', 'ander', 'bich', 'kin', 'tkm', 'kru', 'mnth', 'dwn', 'mirroring/cat', 'touch/assistive', 'dotted', '💰💰', 'trun', 'smartv', 'venomous', 'design4', 'speakers5', 'resource', 'easily7', 'skins', 'costo', 'apdated', 'verson', 'additions', 'bactory', 'calangute', 'enoughspeaker', 'unused', 'problems,1', 'awww', 'dud', 'software-', 'runned', 'review-', 'update-', 'b4', '12k+', 'etcoverall', 'universe', 'bhout', 'shandaar', 'grms', '3month', 'backup2', 'features3', 'fast/turbo', 'unplugged', '8am', 'replug', '5pm', 'fab', 'perfm', '30-60mins', 'jiffy', 'linked', 'purchaseed', 'deliverd', 'timecons', 'airtel4g', 'missig', 'restarting/aeroplane', 'alreadynever', 'honor6charging', 'focusexpected', 'herculean', 'responses', 'prudent', 'warn', 'fraternity', 'rajiv', 'pathakrajivpathak27', 'frequest', 'saviour', 'asseseris', 'lov', 'recording,3', 'placement', 'chutia', 'consulted', 'consult', 'qulaity', 'strucks', 'lagy', 'cracking', 'optimise', 'betteryy', '10hr', 'trustworthy', 'versatile', 'baecap', 'jat', 'turo', 'netbattery', 'chargingphone', 'ironboxdata', 'satisfiedtouch', 'daybefore', 'serous', 'travellers', '6/10design', '8/0performance', '7/10overall', 'orrio', 'ext', 'erase', 'threads', \"dont't\", 'redirecting', 'orders', 'rocket', 'kommerce', 'llp', 'hipper', 'desply', 'vlt', '3and', 'minets', 'problembaiterry', 'fastfront', 'sligjtly', 'propdrly', 'state2', 'timer', 'afternoon', 'worst2', 'heats4', 'condition5', 'shades', 'onevery', 'batterystock', 'androidvery', 'smoothcons', 'speakers-', 'quality-', 'rr', 'poor-', 'support2', 'used4', 'flesh', 'light5', 'lke', 'that6', 'good7', 'one8', 'strep', 'average9', 'note10', '9i', 'digit', 'pops', 'knw', 'fireball', 'blame', '5300mah', 'sheet', 'geting', 'getng', 'blashed', 'supose', 'flimsy', 'water/moisture', 'qulality', 'dragging', 'discrb', 'quality,2', 'list5', 'unknown', 'ambition', 'list7', 'fast8', 'goodin', 'thissrinivas', 'kopilla', 'goodaccessing', 'quickoverall', '👌👌👌👍', 'photoshopped', 'bliss', 'dhasu', 'cashmemo', 'laggings', 'longtime', 'quikly', '11months', 'holds', 'tasking2', 'excellent3', 'night4', 'good5', 'charging6', 'goos', 'profusely', '4-10', 'bam', '-_-again', 'rushed', 'wallpapers', 'sessions', 'satisfaied', 'honi', 'chahiye', 'heee', 'bhtar', 'rhegayeh', 'dûñïâ', 'lobhut', 'haii', 'sepaking', 'supernot', 'capturedm', 'rangeone', 'sunshine', 'transportation', 'dattry', 'pak', 'ohhh', 'deseises', 'contiue', 'retailer', 'pronlem', 'incredibly', 'infuriating', 'mff', 'excellentsound', 'badbluetooth', 'updat', 'haging', 'suppoted', 'pacup', 'spcl', 'lookonly', '2,000-3,000', 'cab', 'aman', 'mistake6', 'terriblly', 'expectations9', 'wr', 'worts', 'backcharger', 'reutrn', 'v5plus', 'applocker', 'crashdepth', 'temporary', 'inefficient', '+3', 'vaio', 'boosts', 'june/july', 'fulfil', 'sounf', '2mnth', 'sock', 'nikala', 'haur', 'mahanamazon', 'chaiye', 'regressed', 'casting/mirroring', 'unfriendly', 'alienating', 'markets', 'caution', 'okpros-', 'poordr', 'ovearl', 'availablespeakers', 'goodcamrea', '13mg', 'managing', 'warrently', 'crudely', 'dialling', 'pads', 'maintenance', 'bless', 'consumers', 'showcase', 'researches', '3hours', '20hours', 'spared', 'discourage', '625.', 'halosmart', 'wash', 'devicefound', 'drizzle', 'cheatedprocessor', 'vashul', 'haha', 'volcano', 'sofware', 'interferes', '5star1', 'gaming3', 'selifie', 'fvvg', 'prafomens', 'unbeatabledolby', 'amazingcompactworth', 'moneybest', 'battery,4000', 'bina', 'kiye', 'phonenice', 'productfullfill', 'superrrr', 'shameless', '2016.', 'persisting', 'charger3', '😒😏', 'alpha', 'non-', 'jan2018', 'dueto', '-this', '-hotspot', 'success', 'card-', 'fade', 'riajiaconsultants', 'proc', 'widgets', 'promoted', 'fooled', 'blocking', 'mentionedhangs', 'lotheatingperformance', '180gm', 'okayworking', '5bettry', '😕', 'usally', 'abnormal', 'ordinay', '😒😒😒😢😢😢😢', 'quicklyi', 'motog5', 'motog2', 'nooo', 'photoes', 'bougt', 'note41', 'torch/', 'brothers', 'arms', 'openly', 'admitting', 'deemed', 'appx', '700mb', 'whithin', 'stars2', 'mah3', 'moves', 'faked', 'matched', 'lete', 'riingtone', 'ker', 'leye', 'bhoir', 'suppppeeeerrr', 'awesomejust', 'issueotherwise', 'rumors', 'certification', 'excellentbecoming', '4gmobile', 'operations1', '10mins2', 'minstoo', 'contenders', 'tops', '30fps', 'aggressive', 'ranger', 'gudslowly', 'futurecons', 'oval', 'duak', 'odered', 'welll', 'yeaahhh', '4000mgz', 'is3', 'slotsgood', 'ameezing', 'wàs', 'il', 'dullbattery', 'foolit', 'numberit', 'temperaturei', 'utility', 'conversation', 'grasping', '😢😢', 'deny', 'achcha', 'avrage', 'mobilesimply', 'resolution2', 'hands-free', 'subpar', 'featuresfantabulous', '☺️☺️☺️', 'functionalitysatisfied', 'unoperative', 'bujet', 'reviwing', 'adays', 'beaware', '30k', 'insisted', 'duriation', 'boardthat', 'overthink', 'சிறப்பான', 'ஒன்று', 'என்று', 'சொல்ல', 'இயலாது', 'ஏற்றுக்கொல்லலாம்😂😚', 'adverdised', 'hilights', 'goodpros', 'lovin', 'backup3', 'okat', 'funniest', 'phone😂😂', 'recomand', 'documents', 'fastexpectation', 'olmost', 'greatest', 'methodeven', 'sttill', 'amazingbecause', 'sound-', 'okayoverall', 'enforced', '12-15', '5days', 'handseti', 'backupdue', 'stutters', 'grippy', 'ever👍👍👍👍👍😍😍😍', 'irresistible', 'device1', 'signal4', 'bad5', 'crowd6', 'quicklyplease', 'थोड़ा', 'महँगा', '।।।।।।।', 'stood', 'fabules', 'suuport', 'servies', 'problem🔥', 'inner', 'fischer', 'bast', 'okkk', 'rely', 'givers', 'lier', 'wellcamera', 'porafamens', 'problemremaining', 'hange', 'functionally', 'timei', 'diasapointed', 'prashant', 'gus', 'apk', 'helpline', 'iphone6', 'bosted', 'spider', 'survived', 'collecting', 'raced', 'semmaya', 'iruku', 'oklittle', 'thisbut', 'paring', 'music/voice', 'unresolved', 'mamu', 'opinions', 'presist', '1-while', 'tempreture', 'grow', '2battery', 'drail', 'time3-', 'mobile4-', 'update1-', 'good2-', 'perfermance', 'good3-', 'good4-', 'device5-', 'properly6-', 'good7-', '8-', 'why9', '84', '10-', 'methis', 'productnotification', 'autometically', 'laps', 'lookpros', 'backupnice', 'resolutionprotective', 'screenmetal', 'designfinger', 'unlockcons', 'issuesblue', 'compatibility', 'poorlow', 'cameracould', 'effectsi', 'urge', 'pros4gb', 'flashconsdifficult', 'screenbrightness', 'lessbluetooth', 'onsome', 'grabbing', 'feast', 'loadedvalue', 'moneylight', '9months', 'emerging', 'leneovo', 'yureka', 'lolheating', 'browsingbattery', 'assembled', 'carelessness', 'yeari', 'hourand', 'lwnovo', 'proofrather', 'backupfront', 'awesomeenough', 'devicetouch', 'awesomefingerprint', 'charmfree', 'coverseparate', 'cardandroid', 'sooncons', 'jio4gphone', 'sometimesfacebook', 'crashesdolby', 'usedual', 'receieved', 'sceptical', 'thisfirstly', 'satishfied', 'watevr', 'cameraheatingbattery', '29/08/17', '13999/', '1000/', '2000/', 'wapas', 'isey', 'vorest', 'promoting', 'tempting', 'feature-rich', 'makkhan', '10-15k', 'quicklyfront', 'cals', 'painfull', 'product0', 'workingotg', 'culprit', '512', 'brandambassador', 'sincei', '32gb/3gb', 'contrasting', 'now,10', 'betterment', '45-50', 'rear,13+5', 'reveiwers', 'kuddos', 's-hope', '20daysfacing', '10sept', 'mpixel', 'goodcarmera', 'pricedont', 'disappionted', 'supet', 'googel', 'resistered', 'flipkarts', 'samasung', 'plas', 'poorand', 'willbe', 'drilled', 'superstar', 'fastlyi', '😊😊easy', 'rectification', 'olte', 'gudbuti', 'ssatisfied', 'ft.', 'brokencustomer', 'jabalpur', 'deposited', '4200/-', '26/09/2017', 'problempoor', 'packagingnot', 'dhale', 'sifahat', 'deviceit', 'backi', '9644051287', '9hrs', 'icing', 'markand', 'liat', 'gamesapart', 'idiotic', 'ither', 'operationsbttry', '2-2:30', '😢😢😢😢', 'patent', 'persisted', 'headpones', 'on5', 'lenovobrilliant', 'speedbattery', 'algorithm', 're-command', '5500.', 'pathatic', 'approximate', 'exterior', 'phonethankyou', 'drainages', '15daysi', 'warmerbut', '15minn', '14-16hrs', 'boxgood', 'transfered', 'gio', 'exillent', 'tubro', 'refresh', 'quicklygets', 'relying', '45c', 'priceeverything', 'mobilelowest', 'future4+642', '3ghz4000mhz', 'selects', 'forms', 'midium', 'rural', 'resultspoor', 'ang', 'bez', 'materials', 'boxwhat', 'possibleother', 'replay', 'gm', '200', 'tek', 'bharathi', '48hrs', 'meமிகவும்', 'ஆடம்பரம்', 'இல்லாத', 'பலம்', 'பொருந்திய', 'திரண்பேசி_smart', 'phns', 'trace', 'borders', 'inlfate', 'goodvery', 'soundsrear', 'g8', 'weeksound', 'goodmusic', 'goodfingerprint', 'battery-', 'negativescamera', 'lightcamera', 'tow', 'servicesonline', 'sellers', 'goodtake', 'mastercardreally', '😡😡🤬🤬', 'selfie-beautificationall', 'leatel', 'yo', 'dosto', 'hamesa', 'kharaab', 'kharidne', 'paaoge', 'fasata', 'karoge', 'jaagta', 'bolega', 'aapse', 'rupaye', 'aapka', 'interrupts', 'upgradefront', 'overheating-', 'bothers', '/poor', 'c7', 'routed', 'bakwasssss', 'declining', 'problemcharging', 'fastback', 'patriod', 'availablefront', 'gaminggetting', 'continouslyheating', '22gb', 'poorscreen', 'workingspeaker', 'goodworst', 'phoneblessing', '5500/-', 'sim+', 'intolerable', 'jot', 'reasons1', 'flashy', 'animation', 'wifi/mobile', 'software/system', 'notified', 'brings', \"'cons\", \"'pro\", 'driving', '8500.', 'fab👍', 'objecti', 'versioncharger', 'supply', 'wiped', '10/9camera', '10/7display', '10/9', '5phone', '10/5finger', '10/8battery', '10/7', 'ptaa', 'kaisa', 'dovice', 'fateching', 'hoe', 'loudly', 'lrnovo', 'chargingcons', 'aavdla', 'tumi', 'ghya', 'clearrity', 'rights', 'ironbox', 'doubled', 'loan', 'returnned', '12999/-', '😙😞😞🤑', '1000/-the', 'poori', 'antena', 'brokaw', 'officer', 'straking', '2017but', 'for14hrs', 'indicate', '1hrs', 'week1', 'making/receiving', 'fonts', 'excepted', 'ram,13+5', ',4000', 'cancellation', 'deth', 'hesitate', 'defeated', '₹20,000', 'musicbattery', 'mahover', 'bylenovothanku', 'maneuvers', '-all', '10mints', 'rance', 'youtubeand', 'canno', 'attch', 'evercamera', 'improvment', 'toolkit', 'dump', 'camerafully', 'reliability', 'burned', 'lessphoto', 'gallerytarbocharging', 'frustated', 'detectes', 'okbattery', 'mahoverall', 'jio/volte/4g', 'neck', 'awesome7', 'a2dp', 'radmi', 'j2', 'lunchar', 'notworking', 'autorotate', 'k32', 'callrecording', 'k33', 'child', 'k35', 'verylow', '=k3', 'worki', 'sumth', 'surpassed', 'great2', 'osum', 'chargeaga', '8hour', 'gues', 'entha', 'mobila', 'yarum', 'vangathinga', 'naan', 'vangi', '4days', 'yupprocessing', 'insertion', 'isgoodsound', 'bekarga', 'lanjodukuam', 'ra', 'edi', 'mari', 'clumsy', 'demands', '6s', 'fortunately', 'phonevalue', 'reaer', 'impressionsthis', 'notbavailable', 'phonr', 'dwnld', '✌', 'samsung/apple', 'lte+lte', 'distence', 'defeat', 'selficamer', '1950', 'shorter', 'blamed', 'sajad', 'ahmed', 'lifetill', 'downside', 'rrmaining', 'hve', '8,9and', 'hifi', 'notethanks', '🤷\\u200d♂️', 'flickers', 'resolves', 'cathing', 'states', 'sires', 'def', 'cromecast', 'darn', 'append', 'supervisor', 'woman', 'flawlesscamera', 'greatno', 'lagg', 'yrr', 'buletooth', 'shake', 'bougher', 'thy', 'belt', 'soud', 'specifc', 'defecult', '13000rs', 'k8note😢😡', 'dialers', '4gvoice', 'servise', 'ether-net', 'forested', '9718180091satbir', 'heatingupdate', 'unfortunetely', 'qualitynetwork', 'inbilt', 'gong', 'are:1', 'usecharging', 'oohhh', 'threre', 'hantset', 'bohut', 'dera', 'bild', 'quality-just', 'backup-fineis', 'geoni', '7700.', 'widout', 'kidar', 'paysa', 'hove', 'suberb', 'soundspiker', '13mpvenom', 'recomends', \"b'coz\", 'autofacous', '0too', 'chargingmobile', 'onmic', 'expired', 'aluminum', 'polished', 'oneperformance', 'dayheating', 'torchcamera', 'wud', 'perspectives', 'monthly', 'bitch', 'thief', 'dacoit', 'belong', 'youtubers', 'hones', 'oromised', 'entrant', 'gav', 'acquired', 'motive', 'stab', 'ull', 'jept', 'mum', 'thot', 'devised', 'high-speed', 'goodjust', 'updatefrom', '6+', 'vrtical', '15hrs', 'tick', 'mounth', 'ami', 'tu', 'only8099', 'watched', 'prosrear', 'gudbuilt', 'gudfrnt', 'gudspeaker', 'gud2', 'consavg', 'mahdisplay', 'avgcamera', 'poorphone', 'chargingtouch', 'slowperformance', 'noteaftr', 'likemoto', 'plusmoto', 'plushonor', '6xasus', '3n', 'butapps', 'liketime', 'analog', 'workgallery', 'easilydown', '2gud', 'phoneworthy', 'jointly', 'foolbattery', 'useand', 'phoneplease', 'k8plus', '3type', '50/100', '10/100', 'recirding', 'ctions', 'bindas', 'standers', 'vibrat', '10000000', 'wowsome', 'purches', 'rightly', 'caste', 'hunting', 'snepdragun', '46℃', 'soemtimes', 'mouth', 'yaaa', '🤞', 'loophole', 'servicewaste', 'supplier', 'featurescamera', 'gudfabulous', 'copied', 'cloudspoor', 'dependencypoor', 'functionsd', 'butmicrophone', 'fon👍👍', 'whichbis', 'perforce', 'highnetwork', 'timetoo', 'cheted', 'ws', 'd_atoms', 'screeni', \"'amoled\", 'lookn', 'boaring', 'superbely', 'heavey', 'magavali', 'tar', 'milali', 'ulat', 'sagnyat', 'aale', 'tumchya', 'shi', 'hou', 'shakala', 'pant', 'broken/dent', 'fot', 'spotted', '√turbo', '√after', 'missing√product', 'phone√curved', 'telise', 'productissues', 'work2', 'oversold', 'outlets', 'golden', 'andstisfiedwoth', 'satisfiethis', 'voltebekaar', 'saddled', 'sons', 'bday', 'wao', 'awesom', 'whis', '20.', 'back2', 'design3', 'awesomecons:1', 'injustice', 'gaming2', 'processoe3', 'screelock', 'clearing', 'excuse', 'scenario', 'ltd', '14,500', 'nicking', 'noteplease', 'buck', 'prblems', 'everg', 'friday', 'volte/lte', 'proclaimed', 'issuesoftware', 'withthismob', '₹16000', 'covering', 'quility', 'pakiging', 'minut', 'hase', 'overly', 'saturated', 'smartphonene', '5-8', 'heatdisplay', 'lookperformance', 'upside', 'forver', 'cheateded', 'wastege', ',awesome', '2017really', 'automatocally', 'tuch', 'unde', 'excess', '2:45', 'purched', 'nakli', 'nightsound', '4g8', 'turbo-fast', 'ms', 'vrcons', 'slow-mo', 'tags', 'usageawesome', 'cameraa', 'heavyfast', 'chargingawesome', 'killerbettery', 'fastnetwork', 'riception', 'goodthink', 'looking2', 'diacharged', 'magical', 'detector', 'frequency', 'optioncan', 'featuresbattery', 'alsoto', 'featurebluetooth', 'carhotspot', 'somtime', 'luckbattery', 'applicationscreen', 'freezesno', '2pm', 'vd', 'rellay', 'paking', 'didt', 'figerprint', 'midiatech', 'should/can', '👍bcz', '2ft', 'discouraged', 'gra', '5minute', 'chalane', 'samasya', 'aapko', 'presan', 'dega', 'bjp', 'observation-', 'folt', 'targeted', 'upadation', 'inconsistent', '////', 'luk', 'dilling', 'banned', 'apk70', 'subjective', 'monthsheating', 'issuegreat', 'beautifull', 'me3', '3g4', 'retrun', 'expense', 'usagein', 'toolcamera', 'defiantly', 'handgs', 'experiencebattery:4000', 'traffic', '343/-', 'grill', 'thisin', 'poorcamera', '25-08-2017', 'salefirst', 'morningafter', 'ispros1', 'slot2', '480ppi', 'protection3', 'free4', 'flash6', 'simoltaneously', 'detected8', 'soundcons1', 'deg2', '61/2', 'time4', 'use5', 'keeeeeeee', 'upoverall', 'wellif', 'changeran', 'optimzation', '5/5', 'shiny', 'systematically', 'itcamera', 'properlyit', 'pros-plenty', 'ramgood', 'capacitydescent', 'speakersturbo', 'chargeamazing', 'resolutiongood', 'camcons-turbo', 'dischargeheavy', 'weightheating', 'sometimesback', 'improvementtough', 'handedstock', 'butting', '👍👍👍', 'ooosm', 'gallery2', 'percentage3', 'option5', 'qaleti', 'bro/sis', 'rangethere', 'specifics', 'conditioni', 'worthful', 'narrow', 'latching', 'slab', 'camerawith', 'optionoverall', '😙😀😀😀😀😎😎😎😎', 'gorella', 'definite', 'silicon', 'case2', 'phone4', 'inclusioncons1', '12-14hrs', 'longevity', 'vaulted', 'pales', 'parameters', 'beacuse', 'dare', 'crying', 'parfomus', 'cald', '5mins', '5°', '°to', 'disaplay', 'infront', 'hereafter', 'thrdclass', 'former', '2-2', 'leak', 'layna', 'bakbas', 'battert', 'maniac', 'cheaten', '2hr0', 'dis-satisfied', 'cardbuy', 'coordination', 'cc', 'lime', 'pertaining', 'appalling', 'horsepower', 'steep', 'factual', 'https', '//forums', 'com/t5/k8-xt1902-smartphones/hi-guys-is-there-any-solution-for-battery-drain-issue-in-lenovo/td-p/3777078', 'foe', 'imporve', 'formatting', 'mansoor', 'scoldings', 'camrera', 'resistency', 'crazily', '🙄🙄🙄', 'hazzles', 'pbm', 'musicmobile', 'hagaging', 'hitter', '18hrs', '15kdelivery', '10800.', '+5', '-print', '9/10gaming-', '10/10graphics-', '10/10ram', 'management-', '8/10performence-', '10/10heating-', 'centreguys', 'pathetically', 'unbreakable', 'hestitate', 'buying✌️', 'helpfull', 'contracts', 'alphabet', 'light2', 'screen3', 'in-build', 'gallery4', 'application5', 'expected6', 'hangs7', 'op', 'handsetsbecouse', 'automaically', '❤️❤️', 'bezel', 'uni-body', 'n8', 'fesilite', 'wpr', 'conflict', 'incompatible', 'phonenever', 'alldrains', '11days', 'zenfone2', 'gain', 'frome', '🤘', 'processing3', '06', 'boiling', 'game-play', '2wk', 'drawbackphone', 'douplicate', 'evaluate', 'hisss', 'unhappyit', '8hrs', 'valueless', 'unusable', 'in-bound', 'out-bound', 'carrier', 'blacklist', 'lifegood', 'processorgood', 'cameraeverything', 'goodwants', 'combines', 'worlds', 'refud', 'problemit', 'fastit', 'poblems', '😤😤😤', 'haring', 'funtoosh', 'liers', 'recamond', 'lethe', 'garila', '3gcamera', '/sysem', 'launcher/', 'ati', 'falut', 'perfecthow', 'input', 'setisfied', 'lwaiting', 'replce', 'sahara', '72', 'rahul', 'singhmobile', '09953756674', 'drawback-', 'glass-', 'christmas', 'blackwhite', 'monthdisplay', '9/10camera', '7/10processor', '10/10battery', '8/10a', '3h', '100min', 'bottun', 'curvey', 'contained', 'dilevrry', 'k8i', 'blow', 'notification/indication', 'anticipate', 'disppointment', 'ditch', 'confident', 'cell-phone', 'bindis', 'forehead', 'phonego', 'smuth', 'mobilei', 'diverted', 'backupso', '😅😄😄😄😄😄', 'dissaponited', 'jil', 'suprb', '3gp', 'meanwhile', 'decentcamera', 'awesomesound', 'awesomeno', 'lagsnot', 'problemreally', '14000must', 'notecamera', 'extrordinary', 'proposition', 'productafter', 'floting', 'heres', ',cons', 'chrge', '3_', '3:15', 'mintues', 'hamg', 'black4', 'stop6', 'resatring', 'hand9', 'cardpros-', 'experince2', 'too4', 'so6', 'faster7', 'iin', 'pleese', 'badover', 'worthvery', 'backupb', 'processorc', 'speakerd', 'phonee', 'camerahighly', 'xi', '2kmah', 'batterydoes', 'osthere', 'softwarecast', 'workcontacted', 'lenovothey', 'resolvedhighly', 'crashesh', 'bads', 'dec', 'trend', 'outputs', '⭐⭐⭐⭐⭐', 'accounts', 'k5only', 'soap', 'shameful', 'compulsory', 'problemat', 'impossibleif', 'boxpros', 'sounddisplay', 'rangebattery', 'goodbody', 'betteroverall', 'marketplace', 'worstpurchaseever', 'alike', 'abundant', 'earplugs', 'poweramp', '/dual', 'edgesheating', 'meek', 'dosesnt', 'alsoo', 'sooper', 'ers', 'waves', 'featureszijn', 'product-', 'in-between', 'bauth', 'worsed', 'died', 'ridiculously', 'ditched', 'glitters', 'warnings', 'bitter…casting', 'workrestarts', 'willa', 'jokemany', 'jaw', '6cameras', 'modeno', 'lagmain', 'atmosbest', 'itcons', 'backupit', '3000mahnot', 'cerema', 'transit', '2:10', '8k', 'suffiecient', 'heatervery', 'fasna', 'lenovoheating', 'theatric', '150mins', 'explains', '50-100.', 'stucked', 'bck', 'attn', 'suffers', 'absence', 'naiyara', 'mohammad', 'minnatullah', 'advocate', 'patna', 'abscent', 'osem', 'exellant', 'goodnothing', 'newbored', 'heatingwhat', 'wildly', 'scrap', 'used/phone', 'found1', 'issues2', 'naugout', 'eseilyhangs', 'potentiality', 'seeming', 'difictive', 'backupmediatek', 'optimizedpoor', 'issuesand', 'routers', 'shade', 'parfomance', 'phas', 'lanch', 'monthi', 'problemnow', 'nowit', 'blowing👌👌👌👌👌by', 'workingwhoever', 'monhhs', 'sry', 'pro:13+5mp', 'cam,13', 'lowlight', 'whn', 'goodworth', 'ots', 'processers', 'jahnu', 'shukla', 'regrated', 'minutehangs', 'lotbattery', 'proffessional', 'displaycameras', 'price10', 'issuecons', 'wind', 'latebuilt', 'notenot', 'camar', '11999/-', 'lenovowould', 'infrom', 'compant', '16/09/17', '19/09/17', 'earliestafter', 'complaing', 'promblem', 'fingre', 'madeup', 'mutiple', 'hours/minutes', 'chutiya', 'banane', 'airte', 'greet', 'mistakesbad', 'k-5', 'k-8', 'notesum', 'expexted', 'chnaging', 'notepros', 'holdcomparing', 'allconsno', 'comparong', 'clicksi', 'mybworst', 'verify', 'daysbut', 'agaian', 'fo', 'kiab', 'dar', 'orbattery', 'asay', 'khatam', 'hso', 'film', 'exalted', '69', 'shud', 'errorwaste', 'recordinggoogle', 'usecamera', 'qualityscreen', 'timeprocessing', 'theirs', 'smoothlywater', 'effectphone', 'gorilaglass', 'knocking', 'identical', '24×7', 'ghe', 'sometimesabruptly', 'instagra', 'othe', 'deewali', 'vulnerable', 'cracky', 'personalise', 'personalisation', 'wash.', 'pricegood', 'pricethe', 'expecially', 'tocuh', 'extrac', 'availlable', 'product👎👎👎👎👎', 'anycast', 'chocolates', '30bje', 'aj', '9450283097', 'worte', 'coffee', 'cup', 'hungry', 'chahe', 'awe', 'effectiveness', 'icone', 'accordingly', 'submot', 'proofs', 'dunt', 'casing', 'nagative', 'hm', 'performancebut', 'lakh', 'gamesthere', 'goodthere', 'geekyranjit', 'enables', 'unlocked', 'menu4', 'results5', 'day6', 'fastly7', 'differentiation', 'spelling8', 'probe', 'occurring', 'kamiya', 'ok2', 'ok-ok', 'raat', 'andere/black', 'kamre', 'kali', 'karega', 'farak', 'pada', 'hote', 'honge', 'contacts5', 'gallery6', 'manaually', 'padte', 'dekh', 'bahiyo', 'aapki', 'marji', 'spoils', 'kishor', 'disguesting', 'everrrrrrrrr', 'manufacture', 'dexacore', 'trustable', '12/10/12', 'diflections', 'observations', 'follows1', 'modarate', 'reports', 'confusing4', 'okothers', 'reviewes', 'moneysmooth', 'touchclear', 'picturesomething', 'camerabut', 'supebbbbif', 'workingdisplay', 'touchcamera', 'lightstock', 'assistantgreat', 'mobiiiiiiiiil', 'drainfast', 'commands', 'csll', 'givings', 'nott', 'problem1', 'vedeo', 'charging5', 'game6', 'fasteither', 'hood', 'whaite', 'dolbey', '13998', 'controller', 'arrow', '5/5it', 'pooor', 'oily', 'creation', 'bandwidth', 'hors', 'reguired', 'it😍', 'phonen', '14kreturn', 'moviles', 'superbbbb', 'allowed', 'hangfree', 'player3', 'button4', 'featuure5', 'export6', 'replying', 'batterey', 'coustome', 'expectedand', 'missingoverall', 'bad1', 'tonnes', 'headphones/speakers', 'nahhi', 'aaye', 'samthing', 'proceccor', 'prdkt', 'kseries', 'ty', 'commended', 'heating\\\\2', 'mark,3', 'cameraover', 'mee', 'definetely', 'thims', 'adwans', 'lees', '4000mah2', 'desadvantage', 'perdefined', 'sotware', 'workingtotally', 'displayi', '11,999.', 'profiles', 'outside3', 'ringling', 'answers', 'a60004', 'great5', 'ramhd', 'anaffordable', 'supp', 'okayish', 'mobilenot', 'non-stop', 'sys', 'besting', 'safely', 'toolbar', 'struc', 'operable', 'conveniently', 'phonehappy', 'servicefeatures', 'wellall', '40percent', 'frill', 'cleardolby', 'procesar', 'claraty', 'centreplease', '=', 'noone', 'igt', 'waste/', 'selectiom', '3/', 'ashok', 'starscamera', 'starsperformance', 'starsbattery', '2starssound', 'starsturbo', '5starram', 'starsslightly', 'issueonly', 'lightno', 'backlite', 'buttonsover', '25sept', '2weeks', 'anf', 'packedvery', 'superman', 'flying', 'ranges', 'backregardsrgkolhe', 'comprises', '28-04-2018lenovo', 'escalated', 'corporate', 'teams', 'slightest', 'wickets', 'bowled', 'inflatable', '😢😢😢', 'rqst', 'resposible', 'blanchard', 'launchr', 'boil', 'noteinstructions', 'minextra', 'survival', 'heads', 'weighs', '3gsoverheating', 'varianti', 'numerous', 'uploads', 'dowanloads', 'street', 'adobe', 'lightroom', 'snapseed', '😈😈😈😈my', '☠️☠️', 'phonecharging', '31/12/2017', 'chromcast', 'obtain', 'heandset', 'admissable', 'trai', 'levano', '😈👿', 'bored', 'invest', 'wisely', 'yaha', 'jayada', 'pai', 'unka', 'hamaray', 'hamari', 'sabhi', 'samjkar', 'karay', 'warna', 'aapnay', 'khrid', 'aayi', 'amazon5', 'cleartity', '2600', 'account-fake', 'dsp', 'pandiyanthis', 'recarder', 'inbild', 'ect', 'secwhat', 'happand', 'broblam', 'delayiam', 'same-day', 'identified', \"'smart\", 'trustworth', 'credibility', 'custolers', '/camera', 'laggiest', 'proccesor', 'betty', 'average2', 'ok3', 'okmy', 'irrelevantly', 'performancelook', 'potato', 'hoopla', 'programming', 'unuser', 'ob', 'favourites', 'vowed', 'notorious', '14/3/2018', 'awesomecast', 'workingrear', 'badheading', 'haaammmm', 'melting', 'gliches', 'bsnl', 'tatch', 'bateer', 'charj', 'lagaing', 'propery', 'buler', 'wolluld', 'cameraandvery', 'regarsthankssantosh', 'rbt', 'glitching', 'disappearing', '2week', 'looksgood', 'lfeworth', 'fond', 'representatives', 'himobile', 'complaintmobile', 'heatcamera', 'lowheadset', '₹2000', 'picasa', 'amateur', '5inches', '65.', '14,000', 'sustainability', 'futurea', 'warm/hot', 'bulk', 'excellant', 'ienova', 'lookfull', 'camerafull', 'processorfull', 'glassfull', 'allfull', 'callimg', 'hoursbattery', 'hourbattery', 'indicatecamera', '😂😂😂😁😀', 'heat/temperature', 'ondevice', 'enclueds', 'cooking', 'egg', 'amlets', 'mi-a1', 'bzo', 'promotes', 'sellec', 'vise', 'preactivated', 'lighe', 'userfriendy', 'turbochargepoor', 'itselfbattery', 'daywhich', 'promisedcamera', 'woth', 'phablet', 'costone', 'chargeit', 'borked', 'aoutomatically', 'tune', 'labs', 'hoursits', 'performancesuresh', 'kumawatbikaner', 'rajasthan', 'authorization', '8000mobile', 'onethink', 'itno', 'cameradual', 'disconnectedno', '6-7hours', '16-18', '666it', '702+33', 'taxi', '18000tax', 'upar', 'taxlike', '680', 'itand', '30rs', 'showso', 'secondear', 'remedies', 'sir/madam', 'analysing', 'pass', 'treatment', 'liner', 'better-', 'awasam', 'vvvvvvvvv', 'problemfront', 'goodback', 'averagenormal', 'lifebuilt', 'excellentredmi', 'poorfake', 'stabilitybogus', 'upslow', 'sencor', 'keno', 'lone', 'chargring', 'morover', 'faces', 'hungs', 'leoavo', '2side', 'esse', 'loghatiya', 'sory', 'mobilelooks', 'processorsfake', 'cameraslow', 'lump', 'ratable', 'inprovement', '1200', 'ulta', 'chargingphotos', 'thoug', 'empowered', 'dosti', 'kyoki', '😐', 'satible', 'bottons', 'doors', 'btr', 'knwing', 'fa', 'caz', 'prblmpls', 'mobileif', 'prblmif', 'dem', 'scratchees', 'sendor', 'dominate', 'temprature', 'brigtness', 'uoper', 'chiken', 'relating', 'masking', 'fabulus', 'mechine', 'intervals', 'eyephone', 'concted', 'cares', 'somwhow', 'breeze', 'metro', 'nagpur', 'adjusting', 'productno', 'chase', 'formats', 'permission', 'erased', 'reseting', 'indor', 'heare', '🔥🔥🔥🔥🔥🔥', 'minimize', 'deviceonly', 'embedded', 'rangeit', 'orderedusing', 'drianing', 'casting/screening', 'forcefully', \"doesn'tlast\", 'brags', 'concamera', 'avaragewarm', 'availed', 'continus', '10,000', 'aug.', 'gf', 'heal', '512mb', 'carbon', 'qa', 'publishing', '47', '96', 'hack', 'iritating', 'bilinking', 'hendset', 'slowbattery', '8hours', '2000mahno', 'charginghang', 'dost', 'foa', 'lyf', '1display', 'soler', 'eclips', 'writting', 'naming', 'ithink', 'eveyone', 'peopal', 'solv', 'earphones/headphones', 'brightnessit', 'browseralso', 'lighti', '100-0', 'iike', 'greatprocessor', 'usingcamera', 'back,2mp', 'front:1any', 'itself:2good', 'looking:3', 'mager', 'interrupted', 'drining', 're-starting', 'killerwhat', 'obstruction', 'orr', 'probelm', 'bsttery', 'drainning', '8-10hr', 'multitaxing', 'equested', 'handlecamera', 'goodinternal', 'okh', 'marging', 'bastards', 'antutu', 'geek', '1000/-', 'pre-scratched', 'strangely', 'stained', 'adapter+usb', 'compares', 'tinkered', 'ugly', 'pisses', 'continusly', 'dust-bin', 'goodcast', 'no1', 'mynphone', 'feom', '1h', 'value_of_money', 'blasts', 'trick', 'all-rounder', 'wishto', 'laeat', 'crapcamera', 'signed', '4day', 'hance', 'profomance-', 'backup-', 'reviews-', 'clan', 'beeping', '4front', 'camera-k8', 'resulation', 'hopper', 'happppy', 'qualty', 'impressiveaverage', 'improvedwill', 'cliarity', 'rangesuperb', '4months', 'sleeknegatives', '40prcnt', 'hazzy', 'mobile😏😏no', 'picupvery', 'heatingca', 'use😠😠😠', 'dammeged', 'whic', \"'do\", 'validate', 'nesessory', 'explosion', 'alreay', 'literarry', '-anup', 'evernot', 'bluff', 'telugu', 'scratchs', 'colety', 'backup👌', 'good,9/10', 'canect', '8battery', '9overall', '10plus', 'aswom', 'exxcelentbattery', 'shared', 'a+++++', 'lighten', 'brighten', 'lightelse', 'horrable', 'givien', 'refundable', 'caching', 'emphasizing', '5x', 'ticket', 'crippled', 'bad:1.', 'good:1.', 'avarag', 'kyon', 'goon', 'rangeeee', 'expectedbattery', 'mahcamera', 'goodautomatically', 'tl', 'dr', 'makers', 'stopgap', 'shortlisted', 'thinkpros', 'blocky', 'flash+', 'machinery', 'integrated', 'e4plus', 'setback', '31st', 'pointsnote', 'independence', 'saledespite', 'transactions', 'button3', 'hardwareupdate', 'seconds6', 'rgb', 'lenovonote', 'ever,1', 'show0', '50℃', 'experiencepros', 'scanner-camera', '-supports', 'provisioning', '4636', 'performance-good', 'management-no', 'issues-good', 'jio-no', '-additional', 'key-speakers', 'clear-selfie', 'featurecons', 'button-camera', 'lightning', '-battery', 'charge-takes', 'off-the', 'scratchy', 'handling-no', 'box-unable', 'ido', 'legging', 'unimpressive', 'issuefingerprint', 'aggressively', 'repeating', 'heatedcamera', 'badtotally', 'readyly', 'easlyy', 'phone3', 'volte4', 'supported5', 'fast6', 'scarry7', 'levelnormal', 'cracks8', 'issuesso', 'canera', 'setit', 'brightnessand', 'timealso', 'issuei', 'fifteen', 'kelvin', 'experimental', 'sub15k', 'lill', 'supportive', 'wuth', '3200mah', 'appreciabl', 'drawer', 'yiu', 'lenovo2', 'deisgn', 'merit', 'cost3', 'stations', 'exothermic', 'liberates', 'warm2', 'use3', 'raw', 'ic', 'so5', 'madness', 'toch', 'corved', 'camerathe', '8000/-', 'simultaneously3', 'low4', 'texture', 'point-', '___', '4gb-64gb', 'camera____', 'dslr-like', 'depth-of-field', 'purecel', 'bringing', 'imaging', 'f/1', 'phonedo', '50°c', '20000.', 'neglegible', 'tearing', 'thislot', 'faced1', 'hrs3', 'purpose4', 'handle5', 'respondingtoo', 'narrate', 'pleace', 'discusion', 'defects1', '5-6normal', 'blinking3', 'required4', 'required5', 'bugs6', 'responds7', '4to', '5hours8', 'design9', 'design10', 'cover11', 'quality12', 'back👎', 'conc', 'tiger', 'dog', 'dialogue', 'ihave', '7777', 'notable', 'patchy', 'mechanish', 'dailer', 'non-ac', 'non-game', 'features:1.', 'buttons,2', 'recorder,3', 'options,4', 'screen,5', 'camerais', 'amazing😚', 'luved', '12000😔', 'whieht', 'acc', 'gali', 'pakda', 'merely', '1500ma', 'hangingi', 'someis', 'are1～it', 'feelsis', 'littleis', 'heavy2~it', 'tendsis', 'heatis', 'whileis', 'normalis', '3~its', 'null', 'somthing', 'parfom', 'nicwbut', 'differs', 'inches', 'isolated', 'rooting', 'jazab', 'highlights', '30days', 'launch😅', 'othrr', 'zerostar', 'satisficable', '👌👌👌👌👌', 'almostlenovo', 'boxrear', 'pries', 'interruption', 'vebrate', 'phonemy', 'gooddo', 'phone😣tried', 'jruri', 'du', 'itta', 'gimmicky', 'fiture', 'transport', 'biffer', '45°and', 'thingsi', '😭😭', 'presence', 'fabricated', 'levelling', 'gazzets', 'harassed', 'parform', 'buzz', 'mpbattery', 'slightheating', 'ospros', 'ikon', 'sapce', 'optioni', 'anyview', 'disturbance', 'thisheavy', 'weightlow', 'backupearley', 'issueduring', 'fasthanging', '2013.', 'workingi', 'witch', 'discrepancy', 'exilent', 'abominable', 'humans', 'affecting', 'concentration', 'rant', 'senor', 'buyersound', 'missingmost', 'snapshots', 'pocketmajor', 'guerd', 'gurd', 'workplz', 'hogaya', 'crach', 'dis-appointed', '7600', 'bluttooth', 'slowlenovo', 'piecesbut', 'notso', 'puchased', 'invincible', 'rendu', '26-9-2017', 'damm', 'moderete', 'meaningful', 'communication', 'cheats', 'vvvvvvvvery', '9931292026', 'charity', 'standead', '235', '05-may-18product', \"'ok\", 'bery', 'mode2', 'hang3', 'monybut', 'traced', 'rejected', '5000mah', 'careless', 'gatiya', 'moneynothing', 'presentbattery', 'marksoftware', 'phcamera', 'clearbattery', '😏and', 'ribbon', '0℅', 'marknetwork', 'cameraquality', 'awasom', 'inbult', 'chl', 'handled', 'delicately', 'boooooor', 'mistakethe', '2-3hoursmobile', 'anythingfinger', 'working/malfunctioning', 'loda', 'fal2', '✌️', 'idlebuilt', 'goodreceived', 'covercamera', 'averageheating', 'phoneadditional', 'dere', 'cooler', 'xiamiit', 'callfrom', 'niether', 'lenobo', 'thousands/-', '📸back', 'comara', 'ossm', 'depawali', 'vanished', 'bocke', 'dispatched', 'suspicious', 'moneycons', 'must-buy', 'obtion', 'sept.', 'cls', 'dn', 'fatep', 'kewal', 'haimobile', 'rigourous', 'voic', 'callee', 'wiring', 'leonvo', 'oder', 'dicijn', 'mujeh', 'gide', '2ndry', 'satisfiedit', 'missingsms', 'bil', 'gum', 'dusra', 'chahiya', 'kyuki', 'krab', 'boycotting', 'ver7', 'varies', 'evidence', 'fighting', 'revisit', 'vehicle', 'fuel', 'injection', '12:01', 'finest', 'rainy', 'flood', 'amazonrating', 'modem', 'fingureprint', 'detailing', 'doun', 'seriuosly', 'màin', 'mentally', 'finehowever', 'matt', 'letea', 'g4+', '730', '4s', 'seate', 'fid', '🤗', '3stars', 'goodheating', 'issuelenova', 'followed', 'suckdont', 'buydo', 'moneynonrefundable', 'astonishing', 'kachra', 'sooperb', 'ekdin', 'thora', 'chargebattery', 'usedid', 'oclock', 'retrurn', '😖', 'performancecons:1.', '6000rs', 'yellowish5', 'blures', 'reset/boot', 'problemheat', 'cameracamera', 'expectedbatterybattery', 'fastdoesnt', 'earphonesproduct', 'sefly', 'ford', 'bolteheo', 'krupiya', 'dhayan', 'expection', 'mobilecharger', 'than4', 'hansdet', 'fastly2', 'clicked3', 'timeswhen', 'heaphones', 'overtime', 'tempted', 'achieve', 'goal', 'alonepros', 'aredual', 'chargingdisplay', 'atmosstock', 'fluidity', 'hollywood', 'arei', 'camerathose', 'nowfinally', '1600', 'afterwards', 'leti', 'nite', 'hardley', 'expectedheating', 'fastcamera', 'okno', 'shortcutno', '2t', '3/2', '0/1', '5/', 'naki', 'itisnot', 'morveles', 'cast/', 'tvand', 'atomic', 'plesae', 'awwwesome', 'bhejo', 'volet', '-turbo', '99', 'mins-best', 'processor-better', '4-good', 'useage', 'sensers', 'max2', '11999body', 'octcore', '12k-14k', 'loactions', 'markbattery', 'experiencebut', 'inbut', 'bocmes', '-sys', '-so', '-the', 'non-removable', 'appthe', 'bst', 'fevret', 'prie', 'protruding', 'informative', 'heavyin', 'multipurpose', 'blunt', 'shady', 'backupscamera', 'satisfiedhangs', 'sometimesheating', 'entrested', 'ishue', 'projector', 'possible3', 'searchable', 'device4', 'sockets', 'sensorts', 'divas', 'opposed', 'organising', 'videos-', 'snapdel', '40degree', 'supportit', 'productthis', 'reviewi', 'thismy', 'fakeplease', 'houre', 'searches', 'poooor', 'mobileit', 'survice', 'longlisting', 'virsion', 'mobilemlgood', 'puffing', 'js', 'offcameras', 'portait', 'poorsound/speaker', 'consumtion', 'power-bank', 'productvery', 'avoids', 'introducing', 'clears', 'generation/world/planet', 'aka', 'breathtaking', '-too', 'deletion', 'conversion', 'lenovo4', 'many7', 'decharging', 'slimmer', 'vol', 'rushing', 'bull', 'struglling', 'alwaz', 'nogut', 'oreio', 'mailed', 'tablet', 'motoz', 'vaat', 'brock', 'anad', 'proseed', ',worst', 'mi4a', 'wished', 'qualcomm', 'amazonplease', '6to8', 'sade', 'distributor', '09/08/2017', 'lpoor', 'aso', 'gooddischarge', 'purchaseded', '14000/-bluetooth', 'supportconnectivity/radiosdata', 'hspa+', 'ltespeed', 'dl', 'mpbs', 'cat44g', 'fdd', '1/3/5/7/8/', '|', 'tdd', '403g', 'wcdma', '1/5/82g', '2/3/5/8and', '20,000', 'shaken', 'bockeh', 'bulr', '650.', 'fuctions', 'availble', 'secondhand', 'suchitra', 'doubted', 'smartphonegreat', 'suppppeeerrrr', 'destroy', 'effectthe', 'dafault', 'humiliated', 'submission', 'atmos3', 'daylight4', 'managable6', 'cameracons:1', '🔋does', 'mah2', 'sham3', 'sham4', 'f.', 'safisfied', 'lightamazon', 'bedfrom', 'onother', 'paytm', 'developers', 'mahesh', 'majar', 'devicepros', 'managementdisply', 'soundcamera', 'lightgame', 'defanately', 'ilike', 'update1', 'heated3', 'kyun', 'ther', 'chargerear', 'muchfront', 'yrand', '4mnths', 'chraged', 'witv100', 'switc', 'hed', 'gallry', 'optin', 'hw', 'gvn', 'dntbbuy', '29sept', 'sameas', 'niceeeee', 'example:1', 'on2', 'up/pull', 'vibration/ringing', 'ringer3', 'paper4', 'annoying6', 'gestures7', 'knote', 'human', 'bends', 'stereotype', 'timed', 'examining', 'optionupdate', '-:7021734362', 'impressivebut', 'itph', 'heatbettry', 'hahahahahabt', 'itpls', 'ossssssm', 'pricetq', 'sleeker', 'landing', 'replacement/refund', 'laborious', 'acknowledge', 'evlo', 'adichaalum', 'thaanguraan', 'mnthhsnot', 'farnt', 'lyk', '8oct', 'ptoduct', 'properlyall', 'independent', 'deepth', 'worthover', 'acchaa', 'denet', 'it😪', 'agency', 'autocall', 'chlune', 'vadiya', 'osdey', 'eh', 'beekar', 'tra', 'diti', 'osday', 'laina', 'nalo', 'lifefast', 'processingbut', 'haih', 'acessories', 'ossom', '5,000', 'jionet', 'make/receive', 'provided3', 'in14000', 'ib', '2picrecuved', 'wards', 'grunion', 'suplier', 'streamed', 'ambinet', 'brokeh', 'generated', 'fornt', 'decca', '8+', 'summers', 'functional4', 'remarks', 'daysi', 'xiomee', 'mobilelenovo', 'bugdet', 'everheating', 'relly', 'myside', 'favour', 'manufaturer', 'monitering', 'options7', 'speed8', 'time9', 'hogging', 'mph', 'life10', 'rod', 'excellent4', 'card5', 'management6', 'optionpersonally', 'cracked/broken', 'dwon', 'customeri', 'case/service', '6000.', 'lenovodull', 'networkdolby', 'purposes', 'plzzzzz', 'earfone', 'satticfied', 'batrry', 'mobileheating', 'chargingno', 'suppeer', 'forfomans', 'vorstions', 'btata', 'unsbne', 'sare', '175g', 'noteso', 'productso', 'refundthank', 'uesd', 'trubble', 'scree', 'doplease', 'behaves', 'lethargically', 'retring', 'somhow', 'assories', '30hrs', '🤔', 'problam2', 'prominence', '2:30', '3:00', 'profomence', '0signal', 'lucky', 'avareage', 'tamilnadu', 'aug17', 'lattest', 'chinise', 'phonecall', 'craking', '20/30', 'stops/', 'euivallent', 'useles', '2201.', 'ups', 'advt', 'immidiately', '14/09/17', 'procedures', 'techinician', 'inspection', 'pagal', 'keya', '10-1pm', '1:25pm', '3:30pm', 'oooo', 'flipkart-wala', 'untill', 'confirms', 'leaves', '2000mahmusic', 'bust', 'vundi', 'chargenow', 'chargeat', ',now', 'chargesame', 'mormal', '12-13', 'cahrger', 'iz', '😞all', 'aya', 'apse', 'nibedan', 'neeraj', 'raikwar94', 'toot', 'hath', 'chutne', 'bechne', 'dikhati', 'khubi', 'rahta', 'wahi', 'batata', 'disliked', 'superrrrrrrr', 'depth-enabled', 'patchesed', ',it', 'harm', 'gorila', 'signaljio', 'hadbattery', 'onlyvery', 'doubtphone', 'personnel', 'bough', 'ge', 'verigoud', 'today,12th', 'theflagshipkiller', 'poooooor', 'dilevery', 'appliations', 'app😍', 'guessed', 'waving', 'selfiees', 'meizu', '1/10', 'alreadyp', 'purely', '☺️', 'truns', 'suber', 'pover', 'hedset', 'sigle', 'hittingcamera', 'properlyworst', 'aftersells-service', 'pda', 'fai', 'backup😙', 'economical', 'v5', '15999', 's8', '58500lenovo', 'platforms', '😎😍😘', 'packuo', 'conditionturbo', '3housrhanging', 'scolling', 'october2017', 'theft', 'spellbound', 'clearitiyand', 'theonly', 'performancequick', 'backupbut', 'killerturbo', '90mins', 'coolthe', '18hours', 'expects', 'mobilereview', 'budjet', 'smartphine', 'concept', 'two-way', 'drasticallyi', 'massenger', 'loook', 'thinga', 'elementary', 'deteriorated', 'refurb', 'importing', '2017camera', 'scroll', 'verifying', 'bout', 'prperly', 'esha', 'satisfactorily', 'island', 'south', 'andaman', 'goodnegative', 'goodwatsapp', 'mx', '4kit', 'videobattery', 'modeflash', 'powercall', 'wtsup', 'packages', 'ks', 'tryied', 'frandlier', 'deliverymy', 'itnice', '👍🏻', 'showcases', 'flowing', 'promblems', 'intense', 'lot4', 'effectsinstead', 'beggar', 'shorten', 'static', 'displace', 'connectivityoverall', 'poorer', 'advising', '😟', 'q', 'deg', 'improper', 'unake', 'tarfse', 'bandha', 'ake', 'minit', 'bandhe', 'samne', 'vahi', 'chalu', 'jake', 'lavo', 'inki', 'galati', 'ham', 'bhukate', 'impeccable', 'theandroid', 'woooww', 'hates', 'seeit', '144', '240', \"'80\", 'bankcoz', 'looses', 'fitness', 'somethin', 'texts', 'sigh', 'wholeeee', '😂i', 'ik', 'plasticy', 'thisi', 'khanik', 'hoa', 'k-4', 'bow', 'cave', 'ridicolous', 'complaintsabout', 'timephone', 'misplaced', 'resemblance', 'stabilise', 'boat', '💀', 'heed', 'rangeoverall', 'omelette', 'speedapps', 'quicklygood', 'surfinggood', 'lookingbattery', 'heppens', 'mobileautomatically', 'hangso', 'using2', 'top4', 'enthupros:1.', 'xoami', 'taling', 'unmarked', 'hitension', 'fearures', 'slap', 'smacked', 'lipped', 'director', 'joom', 'dhundli', 'dusre', 'karvana', 'varna', 'copy/cut', 'pasting', 'cut/', 'supob', '1and', 'looser', 'proceceer', 'issuesperfect', 'connectivitysoftware', 'cameravalue', 'inconsistency', 'dials', '7to8', 'screech', 'aux', 'febulus', 'undergo', 'wll', 'rrfund', 'lik', 'kiyakya', 'gai', 'pronounced', 'fastertherebis', 'likegood', 'itslf', 'sometyms', 'recueve', 'forte', 'aunt', '😢should', 'poweful', 'issuedin', 'pdta', 'neuper', 'ruff', 'atrocious', 'turbo-charging', 'micro-usb', \"'turbo\", 'possibilities', 'separation', \"'slow-motion\", 'blureness', 'overloaded', 'purchage', 'rule', 'hk', 'krwane', 'laaousk', 'jisme', 'khtm', 'itni', 'hwill', 'awhile', 'wasawesome', 'comparedthis', '5or6', 'hangeg', 'favt', 'modify', 'hidingheat', 'heatset', 'autosuggested', 'car-usb', 'laptop-usb', 'ibgot', 'prodact', '2-months', 'destroys', 'mobilepls', 'surprises', 'shocksphone', 'mobilesdual', 'purchase1', 'hundred', 'solo', 'frames', 'problemin', 'properlycamera', 'bahute', 'madarchod', 'doran', 'aajata', 'kaan', 'hotehi', 'beatry', 'bake', 'docs', 'mailing', 'formed', 'starfront', 'greatsecondary', 'starsbattery-3', 'fastcharging', 'speed-4starsdesign-4', 'starsit', 'featurethere', 'lenovoinitially', 'degarded', 'lenovoit', '1there', 'stphotosdedicated', 'costumising', 'osmvoltee', 'sloteit', 'muchdo', 'curious', 'tracks', 'slote', 'osume', 'negatives-1', 'falleb', 'peices', 'upsate', 'closess', 'biig', 'here4', 'onne', 'seenpoor', 'batteryvery', 'chargingslowly', 'functioningheatingnetwork', 'problemnot', 'accesscustomer', 'ain', 'tgus', 'cliche', 'phn😀', 'wasol', 'spilt', 'dislpay', 'legit', 'tear', 'raju', 'outlet', 'rula', 'patak', 'isne', 'thnkful', '04', 'unsatisfactory', 'mourning', 'zabardastt', 'typically', 'headgear', 'aps', 'charginga', 'aram', '6overall', 'batrey', 'marne', 'bhar', 'batteryhanging', 'इस', 'कैमरा', 'लेकिन', 'वह', 'नहीं', 'बेकार', 'क्वालिटी', 'और', 'डिस्प्ले', 'भी', 'थोड़ी', 'ठीक', '10/6bakwas', '10/4', 'ahh', 'kesa', 'yrrsurumey', 'faet', 'sey', 'honey', '50min', 'dikhata', 'suru', 'huwa', '5kin', 'karu', 'problm', 'definatio', 'crushed', '7200/-', 'admirably', 'handsetexcellent', 'displayfabulous', 'qualityexcellent', 'backupall', 'rangemarvelous', 'smartphonethanks', 'phonebetter', 'smartphone1', 'recording2', 'quality4', 'poor6', 'option7', 'low8', 'performanceand', 'avrege', '200g', 'phonethank', 'gor', '520', '3/32gb', 'hellothis', 'needfulit', 'superiear', 'dout', 'co', '😡😡😡', 'abb', 'stolen😓', '98', 'signel', 'hpy', 'leptop', 'width', 'transitional', '++', 'issueit', 'purchaseif', 'agra', '8077830744', 'frozen', 'purushoth', 'mathav', 'shander', 'productcons1', 'price2', 'nephew', 'for3', '480p', 'properly4', 'well5', 'sometimei', 'lac', 'justifying', 'okthere', '1000000', 'printing', 'weat', 'usage:1.', 'more5', 'killer🤔', 'labour', 'sumsung', 'musik', 'bhaut', 'lagai', 'faida', 'tarah', 'girti', 'superbok', 'discribeheating', 'usefor', 'hangbattery', 'fastturbo', 'lotcamera', 'costomization', 'slowmotion', 'whilei', 'unmatchable', 'receiv3d', 'differentiate', 'qwality', 'smm', 'supportunstable', 'mannerno', 'callservice', 'helpdesk', 'batteryminus', 'existent', 'sensation', 'haters', 'play-store', 'thank-you', 'rimuval', '45m', 'charege', 'fyi', '12999₹', 'bigbillionday', '11999₹', 'regardless', 'valu', 'awsmm', 'sudakuthu', 'ella', 'ongala', 'nabi', 'vaguna', 'ennai', 'seruppala', 'atiganum', 'prbl', 'colity', '25-', 'mediate', '2:30hrs', 'averageoverall', 'subjects', 'hw/sw', 'decoder', 'hotstar', 'pluse', 'alsovery', 'dou', 'खूप', 'बकवास', 'आहे', '।।', 'chargingturbo', 'effectivecamera', 'averagespeakers', 'poore', 'performance1', 'hours2', 'malfunctioning3', 'malfunctioning4', 'deposit', 'mobile5', 'papers6', 'harass', 'customerssanjay', 'goenka', 'attache', 'bravia', \"nov'17\", 'balasubramanian', 'rchennai9840835042', 'invoce', 'dooes', 'wrorst', 'no-coast', 'telephonic', 'reformatting', 'afterall', 'phone😇', 'embarrassed', 'government', 'dalivare', 'lata', '24hours', 'to10', 'osame', 'problemphone', 'notepurchased', 'amazonwarranty', 'warrantyproblem', 'problemcity', 'indorelenevo', 'yashwant', 'plaza', 'cmara', 'kadhu', 'unprotected', 'phoneawesome', 'camerapowerful', 'coreeverything', 'pocket😎', 'kioki', 'owerall', 'jae', 'achi', '2017there', 'performancesometimes', 'gamesbattery', 'betterram', 'expectedconsidering', 'sluggs', 'cristal', 'sleepy', 'corve', 'sutable', '5-6hours', 'featuresdrainage', 'q8', 'nicepower', 'privacy', 'lpove', 'jiovoice', 'recieving', 'sirmy', 'velue', 'complety', 'lunching', '15/20', 'addressbest', 'retail', 'ay', 'defecred', 'jitna', 'socha', 'usse', 'santh', 'aay', 'maah', 'drr', 'lagne', 'dwnldng', 'networknetwork', 'regardsyasir', 'siddique9711193815', 'earlycamera', 'lifted', 'name/number', 'gamer/user', ',except', 'batterybackup', 'everyphone', 'devicenetwork', 'missingso', '4this', 'sportearphone', 'verybad', '180gram', 'babjood', 'estemal', 'pareshani', 'jaruri', 'fechers', 'neeche', 'dolbi', 'madhurata', 'catched', 'calculating', 'dhik', 'dikhti', 'jhurriya', 'lagi', 'camere', 'kaphi', 'sudhar', 'aavashyakta', 'nazar', 'thodi', 'achchhi', 'abhav', 'defth', 'asardar', 'jalta', 'jisse', 'keval', 'sthiti', 'performers', 'atall', 'easly', 'maxim', '6hr', 'signs', 'mutes', 'sarkha', 'nahiye', 'dhoka', 'delegate5', 'etchumble', 'e5/redmi', 'pbone', 'iiam', 'uese', 'cams', 'degine', 'degnie', 'option3', 'enovo', 'moneybattery', 'murdered', 'verymuch', 'sapport', 'emitting', 'ah', 'whiter', '1x', 'anythingwent', 'issuethey', 'stuffplease', 'excellentprocesser', 'nicebut', 'opener', 'prospective', 'buyers:1.', 'stranded', 'hangs-up', 'executives', 'queries/issues', 'dispose', 'regardscertified', 'vrygood', 'pethetic', 'declined', 'statement', 'kmi', 'buylt', 'k3/k4', \"con's-\", 'rectangular', 'heavier-', 'a/c', 'connect-', \"notepro's-\", 'them-', 'coordinationi', 'recomend', 'betterbut', 'badbut', 'outstandingno', 'gaminga', 'soundno', 'cameragorilla', 'galss', 'productbest', 'featurestoo', 'parents', 'chargering', 'frendly', 'replied', 'batt', 'm2', 'purcheser😕', 'me🤔', 'vetnom', 'yesit', 'voltecamera', 'vibei', 'vibebut', 'seriesnot', 'repurchase', '25kbut', 'performancestock', 'damge', 'concrete', 'qualitycons', 'heatingcamerabattery', 'p70', 'thirdly', 'begun', 'suddenly4', 'handphone', 'availbel', 'heatingstylishmetallicbatteryfhd', 'displaycons', 'productsince', 'etcvisited', 'uinable', 'denies', 'mailmy', 'recommenddo', 'satisfiedplease', '😀😀😀😀😀', 'ghatya', 'k5vibejust', 'lookinghaving', 'muchotherwise', 'hower', 'weary', 'amz', 'skin', 'draine', 'returnd', 'lengthy', 'handles', 'multi-tasking', 'guns', 'afetr', 'odd', 'fairness', 'polishing', 'valuethe', '50.', 'dozens', 'matte', 'fingerprints', 'armour', 'ensures', 'snappy', 'obscure', 'sheer', 'tuned', 'ktm', 'appeasing', 'throttle', 'torque', 'tuneups', 'ambitions', 'nahin', 'secured', 'paformans', 'dayscemera', 'vudeo', 'stabilizer', 'worl', 'hiring', 'feak', 'froded', 'plze', 'zooms', 'established', 'hotted', 'markoptions/features', 'verient', '7gb', 'productbutifull', 'cameralong', 'batteryhigh', 'prosising', 'tempure', 'depht', 'cavreg', 'problemover', 'midiatec', 'featuresand', 'amaxon', '👌👍', 'slowvery', 'connectivity-super', 'peas', 'engaging', 'respects', 'consadv1', 'pg', 'hanged2', 'gradually', 'phones5', 'okdisadvantages1', 'ofcourse', 'desire2', '3000/3500', 'batterys', 'samei', 'configerations', 'bestif', 'thankssss', 'valuation', 'worksno', 'frequencies', 'exposer', 'a1subscribe', 'asdc', 'complian', 'copyi', 'coustermer', 'netflix', 'visuals', 'amplifier', 'unintentional', 'custmore', 'productcan', 'auto-brightness', '2017-', 'connet', 'credited', '24/01/2018', 'chargingbut', 'grmperformance', 'disadvateage', 'choise', 'heving', 'tovvery', 'indirectly', 'satisfing', 'camerabad', 'youtubebad', 'nope', 'halpy', 'toda', 'milne', 'aspection', 'shaprate', 'mentioined', 'thw', 'situationis', 'averageotherwise', 'vist', 'absulately', 'jabrdast', 'konsa', 'buhat', 'kurab', 'mc', 'sal', 'kabi', 'maat', 'clrearity', 'implemented', 'cropping', 'mistec', 'encourage', 'fraudulent', 'sport', 'sprnding', '50gb', 'gehdjdid', 'questionable', '30-100', 'look3', 'imprints', 'was-does', '-turbocharging', '25days', 'volty', 'temperaturegoes', '44-45°c', 'gadgetbut', '👌👌👌👌', 'cute', 'heat-', 'tall', 'broad', 'latency', 'toggling', 'hoto', 'century', 'show/told', 'skinny', 'backupsingle', 'phonesecond', '2017now', '5000rs', 'dining', 'marginally', 'letdown', 'disease', 'mobility', 'unpredictable', 'oblivion', 'poordisplay', 'misbehave', 'toooo', 'okspeed', 'acts', 'flustered', 'won', 'doubtful', 'excellentbattery', 'sattings', 'k8…and', 'karain', 'formal', 'trousers', 'meditek', 'faltuheating', 'taggicharu', 'pros-', 'unibodycons-', 'bttery', 'percent2', 'whats-app', 'insidenow', 'muh', \"'lock\", 'nowvery', 'nop', 'clothes', 'failures/set', 'backs', '👎😕🙁😏😓', 'observationsprosfast', 'chargingspeakerconsvery', 'timesvery', 'windy', 'incall', 'jiska', 'deti', 'naya', 'thaa', 'kaach', 'bikhar', 'hoshiyari', 'batati', 'kre', 'rotating', 'aurpattern', 'haiquick', 'haa', 'auro', 'thrown', 'smar', 'goodcharging', 'backup7-8', 'reviewmeet', 'amuse', 'coping', 'precautions', 'goodweight', '💀killer', 'praise', 'curable', '👌👌👌👌👌👌💗💗', 'discouraging', 'byjuly', 'performnce', '2018waste', 'qualitybut', 'wifegreat', 'priceamazing', 'itbest', '5note', 'amazoncamera', 'backbattery', 'lenovogood', 'butone', 'ringtoneand', '4gcompare', 'hez', 'lostthis', 'manger', 'uncompleted', 'pair', 'gloves', 'missd', 'anna', 'salai', 'hcl', 'becuse', 'normalcamera', 'samrt', '😎😍', 'professionals', 'panelbattery', 'worth😍', 'noughgat', 'somebdy', 'seenor', 'useda', 'thia', 'gamesworst', 'embarrassing', 'mali', 'downward', 'runnung', 'chrom', 'khelte', 'valued', 'bax', 'ghhh', 'drinks', 'pdoduct', 'ossam', 'multasking', '😍😍😍😍', 'promoting/selling', 'breaker', '9f', 'strenth', 'pakka', 'breakable', 'priceworking', 'mi-note', 'workhorse', 'un-satisfied', 'similer', 'training', 'booking', 'interfacing', 'torrent', 'all-round', 'badback', 'compatable', 'nadu', 'expenses', 'w/o', 'soliciting', 'abailable', 'boked', 'wark', 'ane', 'kan', 'jal', 'handi', 'requests', 'app/site', 'resumed', 'emei', 'returned/replaced', 'famed', 'hot-spot', 'butwat', 'supprab', 'j7pro', 'j7max', '😇😇😇😇', 'hur', 'rhii', 'lgaa', 'karan', 'mn', 'hat', 'gyaa', 'bda', 'hutiyaap', 'lgaaa', 'sasta', 'enugh', 'vthis', 'atmis', 'bitmine', 'absorbing', 'heatfingerprint', 'uneasy', 'inter', 'buyyy', 'oldest', 'o/s', 'gaurd', 'camerafront', 'f3', 'keyno', 'realistic', 'gose', '45min', 'exesive', 'charginh', 'vostro', '1510', 'existed', 'wierdos', '1500/-', 'statements', 'helluva', 'summary', '5000k', 'aminities', 'chargedual', 'hourhs', 'clearphone', 'evren', 'andbattery', 'interior', 'kerala', 'camerathough', 'productexcellent', 'numer', 'ded', 'vastlycall', 'extra-ordinary', \"doesn'tget\", 'interchanged', 'countiued', 'tasks', 'initiallyvery', 'passage', 'handal', 'fraction', 'it👍', 'upsets', 'unplug', 'entirely', 'jalandhar', 'int', 'critical', 'alerts', 'rangegood', 'flashwith', 'upno', 'issuelatest', 'n7', 'reserved', 'champion', 'consgallery', 'missingthemes', 'chargingmusic', 'missingspeed', 'antivirus', 'missingcamera', 'expectedin', '28000', 'sign-in', 'defination', 'lid', \"call'sear\", 'theresend', 'updateno', 'orginal', '-cons1', '-20', 'cover-although', 'magnet', 'sweaty', 'battery-when', 'unboxed', '6pm', '12am', 'lacked', 'disruptions', '-4/5', 'cam-again', 'ashen', 'monochrome', 'squinting', '🔈speaker', 'noteit', 'disapoainted', '5😢😢😢do', ',02may', 'oct2017', 'workingbut', \"'jugaad\", 'dude', 'guessing', 'navs', 'ejecting', 'hugely', 'defined', 'plzzzzzz', 'krlo', 'lgatar', 'bachti', 'bss', 'isliye', 'zada', 'bsss', 'apki', 'mrzi', 'bta', 'smjho', 'qki', 'ban', 'pta', 'han', 'sawal', '7007441140', 'properlythe', 'properlypls', 'panels', '😞', '8540/-', 'mediateck', 'mortification', 'glitchs', 'speedeter', 'exec', 'reimbursement', 'reimburse', 'itz', 'unite', 'q465', 'periods', 'buts', 'rijalt', 'averagebatery', '76', 'detects', 'bakra', 'batteryworst', 'cameraworst', 'comply', 'chraging', '😪😪', '3monts', 'requiring', 'issues:1', 'managment', 'wats', '5500', '50percent', 'phoch', 'effectwhile', 'worthable', 'boiled', 'rateing', 'even15', 'command', 'edm', '🙌🙌🙌🙌music', '3g/4g', 'quarlity', 'manish', 'requestthank', 'concernproduct', 'bjt', 'glue', 'buyingpoor', 'vibek5', 'screecast', 'badd', 'pricepoint', '8390900228', 'nentwork', 'oki', 'goodfront', 'drowns', 'fastotherwise', '650', ',battery', 'superrr', 'disappointedi', 'squek', 'frightens', \"'just\", 'jordar', 'btw', 'curiour', '-cheatinggggg', 'lteso', 'nonth', 'sohnd', 'powerk8', 'pkys', 'hereand', '0/5', 'condion', 'mornng', 'proporly', 'suugest', 'amazonnot', 'voltevery', 'microtec', 'khtam', 'iast', '13900', '350', '4000mha', 'pastic', 'dissopointed', 'gooduser', 'gooscast', 'adjustable', 'jindegi', 'guilty', 'rapchik', \"'lai\", 'bhari', 'teami', 'bot', '_4000but', 'ismore', '🎥', 'lenevok8', 'fleaker', 'paining', '5-star', 'custome', 'doot', '5000/-', '30-09-2017.', '❤❤', 'viewers', 'gret', 'awosome', '11th', 'usefaster', 'cpudual', 'cameravery', 'prosnear', 'launcherdolby', 'sound4gb', 'ram5', 'displayconsthe', 'swapped', 'rohil7736832940', '2000rs', 'aloneam', 'noticed,1', ',2.', 'reckon', 'optimal', 'purchasedcontact', 'vanishdoes', 'mirroringno', 'otgno', '900', '/-', 'ok/ggod', '6ams', 'serial', 'registering', 'mineus', 'perfmance', 'clearance', 'yaaaa', ',its', 'waterproof', 'fastlysystem', 'requiredhanging', 'cameperformance', 'storageneeds', 'effectoverall', 'dayradmi', 'nota', 'deda', 'jim', 'cutso', 'me😞', 'dissapoints', '13000.', 'duble', 'fentastik', 'selfish', 'bedfirst', 'productdo', 'cmra', 'app2', 'available3', 'issues4', 'set5', 'usable7', 'available8', 'working9', 'display10', 'crime', 'display/sound', 'were:1.', 'mice', 'respected', '₹12,999', 'importance', 'andoird', '30percent', 'unwilling', 'reosnabel', 'guna', 'echo', 'rahega', 'apna', 'sudhaar', 'glassi', 'screenin', 'indirapuram', 'nitin', 'joshi9873551974', 'probable', 'phonesdesign', 'appealingdaily', 'glides', 'rails', 'averageselfie', 'prosesar', 'mying', 'worth-full', 'bougtht', 'anil', '9849468855', 'viz', 'permanently', 'yesterday-21-04-2018', '4200', 'opprating', 'gamin', 'blip', 'marking', '3t', 'allrounder', 'denger', 'connectivityin', 'recovery', 'unfit', 'disopponted', 'verrrryyyyyyy', 'wonderfully', 'intrupted', 'it2', 'believe3', 'great4', 'minimising', 'downbest', '420.', 'showrooms', 'enhancer', '6moths', '☺️but', '1-jio', '😢', 'montgs', 'resend', 'advantages', 'mode3', 'sound4', 'further5', 'selfies6', 'updates7', 'atmos8', 'xt', '1902-2', '9990', '4850', 'suresh', 'va', 'bahout', 'grmavat', 'hhot', 'krat', 'hka', 'bachwa', 'batwa', 'exercise', 'acquire', 'fullfil', 'suicide', 'goodbt', 'muncipal', 'corporations', 'monsoon', 'rains', 'climax', 'nail', 'bitting', 'buspros', 'android13', 'atmosless', 'heatingvr', 'modecons', 'updatesnormal', 'blasterbattery', 'consumingfinally', 'otherspls', '1500-2000', 'attitude', 'dolbyatmos', 'a.', 'vinod', '43-degree', 'stains', '1-all', '2-play', '3-call', '535', 'unginat', 'firbhi', 'tuta', 'patthar', 'pee', 'gir', 'aadhe', 'gyzzzz', 'bichme', 'kbhibhi', 'cameraand', 'lest', 'powefull', 'befor', 'gashes', '128gb', 'feautres', 'retuned', 'amazonpolicy', 'immersed', 'performance2', 'lasting3', 'feel4', 'superb5', 'notebut', 'switchi', 'chargingfront', 'cameranot', 'fineconscall', 'fastslow', 'chargingheating', 'rangewith', 'needsthanks', 'amazonthanks', 'leno', 'styling', 'royal', 'reject', 'nat', 'werst', 'cleared', 'blurrish', 'littlebit', 'notificationled', 'palace', 'belive', 'synch', 'plug-in', '🤗🤗', 'button/home', 'gnetwork', 'usase', 'bdhiya', 'a4', 'goodproblem', 'prect', 'chargerheating', 'dissplay', 'rong', 'cammand', 'phenomenondepth', 'satisfactorynot', 'applevideo', 'incrediblesome', '1overall', 'deserving', 'optionvoice', 'goodpicture', 'lenvovo', '4ram/64rom', 'continous', 'minuts', 'sencing', 'purfect', 'thrill', 'batray', 'supercharging', 'coting', 'possibly', 'nownorefundoptionforme', 'sethu', '4or', 'organize', 'samecontact', '9167256825', 'candidate', '11,900', 'snapper', 'backdraws1', 'class4', 'lotttt', 'hangand', 'ntg', 'moneybrought', 'warrantylenovo', 'guidance', 'kishorekhatua890', 'comthank', 'smartphonevery', 'vaste', 'purchese', 'returnble', 'suffaring', 'waw', 'found:1.', 'headphone2', 'bettrylife', 'reveiew', 'e3', 'displayvery', 'phoneyou', 'camera+', '😇', 'badnot', 'hisar', 'haryana', 'servicevery', 'prosdual', 'cameraseparate', 'cardhuge', 'u2', 'assessed', 'mult', 'ovet', 'concluded', 'this-1', 'equalizer', 'netpack', 'commerce', 'krck', '27/08/2017', 'continually', 'jao', 'dikhta', 'waisa', 'intermedent', 'diffculty', 'sice', 'booted', 'thumb', 'gooddesign', 'averagecons', 'indeedgood', 'performanceno', 'taskingfinger', 'fastalthough', 'expectationbattery', 'delevard', 'heatingusing', 'greatespecially', 'amazingonly', 'worstttt', '01', 'partiallity', '😅😅', 'wellbut', 'returnand', 'smrt', 'namesake', 'painfully', 'optimize', 'baddest', 'gard', 'goodpice', 'usingloud', 'speekar', 'lay', 'bharilenovo', 'supporte', 'burn-in', 'missbhaveing', 'anable', 'cg', 'converting', 'finr', 'onboard', 'spacebut', '10cores', 'pace', 'shotly', 'awsmmeee', 'weard', 'k5plus', 'qualityfront', 'displaydolby', 'superif', 'bullet', 'darshana', 'superbno', 'heatinggood', 'qalitybut', '3-4hours', 'aroused', 'spite', 'employed', 'resist', '2-3hr', 'slowi', 'moths', '1603/-', '13999/-do', 'decta', 'distracts', 'engineering', 'beta', 'proves', 'info', 'millions', 'processor😘😘', 'expectationslet', 'durabilty', 'amd', 'supercast', 'leke', 'pachatava', 'chargingcamera', 'okish', 'cameraselfie', 'wastespeed', 'trapit', 'suppper', 'cherge', 'goodest', 'cheapbut', 'screen2', 'sharpe', 'hide4', 'updown', 'notvolte', 'sup', 'issuelenovo', 'thereas', '💰', 'decisions', 'worsening', 'insanely', 'finethe', 'punda', '😂', 'promotions', 'shaking', 'recordingand', 'onk4', 'thisor', 'compresses', 'baddraining', 'of1', 'compass3', 'screen4', 'cleaner', 'unsatisfying', 'dammage', '5/5battery', '5/5sound', '5/5display', '5/5front', '5primary', 'upgrade:1.', 'plant', 'zombies', 'heatingfast', 'nowdaily', 'hoursi', 'cameraspeedy', 'processorstock', 'uiconsbattery', 'markdrains', 'fewer', 'ln', 'proving', 'haphappy', 'enjoyablecons1', 'performing2', 'minutes3', 'processorpoor', 'ramsound', 'loudnot', '4pro1', 'lund', 'daysbattery', 'excellentuser', 'goodfinger', 'fastdid', 'phoneperformance', 'givenno', 'barsound', 'oknetwork', 'immediatelybecause', 'reg', 'sasikumar', 'availablebut', 'competeheating', 'gorgeous', 'wheater', 'dut', 'inc.', 'tweaked', 'portraits', 'cahrging', 'awaiting', 'lifeeffortlessly', 'multitasks', 'grainyjust', 'dranage', '15/5/2018', 'beytary', 'redmi4', '3gd/32gb', 'calculator', 'battery10', '/an', 'hourwhile', 'url', '9/10battery', '9/10gaming', 'etcsound', 'effectdisplay', 'qualitycharging', 'nonlag', 'thisfrom', 'outeramazon', 'outer', 'cooperate', 'note8', 'mau', 'shortout', \"'depth\", 'certificate/', 'enclosed', 'ears👂', 'preforms', 'cry', 'throughout', 'lenovok', 'begaining', 'previoue', '-when', 'respon', 'issuemay', \"'worst\", 'hacks', 'kundos', '👿👿😤', 'tavar', '“', '”', 'failsand', 'sharpeness', '65-70', 'unboxing', 'missinggreat', 'lagsno', 'screencamera', 'goodram', 'properlywaste', 'rotate', 'butcash', 'creditoffer', 'nam', 'frod', '30sec', '64internal', 'mangalthakur', 'mein', 'rehta', '9711067762', 'hets', 'thankfully', \"did'nt\", 'quicky', 'and/or', 'correction', 'fetched', 'amazonproduct', 'whe', 'procudre', 'overwhelming', 'usef', '2000.', 'extract', 'ineffective', '-95', '-105', 'dbm', 'guyslisten', 'ok-ish', 'lotta', 'aircel', 'theres', 'stand-by', 'lotz', 'ion', 'amusing', 'camre', 'phoneearphones', 'slimhandylooks', 'operationbut', 'carmera', 'weekawesome', 'worthdual', 'awesomeprocessor', 'stretches', 'mach', 'okit', 'charginggo', 'helpless', 'tolrate', 'camchalu', 'coolplay', '7_8', 'hourcamera', 'qualityfinger', 'properlyturbo', 'complitly', 'pri', 'ringtones4', 'orderded', 'temted', 'utilities', 'primarily', 'deficiencies', 'flexibility', 'milky', 'meeting/silent', 'meeting/conferences', 'noooo', 'ride', '-ve', 'onle', 'plss', 'plsssss', 'pleaselisten', 'lenovok8istheworstbooked', 'skype', 'thousands', 'thoo', 'resort', 'on😬😡', 'recommeneded', 'workingsuggestion', 'biometric', 'okjio', 'issuepathetic', 'amazonvery', 'cantacts', 'reckless', 'backend', 'programs', 'castle', 'price😃', 'owsame', 'whr', 'boxheadfone', 'jump', 'jastlaik', 'naw', '13janury', '7k', 'mediatak', 'miss-calls', 'overlooked', 'accessed', 'chalne', 'exange', 'cominding', 'cheep', 'proccer', 'porfomence', 'whencharged', 'outputno', 'goodsound', 'goodcam', 'extranery', 'diliver', 'customisationbluetooth', 'rangerare', 'surface', '7000/-', ',6', 'jldi', 'fhon', 'forcebly', 'likly', 'delight', 'expandable', 'dains', 'plse', 'blasting', 'selife', 'keyword', 'phoneca', 'phonehitting', 'ranhe', '，', '6,7', 'tomorrow', 'dikh', 'panal', '+64gb', \"jan'18\", 'prblmguys', 'gsv', '👎👎', 'rs,14k', 'ritarn', 'againvery', 'duly', \"'update\", 'recignises', 'miserably', 'elder', 'workingcast', 'workingnetwork', 'problemoverall', 'satisfiedreturning', 'pick-upstill', 'verr', 'batri', 'bakp', 'nise', 'desgining', 'kiler', 'simcards', 'dought', 'problemyellow', 'camerahanging', 'allmost', 'haining', 'divais', 'batraye', 'capcity', 'differentlast', 'performancecamera', 'od', 'cloths', 'watever', 'demanded', 'grossly', 'consumptiom', 'dorectly', 'practicality', 'figer', 'boton', 'exalent', 'shutable', 'wastephone', 'luckliy', 'espected', 'slept', '81℅', 'woke', '58.', 'manufactureed', '5,6', 'hoursand', 'favouring', 'simcamera', 'tests', 'conducted', '8h', 'xpectation', 'vision', 'laxmi', 'puja', 'awaited', 'lies', 'subdued', 'collected', 'reviving', 'on28th', 'reddi', 'reshmi', 'reconnecting', 'installs', 'measurement', 'cornial', 'chutiye', 'amazom', 'motherboards', 'lifespan', 'dmg', 'seams', 'expectedprossd', 'slotmedia', 'buttongood', 'flashgood', 'displayfast', 'scannerconsheavy', '180g', 'updatepoor', 'graph', 'nokiai', 'offcharger', 'cymerabattery', 'opition', 'powerbank', 'outof', 'generalised', 'flooded', 'greatrest', 'spl', '7months', 'bthe', 'drawaback', 'teething', 'socks', 'issuecharge', 'chargerheated', 'uk', 'contest', 'continuouslyheating', 'nougatso', 'like1-', 'issues2-battery', 'rate3-fingerprint', 'responsive4-led', 'perfamance', 'mi/redmi', '64-bit', 'successfully.', 'options1', 'device2', 'files3', 'videos4', 'files5', 'wordi', 'peaople', 'giging', 'usagefirst', 'cheera', 'laggs', 'todaybut', 'performancescreen', 'hasdolby', 'settingsbattery', 'soltion', 'updatesthough', 'hasnt', 'fellows', 'yellowliesh', 'usedfor', '10hours', 'moneydo', 'papersnot', 'physicalpoor', 'tuffon', 'liks', 'customisable', 'lenovo/google', 'wantsnot', 'amazonproducts', 'excellenttop', 'marketexcellent', 'featureall', 'television', 'phoneper', 'hkuch', 'purane', 'vali', 'review2', '26-', 'onlyit', 'rigorous', 'cs', 'managers', 'teach', 'sups', 'reps.', 'sove', 'karenge', 'uthata', 'shuold', 'demond', '6500', 'aal', 'amongst', 'highlights:1.', 'great-', 'apt', 'designsoftwarestoragemusic', 'keydolby', 'atmosvr', 'experiencefinger', 'sensorgoogle', 'assistantdedicated', 'slotscons', 'weightpoor', 'backupdisappointments', 'cameralots', 'softwareseven', 'issuebattery', 'fastlenovo', 'phone😡😡😡', 'procceser', 'tume', '👎👎👎👎', 'reagrds', 'pritam', 'shambharkar', 'itmob', '9923294166', 'disconneced', 'strong/loud', 'cust', 'twicebut', '-deca', 'feather', 'cutting', 'techniques', 'bubblesheet', 'expanded', 'prossecer', 'badbad', 'catches', 'lenovobuilt', 'okuser', 'yesbattery', 'greatcamera', 'vlogingsome', 'nil', 'pink', 'purple', 'shirts', 'suggestabul', 'aachha', 'gudfinally', '😍😍😍😍😍😍😍😘😘😘😘😘😘😘😘😍😍😍😍😍😍😍', 'snart', 'fedup', 'connevtity', '11990.', 'productmobile', 'centeralso', \"'t\", 'rudeness', 'prof', 'headseat', 'ejuct', 'exceeds', 'business/personal', 'untweaked', 'longish', 'thanking', 'kumaresan', 'note5', 'batteey', 'richness', 'disgrace', 'efficiency', 'craft', 'revising', 'contemporary', 'redemption', 'gazab', 'faddu', 'nhiii', 'bdiya', '💯', 'packings', 'product1', 'hrs2', 'whatsapp4', 'properly5', 'followup', 'finalized', 'vibebad', 'mobilee', '-sk', 'hasan78696', 'krao', 'daysfirst', 'goodturbo', 'continuing', 'bus', 'unsupported', 'uninstall', 'install/uninstall', 'wa', 'aweome', 'goooooood', 'retrieved', 'turbochargerapart', 'phoneeven', 'videossnipper', '14cm', 'awesommmmme', 'plans', 'recognized', 'aashiyana', 'private', 'limitedsold', 'everyfast', '47c', 'signes', 'awesomebattery', 'fantasticneed', 'gear', 'interuption', 'unibody', 'itthanks', 'schemes', 'beahaviour', 'handlingpros:1.', 'resistancecons:1.', '699/-', 'expected7', 'feature-wise', 'reversed', 'k9', 'd.', 'goury', 'manohar', 'reddy', 'disappinting', 'spendin14thousand', 'qha5', 'ohone', 'everage', 'wonders', 'bubble', 'evertime', 'ignores', 'reslolve', 'garmin', 'ant+', 'naysayers', 'neeed', 'khuzema', '😔😔', 'smuthly', 'baaki', 'whaste', 'easilyheating', 'gudlittle', 'problemturbo', '20/06/2018', 'faced:1', 'talking2', 'headphones3', 'reviewss', 'contended', 'barbadi', 'bharne', 'fast,4000', 'fluke', 'client', 'mmmm', 'notegood', 'storagedual', 'newtwork', 'averagehas', 'problemfinger', '3-5', '👌👌👌👌👌👌👌👌👌👌👌👌👌', 'backuphanging', 'noteno', 'screenshotno', 'barno', 'fingerprintjab', 'sakta', 'unko', 'notebattery', 'minutesno', 'note9', 'backuplooks', 'excellentotherwise', 'loverotherwise', 'feasible', 'fingure', 'scenser', 'fading', 'prosidure', 'phohe', 'smooth3', 'hot4', 'offamazon', 'anymoredo', 'markturbo', 'workingthe', 'lick', 'diagnosis', 'blocked', 'cera', 'goodnoise', 'reduction', 'heatrear', 'gamingany', 'metering', 'sharp6', 'properlyonly', ',service', 'peaches', 'esme', 'chiefer', 'hospot', 'resently', 'features❤️loved', '✌️✌️✌️', 'multitaskingcons', '-audio', 'predecessor', 'abrupt', 'sugeest', 'siliguri', 'happyeven', 'close2', 'work3', 'show4', 'heat5', 'problem6', 'show7', 'day8', 'xender', 'magnificient', 'reconnects', 'isvery', 'differentiating', 'layrs', 'improvemnts', 'totay', 'haveput', 'secend', 'his/her', 'improvisation', 'exhibit', 'dr.', 'prajith', 'veraval', 'gujarat', 'mechanic', 'centere', 'vereval', 'himself', 'fellow', 'backup-1-1', 'gamesusp-', 'badupdate', 'memi', '9:30', 'evenings', 'mare', 'annual', 'issue1', 'again2', 'connectingin', 'shift2', 'sound3', 'app4', 'preventionwaste', '2012.', 'lowest3', 'night5', 'mode6', 'ore', 'plsa', 'negligible', 'preety', 'thatmay', 'satisfie', 'boli', 'gae', 'avi', 'millano', 'becasue', 'lvd', '28jan', 'highet', 'experiencescons1', 'fetching', 'prosmobile', 'x-play', 'cricket', 'tilt', 'occupie', 'bunch', 'bombs', 'pircjase', 'findings', 'par,2', 'footprint', 'idea/jio/vodafone', '110-130', \"launchpro's:1.\", 'build,2', 'operation,3', 'outs', 'audio,4', '12999.', 'teamthis', 'sequence', 'events', 'resentful', 'contraption', 'asks', 'acceptablebackground', 'minnor', 'scrapproduct', '💗', 'purchasers', 'xlent', 'prodict', 'term', 'nanocoting', 'resistivity', 'bent', '13,000/-', 'fucher', 'thanmoto', 'differently', '🙁', 'reiter', '1m', 'lenovao', '107', 'initialy', 'gorial', 'droped', 'hieght', 'udpate', 'specvolume', 'zeroneed', 'inbox', 'reigning', 'tec', '…my', 'monthsthere', 'issuecamera', 'occassionally', 'sizes', 'lady', 'waooo', 'discussting', 'proceser', 'amazon/supplier', 'starhuge', 'heatingfalse', 'atxa', 'thish', '10800', 'overhyped', 'rlly', 'dsle', 'handing', 'nowonly', 'workingamazon', 'ringet', 'timeframe', '😗', 'vyawastha', 'custemer', 'inkar', 'krte', 'arriving', 'cheatedi', '825.', '16-24hr', 'adjustment', 'hot2', 'bueatiful', 'rapped', 'carbage', 'bag', '😫', 'occupies', '☹️nice', '😒battery', '😊overall', 'pert', 'annoying2', 'usage4', 'points:1.', 'rs15000', 'simplistic', 'ostentatious', '100.', 'thereand', 'tooonly', 'enoughrest', '29-apr-2018', '30-09-2017', 'expire', '28-12-2018.', 'thankyu', 'noye', 'expirence', 'purcahse', 'beutifull', 'charming', 'scrinquality', 'betar', 'ovweall', 'spark', 'behigh', 'awesomelove', 'phonepaisa', '200rs', '17000', 'hysterical', 'phonememory', 'excellentcamera', 'normalprocessor', 'camera3', 'audiable', 'whopping10', 'goodprocessing', 'veri', 'intl', 'mobaile', 'supub', 'atractive', '9,999', 'moneybeats', 'fluent', 'gurrilla', '88to', 'ish', 'sucksphone', 'destroyed', 'noting', 'identifying', '1800', '9009', 'amaaazing', 'neet', \"'wow\", 'superrrbut', 'broblem', 'lifw', 'phonepros', 'slotsand', '-heating', 'issue-below', 'life-issues', 'endgraphics', '13-14k', 'one-two', 'affects', 'movie/tv', 'loosely', 'suganthan', 'mobis', 'terriblealso', 'unwantedand', 'fudu', 'soz', 'phone🤔🤔🤔', 'niceorder', 'session', 'glow', 'dolly', 'bachap', 'lenovomany', 'y😭😭😭😭😭', 'inglenovo', 'continuos', 'ing', '😏nobody', '😣', 'bluffing', 'confusing', 'performancebit', 'heavyand', 'handphotos', 'batey', 'problamcamera', 'dameged', 'shorting', 'empoley', 'chaeges', 'starred', 'dirt', 'thoughand', 'wellit', 'worsewhy', 'reseption', 'metel', 'hard-core', 'shocker', 'pleaseeeee', 'brightnesscons', 'instud', 'crome', 'tookover', 'notsmooth', 'quilt', 'mistakenly', 'resultwhat', 'recourse', 'usagepositives:1.', 'speed3', 'storagenegatives:1.', 'noteplanning', '11000/-', 'satish', 'chavhan', '4g4', 'screenguards', 'scrath', 'excel', 'powerpoint', 'stunnsan', 'indepth', 'vimbar', 'extraordinarily', '5and', '/motos', '52gb', '4b', 'enought', 'aiming', 'tea', 'angles', 'keo', 'mi4i', 'loundness', '5s', 'officially', 'sweat', 'setisfide', 'probelom', 'heaten', 'disaapoiting', 'sentence', 'ticks', '-•the', '•very', 'halogen', '•major', '•only', '•depth', '•battery', 'batterydo', 'worth2', 'paste3', '9901', '2mins', 'lenovi', 'hitted', 'daysdisplay', 'smoothspeed', 'bad4day', 'serampore', 'rcvd', 'myc', 'specsdont', 'jeans', '185', 'pokemon', 'famously', 'fourth', 'froze', 'complex', 'coss', 'fsb', 'firstcons', ':1', 'walking', 'readings2', 'headphone/earphone', 'less6', 'pro1', 'clarity4', 'verdictfine', 'publicity/marketing', 'in4', 'brosing', 'internet2', 'front4', 'afrer', 'sancer', 'mamy', 'comings', 'okbattry', 'visa', 'unsatisafactory', 'omlets', 'catalog', 'shoes', 'playable', 'avid', '10-11', 'kurear', 'farod', 'loke', 'externally', 'phonefeeling', 'hotter', 'aval', 'discovering', \"'connected\", 'swtiching', 'resumes', 'rainbow', 'melted', \"customer'sfirst\", '45°c', 'luking', 'consfirst', \"doesn'tsome\", 'youoption', 'scrrenshot', 'easiness', 'no-problem', 'hoursno', 'priorities', 'sensor/phone', 'cornered', 'bundle', 'greatbut', 'problemrest', 'lifeit', 'membership', 'interfacer', 'stuning', ',super', 'cons-1', 'sofar', 'goodat', '😣😣😣', '🙏🙏', '65℃', 'bursting', 'camerafast', 'wld', 'duped', 'rs8000performance', 'averagemusic', 'impressivefacing', 'n/w', 'trustful', 'enen', 'pune', '8668434994', 'rangepros-dual', 'camera-dolby', 'atmos-front', 'processor-5', 'good-gorilla', 'coating-turbo', 'chargercons-no', 'speakers-no', 'option-no', 'illumination', 'keysvery', 'shoping', 'gha', 'unsafe', 'turbi', 'failurehave', 'wery', 'frone', 'qualitymind', 'supb', 'becose', 'dayplease', 'wroth', 'oneday', 'smartest', 'letv', 'appreciative', 'productfront', 'atomatically', 'gbno', 'hanglong', 'chargerawesome', 'surprize', 'onlyno', '41°', 'jerk', 'accesorios', 'ranging', 'disppear', 'pleasant', 'mishap', 'unknowingly', '2650', 'stole', 'parfons', 'godloking', 'tecno', 'hopless', 'mko', 'kyo', 'phle', 'prblms', 'dekhega', 'paynge', 'apko', 'kon', 'facilitys', 'troubleshoot', 'doin', 'frds', 'rangeandroid', 'nougatsolid', 'qualitydedicated', 'cardscustomisable', 'keytheatermax', 'supportcons', 'quicklyaverage', 'chargedheavyweekly', 'griped', 'aproblem', 'chief', 'tyms', 'disheartening', 'published', '4gigs', '64gigs', '✌️❤️', 'reciver', '01_04_2018', 'compliant', 'index', 'heatingbudget', 'qty', 'gooda', 'directory', 'yah', 'khabi', 'bata', 'kahte', 'karoye', 'frustration', 'play/call/', 'trough', 'senseless', 'password/pattern', 'adapt', 'badlly', 'poormy', 'operates', 'tmprd', 'glss', 'evn', 'tmpered', 'thnxx', 'relief', 'tomy', '3-5-2018', 'renge', 'sloved', 'groups', 'aata', 'distrut', 'jda', 'aone', 'krtaa', 'hii', 'jdaa', 'tik', 'houa', 'morethan', 'worstest', '000000000.', 'intarnet', 'trigger', 'quute', 'dwpth', 'supportedno', 'recorderscreen', 'remained', 'pushed', 'earworst', 'expert', 'retain', 'delhi', 'exorbitant', 'amazingly', '<', 'phonefront', 'expdctation', 'may2018', 'unsung', 'hero', '4gbram64gb', 'strg', 'glasstheatermax', 'inbuild10', 'deacaaaa', 'frnt', 'oooooooozam', 'dual2sim', 'upto128', 'scannerdolby', '😍4000mah', 'savage', 'bundlebattery', 'problemscharging', '1g', 'purching', 'assumed', 'serviced', 'foes', 'permit', 'refers', 'tinge', 'henge', 'her', '19k-20k', 'coustomers', 'bad☹️👎', '☹️☹️', 'adviceregardsmangesh', 'sellfies', 'reproduction2', 'quality3', 'flash4', 'management5', 'datecons:1', '13999flipcart', 'issuesinstead', 'hander', 'tirbo', 'pecentage', 'assigned', 'pushes', 'substance', 'recived', 'expierence', 'haeted', 'wieght', 'sombody', 'slate', 'convinced', 'banavo', '6k', '6mnth', 'awesomeness', 'belongs', 'supprot', 'hangle', 'deficiency', 'tim', 'betterspecially', 'low/dim', 'soso', 'prod', 'amozen', 'deliverypersonally', 'flet', 'addverties', 'a1st', 'figuring', 'reflection', 'disapointed', '25-8-17', 'conferene', 'sided', 'counted', 'paradoxically', 'silencing', 'haour', 'evrage', ',not', 'relevant', 'admirable', 'calrity', 'follows:1.', 'typical', 'transient', 'blurrs', 'hair', 'takenit', 'hassall', 'soreturn', '11,000/-', 'probalem', 'marked', 'enhance', 'onlycamera', 'automus', 'gudvalue', 'inset', 'suits', 'thislenovo', 'otherthan', 'dismal', 'lenovoall', 'performancemany', 'dayservices', 'shipped', 'night-mode', 'fp', '9852865839', '64.', \"does'nt\", 'speaker/mike', 'diretly', 'sharing/transfer', 'bekr', 'lenov0', '9833228989', 'deepak', 'lenovono', 'bluetoothvery', 'timeover', 'problemheavy', 'headsetearphone', 'coastly', 'acceserie', '15gb', 'bottom10', 'ulte', 'majorly', 'day1', 'muchbetter', 'forwarded', 'lenovo/amazon', 'shiwn', 'mobileonly', 'websiteheating', 'chargingnetwork', 'fudduest', 'phoneaffordablequite', 'handytouch', 'awesomecamera', 'goodrecommended', 'dislikeas', 'phonegud', 'backupmobile', 'sexythank', '😒camera', 'naturally', '-prosfastconspoor', 'useslittle', 'bulkysmart', 'questioning', 'appreciable', 'rearcamera', 'yuphoria', '430', 'procccessor', '👍lasts', 'androidoleophobic', ',2', 'glasslet', 'button/option', 'filemanager', 'hanngs', 'gimic', 'hadfone', 'sayingit', 'recordersecondary', 'belowing', 'reason1-it', '2-deca', 'processor3-nano', 'coating4-dolby', 'music5-lot', 'magnetic', 'bulging', '42958', 'rohini', 'fingerprintbaker', 'backuptotal', 'appliances', 'reviewappearance', 'spandragon', '635', 'legs', 'coinscamera', '2/5', 'refined', 'larg', 'cover4/5', 'crispverdict', 'smarkcheck', 'path', 'subsequent', 'monthscreen', 'camcustomer', 'carre', 'speccs', 'warrantee', 'abbt', 'helping', 'thry', 'backupon', '6am', 'exhausts', 'sametimes', 'notofication', 'gudet', 'eit', 'quicklybut', 'observing', 'brief', 'details:1.', 'suspecting', 'lagging6', 'impacting', 'definetly', 'appreciation', '😋', 'someother', 'xaiomi', 'utilised', '1599', 'amazzing', 'eveythings', 'om', 'nit', 'assisting', 'costliest', 'orphanage', 'butt', 'maps', 'deeply', 'lemon', 'cameradislike', 'abhitak', 'rehe', 'joldi', 'mobileandgood', 'battery🔋fantastic', 'camera📷', 'qualitygood', 'p1m', 'nosignal', 'bore', 'streets', 'as1', 'level4', 'phonewaist', 'supportedinbuilt', 'presentsharit', 'foremost', 'phoneeverything', 'understandable', 'prperly4', 'mark5', 'मे', 'तो', 'लूट', 'गया', 'भाई', '1yr', 'compas', 'burger', 'lagginess', 'poorest', 'phnnbest', 'lifeexcellent', 'performancefastest', 'extender', '-dedicated', 'slot-a', 'configurable', 'key-dolby', 'enhancement-powerful', 'cpu-front', 'good+front', 'flash-compass', 'deciding', 'readymade', 'kernel', '-a', 'phone-fast', 'sensorcons', '-dual', 'properly-no', 'range-have', '-notification', 'app-battery', 'good-have', 'issue-build', 'lense', '-lenovo', 'superslow', 'slot+compass', 'mhv', '2unable', 'conracts', 'abeauty', 'shooping', 'racing', 'egnor', 'garda', 'refand', 'problameand', 'problame', 'circle', '32.', '7+', 'inlets', 'maggi', 'fades', 'beard', 'thick', 'good,1', 'thane', 'plight', 'fucntions', '4+64', '4300', 'batrery', 'contineous', 'publicity', 'chargegot', 'tedious', 'dries', 'enlagrment', 'competetive', 'sirlenovo', 'risky', 'begins', 'thorough', 'examination', 'bharat', 'nagpal', 'igyaan', 'wrongmobile', 'asom', 'sound/mute/vibrate', 'renouned', 'metioned', 'chair', 'mapsa-goa', 'fullfill', 'ass', 'decisio', 'vand', 'phoneheatinghotspot', 'overally', 'slider', 'complainging', 'controls', 'disables', 'chargerthis', 'receivedin', 'maney', '👌👌venom', 'bhaivery', 'neglected', 'daining', 'heset', 'picturesso', 'finishes', 'lagged', 'fhoto', 'fhotos', 'chalana', 'lagega', 'attempted', 'wasnt', 'entry', 'society', 'visitors', 'escalation', 'endbackup', 'setfast', 'deliverycamera', 'sumsungprice', '🤔🤔', 'phoneand', 'centresi', 'tome', 'totly', 'spots', 'speakar', 'katil', 'bagh', 'gs+', 'tc', 'taped', '30minutes', \"'deca\", \"'lenovo\", \"'mobile\", 'audios', 'thereafter', 'amaezon', '4000+mh', 'significance', 'cameraspecialy', 'camerawhich', 'burethat', 'onlythanks', 'phonebefore', 'camm', 'isphone', 'bekhar', 'komat', 'karido', 'amazonmobile', 'karidne', 'kuchh', 'mobole', 'pervious', 'mandatory', 'repleasement', 'pricebattery', 'quicklyselfie', 'averageportrait', 'sucksi', 'fardoes', 'forcestop', 'freindly', 'usedolby', 'usedheated', 'duap', 'phonephones', 'spiker', 'longs', 'logged', \"phone'sno\", 'recordingspeaker', 'featuresdisplay', 'averagephoto', 'averagegood', 'datajio', 'supportout', 'consistant', 'unimpressed', 'uplift', 'cumbersome', 'introduction', 'hesitant', 'indicating', 'unprofessional', 'practices', 'consworst', 'hangi', 'repleshment', 'itthe', 'rangelast', 'missuse', 'impresive', '3/5rear', '2/5battery', '3/5processor', 'average-', 'beautification', 'sharper', 'ours', 'golf', 'buke', \"'music\", 'stutter', 'pro-good', '¡great¡cons-', 'balckled', 'smother', 'kadak', 'purchasebad', 'parfomanceand', 'powerbanks', 'adapters', 'ani', 'extr', 'workingphone', 'top-back', '1250', '4000mahso', 'superb3', 'awesome4', 'simwell', 'shiva', '6600', 'exchaned', '100killer', '😥', 'dupalicate', 'juz', 'uhll', 'toher', 'bttr', 'frying', \"'phenomenon\", '😃', '44deg', 'contract', 'toll', 'solvable', 'consscreen', 'workmemory', 'timesafter', 'dealspower', 'slowthey', 'brokennever', 'quotingcustomer', 'awam', 'ntwork', 'receptor', 'permenately', 'priceafter', 'hasgood', 'lifeno', 'issuegood', 'displaysome', 'updatewill', 'unbuilt', ',do', 'probalm', 'itnernal', 'ugrade', 'nono', '😫phone', '😀camera', '0🤣applications', '/mi', 'ua', '7plus', 'playng', 'brandsnd', 'authority', 'grand', 'arcade', 'dibrugarh', 'gently', '20/10/2017', 'sugest', 'thanks🖕', '5-6hrs', '4000ma', 'motog4', 'inconvenience', 'lifehighspeed', 'processinghigh', 'cemeraturbo', 'worst6', 'nicly', 'producr', 'worthlessi', 'buylenidi', 'thiski', 'curtosy', 'ergnomic', 'delighted', 'phonebest', 'truecaller', 'perfarmece', 'supperbbbbb', 'alsa', '9989', 'confteble', 'goodwhat', 'inspire', 'easy-', 'play-', 'models-', 'rangeturbo', 'moneyuseless', 'moneyworst', 'cameraoverheats', 'lotsince', 'cancel', 'developer', 'productsathish', 'spares', \"y'day\", 'thnxxx', 'silent/vibrate', 'trash/memory', 'setting/option', 'hotshot', 'inaccurate', 'saperate', 'scren', 'snapedragon', '12hrs', 'sterio', 'scraths', 'stupidity', 'duringcall', 'prolblem', '406-2999907-1285932', 'proble', '15day', 'that2', 'blocked3', 'qualitylittle', 'heatingbut', 'is1', 'cpu-z', 'precossor', 'unreachable', 'thereno', 'mption', 'recordingno', 'recordingjust', 'motorolla', 'lestest', 'slutter', 'fedex', 'swtiched', 'कडक', 'reinstalled', '3800', 'thst', 'mates', 'systen', 'adorable', 'avarege', '😀😂', 'wn-725n', 'alwas', 'practial', 'negetive', '6000,6000', '9642783920', 'pricein', 'backupand', 'hotmobile', 'lgq6', 'iii', 'day-1', 'campare', 'stack', 'uncomparable', 'cm', 'pride', 'lap', '45degree', 'linoove', 'ovever', 'cameraturbo', 'chargerdesigncons', 'camerasignals', 'problemsdual', 'hatsoff', '2h', 'exepected', 'distinguish', 'handel', 'guerilla', '4not', 'phoneg', 'onlywhen', 'connectingi', 'issueso', 'possiblei', 'youcamera', 'kahe', 'amoson', '54gb', 'formatted', 'reformat', 'nogat', 'systemperformance', 'seen2', 'handly4', 'framedrops', 'september,2017', 'categories', '20,000.', '22000', 'mobilno', 'productinternet', 'slowhang', 'reslove', 'hasbest', 'hangwaste', 'ovar', 'mespeaker', 'diagnose', 'forcily', 'venovo', 'cames', 'tion', 'namegame', 'suffer', 'usepros', 'hanges', 'harder', 'signl', 'creepsmake', 'betternext', 'attaining', 'sometimeotherwise', 'mobileplease', 'generate', 'touting', 'bouquet', 'dslrs', 'lucrative', 'technically', 'prima', 'facie', 'jumped', 'gadget-geek', 'likeable', 'impress', 'layers', 'eui', 'anyday', 'vote', 'intelligent', 'oxygen-mod', 'devoid', \"'ease\", 'lag/slowness', 'tread', 'embrace', 'intelligence', 'mns', 'ng', 'adopting', 'mush', 'goodpls', '👎👎👎👎👎', 'inspiet', 'clumsiness', 'tanks', 'becausei', 'offerand', 'andamazing', 'performancetanks', 'granny', 'z90', 'thnks', 'krke', 'mann', 'banaya', 'pahli', 'bewkoif', 'milta', '3g/2g', '100°/', '3hr', 'midiatek', 'troublesome', 'compensated', 'processoronly', 'marketgets', 'inany', 'rs11999', 'boken', 'worstdo', 'productcharging', 'chargingif', 'minif', 'soonit', 'recordingif', 'phonethen', 'usernow', 'hangthere', 'expecatations', '👌👌photo', 'camera😍😍', 'vigrous', 'thk', 'minuets', 'comar', 'earephone', 'positive-descent', 'negative-a', 'points-', '-veheats', 'spuriously', 'etho', 'paravala', 'essentials', 'overcomes', 'discounts', 'momentreally', 'triggering', 'durafec', '78', 'issuesbuying', 'recommendedwould', '4000.', '2500.', 'overrated', 'deception', 'peroblam', 'software/hardware', 'hangee', 're-configured', 'thrice', 'vedios', 'recomented', 'approved', 'bcome', 'garrenty/', 'summery', 'height4', 'lenovo5', \"has'nt\", '23rd', 'lennvo', 'fastscreen', 'blabbers', 'netwrok', 'yh', 'valoo', 'whaat', 'rkhii', 'bki', 'reponsive', 'reactive', 'warrior', 'reviewgood', 'things-dual', 'camera-stock', 'android-front', 'flesh-free', 'coverbad', 'things-', 'user-single', 'digital-turbo', 'cuxgf', '🤔google', 'mutli', 'clarity-', 'features-', 'fast-', 'light-', 'rom-', 'slot-', 'li-polymer', 'battery🔋-', 'feature-', 'unlock-', 'loud-', 'sides-', 'overcharged', 'savings', 'applications-has', 'mobile-', 'hindi-', 'emojis', 'keypad-', 'part-', 'reader-', 'trafficcons', 'efficient-', 'movies-', 'usp-', 'properly-', 'stabilization-', 'bit-', 'saved-', 'exordinary', 'macbook', 'androids', 'altering', '4gbinternal', 'gbcamera', 'marvellousdont', 'everyting', 'worsevery', 'samsumg', 'backuptake', 'chargenot', 'kark', 'subhame', 'nikalo', '😡🤔', 'confired', '/network', 'radiates', 'cameraoverall', 'caneea', 'chuka', 'galdi', 'notifications2', 'buttons3', 'lifeoverall', 'min2', 'handneed', '2500mh', '12999-10', '1300', '=11700/-', 'deliverywith', 'policytotally', 'yelllow', 'whiteother', 'contect', '8853718149', 'rairaisahab', 'compls', 'featurenot', 'poordo', 'basool', 'frustrate', 'thye', 'associate', 'conformed', 'problemheating', 'problemand', 'turbocharged', 'itjust', 'botb', 'unfocused', 'escape', 'bakhwas', 'kuchi', 'aab', 'betary', 'jyasa', 'bahat', 'lenovoworth', 'approving', 'drawback/loophole', 'traingular', 'right-hander', 'okcamera', 'pricey', 'veryy', 'uake', 'turant', 'retunn', 'paya', 'phonelarge', 'displaygood', 'qualitygreat', \"'number\", 'fundamental', '25/05/2018', '28/05/18', 'socked', '11-jun-10', '699', 'apr-30-may-28', '13,999but', 'bekaarpehle', 'inko', 'uske', 'kaharb', 'kiyaa', 'pehla', 'bekaaar', 'quickly2', 'hangs5', 'cover6', 'alphabetic', 'separately8', 'warmpros1', 'door2', 'steaming', 'list6', 'feature7', 'slip', 'boxi', '1piece', '2-3hours', 'conditioned', '😊🙂🙂👍👍👍', 'experencie', 'backuptoo', 'carrynot', 'distorts', 'phoneloved', 'templates', 'ofhelio', 'blaming', 'bargain', 'magnanimous', 'predessors', 'gautam', 'den', 'satisfiedthe', 'sealand', 'absentplease', 'mobileturbo', 'mobilebatry', '4ghearing', 'spk', 'wellturbo', 'filling', 'idbattery', 'hoursheating', 'zabardast', 'heit', 'young', 'trial', 'corrupt', 'wellll', 'enormous', 'avaliable', 'sensor3', 'cameracons1', 'life3', 'parfoamce', 'averagebut', 'marathalli', 'unreaded', 'aligarhthis', 'definately', 'moneypost', 'warning-do', 'stretch', 'incumbent', 'dyjddhndjjccbnnxcnnxfj', 'mobilewith', 'asin', 'b01lzksuxf', 'breleyant', 'coler', 'enjoyed', '15000awesome', 'camerabrilliant', 'backupfast', 'chargingsmooth', 'toucheverything', 'friction', 'itekdum', 'mobilehigh', 'performancehigh', 'graphicsstylish', 'designbig', 'chori', '19-', 'substantial', '😉', 'x22', 'performancefrequently', 'surfingi', 'connectthing', 'itbetter', 'priceprosstock', 'bodykiller', 'processerkiller', 'looksconsdepth', 'improveheats', 'usagebacklight', 'betterit', 'mane', 'bok', 'chalaya', 'kwalityi', 'fatjaata', 'bettryi', 'bekap', 'heet', '15-16hours', 'parent', 'reads', 'unsecured', 'whattsapp', 'regardhemal', 'inversion', 'invert', 'hppn', 'severely', 'phonecam', 'darsan', 'appbattery', 'scarred', 'pannel', 'gbtotally', 'headphoesetc', 'recognised', 'lteit', 'withsome', 'aapne', 'frontimages', 'heavy-duty', 'hng', 'useing', 'nogaut', 'raghavendari', '14000my', 'fro', 'goat', 'chargingi', 'lenovoso', 'evrytme', 'sunny', 'poorui', 'crashes4gb', 'publicitydevelopers', 'bugsboot', 'loop', 'bugui', 'hardwarepoor', 'permissible', 'snapshot', 'geating', 'flashing', 'good☺️☺️👌🏻', 'unavailable', 'productnothing', 'specialnot', 'assign', 'product😄', 'stayed', 'wort', '22/03/2018', 'overheatinglow', 'optimizationdepth', 'tend', 'argue', 'camerawell', 'overvalued', 'parameter', 'attraction', 'idk', 'fluently', 'speedometer', '📞', 'peranoma', '4gbram', 'connectedit', 'bad😈😈😈😈😈', '120', 'lifebattery', '11,999', 'ate', 'ohk', 'hungin', 'gimmickotherwise', 'earn', 'roz', 'jaa', 'lagaya', 'screenshort', 'replacementissues', 'noteworst', 'modelscast', 'workingram', 'poordrawbacksairtel', 'voltepower', 'availablesound', 'atmosamazon', 'plugging', 'hitches', 'adopt', 'expression', 'exel', 'killer8', 'takcall', 'mobilemobile', 'replies', 'swithched', 'singles', 'poour', 'parformance', 'prosecer', 'whater', 'gaget', 'pakeging']\n"
     ]
    }
   ],
   "source": [
    "print(singlewordlist)"
   ]
  },
  {
   "cell_type": "code",
   "execution_count": 24,
   "metadata": {},
   "outputs": [
    {
     "data": {
      "text/plain": [
       "dict_keys(['good', 'but', 'need', 'updates', 'and', 'improvements', 'worst', 'mobile', 'i', 'have', 'bought', 'ever', ',', 'battery', 'is', 'draining', 'like', 'hell', 'backup', 'only', '6', 'to', '7', 'hours', 'with', 'internet', 'uses', 'even', 'if', 'put', 'idle', 'its', 'getting', 'discharged', '.', 'this', 'biggest', 'lie', 'from', 'amazon', '&', 'lenove', 'which', 'not', 'at', 'all', 'expected', 'they', 'are', 'making', 'full', 'by', 'saying', 'that', '4000mah', 'booster', 'charger', 'fake', 'it', 'takes', 'least', '4', '5', 'be', 'fully', 'charged', 'do', \"n't\", 'know', 'how', 'lenovo', 'will', 'survive', 'of', 'us', 'please', 'don', ';', 't', 'go', 'for', 'else', 'you', 'regret', 'me', 'when', 'get', 'my', '10', '%', 'cash', 'back', 'already', '15', 'january', 'the', 'phone', 'everthey', 'changed', 'last', 'problem', 'still', 'same', 'returning', 'highly', 'disappointing', \"'m\", 'telling', 'buyi', 'totally', 'disappointedpoor', 'batterypoor', 'camerawaste', 'money', 'awesome', 'while', 'charging', 'heats', 'up', 'allot', 'really', 'a', 'genuine', 'reason', 'hate', 'k8', 'note', 'level', 'has', 'worn', 'down', \"'s\", 'over', 'hitting', 'problems', 'hanging', 'k', '8', 'so', 'where', 'service', 'station', 'in', 'ahmedabad', 'one', 'years', 'warranty', 'can', 'change', 'lot', 'glitches', 'dont', 'buy', 'thing', 'better', 'some', 'other', 'options', 'wrost', 'working', '/', 'damage', 'within', '2', 'months', 'purchase', 'item', 'much', 'heating', 'life', 'very', 'poor', 'faced', 'motherboard', 'slim', 'battry', 'screen', 'love', 'headset', 'available', 'every', 'time', 'automatic', 'on', 'off', 'kindly', 'suggest', 'what', 'best', 'product', 'according', 'their', 'prize', 'range', 'specification', 'comparison', 'another', '(', 'under', ')', 'had', 'during', 'seal', 'paid', '10,999', 'also', 'hdpf', 'credit', 'card', 'was', 'rs', '9998.', '1', 'deal', 'hv', 'done', 'rapidly', 'why', 'tell', 'possible', 'solutions', 'smartphone', 'galery', 'there', 'atmos', 'speakernormal', 'speaker', 'excellent', 'camera', 'speed', 'features', 'excelent', 'ok', 'os', 'quickly', 'odinary', 'unexpected', 'does', 'many', 'cast', 'or', 'without', 'wifi', 'no', 'call', 'recording', 'option', 'connect', 'hotspot', 'gave', 'usb', 'cable', 'price', 'second', 'fast', 'display', 'been', 'improved', 'specifications', 'functions', 'any1', 'bouth', 'fon', 'am', 'surprised', 'see', 'two', 'speekars', 'ringing', 'non', 'disappointed', 'issue', 'displaying', 'colors', 'before', 'new', 'update', '0', 'oreo', 'worked', 'superbly', 'back-up', 'superb', 'after', 'got', 'simply', 'unnecessarily', '😒😒☹️', 'dual', 'sim', 'customer', 'performance', 'gets', 'oveheated', 'bestin', 'pricefull', 'passa', 'wasole', 'wonderful', 'bad', 'signal', 'goes', 'frequently', 'restarts', 'whenever', 'feels', 'bcoms', 'hot', 'plzz', 'round', '!', 'purchasing', 'we', 'loosed', '3000', 'span', '30', 'days', 'trust', 'worthy', 'deals', 'worth', 'big', 'disappointment', 'headache', 'incoming', 'calls', 'always', 'show', 'rate', 'quality', 'too', 'works', 'well', 'amazing', 'lower', 'using', '3-4', 'mins', 'continuously', 'heated', 'purchased', 'bigggggggest', 'first', 'sell', 'slow', 'take', 'around', 'hr', 'charge', 'ekdam', 'bakwaaaasssdo', 'network', 'permanent', 'lowbattery', 'lowpls', 'nice', '4gb', 'rm', '64gb', 'inbuilt', 'memory', 'featurs', 'loved', 'phone😍😍', 'value', 'beautiful', 'looking', 'bluetooth', 'connecting', 'audio', 'breakups', 'were', 'happened', 'youtube', 'half', 'an', 'hour', 'exists', 'choice', 'standby', 'long', 'killer', 'jet', 'run', 'any', 'apps', '👌👌', 'as', 'described', 'ca', 'work', 'tv', 'miracast', 'upto', 'contacts', 'vcf', 'files', 'download', 'google', 'drive', 'sd', 'total', 'device', 'average', 'usage', 'could', 'day', 'con', 'though', '4000', 'mah', 'drains', 'specially', 'depth', 'enabled', 'mode', 'focus', 'perfect', 'most', 'about', 'india', 'ka', 'werorst', 'offer', '100', 'signals', 'out', 'coverage', 'area', 'cheating', 'people', 'mark', 'weight', 'high', 'point', 'improve', 'mo', 'added', 'now', 'system', 'updated', 'delivery', '10000.', 'gestures', 'latest', 'issues', 'choose', 'brands', 'great', 'cleare', 'sharp', 'thanks', 'such', 'must', 'guys', 'verigood', 'firstly', 'delivered', 'dissatisfied', 'weeks', 'secondly', 'android', 'naugat', 'optionthirdly', 'selling', 'cost', '13999/-', 'drastically', 'dropped', '10999/-fourthly', 'talking', 'nerve', 'pulling', 'radiation', 'immediate', 'fix', 'matter', 'safety', 'security', 'fifthly', 'hardware', 'let', 'centers', 'location', 'ensure', 'availability', 'should', 'customers', 'booked', 'finally', 'discribed', 'found', 'mentioned', 'earlier', 'would', 'met', 'expectations', 'snap', 'attached', 'automatically', 'recently', 'thoroughly', 'thumbs', 'hello', 'remember', 'check', 'picture', 'use', 'sleeping', 'make', 'sure', 'data', 'performanc', 'super', 'turbo', 'calling', 'waste', 'below', 'thn', 'just', 'raised', 'return', 'request', 'pros', ':', 'rest', 'cameradesignperformance', 'etc', 'wrest', 'hang', 'happy', '☺️🙂', 'lots', 'malfunction', 'donot', 'look', 'sleekness', 'less', 'basic', 'sound', 'controler', 'shortcut', 'shutter', 'importantly', 'voice', 'recorder', 'third', 'class', 'k3', 'k4', 'kind', 'thinking', 'stucks', 'anytime', 'load', 'ram', 'defuces', 'short', 'sometimes', 'normal', 'gallery', 'othet', 'stock', 'often', 'shows', 'process', 'com', 'stopped', 'workingwhat', 'shut', 'handset', 'replace', '3', 'times', 'allahabad', 'centre', 'month', 'becomes', 'plz', 'u', 'gift', 'raping', 'poorwords', 'small', 'refund', 'personally', 'recommend', 'anyone', 'want', 'compatible', 'than', 'chromecast', 'casting', 'model', 'mid', 'pretty', 'arises', 'then', 'ignored', 'slot', 'returned', 'giving', 'star', 'bcz', 'm', 'fan', 'year', 'guess', 'ignore', 'v.', 'gaming', 'music', 'deca', 'core', 'processor', 'worse', 'quad', 'processed', 'said', 'speakers', 'them', 'left', 'holes', 'cheat', 'buyers', 'decent', 'made', 'keeps', '50', '-', '60', 'awsome', 'sep-17', '25dec17', 'way', 'fool', 'called', 'lol', 'effecting', 'popularity', 'segment', 'productcamera', 'greatsound', 'greatover', 'more', 'expect', 'drawback', 'late', 'experience', 'previously', 'k5', 'mic', 'facing', 'phones', 'expectation', 'hurts', '😪', 'apart', '4g+4g', 'logic', 'needs', 'clear', 'sales', 'dolby', 'feature', '8.', 'switch', 'weak', 'punching', 'compare', 'k6', 'sofwares', '?', 'defective', 'earliest', 'images', 'yellow', 'shadow', 'occurred', 'showing', 'add', 'false', 'mi', 'brand', 'give', 'again', 'perform', 'story', 'drain', 'joke', 'known', 'phn', 'gud', 'n', 'prpperly', 'major', 'disadvantage', 'detachable', 'except', 'xt1902-3', 'type', 'm2cb2', 'since', 'ten', 'satisfied', 'because', 'description', 'both', 'slots', '4g', 'support', 'whereas', 'supports', '3g', 'okay', 'effects', 'cameras', 'otherwise', 'backlogs1', 'mobiles', 'struck', 'delay', 'responding', 'runs', '3100', '3.', 'operating', 'response', '4.', 'contact', 'searching', 'irritating', 'search', 'save', '5.', 'friends', 'pls', 'swear', 'front', 'reasonable', 'channel', 'right', 'avarage', 'double', 'tap', 'wakeup', 'properly', 'earphone', 'jbl', 'hota', 'hai', 'connectivity', 'quick', 'talk', 'due', 'large', 'twin', 'requires', 'steadier', 'hands', 'mine', 'ota', '0.', 'connection', 'intermittent', 'unstable', 'supplementary', 'information', 'claimed', 'gorilla', 'glass', 'probably', 'ordinary', 'cracked', 'slipped', 'grasp', 'sitting', 'sofa', 'says', 'covered', 'reducing', 'rating', 'stars', 'provided', 'districts', 'bit', 'heavy', 'notification', 'sounds', 'adjusted', 'annoying', 'photos', 'clarity', 'bodru', '29th', 'august', '4000mhz', 'try', 'solve', 'batterybattery', 'hrsit', '😎😎', 'smooth', 'configuration', 'auto', 'deduced', 'listing', 'touch', 'huge', '22', 'nd', 'jan', '2018.', 'supposed', 'lasts', 'lookswise', 'name', 'upon', 'smart', 'course', 'rough', 'given', 'damaged', 'terms', 'rom', 'alongwith', 'corning', 'things', 'burning', 'ur', 'pocket', 'lacks', 'pc', 'started', '25', 'gb', 'seriously', 'think', 'ye', 'wale', 'b.', 'c', 'kharida', 'usme', 'game', 'ly', 'bolte', 'par', 'behanchod', 'layla', 'dete', 'bhosdi', 'ke', 'pese', 'jane', 'bhi', 'nai', 'inka', 'technician', 'khelke', 'kenya', 'koi', 'copy', 'bhej', 'diya', 'mat', 'kaharidna', 'se', 'bhot', 'volte', 'sms', 'coming', 'smoothly', 'running', 'till', 'goodbut', '13mp', 'effect', 'honestly', 'a1', 'youif', 'selfie', 'holic', 'here', 'literally', 'top', 'selfiein', \"'ll\", 'say', 'snapdragon', '625', 'your', 'redmi', 'built', '20', 'nm', 'technology', '14', 'efficient', 'providing', '15w', 'worry', 'plug', '70', '80', 'hrs', 'minimal', 'keep', 'mind', 'cons', \"'re\", 'buying', 'may', 'occur', 'overall', 'condition', 'fabulous', 'parfomce', '👌👌👌', 'recent', 'record', 'facilities', 'adequate', 'instructions', 'compete', 'redme', 'rasidul', 'kaji', 'announced', 'killar', 'saw', 'decide', 'bu', 'aftwr', '7th', 'playing', 'simple', 'ex-', 'temple', 'opinion', 'west', 'availablebattery', 'goodbelow', 'key', 'light', 'availableheating', 'thanx', 'ok.', 'tym', 'chrger', 'accessories', 'kept', 'until', 'something', 'per', 'software', 'unfortunately', 'older', 'ekdum', 'bakwas', 'frustrating', 'mistake', '1st', 'led', 'side', 'buttons', 'loose', 'deapth', 'sensing', 'finger', 'print', 'senser', 'require', 'start', 'lasting', 'useful', 'age', 'group', 'thank', 'delivering', 'performing', 'fantastic', 'used', 'storagesat', 'lte', 'bugs', 'several', 'proper', 'care', 'roam', 'center', 'our', '14k', 'idiots', 'crap', 'traps', 'lovely', 'ordered', 'venom', 'black', 'variant', 'received', 'gold', 'pathetic', 'going', 'touchscreen', '15k', 'approx', 'handy', 'supporting', 'serious', 'able', 'crack', 'ready', 'amount', 'defected', 'piece', 'headphone', 'jack', 'prefer', 'moto', 'g5', 'dubble', 'image', 'zoom', 'opetion', 'menu', 'soon', 'records', 'reception', 'compared', 'devices', 'provider', 'flactuating', 'zero', 'complaint', 'solution', 'forum', 'anything', 'yet', 'future', 'asome', 'products', 'inaudible', 'express', 'pc/laptop', 'complained', 'exchange', 'waiting', 'resolution', 'supurb', 'having', 'invoice', 'singal', 'singnal', 'operators', 'disgusting', 'low', 'afraid', 'burst', 'planing', 'throw', 'threat', 'those', 'policy', 'wrong', 'asking', 'verified', 'faulty', 'being', 'returnable', 'period', 'strongly', 'garbage', 'site', 'fine', 'subsequently', 'inspite', 'rapid', 'thier', 'auth', 'vain', 'aware', 'lying', '17', 'became', 'navigation', 'makes', 'rethink', 'through', 'sale', 'drawbacks', 'apple', 'never', 'boots', 'night', 'logo', 'powered', 'sad', 'phoen', 'peice', 'meagain', 'replacing', 'peiceand', 'meant', 'requirementsgood', 'speedgood', 'cameragreat', 'hangingloved', 'bill', 'bhangar', 'demerits', 'views', 'actually', 'easily', 'brokenable', 'thickness', 'usual', 'main', 'heat', 'net', 'raj', 'mishra7383506358', 'budget', 'competeting', 'series', 'marketing', 'gimmickcamera', 'samsung', 'pricebut', 'nearly', '4hrs', '5hrs', 'old', 'mob', 'itself', 'unable', 'fastly', 'crashed', 'requesting', 'everor', 'version', 'everbattery', '100-10never', 'movie', 'lover', 'wanted', 'watch', 'box', 'chrome', 'castthere', 'disappointingly', 'find', 'draw', 'who', 'mirroring', 'team', 'live', 'chat', 'person', 'chatting', 'mr', 'saleem', 'further', 'typing', 'next', 'question', 'he', 'abruptly', 'disconnected', 'posts', 'users', 'complaining', 'lag', '2000', 'diwali', 'plus', 'additional', 'paying', 'debit', 'sw', 'avg', 'headphones', 'mobail', 'reached', 'did', 'contain', 'moderate', 'volume', 'flash', 'default', 'write', 'disk', 'build', 'rear', 'bug', '2017', 'affordable', 'stylist', 'improvement', 'plugged', 'into', 'jio', 'friendhe', 'phoneall', 'specs', 'meet', 'his', 'daily', 'requirementsbuta', 'skinned', 'little', 'fullotherwise', 'tech', 'lenevo', 'whole', 'part', 'empty', 'missing', 'finds', 'defects', 'guy', 'opened', 'void', 'trusted', 'everytime', 'pissed', 'experiencing', 'clearity', 'especially', 'store', 'play', 'everything', 'games', 'spend', 'online', 'airtel', 'morning', 'end', 'ending', '40-45', 'remaining', 'fone', 'connections', 'stored', 'bigger', 'font', 'size', 'ia', 'indicator', 'predecessors', '08/10/2017', 'fault', 'restart', 'consulting', 'technical', 'solved', 'visited', 'mapusa', 'goa', 'expertise', 'upgrade', 'resolved', 'mother', 'board', 'questions', 'physical', 'water', 'dimage', 'probleam', 'margao', 'panjim', 'near', 'km', 'weast', 'valuable', 'entire', 'provide', 'noticeable', 'difference', 'log', 'looks', 'promising', 'various', 'models', 'seen', 'terrible', 'thoughts', 'trusting', 'listening', 'browsing', 'facebook', 'insta', 'solid', 'dayi', 'g3', 's3', 'htc', '628g', 'j7', 'prime', 'seems', 'among', 'shattered', 'pictures', 'songs', 'enter', 'whatsapp', 'gmail', 'continues', 'become', \"'d\", 'surely', 'escalate', 'nowhere', 'honor', '6x', '1k', 'lesser', 'tricked', 'slowmo', 'lapse', 'taken', 'professional', 'manual', 'iso', 'focussing', 'disaster', 'lens', 'wish', 'company', 'wakes', 'starts', 'rolling', 'sensor', 'self', 'satisfaction', 'myself', 'wasting', 'thought', 'gifting', 'father', 'incomplete', 'these', 'provides', 'marketed', 'claiming', 'highlight', 'factors', 'lost', 'interest', 'post', 'launched', 'smartphones', '4-5', '’', 's', 'four', 'reach', 'backupoverall', '*', 'yes', 'scratched', '10min', 'contacted', 'help', 'spending', 'doulby', 'video', 'experiencetotally', 'date', 'compromise', 'cos', 'randomly', 'receiving', 'bettry', 'sir', 'iam', 'akash', 'adagond', 'curved', 'attach', 'tampered', 'air', 'gap', 'present', 'surround', 'sufficient', 'send', 'pay', 'purcsaesd', 'almost', 'lodged', 'complain', 'nothing', 'afterwords', 'respond', 'few', 'flickering', 'multiple', 'touching', 'horrible', 'truble', 'decision', 'replaced', 'suddenly', 'dead', 'wait', 'repaired👎👎', 'chargingcharging', 'cool', 'prospicture', 'qualitydolby', 'atmosbatteryprocessormusic', 'keystock', 'androidfast', 'chargecons', 'camerano', 'custom', 'uiheating', 'goodness', 'nvr', 'abt', 'week', 'application', 'crash', '10th', 'kuch', 'khas', 'nahi', 'interface', 'turnoff', 'app', 'stop', 'own', 'turns', 'offline', 'come', 'assure', 'separating', 'themselves', 'relationship', 'spectaluar', 'lags', 'bokeh', 'bt', 'lowest', 'body', 'heatingbattery', 'decrease', 'completely', 'cards', 'however', 'related', 'cell', 'networks', 'roaming', 'areas', 'lack', 'chipset', 'puts', 'situation', 'doesnt', 'satisfactory', 'haven', 'previledge', 'bonus', 'points', 'order', 'begining', 'sometime', 'gives', 'feelings', 'hand', 'oriented', 'tht', 'phon', '8th', 'sep.', 'install', 'installed', 'rebooting', 'reinstall', 'fck', 'bestest', 'user', 'friendly', 'bet', 'enough', 'experiences', 'k3note', 'dabba', 'dnt', 'dis', 'cam', 'vry', 'god', 'wit', 'd', 'nt', 'power', 'dan', 'head', 'package', 'pricing', 'chargre', 'doesn', 'illuminate', 'adequately', 'illuminating', 'strains', 'eyes', 'brightness', 'dull', 'slitly', 'owned', 'sucks', 'via', 'earphones', 'came', 'flaw', 'boasts', 'twice', 'loses', '85', '12-14', 'mean', 'keeping', '20-30', 'fluid', 'installation', 'case', 'cover', 'return/exchange', 'middle', 'loving', 'outstanding', '2-3', 'starting', 'review', 'misguided', 'disconnect', 'frequent', 'drop', 'conference', 'malfunctioning', 'delete', 'management', 'modification', 'gesture', 'becoming', 'combination', 'effective', '5-10', 'minute', 'gameplay', 'unacceptably', 'hard', 'earned', 'replacement', 'feel', 'cheated', 'sbi', 'brother', 'liked', 'flop', 'brick', 'better1', 'charges', 'once', 'stuck', '43', 'percent', 'mins2', 'allow', 'answer', 'freezes3', 'latch', 'missed', 'alerts4', 'trucaller', 'wellthis', 'lennovo', 'im', 'swipe', 'unlock', 'unlocks', 'password', 've', 'born', 'loads', 'motion', 'hope', 'receive', 'tecording', 'g5s', 'sense', 'natura', 'color', 'competitors', 'might', 'probs', 'emi', 'qualitywhen', 'zooming', 'noise', 'ear', 'fooling', 'looting', 'mail', 'flas', 'bhul', 'lena', 'bilkul', 'kharab', 'agar', 'kahi', 'bahar', 'nikle', '2se', 'ghanta', 'ho', 'jayega', 'photographer', 'consider', 'gps', '-switch', 'reboot', 'afford', 'extra', 'lenovothis', 'batterylow', 'turbocharger', 'takes1and', 'chargewrost', 'mobil', 'whatever', 'monthsafter', 'eg', 'book', 'open', 'slowly', 'far', 'surethe', 'seconds', 'page', 'sudden', 'mobilecamera', 'ok4', '4overall', 'parformence', 'saved', 'struggles', 'dedicated', 'advantage', 'observed', 'colour', 'quite', 'impressive', 'selfi', 'scratch', 'nyc', 'y1', 'between', 'perfomance', 'comes', 'conclusion', 'fields', 'overnight', 'tried', 'types', 'including', 'gta', 'san', 'andreas', 'nova', 'mediatek', 'produce', 'juice', 'pump', 'primary', 'single', 'song', 'played', 'connected', 'musoc', 'distorting', 'complete', 'failure', 'regretting', '``', \"''\", 'kills', 'cause', 'bothering', 'penny', 'sturdy', 'hold', 'loud', 'supporting2', 'set', 'ring', 'tone', 'es', 'file', 'explore', '3/4', 'baad', 'real', 'maja', 'aa', 'raha', 'hi', 'discharge', 'rahi', 'nhi', 'horhe', ',dollby', 'kaam', 'isse', 'achha', 'toh', 'kisi', 'krdlo', 'ki', 'bahut', 'kam', 'ko', 'krna', 'padta', 'different', 'blinking', 'performancebutlow', 'glassbut', 'camed', 'lil', 'effort', 'pull', 'setsfid', 'number', 'badit', 'shown', 'magzineee', 'amazome', 'tracking', 'facility', 'track', 'proof', 'putting', 'stone', 'line', 'goods', 'tag', 'match', 'didnt', 'oero', 'dis-', 'appointing', 'feed', 'reply', 'lanovo', 'pe', 'nehi', 'tnx', 'stand', 'perfectly', 'seeking', 'utni', 'mast', '1month', 'function', 'instead', 'took', '42', 'replacement/return', 'feeling', 'merged', 'standard', 'went', 'decacore', 'reset', 'thus', 'portrait', 'paisa', 'wasul', 'vedio', 'breaking', 'occurs', 'stay', 'away', 'alternates', 'mp', 'supported', 'voltee', 'taking', 'yeah', 'beautifulbranded', 'branded', 'wast', 'accept', 'lead', 'exist', 'manufacturing', 'defect', 'beast', 'reduces', '30-20', 'extensively', 'heats-up', 'rang', '13+5', 'object', 'orignal', 'cableservice', 'local', 'cabledont', 'upsetting', 'bettory', 'fingerprint', 'scanner', '4gb/64gb', 'realy', 'demanding', 'systems', 'closed', 'wise', 'goodfor', '4for', 'camera-', '2cheap', 'phonewaste', 'details', '5hours', 'supar', 'lovers', 'stylish', 'masterpiece', 'sleek', 'wo', '😊', 'guard', 'capacity', 'hardly', 'flawless', 'smooththanks', 'medium', 'past', 'decreasing', 'feb', '2018', 'quicker', 'relay', '-5', 'someone', 'suggested', 'mths', 'tis', 'thankful', 'planning', 'shop', 'oly', '❤️😄😍', 'blindfolded', 'helios', 'noticed', 'brought', 'march', 'falling', 'meters', 'link', 'original', 'lcd', 'folder', 'curve', 'begin', 'considering', '24', 'soft', 'premium', 'percentage', 'serves', 'purpose', 'k8performance', 'closest', 'rival-', 'trouble', 'overheating', 'antiscratchscratch', 'fall', 'downbad', 'glassscreen', 'cpu', 'hyped', 'believe', 'edges', 'blurred', 'along', 'background', 'helio', 'x23', 'clocked', 'ghz', 'aslo', 'consumes', 'ui', 'roms', 'miui', 'final', 'verdict', 'market', 'g5+', 'graphics', 'bekar', 'ha', 'lo', 'inside', 'pack', 'although', 'limited', 'booklet', 'bettery', 'pattern', 'rather', '@', '13999.', 'arebeautiful_', 'mirror', 'disturbing', 'sensitive', '64', 'internal', 'processer', 'broken', 'early', 'strong', 'grip', 'regard', 'logs', '10k', 'somany', 'steps', 'connector', 'equal', '8mp', 'duel', 'button', 'free', 'transparent', 'split', 'window', 'multitasking', 'needfull', 'repacked', 'valid', 'dec2018', '27april2018', 'miss', 'seller', 'spoke', 'nokia', 'ware', 'tacky', 'response2', 'set/earphone', 'supplied', 'overlook', 'excitement', 'offered', 'alternatives', 'synergy', 'packed', 'items', 'separately', 'grade', 'problemkeyboard', 'opening', 'accessing', 'data/internet', 'nightmare', 'absurd', 'excuses', 'problemno', 'problemgood', 'means', 'imagine', 'workinv', 'action', 'repenting', 'corn', 'phonegreat', '13', 'bugging', 'onwards', 'slightly', '5mp', '4k', 'remains', 'ilove', 'mention', 'nor', 'inbuild', 'losing', 'band', 'apn', 'prepare', 'omlet', 'o', 'ask', 'fear', 'll', 'mh', 'dslr', 'hence', 'flaws', 'rectifies', 'pixel', 'nic', 'totaly', 'nos', 'pics', 'captured', '13+5mp', '1-2', 'nero', 'dot', 'suoerrr', 'upgraded', 'advised', 'lagging', 'gamingbarry', 'superboverall', 'goodthanks', 'phone1', '180gms', '2.', 'games3', 'gaming4', 'whitish', 'plastic6', 'bezels', 'covers', 'space7', 'faster', 'minutes', 'packs', 'storage', 'secondary', 'osm', 'true', 'note4', 'effectsnice', 'costnew', 'lookbut', '--', 'capture', 'cheap', 'ones', 'absolutely', 'crazy', 'diagnostic', 'declare', 'essentially', 'turning', 'liar', 'antenna', 'besides', 'powerful', '1-', 'blink', 'msg', 'arrived', 'text', 'arrived2-', 'issue,3-', 'amp', '4-', 'draning', 'fastly5-', 'lence', 'coverd', 'dust', 'detail', 'later', 'trades', 'meeting', 'hoid', 'download/', 'explanation', '-1', 'consumption', '3rd', 'though:1.', 'ramthe', 'hybrid', 'visit', 'employees', 'lame', '#', 'worstphone', 'shamelenovo', 'configruation', 'gr8', 'somethings', 'ultimate', 'saver', 'customization', 'maybe', 'utilizing', 'cyanogenmod', 'warrenty', '12000', 'gpu', 'adreno', '51', 'nov', '40', 'recovered', 'regarding', 'view', 'batteryis', 'cons:1', 'claims', 'slowest', 'experienced', 'expectedp', 's.', '-my', 'neighbour', 'vivo', 'definitely', 'attacheing', 'issu', 'seeing', \"phone's1\", 'quality2', 'discharging', 'battery3', 'fitting', 'playings', 'handling', 'foulty', 'discussed', 'agreed', 'output', 'listen', 'baking', 'deep', 'faltu', 'baker', 'phonekoi', 'aur', 'pura', 'akdom', 'ghatiya', 'bulky', 'stupid', 'design', 'mbl', 'instumet', 'deley', '1.', 'occasions', 'extensive', 'required', 'hotport', 'ata', 'strength', 'external', 'transfers', 'vice-versa', 'corrective', 'withdraw', 'sold', 'updation', '5000', 'fetures', 'upadatons', 'suggestion', 'creating', 'refuse', 'share', 'manner', 'services', 'accidentally', 'broke', '8000rs', 'grt', 'goodit', 'advanced', 'everyone', 'either', 'wi-fi', 'officials', 'attractive', 'thankx', 'email', 'chargerthe', '7to', 'impore', 'setting', 'dial', 'screenshot', 'settings', 'prdt', 'standardsvery', 'impressed', 'wothy', 'powerfull', 'delicate', '4500', 'lazy', 'gona', 'crashes', 'flicking', 'cured', 'throwing', 'courier', 'eagerly', 'transferred', 'player', 'dear', 'manufacturers', 'previous', 'edition', 'competitor', 'replicate', 'duplicate', \"'with\", \"'\", \"'without\", 'competiror', 'promise', \"'dolby\", 'enabling', 'equilizer', \"'null\", 'trader', 'today', 'dated', '05/09/2017', 'installing', 'account', 'immediately', 'blur', 'videos', 'social', 'media', 'sites', 'batry', 'bckup', 'stops', 'gone', 'told', 'pm', 'tlng', 'tommorow', 'continued', 'opposite', 'unables', 'hear', 'clearly', 'touched', 'ar', 'paused', 'extraordinary', 'boasted', 'setup', 'gimmick', 'pure', 'robbed', 'stripped', 'vibe', 'dumping', 'cant', 'backlit', 'keys', 'bottom', 'coupled', 'projected', 'minus', 'hd', 'displays', 'repair', '22nd', 'hav', 'personal', 'problemslet', 'b', 'reviewthnks', 'slowed', 'frankly', 'speaking', 'higher', 'removed', 'shortcuts', 'shot', 'alert', 'switched', 'feedback', 'exploring', 'regrettable', 'slashed', '1000', 'wholeso', 'concerned', 'packing', 'battary', 'drained', 'fastits', 'chargeweight', 'todays', 'handfree', '20-22', 'battrey', '3000mah', '😑', 'wasted', 'satisfy', 'sporting', 'oppo', 'a57', 'reviews', 'waisted', '/moto', 'outgoing', 'recipient', 'mera', 'kho', 'gya', 'mere', 'dijiye', 'infrad', 'ray', 'port', 'functioning', 'focusing', 'stablity', 'usable', 'wow', 'balanced', 'prospects', '😍but', 'mediatek😭', 'batteries', 'qualities', 'tested', 'credentials', 'rank', 'mega', 'pixels', 'refused', 'commitment', 'idea', '122', 'desirable', 'photoholics', 'configurations', 'considered', 'marvellous', 'asked', 'positive', 'resonde', 'phone/charger', 'al', 'exlent', 'reviewers', 'exp', 'qualiy', 'awful', 'hoping', 'hangs', 'heting', 'registered', 'id', 'urgent', 'naught', 'mentioning', '20/09/2017', 'expires', '08/june/2018', 'checked', 'official', 'worthy-', 'detect', \"tv's-\", 'sharing', 'available-', 'parallel', 'options-', 'wifi-', 'breaks', 'minute-', 'pathetic-', 'problem-', 'appropriate', 'enhancements', 'amend', 'address', 'above', 'keen', 'superbbb', 'respect', 'lock', 'prob', 'restarting', 'divice', 'overheated', 'turned', 'task', 'manager', 'cellular', 'deliver', '1day', 'prior', 'scheduled', 'reality', 'jio4gvoice', 'smoothest', 'descent', 'rounder', 'backed', 'varient', '3gb', 'inserted', 'sims', 'updating/downloading', 'insert', 'remove', 'repairing', 'shops', 'regular', 'helped', 'bo', 'doubt', 'panasonic', 'eluga', 'a2', '34', '-25', 'balance', '1:30', 'lt', 'easy', 'operate', 'capturing', 'alot', 'failed', 'eighteen', 'consume', 'checking', 'expecting', 'happens', 'rigid', 'fills', '75', 'lot😂😂', 'gamer', 'jhakass', '10days', 'writingit', '26th', 'september', 'understand', '6hrs', 'moreover', 'chances', 'sweet', 'instagram', 'nad', 'writing', 'eight', 'qualitysupereb', 'megapixel', 'quit', 'gameing', 'cons-', 'battey', 'evening', 'detected', 'matically', 'zeo', 'silent', 'work100℅charging', '5hoursturbo', 'workwent', 'query', '♥️', 'utilization', 'similar', '14999.', 'regularly', 'temperature', 'continue', 'dislikeenhanced', 'released', 'lenovowhich', 'multi', 'tasking', 'occasionally', 'complaints', 'builth', 'editing', 'somewhat', 'exception', 'p1', 'iphone', 'style', 'ejector', 'annoyingoverall', 'makan', 'f', 'kcharger', 'softwear', 'refusing', 'sealed', 'phonecast', 'improves', '2+', 'sort', 'tweak', 'ummaah', 'bolby', 'bass', 'detailed', '16', 'ohms', 'sennheiser', 'cx', '300', 'ii', '180', 'loudness', 'motorola', 'g6', 'fools', 'flagship', 'list', 'minimises', 'home', 'happen', 'asphalt', '14000', 'minimum', 'twice/thrice', 'yesterday', 'authorized', 'v', 'bye', 'rupees', 'loaded', 'decreases', 'dislike', 'fitted', 'complementary', 'boy', 'soyou', 'sone', 'resolving', 'began', 'nonsense', 'splash', 'rendered', 'useless', 'wet', 'rain', 'sucksand', 'continuous', 'phonethe', 'flashlight', 'picturesi', 'itemnow', 'gon', 'na', 'tenor', 'glet', 'companyanyways', 'lenovoi', 'sucksthe', 'watching', 'videoand', 'updating', 'updatetheir', 'tolerated', 'evrything', 'okk', 'pleas', 'cheak', '-1.', 'face', 'drainage', 'backlight', 'none', 'soo', 'whatsup', 'tube', 'holding', 'min', 'scary', 'rs13999', '12000.', 'obvious', 'staggering', 'recognise', 'hanged', 'execute', 'applications', 'ran', 'whose', 'promised', 'whether', 'rectify', 'upgradation', 'sorry', 'promote', 'vigorous', 'advertisement', 'packaging', 'edits', 'pic', 'produced', 'feeld', 'badly', 'edited', 'unless', 'place', '2nd', 'excelant', 'oem', 'veraions', 'elapses', 'productsome', '🔋', 'lowers', 'category', 'correct', 'unique', 'recognition', 'televisions', 'performances', 'ssue', 'timely', 'damn', 'allure', 'shots', 'warm', 'bed', 'baught', 'processing', 'brilliant', '👍', 'showed', 'accepted', 'catch', 'router', 'tablets', 'instantly', 'anywhere', 'house', 'happening', 'noughat', '11650.', 'tale', 'disappoint', 'observe', 'three', 'selection', 'deleting', 'trasparent', 'tomuch', 'lighted', 'annoyed', 'surf', 'fans', 'laptop', 'pointed', 'damp', 'cloth', 'extremely', 'disappointedcharging', 'mire', 'galary', 'earplug', 'greetings', '18th', 'prompt', 'downloaded', '19th', 'conked', 'imei', 'currently', 'travelling', 'dhaka', 'chennai', 'february', 'alternate', 'thankssriram', 'wht', 'bedluk', 'drag', 'fit', 'finish', 'tad', 'taste', 'sides', 'guards', 'stick', 'corners', 'paper', 'pre', 'occupied', 'mostly', 'competition', 'recoder', 'hiting', '1week', 'based', 'waist', 'space', 'r', 'lg', 'q6', 'exicited', 'weapon', 'hammer', 'absent', 'worthfull', 'vary', 'dischargingno', 'allowing', 'stable', 'gorla', 'problem1-bettry', '2-back', '3-', 'verry', '5-', 'funtation', 'velly', '6-', 'lenov', 'assuming', 'changer', 'changes', 'slight', 'increase', '500', 'wont', 'photo', 'appear', 'smaller', 'slighly', ',cemara', 'perparmence', 'generation', 'feachers', 'difficult', 'problems1', 'letv2', 'stream', 'car', 'interface4', 'banking', 'printer', 'force', 'campared', 'web', 'downloading', 'dialing', '48', 'degree', '10999.', 'rare', 'camerabattery', 'bower', 'full100', 'lemovo', 'xxxxxrupes', 'badthe', 'scrathed', 'scrathes', 'eill', 'appearbon', 'pocketvery', 'pooormain', 'electronic', 'proplem', 'leave', 'guyzz', 'prey', 'avglook', 'okthe', 'lights', 'confusebattery', 'plusfront', 'avarge', 'fuction', 'miter', 'havent', 'fase', 'urgently', 'mirring', 'r/sir', 'superior', 'budgeted', 'expections', 'lip', '100℅', 'processes', 'decade', '2v', '5v', '16hrs', \"'ve\", 'moneyafter', '20days', 'pixelsi', 'kow', 'wt', 'tottaly', 'baf', 'vth', 'networking', 'offering', 'traveling', 'singtone', 'secure', 'comapre', 'others', 'five', 'enjoy', 'superfast', '3ghz', 'chip', 'p2', 'fastest', 'world', 'highest', 'amoled', 'sony', 'doubts', 'i.', 'e.', '13499', 'flipkart', 'guarantee', 'pick', 'maximum', 'exceptional', 'modes', 'utter', 'nuisance', 'willing', '52', 'p.', 'm.', 'idling', 'unbearable', 'stuff', 'phonemoney', 'workingworst', 'earth', 'performancene', 'costly', 'ad', 'desire', '816g', 'lenonvo', 'ads', 'repellent', 'policies', 'move', 'exact', 'outcome', 'close', 'approximately', 'assured', 'hdr', '2g', 'speeds', 'separate', 'nano', 'additionally', '6.', 'unlocking', 'important', '7.', 'assistant', 'actions', '9.', '10.', '11.', '12.', 'awake', '13.', 'press', 'click', 'bell', 'symbol', 'vibrate', '14.', 'absolute', '15.', 'customizations', 'needed', 'comely', 'ringtone', 'bahot', 'kiya', 'lekin', 'wonderfull', 'friend', 'gifted', 'him', 'status', 'bar', 'hearing', 'blurring', '4000mahcons', 'explained', 'nearest', 'authorised', 'letter', 'settled', 'increased', 'stability', 'real-life', 'k8-note', 'particularly', 'dies', 'drivers', 'flaky', 'drops', 'picks', '6-8', 'adieu', 'indeed', 'initially', 'myth', 'stoped', 'worthless', '0ct2017', 'pinned', 'reae', 'spped', '13-14', 'mnt', 'sensors', 'problemdo', 'deurability', 'boss', 'activate', '481', 'ppi', 'pays', '😒😒', 'buttery', 'patch', 'dept', 'capacitive', 'dark', 'popup', 'raises', 'x', 'launch', 'heatsup', 'borne', 'war', 'robots', 'frame', 'amazone', 'restricting', 'disturbs', 'routine', 'highno', 'schedule', 'on-off', 'featurewe', 'add-on', 'overcome', 'buzzing', 'ways', '9999', '10999', 'powwr', 'comfortable', 'in-box', 'lounched', '6months', 'lounching', 'functionality', 'follows:1', 'wide', 'scene', '8:00', '7:00', 'office', 'profile', 'whatsapp/fb', 'simultaneously', 'tapping', 'zone', 'guest', 'alright', 'across', 'error', 'hangouts', 'lastly', 'exactly', 'living', 'prise', 'negativity', 'verygood', 'everyday', 'otps', '16gb', 'awsm', 'shape', 'bend', 'kidding', 'men', 'journalist', 'problemssensor', 'problembattery', 'fastapp', 'hangedscreen', 'callin', 'manageri', 'sent', 'pice', 'g2', 'degraded', 'priority', 'cheater', 'childish', '4g2', '[', ']', 'optimized', 'ram/battery', 'managementuser', 'tiny', 'recommended', 'following', 'issues:1.', 'vodafone', 'bars', 'handsets', 'knew', 'day-to-day', 'on/off', 'awesomes', 'utterly', 'particular', 'specify', 'mobile:1.', 'pocket-friendly2', 'isn', 'forever', 'survives', 'promotion', 'scrach', 'badbattery', 'galti', 'krdi', 'maine', 'acha', 'le', 'leta', '15000', 'camera-poor', 'bring', 'chargers', 'maintioned', 'touchpad', 'requested', 'executive', 'arranged', '5m', 'mobilepeople', 'bcs', 'ironing', 'dress', 'micro', 'oven', 'specialy', 'butterfly', 'mble', 'worste', 'heard', 'reare', '10-15', 'thru', 'message', '5-6', 'beats', 'department', 'competent', 'recharge', 'tacke', 'couple', 'attempts', 'futile', 'vcard', 'biswajit', 'adhikary', 'mai', 'liye', 'paas', 'reguest', 'muje', 'poucha', 'dey', 'seven', 'thats', 'beat', '32', 'forth', 'slower', '4:30', 'managed', 'yesi', 'downwhile', 'lenova', '9k', 'swiftness', 'fulled', '150', 'describes', 'extreme', 'bright', 'vivid', 'delivers', 'confused', 'degrading', 'futures', 'tough', 'shutting', 'k8+', 'dable', 'dikhavati', 'moneyi', 'camerai', 'returnablepls', 'reminders', 'snapdeal', '20th', 'approach', 'resolve', 'thay', 'orio', 'fluctuate', 'otg', '1hr', 'tempered', 'include', 'heatup', 'release', 'fullday', 'comapints', 'familiar', 'companies', 'perfamenc', 'struggled', 'messages', 'feeble', 'pcb', 'mind-blowing', 'ideal', 'included', 'finding', 'job', 'r.', 'pro', 'vs', 'utube', 'denniscnlew', 'durability', 'test', 'sarvis', 'meri', 'mano', 'saman', 'mt', 'mgao', 'flipcard', '15mints', 'mnts', 'timing', 'electric', 'iron', 'scratches', 'idiot', 'designed', 'planned', 'huwai', 'reading', '12,999.', 'actual', 'bhokeh', 'photography', 'hype', 'unworthy', 'apparently', 'degrades', 'shell', '1500', 'against', 'diagnosed', 'amused', 'word', 'excell', 'prone', 'risk', 'blast', 'immediately/quickly', 'discharges', '>', 'mobile2', 'note3', 'guard5', 'effect6', 'side7', 'form', 'batery', '65-75', 'charger8', '90min', '90-100', 'informed', 'needful', 'considerable', 'understatement', 'phine', 'solving', 'written', '2hrs', 'thin', 'leeco', '1s', 'eco', '52mins', 'buyer', 'featured', 'doessnot', 'testing', 'genuinely', '2017.', 'sharpness', 'accurate', 'reproduction', 'resolutions', 'unwatchable', 'computer', 'control', 'acceptable', 'messenger', 'activates', 'unread', 'indefinite', '2500', '3/4th', 'casual', 'be-aware', 'viewing', 'infrared', 'blaster', 'remotes', 'finishing', 'doing', 'whats', 'turn', 'concern', 'significantly', 'ago', 'beyond', 'expetions', 'access', 'websites', '14khave', 'moon', 'disconnecting', 'feet', 'noisy', 'distorted', 'specific', 'owners', 'procedure', 'month1', 'good2', 'perc', '12', 'mange', 'tray', 'goof', 'far😀😀😀', 'uptomark', \"does't\", 'developed', 'jus', '0-90', '90', '-100', 'charing', 'lowered', 'notice', 'batterry', 'packup', 'shopping', 'sabase', 'ghatiaa', 'gi8', 'freeze', 'ds', 'finished', 'lately', '3products', 'portion', 'remain', 'uninserted', 'fasterheadphones', 'outstandingok', 'dectection', 'problembookeh', 'greatfantastic', 'looksamazing', 'selfieshonest', 'instilling', 'gomora', 'az', 'blank', 'section', '4g+3g', 'deceived', 'claim', 'sim1', 'g.', 'bakwaas', 'h', 'coz', 'december', '25th', 'messaging', 'august,2017', 'masha', 'allah', 'reviewing', 'favourite', 'dissatisfying', '13k', 'enable', 'atleast', 'maintain', '~30', 'stared', 'mint', 'smarttest', 'noted', 'repeated', 'report', 'scared', 'stores', 'advise', 'warming', 'game😥', 'nougut', 'trained', 'y', 'reactifi', 'costumer', 'family', 'a7000', 'a6000', 'hangup', 'common', 'news', 'grocery', 'electronics', 'aap', 'metallic', 'goodvalue', '51gbheating', 'elongated', 'eska', 'chehre', 'spouse', 'bakvas', 'hisab', 'bateery', 'oz', 'caller', 'bareilly', 'region', 'fail', 'stillwaiting', 'desplay', 'lappy', 'etna', 'ap', 'kehi', 'mele', 'ga.', 'jaga', 'peppar', 'pis', 'mila', 'tha', 'mujhko', 'parfect', 'darling', 'surley', \"'cast\", 'non-functional', '11', 'meter', 'hight', 'funny', 'follow', 'rumours', 'mobilegood', 'displaynice', 'performanceaverage', 'ghatu', 'regards', 'beset', '22-02-2018.', 'jumbled', 'answering', 'stays', 'workingeven', 'compelled', 'reasonably', 'nly', 'rite', 'quire', 'andi', 'cahrges', 'initial', '22-aug-2017', 'crisp', 'eye', 'catcher', 'either2', 'grainy3', 'either4', 'addition', 's/w', 'better5', 'far4', 'dimmer', 'brighter', 'display6', 'fine7', 'rangeverdict', 'jumping', '25-aug-2017', 'day2', 'stabilization', 'patience', 'shot3', 'issue4', 'optimization', 'suitable', 'issue5', 'dataverdict', 'believed', 'select', 'tq', 'relative', '8999', 'adjust', 'break', 'esasyly', 'pressure', 'wants', 'hesitation', 'turn-offs', 'fm', 'frustrated', 'restarted', 'explored', 'relatively', 'upset', 'screwed', 'saturation', 'microphone', 'one+6', 'recieved', 'much👍👍', 'hangging', 'yeh', 'jaldi', 'garam', 'ja', 'jyada', 'apeksha', 'usingbphone', '7hrs', 'chagre', 'ans', 'placed', 'pros1', 'android2', 'updates3', 'installation4', 'comparatively', 'responsivesmooth', 'awesome6', 'atmos7', 'cons1', 'gimmick,2', 'fixed', 'camera,3', 'lenses', 'performance,4', 'behaving', 'weirdly', 'saving', 'lookkiller', 'camerakiller', '360°', 'atmosawesome', 'performancei', '9', 'pubg', 'together', '😎', 'preforming', 'badiyaa', 'har', 'ek', 'isme', 'aachi', 'baat', 'dukhi', 'hu', 'chalta', '343', 'karbaya', 'chlta', 'ply', 'kyu', 'casback', 'mony', 'ablebal', 'acoumnt', '3000mh', 'overaal', 'sunlight', 'visibility', '⚠️', 'problem3', 'problem4', '👍5', 'unnecessary', 'payment', 'heeting', 'thik', 'thak', 'screenno', 'built-in', 'galleryno', 'recorderdump', 'detecting', 'appears', '6hours', 'intake', '1pcs', '2pcs', 'notethe', 'xiaomi', 'quatlity', '70+', 'yrs', 'ease', 'operation', 'receipt', 'wake', 'locked', 'notify', 'mall', 'irla', 'vile', 'parle', 'w', 'mumbai', '18', 'oct', 'representative', '15-days', 'reload', 'spent', '700', 'backing', 'reloading', '27', 'reoccurred', 'sick', 'assist', 'defaut', 'clipboard', '190gram', 'created', 'launching', 'buffering', 'portals', 'trendy', 'headsets', 'accessory', 'kit', 'deteriorating', 'standards', 'attention', 'palm', 'outgo', 'misfired', 'specifically', 'widely', 'pages', 'helps', 'arrange', 'mood', 'desires', 'devise', 'appreciate', 'elderly', 'anroid', 'preinstalled', 'adapter', 'confirmed', 'stones', 'boxes', 'misssing', '7x', 'notk8', 'buttry', 'reciving', 'time2', 'identify', 'it,3', 'caputring', 'measuring', 'only6', 'ph', 'only7', 'mobi8', 'good9', 'gp', ',64', 'romin', 'effectively', 'woww', 'rocks', 'guyz', 'peoples', 'recless', 'wasteage', 'launcher', 'lacking', 'worser', 'cheaper', 'looted', 'factory', 're-boot', 'micromax', 'perhaps', 'resulted', 'she', 'wisly', 'heartly', 'urself', 'worest', 'prevent', 'functionalities', 'malad', 'altogether', 'speed/power', 'audiophile', 'x3', 'suited', 'enthusiasts', 'rugged', 'navigate', 'fasst', 'republic', 'reduced', 'prices', 'beauty', 'discount', 'indian', 'operations', 'strange', '5star', '5min', 'hit', 'jata', 'issuehow', '1star', 'avrg', 'november', 'fasti', 'blue', 'tooth', 'playiy', 'conditions', 'failing', 'bhai', 'katha', 'hbe', 'kono', 'blown', 'proportion', 'intensive', 'maha', 'sirf', 'bnd', 'chalna', ',or', 'iska', 'sbse', 'ander', 'bich', 'road', 'pr', 'kin', 'tkm', 'kru', 'iske', 'awaz', 'ji', 'aati', 'mnth', 'ul', 'fell', 'dwn', 'centres', 'accepts', 'ths', 'parts', 'favorite', 'mirroring/cat', 'touch/assistive', 'hopeless', 'irritated', 'dad', 'rocking', 'dotted', '💰💰', 'nougat', 'shareit', 'nowadays', 'quantity', 'longer', 'buyed', 'trying', 'trun', 'smartv', 'mazor', 'venomous', 'pros-1', 'design4', 'speakers5', 'ill', 'resource', 'easily7', 'dirty', 'skins', 'andoid', 'blowing', 'ranged', 'costo', 'pin', 'apdated', 'verson', 'additions', 'uper', 'differences', 'minor', 'u.', 'bactory', 'smoother', 'police', 'calangute', '13999', '11999', 'enoughspeaker', 'ridiculous', 'unused', 'rated', 'problems,1', 'boke', 'strategy', 'tries', 'responds', 'correctly', 'awww', 'neither', 'dud', 'exciting', 'strictly', 'software-', 'provision', 'gaming-', 'avoid', 'degrees', 'speed-', 'runned', 'chance', 'display-', 'review-', 'sd625', 'compromised', 'update-', 'humble', 'b4', '12k+', 'cooker', 'special', 'etcoverall', 'universe', 'words', 'usefull', 'bhout', 'bada', 'shandaar', 'sells', 'pad', 'billion', 'grms', 'yourself', '3month', 'like1', 'backup2', 'loss', 'features3', 'brain', 'comparable', \"'killer\", 'fast/turbo', '😡', 'unplugged', '8am', 'replug', '5pm', 'fab', '😍😍', 'ausome', 'perfm', '30-60mins', 'surfing', 'graphic', 'f1s', 'jiffy', 'notes', 'customized', 'ringtones', 'alarm', 'generally', 'linked', 'purchaseed', 'deliverd', 'timecons', 'airtel4g', 'missig', 'restarting/aeroplane', 'alreadynever', 'honor6charging', 'olx', 'forget', 'blurry', 'focusexpected', 'negative', 'notifications', 'whom', 'understood', 'herculean', 'escalating', 'shall', 'revert', 'responses', 'disgusted', 'kill', 'cooked', 'hurry', 'counter', 'repent', 'prudent', 'warn', 'fraternity', 'potential', 'rajiv', 'pathakrajivpathak27', 'frequest', 'exhausted', 'saviour', 'ahead', 'asseseris', 'offers', 'abysmal', 'lov', '👎', 'atoms', 'recording,3', 'placement', 'vibration', 'unhappy', 'six', '-4', 'chutia', '09', 'aug', 'booting', 'consulted', 'intimated', 'consult', 'supplying', 'qulaity', 'wonder', 'seemed', 'stunning', 'satisfying', 'strucks', 'lagy', 'lonovo', 'stellar', 'e', 'cracking', 'definition', 'execellent', 'wala', 'sit', 'socket', 'remarkable', '8-10', 'persist', '2700', 'each', 'optimise', 'recommendation', 'betteryy', '10hr', 'trustworthy', 'versatile', 'rupee', 'persons', 'baecap', 'jat', 'turo', 'onebattery', 'netbattery', 'chargingphone', 'ironboxdata', 'killing', 'satisfiedtouch', 'daybefore', 'serous', 'travellers', 'demerit', 'demo', 'struggle', 'signale', 'party', '6/10design', '8/0performance', '7/10overall', '7/10', '9-10', 'orrio', 'example', 'ext', 'erase', 'threads', 'popping', 'forums', \"dont't\", 'redirecting', 'orders', 'register', 'whatsoever', 'rocket', 'kommerce', 'llp', 'picking', 'hipper', 'bangalore', 'desply', 'places', 'careful', 'jio4g', 'vlt', 'lighting', '3and', 'minets', 'problembaiterry', 'fastfront', 'sligjtly', 'mm', 'propdrly', 'massage', 'sim2', 'cheapest', 'state2', 'sleep', 'timer', 'working3', 'afternoon', 'worst2', 'fast3', 'heats4', 'condition5', 'height', 'noon', 'camra', 'shades', 'onevery', 'screens', 'batterystock', 'androidvery', 'smoothcons', 'overheats', 'speakers-', 'quality-', 'goodcons', 'rr', 'impact', 'poor-', 'players', 'support2', 'blair', 'good3', 'flip', 'used4', 'flesh', 'light5', 'lke', 'bank', 'that6', 'good7', 'windows', 'one8', 'strep', 'average9', 'leg', 'numbers', 'note10', '9i', 'batter', 'fragile', 'resistant', 'ft', '5k', 'gen', 'acting', 'digit', 'digits', 'pops', 'knw', '17.', 'fireball', 'blame', 'max', '5300mah', 'equally', 'barely', 'goog', 'nicely', 'monile', 'sheet', 'geting', 'fr', 'getng', 'worried', 'blashed', 'ma', 'supose', 'flimsy', 'ground', 'liquid', 'water/moisture', 'robust', 'qulality', '12hours', 'dragging', 'discrb', 'quality,2', 'usually', 'edit', 'hidden', 'list5', 'available6', 'unknown', 'unwanted', 'ambition', 'list7', 'fast8', 'outlook', 'goodin', 'thissrinivas', 'kopilla', 'hyderabad', 'frnd', 'pricerear', 'vr', 'goodaccessing', 'ramfinger', 'quickoverall', '👌👌👌👍', 'toggle', 'msgs', 'photoshopped', 'bliss', 'hum', 'skeptical', 'dhasu', 'hadephone', 'sine', 'overheat', 'cashmemo', 'ac', 'flicker', 'advertised', 'troubles', 'laggings', 'bcoz', 'yours', 'amaging', 'longtime', 'quikly', '1year', '3months', '11months', 'adaptor', 'honour', 'holds', 'tasking2', 'excellent3', 'night4', 'good5', 'charging6', '37', 'goos', 'performer', 'rush', 'profusely', '4-10', 'bam', '-_-again', 'rushed', 'cord', 'problems:1.', 'heavier', 'protect', 'flat', 'ruins', 'prepared', 'amazed', 'theme', 'variety', 'wallpapers', 'sessions', '12k', 'satisfaied', 'act', 'leaving', 'cancelled', 'sexy', 'honi', 'chahiye', 'responsive', 'tends', 'hojata', 'heee', 'overpriced', 'bother', 'lelo', 'bhtar', 'rhegayeh', 'dûñïâ', 'kha', 'sabse', 'ghatia', 'bhut', 'bura', 'china', 'lobhut', 'haii', 'sepaking', 'supernot', 'capturedm', 'rangeone', 'sunshine', 'transportation', 'dattry', 'pak', 'ian', 'ohhh', 'woow', 'deseises', 'protection', 'fastbut', 'upbattery', 'contiue', 'falls', 'dim', 'retailer', 'pronlem', 'k8note', 'incredibly', 'infuriating', 'changing', 'heater', 'mff', 'energy', 'aspects', 'generating', 'heavily', 'general', 'goood', 'productbattery', 'bacup', 'excellentsound', 'badbluetooth', 'property', 'icon', 'faults', 'disconnects', 'everybody', 'goodonly', 'updat', 'haging', 'suppoted', 'pacup', 'thankxx', 'bulit', 'spcl', 'multimedia', 'beware', 'jealous', 'lookonly', 'limit', 'refunded', '13,999', '2,000-3,000', 'loyal', 'cab', 'aman', 'x20', 'panel', 'bear', 'mistake6', 'terriblly', 'incorrect', 'dual-standby', 'pain', 'unexpectedly', 'exchanging', 'expectations9', '1/2', 'nw', 'dat', 'wr', 'worts', 'backcharger', 'greate', 'reutrn', 'lit', 'v5plus', 'applocker', 'crashdepth', 'properlyi', 'temporary', 'manufacturer', 'usability', 'despite', '10-core', 'huawei', '2015', 'crashing', 'inefficient', 'clicking', 'photographs', '+3', 'constant', 'checks', 'vaio', 'boosts', 'advertisements', 'versions', 'june/july', 'wife', 'fulfil', 'sounf', '2mnth', 'dry', 'handle', 'alternative', 'sock', 'switching', 'reachable', 'rhi', 'karta', 'ne', 'kya', 'nikala', 'haur', 'mahanamazon', 'kharidna', 'chaiye', 'refrain', 'regressed', 'casting/mirroring', 'menus', 'unfriendly', 'step', 'alienating', 'releasing', 'substandard', 'markets', 'caution', 'okpros-', 'removable', 'weights', 'gms', 'truly', 'wastage', 'digital', 'tab', 'poordr', 'singh', 'pan', 'cook', 'dosa', 'snail', 'clueless', 'ovearl', 'availablespeakers', 'goodcamrea', 'result', '13mg', '4010', 'surprisingly', 'boom', 'surprise', 'skip', 'managing', 'warrently', 'anyway', 'crudely', 'keypad', 'history', 'dialling', 'pads', '2k', '20k', 'rates', 'maintenance', 'expensive', 'bless', 'consumers', 'luck', '😘😘😘', 'completed', 'showcase', 'researches', 'fhd', '32gb', '3hours', '20hours', 'anymore', 'spared', 'discourage', 'folks', 'towards', '625.', 'opens', 'stands', 'requirements', 'jabra', 'halosmart', 'turbocharging', 'clean', 'wash', 'protector', 'collapsed', 'skipped', 'devicefound', 'drizzle', 'cheatedprocessor', 'vashul', 'karthik', 'artificial', 'haha', 'papers', 'volcano', 'explode', 'duty', 'stuffs', 'sofware', 'pickup', 'purchases', 'produces', 'interferes', 'capabilities', '5star1', 'gaming3', 'use4', 'selifie', '+', 'fvvg', 'prafomens', '😍', 'wen', 'unbeatabledolby', 'amazingcompactworth', 'moneybest', 'clicked', 'bulb', 'closing', 'battery,4000', 'betry', 'bina', 'kiye', 'phonenice', 'productfullfill', 'torch', 'superrrr', 'shameless', '2016.', 'persisting', 'fast2', 'charger3', 'white', 'recommand', 'hang-up', 'buys', 'vfm', 'pl', '😒😏', '10mins', 'alpha', 'rude', 'non-', 'othervise', 'semma', 'jan2018', 'dueto', 'mono', '-this', '-hotspot', 'success', '1600.', 'card-', 'cherry', 'cake', 'sestem', 'watt', 'fade', 'riajiaconsultants', 'scores', 'octacore', 'proc', 'widgets', 'console', 'promoted', 'fallen', 'connects', 'stuttering', 'fooled', 'blocking', 'activating', 'disturb', 'mujhe', '5mm', 'mentionedhangs', 'lotheatingperformance', 'letting', 'owsome', '180gm', 'okayworking', '5bettry', '😕', 'poduct', 'usally', 'state', 'abnormal', 'plenty', 'ordinay', 'basics', 'copying', '😒😒😒😢😢😢😢', 'quicklyi', 'sets', 'heading', '36', 'motog5', 'resistance', 'impossible', 'ages', 'dash', 'motog2', 'nooo', 'winter', 'apply', 'photoes', 'accuracy', 'bougt', 'note41', 'torch/', 'fps', 'brothers', 'arms', 'manages', 'pairing', 'openly', 'admitting', 'deemed', 'vasool', '14-15', 'current', 'patches', 'appx', '700mb', 'inferior', 'dent', 'whithin', ':1.', 'suspended', 'locks', 'stars2', 'mah3', 'goodcamera', 'moves', 'incredible', 'faked', 'matched', 'lasted', 'oppction', 'lete', 'karna', 'riingtone', 'ker', 'leye', 'ase', 'bhoir', 'suppppeeeerrr', 'awesomejust', 'issueotherwise', 'rumors', 'certification', 'selfy', 'excellentbecoming', '4gmobile', 'operations1', '10mins2', 'charging3', 'minstoo', 'arrival', 'shame', 'business', 'contenders', 'frank', 'preference', 'slippery', 'dac', 'audiophiles', 'outdoor', 'indoors', 'indoor', 'trade', 'subject', 'steady', 'tops', '1080p', '30fps', 'depends', 'mtk', '0-100', 'july', 'aggressive', 'ranger', 'o.', 'g', 'indore', 'cut', 'gudslowly', 'futurecons', 'nfc', 'ir', 'costs', 'oval', 'hillarious', 'duak', 'gd', 'odered', 'stage', 'welll', 'oh', 'yeaahhh', 'sec', 'jhakas', 'easier', '4000mgz', 'benefit', 'buyback', '7500', 'clock', 'is3', 'slotsgood', 'goodnice', 'ameezing', 'shortly', 'theatre', 'omg', 'p', 'wàs', 'il', 'dullbattery', 'okaysound', 'improvedno', 'galleryonly', 'wall', 'changedno', 'themesdual', 'worksexpecting', 'updateeven', 'engineers', 'consuntil', 'foolit', 'numberit', 'temperaturei', 'utility', 'conversation', 'safe', 'grasping', 'coolpad', '😢😢', 'terrific', 'desk', 'inform', 'attaching', 'deny', 'consumer', 'theek', 'sala', 'achcha', 'avrage', 'h.', 'mobilesimply', 'resolution2', 'processor4', 'mode5', 'hands-free', 'subpar', 'featuresfantabulous', 'depend', 'fact', 'comments', 'dono', 'karte', '☺️☺️☺️', 'functionalitysatisfied', 'productfast', 'stopping', 'unoperative', 'bujet', 'reviwing', 'plzzz', 'adays', 'decided', 'initiate', 'didnot', 'fraud', 'beaware', '30k', 'processar', 'gorrila', 'insisted', 'april', 'buggy', 'applied', 'softly', 'goodbattery', 'quicklybattery', 'duriation', 'errors', 'frist', 'reasons', 'boardthat', 'beating', 'overthink', 'சிறப்பான', 'ஒன்று', 'என்று', 'சொல்ல', 'இயலாது', 'ஏற்றுக்கொல்லலாம்😂😚', 'adverdised', 'hilights', 'goodpros', 'lovin', 'look2', 'backup3', 'camera4', 'okat', 'bukeh', 'musically', 'snapchat', 'funniest', 'phone😂😂', 'recomand', 'thanku', 'documents', 'phonecamera', 'goodphone', 'fastexpectation', 'olmost', 'greatest', 'methodeven', 'method', 'goodrear', 'sttill', 'amazingbecause', 'sound-', 'okayoverall', 'lenono', 'enforced', 'victim', '1hour', '12-15', 'puzzled', 'smartcheck', '5days', 'bitter', 'handseti', 'backupdue', 'stutters', 'grippy', 'ever👍👍👍👍👍😍😍😍', '10hrs', 'irresistible', 'natural', 'explain', 'promises', 'advertising', 'race', 'device1', 'fluctuating', 'signal4', 'earpiece', 'bad5', 'noises', 'crowd6', 'quicklyplease', 'थोड़ा', 'महँगा', '।।।।।।।', 'stood', 'tower', 'guide', 'fabules', 'suuport', 'dobly', 'amzone', 'servies', 'staff', 'nicephone', 'problem🔥', '13000', 'behave', 'scretch', 'inner', 'confirm', 'fischer', 'bast', 'reboots', 'ex', 'okkk', 'rely', 'givers', 'lier', 'wellcamera', 'porafamens', 'problemremaining', 'hange', 'accidental', 'cutter', 'functionally', 'xiomi', 'laptops', 'timei', 'diasapointed', 'prashant', 'distance', 'temp', 'owsm', 'gus', 'loot', 're', 'apk', 'recoding', 'helpline', 'substitute', 'iphone6', 'functional', 'fb', 'peace', 'surprising', 'th', 'bosted', 'spider', 'survived', 'tho', 'collecting', 'sep', 'raced', 'picked', 'asap', 'semmaya', 'iruku', 'finebattery', 'oklittle', 'thisbut', 'paring', 'successfully', 'wireless', 'music/voice', 'playback', 'interval', 'devises', 'unresolved', 'sluggish', 'leading', 'reviewer', 'dam', 'mamu', 'bana', 'justify', 'misguide', 'opinions', 'sister', 'presist', '1-while', 'tempreture', 'grow', '2battery', 'drail', '88', '86', '62', 'time3-', 'mobile4-', 'update1-', 'good2-', 'perfermance', 'good3-', 'good4-', 'device5-', 'properly6-', 'good7-', '8-', 'why9', 'suppose', '84', '10-', 'methis', 'dealing', 'productnotification', 'continously', '60-65', '8-9', 'maga', 'pixal', 'autometically', 'spec', 'themes', 'laps', 'lookpros', 'backupnice', 'resolutionprotective', 'screenmetal', 'designfinger', 'unlockcons', 'issuesblue', 'compatibility', 'poorlow', 'cameracould', 'effectsi', 'urge', 'helpful', 'pros4gb', 'flashconsdifficult', '5d', 'screenbrightness', 'lessbluetooth', 'onsome', 'moments', 'grabbing', 'feast', 'loadedvalue', 'moneylight', 'mid-range', '15mins', '9months', 'fire', 'emerging', 'losses', 'leneovo', 'wich', '3k', 'uploading', 'comparing', '2gb', 'unsatisfied', 'fixing', 'shoots', 'qualify', 'advance', 'vga', 'yureka', 'real-time', 'pro-mode', 'editor', 'lolheating', 'browsingbattery', 'ai', 'assembled', 'carelessness', 'visible', 'oneplus', 'yeari', 'mom', 'welcome', 'hourand', 'lwnovo', 'netwrk', 'printed', 'honest', 'occasional', 'kenobi', 'z2', '820', 'proofrather', 'backupfront', 'awesomeenough', 'devicetouch', 'awesomefingerprint', 'charmfree', 'coverseparate', 'cardandroid', 'sooncons', 'jio4gphone', 'sometimesfacebook', 'crashesdolby', 'usedual', 'hoax', 'corilla', 'receieved', 'sceptical', 'thisfirstly', 'satishfied', 'wd', 'watevr', 'cameraheatingbattery', '29/08/17', '13999/', '1000/', '2000/', 'respectively', 'opt', 'yaar', 'wapas', 'isey', '😠', 'vorest', 'cheaters', 'promoting', 'tempting', 'feature-rich', 'makkhan', 'prove', '6-7', '10-15k', 'disappoints', 'inserting', 'quicklyfront', 'look-', 'readable', 'cals', 'emails', 'painfull', 'product0', 'candy', 'crush', 'modern', 'displayed', 'sencer', 'problem2', 'sake', 'workingotg', 'dried', 'culprit', 'lumia', '512', 'mb', 'brandambassador', '2days', 'sincei', '32gb/3gb', 'contrasting', 'ta', 'somewhere', 'paired', 'aspect', 'now,10', 'felt', 'optimisation', 'betterment', '50-60', 'utelisation', '45-50', 'lets', 'rear,13+5', 'active', 'slr', 'innovation', 'optimum', 'releases', 'reveiwers', 'charm', 'kuddos', 's-hope', '20daysfacing', 'severe', 'heck', '5th', '10sept', '2months', 'passed', 'dream', 'mpixel', 'telecom', 'phonebattery', 'goodcarmera', 'goodoverall', 'pricedont', 'heatting', 'disappionted', 'production', 'tint', 'yellowish', 'supet', 'googel', 'resistered', 'browser', 'flipkarts', 'samasung', 'plas', 'poorand', 'willbe', 'drilled', 'superstar', 'fastlyi', 'sooo', '😊😊easy', 'rectification', 'abnormally', 'man', 'behaviour', 'olte', 'gudbuti', 'ssatisfied', 'ft.', 'brokencustomer', 'jabalpur', 'basis', 'deposited', '4200/-', '08', '26/09/2017', 'spare', 'servicing', 'problempoor', 'qualityno', 'packagingnot', 'dhale', 'sifahat', 'deviceit', 'jst', 'backi', '9644051287', 'awfully', '9hrs', 'icing', 'accepting', 'protected', 'attended', 'markand', 'aweful', 'liat', 'dats', 'gamesapart', 'idiotic', 'includes', 'ither', 'operationsbttry', 'dsplay', '2-2:30', 'warest', '😢😢😢😢', 'luks', 'patent', 'persisted', 'headfone', 'packet', 'laggy', 'headpones', 'chinese', 'on5', 'greater', 'searched', 'usp', 'forward', 'lenovobrilliant', 'speedbattery', 'algorithm', 'automaticaly', 'andriod', 'microsoft', 're-command', 'shocked', 'jayanagar', 'mediocre', '5500.', 'terribly', 'pathatic', 'freezing', 'fat', 'approximate', 'apearence', 'exterior', 'phonethankyou', 'drainages', '15daysi', 'pop-up', 'busy', 'warmer', 'warmerbut', 'updatethis', '15minn', '14-16hrs', 'boxgood', 'cashback', 'hdfc', 'transfered', 'gio', 'forwarding', 'offthis', 'exillent', 'tubro', 'cemera', 'manageable', 'unusual', 'refresh', 'quicklygets', 'relying', 'equivalent', 'hannged', 'format', 'maintained', 'temperatures', 'dustbin', 'raising', '45c', 'priceeverything', 'density', 'mobilelowest', 'benefits', 'future4+642', '3ghz4000mhz', 'worrest', 'selects', 'forms', 'camara', 'miner', 'midium', 'rural', 'fun', 'complet', 'resultspoor', 'seamless', 'obviously', 'liking', 'likely', 'ang', 'bez', 'materials', 'earsets', 'boxwhat', 'possibleother', 'customar', 'replay', 'spread', 'gm', '200', 'tek', 'bharathi', '48hrs', 'meமிகவும்', 'ஆடம்பரம்', 'இல்லாத', 'பலம்', 'பொருந்திய', 'திரண்பேசி_smart', 'grate', 'specified', 'rich', 'costlier', 'phns', 'trace', 'borders', '10-12', 'unresponsive', 'inlfate', '😘😘', 'goodgood', 'performancebattery', 'goodvery', 'soundsrear', 'copmare', 'g8', 'weeksound', 'goodmusic', 'gooddisplay', 'goodfingerprint', 'battery-', 'negativescamera', 'lightcamera', 'instant', 'tow', 'servicesonline', 'sellers', 'goodtake', 'didn', 'mastercardreally', '😡😡🤬🤬', 'selective', 'angle', 'selfie-beautificationall', 'leatel', 'fluctuations', 'shipping', 'phenomenal', '15000.', 'yo', 'dosto', 'kabhi', 'hamesa', 'kharaab', 'deta', 'kharidne', 'kar', 'paaoge', 'fasata', 'complains', 'karoge', 'jo', 'karne', 'aayega', 'vo', 'jaagta', 'bolega', 'aapse', 'chahte', 'rupaye', 'aapka', 'levono', 'interrupts', 'degrade', 'upgradefront', 'results', 'overheating-', 'mild', 'bothers', '/poor', 'reputation', 'speedy', 'mints', 'c7', 'routed', 'bakwasssss', 'lagta', 'declining', 'problemcharging', 'fastback', 'patriod', 'availablefront', 'gaminggetting', 'continouslyheating', '22gb', 'poorscreen', 'workingspeaker', 'goodworst', 'phoneblessing', 'unlucky', 'comfort', '5500/-', 'sim+', 'intolerable', 'jot', 'reasons1', 'flashy', 'animation', 'root', 'field', 'snaps', 'selecting', 'wifi/mobile', 'software/system', 'notified', 'brings', 'reported', 'tired', \"'cons\", \"'pro\", 'driving', 'cracks', 'quoted', '8500.', '5800', 'fab👍', 'blure', 'moblie', 'wid', 'gamers', 'bomb', 'objecti', 'versioncharger', 'supply', 'wiped', 'clarify', 'bound', 'catching', '10/9camera', '10/7display', '10/9', '5phone', '10/5finger', '10/8battery', '10/7', 'accha', 'ptaa', 'chal', 'kaisa', 'dose', 'dovice', 'fateching', 'hoe', 'loudly', 'ni8', 'lrnovo', 'batary', 'chargingcons', 'mala', 'aavdla', 'khup', 'ahe', 'tumi', 'pn', 'ghya', 'clearrity', 'rights', 'ironbox', 'king', 'doubled', 'loan', 'figure', 'returnned', '12999/-', '11k', 'draines', '😙😞😞🤑', '1000/-the', 'poori', 'antena', 'brokaw', 'officer', 'shuts', 'nominal', 'wan', 'straking', 'desired', '2017but', 'for14hrs', 'indicate', '1hrs', 'returns', 'week1', 'excessively', 'making/receiving', 'magic', 'fonts', 'enhanced', 'zuk', 'website', 'dint', 'excepted', '4/64', 'ram,13+5', ',4000', 'slide', 'blurr', 'cancellation', 'deth', 'killed', 'hesitate', 'defeated', '₹20,000', 'cameradolby', 'musicbattery', '4100', 'mahover', 'bylenovothanku', 'food', 'f9', 'speech', 'consuming', 'maneuvers', '-all', '10mints', 'rance', 'youtubeand', 'canno', 'attch', 'evercamera', 'muchbattery', 'improvment', 'toolkit', 'painful', 'ultimately', 'dump', 'mike', 'camerafully', 'reliability', 'burned', 'lessphoto', 'gallerytarbocharging', 'bogus', 'role', 'frustated', 'applicable', 'thankyou', 'detectes', 'supper', 'okbattery', 'mahoverall', 'jio/volte/4g', 'neck', 'boldbeast', 'awesome7', 'a2dp', 'radmi', 'j2', 'havy', 'lunchar', 'lollipop', 'laga', 'problum', 'notworking', 'autorotate', 'k32', 'callrecording', 'k33', 'recognising', 'child', 'individual', 'k35', 'verylow', '=k3', 'worki', 'sumth', 'surpassed', 'undoubtedly', 'great2', 'osum', 'chargeaga', '8hour', 'aaguthu', 'gues', 'entha', 'mobila', 'yarum', 'vangathinga', 'naan', 'vangi', '4days', 'diye', 'yupprocessing', 'insertion', 'isgoodsound', 'bekarga', 'undi', 'lanjodukuam', 'ra', 'edi', 'nee', 'mari', 'worast', 'ga', 'clumsy', 'demands', '6s', 'fortunately', 'phonevalue', 'spekar', 'ny', 'performace', 'reaer', 'clicks', 'merge', 'impressions', 'impressionsthis', 'hissing', 'notbavailable', 'phonr', 'dwnld', 'rhe', 'manage', '✌', 'certainly', 'samsung/apple', 'lte+lte', 'investing', 'distence', 'confirmation', 'mails', 'directly', 'defeat', 'selficamer', '1950', 'pre-installed', '23', 'shorter', 'proud', 'blamed', 'downgraded', 'so-so', 'sajad', 'ahmed', 'okgood', 'lifetill', 'screencast', 'downside', 'seem', 'worsttttt', 'rrmaining', 'hve', 'knows', '8,9and', 'wrk', 'guaranteed', 'hifi', 'avilable', 'prodect', 'notethanks', '📱', '🤷\\u200d♂️', '👍👍', 'flickers', 'resolves', 'cathing', 'states', 'portal', 'sires', 'def', 'dumb', 'research', 'agent', 'cromecast', 'dongle', 'lied', 'darn', '16:9', 'photograph', 'shoot', 'append', 'rep', 'supervisor', 'woman', 'member', 'flawlesscamera', 'greatno', 'lagg', 'til', 'yrr', 'buletooth', 'shake', 'bougher', 'thy', 'der', 'belt', 'wired', 'soud', 'specifc', 'defecult', 'awasome', 'customize', '13000rs', 'k8note😢😡', 'doesnot', 'dialers', '4gvoice', 'lite', 'death', 'servise', 'ether-net', 'forested', '9718180091satbir', 'heatingupdate', 'vidieo', 'strucking', 'offing', 'unfortunetely', 'attending', 'qualitynetwork', 'bettary', 'inbilt', 'gong', 'mainly', 'are:1', 'disappear', 'deserve', 'usecharging', 'issues1', 'oohhh', 'threre', 'hantset', 'hating', 'bohut', 'dera', 'hy', 'lightly', 'bild', 'wasool', 'quality-just', 'jati', 'backup-fineis', 'geoni', '4a', 'intex', 'aqua', '7700.', 'boost', 'movies', 'widout', 'kidar', 'milega', 'paysa', 'hove', 'sath', 'aate', 'comment', 'suberb', 'clearty', 'soundspiker', 'rajkot', 'dule', '13mpvenom', 'recomends', 'emits', 'capable', \"b'coz\", 'autofacous', 'upgrading', '0too', 'chargingmobile', 'onmic', 'phonemobile', 'disable', 'mess', 'interested', 'expired', '4/5', 'aluminum', 'metal', 'polished', 'oneperformance', 'fastbattery', 'completing', 'dayheating', 'torchcamera', 'wud', 'perspectives', 'monthly', 'bitch', 'thief', 'dacoit', 'belong', 'proved', 'youtubers', 'hones', 'wer', 'oromised', 'entrant', 'gav', 'acquired', 'june', 'motive', 'stab', 'ull', 'wrote', 'jept', 'mum', 'thot', 'sham', 'unacceptable', 'devised', 'high-speed', '₹', 'qulity', 'goodjust', 'updatefrom', 'panorama', '6+', 'vrtical', 'lines', 'advice', '2-4', '15hrs', 'tick', 'read', 'mounth', 'ami', 'deft', 'tu', 'only8099', 'chargingnot', '1ft', 'tuesday', 'ordering', 'watched', 'prosrear', 'gudbuilt', 'gudfrnt', 'gudspeaker', 'gud2', 'consavg', 'mahdisplay', 'avgcamera', 'poorphone', 'chargingtouch', 'slowperformance', 'poor3', 'experiance', 'noteaftr', 'aftr', 'prblm', 'retrn', 'likemoto', 'plusmoto', 'plushonor', '6xasus', 'zenfone', '3n', 'notei', 'asus', 'butapps', 'scrolling', 'liketime', 'analog', 'workgallery', 'easilydown', 'playstore', 'bekaar', 'ekdm', 'fack', '2gud', 'varry', 'beginning', 'phoneworthy', 'jointly', 'foolbattery', 'useand', 'phoneplease', 'k6power', 'k8plus', '3type', '_', '50/100', '10/100', 'centric', 'scale', 'phoneno', 'recirding', 'merging', 'import', 'ctions', 'bindas', 'dissapointed', 'standers', 'vibrat', 'bead', '📷', 'project', '10000000', 'wowsome', 'upgradable', 'purches', 'tp', 'rightly', 'caste', 'dollby', 'bty', 'cases', 'slick', 'atlast', 'hunting', 'comming', 'buffer', 'snepdragun', 'leads', '46℃', 'sufficiently', 'outside', '28th', 'soemtimes', 'mouth', 'boring', 'yaaa', '🤞', 'loophole', 'powers', 'servicewaste', 'supplier', 'featurescamera', 'gudfabulous', 'copied', 'cloudspoor', 'dependencypoor', 'crop', 'functionsd', 'butmicrophone', 'fon👍👍', '376', 'whichbis', 'perforce', 'highnetwork', 'timetoo', 'cheted', 'ws', 'd_atoms', 'vibrant', 'screeni', \"'amoled\", 'lookn', 'boaring', 'wi', 'fi', 'desktop', 'superbely', 'heavey', 'magavali', 'hoti', 'tar', 'ti', 'milali', 'ulat', 'sagnyat', 'aale', 'tumchya', 'shi', 'hou', 'shakala', 'pant', 'shirt', 'broken/dent', 'itit', 'fakeif', 'amezon', 'fot', 'hopes', 'spotted', 'kharido', 'kharid', '√turbo', 'wire', '√after', 'missing√product', 'phone√curved', 'temper', 'telise', 'corrected', 'arise', 'productissues', 'days1', 'work2', 'videos3', 'oversold', 'outlets', 'golden', 'amozon', 'canot', 'andstisfiedwoth', 'satisfiethis', 'voltebekaar', 'sept', 'saddled', '30th', 'sons', 'bday', 'wao', 'awesom', 'whis', 'attachment', '20.', 'pros:1', 'back2', 'design3', 'fast5', 'awesomecons:1', 'flawlessly', 'injustice', 'gaming2', 'processoe3', 'reliable', 'captures', '😔', 'cache', 'screelock', 'clearing', 'wallpaper', 'blacked', 'agents', 'excuse', 'rid', 'scenario', '27th', 'anyways', 'basically', 'ltd', 'eventually', 'repaired', '14,500', 'nicking', 'priced', 'dropping', 'noteplease', 'bang', 'buck', 'prblems', 'everg', 'jan-18', 'performed', 'friday', 'nobody', 'exchanged', 'volte/lte', 'proclaimed', 'issuecharging', 'issuesoftware', 'withthismob', '₹16000', 'covering', 'quility', 'pakiging', 'minut', 'hase', 'tack', 'overly', 'saturated', 'smartphonene', '5-8', 'heatdisplay', 'lookperformance', 'upside', 'forver', 'cheateded', 'wastege', 'loading', ',awesome', '02', '2017really', 'perspective', 'automatocally', '2hours', 'tuch', 'blindly', 'delayed', 'averagebattery', 'unde', 'excess', '2:45', 'purched', 'pata', 'kab', 'nakli', 'din', 'introduced', 'declared', 'hardy', 'deca-core', 'direct', 'unlike', 'nightsound', '4g8', 'turbo-fast', 'in-built', 'compass', 'ms', 'vrcons', 'slow-mo', 'tags', 'usageawesome', 'cameraa', 'heavyfast', 'chargingawesome', 'killerbettery', 'fastnetwork', 'riception', 'goodthink', 'wouldnt', 'badhiya', 'pros:1.', 'looking2', 'cons:1.', 'certain', '40000', 'diacharged', '7-8', 'conclude', 'durable', 'magical', 'detector', 'low3', 'frequency', 'optioncan', 'blutooth', 'featuresbattery', 'alsoto', 'featurebluetooth', 'carhotspot', 'somtime', 'luckbattery', 'applicationscreen', 'freezesno', '2pm', 'xcellent', 'vd', 'rellay', 'paking', 'didt', 'fresh', 'figerprint', 'midiatech', 'should/can', '👍bcz', '2ft', 'attchment', 'students', 'discouraged', 'gra', '5minute', 'chalane', 'sub', 'hone', 'samasya', 'aapko', 'presan', 'dega', 'bjp', 'observation-', 'receiver', 'folt', 'targeted', 'blurs', 'upadation', 'lookwise', 'inconsistent', '////', 'luk', 'dilling', 'entering', 'difficulty', 'banned', 'apk70', 'subjective', 'sustain', 'phoneit', 'monthsheating', 'issuegreat', 'dheere', 'beautifull', 'heating2', '3hrs', 'me3', '3g4', 'tight', 'retrun', 'expense', 'usagein', 'plastic', 'toolcamera', 'daylight', 'defiantly', 'sending', 'handgs', 'experiencebattery:4000', 'traffic', 'presently', 'hmmm', '343/-', 'grill', 'instrument', 'thisin', 'poorcamera', '25-08-2017', 'salefirst', 'morningafter', 'ispros1', 'slot2', '480ppi', 'protection3', 'free4', 'flash6', '95', 'simoltaneously', 'detected8', 'soundcons1', 'performs', 'deg2', '61/2', 'time4', 'use5', 'keeeeeeee', 'upoverall', 'wellif', 'changeran', 'optimzation', '5/5', 'matching', 'shiny', 'systematically', 'sensible', 'refunding', 'itcamera', 'properlyit', 'pros-plenty', 'ramgood', 'capacitydescent', 'speakersturbo', 'chargeamazing', 'resolutiongood', 'camcons-turbo', 'dischargeheavy', 'weightheating', 'sometimesback', 'improvementtough', 'handedstock', 'pieces', 'ample', 'ends', 'butting', 'corrupted', 'awosame', '👍👍👍', 'kinda', 'bums', '10-20', 'depending', 'bucks', 'ooosm', 'gallery2', 'percentage3', 'option5', 'qaleti', '😘', 'equipment', 'bro/sis', 'rangethere', 'specifics', 'conditioni', 'worthful', 'narrow', 'push', 'latching', 'slab', 'branding', 'camerawith', 'optionoverall', '😙😀😀😀😀😎😎😎😎', 'gorella', 'toy', 'dealer', 'bracket', 'realised', 'definite', 'scope', 'silicon', 'case2', 'phone4', 'inclusioncons1', '12-14hrs', 'reduce', 'longevity', 'vaulted', '3s', 'pales', 'parameters', 'beacuse', 'dare', 'crying', 'extent', 'parfomus', 'cald', '5mins', 'increases', '5°', '35', '°to', '40°', 'osam', 'disaplay', 'infront', 'hereafter', 'thrdclass', 'former', '2-2', 'leak', 'layna', 'bakbas', 'hay', 'battert', 'ryt', 'maniac', 'preferred', 'cheaten', 'workingbattery', '2hr0', 'dis-satisfied', '12th', 'unit', '24th', 'behind', 'cardbuy', 'coordination', 'departments', 'cc', 'mia1', 'lime', 'thnx', 'pertaining', 'troubleshooting', 'irrespective', 'blazing', 'appalling', 'unreliable', 'horsepower', 'steep', 'posted', 'factual', 'https', '//forums', 'com/t5/k8-xt1902-smartphones/hi-guys-is-there-any-solution-for-battery-drain-issue-in-lenovo/td-p/3777078', 'foe', 'swich', 'karo', 'lagti', 'imporve', 'formatting', 'mansoor', 'becoz', 'scoldings', 'younger', 'camrera', 'lovable', 'resistency', 'crazily', '🙄🙄🙄', 'rubbish', 'hazzles', 'potrait', 'pbm', 'musicmobile', 'pop', 'hagaging', 'hitter', 'killernote', '18hrs', 'chalti', '15kdelivery', '10800.', '+5', 'moment', '-print', '45', '30-40', '9/10gaming-', '10/10graphics-', '10/10ram', 'management-', '8/10performence-', '10/10heating-', '9/10', 'matches', 'centreguys', 'discuss', 'pathetically', 'unbreakable', 'hestitate', 'buying✌️', 'helpfull', 'k4note', 'contracts', 'alphabet', 'continuosly', '4th', 'light2', 'screen3', 'in-build', 'gallery4', 'application5', 'expected6', 'hangs7', 'op', 'bundled', 'handsetsbecouse', 'automaically', '❤️❤️', 'bezel', 'uni-body', 'n8', 'fesilite', 'wpr', 'conflict', 'incompatible', 'owner', 'phonenever', 'alldrains', '11days', 'zenfone2', 'pockets', 'gain', 'frome', 'source', 'hazy', '🤘', 'processing3', '06', 'boiling', 'game-play', '2wk', 'drawbackphone', 'spot', 'douplicate', 'deletes', 'evaluate', 'hisss', 'unhappyit', '8hrs', 'da', 'valueless', 'unusable', 'affected', 'in-bound', 'out-bound', 'carrier', 'blacklist', '28', 'phonegood', 'lifegood', 'processorgood', 'cameraeverything', 'goodwants', 'cuz', 'combines', 'worlds', 'master', 'causes', 'enhancement', 'refud', 'problemit', 'fastit', 'poblems', '😤😤😤', 'haring', 'funtoosh', 'posting', 'firmware', 'freezes', 'liers', 'recamond', 'lethe', '13999but', '30mins', 'nyz', 'garila', '3gcamera', '/sysem', 'launcher/', 'researched', 'suffering', 'ati', 'falut', '3days', 'label', 'perfecthow', 'gst', 'input', 'setisfied', 'screenshots', 'streaming', 'lwaiting', 'replce', 'gurgaon', 'sahara', 'speker', '72', 'rahul', 'kumar', 'singhmobile', '09953756674', 'drawback-', 'room', 'glass-', 'christmas', 'blackwhite', 'monthdisplay', '9/10camera', '7/10processor', '10/10battery', '8/10a', '3h', '100min', 'worsted', 'bottun', 'curvey', 'contained', 'tones', 'trap', 'court', 'yar', 'resell', 'dilevrry', 'k8i', 'blow', 'notification/indication', 'anticipate', 'disppointment', 'virtually', 'speak', 'eventhough', 'ditch', 'threw', 'confident', 'cell-phone', '-thank', 'exclusive', 'bindis', 'forehead', 'warmed', 'cycle', 'phonego', 'smuth', 'mobilei', 'diverted', 'backupso', '😅😄😄😄😄😄', 'feild', 'dissaponited', 'bat', 'jil', 'suprb', '3gp', 'meanwhile', 'lenovobattery', 'decentcamera', 'awesomesound', 'awesomeno', 'lagsnot', 'problemreally', '14000must', 's1', 'notecamera', 'extrordinary', 'stated', 'slows', 'proposition', 'productafter', 'smoothness', 'floting', 'usimg', 'heres', ',cons', 'chrge', 'avrge', '3_', '3:15', 'mintues', 'charge3', '10core', 'hamg', 'black4', 'lag5', 'stop6', 'resatring', 'hand9', 'cardpros-', 'experince2', 'too4', 'so6', 'faster7', 'straight', 'iin', 'fund', 'pleese', 'badover', 'worthvery', 'backupb', 'optimised', 'processorc', 'speakerd', 'phonee', 'camerahighly', 'xi', 'red', '2kmah', 'batterydoes', 'osthere', 'softwarecast', 'workcontacted', 'lenovothey', 'resolvedhighly', 'crashesh', 'normally', 'everythings', 'bads', 'machine', 'cellphone', 'converted', 'dec', 'trend', 'outputs', '⭐⭐⭐⭐⭐', 'accounts', 'k5only', 'soap', 'shameful', 'compulsory', 'repeatedly', 'fluctuation', 'problemat', 'impossibleif', 'tougher', 'responce', 'boxpros', 'sounddisplay', 'rangebattery', 'goodbody', 'betteroverall', 'anyother', 'marketplace', 'novo', 'attracted', 'insane', 'worstpurchaseever', 'elegant', 'alike', 'abundant', 'seperate', 'earplugs', 'poweramp', '$', 'edge', 'detection', '/dual', 'edgesheating', 'meek', 'dosesnt', 'alsoo', 'sooper', 'ers', 'powering', 'tooo', 'leaflet', 'moving', 'waves', 'featureszijn', 'mp3', 'product-', 'in-between', 'dialed', 'bauth', 'worsed', 'spectacular', 'died', 'ridiculously', 'ditched', 'loosing', 'glitters', 'warnings', 'bitter…casting', 'workrestarts', 'willa', 'jokemany', 'jaw', 'foot', 'dependable', '6cameras', 'modeno', 'lagmain', 'atmosbest', 'itcons', 'backupit', '3000mahnot', 'cerema', 'transit', '2:10', '8k', 'suffiecient', 'heatervery', 'fasna', 'lenovoheating', 'addressed', 'theatric', 'art', '150mins', 'sustained', 'explains', '50-100.', 'stucked', 'bck', 'attn', 'suffers', 'absence', 'owesome', 'appearing', 'naiyara', 'mohammad', 'minnatullah', 'advocate', 'patna', 'abscent', 'osem', 'gadget', 'exellant', 'excessive', 'goodnothing', 'newbored', 'raise', 'heatingwhat', 'wildly', 'scrap', 'used/phone', 'froud', 'found1', 'issues2', 'issues3', 'naugout', '2month', 'eseilyhangs', 'potentiality', 'seeming', 'difictive', 'backupmediatek', 'optimizedpoor', 'issuesand', 'routers', 'cod', 'soc', 'shade', 'parfomance', 'lekar', 'phas', 'te', 'lanch', 'resetting', 'repeat', 'resets', 'aside', 'manually', 'power-on', 'approached', 'quoting', 'pillar', 'rectified', 'rectifiable', 'tagline', 'tag-line', 'customer-centric', 'realized', 'monthi', 'problemnow', 'nowit', 'fingers', 'birthday', 'blowing👌👌👌👌👌by', 'workingwhoever', 'monhhs', 'sry', 'material', 'pro:13+5mp', 'cam,13', 'lowlight', 'whn', 'goodworth', 'ots', 'criteria', 'wat', 'terbo', 'havey', 'processers', 'jahnu', 'shukla', 'regrated', 'minutehangs', 'lotbattery', 'proffessional', 'follows', 'displaycameras', 'price10', 'issuecons', 'callers', 'wind', 'latebuilt', 'notenot', 'camar', 'oct.', '11999/-', 'luckily', 'lenovowould', 'infrom', 'compant', '16/09/17', '19/09/17', 'earliestafter', 'complaing', 'promblem', 'transfer', 'fingre', 'madeup', 'mutiple', 'hours/minutes', 'chutiya', 'banane', 'airte', 'greet', 'mistakesbad', 'block', 'notelenovo', 'k-5', 'k-8', 'notesum', 'baddo', 'expexted', 'chnaging', 'notepros', 'holdcomparing', 'allconsno', 'comparong', 'customizable', 'clicksi', 'z', 'mybworst', 'verify', 'thousand', 'phne', 'daysbut', 'staying', 'enjoyable', 'agaian', 'fo', 'carry', 'abhi', 'kiab', 'dar', 'jay', 'orbattery', 'asay', 'khatam', 'hso', 'uality', 'film', 'exalted', '69', 'benchmark', 'score', 'shud', 'bro', 'errorwaste', 'responsible', 'recordinggoogle', 'usecamera', 'qualityscreen', 'dispointing', 'timeprocessing', 'theirs', 'smoothlywater', 'effectphone', 'useable', 'gorilaglass', 'chitting', 'quality,64', 'insurance', 'life2', 'levels', 'knocking', 'ratio', 'identical', '24×7', 'frint', 'ghe', 'sometimesabruptly', 'instagra', 'othe', 'deewali', '11999.', 'vulnerable', 'cracky', 'utmost', 'saves', 'personalise', 'personalisation', 'convenient', 'adding', 'hung', 'gui', 'gorrilla', 'misleading', 'st', 'wash.', 'issueheating', 'pricegood', 'pricethe', 'expecially', 'tocuh', 'modifications', 'extrac', 'ball', 'availlable', 'buget', 'product👎👎👎👎👎', 'anycast', 'chocolates', 'chargeing', 'louder', 'hears', 'phonelenovo', 'ie', 'dissappointed', '30bje', 'hua', 'aj', '19', 'gaya', '9450283097', 'worte', 'coffee', 'cup', 'hungry', 'chahe', 'maal', 'de', 'dia', 'awe', 'modified', 'effectiveness', 'icone', 'cross', 'sign', 'accordingly', 'handed', 'tells', 'submot', 'proofs', 'decreased', 'dunt', 'casing', 'nagative', 'speeker', 'duration', 'hm', 'performancebut', 'lakh', 'gamesthere', 'problemcamera', 'goodthere', 'listed', 'geekyranjit', 'enables', 'issue2', 'blinks', 'unlocked', 'menu4', 'results5', 'day6', 'fastly7', 'differentiation', 'spelling8', 'probe', 'occurring', 'kamiya', 'ok2', 'ok-ok', 'bad3', 'raat', 'loge', 'andere/black', 'kamre', 'sahi', 'lega', 'fir', 'sari', 'kali', 'karega', 'krne', 'bi', 'farak', 'ni', 'pada', 'bs', 'hote', 'dekhne', 'padega', 'honge', 'contacts5', 'gallery6', 'manaually', 'padte', 'tricks', 'dekh', 'baki', 'bahiyo', 'aapki', 'marji', 'khass', 'speedly', 'spoils', 'kishor', 'wth', 'disguesting', 'everrrrrrrrr', 'manufacture', 'dexacore', 'forgot', 'trustable', '12/10/12', '2:15', 'diflections', 'slowing', 'activity', '21', 'wil', 'observations', 'follows1', 'modarate', 'reports', 'confusing4', 'okothers', 'reviewes', 'moneysmooth', 'touchclear', 'picturesomething', 'camerabut', 'supebbbbif', '😎😎😎', 'workingdisplay', '10000', 'touchcamera', 'lightstock', 'assistantgreat', 'cables', 'mobiiiiiiiiil', 'scan', 'drainfast', 'misses', 'commands', 'fairly', 'csll', 'givings', 'worm', 'nott', 'problem1', 'vedeo', 'poor2', 'charging5', 'game6', 'draing', 'fasteither', 'ya', 'hood', 'excilent', 'whaite', 'dolbey', 'noticing', '13998', 'standing', 'controller', 'arrow', 'hey', '5/5it', 'pooor', 'oily', 'creation', 'bandwidth', 'hors', 'reguired', 'it😍', 'phonen', 'scheme', '14kreturn', 'moviles', 'superbbbb', 'gt', 'storing', 'allowed', 'hangfree', 'phone2', 'player3', 'button4', 'featuure5', 'export6', 'replying', 'batterey', 'coustome', 'expectedand', 'missingoverall', 'bad1', 'much2', 'neat', 'appeared', 'tonnes', 'headphones/speakers', 'irritate', 'nahhi', 'aaye', 'saath', 'samthing', 'proceccor', 'camer', 'rules', 'fixes', 'prdkt', 'kseries', 'ty', 'commended', 'heating\\\\2', 'mark,3', 'cameraover', 'direction', 'mee', 'definetely', 'aaps', 'fechars', 'thims', 'adwans', 'hetting', 'lees', 'marks', 'avail', 'ful', 'qaulity', '4000mah2', 'goid', 'desadvantage', 'perdefined', 'sotware', 'continuesly', 'workingtotally', 'displayi', 'unbelievable', '11,999.', 'profiles', 'outside3', 'ringling', 'answers', 'inconvenient', 'a60004', 'great5', 'charginggood', 'ramhd', 'greatoverall', 'anaffordable', 'supp', 'slips', 'mrp', 'okayish', 'mobilenot', 'non-stop', 'yup', 'sys', 'besting', 'safely', 'toolbar', 'struc', 'operable', 'conveniently', 'phonehappy', 'servicefeatures', 'wellall', 'scraches', '40percent', 'upload', 'frill', 'cleardolby', 'procesar', 'claraty', 'centreplease', '=', 'noone', 'igt', 'waste/', 'selectiom', '3/', 'ashok', 'starscamera', '4star', 'outdoors', 'starsperformance', 'starsbattery', '2starssound', 'starsturbo', '5starram', 'starsslightly', 'issueonly', 'lightno', 'backlite', 'buttonsover', '25sept', '2weeks', 'anf', 'assume', 'packedvery', 'develop', 'superman', 'flying', 'lonova', 'ranges', 'backregardsrgkolhe', 'comprises', '28-04-2018lenovo', 'begging', 'escalated', 'corporate', 'teams', 'slightest', 'blunder', 'wickets', 'bowled', 'inflatable', 'popular', 'lineup', 'therms', 'shortcomings', 'prosit', 'variants', 'mediatake', 'hellios', 'rivals', 'phase', 'moderately', 'inch', 'contrast', 'bloatware', '4,000mah', '-comes', 'mechanism', 'c.', 'usages', '-charging', 'nonetheless', 'competitive', 'glad', 'queries', '51gb', '😢😢😢', 'rqst', 'leveno', 'resposible', 'parfamence', 'blanchard', 'launchr', 'boil', 'rice', 'noteinstructions', 'minextra', 'survival', 'heads', 'weighs', 'kg', '3gsoverheating', 'varianti', 'kid', 'withstand', 'numerous', 'uploads', 'dowanloads', 'street', 'photoshop', 'adobe', 'lightroom', 'snapseed', 'causing', 'ideally', '😈😈😈😈my', '☠️☠️', 'phonecharging', '31/12/2017', 'chromcast', 'obtain', 'hopefully', 'bay', 'heandset', 'practice', 'admissable', 'trai', 'levano', 'disign', '😈👿', 'increasing', 'cores', 'bored', 'invest', 'wisely', 'forced', 'fulfill', 'skullcandy', 'unhelpful', 'kare', 'yaha', 'woh', 'jayada', 'pai', 'unka', 'hamaray', 'hamari', 'sakte', 'badi', 'di', 'sabhi', 'soch', 'samjkar', 'karay', 'warna', 'aapnay', 'baar', 'khrid', 'liya', 'aayi', 'paise', 'gaye', 'amazon5', 'cleartity', '2600', 'account-fake', 'modal', 'dsp', 'pandiyanthis', 'cel', 'parches', '46', 'recarder', 'inbild', 'ect', 'ofter', 'secwhat', 'happand', 'broblam', 'delayiam', 'disply', 'same-day', 'identified', 'loudspeaker', \"'smart\", 'chk', 'trustworth', 'credibility', 'custolers', '/camera', 'laggiest', 'proccesor', 'betty', 'average2', 'ok3', 'okmy', 'outdated', 'softwares', 'irrelevantly', 'performancelook', 'portable', 'potato', 'hole', 'hoopla', 'programming', 'unuser', 'ob', 'tip', 'favourites', 'vowed', 'dummy', 'co-operative', 'notorious', '14/3/2018', 'awesomecast', 'workingrear', 'camare', 'badheading', 'haaammmm', 'melting', 'gliches', 'refer', 'bsnl', 'tatch', 'bateer', 'charj', 'lagaing', 'propery', 'buler', 'celsius', 'wolluld', 'cameraandvery', ',and', 'regarsthankssantosh', 'rbt', 'glitching', 'disappearing', 'behavior', 'cemra', '2week', 'unbeatable', 'performancegood', 'looksgood', 'lfeworth', 'pour', 'adds', 'intermittently', 'fond', \"'on\", 'representatives', '2500mah', 'himobile', 'complaintmobile', 'heatcamera', 'lowheadset', '₹2000', 'picasa', 'amateur', 'uncomfortable', '5inches', '65.', '14,000', 'sustainability', 'futurea', 'warm/hot', 'bulk', 'investment', '6000', 'carefully', 'limitation', 'excellant', 'matters', 'health', 'burns', 'cemara', 'meets', 'ienova', 'lookfull', 'camerafull', 'processorfull', 'glassfull', 'allfull', 'gas', 'stove', 'callimg', 'hoursbattery', 'hourbattery', 'indicatecamera', '😂😂😂😁😀', 'heat/temperature', 'ondevice', 'enclueds', 'cooking', 'egg', 'amlets', 'mi-a1', 'bzo', 'equipped', 'promotes', 'suggestions', 'sellec', 'vise', 'lenovos', 'preactivated', 'lighe', 'userfriendy', 'turbochargepoor', 'itselfbattery', 'daywhich', 'promisedcamera', 'woth', 'phablet', 'costone', 'chargeit', 'borked', 'aoutomatically', 'convert', 'mms', 'rha', 'exhaust', 'tune', 'labs', 'somehow', 'clue', 'hoursits', 'performancesuresh', 'kumawatbikaner', 'rajasthan', 'authorization', '8000mobile', '12999', 'onethink', 'itno', 'cameradual', 'disconnectedno', 'sot', '6-7hours', '16-18', '666it', '702+33', 'taxi', 'ended', '18000tax', 'tax', 'upar', 'taxlike', '680', 'itand', '30rs', 'showso', 'secondear', 'similarly', 'remedies', 'sir/madam', 'shocking', 'dell', 'monitor', 'analysing', 'pass', 'fair', 'treatment', 'liner', 'everthing', 'combined', 'better-', 'good-', 'now-', 'awasam', 'contains', 'tak', 'vvvvvvvvv', 'problemfront', 'goodback', 'averagenormal', 'lifebuilt', 'excellentredmi', 'poorfake', 'stabilitybogus', 'upslow', 'sencor', 'moble', 'keno', 'lone', 'chargring', 'morover', 'faces', 'hungs', 'movement', 'leoavo', 'excited', '2side', 'esse', 'loghatiya', 'krta', 'sum', '14000rs', 'sory', 'mobilelooks', 'processorsfake', 'cameraslow', 'classy', 'lump', 'ratable', 'enjoying', 'inprovement', '1200', 'ulta', 'chargingphotos', '16th', 'carrying', 'approaching', 'thoug', 'empowered', 'dosti', 'lene', 'kyoki', 'warms', '😐', 'satible', 'bottons', 'doors', 'sincere', 'btr', 'knwing', 'vll', 'fa', 'caz', 'prblmpls', 'mobileif', 'prblmif', 'dem', 'scratchees', 'sendor', 'hike', 'attempt', 'sector', 'dominate', 'temprature', 'brigtness', 'uoper', 'upper', 'showoff', 'deserves', 'roll', 'chiken', 'relating', 'masking', 'fabulus', 'waited', 'producing', 'mechine', 'vanishes', 'intervals', 'eyephone', 'concted', 'cares', 'somwhow', 'breeze', 'selfies', 'atom', 'metro', 'city', 'nagpur', 'troubling', 'adjusting', 'productno', 'october', 'chase', 'formats', 'permission', 'erased', 'reseting', 'door', 'sun', 'indor', 'heare', '🔥🔥🔥🔥🔥🔥', 'minimize', 'factor', 'deviceonly', 'embedded', 'rangeit', 'truely', 'orderedusing', '30min', 'drianing', 'touches', 'k5note', 'casting/screening', 'forcefully', \"doesn'tlast\", 'screenguard', 'brags', 'concamera', 'avaragewarm', 'deleted', 'availed', 'continus', '10,000', 'exceeded', 'decently', 'cal', 'attend', 'aug.', 'gf', 'heal', '512mb', 'carbon', 'plan', 'qa', 'testers', 'activated', 'publishing', '47', '96', 'bills', 'tremendous', 'dd', 'hack', 'iritating', 'beck', 'screch', 'bilinking', 'hendset', 'slowbattery', '8hours', '2000mahno', 'charginghang', 'dost', 'foa', 'lyf', '1display', 'soler', 'eclips', 'writting', 'naming', 'ithink', 'eveyone', 'peopal', 'redimi', 'solv', 'phonebut', 'earphones/headphones', 'contacting', 'brightnessit', 'browseralso', 'lighti', '100-0', 'iike', 'greatprocessor', 'goodscreen', 'isnt', 'usingcamera', 'back,2mp', 'front:1any', 'itself:2good', 'looking:3', 'mager', 'interrupted', 'drining', 're-starting', 'hassle', 'flight', 'alone', 'killerwhat', 'obstruction', 'backside', 'orr', 'probelm', '4000mh', 'bsttery', 'drainning', '8-10hr', 'multitaxing', 'equested', 'handlecamera', 'goodinternal', '11000', 'okh', 'marging', 'bastards', 'antutu', 'geek', 'bench', '1000/-', 'pre-scratched', 'strangely', 'stained', 'adapter+usb', 'mi3', '2014', 'compares', 'tinkered', 'ugly', 'airplane', 'pisses', 'settle', '3gb/32gb', 'puchase', 'continusly', 'dust-bin', 'goodcast', 'no1', 'mynphone', 'infact', 'feom', '1h', 'value_of_money', 'blasts', 'trick', 'all-rounder', 'wishto', 'content', 'rock', 'platform', 'laeat', 'crapcamera', 'signed', 'closes', '4day', 'chose', 'hance', 'profomance-', 'booth', 'backup-', 'reviews-', 'clash', 'clan', 'charging-', 'beeping', '4front', 'camera-k8', 'resulation', 'waight', 'flashlight-', 'circuit', 'judge', 'hopper', 'happppy', 'qualty', 'impressiveaverage', 'improvedwill', 'cliarity', 'itbattery', 'badcamera', 'rangesuperb', '4months', 'positives', 'sleeknegatives', 'fails', '40prcnt', 'hazzy', 'mobile😏😏no', 'picupvery', 'heatingca', 'use😠😠😠', 'dammeged', 'whic', 'certificate', \"'do\", 'validate', 'proxy', 'nesessory', 'learn', 'ears', 'hurt', 'explosion', 'alreay', 'burnt', 'literarry', '-anup', 'evernot', 'bluff', 'acceptance', 'pedda', 'bokka', 'telugu', 'scratchs', 'colety', 'backup👌', 'good,9/10', 'okie', '10/10', 'clans', 'canect', 'producti', '8battery', '9overall', '10plus', 't.', 'aswom', '-camera', 'exxcelentbattery', 'shared', 'forcing', 'a+++++', 'lighten', 'brighten', 'lightelse', 'horrable', 'remote', 'givien', 'tool', 'problematic', 'refundable', 'caching', 'emphasizing', '5x', 'ticket', 'phone-', 'lighter', 'turbocharge', 'rolled', 'crippled', 'fuddu', 'bad:1.', 'junk', 'cleaning', 'good:1.', 'avarag', 'kyon', 'goon', 'rangeeee', 'expectedbattery', 'mahcamera', 'goodautomatically', 'tl', 'dr', 'makers', 'stopgap', 'shortlisted', 'thinkpros', 'implementation', 'bloat', 'blocky', 'icons', 'programmable', 'flash+', 'sdcard', 'machinery', 'royale', 'green', 'integrated', 'e4plus', 'operator', 'extended', 'setback', 'concerns', '31st', 'pointsnote', 'independence', 'saledespite', 'ruined', 'otp', 'transactions', 'random', 'pressing', 'button3', 'encountered', 'configured', 'hardwareupdate', 'seconds6', 'rgb', 'lenovonote', 'ever,1', 'show0', '50℃', 'experiencepros', '-snappy', 'scanner-camera', '-supports', 'provisioning', '4636', 'performance-good', 'management-no', 'issues-good', 'jio-no', 'bloatwares', '-additional', 'key-speakers', 'clear-selfie', 'featurecons', '-no', 'button-camera', 'lightning', '2mp', '-battery', 'charge-takes', '0-50', 'off-the', 'scratchy', 'handling-no', 'box-unable', 'lenvo', 'ido', 'bettey', 'legging', 'dots', 'unimpressive', 'drying', 'gallary', 'issuefingerprint', 'hated', 'collect', 'aggressively', 'repeating', 'nought', 'heatedcamera', 'badtotally', 'readyly', 'activities', 'in-depth', 'fill', 'easlyy', 'apps2', 'phone3', 'volte4', 'supported5', 'fast6', 'scarry7', 'levelnormal', 'cracks8', 'issuesso', 'luv', 'canera', '😆', 'setit', 'brightnessand', 'timealso', 'issuei', 'fifteen', 'kelvin', 'thinner', 'experimental', 'recall', 'sub15k', 'ratings', 'lill', 'supportive', 'wuth', '3200mah', 'fare', 'ability', 'appreciabl', 'hide', 'drawer', 'yiu', 'lenovo2', 'deisgn', 'merit', 'cost3', 'hill', 'stations', 'exothermic', 'liberates', 'warm2', 'use3', 'raw', 'concentrate', 'ic', 'so5', 'madness', 'toch', 'corved', '29', 'saturday', '21st', 'weather', 'camerathe', '8000/-', 'charging2', 'simultaneously3', 'low4', 'texture', 'point-', '___', 'boot', 'v7', '4gb-64gb', 'camera____', 'dslr-like', 'depth-of-field', 'purecel', 'bringing', 'high-end', 'imaging', 'f/1', 'requirement', 'phonedo', '50°c', '20000.', 'aswm', 'neglegible', 'tearing', 'thislot', 'faced1', 'hrs3', 'purpose4', 'handle5', 'respondingtoo', 'narrate', 'pleace', 'fluctuates', 'discusion', 'topic', 'hundreds', 'defects1', '5-6normal', 'usage2', 'blinking3', 'required4', 'required5', 'bugs6', 'responds7', '4to', '5hours8', 'awkward', 'design9', 'design10', 'cover11', 'quality12', 'consideration', 'back👎', 'existing', 'conc', 'tiger', 'dog', 'dialogue', 'ihave', 'pity', 'manufactured', '7777', 'notable', 'patchy', 'autofocus', 'mechanish', 'dailer', 'non-ac', 'environment', 'non-game', 'recharges', 'features:1.', 'buttons,2', 'recorder,3', 'options,4', 'screen,5', '👌', 'camerais', 'amazing😚', 'luved', '14000.', '12000😔', 'slove', 'whieht', 'acc', 'gali', 'pakda', 'merely', '1500ma', 'colours', 'hangingi', 'someis', 'are1～it', 'feelsis', 'littleis', 'heavy2~it', 'tendsis', 'heatis', 'whileis', 'normalis', '3~its', 'null', 'somthing', 'browse', 'parfom', 'nicwbut', 'differs', 'inches', 'isolated', 'bothered', 'rooting', 'code', 'jazab', 'warast', 'yr.', 'highlights', '9700', '30days', 'launch😅', 'efforts', 'othrr', 'zerostar', 'satisficable', '👌👌👌👌👌', 'almostlenovo', 'boxrear', 'pries', 'interruption', 'vebrate', 'phonemy', 'gooddo', 'phone😣tried', 'dena', 'jruri', 'du', 'isko', 'itta', 'ghtiya', 'scam', 'gimmicky', 'dosent', '1gb', 'fiture', '63', 'transport', 'biffer', '45°and', 'thingsi', '😭😭', '12000/-', 'presence', 'fabricated', 'levelling', 'harassment', 'gazzets', 'physically', 'harassed', 'geeting', 'parform', 'buzz', 'mpbattery', 'bis', 'problemscreen', 'slightheating', 'ospros', 'ikon', 'sapce', 'optioni', 'anyview', 'disturbance', 'whichever', 'thisheavy', 'weightlow', 'backupearley', 'issueduring', 'fasthanging', '2013.', 'workingi', 'lose', 'witch', 'discrepancy', 'experts', 'knowing', 'exilent', 'abominable', 'humans', 'cousin', 'wondering', 'affecting', 'concentration', 'kudos', 'rant', 'senor', 'buyersound', 'missingmost', 'snapshots', 'pocketmajor', 'guerd', 'gurd', 'heng', 'assistance', 'workplz', 'hogaya', 'kafi', 'up-to', 'crach', 'dis-appointed', '7600', 'bluttooth', 'slowlenovo', 'piecesbut', 'notso', 'puchased', 'invincible', 'mibile', 'directed', 'rendu', '26-9-2017', 'damm', '4stars', 'moderete', 'multitask', 'meaningful', 'communication', 'frnds', 'cheats', 'wtf', 'vvvvvvvvery', '9931292026', 'charity', 'standead', '235', '05-may-18product', \"'ok\", 'reputed', 'handsfree', 'bery', 'mode2', 'hang3', 'monybut', 'submitted', 'traced', 'rejected', '5000mah', 'careless', 'gatiya', 'moneynothing', 'presentbattery', 'marksoftware', 'phcamera', 'clearbattery', '😏and', 'ribbon', 'peak', '0℅', 'marknetwork', 'cameraquality', 'awasom', 'inbult', 'chl', 'eski', 'handled', 'delicately', 'boooooor', 'mistakethe', 'vasul', '2-3hoursmobile', 'anythingfinger', 'working/malfunctioning', 'cameragood', 'consumed', 'loda', 'fal2', '✌️', 'idlebuilt', 'goodreceived', 'covercamera', 'averageheating', 'phoneadditional', 'dere', 'law', 'punch', 'cooler', 'xiamiit', 'callfrom', 'affect', 'niether', 'lenobo', 'thousands/-', '📸back', 'comara', 'che', 'back-lit', 'ossm', 'depawali', 'vanished', 'bocke', 'f1', 'dispatched', 'suspicious', 'moneycons', 'must-buy', 'obtion', 'mute', 'sept.', 'cls', 'dn', 'fatep', 'kewal', 'haimobile', 'selfe', 'rigourous', 'voic', 'callee', 'wiring', 'leonvo', 'oder', 'galat', 'dicijn', 'mujeh', 'gide', '2ndry', 'satisfiedit', 'missingbattery', 'missingsms', 'missingi', 'bil', 'gum', 'dusra', 'chahiya', 'kyuki', 'krab', 'boycotting', 'ver7', 'varies', 'highlighted', 'evidence', 'fighting', 'repeats', 'revisit', 'vehicle', 'fuel', 'injection', '12:01', 'finest', 'rainy', 'season', 'flood', 'coating', 'amazonrating', 'modem', 'fingureprint', 'detailing', 'doun', 'seriuosly', 'màin', 'employee', 'mentally', 'finehowever', 'vi', 'matt', 'letea', 'hoga', 'g4+', 'weird', 'initiated', '730', '8ball', 'pool', 'spoiled', '4s', 'plays', 'biased', 'seate', 'fid', 'glowing', 'messanger', 'saddest', '🤗', '2stars', '3stars', 'goodheating', 'issuelenova', 'followed', 'suck', 'suckdont', 'buydo', 'moneynonrefundable', 'confuse', 'astonishing', 'focuses', 'kachra', 'sooperb', 'jada', 'ekdin', 'thora', 'sab', 'chargebattery', 'orieo', 'usedid', 'stating', 'twodays', 'oclock', 'retrurn', '😖', 'reviewpros:1.', 'performancecons:1.', '6000rs', 'yellowish5', 'occuring', 'blures', 'reset/boot', 'problemheat', 'cameracamera', 'expectedbatterybattery', 'fastdoesnt', 'earphonesproduct', 'sefly', '5rating', 'ford', 'bolteheo', 'krupiya', 'dhayan', 'expection', '9000', 'mobilecharger', 'than4', 'talks', 'hansdet', 'ringer', 'issuing', 'fastly2', 'clicked3', 'timeswhen', 'heaphones', 'perfomence', 'overtime', 'tempted', 'achieve', 'goal', 'rn4', 'alonepros', 'aredual', 'chargingdisplay', 'atmosstock', 'fluidity', 'removing', 'hollywood', 'arei', 'greenify', 'camerathose', 'nowfinally', '1600', 'afterwards', 'kbhi', 'tk', 'leti', 'nite', 'hardley', '6month', 'located', 'expectedheating', 'fastcamera', 'okno', 'recorderno', 'shortcutno', '2t', '3/2', '0/1', '5/', 'processors', 'naki', 'itisnot', 'morveles', 'cast/', 'tvand', 'plese', 'atomic', 'perched', 'plesae', 'awwwesome', 'bhejo', 'volet', 'minits', '-turbo', '99', 'mins-best', 'processor-better', '4-good', 'useage', 'sensers', 'max2', 'proprly', '11999body', '8000', 'octcore', '1000.', '12k-14k', 'startup', 'reliance', 'loactions', 'markbattery', 'experiencebut', 'prescribed', 'inbut', 'bocmes', 'necessary', '-sys', '-so', '-the', 'non-removable', 'appthe', 'plzzzz', 'furious', 'burner', 'tempature', '44', 'hazardous', 'icicibank', 'hangout', 'lesson', 'learned', 'anyphone', 'bst', 'fevret', 'prie', 'protruding', 'informative', 'heavyin', 'multipurpose', 'issue-', 'blunt', 'parking', 'shady', 'locations', 'backupscamera', 'satisfiedhangs', 'sometimesheating', 'entrested', 'refurbished', 'ishue', 'looked', 'projector', 'possible3', 'searchable', 'device4', 'duar', 'sockets', 'sensorts', 'vest', 'consecutive', 'divas', 'interesting', 'opposed', 'organising', 'videos-', 'snapdel', '40degree', 'virus', 'newly', 'supportit', 'pachta', 'hun', 'k.', 'productthis', 'reviewi', 'thismy', 'fakeplease', 'houre', 'prosser', 'searches', 'poooor', 'mobileit', 'survice', 'longlisting', 'virsion', 'lowdolby', 'catchy', 'mobilemlgood', 'puffing', 'js', 'offcameras', 'portait', 'poorsound/speaker', 'consumtion', 'exllent', 'bas', 'camers', 'power-bank', 'productvery', 'chala', 'avoids', 'introducing', '2900', 'clears', 'anybody', 'generation/world/planet', 'aka', 'breathtaking', '-too', 'deletion', 'conversion', 'lenovo4', 'paste', 'comfortably', 'many7', 'watsapp', 'decharging', 'slimmer', 'vol', 'rushing', 'denied', 'bull', 'shit', 'struglling', 'alwaz', 'nogut', 'oreio', 'purchaseing', 'occured', 'mailed', 'return/replace', 'tablet', 'motoz', 'vaat', 'fate', 'brock', 'committed', 'anad', 'proseed', ',worst', 'mi4a', 'wished', 'qualcomm', 'amazonplease', 'grateful', '6to8', 'sade', 'distributor', 'presented', '09/08/2017', 'therefore', 'lpoor', 'mixed', 'aso', 'gooddischarge', 'spr', 'purchaseded', '😀', '14000/-bluetooth', 'restore', 'supportconnectivity/radiosdata', 'gprs', 'hspa+', 'ltespeed', 'mbps', 'dl', 'mpbs', 'cat44g', 'fdd', '1/3/5/7/8/', '|', 'tdd', '403g', 'wcdma', '1/5/82g', 'gsm', '2/3/5/8and', 'hand-free', '20,000', 'shaken', 'bockeh', 'bulr', '650.', 'fuctions', 'availble', 'secondhand', 'suchitra', 'doubted', 'smartphonegreat', 'time3', 'knowledge', 'suppppeeerrrr', 'warking', 'chaina', 'erratic', 'destroy', 'effectthe', 'dafault', 'humiliated', 'vast', 'submission', 'display2', 'atmos3', 'daylight4', 'android5', 'managable6', 'cameracons:1', '🔋does', 'mah2', 'sham3', 'oleophobic', 'sham4', 'f.', 'safisfied', 'lightamazon', 'bedfrom', 'onother', 'paytm', 'developers', 'mahesh', 'majar', 'devicepros', 'managementdisply', 'soundcamera', 'lightgame', 'whoever', 'defanately', 'ilike', 'update1', 'heated3', 'kyun', 'engine', 'ther', 'chargerear', 'muchfront', 'goodand', 'yrand', '4mnths', '😑😑', 'adaptive', 'chraged', 'baterry', 'witv100', 'switc', 'hed', 'gallry', 'optin', 'hw', 'gvn', 'comany', 'retun', 'dntbbuy', '29sept', 'sameas', 'niceeeee', 'example:1', 'on2', 'up/pull', 'vibration/ringing', 'ringer3', 'paper4', 'annoying6', 'gestures7', 'knote', 'tethering', 'discovered', 'confidence', 'human', 'bends', 'stereotype', 'timed', 'engineer', 'examining', 'certified', 'frant', 'optionupdate', '-:7021734362', 'impressivebut', 'goodi', 'goodafter', 'itph', 'heatbettry', '400', 'hahahahahabt', 'tourbo', 'itpls', 'ossssssm', 'pricetq', 'sleeker', 'landing', 'replacement/refund', 'laborious', 'acknowledge', 'evlo', 'adichaalum', 'thaanguraan', 'mnthhsnot', 'replacements', 'bogas', 'farnt', 'lyk', '8oct', 'ptoduct', 'properlyall', 'independent', 'deepth', 'worthover', 'acchaa', 'denet', 'it😪', 'agency', 'autocall', 'chlune', 'vadiya', '7000', 'osdey', 'mukable', 'eh', 'kuj', 'beekar', 'jis', 'tra', 'diti', 'osday', 'laina', 'bekarr', 'nalo', 'lifefast', 'processingbut', 'haih', 'acessories', 'ossom', '5,000', 'visits', 'jionet', 'make/receive', 'provided3', '6th', 'in14000', 'bakwass', 'ib', '2picrecuved', 'wards', 'grunion', '41', ',camera', ',bad', 'suplier', 'streamed', 'ache', 'ambinet', 'brokeh', 'generated', '40°c', 'fornt', 'segments', 'decca', '8+', 'summers', 'issue3', 'functional4', 'remarks', 'daysi', 'velocity', 'xiomee', 'mobilelenovo', 'bugdet', '15days', 'thi', 'everheating', '❤️', 'relly', 'inr', 'music/', 'myside', 'favour', 'manufaturer', 'badge', 'disabled', 'monitering', 'ultra', 'options7', 'speed8', 'time9', 'hogging', 'mph', 'life10', 'rod', 'finish3', 'excellent4', 'card5', 'management6', 'optionpersonally', 'proximity', 'study', 'attract', 'cracked/broken', 'dwon', 'floor', 'customeri', 'case/service', '6000.', 'lenovodull', 'networkdolby', 'purposes', 'plzzzzz', 'earfone', 'satticfied', 'atomos', 'batrry', '1000rs', 'mobileheating', 'chargingno', 'vey', 'priduct', 'suppeer', 'forfomans', 'vorstions', '2-', 'introduce', 'jb', 'btata', 'sbhi', 'kr', 'unsbne', 'sare', 'bol', '2/3', 'dialer', '175g', 'noteso', 'productso', 'refundthank', 'uesd', 'trubble', 'scree', 'fight', 'doplease', 'behaves', 'lethargically', 'jpeg', 'zoomed', 'retring', 'tv2', 'somhow', 'assories', '30hrs', '🤔', 'problam2', 'tarbo', 'prominence', '2:30', '3:00', 'profomence', '4i', 'blancco', '0signal', 'lucky', 'avareage', 'table', 'tamilnadu', 'aug17', 'lattest', 'chinise', 'phonecall', 'vdo', 'craking', '20/30', 'stops/', 'euivallent', '5/6', 'useles', '2201.', 'ups', 'advt', 'truth', 'immidiately', '14/09/17', 'procedures', 'techinician', 'inspect', 'inspection', 'mad', 'pagal', 'keya', '10-1pm', '1:25pm', '3:30pm', 'wwww', 'oooo', 'flipkart-wala', 'untill', 'shipper', 'confirms', 'rec', 'leaves', '2000mahmusic', 'dangerous', 'bust', 'fed', 'l', 'tamil', 'vundi', 'chargenow', 'chargeat', ',now', 'chargesame', 'mormal', '12-13', 'cahrger', 'iz', '😞all', '☹️battery', 'complicated', 'aya', 'apse', 'nibedan', 'neeraj', 'raikwar94', 'mahina', 'pahle', 'gorillas', 'aisa', 'toot', 'hath', 'chutne', 'bechne', 'dikhati', 'khubi', 'rahta', 'wahi', 'batata', 'disliked', 'superrrrrrrr', 'enquired', 'depth-enabled', 'patchesed', ',it', 'harm', 'gorila', 'signaljio', 'hadbattery', 'onlyvery', 'doubtphone', 'ranchi', 'personnel', 'visiting', 'bough', 'ge', 'verigoud', 'today,12th', 'lenovok8note', 'theflagshipkiller', 'poooooor', 'dilevery', 'appliations', 'app😍', 'guessed', 'waving', 'selfiees', 'nexus', 'meizu', 'g4', 'sadly', '1/10', 'alreadyp', 'experince', 'purely', '☺️', 'truns', 'suber', 'firm', 'protective', 'config', 'pover', 'hedset', 'sigle', 'hittingcamera', 'properlyworst', 'aftersells-service', 'pda', 'fai', 'backup😙', 'economical', 'v5', '15999', 's8', '58500lenovo', 'platforms', 'vendor', 'breaked', '😎😍😘', 'packuo', 'wost', 'conditionturbo', '3housrhanging', 'dispoint', 'scolling', 'october2017', 'theft', 'train', 'spellbound', 'clearitiyand', 'theonly', 'performancequick', 'backupbut', 'killerturbo', '90mins', 'coolthe', '18hours', 'expects', 'mobilereview', 'budjet', 'smartphine', 'concept', 'suggesting', 'two-way', 'drasticallyi', 'arrive', 'massenger', 'loook', 'thinga', 'elementary', 'deteriorated', 'refurb', 'coat', 'importing', 'radio', '2017camera', 'nfs', 'scroll', 'verifying', 'bout', 'prperly', 'esha', 'satisfactorily', 'island', 'south', 'andaman', 'goodnegative', 'goodwatsapp', 'mx', 'vlc', '720p', '4kit', 'videobattery', 'modeflash', 'powercall', 'wtsup', 'sensitivity', 'packages', 'ks', 'tryied', 'frandlier', 'deliverymy', 'loves', 'itnice', '👍🏻', 'showcases', 'rubish', 'flowing', 'promblems', 'intense', 'dull3', 'lot4', 'effectsinstead', 'donate', 'beggar', 'shorten', 'beside', 'static', 'displace', 'connectivityoverall', 'poorer', 'advising', '😟', 'q', '~40', 'deg', 'improper', 'rahe', 'unake', 'tarfse', 'bandha', 'ake', 'minit', 'bandhe', 'samne', 'ab', 'vahi', 'chalu', 'jake', 'lavo', 'inki', 'galati', 'ham', 'bhukate', 'impeccable', 'theandroid', 'rn', 'woooww', 'hates', 'wishes', 'seeit', '144', '240', \"'80\", 'bankcoz', 'looses', '56', 'fitness', '55', 'imp', 'somethin', 'emergency', 'texts', 'sigh', 'wholeeee', 'sources', '😂i', 'ik', 'plasticy', 'thisi', 'khanik', 'bade', 'hoa', 'k-4', 'bow', 'cave', '12,999', 'ridicolous', 'complaintsabout', 'cheers', 'canada', 'agree', 'timephone', 'recognizes', 'misplaced', 'awsme', 'resemblance', 'stabilise', 'boat', '💀', 'heed', '₹1000', '40mins', 'rangeoverall', 'omelette', 'speedapps', 'quicklygood', 'surfinggood', 'lookingbattery', 'heppens', 'mobileautomatically', 'hangso', '{', '}', 'using2', 'top4', 'enthupros:1.', 'xoami', 'taling', 'unmarked', 'hitension', 'ton', 'recorded', 'crystal', 'fearures', 'slap', 'smacked', 'lipped', 'director', 'joom', 'dhundli', 'dusre', 'karvana', 'varna', 'recorder2', 'copy/cut', 'pasting', 'cut/', 'supob', '1and', 'looser', 'proceceer', 'nxt', 'issuesperfect', 'connectivitysoftware', 'improving', 'cameravalue', 'inconsistency', 'dials', '7to8', 'position', 'screech', 'aux', 'febulus', 'wrt', 'undergo', 'tons', 'wll', 'rrfund', 'lik', 'horrendous', 'mene', 'kiyakya', 'gai', 'pronounced', 'fastertherebis', 'likegood', 'itslf', 'recieve', 'sometyms', 'recueve', 'forte', 'trapped', 'aunt', 'depressed', '😢should', 'poweful', 'betery', 'issuedin', 'pdta', 'yr', 'neuper', 'ruff', 'happily', 'atrocious', 'negatives', 'novelty', 'significant', 'turbo-charging', 'micro-usb', \"'turbo\", 'customisation', 'possibilities', 'uis', 'layer', 'separation', 'precise', \"'slow-motion\", 'talked', 'blureness', 'overloaded', 'generates', 'intensity', 'purchage', 'rule', 'hk', 'krwane', 'laaousk', 'krenge', 'ghnte', 'jisme', 'sara', 'khtm', 'itni', 'hwill', 'awhile', 'wasawesome', 'comparedthis', 'productbut', '5or6', 'hangeg', 'favt', 'modify', 'hidingheat', 'heatset', 'autosuggested', 'car-usb', 'laptop-usb', 'ibgot', 'prodact', '2-months', 'destroys', 'mobilepls', 'surprises', 'shocksphone', 'mobilesdual', 'purchase1', 'hundred', 'solo', 'subway', 'surfers', 'frames', '20mins', 'problemin', 'properlycamera', 'bahute', 'madarchod', 'doran', 'niche', 'aajata', 'kaan', 'hotehi', 'beatry', 'bake', 'structure', 'docs', 'mailing', 'formed', 'starfront', 'greatsecondary', 'starsbattery-3', 'fastcharging', 'speed-4starsdesign-4', 'starsit', 'featurethere', 'lenovoinitially', 'degarded', 'lenovoit', '1there', 'stphotosdedicated', 'costumising', 'osmvoltee', 'sloteit', 'muchdo', 'curious', 'tracks', 'slote', 'osume', 'negatives-1', 'falleb', 'peices', 'upsate', 'closess', 'isuue', 'biig', 'here4', 'irritation', 'onne', 'seenpoor', 'batteryvery', 'chargingslowly', 'functioningheatingnetwork', 'problemnot', 'accesscustomer', 'public', 'ain', 'tgus', 'cliche', 'phn😀', 'wasol', 'spilt', 'dislpay', 'legit', 'tear', 'raju', 'outlet', 'bkwas', 'rula', 'patak', 'isne', 'thnkful', 'custmer', '04', 'disturbed', 'unsatisfactory', 'mourning', 'zabardastt', 'thoda', 'typically', 'headgear', 'jammed', 'aps', 'charginga', 'tut', 'aram', 'gira', 'optionno', '6overall', 'batrey', 'marne', 'bhar', 'batteryhanging', 'constantly', 'trash', 'इस', 'फोन', 'का', 'कैमरा', 'मेगापिक्सल', 'है', 'लेकिन', 'वह', 'नहीं', 'बेकार', 'क्वालिटी', 'और', 'डिस्प्ले', 'भी', 'थोड़ी', 'ठीक', '10/6bakwas', '10/4', 'ahh', 'kesa', 'yrrsurumey', 'jab', 'faet', 'sey', 'honey', 'mey', '50min', 'dikhata', 'suru', 'huwa', '5kin', 'karu', 'problm', 'definatio', 'sceen', 'crushed', '12,000/-', '7200/-', 'smartchk', 'sh', 'admirably', 'handsetexcellent', 'displayfabulous', 'qualityexcellent', 'performancevery', 'backupall', 'rangemarvelous', 'smartphonethanks', 'phonebetter', 'smartphone1', 'recording2', 'quality4', 'working5', 'poor6', 'option7', 'low8', 'performanceand', 'phoneso', 'avrege', 'photos/videos', '200g', '3900', 'phonethank', 'gor', '520', '3/32gb', 'hellothis', 'needfulit', 'superiear', 'dout', 'parcel', 'co', 'selected', '😡😡😡', 'jha2', 'gye', 'katai', 'tatti', 'abb', 'itna', 'exceptionally', 'cautious', 'stolen😓', '98', 'signel', 'hpy', 'leptop', 'width', 'transitional', '++', 'het', 'issueit', 'mobiledo', 'purchaseif', 'agra', '8077830744', 'frozen', 'purushoth', 'mathav', 'camera2', 'shander', 'productcons1', 'price2', 'nephew', 'for3', '480p', 'properly4', 'well5', 'sometimei', 'lac', 'glitch', 'justifying', 'okthere', 'compression', '1000000', 'printing', 'adopter', 'weat', 'usage:1.', 'working2', 'more5', 'killer🤔', 'labour', 'sumsung', 'musik', 'baground', 'bkvas', 'bhaut', 'keemat', 'lagai', 'hei', 'faida', 'matlab', 'buri', 'tarah', 'girti', 'consistent', 'superbok', 'discribeheating', 'usefor', 'hangbattery', 'fastturbo', 'lotcamera', 'goodprocessor', 'octa', 'resale', 'costomization', 'slowmotion', 'whilei', 'unmatchable', 'receiv3d', 'differentiate', 'qwality', 'smm', 'supportunstable', 'mannerno', 'callservice', 'helpdesk', 'nine', 'batteryminus', 'existent', 'sensation', 'haters', 'play-store', 'thank-you', 'rimuval', '45m', 'charege', 'fyi', '12999₹', 'bigbillionday', 'festival', '11999₹', 'treat', 'regardless', '48c', 'upcoming', 'valu', 'awsmm', 'qualitybattery', 'issuesheating', 'sudakuthu', 'ella', 'ongala', 'nabi', 'vaguna', 'ennai', 'seruppala', 'atiganum', 'prbl', 'colity', '25-', 'mediate', 'deosnt', '2:30hrs', 'averageoverall', 'mi4', 'subjects', 'hw/sw', 'decoder', 'hotstar', 'pluse', 'alsovery', 'dou', 'खूप', 'बकवास', 'आहे', '।।', 'chargingturbo', 'effectivecamera', 'averagespeakers', 'poore', 'performance1', 'hours2', 'malfunctioning3', 'malfunctioning4', 'deposit', 'mobile5', 'papers6', 'harass', 'customerssanjay', 'goenka', 'attache', 'bravia', \"nov'17\", 'balasubramanian', 'rchennai9840835042', 'invoce', 'dooes', 'reaches', 'wrorst', 'no-coast', 'telephonic', 'reformatting', 'afterall', 'phone😇', 'embarrassed', 'irony', 'government', 'capability', 'dalivare', 'lata', '24hours', 'to10', 'osame', 'problemphone', 'notepurchased', 'amazonwarranty', 'warrantyproblem', 'problemcity', 'indorelenevo', 'yashwant', 'plaza', 'dula', 'cmara', 'kadhu', 'unprotected', 'phoneawesome', 'camerapowerful', 'coreeverything', 'pocket😎', 'kioki', 'apne', 'owerall', 'dekha', 'jae', 'achi', 'iski', '2017there', 'performancesometimes', 'gamesbattery', 'betterram', 'expectedconsidering', 'sluggs', 'cristal', 'sleepy', 'corve', 'corner', 'sutable', '5-6hours', 'amezing', 'featuresdrainage', 'q8', 'g5splus', 'nicepower', 'privacy', '16mp', 'lpove', 'jiovoice', 'recieving', 'sirmy', 'velue', 'complety', 'lunching', '15/20', 'meaning', 'addressbest', 'retail', 'ay', 'defecred', 'jitna', 'socha', 'usse', 'santh', 'maza', 'aay', 'maah', 'huye', 'drr', 'lagne', 'jaye', 'dwnldng', 'networknetwork', 'regardsyasir', 'siddique9711193815', '4hours', 'earlycamera', 'lifted', 'name/number', 'gamer/user', ',except', 'batterybackup', 'everyphone', 'devicenetwork', 'missingso', '4this', 'sportearphone', 'verybad', 'lenovok8', 'achchha', '180gram', 'babjood', 'estemal', 'pareshani', 'badiya', 'jaruri', 'fechers', 'jaise', 'metre', 'neeche', 'dolbi', 'madhurata', 'catched', 'calculating', 'dhik', 'dikhti', 'jhurriya', 'kami', 'lagi', 'camere', 'kaphi', 'sudhar', 'aavashyakta', 'nazar', 'thodi', 'achchhi', 'abhav', 'defth', 'asardar', 'jalta', 'jisse', 'keval', 'sthiti', 'performers', 'atall', 'easly', 'maxim', '6hr', 'washed', 'signs', 'mutes', 'sarkha', 'nahiye', 'dhoka', 'promotional', 'delegate5', 'etchumble', 'galaxy', 'e5/redmi', 'pbone', 'aspected', 'iiam', 'uese', 'cams', 'exclusively', 'degine', 'degnie', 'option3', 'stereo', 'enovo', 'itam', 'moneybattery', 'murdered', 'e4', 'intact', 'verymuch', 'sapport', 'emitting', 'ah', '3500', 'nature', 'whiter', '1x', 'anythingwent', 'issuethey', 'stuffplease', 'excellentprocesser', 'nicebut', 'opener', 'prospective', 'buyers:1.', 'stranded', 'hangs-up', 'sms2', 'charge4', 'executives', 'queries/issues', 'dispose', 'regardscertified', 'vrygood', 'pethetic', 'declined', 'statement', 'achaa', 'kmi', 'buylt', 'k3/k4', \"con's-\", 'rectangular', 'fits', 'heavier-', 'a/c', 'wherever', 'connect-', \"notepro's-\", 'it-', 'them-', 'coordinationi', 'recomend', 'betterbut', 'badbut', 'outstandingno', 'gaminga', 'soundno', 'cameragorilla', 'galss', 'productbest', 'featurestoo', 'parents', 'chargering', 'frendly', 'replied', 'names', 'batt', 'warning', 'm2', 'purcheser😕', 'me🤔', 'vetnom', 'yesit', 'issuecall', 'voltecamera', 'vibei', 'vibebut', 'seriesnot', 'repurchase', '25kbut', 'performancestock', 'androidmetal', 'damge', 'concrete', 'qualitycons', 'heatingcamerabattery', 'p70', 'memo', 'thirdly', 'begun', 'beep', 'suddenly4', 'handphone', 'availbel', 'heatingstylishmetallicbatteryfhd', 'displaycons', 'productsince', 'etcvisited', 'uinable', 'issueand', 'denies', 'mailmy', 'recommenddo', 'phonei', 'satisfiedplease', '😀😀😀😀😀', 'ghatya', 'k5vibejust', 'lookinghaving', 'muchotherwise', 'hower', 'weary', 'amz', 'burn', 'skin', 'draine', 'returnd', '15watt', 'lengthy', 's7', 'driver', 'industry', 'handles', 'multi-tasking', 'guns', 'wwe', 'champions', 'afetr', 'odd', 'pleasure', 'fairness', 'polishing', 'focused', 'valuethe', 'combat', '50.', 'cent', 'choices', 'dozens', 'matte', 'fingerprints', 'smudge', 'armour', 'ensures', 'snappy', 'obscure', 'sheer', 'tuned', 'ktm', 'appeasing', 'throttle', 'torque', 'tuneups', 'ambitions', 'strict', 'behtar', 'aaj', 'nahin', 'promo', 'secured', 'paformans', 'faith', 'dayscemera', 'vudeo', 'stabilizer', 'worl', 'hiring', 'feak', 'froded', 'plze', 'zooms', 'established', 'hotted', 'markoptions/features', 'verient', '7gb', 'silly', 'productbutifull', 'cameralong', 'batteryhigh', 'prosising', 'tempure', 'depht', 'mobike', 'cavreg', 'problemover', 'midiatec', 'featuresand', 'amaxon', '👌👍', 'slowvery', 'connectivity-super', 'peas', 'engaging', 'respects', 'consadv1', 'pg', 'hanged2', 'gradually', 'phones5', 'okdisadvantages1', 'ofcourse', 'desire2', '3000/3500', 'batterys', 'samei', 'configerations', '3500mah', 'bestif', 'thankssss', 'valuation', 'worksno', 'att', 'tmobile', 'frequencies', 'exposer', 'a1subscribe', 'named', 'asdc', 'complian', 'copyi', 'coustermer', 'netflix', 'visuals', 'amplifier', 'unintentional', 'custmore', 'productcan', 'auto-brightness', '2017-', 'connet', 'recognize', 'credited', '24/01/2018', 'chargingbut', 'grmperformance', 'disadvateage', 'choise', 'kb', 'heving', 'deducted', 'tovvery', 'native', 'indirectly', 'satisfing', 'camerabad', 'youtubebad', 'nope', 'halpy', 'toda', 'butter', 'aswome', 'milne', 'kaise', 'aspection', 'shaprate', 'mentioined', 'thw', 'situationis', 'averageotherwise', 'vist', 'absulately', 'dum', 'jabrdast', 'jaisa', 'konsa', 'buhat', 'kurab', 'mc', 'bc', 'sal', 'kabi', 'maat', 'clrearity', 'implemented', 'cropping', 'mistec', 'encourage', 'fraudulent', 'sport', 'battety', 'e-commerce', 'sprnding', '50gb', 'gehdjdid', 'questionable', '30-100', 'look3', 'imprints', 'was-does', 'switches', 'placing', '-turbocharging', '25days', 'volty', 'temperaturegoes', '44-45°c', 'gadgetbut', '👌👌👌👌', 'cute', 'heat-', 'tall', 'broad', 'latency', 'toggling', 'hoto', 'century', 'show/told', 'skinny', 'keyboard', 'backupsingle', 'spicer', 'phonesecond', 'sow', '2017now', '5000rs', 'dining', 'marginally', 'letdown', 'k-series', 'disease', 'mobility', 'unpredictable', 'legacy', 'oblivion', 'poordisplay', 'misbehave', 'toooo', 'okspeed', 'oknot', 'acts', 'recordings', 'purchaes', 'flustered', 'won', 'doubtful', 'excellentbattery', 'sattings', 'wormly', 'k8…and', 'karain', 'formal', 'trousers', 'surfer', 'meditek', 'faltuheating', 'taggicharu', 'pros-', 'unibodycons-', 'bttery', 'percent2', 'good4', 'whats-app', 'insidenow', 'muh', \"'lock\", 'nowvery', 'nop', 'clothes', 'failures/set', 'backs', '👎😕🙁😏😓', 'observationsprosfast', 'chargingspeakerconsvery', 'cameraphone', 'timesvery', 'windy', 'incall', 'jiska', 'deti', 'naya', 'thaa', 'kaach', 'bikhar', 'jbki', 'hoshiyari', 'batati', 'kre', 'rotating', 'worthwhile', 'aurpattern', 'haiquick', 'haa', 'auro', 'thrown', 'smar', 'goodcharging', 'backup7-8', 'reviewmeet', 'amuse', 'coping', 'avoided', 'precautions', 'goodweight', '💀killer', 'praise', 'curable', '👌👌👌👌👌👌💗💗', 'discouraging', 'upgrades', 'byjuly', 'performnce', 'costing', 'dozen', '2018waste', 'qualitybut', 'winner', 'wifegreat', 'priceamazing', 'itbest', '5note', 'amazoncamera', 'backbattery', 'lenovogood', 'butone', 'ringtoneand', '4gcompare', 'hez', 'lostthis', 'manger', 'uncompleted', 'pair', 'gloves', 'missd', 'pethatic', 'anna', 'salai', 'hcl', 'die', 'becuse', 'normalcamera', 'samrt', '😎😍', 'professionals', 'panelbattery', 'worth😍', 'noughgat', 'originality', 'somebdy', 'seenor', 'useda', 'thia', 'gamesworst', 'locking', 'embarrassing', 'extremly', 'mali', 'downward', 'runnung', 'chrom', 'grab', 'khelte', 'valued', 'performence', 'bax', 'ghhh', 'darshita', 'drinks', 'heart', 'pdoduct', 'ossam', 'multasking', '😍😍😍😍', 'responsibility', 'promoting/selling', 'orange', 'breaker', 'tension', 'convincing', '9f', 'strenth', 'pakka', 'un', 'breakable', 'ot', 'priceworking', 'mi-note', 'unlimited', 'irritant', 'workhorse', 'un-satisfied', 'similer', 'tools', 'training', 'booking', 'interfacing', 'torrent', 'all-round', 'hats', 'badback', 'compatable', 'nadu', 'expenses', 'map', 'w/o', 'soliciting', 'abailable', 'boked', 'wark', 'pas', 'ane', 'garm', 'kan', 'jal', 'handi', 'ist', 'requests', 'app/site', 'listened', 'resumed', 'emei', 'returned/replaced', 'famed', 'hot-spot', 'butwat', 'supprab', 'j7pro', 'j7max', '😇😇😇😇', 'hur', 'decades', 'pdf', 'rhii', 'lgaa', 'karke', 'karan', 'hiii', 'mn', 'hat', 'gyaa', 'bda', 'hutiyaap', 'lgaaa', 'sasta', 'enugh', 'charching', 'prolonged', 'vthis', 'atmis', 'bitmine', 'absorbing', 'heatfingerprint', 'uneasy', 'inter', 'buyyy', 'oldest', 'o/s', 'gaurd', 'rarely', 'camerafront', 'f3', 'keyno', 'realistic', 'gose', '45min', 'exesive', 'charginh', 'vostro', '1510', 'existed', 'wierdos', '1500/-', 'statements', 'helluva', 'summary', '5000k', 'aminities', 'chargedual', 'hourhs', 'clearphone', 'wifi/bluetooth', 'evren', 'becouse', 'andbattery', 'cools', 'interior', 'kerala', 'poorly', 'camerathough', 'productexcellent', 'numer', 'ded', 'vastlycall', 'extra-ordinary', \"doesn'tget\", 'interchanged', 'countiued', 'tasks', 'initiallyvery', 'passage', 'handal', 'fraction', 'it👍', 'upsets', 'unplug', 'reaching', 'entirely', 'opted', 'technologies', 'disappears', 'boast', 'jalandhar', 'int', 'critical', 'crispy', 'alerts', 'rangegood', 'flashwith', 'upno', 'issuelatest', 'n7', 'reserved', 'champion', 'consgallery', 'missingthemes', 'chargingmusic', 'missingspeed', 'antivirus', 'missingcamera', 'expectedin', '8x', '28000', 'sign-in', 'defination', 'lid', 'aaya', 'underrated', \"call'sear\", 'sam', 'theresend', 'updateno', 'orginal', '24hrs', '-cons1', '-20', 'cover-although', 'magnet', 'sweaty', 'battery-when', 'unboxed', '6pm', '12am', 'lacked', 'disruptions', 'spaces', '-4/5', 'cam-again', 'ashen', 'mode-', 'monochrome', 'squinting', '🔈speaker', 'noteit', 'quiet', 'disapoainted', '5😢😢😢do', ',02may', 'oct2017', 'workingbut', \"'jugaad\", 'dude', 'guessing', 'navs', 'ejecting', 'hugely', 'defined', 'plzzzzzz', 'sb', 'ghante', 'krlo', 'lgatar', '20-25', 'bachti', 'bss', 'mahine', 'khrab', 'isliye', 'zada', 'bsss', 'agr', 'apki', 'mrzi', 'bta', 'smjho', 'qki', 'uska', 'ban', 'pta', 'han', 'sawal', 'kro', '7007441140', 'properlythe', 'properlypls', 'pleased', '5/10', '8/10', 'panels', '😞', '8540/-', 'mediateck', 'mortification', 'glitchs', 'speedeter', 'symbols', 'exec', 'reimbursement', 'reimburse', 'itz', 'unite', 'q465', 'btry', 'periods', 'buts', 'phonenot', 'rijalt', 'averagebatery', '76', 'detects', 'bakra', 'batteryworst', 'cameraworst', 'comply', 'chraging', '😪😪', 'superbb', '3monts', 'requiring', 'issues:1', 'anti', 'managment', 'wats', '5500', '50percent', 'phoch', 'effectwhile', 'worthable', 'boiled', '4/10', 'rateing', 'even15', 'command', \"is't\", 'problemi', 'edm', '🙌🙌🙌🙌music', '3g/4g', 'quarlity', 'manish', 'requestthank', 'concernproduct', 'bjt', 'classic', 'glue', 'buyingpoor', 'vibek5', 'screecast', 'offf', 'badd', 'darkness', 'pricepoint', '8390900228', 'nentwork', 'oki', 'goodfront', 'drowns', 'fastotherwise', '650', ',battery', 'superrr', 'disappointedi', 'squek', 'frightens', \"'just\", 'celcius', 'jordar', 'btw', 'curiour', '-cheatinggggg', 'lteso', 'nonth', 'sohnd', 'powerk8', 'pkys', 'hereand', '0/5', 'condion', 'mornng', 'proporly', 'suugest', 'amazonnot', 'voltevery', 'microtec', 'khtam', 'iast', '13900', '350', '4000mha', 'pastic', 'dissopointed', 'gooduser', 'interference', 'gooscast', 'adjustable', 'jindegi', 'guilty', 'rapchik', \"'lai\", 'bhari', 'teami', 'bot', '2000/-', 'shutdown', '_4000but', 'ismore', 'crappy', '🎥', 'crossed', 'lenevok8', 'fleaker', 'paining', '5-star', 'custome', 'doot', '3000/-', '5000/-', '17th', '30-09-2017.', '❤❤', 'viewers', 'gret', 'awosome', '11th', 'usefaster', 'cpudual', 'cameravery', 'prosnear', 'launcherdolby', 'sound4gb', 'ram5', 'displayconsthe', 'swapped', 'rohil7736832940', '2000rs', 'aloneam', 'noticed,1', ',2.', 'steal', 'reckon', 'optimal', 'purchasedcontact', 'vanishdoes', 'mirroringno', 'otgno', '900', '/-', 'ok/ggod', 'limits', '6ams', 'serial', 'registering', 'mineus', 'perfmance', 'clearance', 'yaaaa', ',its', 'waterproof', 'objects', 'fastlysystem', 'requiredhanging', 'cameperformance', 'storageneeds', 'effectoverall', 'dayradmi', 'nota', 'deda', 'jim', 'cutso', 'me😞', 'shifting', 'dissapoints', '13000.', 'user-friendly', 'notch', 'duble', 'fentastik', 'selfish', 'bedfirst', 'productdo', 'cmra', 'app2', 'available3', 'issues4', 'set5', 'language', 'usable7', 'sync', 'available8', 'rotation', 'working9', 'customise', 'display10', 'crime', 'display/sound', 'were:1.', 'mice', 'respected', '₹12,999', 'importance', 'andoird', 'essential', '30percent', 'unwilling', 'insisting', 'bla', 'reosnabel', 'guna', 'persists', 'echo', 'rahega', 'apna', 'sudhaar', 'naam', 'glassi', 'screenin', 'indirapuram', 'nitin', 'joshi9873551974', 'probable', 'phonesdesign', 'appealingdaily', 'glides', 'rails', 'averageselfie', 'prosesar', 'mying', 'phonein', 'worth-full', 'bougtht', 'somebody', 'anil', '9849468855', 'viz', 'reviewed', 'permanently', 'yesterday-21-04-2018', '4200', 'reverse', 'sould', 'opprating', 'poorheating', 'gamin', 'blip', 'swift', 'marking', '3t', 'allrounder', 'denger', 'connectivityin', 'recovery', 'unfit', 'disopponted', 'verrrryyyyyyy', 'wonderfully', 'intrupted', 'it2', 'believe3', 'great4', 'minimising', 'downbest', '800', '420.', 'showrooms', '😊😊', 'mpxl', 'enhancer', '6moths', '☺️but', '1-jio', 'mod', '😢', 'montgs', 'resend', 'advantages', 'mode3', 'sound4', 'customised', 'further5', 'selfies6', 'updates7', 'atmos8', 'support9', 'xt', '1902-2', '9990', '4850', 'suresh', 'va', 'bahout', 'grmavat', 'hhot', 'krat', 'hka', 'kri', 'bachwa', 'batwa', 'exercise', 'acquire', 'fullfil', 'suicide', 'goodbt', 'muncipal', 'corporations', 'monsoon', 'rains', 'climax', 'nail', 'bitting', 'buspros', 'android13', 'atmosless', 'heatingvr', 'modecons', 'updatesnormal', 'blasterbattery', 'consumingfinally', 'realize', 'otherspls', '1500-2000', 'attitude', 'co.', 'dolbyatmos', 'a.', 'vinod', '43-degree', 'stains', '1-all', '2-play', '3-call', 'bola', '535', 'unginat', 'firbhi', 'tuta', 'patthar', 'pee', 'gir', 'aadhe', 'gyzzzz', 'bichme', 'kbhibhi', 'cameraand', 'lest', 'powefull', 'befor', 'gashes', '128gb', 'feautres', 'retuned', 'amazonpolicy', 'immersed', 'performance2', 'lasting3', 'feel4', 'superb5', 'notebut', 'switchi', 'hart', 'lifeturbo', 'chargingfront', 'cameranot', 'fineconscall', 'fastslow', 'chargingheating', 'rangewith', 'needsthanks', 'amazonthanks', 'leno', 'styling', 'royal', 'reject', 'nat', 'werst', 'cleared', 'blurrish', 'littlebit', 'notificationled', 'palace', '15-20', 'belive', 'synch', 'plug-in', '🤗🤗', 'button/home', 'gnetwork', 'usase', 'bdhiya', 'a4', 'goodproblem', 'prect', 'chargerheating', 'dissplay', 'rong', 'cammand', 'phenomenondepth', 'satisfactorynot', 'applevideo', 'incrediblesome', '1overall', 'deserving', 'optionvoice', 'goodpicture', 'lenvovo', '4ram/64rom', 'continous', 'minuts', 'sencing', 'purfect', 'thrill', 'batray', 'supercharging', 'chargin', 'coting', 'newer', 'possibly', 'nownorefundoptionforme', 'sethu', '4or', 'organize', 'samecontact', '9167256825', 'candidate', 'disappeared', '11,900', 'snapper', 'backdraws1', 'class4', 'lotttt', 'hangand', 'ntg', 'moneybrought', 'warrantylenovo', 'guidance', 'kishorekhatua890', 'comthank', 'smartphonevery', 'vaste', 'feture', 'problam', 'purchese', 'returnble', 'suffaring', 'waw', 'found:1.', 'headphone2', 'bettrylife', 'reveiew', 'e3', 'displayvery', 'phoneyou', 'camera+', '😇', 'badnot', 'hisar', 'haryana', 'servicevery', 'prosdual', 'cameraseparate', 'cardhuge', 'batteryfast', 'u2', 'assessed', 'mult', 'ovet', 'concluded', 'this-1', 'megapixels', 'equalizer', 'netpack', 'commerce', 'krck', '27/08/2017', 'continually', 'jao', 'dikhta', 'waisa', 'intermedent', 'diffculty', 'sice', 'booted', 'thumb', 'bying', 'gooddesign', 'averagecons', 'indeedgood', 'performanceno', 'taskingfinger', 'fastalthough', 'expectationbattery', 'delevard', 'heatingusing', 'greatespecially', 'amazingonly', '1months', 'worstttt', '01', '8hr', 'partiallity', '😅😅', 'wellbut', 'returnand', 'smrt', 'namesake', 'painfully', 'optimize', 'baddest', 'gard', 'goodpice', 'usingloud', 'speekar', 'lay', 'bharilenovo', 'supporte', 'burn-in', 'missbhaveing', 'anable', 'cg', 'converting', 'finr', 'onboard', 'spacebut', '10cores', 'pace', 'charg', 'shotly', 'awsmmeee', 'promptly', 'hardcore', 'weard', 'k5plus', '3a', 'qualityfront', 'displaydolby', 'superif', 'bullet', 'darshana', 'superbno', 'heatinggood', 'qalitybut', '3-4hours', 'aroused', 'recharging', 'conned', 'spite', 'employed', 'resist', '2-3hr', 'slowi', 'moths', '1603/-', '13999/-do', 'award', 'decta', 'irritates', 'distracts', 'engineering', 'beta', 'proves', 'info', 'millions', 'processor😘😘', 'expectationslet', 'durabilty', 'amd', 'supercast', 'leke', 'pachatava', 'chargingcamera', 'okish', 'cameraselfie', 'wastespeed', 'trapit', 'suppper', 'cherge', 'goodest', 'cheapbut', 'screen2', 'sharpe', 'hide4', 'updown', 'notvolte', 'sup', 'issuelenovo', 'thereas', '💰', 'practically', 'decisions', 'worsening', 'insanely', 'precious', 'eligible', 'aluminium', 'finethe', 'punda', '😂', 'kinds', 'promotions', 'shaking', 'recordingand', 'onk4', 'thisor', 'compresses', 'baddraining', 'of1', 'compass3', 'screen4', 'cleaner', 'unsatisfying', 'dammage', '5/5battery', '5/5sound', '5/5display', '5/5front', '5primary', 'upgrade:1.', 'plant', 'zombies', 'sits', 'heatingfast', 'nowdaily', 'hoursi', 'prosgood', 'cameraspeedy', 'processorstock', 'uiconsbattery', 'markdrains', 'heavyweight', 'fewer', 'ln', 'proving', 'haphappy', 'enjoyablecons1', 'performing2', 'minutes3', 'processorpoor', 'ramsound', 'loudnot', '4pro1', 'lund', 'daysbattery', 'excellentuser', 'goodfinger', 'fastdid', 'phoneperformance', 'givenno', 'barsound', 'oknetwork', 'immediatelybecause', 'reg', 'sasikumar', 'availablebut', 'competeheating', 'gorgeous', 'wheater', 'dut', 'inc.', 'receaved', 'tweaked', 'portraits', 'cahrging', 'awaiting', 'lifeeffortlessly', 'multitasks', 'grainyjust', 'dranage', '15/5/2018', 'beytary', 'redmi4', '3gd/32gb', 'calculator', 'battery10', '/an', 'hourwhile', 'url', 'impression', '9/10battery', '9/10gaming', 'mortal', 'etcsound', 'effectdisplay', 'qualitycharging', 'nonlag', 'thisfrom', 'outeramazon', 'outer', 'cooperate', 'exellent', 'note8', 'mau', 'shortout', \"'depth\", 'certificate/', 'enclosed', 'ears👂', 'preforms', 'cry', 'throughout', 'lenovok', 'begaining', 'previoue', '-when', 'respon', 'issuemay', \"'worst\", 'hacks', 'kundos', '👿👿😤', 'tavar', '“', '”', 'failsand', 'sharpeness', '65-70', 'unboxing', 'missinggreat', 'lagsno', 'screencamera', 'goodram', 'properlywaste', 'rotate', 'bttry', 'butcash', 'creditoffer', 'nam', 'frod', '30sec', '64internal', 'mangalthakur', 'mein', 'rehta', 'hoon', '9711067762', 'hets', 'cz', 'thankfully', \"did'nt\", 'quicky', 'and/or', 'correction', 'fetched', 'amazonproduct', 'whe', 'waht', 'procudre', 'overwhelming', 'usef', '2000.', 'extract', 'ineffective', '-95', '-105', 'dbm', 'guyslisten', 'ok-ish', 'shooting', 'lotta', 'af', 'aircel', 'theres', 'stand-by', 'lotz', 'ion', 'amusing', 'camre', 'phoneearphones', 'slimhandylooks', 'goodfast', 'operationbut', 'carmera', 'weekawesome', 'worthdual', 'awesomeprocessor', 'stretches', 'mach', 'okit', 'charginggo', 'helpless', 'tolrate', 'camchalu', 'coolplay', '7_8', 'hourcamera', 'qualityfinger', 'properlyturbo', 'complitly', 'pri', 'ringtones4', 'orderded', 'temted', 'utilities', 'primarily', 'deficiencies', 'flexibility', 'milky', 'meeting/silent', 'meeting/conferences', 'noooo', 'bike', 'ride', '-ve', 'onle', 'reveived', 'plss', 'plsssss', 'pleaselisten', 'lenovok8istheworstbooked', 'skype', 'thousands', 'kannada', 'thoo', 'resort', 'sorted', 'on😬😡', 'recommeneded', 'workingsuggestion', 'biometric', 'okjio', 'issuepathetic', 'amazonvery', 'cantacts', 'reckless', 'backend', 'programs', 'castle', 'price😃', 'owsame', 'extend', 'whr', 'boxheadfone', 'jump', 'tolerable', 'jastlaik', 'naw', '13janury', '7k', 'mediatak', 'greatly', 'miss-calls', 'overlooked', 'accessed', 'chalne', 'exange', 'cominding', 'cheep', 'proccer', 'porfomence', 'whencharged', 'choosing', 'outputno', 'goodsound', 'goodcam', 'extranery', 'diliver', 'customisationbluetooth', 'rangerare', 'surface', '7000/-', ',6', 'jldi', 'fhon', 'forcebly', 'audible', 'likly', 'delight', 'expandable', 'dains', 'plse', 'blasting', 'selife', 'cammera', 'keyword', 'phoneca', 'phonehitting', 'ranhe', '，', '6,7', 'tomorrow', 'dikh', 'panal', '+64gb', \"jan'18\", 'prblmguys', 'gsv', '👎👎', 'rs,14k', 'ritarn', 'pcs', 'againvery', 'duly', \"'update\", 'dynamic', 'recignises', 'miserably', 'elder', 'workingcast', 'workingnetwork', 'problemoverall', 'satisfiedreturning', 'pick-upstill', 'verr', 'batri', 'bakp', 'nise', 'desgining', 'kiler', 'simcards', 'dought', 'problemyellow', 'camerahanging', 'allmost', 'haining', 'divais', 'batraye', 'capcity', 'differentlast', 'feautures', 'performancecamera', 'od', 'cloths', 'watever', 'demanded', 'grossly', 'consumptiom', 'dorectly', 'practicality', 'figer', 'boton', 'exalent', 'shutable', 'wastephone', 'luckliy', 'espected', 'slept', '81℅', 'woke', '58.', 'manufactureed', '5,6', 'hoursand', 'sucking', 'favouring', 'simcamera', 'tests', 'conducted', '8h', 'xpectation', 'vision', 'laxmi', 'puja', 'awaited', 'lies', 'subdued', 'collected', 'reviving', 'on28th', 'reddi', 'reshmi', 'reconnecting', 'installs', 'measurement', 'cornial', 'chutiye', 'amazom', 'motherboards', 'lifespan', 'dmg', 'weighted', 'seams', 'expectedprossd', 'slotmedia', 'buttongood', 'flashgood', 'displayfast', 'scannerconsheavy', '180g', 'create', 'updatepoor', 'graph', 'nokiai', 'perfection', 'offcharger', 'cymerabattery', 'opition', 'powerbank', 'outof', 'generalised', 'flooded', 'greatrest', 'spl', '7months', 'bthe', 'drawaback', 'teething', 'socks', 'issuecharge', 'chargerheated', 'uk', 'contest', 'continuouslyheating', 'tweaking', 'nougatso', 'like1-', 'issues2-battery', 'rate3-fingerprint', 'responsive4-led', 'perfamance', 'mi/redmi', '64-bit', 'successfully.', 'options1', 'device2', 'files3', 'videos4', 'files5', 'wordi', 'peaople', 'giging', 'usagefirst', 'cheera', 'laggs', 'todaybut', 'performancescreen', 'hasdolby', 'settingsbattery', 'soltion', 'updatesthough', 'hasnt', '45days', 'amazon/lenovo', 'fellows', 'yellowliesh', 'usedfor', '71', '10hours', 'moneydo', 'papersnot', 'physicalpoor', 'tuffon', 'liks', 'customisable', 'lenovo/google', 'wantsnot', 'amazonproducts', 'excellenttop', 'marketexcellent', 'featureall', 'television', 'phoneper', 'hkuch', 'purane', 'vali', 'review2', '26-', 'onlyit', 'rigorous', 'cs', 'managers', 'teach', 'sups', 'reps.', 'sove', 'karenge', 'nikal', 'uthata', 'shuold', 'demond', '6500', 'aal', 'amongst', 'highlights:1.', 'great-', 'warmth', 'apt', 'designsoftwarestoragemusic', 'keydolby', 'atmosvr', 'experiencefinger', 'sensorgoogle', 'assistantdedicated', 'slotscons', 'weightpoor', 'backupdisappointments', 'cameralots', 'softwareseven', 'issuebattery', 'fastlenovo', 'phone😡😡😡', 'owsum', 'procceser', 'tume', '👎👎👎👎', 'reagrds', 'pritam', 'shambharkar', 'itmob', '9923294166', 'disconneced', 'strong/loud', 'cust', 'twicebut', '-deca', 'feather', 'cutting', 'techniques', 'cardboard', 'bubblesheet', 'expanded', 'prossecer', 'badbad', 'catches', 'lenovobuilt', 'okuser', 'yesbattery', 'greatcamera', 'vlogingsome', 'nil', 'pink', 'purple', 'shirts', 'suggestabul', 'aachha', 'gudfinally', '😍😍😍😍😍😍😍😘😘😘😘😘😘😘😘😍😍😍😍😍😍😍', 'snart', 'fedup', 'connevtity', '11990.', 'productmobile', 'centeralso', \"'t\", 'rudeness', 'prof', 'touted', 'headseat', 'ejuct', 'cool1', 'exceeds', 'business/personal', 'untweaked', 'allows', 'longish', 'thanking', 'kumaresan', 'note5', 'batteey', '2000mah', 'richness', 'event', 'disgrace', 'efficiency', 'craft', 'revising', 'contemporary', 'redemption', 'gazab', 'faddu', 'nhiii', 'bdiya', '💯', 'packings', 'product1', 'hrs2', 'whatsapp4', 'properly5', 'working6', 'followup', 'finalized', 'vibebad', 'indication', 'mobilee', '-sk', 'hasan78696', 'krao', 'walo', 'daysfirst', 'goodturbo', 'continuing', 'bus', 'unsupported', 'uninstall', 'install/uninstall', 'wa', 'aweome', 'quickly3', 'goooooood', 'retrieved', 'turbochargerapart', 'phoneeven', 'videossnipper', '14cm', 'awesommmmme', 'plans', 'recognized', 'aashiyana', 'private', 'limitedsold', 'everyfast', '47c', 'signes', 'appearance', 'awesomebattery', 'fantasticneed', 'gear', 'interuption', 'filled', 'unibody', 'itthanks', 'schemes', 'beahaviour', 'handlingpros:1.', 'resistancecons:1.', 'sports', '699/-', 'expected7', 'feature-wise', 'reversed', 'foolish', '3d', 'k9', 'd.', 'goury', 'manohar', 'reddy', 'disappinting', 'spendin14thousand', 'qha5', 'ohone', 'everage', 'wonders', 'wraps', 'bubble', 'evertime', 'ignores', 'reslolve', 'garmin', 'ant+', 'naysayers', 'neeed', 'khuzema', '😔😔', 'smuthly', 'baaki', 'whaste', 'bookeh', 'easilyheating', 'mst', 'gudlittle', 'problemturbo', '20/06/2018', 'faced:1', 'talking2', 'headphones3', 'characters', 'typed', 'reviewss', 'chor', 'contended', 'barbadi', 'bharne', 'fast,4000', 'fluke', 'client', 'mmmm', 'notegood', 'storagedual', 'newtwork', 'moneycamera', 'averagehas', 'problemfinger', '3-5', '👌👌👌👌👌👌👌👌👌👌👌👌👌', 'backuphanging', 'noteno', 'screenshotno', 'barno', 'fingerprintjab', 'sakta', 'unko', 'notebattery', 'minutesno', 'note9', 'backuplooks', 'excellentotherwise', 'loverotherwise', 'feasible', 'fingure', 'scenser', 'fading', 'prosidure', 'phohe', 'smooth3', 'hot4', 'offamazon', 'anymoredo', 'markturbo', 'workingthe', 'lick', 'diagnosis', 'blocked', 'cera', 'goodnoise', 'reduction', 'goodno', 'heatrear', 'gamingany', 'metering', 'sharp6', 'properlyonly', ',service', 'peaches', 'esme', 'chiefer', 'hospot', 'resently', 'features❤️loved', 'finaly', '✌️✌️✌️', '11000.', 'multitaskingcons', '-audio', 'predecessor', 'abrupt', 'sugeest', 'siliguri', 'happyeven', 'alaram', 'close2', 'work3', 'show4', 'heat5', 'problem6', 'show7', 'day8', 'xender', 'magnificient', 'reconnects', 'rebooted', 'sa', 'isvery', 'frm', 'differentiating', 'layrs', 'everywhere', 'improvemnts', 'totay', 'rep.', 'haveput', 'secend', 'alarms', 'his/her', 'improvisation', 'exhibit', 'dr.', 'prajith', 'veraval', 'gujarat', 'nearby', 'mechanic', 'centere', 'vereval', 'himself', 'fellow', 'justice', 'backup-1-1', 'gamesusp-', 'theater', 'badupdate', 'memi', '9:30', '15th', 'evenings', 'travel', 'mare', 'annual', 'issue1', 'again2', 'connectingin', 'note1', 'shift2', 'sound3', 'app4', 'preventionwaste', '2012.', 'lowest3', 'night5', 'mode6', 'ore', 'plsa', 'expirience', 'negligible', 'preety', 'thatmay', 'satisfie', 'boli', 'gae', 'avi', 'millano', 'becasue', 'lvd', '28jan', 'highet', 'experiencescons1', 'fetching', 'prosmobile', 'x-play', 'cricket', 'tilt', 'occupie', 'bunch', 'bombs', 'pircjase', 'findings', 'par,2', 'footprint', 'idea/jio/vodafone', '110-130', \"launchpro's:1.\", 'build,2', 'operation,3', 'outs', 'audio,4', '12999.', 'teamthis', 'sequence', 'events', 'resentful', 'contraption', 'asks', 'acceptablebackground', 'minnor', 'scrapproduct', '💗', 'purchasers', 'xlent', 'prodict', 'term', 'nanocoting', 'resistivity', 'bent', '13,000/-', 'fucher', 'thanmoto', 'differently', '🙁', 'reiter', \"i'am\", '1m', 'lenovao', '107', 'initialy', 'gorial', 'droped', 'hieght', 'udpate', 'specvolume', 'zeroneed', 'inbox', 'reigning', 'tec', '…my', 'dispointed', 'monthsthere', 'issuecamera', 'occassionally', 'sizes', 'successful', 'lady', 'waooo', 'discussting', 'proceser', 'amazon/supplier', 'starhuge', 'heatingfalse', 'atxa', 'thish', '10800', 'overhyped', 'rlly', 'dsle', 'handing', 'nowonly', 'workingamazon', 'faded', 'ringet', 'timeframe', '😗', 'vyawastha', 'custemer', 'inkar', 'krte', 'arriving', 'cheatedi', '825.', '16-24hr', 'adjustment', 'are1', 'hot2', 'bueatiful', 'rapped', 'carbage', 'bag', '😫', 'occupies', '☹️nice', '😒battery', '😊overall', 'pert', 'annoying2', 'usage4', 'points:1.', '3/5', 'rs15000', 'simplistic', 'fancy', 'ostentatious', '100.', 'atmosphere', 'thereand', 'tooonly', 'enoughrest', '29-apr-2018', '30-09-2017', 'expire', '28-12-2018.', 'thankyu', 'noye', 'expirence', 'purcahse', 'beutifull', 'charming', 'scrinquality', 'betar', 'ovweall', 'spark', 'pause', 'behigh', 'quailty', 'awesomelove', 'phonepaisa', '200rs', '17000', 'hysterical', 'compair', 'phonememory', 'excellentcamera', 'normalprocessor', 'camera3', 'audiable', 'whopping10', '5000.', 'goodprocessing', 'veri', 'intl', 'mobaile', 'supub', 'atractive', '9,999', '00', 'moneybeats', 'fluent', 'gurrilla', '4x', '88to', '38', 'ish', 'sucksphone', 'destroyed', 'noting', 'identifying', '1800', '9009', 'amaaazing', 'neet', \"'wow\", 'superrrbut', 'broblem', 'lifw', 'phonepros', 'slotsand', '-heating', 'issue-below', 'life-issues', 'endgraphics', '13-14k', 'observation', 'one-two', 'affects', 'movie/tv', 'loosely', 'suganthan', 'mobis', 'terriblealso', 'unwantedand', 'unuseful', 'fudu', 'soz', 'sparate', 'phone🤔🤔🤔', 'niceorder', 'session', 'glow', 'dolly', 'bachap', 'lenovomany', 'funtion', 'y😭😭😭😭😭', 'inglenovo', 'continuos', 'ing', '😏nobody', '😣', 'bluffing', 'confusing', 'performancebit', 'heavyand', 'handphotos', 'batey', 'problamcamera', 'dameged', 'shorting', 'empoley', 'chaeges', 'starred', 'dirt', 'thoughand', 'wellit', 'worsewhy', 'reseption', 'metel', 'hard-core', 'shocker', 'pleaseeeee', 'brightnesscons', 'instud', 'crome', 'coustomer', 'tookover', 'notsmooth', 'quilt', 'mistakenly', 'resultwhat', 'recourse', '-phone', 'usagepositives:1.', 'speed3', 'storagenegatives:1.', 'noteplanning', '11000/-', 'satish', 'chavhan', '4g4', 'screenguards', 'scrath', 'excel', 'powerpoint', 'stunnsan', 'indepth', 'bubbles', 'vimbar', 'extraordinarily', 'element', '5and', '/motos', '52gb', '4b', 'enought', 'aiming', 'knife', 'tea', 'angles', 'keo', 'mi4i', 'loundness', '5s', 'officially', 'sweat', 'setisfide', 'probelom', 'heaten', 'disaapoiting', 'sentence', 'ticks', '-•the', '•very', 'halogen', '•major', '•only', '•depth', '•battery', 'batterydo', 'worth2', 'paste3', '9901', '2mins', 'lenovi', '4g/3g', 'hitted', 'daysdisplay', 'smoothspeed', 'bad4day', 'serampore', 'rcvd', 'myc', 'specsdont', 'jeans', '185', 'pokemon', 'famously', 'pushing', 'renowned', 'fourth', 'froze', 'complex', 'coss', 'fsb', 'firstcons', ':1', 'walking', 'readings2', 'filter', 'grainy', 'headphone/earphone', 'less6', 'illuminated', 'pro1', 'clarity4', 'verdictfine', 'publicity/marketing', 'in4', 'brosing', 'internet2', 'front4', 'afrer', 'sancer', 'mamy', 'comings', 'okbattry', 'visa', 'unsatisafactory', 'induction', 'omlets', 'catalog', 'shoes', 'playable', 'avid', '10-11', 'kurear', 'farod', '4+', 'loke', 'externally', 'phonefeeling', 'hotter', 'aval', 'discovering', \"'connected\", 'swtiching', 'resumes', 'rainbow', 'melted', \"customer'sfirst\", '45°c', 'luking', 'consfirst', \"doesn'tsome\", 'youoption', 'scrrenshot', 'easiness', 'no-problem', 'hoursno', 'priorities', 'sensor/phone', 'cornered', 'bundle', 'greatbut', 'problemrest', 'lifeit', 'membership', 'qukly', 'interfacer', 'stuning', ',super', 'preloaded', 'cons-1', 'sofar', 'goodat', '😣😣😣', '🙏🙏', 'arranging', '65℃', 'bursting', 'camerafast', 'wld', 'duped', 'rs8000performance', 'averagemusic', 'impressivefacing', 'n/w', 'volt', 'trustful', 'enen', 'pune', '8668434994', 'rangepros-dual', 'camera-dolby', 'atmos-front', 'flash-', 'processor-5', 'good-gorilla', 'coating-turbo', 'chargercons-no', 'speakers-no', 'option-no', 'illumination', 'keysvery', 'shoping', 'gha', 'struggling', 'unsafe', 'turbi', 'failurehave', 'wery', 'frone', 'qualitymind', 'supb', 'becose', 'dayplease', 'wroth', 'oneday', 'smartest', 'letv', 'appreciative', 'productfront', 'eating', 'atomatically', 'gbno', 'hanglong', 'chargerawesome', 'backcover', 'surprize', 'onlyno', '41°', 'jerk', 'accesorios', 'ranging', 'disppear', 'pleasant', 'mishap', 'unknowingly', '2650', 'stole', 'parfons', 'godloking', 'tecno', 'hopless', 'mko', 'smjh', 'kyo', 'phle', 'prblms', 'dekhega', 'paynge', 'apko', 'kon', 'facilitys', 'bekup', 'troubleshoot', 'doin', 'frds', 'rangeandroid', 'nougatsolid', 'qualitydedicated', 'microsd', 'cardscustomisable', 'keytheatermax', 'supportcons', 'quicklyaverage', 'chargedheavyweekly', 'griped', 'aproblem', 'chief', 'tyms', 'disheartening', 'moved', 'published', 'arrives', '4gigs', '64gigs', '®', '✌️❤️', 'reciver', '01_04_2018', 'compliant', 'index', 'heatingbudget', 'qty', 'gooda', 'directory', 'hue', 'yah', 'khabi', 'bata', 'kahte', 'karoye', 'frustration', 'play/call/', \"'no\", 'trough', 'senseless', 'password/pattern', 'adapt', 'badlly', 'poormy', 'operates', 'tmprd', 'glss', 'evn', 'tmpered', 'thnxx', 'relief', 'tomy', '3-5-2018', 'renge', 'sloved', 'groups', 'nhii', 'aata', 'distrut', 'jda', 'aone', 'krtaa', 'hii', 'jdaa', 'tik', 'houa', 'morethan', 'worstest', '000000000.', 'intarnet', 'trigger', 'quute', 'dwpth', 'supportedno', 'recorderscreen', 'remained', 'pushed', 'earworst', 'expert', 'retain', 'delhi', 'exorbitant', 'amazingly', '<', 'phonefront', 'expdctation', 'may2018', 'unsung', 'hero', '4gbram64gb', 'strg', 'glasstheatermax', 'inbuild10', 'deacaaaa', 'frnt', 'oooooooozam', 'dual2sim', 'upto128', 'scannerdolby', '😍4000mah', 'savage', 'bundlebattery', 'problemscharging', '1g', 'purching', 'assumed', 'dueal', 'serviced', 'ama', 'foes', 'permit', 'refers', 'tinge', 'henge', 'her', '19k-20k', 'coustomers', 'bad☹️👎', '☹️☹️', 'adviceregardsmangesh', 'sellfies', 'reproduction2', 'quality3', 'flash4', 'management5', 'datecons:1', '13999flipcart', 'issuesinstead', 'hander', 'tirbo', 'pecentage', 'assigned', 'pushes', 'substance', 'recived', 'expierence', 'haeted', 'wieght', '🔥', 'sombody', 'slate', 'convinced', 'banavo', '6k', '6mnth', 'awesomeness', 'belongs', 'supprot', 'hangle', 'deficiency', 'tim', 'betterspecially', 'low/dim', 'soso', 'prod', 'amozen', 'deliverypersonally', 'flet', 'pouch', 'addverties', 'a1st', 'entered', 'figuring', 'reflection', 'disapointed', '25-8-17', 'conferene', 'sided', 'counted', 'paradoxically', 'silencing', 'haour', 'evrage', ',not', 'relevant', 'admirable', 'calrity', 'horizontal', 'follows:1.', 'typical', 'transient', 'blurrs', 'hair', 'takenit', 'hassall', 'soreturn', '11,000/-', 'probalem', 'marked', 'enhance', 'onlycamera', 'automus', 'gudvalue', 'inset', 'suits', 'thislenovo', 'otherthan', 'dismal', 'lenovoall', 'performancemany', 'dayservices', 'shipped', 'honor6x', 'night-mode', 'count', 'fp', 'angry', '9852865839', '64.', 'pale', \"does'nt\", 'speaker/mike', 'diretly', 'sharing/transfer', 'bekr', 'lenov0', '9833228989', 'deepak', 'lenovono', 'bluetoothvery', 'timeover', 'problemheavy', 'headsetearphone', 'coastly', 'acceserie', '15gb', 'bottom10', 'ulte', 'fones', 'majorly', 'day1', 'muchbetter', 'forwarded', 'lenovo/amazon', 'shiwn', '🔊', 'mobileonly', 'websiteheating', 'chargingnetwork', 'fudduest', 'phoneaffordablequite', 'handytouch', 'awesomecamera', 'goodrecommended', 'dislikeas', 'phonegud', 'backupmobile', 'sexythank', '😒camera', 'naturally', '-prosfastconspoor', 'useslittle', 'bulkysmart', 'questioning', 'appreciable', 'nokia6', 'rearcamera', 'yuphoria', '430', 'ppl', 'procccessor', '👍lasts', 'tooks', 'androidoleophobic', ',2', 'glasslet', 'button/option', 'filemanager', 'hanngs', 'gimic', 'hadfone', 'sayingit', 'applock', 'recordersecondary', 'belowing', 'reason1-it', '2-deca', 'processor3-nano', 'coating4-dolby', 'music5-lot', 'magnetic', 'bulging', '42958', 'aperture', 'rohini', 'fingerprintbaker', 'backuptotal', 'appliances', 'reviewappearance', 'spandragon', '635', 'legs', 'coinscamera', '2/5', 'refined', 'larg', 'cover4/5', 'crispverdict', 'smarkcheck', 'path', 'subsequent', 'monthscreen', 'camcustomer', 'carre', 'speccs', 'warrantee', 'abbt', 'helping', 'thry', 'backupon', '6am', 'exhausts', 'sametimes', 'notofication', 'gudet', 'eit', 'quicklybut', 'observing', 'brief', 'details:1.', 'suspecting', 'lagging6', 'impacting', 'definetly', 'appreciation', '😋', 'someother', 'xaiomi', 'utilised', '1599', 'amazzing', 'eveythings', 'om', 'nit', 'assisting', 'costliest', 'orphanage', 'butt', 'maps', 'deeply', 'lemon', 'cameradislike', 'abhitak', 'rehe', 'joldi', 'mobileandgood', 'battery🔋fantastic', 'camera📷', 'qualitygood', 'p1m', 'nosignal', 'bore', 'streets', 'as1', 'level4', 'phonewaist', 'supportedinbuilt', 'presentsharit', 'foremost', 'phoneeverything', 'understandable', 'plugin', 'prperly4', 'mark5', 'मे', 'तो', 'लूट', 'गया', 'भाई', '1yr', 'compas', 'burger', 'lagginess', 'poorest', 'phnnbest', 'lifeexcellent', 'performancefastest', 'extender', '-dedicated', 'mmc', 'slot-a', 'configurable', 'key-dolby', 'enhancement-powerful', 'cpu-front', 'good+front', 'flash-compass', 'deciding', '-stock', 'readymade', 'kernel', '-a', 'phone-fast', 'sensorcons', '-dual', 'properly-no', 'range-have', '-notification', 'app-battery', 'good-have', 'issue-build', 'lense', '-lenovo', 'superslow', 'slot+compass', 'mhv', '2unable', 'conracts', 'abeauty', 'shooping', 'racing', 'egnor', 'garda', 'refand', 'problameand', 'problame', 'circle', '32.', '7+', 'inlets', 'maggi', 'fades', 'beard', 'thick', 'good,1', '2g/3g', '26', 'thane', 'plight', 'fucntions', '4+64', '4300', 'batrery', 'contineous', 'publicity', 'chargegot', 'convince', 'tedious', '3300', 'dries', 'enlagrment', 'competetive', 'sirlenovo', 'risky', 'begins', 'thorough', 'examination', 'bharat', 'nagpal', 'igyaan', 'wrongmobile', 'asom', 'sound/mute/vibrate', 'renouned', 'metioned', 'chair', 'mapsa-goa', 'fullfill', 'ass', 'decisio', 'vand', 'phoneheatinghotspot', 'overally', '0a', 'slider', 'complainging', 'controls', 'disables', 'chargerthis', 'receivedin', 'maney', '👌👌venom', 'bhaivery', 'neglected', 'daining', 'heset', 'picturesso', 'finishes', 'lagged', 'fhoto', 'fhotos', 'chalana', 'lagega', 'attempted', 'wasnt', 'entry', 'society', 'visitors', 'escalation', 'endbackup', 'setfast', 'deliverycamera', 'sumsungprice', '🤔🤔', 'phoneand', 'centresi', 'thr', 'recive', 'tome', 'totly', 'spots', 'speakar', 'katil', 'bagh', 'gs+', 'tc', 'taped', '30minutes', \"'deca\", \"'lenovo\", \"'mobile\", 'audios', 'thereafter', 'amaezon', '4000+mh', 'significance', 'cameraspecialy', 'camerawhich', 'burethat', 'onlythanks', 'phonebefore', 'camm', 'isphone', 'bekhar', 'bhaiyo', 'komat', 'karido', 'amazonmobile', 'karidne', 'kerta', 'kuchh', 'mobole', 'pervious', 'mandatory', 'repleasement', 'pricebattery', 'quicklyselfie', 'averageportrait', 'sucksi', 'fardoes', 'forcestop', 'freindly', 'usedolby', 'usedheated', 'duap', 'phonephones', 'spiker', 'longs', 'logged', \"phone'sno\", 'recordingspeaker', 'featuresdisplay', 'averagephoto', 'averagegood', 'datajio', 'supportout', 'consistant', 'unimpressed', 'uplift', 'cumbersome', 'introduction', 'hesitant', 'indicating', 'unprofessional', 'practices', 'consworst', '10-13', 'hangi', 'repleshment', 'itthe', 'rangelast', 'missuse', 'impresive', '3/5rear', '2/5battery', '3/5processor', 'average-', 'beautification', 'sharper', 'ours', 'golf', 'buke', \"'music\", 'stutter', 'pro-good', '¡great¡cons-', 'balckled', 'smother', 'kadak', 'purchasebad', 'parfomanceand', 'powerbanks', 'adapters', 'gay', 'ani', 'extr', 'workingphone', 'top-back', '1250', '4000mahso', 'superb3', 'awesome4', 'simwell', 'shiva', '6600', 'exchaned', '100killer', '😥', 'dupalicate', 'juz', 'uhll', 'toher', 'bttr', 'frying', \"'phenomenon\", '😃', '44deg', 'hank', 'contract', 'toll', 'solvable', 'consscreen', 'workmemory', 'timesafter', 'dealspower', 'slowthey', 'brokennever', 'quotingcustomer', 'awam', 'ntwork', 'receptor', 'permenately', 'priceafter', 'hasgood', 'lifeno', 'issuegood', 'displaysome', 'updatewill', 'unbuilt', ',do', 'probalm', 'itnernal', 'ugrade', 'nono', '😫phone', '😀camera', '0🤣applications', '/mi', 'ua', '7plus', 'playng', 'brandsnd', 'authority', 'grand', 'arcade', 'dibrugarh', 'gently', '20/10/2017', 'sugest', 'development', 'thanks🖕', '5-6hrs', '4000ma', 'motog4', 'inconvenience', 'lifehighspeed', 'processinghigh', 'cemeraturbo', 'worst6', 'nicly', 'producr', 'worthlessi', 'buylenidi', 'thiski', 'curtosy', 'ergnomic', 'ok-ok.', 'delighted', 'phonebest', 'truecaller', 'perfarmece', 'supperbbbbb', 'alsa', '9989', 'confteble', 'document', 'goodwhat', 'inspire', 'easy-', 'play-', 'models-', 'rangeturbo', 'moneyuseless', 'moneyworst', 'cameraoverheats', 'lotsince', 'cancel', 'developer', 'productsathish', 'spares', \"y'day\", 'thnxxx', 'silent/vibrate', 'trash/memory', 'setting/option', 'hotshot', 'inaccurate', 'saperate', 'scren', 'snapedragon', '12hrs', 'sterio', 'scraths', 'stupidity', 'duringcall', 'prolblem', '406-2999907-1285932', 'proble', '15day', 'that2', 'blocked3', 'qualitylittle', 'heatingbut', 'is1', 'cpu-z', 'precossor', 'unreachable', 'thereno', 'mption', 'recordingno', 'recordingjust', 'motorolla', 'lestest', 'slutter', 'preferable', 'fedex', 'swtiched', 'कडक', 'reinstalled', '3800', 'thst', 'mates', 'systen', 'rn3', 'adorable', 'avarege', '😀😂', 'wn-725n', 'alwas', 'practial', 'negetive', 'thise', '6000,6000', '9642783920', 'pricein', 'backupand', 'hotmobile', 'lgq6', 'iii', 'day-1', 'campare', 'stack', 'uncomparable', 'cm', 'pride', 'lap', '45degree', 'linoove', 'ovever', 'cameraturbo', 'chargerdesigncons', 'camerasignals', 'problemsdual', 'hatsoff', '2h', 'exepected', 'distinguish', 'handel', 'guerilla', '4not', 'phoneg', 'onlywhen', 'connectingi', 'issueso', 'possiblei', 'youcamera', 'kahe', 'lga', 'amoson', '54gb', 'formatted', 'reformat', 'nogat', 'systemperformance', 'seen2', 'handly4', 'framedrops', 'september,2017', 'categories', '20,000.', '22000', 'mobilno', 'productinternet', 'slowhang', 'reslove', 'hasbest', 'hangwaste', 'quakly', 'ovar', 'mespeaker', 'diagnose', 'forcily', 'venovo', 'cames', 'tion', 'namegame', 'suffer', 'usepros', 'hanges', 'harder', 'signl', 'creepsmake', 'betternext', 'attaining', 'sometimeotherwise', 'mobileplease', 'generate', 'touting', 'bouquet', 'dslrs', 'lucrative', 'technically', 'prima', 'facie', 'jumped', 'gadget-geek', 'likeable', 'impress', 'layers', 'eui', 'touchwiz', 'anyday', 'vote', 'intelligent', 'oxygen-mod', 'devoid', \"'ease\", 'lag/slowness', 'tread', 'embrace', 'intelligence', 'mns', 'ng', 'adopting', 'mush', 'goodpls', '👎👎👎👎👎', 'inspiet', 'clumsiness', 'tanks', 'becausei', 'offerand', 'andamazing', 'performancetanks', 'granny', '20000', 'z90', 'thnks', 'krke', 'mann', 'banaya', 'pahli', 'bewkoif', 'milta', '3g/2g', '100°/', '3hr', 'midiatek', 'troublesome', 'compensated', 'processoronly', 'marketgets', 'inany', 'rs11999', 'boken', 'worstdo', 'productcharging', 'chargingif', 'minif', 'soonit', 'recordingif', 'phonethen', 'usernow', 'hangthere', 'expecatations', '👌👌photo', 'camera😍😍', 'vigrous', 'thk', 'minuets', 'comar', 'earephone', 'positive-descent', 'negative-a', 'points-', '-veheats', 'spuriously', 'etho', 'paravala', 'essentials', 'overcomes', 'discounts', 'momentreally', 'triggering', 'durafec', '78', 'issuesbuying', 'recommendedwould', '4000.', '2500.', 'overrated', 'deception', 'peroblam', 'software/hardware', 'hangee', 're-configured', 'thrice', 'vedios', 'recomented', 'approved', 'bcome', 'garrenty/', 'summery', 'lining', 'height4', 'lenovo5', \"has'nt\", '23rd', 'lennvo', 'fastscreen', 'br', 'blabbers', 'netwrok', 'yh', 'valoo', 'whaat', 'rkhii', 'bki', 'reponsive', 'reactive', 'warrior', 'reviewgood', 'things-dual', 'camera-stock', 'android-front', 'flesh-free', 'coverbad', 'things-', 'user-single', 'digital-turbo', 'cuxgf', '🤔google', 'speciality', 'mutli', 'clarity-', 'features-', 'key-', 'fast-', 'light-', 'rom-', 'slot-', 'li-polymer', 'battery🔋-', 'feature-', 'unlock-', 'loud-', 'sides-', 'overcharged', 'savings', 'applications-has', 'mobile-', 'hindi-', 'emojis', 'gif', 'keypad-', 'part-', 'qr', 'barcode', 'reader-', 'trafficcons', 'efficient-', 'movies-', 'usp-', 'properly-', 'stabilization-', 'bit-', 'saved-', 'exordinary', 'macbook', 'androids', 'altering', '4gbinternal', 'gbcamera', 'marvellousdont', 'everyting', 'worsevery', 'samsumg', 'backuptake', 'chargenot', 'kark', 'subhame', 'nikalo', 'ku6', '😡🤔', 'confired', '/network', 'radiates', 'cameraoverall', 'caneea', 'chuka', 'galdi', 'notifications2', 'buttons3', 'lifeoverall', 'min2', 'handneed', '2500mh', '12999-10', '1300', '=11700/-', 'deliverywith', 'policytotally', 'yelllow', 'whiteother', 'contect', '8853718149', 'rairaisahab', 'compls', 'featurenot', 'poordo', 'basool', 'frustrate', 'thye', 'associate', 'conformed', 'problemheating', 'problemand', 'turbocharged', 'itjust', 'botb', 'unfocused', 'escape', 'bakhwas', 'kuchi', 'aab', 'betary', 'jyasa', 'bahat', 'lenovoworth', 'approving', 'drawback/loophole', 'traingular', 'right-hander', 'okcamera', 'pricey', 'veryy', 'uake', 'sctrach', 'turant', 'retunn', 'paya', 'phonelarge', 'displaygood', 'qualitygreat', \"'number\", 'fundamental', '25/05/2018', '28/05/18', 'socked', '11-jun-10', '699', 'apr-30-may-28', '13,999but', 'bekaarpehle', 'inko', 'uske', 'kaharb', 'kiyaa', 'pehla', 'bekaaar', 'quickly2', 'hangs5', 'cover6', 'alphabetic', 'separately8', 'warmpros1', 'door2', 'steaming', 'list6', 'feature7', 'slip', 'boxi', '1piece', '2-3hours', 'conditioned', '😊🙂🙂👍👍👍', 'experencie', 'backuptoo', 'carrynot', 'distorts', 'phoneloved', 'templates', 'ofhelio', 'blaming', 'bargain', 'magnanimous', 'predessors', 'gautam', 'den', 'satisfiedthe', 'sealand', 'absentplease', 'mobileturbo', 'mobilebatry', '4ghearing', 'spk', 'wellturbo', 'filling', 'idbattery', 'hoursheating', 'zabardast', 'heit', 'young', 'trial', 'corrupt', 'wellll', 'enormous', 'avaliable', 'sensor3', 'cameracons1', 'avereg', 'life3', 'parfoamce', 'averagebut', 'marathalli', 'unreaded', 'aligarhthis', 'definately', 'moneypost', 'warning-do', 'stretch', 'incumbent', 'dyjddhndjjccbnnxcnnxfj', 'mobilewith', 'login', 'asin', 'b01lzksuxf', 'breleyant', 'coler', 'enjoyed', '15000awesome', 'camerabrilliant', 'backupfast', 'chargingsmooth', 'toucheverything', 'friction', 'itekdum', 'mobilehigh', 'performancehigh', 'graphicsstylish', 'designbig', 'chori', '19-', 'substantial', '😉', 'x22', 'performancefrequently', 'surfingi', 'connectthing', 'itbetter', 'priceprosstock', 'bodykiller', 'processerkiller', 'looksconsdepth', 'improveheats', 'usagebacklight', 'betterit', 'mane', 'bok', 'chalaya', 'kwalityi', 'fatjaata', 'bettryi', 'bekap', 'heet', '15-16hours', 'parent', 'reads', 'unsecured', 'whattsapp', 'regardhemal', 'inversion', 'invert', 'hppn', 'severely', 'phonecam', 'darsan', 'appbattery', 'scarred', 'pannel', 'gbtotally', 'headphoesetc', 'recognised', 'lteit', 'withsome', 'aapne', 'frontimages', 'heavy-duty', 'hng', 'useing', 'nogaut', 'raghavendari', '14000my', 'fro', 'goat', 'chargingi', 'lenovoso', 'evrytme', 'sunny', 'poorui', 'crashes4gb', 'publicitydevelopers', 'bugsboot', 'loop', 'bugui', 'hardwarepoor', 'permissible', 'snapshot', 'geating', 'flashing', 'good☺️☺️👌🏻', 'unavailable', 'productnothing', 'specialnot', 'assign', 'product😄', 'stayed', 'wort', '22/03/2018', 'overheatinglow', 'optimizationdepth', 'tend', 'argue', 'camerawell', 'overvalued', 'parameter', 'attraction', 'idk', 'fluently', 'speedometer', '📞', 'peranoma', '4gbram', 'connectedit', 'bad😈😈😈😈😈', '120', 'lifebattery', '11,999', 'ate', 'ohk', 'hungin', 'gimmickotherwise', 'earn', 'roz', 'jaa', 'lagaya', 'screenshort', 'replacementissues', 'noteworst', 'modelscast', 'workingram', 'poordrawbacksairtel', 'voltepower', 'availablesound', 'atmosamazon', 'plugging', 'hitches', 'adopt', 'expression', 'exel', 'killer8', 'takcall', 'mobilemobile', 'replies', 'swithched', 'singles', 'poour', 'parformance', 'prosecer', 'whater', 'gaget', 'pakeging'])"
      ]
     },
     "execution_count": 24,
     "metadata": {},
     "output_type": "execute_result"
    }
   ],
   "source": [
    "fdist.keys()"
   ]
  },
  {
   "cell_type": "code",
   "execution_count": null,
   "metadata": {},
   "outputs": [],
   "source": []
  },
  {
   "cell_type": "code",
   "execution_count": null,
   "metadata": {},
   "outputs": [],
   "source": []
  },
  {
   "cell_type": "code",
   "execution_count": 25,
   "metadata": {},
   "outputs": [
    {
     "data": {
      "text/plain": [
       "18.556129985228953"
      ]
     },
     "execution_count": 25,
     "metadata": {},
     "output_type": "execute_result"
    }
   ],
   "source": [
    "326625/17602"
   ]
  },
  {
   "cell_type": "code",
   "execution_count": 26,
   "metadata": {},
   "outputs": [],
   "source": [
    "from string import punctuation"
   ]
  },
  {
   "cell_type": "code",
   "execution_count": 27,
   "metadata": {},
   "outputs": [
    {
     "name": "stdout",
     "output_type": "stream",
     "text": [
      "['!', '\"', '#', '$', '%', '&', \"'\", '(', ')', '*', '+', ',', '-', '.', '/', ':', ';', '<', '=', '>', '?', '@', '[', '\\\\', ']', '^', '_', '`', '{', '|', '}', '~']\n"
     ]
    }
   ],
   "source": [
    "print(list(punctuation))"
   ]
  },
  {
   "cell_type": "code",
   "execution_count": 28,
   "metadata": {},
   "outputs": [
    {
     "data": {
      "text/plain": [
       "'!\"#$%&\\'()*+,-./:;<=>?@[\\\\]^_`{|}~'"
      ]
     },
     "execution_count": 28,
     "metadata": {},
     "output_type": "execute_result"
    }
   ],
   "source": [
    "punctuation"
   ]
  },
  {
   "cell_type": "code",
   "execution_count": 29,
   "metadata": {},
   "outputs": [],
   "source": [
    "from nltk.corpus import stopwords\n",
    "stop_nltk = stopwords.words(\"english\")\n",
    "stop_nltk.remove(\"not\")\n",
    "punct_stop = list(punctuation) + stop_nltk + [\"lenovo\",\"phone\",\"k8\",\"amazon\",\"product\"]"
   ]
  },
  {
   "cell_type": "code",
   "execution_count": 30,
   "metadata": {},
   "outputs": [],
   "source": [
    "listwords = [word for word in word_tokenize(allreviews) if word not in punct_stop and len(word) >2]"
   ]
  },
  {
   "cell_type": "code",
   "execution_count": 31,
   "metadata": {},
   "outputs": [
    {
     "data": {
      "text/plain": [
       "12996"
      ]
     },
     "execution_count": 31,
     "metadata": {},
     "output_type": "execute_result"
    }
   ],
   "source": [
    "len(set(listwords))"
   ]
  },
  {
   "cell_type": "code",
   "execution_count": 32,
   "metadata": {},
   "outputs": [
    {
     "data": {
      "text/plain": [
       "167299"
      ]
     },
     "execution_count": 32,
     "metadata": {},
     "output_type": "execute_result"
    }
   ],
   "source": [
    "len(listwords)"
   ]
  },
  {
   "cell_type": "code",
   "execution_count": 33,
   "metadata": {},
   "outputs": [
    {
     "data": {
      "text/plain": [
       "700.0"
      ]
     },
     "execution_count": 33,
     "metadata": {},
     "output_type": "execute_result"
    }
   ],
   "source": [
    "140000/200"
   ]
  },
  {
   "cell_type": "code",
   "execution_count": 34,
   "metadata": {},
   "outputs": [
    {
     "data": {
      "text/plain": [
       "215"
      ]
     },
     "execution_count": 34,
     "metadata": {},
     "output_type": "execute_result"
    }
   ],
   "source": [
    "len(punct_stop)"
   ]
  },
  {
   "cell_type": "code",
   "execution_count": 35,
   "metadata": {},
   "outputs": [],
   "source": [
    "fdist = {}\n",
    "for word in listwords:\n",
    "    #fdist[word] = fdist[word] + 1\n",
    "    fdist[word] = fdist.get(word,0) + 1"
   ]
  },
  {
   "cell_type": "code",
   "execution_count": 36,
   "metadata": {},
   "outputs": [
    {
     "data": {
      "text/plain": [
       "6120"
      ]
     },
     "execution_count": 36,
     "metadata": {},
     "output_type": "execute_result"
    }
   ],
   "source": [
    "fdist['good']"
   ]
  },
  {
   "cell_type": "code",
   "execution_count": null,
   "metadata": {},
   "outputs": [],
   "source": []
  },
  {
   "cell_type": "code",
   "execution_count": null,
   "metadata": {},
   "outputs": [],
   "source": []
  },
  {
   "cell_type": "code",
   "execution_count": null,
   "metadata": {},
   "outputs": [],
   "source": []
  },
  {
   "cell_type": "code",
   "execution_count": null,
   "metadata": {},
   "outputs": [],
   "source": []
  },
  {
   "cell_type": "code",
   "execution_count": 37,
   "metadata": {},
   "outputs": [
    {
     "data": {
      "text/plain": [
       "0"
      ]
     },
     "execution_count": 37,
     "metadata": {},
     "output_type": "execute_result"
    }
   ],
   "source": [
    "fdist.get(\"Good\",0)"
   ]
  },
  {
   "cell_type": "code",
   "execution_count": 38,
   "metadata": {},
   "outputs": [
    {
     "data": {
      "text/plain": [
       "'phone is good, really good. nothing good about amazon, bad is amazon. really bad.'"
      ]
     },
     "execution_count": 38,
     "metadata": {},
     "output_type": "execute_result"
    }
   ],
   "source": [
    "sentence = \"phone is good, really good. nothing good about amazon, bad is amazon. really bad.\"\n",
    "sentence"
   ]
  },
  {
   "cell_type": "code",
   "execution_count": 39,
   "metadata": {},
   "outputs": [
    {
     "name": "stdout",
     "output_type": "stream",
     "text": [
      "['phone', 'is', 'good,', 'really', 'good.', 'nothing', 'good', 'about', 'amazon,', 'bad', 'is', 'amazon.', 'really', 'bad.'] 14 12\n",
      "['phone', 'is', 'good', ',', 'really', 'good', '.', 'nothing', 'good', 'about', 'amazon', ',', 'bad', 'is', 'amazon', '.', 'really', 'bad', '.'] 19 10\n"
     ]
    }
   ],
   "source": [
    "print(sentence.split(\" \"), len(sentence.split(\" \")), len(set(sentence.split(\" \"))))\n",
    "print(word_tokenize(sentence), len(word_tokenize(sentence)),len(set(word_tokenize(sentence))))"
   ]
  },
  {
   "cell_type": "code",
   "execution_count": null,
   "metadata": {},
   "outputs": [],
   "source": []
  },
  {
   "cell_type": "code",
   "execution_count": null,
   "metadata": {},
   "outputs": [],
   "source": []
  },
  {
   "cell_type": "code",
   "execution_count": null,
   "metadata": {},
   "outputs": [],
   "source": []
  },
  {
   "cell_type": "code",
   "execution_count": 40,
   "metadata": {},
   "outputs": [],
   "source": [
    "#print(fdist[\"Good\"],fdist['good'],fdist['good.'],fdist['gOOd'],fdist['good,'],fdist['GOOD'],fdist['goood'],fdist['gud'],fdist['good...'])"
   ]
  },
  {
   "cell_type": "code",
   "execution_count": 41,
   "metadata": {},
   "outputs": [],
   "source": [
    "#good...."
   ]
  },
  {
   "cell_type": "code",
   "execution_count": 42,
   "metadata": {},
   "outputs": [
    {
     "data": {
      "text/plain": [
       "'Phone is good camera is good bad, OS is okay'"
      ]
     },
     "execution_count": 42,
     "metadata": {},
     "output_type": "execute_result"
    }
   ],
   "source": [
    "import re\n",
    "sentence1 = \"Phone is good.... camera is good bad, OS is okay\"\n",
    "sentence2 = re.sub(\"\\.\",\"\",sentence1)\n",
    "sentence2"
   ]
  },
  {
   "cell_type": "code",
   "execution_count": 43,
   "metadata": {},
   "outputs": [
    {
     "data": {
      "text/plain": [
       "'Phone is perfect.... camera is perfect bad, OS is okay'"
      ]
     },
     "execution_count": 43,
     "metadata": {},
     "output_type": "execute_result"
    }
   ],
   "source": [
    "sentence3 = re.sub(\"good\",\"perfect\",sentence1)\n",
    "sentence3"
   ]
  },
  {
   "cell_type": "code",
   "execution_count": null,
   "metadata": {},
   "outputs": [],
   "source": []
  },
  {
   "cell_type": "code",
   "execution_count": null,
   "metadata": {},
   "outputs": [],
   "source": []
  },
  {
   "cell_type": "code",
   "execution_count": 44,
   "metadata": {},
   "outputs": [
    {
     "data": {
      "text/plain": [
       "6510651651651"
      ]
     },
     "execution_count": 44,
     "metadata": {},
     "output_type": "execute_result"
    }
   ],
   "source": [
    "fdist.get(\"Good\",6510651651651)"
   ]
  },
  {
   "cell_type": "code",
   "execution_count": 45,
   "metadata": {},
   "outputs": [
    {
     "data": {
      "text/plain": [
       "6510651651651"
      ]
     },
     "execution_count": 45,
     "metadata": {},
     "output_type": "execute_result"
    }
   ],
   "source": [
    "fdist.get(\"Goodgsdrsdghsdg\",6510651651651)"
   ]
  },
  {
   "cell_type": "code",
   "execution_count": 46,
   "metadata": {},
   "outputs": [
    {
     "data": {
      "text/plain": [
       "{'good': 6120,\n",
       " 'need': 257,\n",
       " 'updates': 145,\n",
       " 'improvements': 7,\n",
       " 'worst': 959,\n",
       " 'mobile': 2511,\n",
       " 'bought': 315,\n",
       " 'ever': 317,\n",
       " 'battery': 3466,\n",
       " 'draining': 205,\n",
       " 'like': 962,\n",
       " 'hell': 42,\n",
       " 'backup': 682,\n",
       " 'hours': 424,\n",
       " 'internet': 151,\n",
       " 'uses': 25,\n",
       " 'even': 838,\n",
       " 'put': 66,\n",
       " 'idle': 72,\n",
       " 'getting': 409,\n",
       " 'discharged': 23,\n",
       " 'biggest': 30,\n",
       " 'lie': 6,\n",
       " 'lenove': 6,\n",
       " 'not': 6124,\n",
       " 'expected': 215,\n",
       " 'making': 38,\n",
       " 'full': 368,\n",
       " 'saying': 34,\n",
       " '4000mah': 111,\n",
       " 'booster': 6,\n",
       " 'charger': 493,\n",
       " 'fake': 66,\n",
       " 'takes': 297,\n",
       " 'least': 36,\n",
       " 'fully': 129,\n",
       " 'charged': 134,\n",
       " \"n't\": 1860,\n",
       " 'know': 145,\n",
       " 'survive': 8,\n",
       " 'please': 414,\n",
       " 'else': 69,\n",
       " 'regret': 30,\n",
       " 'get': 527,\n",
       " 'cash': 35,\n",
       " 'back': 693,\n",
       " 'already': 77,\n",
       " 'january': 11,\n",
       " 'everthey': 1,\n",
       " 'changed': 29,\n",
       " 'last': 294,\n",
       " 'problem': 1408,\n",
       " 'still': 205,\n",
       " 'returning': 36,\n",
       " 'highly': 37,\n",
       " 'disappointing': 55,\n",
       " 'telling': 10,\n",
       " 'buyi': 1,\n",
       " 'totally': 138,\n",
       " 'disappointedpoor': 1,\n",
       " 'batterypoor': 1,\n",
       " 'camerawaste': 1,\n",
       " 'money': 675,\n",
       " 'awesome': 716,\n",
       " 'charging': 1166,\n",
       " 'heats': 209,\n",
       " 'allot': 1,\n",
       " 'really': 457,\n",
       " 'genuine': 14,\n",
       " 'reason': 39,\n",
       " 'hate': 24,\n",
       " 'note': 1312,\n",
       " 'level': 45,\n",
       " 'worn': 1,\n",
       " 'hitting': 38,\n",
       " 'problems': 222,\n",
       " 'hanging': 218,\n",
       " 'service': 496,\n",
       " 'station': 12,\n",
       " 'ahmedabad': 1,\n",
       " 'one': 1060,\n",
       " 'years': 23,\n",
       " 'warranty': 95,\n",
       " 'change': 84,\n",
       " 'lot': 256,\n",
       " 'glitches': 9,\n",
       " 'dont': 230,\n",
       " 'buy': 1276,\n",
       " 'thing': 185,\n",
       " 'better': 671,\n",
       " 'options': 99,\n",
       " 'wrost': 39,\n",
       " 'working': 1191,\n",
       " 'damage': 38,\n",
       " 'within': 219,\n",
       " 'months': 283,\n",
       " 'purchase': 248,\n",
       " 'item': 75,\n",
       " 'much': 630,\n",
       " 'heating': 1354,\n",
       " 'life': 348,\n",
       " 'poor': 817,\n",
       " 'faced': 67,\n",
       " 'motherboard': 17,\n",
       " 'slim': 18,\n",
       " 'battry': 18,\n",
       " 'screen': 760,\n",
       " 'love': 162,\n",
       " 'headset': 68,\n",
       " 'available': 253,\n",
       " 'every': 175,\n",
       " 'time': 866,\n",
       " 'automatic': 28,\n",
       " 'kindly': 48,\n",
       " 'suggest': 114,\n",
       " 'best': 904,\n",
       " 'according': 38,\n",
       " 'prize': 15,\n",
       " 'range': 399,\n",
       " 'specification': 36,\n",
       " 'comparison': 17,\n",
       " 'another': 114,\n",
       " 'seal': 11,\n",
       " 'paid': 34,\n",
       " '10,999': 2,\n",
       " 'also': 1118,\n",
       " 'hdpf': 1,\n",
       " 'credit': 5,\n",
       " 'card': 150,\n",
       " '9998.': 1,\n",
       " 'deal': 43,\n",
       " 'done': 58,\n",
       " 'rapidly': 20,\n",
       " 'tell': 47,\n",
       " 'possible': 55,\n",
       " 'solutions': 7,\n",
       " 'smartphone': 154,\n",
       " 'galery': 1,\n",
       " 'atmos': 152,\n",
       " 'speakernormal': 1,\n",
       " 'speaker': 290,\n",
       " 'excellent': 489,\n",
       " 'camera': 3445,\n",
       " 'speed': 246,\n",
       " 'features': 650,\n",
       " 'excelent': 4,\n",
       " 'quickly': 157,\n",
       " 'odinary': 1,\n",
       " 'unexpected': 6,\n",
       " 'many': 355,\n",
       " 'cast': 218,\n",
       " 'without': 169,\n",
       " 'wifi': 134,\n",
       " 'call': 522,\n",
       " 'recording': 168,\n",
       " 'option': 316,\n",
       " 'connect': 94,\n",
       " 'hotspot': 49,\n",
       " 'gave': 34,\n",
       " 'usb': 51,\n",
       " 'cable': 56,\n",
       " 'price': 955,\n",
       " 'second': 92,\n",
       " 'fast': 805,\n",
       " 'display': 408,\n",
       " 'improved': 30,\n",
       " 'specifications': 84,\n",
       " 'functions': 46,\n",
       " 'any1': 1,\n",
       " 'bouth': 1,\n",
       " 'fon': 10,\n",
       " 'surprised': 11,\n",
       " 'see': 114,\n",
       " 'two': 160,\n",
       " 'speekars': 1,\n",
       " 'ringing': 9,\n",
       " 'non': 22,\n",
       " 'disappointed': 241,\n",
       " 'issue': 1034,\n",
       " 'displaying': 8,\n",
       " 'colors': 10,\n",
       " 'new': 240,\n",
       " 'update': 481,\n",
       " 'oreo': 139,\n",
       " 'worked': 39,\n",
       " 'superbly': 2,\n",
       " 'back-up': 7,\n",
       " 'superb': 238,\n",
       " 'got': 417,\n",
       " 'simply': 50,\n",
       " 'unnecessarily': 4,\n",
       " '😒😒☹️': 1,\n",
       " 'dual': 479,\n",
       " 'sim': 365,\n",
       " 'customer': 184,\n",
       " 'performance': 998,\n",
       " 'gets': 299,\n",
       " 'oveheated': 1,\n",
       " 'bestin': 1,\n",
       " 'pricefull': 1,\n",
       " 'passa': 1,\n",
       " 'wasole': 1,\n",
       " 'wonderful': 42,\n",
       " 'bad': 1055,\n",
       " 'signal': 184,\n",
       " 'goes': 57,\n",
       " 'frequently': 67,\n",
       " 'restarts': 15,\n",
       " 'whenever': 18,\n",
       " 'feels': 53,\n",
       " 'bcoms': 1,\n",
       " 'hot': 153,\n",
       " 'plzz': 7,\n",
       " 'round': 5,\n",
       " 'purchasing': 32,\n",
       " 'loosed': 1,\n",
       " '3000': 16,\n",
       " 'span': 5,\n",
       " 'days': 456,\n",
       " 'trust': 34,\n",
       " 'worthy': 39,\n",
       " 'deals': 2,\n",
       " 'worth': 314,\n",
       " 'big': 139,\n",
       " 'disappointment': 30,\n",
       " 'headache': 4,\n",
       " 'incoming': 45,\n",
       " 'calls': 153,\n",
       " 'always': 121,\n",
       " 'show': 98,\n",
       " 'rate': 58,\n",
       " 'quality': 1419,\n",
       " 'works': 241,\n",
       " 'well': 281,\n",
       " 'amazing': 280,\n",
       " 'lower': 31,\n",
       " 'using': 733,\n",
       " '3-4': 27,\n",
       " 'mins': 52,\n",
       " 'continuously': 24,\n",
       " 'heated': 196,\n",
       " 'purchased': 173,\n",
       " 'bigggggggest': 1,\n",
       " 'first': 213,\n",
       " 'sell': 31,\n",
       " 'slow': 250,\n",
       " 'take': 206,\n",
       " 'around': 73,\n",
       " 'charge': 522,\n",
       " 'ekdam': 3,\n",
       " 'bakwaaaasssdo': 1,\n",
       " 'network': 520,\n",
       " 'permanent': 6,\n",
       " 'lowbattery': 1,\n",
       " 'lowpls': 1,\n",
       " 'nice': 1481,\n",
       " '4gb': 112,\n",
       " '64gb': 34,\n",
       " 'inbuilt': 49,\n",
       " 'memory': 147,\n",
       " 'featurs': 1,\n",
       " 'loved': 71,\n",
       " 'phone😍😍': 1,\n",
       " 'value': 255,\n",
       " 'beautiful': 29,\n",
       " 'looking': 152,\n",
       " 'bluetooth': 210,\n",
       " 'connecting': 32,\n",
       " 'audio': 99,\n",
       " 'breakups': 1,\n",
       " 'happened': 24,\n",
       " 'youtube': 43,\n",
       " 'half': 87,\n",
       " 'hour': 106,\n",
       " 'exists': 4,\n",
       " 'choice': 39,\n",
       " 'standby': 42,\n",
       " 'long': 156,\n",
       " 'killer': 160,\n",
       " 'jet': 3,\n",
       " 'run': 39,\n",
       " 'apps': 259,\n",
       " 'described': 28,\n",
       " 'work': 419,\n",
       " 'miracast': 9,\n",
       " 'upto': 100,\n",
       " 'contacts': 62,\n",
       " 'vcf': 1,\n",
       " 'files': 15,\n",
       " 'download': 42,\n",
       " 'google': 96,\n",
       " 'drive': 7,\n",
       " 'total': 44,\n",
       " 'device': 427,\n",
       " 'average': 334,\n",
       " 'usage': 275,\n",
       " 'could': 159,\n",
       " 'day': 477,\n",
       " 'con': 19,\n",
       " 'though': 170,\n",
       " '4000': 120,\n",
       " 'mah': 151,\n",
       " 'drains': 289,\n",
       " 'specially': 37,\n",
       " 'depth': 264,\n",
       " 'enabled': 35,\n",
       " 'mode': 376,\n",
       " 'focus': 55,\n",
       " 'perfect': 137,\n",
       " 'india': 21,\n",
       " 'werorst': 1,\n",
       " 'offer': 48,\n",
       " '100': 124,\n",
       " 'signals': 26,\n",
       " 'coverage': 21,\n",
       " 'area': 17,\n",
       " 'cheating': 36,\n",
       " 'people': 102,\n",
       " 'mark': 204,\n",
       " 'weight': 58,\n",
       " 'high': 177,\n",
       " 'point': 68,\n",
       " 'improve': 60,\n",
       " 'added': 22,\n",
       " 'system': 170,\n",
       " 'updated': 67,\n",
       " 'delivery': 227,\n",
       " '10000.': 1,\n",
       " 'gestures': 6,\n",
       " 'latest': 54,\n",
       " 'issues': 552,\n",
       " 'choose': 31,\n",
       " 'brands': 25,\n",
       " 'great': 651,\n",
       " 'cleare': 1,\n",
       " 'sharp': 18,\n",
       " 'thanks': 135,\n",
       " 'must': 76,\n",
       " 'guys': 89,\n",
       " 'verigood': 2,\n",
       " 'firstly': 4,\n",
       " 'delivered': 82,\n",
       " 'dissatisfied': 24,\n",
       " 'weeks': 55,\n",
       " 'secondly': 11,\n",
       " 'android': 303,\n",
       " 'naugat': 7,\n",
       " 'optionthirdly': 1,\n",
       " 'selling': 28,\n",
       " 'cost': 103,\n",
       " '13999/-': 3,\n",
       " 'drastically': 9,\n",
       " 'dropped': 20,\n",
       " '10999/-fourthly': 1,\n",
       " 'talking': 30,\n",
       " 'nerve': 1,\n",
       " 'pulling': 2,\n",
       " 'radiation': 4,\n",
       " 'immediate': 5,\n",
       " 'fix': 74,\n",
       " 'matter': 19,\n",
       " 'safety': 4,\n",
       " 'security': 21,\n",
       " 'fifthly': 1,\n",
       " 'hardware': 72,\n",
       " 'let': 54,\n",
       " 'centers': 2,\n",
       " 'location': 14,\n",
       " 'ensure': 1,\n",
       " 'availability': 4,\n",
       " 'customers': 40,\n",
       " 'booked': 9,\n",
       " 'finally': 49,\n",
       " 'discribed': 2,\n",
       " 'found': 149,\n",
       " 'mentioned': 79,\n",
       " 'earlier': 58,\n",
       " 'would': 212,\n",
       " 'met': 9,\n",
       " 'expectations': 101,\n",
       " 'snap': 7,\n",
       " 'attached': 13,\n",
       " 'automatically': 153,\n",
       " 'recently': 17,\n",
       " 'thoroughly': 6,\n",
       " 'thumbs': 6,\n",
       " 'hello': 14,\n",
       " 'remember': 3,\n",
       " 'check': 84,\n",
       " 'picture': 125,\n",
       " 'use': 722,\n",
       " 'sleeping': 1,\n",
       " 'make': 107,\n",
       " 'sure': 62,\n",
       " 'data': 183,\n",
       " 'performanc': 2,\n",
       " 'super': 285,\n",
       " 'turbo': 411,\n",
       " 'calling': 96,\n",
       " 'waste': 361,\n",
       " 'thn': 5,\n",
       " 'raised': 15,\n",
       " 'return': 398,\n",
       " 'request': 71,\n",
       " 'pros': 54,\n",
       " 'rest': 84,\n",
       " 'cameradesignperformance': 1,\n",
       " 'etc': 127,\n",
       " 'wrest': 1,\n",
       " 'hang': 138,\n",
       " 'happy': 172,\n",
       " '☺️🙂': 1,\n",
       " 'lots': 75,\n",
       " 'malfunction': 3,\n",
       " 'donot': 10,\n",
       " 'look': 186,\n",
       " 'sleekness': 1,\n",
       " 'less': 166,\n",
       " 'basic': 108,\n",
       " 'sound': 514,\n",
       " 'controler': 1,\n",
       " 'shortcut': 17,\n",
       " 'shutter': 7,\n",
       " 'importantly': 9,\n",
       " 'voice': 111,\n",
       " 'recorder': 75,\n",
       " 'third': 58,\n",
       " 'class': 69,\n",
       " 'kind': 36,\n",
       " 'thinking': 24,\n",
       " 'stucks': 3,\n",
       " 'anytime': 8,\n",
       " 'load': 11,\n",
       " 'ram': 275,\n",
       " 'defuces': 1,\n",
       " 'short': 28,\n",
       " 'sometimes': 176,\n",
       " 'normal': 240,\n",
       " 'gallery': 119,\n",
       " 'othet': 2,\n",
       " 'stock': 166,\n",
       " 'often': 37,\n",
       " 'shows': 77,\n",
       " 'process': 43,\n",
       " 'com': 9,\n",
       " 'stopped': 69,\n",
       " 'workingwhat': 2,\n",
       " 'shut': 10,\n",
       " 'handset': 227,\n",
       " 'replace': 127,\n",
       " 'times': 181,\n",
       " 'allahabad': 1,\n",
       " 'centre': 97,\n",
       " 'month': 239,\n",
       " 'becomes': 25,\n",
       " 'plz': 125,\n",
       " 'gift': 13,\n",
       " 'raping': 1,\n",
       " 'poorwords': 1,\n",
       " 'small': 62,\n",
       " 'refund': 120,\n",
       " 'personally': 11,\n",
       " 'recommend': 121,\n",
       " 'anyone': 57,\n",
       " 'want': 280,\n",
       " 'compatible': 10,\n",
       " 'chromecast': 19,\n",
       " 'casting': 40,\n",
       " 'model': 112,\n",
       " 'mid': 13,\n",
       " 'pretty': 56,\n",
       " 'arises': 3,\n",
       " 'ignored': 2,\n",
       " 'slot': 103,\n",
       " 'returned': 65,\n",
       " 'giving': 98,\n",
       " 'star': 115,\n",
       " 'bcz': 17,\n",
       " 'fan': 19,\n",
       " 'year': 61,\n",
       " 'guess': 20,\n",
       " 'ignore': 9,\n",
       " 'gaming': 134,\n",
       " 'music': 234,\n",
       " 'deca': 77,\n",
       " 'core': 112,\n",
       " 'processor': 317,\n",
       " 'worse': 49,\n",
       " 'quad': 3,\n",
       " 'processed': 5,\n",
       " 'said': 74,\n",
       " 'speakers': 93,\n",
       " 'left': 79,\n",
       " 'holes': 2,\n",
       " 'cheat': 12,\n",
       " 'buyers': 23,\n",
       " 'decent': 104,\n",
       " 'made': 73,\n",
       " 'keeps': 40,\n",
       " 'awsome': 30,\n",
       " 'sep-17': 1,\n",
       " '25dec17': 1,\n",
       " 'way': 69,\n",
       " 'fool': 19,\n",
       " 'called': 51,\n",
       " 'lol': 5,\n",
       " 'effecting': 1,\n",
       " 'popularity': 1,\n",
       " 'segment': 53,\n",
       " 'productcamera': 1,\n",
       " 'greatsound': 1,\n",
       " 'greatover': 1,\n",
       " 'expect': 63,\n",
       " 'drawback': 37,\n",
       " 'late': 28,\n",
       " 'experience': 342,\n",
       " 'previously': 16,\n",
       " 'mic': 17,\n",
       " 'facing': 146,\n",
       " 'phones': 306,\n",
       " 'expectation': 44,\n",
       " 'hurts': 2,\n",
       " 'apart': 27,\n",
       " '4g+4g': 11,\n",
       " 'logic': 2,\n",
       " 'needs': 66,\n",
       " 'clear': 79,\n",
       " 'sales': 9,\n",
       " 'dolby': 272,\n",
       " 'feature': 247,\n",
       " 'switch': 106,\n",
       " 'weak': 45,\n",
       " 'punching': 1,\n",
       " 'compare': 113,\n",
       " 'sofwares': 1,\n",
       " 'defective': 109,\n",
       " 'earliest': 3,\n",
       " 'images': 58,\n",
       " 'yellow': 16,\n",
       " 'shadow': 2,\n",
       " 'occurred': 9,\n",
       " 'showing': 89,\n",
       " 'add': 25,\n",
       " 'false': 14,\n",
       " 'brand': 73,\n",
       " 'give': 194,\n",
       " 'perform': 28,\n",
       " 'story': 3,\n",
       " 'drain': 186,\n",
       " 'joke': 13,\n",
       " 'known': 14,\n",
       " 'phn': 46,\n",
       " 'gud': 122,\n",
       " 'prpperly': 1,\n",
       " 'major': 87,\n",
       " 'disadvantage': 13,\n",
       " 'detachable': 1,\n",
       " 'except': 119,\n",
       " 'xt1902-3': 1,\n",
       " 'type': 43,\n",
       " 'm2cb2': 1,\n",
       " 'since': 151,\n",
       " 'ten': 5,\n",
       " 'satisfied': 263,\n",
       " 'description': 26,\n",
       " 'slots': 20,\n",
       " 'support': 260,\n",
       " 'whereas': 13,\n",
       " 'supports': 24,\n",
       " 'okay': 52,\n",
       " 'effects': 18,\n",
       " 'cameras': 89,\n",
       " 'otherwise': 165,\n",
       " 'backlogs1': 1,\n",
       " 'mobiles': 86,\n",
       " 'struck': 6,\n",
       " 'delay': 14,\n",
       " 'responding': 40,\n",
       " 'runs': 25,\n",
       " '3100': 1,\n",
       " 'operating': 33,\n",
       " 'response': 67,\n",
       " 'contact': 93,\n",
       " 'searching': 16,\n",
       " 'irritating': 25,\n",
       " 'search': 23,\n",
       " 'save': 32,\n",
       " 'friends': 34,\n",
       " 'pls': 130,\n",
       " 'swear': 2,\n",
       " 'front': 373,\n",
       " 'reasonable': 27,\n",
       " 'channel': 5,\n",
       " 'right': 60,\n",
       " 'avarage': 10,\n",
       " 'double': 28,\n",
       " 'tap': 16,\n",
       " 'wakeup': 2,\n",
       " 'properly': 353,\n",
       " 'earphone': 97,\n",
       " 'jbl': 5,\n",
       " 'hota': 26,\n",
       " 'hai': 238,\n",
       " 'connectivity': 99,\n",
       " 'quick': 82,\n",
       " 'talk': 32,\n",
       " 'due': 99,\n",
       " 'large': 15,\n",
       " 'twin': 3,\n",
       " 'requires': 7,\n",
       " 'steadier': 1,\n",
       " 'hands': 21,\n",
       " 'mine': 13,\n",
       " 'ota': 16,\n",
       " 'connection': 62,\n",
       " 'intermittent': 3,\n",
       " 'unstable': 5,\n",
       " 'supplementary': 1,\n",
       " 'information': 19,\n",
       " 'claimed': 16,\n",
       " 'gorilla': 136,\n",
       " 'glass': 228,\n",
       " 'probably': 17,\n",
       " 'ordinary': 15,\n",
       " 'cracked': 21,\n",
       " 'slipped': 9,\n",
       " 'grasp': 1,\n",
       " 'sitting': 2,\n",
       " 'sofa': 1,\n",
       " 'says': 55,\n",
       " 'covered': 17,\n",
       " 'reducing': 4,\n",
       " 'rating': 57,\n",
       " 'stars': 50,\n",
       " 'provided': 86,\n",
       " 'districts': 1,\n",
       " 'bit': 175,\n",
       " 'heavy': 220,\n",
       " 'notification': 95,\n",
       " 'sounds': 31,\n",
       " 'adjusted': 1,\n",
       " 'annoying': 20,\n",
       " 'photos': 107,\n",
       " 'clarity': 135,\n",
       " 'bodru': 1,\n",
       " '29th': 2,\n",
       " 'august': 22,\n",
       " '4000mhz': 1,\n",
       " 'try': 60,\n",
       " 'solve': 45,\n",
       " 'batterybattery': 2,\n",
       " 'hrsit': 1,\n",
       " 'smooth': 135,\n",
       " 'configuration': 38,\n",
       " 'auto': 68,\n",
       " 'deduced': 1,\n",
       " 'listing': 2,\n",
       " 'touch': 184,\n",
       " 'huge': 27,\n",
       " 'jan': 7,\n",
       " '2018.': 11,\n",
       " 'supposed': 17,\n",
       " 'lasts': 59,\n",
       " 'lookswise': 1,\n",
       " 'name': 61,\n",
       " 'upon': 11,\n",
       " 'smart': 152,\n",
       " 'course': 9,\n",
       " 'rough': 9,\n",
       " 'given': 119,\n",
       " 'damaged': 50,\n",
       " 'terms': 39,\n",
       " 'rom': 24,\n",
       " 'alongwith': 2,\n",
       " 'corning': 17,\n",
       " 'things': 100,\n",
       " 'burning': 6,\n",
       " 'pocket': 35,\n",
       " 'lacks': 26,\n",
       " 'started': 102,\n",
       " 'seriously': 19,\n",
       " 'think': 195,\n",
       " 'wale': 4,\n",
       " 'kharida': 1,\n",
       " 'usme': 1,\n",
       " 'game': 89,\n",
       " 'bolte': 4,\n",
       " 'par': 39,\n",
       " 'behanchod': 2,\n",
       " 'layla': 1,\n",
       " 'dete': 4,\n",
       " 'bhosdi': 3,\n",
       " 'pese': 3,\n",
       " 'jane': 4,\n",
       " 'bhi': 57,\n",
       " 'nai': 6,\n",
       " 'inka': 1,\n",
       " 'technician': 25,\n",
       " 'khelke': 1,\n",
       " 'kenya': 1,\n",
       " 'koi': 34,\n",
       " 'copy': 27,\n",
       " 'bhej': 4,\n",
       " 'diya': 7,\n",
       " 'mat': 21,\n",
       " 'kaharidna': 1,\n",
       " 'bhot': 4,\n",
       " 'volte': 161,\n",
       " 'sms': 36,\n",
       " 'coming': 57,\n",
       " 'smoothly': 44,\n",
       " 'running': 64,\n",
       " 'till': 150,\n",
       " 'goodbut': 12,\n",
       " '13mp': 36,\n",
       " 'effect': 115,\n",
       " 'honestly': 9,\n",
       " 'youif': 1,\n",
       " 'selfie': 99,\n",
       " 'holic': 1,\n",
       " 'literally': 6,\n",
       " 'top': 48,\n",
       " 'selfiein': 1,\n",
       " \"'ll\": 51,\n",
       " 'say': 115,\n",
       " 'snapdragon': 28,\n",
       " '625': 12,\n",
       " 'redmi': 191,\n",
       " 'built': 40,\n",
       " 'technology': 11,\n",
       " 'efficient': 10,\n",
       " 'providing': 30,\n",
       " '15w': 21,\n",
       " 'worry': 15,\n",
       " 'plug': 13,\n",
       " 'hrs': 169,\n",
       " 'minimal': 7,\n",
       " 'keep': 80,\n",
       " 'mind': 23,\n",
       " 'cons': 92,\n",
       " \"'re\": 14,\n",
       " 'buying': 177,\n",
       " 'may': 116,\n",
       " 'occur': 12,\n",
       " 'overall': 384,\n",
       " 'condition': 74,\n",
       " 'fabulous': 19,\n",
       " 'parfomce': 1,\n",
       " '👌👌👌': 3,\n",
       " 'recent': 22,\n",
       " 'record': 34,\n",
       " 'facilities': 7,\n",
       " 'adequate': 10,\n",
       " 'instructions': 1,\n",
       " 'compete': 6,\n",
       " 'redme': 6,\n",
       " 'rasidul': 1,\n",
       " 'kaji': 1,\n",
       " 'announced': 3,\n",
       " 'killar': 3,\n",
       " 'saw': 12,\n",
       " 'decide': 13,\n",
       " 'aftwr': 1,\n",
       " '7th': 5,\n",
       " 'playing': 159,\n",
       " 'simple': 44,\n",
       " 'ex-': 2,\n",
       " 'temple': 2,\n",
       " 'opinion': 28,\n",
       " 'west': 17,\n",
       " 'availablebattery': 2,\n",
       " 'goodbelow': 1,\n",
       " 'key': 86,\n",
       " 'light': 220,\n",
       " 'availableheating': 2,\n",
       " 'thanx': 7,\n",
       " 'ok.': 120,\n",
       " 'tym': 6,\n",
       " 'chrger': 2,\n",
       " 'accessories': 19,\n",
       " 'kept': 36,\n",
       " 'something': 38,\n",
       " 'per': 114,\n",
       " 'software': 307,\n",
       " 'unfortunately': 12,\n",
       " 'older': 18,\n",
       " 'ekdum': 3,\n",
       " 'bakwas': 28,\n",
       " 'frustrating': 11,\n",
       " 'mistake': 28,\n",
       " '1st': 37,\n",
       " 'led': 63,\n",
       " 'side': 119,\n",
       " 'buttons': 26,\n",
       " 'loose': 7,\n",
       " 'deapth': 3,\n",
       " 'sensing': 10,\n",
       " 'finger': 77,\n",
       " 'print': 62,\n",
       " 'senser': 2,\n",
       " 'require': 8,\n",
       " 'start': 75,\n",
       " 'lasting': 35,\n",
       " 'useful': 27,\n",
       " 'age': 4,\n",
       " 'group': 6,\n",
       " 'thank': 76,\n",
       " 'delivering': 9,\n",
       " 'performing': 23,\n",
       " 'fantastic': 73,\n",
       " 'used': 291,\n",
       " 'storagesat': 1,\n",
       " 'lte': 55,\n",
       " 'bugs': 55,\n",
       " 'several': 30,\n",
       " 'proper': 79,\n",
       " 'care': 121,\n",
       " 'roam': 1,\n",
       " 'center': 149,\n",
       " '14k': 44,\n",
       " 'idiots': 1,\n",
       " 'crap': 19,\n",
       " 'traps': 1,\n",
       " 'lovely': 15,\n",
       " 'ordered': 39,\n",
       " 'venom': 29,\n",
       " 'black': 52,\n",
       " 'variant': 18,\n",
       " 'received': 225,\n",
       " 'gold': 22,\n",
       " 'pathetic': 86,\n",
       " 'going': 88,\n",
       " 'touchscreen': 5,\n",
       " '15k': 22,\n",
       " 'approx': 17,\n",
       " 'handy': 24,\n",
       " 'supporting': 22,\n",
       " 'serious': 31,\n",
       " 'able': 128,\n",
       " 'crack': 13,\n",
       " 'ready': 20,\n",
       " 'amount': 35,\n",
       " 'defected': 10,\n",
       " 'piece': 106,\n",
       " 'headphone': 92,\n",
       " 'jack': 67,\n",
       " 'prefer': 18,\n",
       " 'moto': 114,\n",
       " 'dubble': 1,\n",
       " 'image': 56,\n",
       " 'zoom': 20,\n",
       " 'opetion': 1,\n",
       " 'menu': 19,\n",
       " 'soon': 96,\n",
       " 'records': 5,\n",
       " 'reception': 34,\n",
       " 'compared': 153,\n",
       " 'devices': 43,\n",
       " 'provider': 12,\n",
       " 'flactuating': 1,\n",
       " 'zero': 18,\n",
       " 'complaint': 30,\n",
       " 'solution': 52,\n",
       " 'forum': 16,\n",
       " 'anything': 49,\n",
       " 'yet': 54,\n",
       " 'future': 51,\n",
       " 'asome': 3,\n",
       " 'products': 83,\n",
       " 'inaudible': 2,\n",
       " 'express': 4,\n",
       " 'pc/laptop': 1,\n",
       " 'complained': 8,\n",
       " 'exchange': 51,\n",
       " 'waiting': 38,\n",
       " 'resolution': 43,\n",
       " 'supurb': 1,\n",
       " 'invoice': 48,\n",
       " 'singal': 4,\n",
       " 'singnal': 3,\n",
       " 'operators': 1,\n",
       " 'disgusting': 12,\n",
       " 'low': 397,\n",
       " 'afraid': 4,\n",
       " 'burst': 9,\n",
       " 'planing': 3,\n",
       " 'throw': 5,\n",
       " 'threat': 1,\n",
       " 'policy': 76,\n",
       " 'wrong': 36,\n",
       " 'asking': 22,\n",
       " 'verified': 6,\n",
       " 'faulty': 60,\n",
       " 'returnable': 6,\n",
       " 'period': 21,\n",
       " 'strongly': 11,\n",
       " 'garbage': 13,\n",
       " 'site': 14,\n",
       " 'fine': 248,\n",
       " 'subsequently': 3,\n",
       " 'inspite': 16,\n",
       " 'rapid': 13,\n",
       " 'thier': 2,\n",
       " 'auth': 2,\n",
       " 'vain': 1,\n",
       " 'aware': 7,\n",
       " 'lying': 3,\n",
       " 'became': 10,\n",
       " 'navigation': 15,\n",
       " 'makes': 56,\n",
       " 'rethink': 1,\n",
       " 'sale': 67,\n",
       " 'drawbacks': 9,\n",
       " 'apple': 4,\n",
       " 'never': 211,\n",
       " 'boots': 1,\n",
       " 'night': 68,\n",
       " 'logo': 5,\n",
       " 'powered': 3,\n",
       " 'sad': 24,\n",
       " 'phoen': 1,\n",
       " 'peice': 4,\n",
       " 'meagain': 1,\n",
       " 'replacing': 7,\n",
       " 'peiceand': 1,\n",
       " 'meant': 4,\n",
       " 'requirementsgood': 1,\n",
       " 'speedgood': 1,\n",
       " 'cameragreat': 2,\n",
       " 'hangingloved': 1,\n",
       " 'bill': 61,\n",
       " 'bhangar': 1,\n",
       " 'demerits': 1,\n",
       " 'views': 2,\n",
       " 'actually': 50,\n",
       " 'easily': 52,\n",
       " 'brokenable': 1,\n",
       " 'thickness': 3,\n",
       " 'usual': 16,\n",
       " 'main': 78,\n",
       " 'heat': 346,\n",
       " 'net': 82,\n",
       " 'raj': 3,\n",
       " 'mishra7383506358': 2,\n",
       " 'budget': 194,\n",
       " 'competeting': 1,\n",
       " 'series': 29,\n",
       " 'marketing': 8,\n",
       " 'gimmickcamera': 1,\n",
       " 'samsung': 74,\n",
       " 'pricebut': 1,\n",
       " 'nearly': 18,\n",
       " '4hrs': 6,\n",
       " '5hrs': 10,\n",
       " 'old': 80,\n",
       " 'mob': 29,\n",
       " 'unable': 70,\n",
       " 'fastly': 38,\n",
       " 'crashed': 11,\n",
       " 'requesting': 5,\n",
       " 'everor': 1,\n",
       " 'version': 82,\n",
       " 'everbattery': 1,\n",
       " '100-10never': 1,\n",
       " 'movie': 5,\n",
       " 'lover': 24,\n",
       " 'wanted': 22,\n",
       " 'watch': 22,\n",
       " 'box': 158,\n",
       " 'chrome': 14,\n",
       " 'castthere': 1,\n",
       " 'disappointingly': 1,\n",
       " 'find': 104,\n",
       " 'draw': 6,\n",
       " 'mirroring': 38,\n",
       " 'team': 57,\n",
       " 'live': 12,\n",
       " 'chat': 5,\n",
       " 'person': 58,\n",
       " 'chatting': 4,\n",
       " 'saleem': 1,\n",
       " 'typing': 10,\n",
       " 'next': 70,\n",
       " 'question': 11,\n",
       " 'abruptly': 5,\n",
       " 'disconnected': 19,\n",
       " 'posts': 1,\n",
       " 'users': 42,\n",
       " 'complaining': 5,\n",
       " 'lag': 91,\n",
       " '2000': 19,\n",
       " 'diwali': 13,\n",
       " 'plus': 135,\n",
       " 'additional': 14,\n",
       " 'paying': 15,\n",
       " 'debit': 3,\n",
       " 'avg': 17,\n",
       " 'headphones': 64,\n",
       " 'mobail': 12,\n",
       " 'reached': 12,\n",
       " ...}"
      ]
     },
     "execution_count": 46,
     "metadata": {},
     "output_type": "execute_result"
    }
   ],
   "source": [
    "fdist"
   ]
  },
  {
   "cell_type": "code",
   "execution_count": 47,
   "metadata": {
    "scrolled": true
   },
   "outputs": [
    {
     "data": {
      "text/html": [
       "<div>\n",
       "<style scoped>\n",
       "    .dataframe tbody tr th:only-of-type {\n",
       "        vertical-align: middle;\n",
       "    }\n",
       "\n",
       "    .dataframe tbody tr th {\n",
       "        vertical-align: top;\n",
       "    }\n",
       "\n",
       "    .dataframe thead th {\n",
       "        text-align: right;\n",
       "    }\n",
       "</style>\n",
       "<table border=\"1\" class=\"dataframe\">\n",
       "  <thead>\n",
       "    <tr style=\"text-align: right;\">\n",
       "      <th></th>\n",
       "      <th>words</th>\n",
       "      <th>freq</th>\n",
       "    </tr>\n",
       "  </thead>\n",
       "  <tbody>\n",
       "    <tr>\n",
       "      <th>0</th>\n",
       "      <td>good</td>\n",
       "      <td>6120</td>\n",
       "    </tr>\n",
       "    <tr>\n",
       "      <th>1</th>\n",
       "      <td>need</td>\n",
       "      <td>257</td>\n",
       "    </tr>\n",
       "    <tr>\n",
       "      <th>2</th>\n",
       "      <td>updates</td>\n",
       "      <td>145</td>\n",
       "    </tr>\n",
       "    <tr>\n",
       "      <th>3</th>\n",
       "      <td>improvements</td>\n",
       "      <td>7</td>\n",
       "    </tr>\n",
       "    <tr>\n",
       "      <th>4</th>\n",
       "      <td>worst</td>\n",
       "      <td>959</td>\n",
       "    </tr>\n",
       "    <tr>\n",
       "      <th>...</th>\n",
       "      <td>...</td>\n",
       "      <td>...</td>\n",
       "    </tr>\n",
       "    <tr>\n",
       "      <th>12991</th>\n",
       "      <td>parformance</td>\n",
       "      <td>1</td>\n",
       "    </tr>\n",
       "    <tr>\n",
       "      <th>12992</th>\n",
       "      <td>prosecer</td>\n",
       "      <td>1</td>\n",
       "    </tr>\n",
       "    <tr>\n",
       "      <th>12993</th>\n",
       "      <td>whater</td>\n",
       "      <td>1</td>\n",
       "    </tr>\n",
       "    <tr>\n",
       "      <th>12994</th>\n",
       "      <td>gaget</td>\n",
       "      <td>1</td>\n",
       "    </tr>\n",
       "    <tr>\n",
       "      <th>12995</th>\n",
       "      <td>pakeging</td>\n",
       "      <td>1</td>\n",
       "    </tr>\n",
       "  </tbody>\n",
       "</table>\n",
       "<p>12996 rows × 2 columns</p>\n",
       "</div>"
      ],
      "text/plain": [
       "              words  freq\n",
       "0              good  6120\n",
       "1              need   257\n",
       "2           updates   145\n",
       "3      improvements     7\n",
       "4             worst   959\n",
       "...             ...   ...\n",
       "12991   parformance     1\n",
       "12992      prosecer     1\n",
       "12993        whater     1\n",
       "12994         gaget     1\n",
       "12995      pakeging     1\n",
       "\n",
       "[12996 rows x 2 columns]"
      ]
     },
     "execution_count": 47,
     "metadata": {},
     "output_type": "execute_result"
    }
   ],
   "source": [
    "freq = {\"words\":list(fdist.keys()),\"freq\":list(fdist.values())}\n",
    "df_dist = pd.DataFrame(freq)\n",
    "df_dist"
   ]
  },
  {
   "cell_type": "code",
   "execution_count": 48,
   "metadata": {},
   "outputs": [],
   "source": [
    "#30321 - 26707  - 17602\n"
   ]
  },
  {
   "cell_type": "code",
   "execution_count": 49,
   "metadata": {},
   "outputs": [
    {
     "data": {
      "text/plain": [
       "<AxesSubplot:xlabel='words'>"
      ]
     },
     "execution_count": 49,
     "metadata": {},
     "output_type": "execute_result"
    },
    {
     "data": {
      "image/png": "[encoded data removed]",
      "text/plain": [
       "<Figure size 1440x360 with 1 Axes>"
      ]
     },
     "metadata": {
      "needs_background": "light"
     },
     "output_type": "display_data"
    }
   ],
   "source": [
    "%matplotlib inline\n",
    "df_dist.sort_values(ascending=False, by=\"freq\").head(25).\\\n",
    "plot.bar(x= \"words\", y= \"freq\",figsize=(20,5)) "
   ]
  },
  {
   "cell_type": "code",
   "execution_count": null,
   "metadata": {},
   "outputs": [],
   "source": []
  },
  {
   "cell_type": "code",
   "execution_count": null,
   "metadata": {},
   "outputs": [],
   "source": []
  },
  {
   "cell_type": "code",
   "execution_count": null,
   "metadata": {},
   "outputs": [],
   "source": []
  },
  {
   "cell_type": "markdown",
   "metadata": {},
   "source": [
    "Problems with the above visuals\n",
    "    1.case is non uniform\n",
    "    2. punctuations and stop words\n",
    "    3. words with different tense forms like charged, charging, charges has its root form in charge"
   ]
  },
  {
   "cell_type": "code",
   "execution_count": 50,
   "metadata": {},
   "outputs": [],
   "source": [
    "#1. case normalization and tokenizing"
   ]
  },
  {
   "cell_type": "code",
   "execution_count": 51,
   "metadata": {},
   "outputs": [
    {
     "data": {
      "text/plain": [
       "0               Good but need updates and improvements\n",
       "1    Worst mobile i have bought ever, Battery is dr...\n",
       "2    when I will get my 10% cash back.... its alrea...\n",
       "3                                                 Good\n",
       "4    The worst phone everThey have changed the last...\n",
       "5    Only I'm telling don't buyI'm totally disappoi...\n",
       "6    Phone is awesome. But while charging, it heats...\n",
       "7                      The battery level has worn down\n",
       "8    It's over hitting problems...and phone hanging...\n",
       "9    A lot of glitches dont buy this thing better g...\n",
       "Name: review, dtype: object"
      ]
     },
     "execution_count": 51,
     "metadata": {},
     "output_type": "execute_result"
    }
   ],
   "source": [
    "reviews.review[:10]"
   ]
  },
  {
   "cell_type": "code",
   "execution_count": 52,
   "metadata": {},
   "outputs": [],
   "source": [
    "from nltk.tokenize import word_tokenize"
   ]
  },
  {
   "cell_type": "code",
   "execution_count": 53,
   "metadata": {},
   "outputs": [],
   "source": [
    "from string import punctuation\n",
    "from nltk.corpus import stopwords"
   ]
  },
  {
   "cell_type": "code",
   "execution_count": 54,
   "metadata": {},
   "outputs": [],
   "source": [
    "stop_nltk = stopwords.words(\"english\")"
   ]
  },
  {
   "cell_type": "code",
   "execution_count": 55,
   "metadata": {},
   "outputs": [
    {
     "name": "stdout",
     "output_type": "stream",
     "text": [
      "['i', 'me', 'my', 'myself', 'we', 'our', 'ours', 'ourselves', 'you', \"you're\", \"you've\", \"you'll\", \"you'd\", 'your', 'yours', 'yourself', 'yourselves', 'he', 'him', 'his', 'himself', 'she', \"she's\", 'her', 'hers', 'herself', 'it', \"it's\", 'its', 'itself', 'they', 'them', 'their', 'theirs', 'themselves', 'what', 'which', 'who', 'whom', 'this', 'that', \"that'll\", 'these', 'those', 'am', 'is', 'are', 'was', 'were', 'be', 'been', 'being', 'have', 'has', 'had', 'having', 'do', 'does', 'did', 'doing', 'a', 'an', 'the', 'and', 'but', 'if', 'or', 'because', 'as', 'until', 'while', 'of', 'at', 'by', 'for', 'with', 'about', 'against', 'between', 'into', 'through', 'during', 'before', 'after', 'above', 'below', 'to', 'from', 'up', 'down', 'in', 'out', 'on', 'off', 'over', 'under', 'again', 'further', 'then', 'once', 'here', 'there', 'when', 'where', 'why', 'how', 'all', 'any', 'both', 'each', 'few', 'more', 'most', 'other', 'some', 'such', 'no', 'nor', 'not', 'only', 'own', 'same', 'so', 'than', 'too', 'very', 's', 't', 'can', 'will', 'just', 'don', \"don't\", 'should', \"should've\", 'now', 'd', 'll', 'm', 'o', 're', 've', 'y', 'ain', 'aren', \"aren't\", 'couldn', \"couldn't\", 'didn', \"didn't\", 'doesn', \"doesn't\", 'hadn', \"hadn't\", 'hasn', \"hasn't\", 'haven', \"haven't\", 'isn', \"isn't\", 'ma', 'mightn', \"mightn't\", 'mustn', \"mustn't\", 'needn', \"needn't\", 'shan', \"shan't\", 'shouldn', \"shouldn't\", 'wasn', \"wasn't\", 'weren', \"weren't\", 'won', \"won't\", 'wouldn', \"wouldn't\"]\n"
     ]
    }
   ],
   "source": [
    "print(stop_nltk)"
   ]
  },
  {
   "cell_type": "code",
   "execution_count": 56,
   "metadata": {},
   "outputs": [],
   "source": [
    "stop_updated = stop_nltk + list(punctuation) + [\"...\",\"..\"] + [\"phone\", \"mobile\",\"lenovo\",\"k8\",\"product\"]"
   ]
  },
  {
   "cell_type": "markdown",
   "metadata": {},
   "source": [
    "below code removes:\n",
    "1. stopwords, \n",
    "2. punct's,\n",
    "3. custom stop words,\n",
    "4. words with lenght less than 2"
   ]
  },
  {
   "cell_type": "code",
   "execution_count": 57,
   "metadata": {},
   "outputs": [],
   "source": [
    "reviews_updated1 = [word for word in all_terms if word not in stop_updated and len(word) > 2]"
   ]
  },
  {
   "cell_type": "code",
   "execution_count": 58,
   "metadata": {},
   "outputs": [
    {
     "name": "stdout",
     "output_type": "stream",
     "text": [
      "['good', 'need', 'updates', 'improvements', 'worst', 'bought', 'ever', 'battery', 'draining', 'like', 'hell', 'backup', 'hours', 'internet', 'uses', 'even', 'put', 'idle', 'getting', 'discharged']\n"
     ]
    }
   ],
   "source": [
    "print(reviews_updated1[:20])"
   ]
  },
  {
   "cell_type": "code",
   "execution_count": 59,
   "metadata": {},
   "outputs": [
    {
     "data": {
      "text/plain": [
       "12995"
      ]
     },
     "execution_count": 59,
     "metadata": {},
     "output_type": "execute_result"
    }
   ],
   "source": [
    "len(set(reviews_updated1))"
   ]
  },
  {
   "cell_type": "code",
   "execution_count": 60,
   "metadata": {},
   "outputs": [],
   "source": [
    "from nltk.stem import SnowballStemmer\n",
    "stemmer_s = SnowballStemmer(\"english\")"
   ]
  },
  {
   "cell_type": "code",
   "execution_count": 61,
   "metadata": {},
   "outputs": [],
   "source": [
    "reviews_updated_stem = [stemmer_s.stem(word) for word in reviews_updated1]"
   ]
  },
  {
   "cell_type": "code",
   "execution_count": 62,
   "metadata": {},
   "outputs": [],
   "source": [
    "from nltk.stem import WordNetLemmatizer\n",
    "lemm = WordNetLemmatizer()"
   ]
  },
  {
   "cell_type": "code",
   "execution_count": 63,
   "metadata": {},
   "outputs": [],
   "source": [
    "reviews_updated_lemm = [lemm.lemmatize(word) for word in reviews_updated1]\n",
    "reviews_updated_lemm = [lemm.lemmatize(word, pos = 'v') for word in reviews_updated_lemm]\n",
    "reviews_updated_lemm = [lemm.lemmatize(word, pos = 'a') for word in reviews_updated_lemm]\n",
    "reviews_updated_lemm = [lemm.lemmatize(word, pos = 's') for word in reviews_updated_lemm]\n",
    "reviews_updated_lemm = [lemm.lemmatize(word, pos = 'r') for word in reviews_updated_lemm]\n",
    "reviews_updated_lemm = [lemm.lemmatize(word, pos = 'n') for word in reviews_updated_lemm]"
   ]
  },
  {
   "cell_type": "code",
   "execution_count": 64,
   "metadata": {},
   "outputs": [
    {
     "name": "stdout",
     "output_type": "stream",
     "text": [
      "10664 11270\n"
     ]
    }
   ],
   "source": [
    "print(len(set(reviews_updated_stem)),len(set(reviews_updated_lemm)))"
   ]
  },
  {
   "cell_type": "code",
   "execution_count": 65,
   "metadata": {},
   "outputs": [],
   "source": [
    "lemmcleanreviews = \" \".join(reviews_updated_lemm)"
   ]
  },
  {
   "cell_type": "code",
   "execution_count": 66,
   "metadata": {},
   "outputs": [],
   "source": [
    "all_terms = word_tokenize(lemmcleanreviews)\n",
    "fdist = {}\n",
    "for word in all_terms:\n",
    "    #fdist[word] = fdist[word] + 1\n",
    "    fdist[word] = fdist.get(word,0) + 1"
   ]
  },
  {
   "cell_type": "code",
   "execution_count": 67,
   "metadata": {},
   "outputs": [],
   "source": [
    "all_terms = word_tokenize(\" \".join(reviews_updated_stem))\n",
    "fdist = {}\n",
    "for word in all_terms:\n",
    "    #fdist[word] = fdist[word] + 1\n",
    "    fdist[word] = fdist.get(word,0) + 1"
   ]
  },
  {
   "cell_type": "code",
   "execution_count": 68,
   "metadata": {},
   "outputs": [
    {
     "data": {
      "text/plain": [
       "6796"
      ]
     },
     "execution_count": 68,
     "metadata": {},
     "output_type": "execute_result"
    }
   ],
   "source": [
    "singlewordliststem =[]\n",
    "for key in fdist.keys():\n",
    "    if fdist[key]==1:\n",
    "        singlewordliststem.append(key)\n",
    "len(singlewordliststem)"
   ]
  },
  {
   "cell_type": "code",
   "execution_count": 69,
   "metadata": {},
   "outputs": [],
   "source": [
    "freq = {\"words\":list(fdist.keys()),\"freq\":list(fdist.values())}\n",
    "df_dist = pd.DataFrame(freq)"
   ]
  },
  {
   "cell_type": "code",
   "execution_count": 70,
   "metadata": {},
   "outputs": [
    {
     "data": {
      "text/plain": [
       "<AxesSubplot:xlabel='words'>"
      ]
     },
     "execution_count": 70,
     "metadata": {},
     "output_type": "execute_result"
    },
    {
     "data": {
      "image/png": "[encoded data removed]",
      "text/plain": [
       "<Figure size 1440x360 with 1 Axes>"
      ]
     },
     "metadata": {
      "needs_background": "light"
     },
     "output_type": "display_data"
    }
   ],
   "source": [
    "%matplotlib inline\n",
    "df_dist.sort_values(ascending=False, by=\"freq\").head(25).\\\n",
    "plot.bar(x= \"words\", y= \"freq\",figsize=(20,5)) "
   ]
  },
  {
   "cell_type": "code",
   "execution_count": 71,
   "metadata": {},
   "outputs": [
    {
     "data": {
      "text/plain": [
       "6796"
      ]
     },
     "execution_count": 71,
     "metadata": {},
     "output_type": "execute_result"
    }
   ],
   "source": [
    "singlewordlist =[]\n",
    "for key in fdist.keys():\n",
    "    if fdist[key]==1:\n",
    "        singlewordlist.append(key)\n",
    "len(singlewordlist)"
   ]
  },
  {
   "cell_type": "code",
   "execution_count": 72,
   "metadata": {},
   "outputs": [
    {
     "name": "stdout",
     "output_type": "stream",
     "text": [
      "['everthey', 'buyi', 'disappointedpoor', 'batterypoor', 'camerawast', 'allot', 'worn', 'ahmedabad', 'hdpf', '9998.', 'galeri', 'speakernorm', 'odinari', 'any1', 'bouth', '😒😒☹️', 'oveh', 'bestin', 'priceful', 'passa', 'bcom', 'bigggggggest', 'bakwaaaasssdo', 'lowbatteri', 'lowpl', 'phone😍😍', 'breakup', 'vcf', 'werorst', '10000.', 'optionthird', '10999/-fourth', 'nerv', 'fifth', 'cameradesignperform', 'wrest', '☺️🙂', 'defuc', 'allahabad', 'rape', 'poorword', 'sep-17', '25dec17', 'productcamera', 'greatsound', 'greatov', 'prpper', 'detach', 'xt1902-3', 'm2cb2', 'backlogs1', '3100', 'steadier', 'supplementari', 'sofa', 'district', 'bodru', '4000mhz', 'hrsit', 'deduc', 'lookswis', 'kharida', 'usm', 'layla', 'inka', 'khelk', 'kenya', 'kaharidna', 'youif', 'holic', 'selfiein', 'parfomc', 'instruct', 'rasidul', 'kaji', 'aftwr', 'goodbelow', 'storagesat', 'dubbl', 'opet', 'flactuat', 'pc/laptop', 'supurb', 'threat', 'vain', 'rethink', 'phoen', 'meagain', 'peiceand', 'requirementsgood', 'speedgood', 'hanginglov', 'bhangar', 'gimmickcamera', 'pricebut', 'everor', 'everbatteri', '100-10never', 'castther', 'saleem', 'disk', 'stylist', 'friendh', 'requirementsbuta', 'fullotherwis', '40-45', '08/10/2017', 'mapusa', 'dimag', 'panjim', 'dayi', '628g', 'slowmo', 'doulbi', 'experiencetot', 'adagond', 'gap', 'purcsaesd', 'lodg', 'afterword', 'trubl', 'repaired👎👎', 'chargingcharg', 'prospictur', 'qualitydolbi', 'atmosbatteryprocessormus', 'keystock', 'androidfast', 'chargecon', 'camerano', 'uiheat', 'nvr', 'turnoff', 'relationship', 'spectaluar', 'previledg', 'sep.', 'fck', 'bestest', 'strain', '12-14', 'return/exchang', 'better1', 'mins2', 'freezes3', 'alerts4', 'trucal', 'wellthi', 'tecord', 'natura', 'qualitywhen', 'flas', 'kahi', 'bahar', '2se', 'ghanta', '-switch', 'batterylow', 'takes1and', 'chargewrost', 'monthsaft', 'sureth', '4overal', 'san', 'andrea', 'nova', 'pump', 'musoc', 'supporting2', 'horh', 'krdlo', 'performancebutlow', 'setsfid', 'badit', 'magzinee', 'dis-', 'appoint', 'seek', 'utni', 'replacement/return', 'wasul', 'beautifulbrand', 'heats-up', 'cableservic', 'cabledont', 'bettori', 'goodfor', '2cheap', 'phonewast', 'smooththank', 'relay', 'mths', '❤️😄😍', 'blindfold', 'k8perform', 'closest', 'rival-', 'antiscratchscratch', 'downbad', 'glassscreen', 'booklet', 'arebeautiful_', 'needful', 'repack', 'dec2018', '27april2018', 'tacki', 'response2', 'set/earphon', 'synergi', 'problemkeyboard', 'data/internet', 'absurd', 'problemgood', 'workinv', 'phonegreat', 'ilov', 'nero', 'suoerrr', 'gamingbarri', 'superboveral', 'goodthank', 'games3', 'gaming4', 'plastic6', 'space7', 'effectsnic', 'costnew', 'lookbut', 'liar', 'arrived2-', 'issue,3-', 'fastly5-', 'lenc', 'coverd', 'hoid', 'download/', 'though:1.', 'ramth', 'worstphon', 'shamelenovo', 'configru', 'cyanogenmod', 'recov', 'batteryi', 'cons:1', 'expectedp', '-mi', 'neighbour', \"phone's1\", 'foulti', 'phonekoi', 'pura', 'akdom', 'instumet', 'deley', 'hotport', 'vice-versa', 'withdraw', 'upadaton', '8000rs', 'chargerth', '7to', 'impor', 'prdt', 'standardsveri', 'wothi', '4500', 'lazi', 'flick', 'cure', 'replic', 'competiror', 'trader', '05/09/2017', 'bckup', 'tlng', 'tommorow', 'rob', 'strip', 'problemslet', 'reviewthnk', 'regrett', 'wholeso', 'chargeweight', '20-22', 'a57', 'recipi', 'kho', 'dijiy', 'infrad', 'stabliti', '😍but', 'mediatek😭', '122', 'photohol', 'resond', 'phone/charg', 'qualiy', 'naught', '20/09/2017', '08/june/2018', 'worthy-', \"tv's-\", 'available-', 'parallel', 'wifi-', 'minute-', 'pathetic-', 'amend', 'keen', 'jio4gvoic', 'smoothest', 'updating/download', '-25', 'eighteen', 'rigid', 'lot😂😂', 'writingit', '26th', 'eight', 'qualitysupereb', 'matic', 'zeo', 'work100℅charg', '5hoursturbo', 'workwent', '14999.', 'dislikeenhanc', 'lenovowhich', 'builth', 'annoyingoveral', 'makan', 'kcharger', 'phonecast', 'ummaah', 'bolbi', 'ohm', 'sennheis', '300', 'twice/thric', 'complementari', 'soyou', 'began', 'render', 'sucksand', 'picturesi', 'itemnow', 'tenor', 'glet', 'companyanyway', 'sucksth', 'videoand', 'updatetheir', 'cheak', 'whatsup', 'scari', 'rs13999', 'stagger', 'vigor', 'feeld', 'veraion', 'elaps', 'productsom', 'ssue', 'allur', '11650.', 'traspar', 'damp', 'disappointedcharg', 'mire', 'dhaka', 'thankssriram', 'bedluk', 'exicit', 'weapon', 'worthful', 'dischargingno', 'gorla', 'problem1-bettri', '2-back', 'funtat', 'velli', 'smaller', 'sligh', 'perparm', 'letv2', 'interface4', 'printer', 'bower', 'lemovo', 'xxxxxrupe', 'badth', 'eill', 'appearbon', 'pocketveri', 'pooormain', 'proplem', 'prey', 'avglook', 'okth', 'confusebatteri', 'plusfront', 'avarg', 'miter', 'havent', 'fase', 'mir', 'r/sir', 'moneyaft', 'pixelsi', 'kow', 'baf', 'vth', 'sington', '13499', 'nuisanc', 'phonemoney', 'workingworst', '816g', 'awak', '14.', '15.', 'wonderful', '4000mahcon', 'nearest', 'letter', 'real-lif', 'adieu', '0ct2017', 'reae', 'spped', '13-14', 'mnt', 'deurabl', '481', 'ppi', 'capacit', 'popup', 'heatsup', 'restrict', 'routin', 'highno', 'on-off', 'featurew', '9999', 'powwr', 'follows:1', 'scene', '7:00', 'whatsapp/fb', 'journalist', 'problemssensor', 'fastapp', 'hangedscreen', 'callin', 'manageri', 'childish', '4g2', 'ram/batteri', 'managementus', 'mobile:1.', 'pocket-friendly2', 'krdi', 'camera-poor', 'maintion', 'mobilepeopl', 'dress', 'butterfli', 'futil', 'biswajit', 'adhikari', 'paa', 'reguest', 'poucha', 'yesi', 'downwhil', 'vivid', 'dabl', 'dikhavati', 'moneyi', 'returnablepl', 'remind', 'snapdeal', 'comapint', 'perfamenc', 'feebl', 'pcb', 'denniscnlew', 'sarvi', 'mano', 'saman', 'mgao', 'flipcard', '15mint', 'electr', 'huwai', '12,999.', 'bhokeh', 'immediately/quick', 'mobile2', 'note3', 'guard5', 'effect6', 'side7', '65-75', 'charger8', '90-100', 'understat', 'thin', 'doessnot', 'unwatch', 'indefinit', '3/4th', 'be-awar', 'expet', '14khave', 'moon', 'month1', 'perc', 'mang', 'goof', 'far😀😀😀', 'uptomark', '0-90', 'gi8', '3product', 'uninsert', 'fasterheadphon', 'outstandingok', 'dectect', 'problembookeh', 'greatfantast', 'looksamaz', 'selfieshonest', 'instil', 'gomora', 'deceiv', 'august,2017', 'masha', 'allah', '~30', 'stare', 'smarttest', 'game😥', 'reactifi', 'groceri', 'goodvalu', '51gbheat', 'elong', 'eska', 'spous', 'hisab', 'bateeri', 'bareilli', 'region', 'stillwait', 'desplay', 'lappi', 'kehi', 'mele', 'ga.', 'jaga', 'peppar', 'pis', 'mujhko', 'parfect', 'surley', 'non-funct', 'hight', 'displaynic', 'performanceaverag', 'ghatu', 'beset', '22-02-2018.', 'jumbl', 'workingeven', 'compel', 'nli', 'rite', 'quir', 'andi', '22-aug-2017', 'catcher', 'either2', 'grainy3', 'either4', 'better5', 'far4', 'dimmer', 'display6', 'fine7', 'rangeverdict', '25-aug-2017', 'patienc', 'shot3', 'issue5', 'dataverdict', '8999', 'esasyli', 'turn-off', 'one+6', 'much👍👍', 'apeksha', 'usingbphon', 'chagr', 'updates3', 'installation4', 'responsivesmooth', 'awesome6', 'atmos7', 'gimmick,2', 'camera,3', 'performance,4', 'lookkil', 'camerakil', '360°', 'atmosawesom', 'badiyaa', 'aachi', 'karbaya', 'pli', 'kyu', 'casback', 'moni', 'ableb', 'acoumnt', '3000mh', 'overa', 'screenno', 'recorderdump', 'intak', '2pcs', 'quatliti', 'irla', 'vile', 'parl', '15-day', 'reoccur', 'sick', 'clipboard', '190gram', 'kit', 'misfir', 'anroid', 'misss', 'notk8', 'buttri', 'it,3', 'caputr', 'only6', 'only7', 'mobi8', 'good9', ',64', 'romin', 'woww', 'recless', 'wasteag', 'worser', 're-boot', 'wisli', 'malad', 'speed/pow', 'enthusiast', 'fasst', 'issuehow', 'fasti', 'playiy', 'katha', 'hbe', 'kono', 'proport', 'bnd', 'chalna', 'or', 'sbse', 'ander', 'bich', 'kin', 'tkm', 'kru', 'mnth', 'dwn', 'mirroring/cat', 'touch/assist', 'smartv', 'design4', 'speakers5', 'resourc', 'easily7', 'costo', 'apdat', 'verson', 'bactori', 'calangut', 'enoughspeak', 'problems,1', 'awww', 'dud', 'software-', 'review-', 'update-', '12k+', 'etcoveral', 'univers', 'bhout', 'shandaar', 'grms', 'backup2', 'features3', 'fast/turbo', '8am', 'replug', '5pm', 'fab', 'perfm', '30-60min', 'jiffi', 'purchase', 'deliverd', 'timecon', 'airtel4g', 'missig', 'restarting/aeroplan', 'alreadynev', 'honor6charg', 'focusexpect', 'herculean', 'prudent', 'fratern', 'rajiv', 'pathakrajivpathak27', 'frequest', 'saviour', 'asseseri', 'lov', 'recording,3', 'placement', 'chutia', 'qulaiti', 'betteryy', '10hr', 'trustworthi', 'versatil', 'baecap', 'jat', 'turo', 'netbatteri', 'chargingphon', 'ironboxdata', 'satisfiedtouch', 'daybefor', 'serous', '6/10design', '8/0perform', '7/10overal', 'orrio', 'ext', 'thread', \"dont't\", 'redirect', 'rocket', 'kommerc', 'llp', 'hipper', 'despli', 'vlt', '3and', 'minet', 'problembaiterri', 'fastfront', 'sligjt', 'propdr', 'state2', 'timer', 'afternoon', 'worst2', 'heats4', 'condition5', 'oneveri', 'batterystock', 'androidveri', 'smoothcon', 'speakers-', 'quality-', 'poor-', 'support2', 'used4', 'flesh', 'light5', 'lke', 'that6', 'good7', 'one8', 'strep', 'average9', 'note10', 'knw', 'firebal', '5300mah', 'sheet', 'gete', 'getng', 'blash', 'supos', 'flimsi', 'water/moistur', 'qulal', 'discrb', 'quality,2', 'list5', 'unknown', 'list7', 'fast8', 'goodin', 'thissriniva', 'kopilla', 'goodaccess', 'quickoveral', '👌👌👌👍', 'bliss', 'dhasu', 'cashmemo', 'longtim', 'quik', '11month', 'tasking2', 'excellent3', 'night4', 'good5', 'charging6', 'goo', 'profus', '4-10', 'bam', '-_-again', 'satisfai', 'honi', 'chahiy', 'heee', 'bhtar', 'rhegayeh', 'dûñïâ', 'lobhut', 'haii', 'sepak', 'supernot', 'capturedm', 'rangeon', 'sunshin', 'dattri', 'pak', 'ohhh', 'deseis', 'contiu', 'pronlem', 'infuri', 'mff', 'excellentsound', 'badbluetooth', 'hage', 'suppot', 'pacup', 'spcl', 'lookon', '2,000-3,000', 'cab', 'aman', 'mistake6', 'terriblli', 'expectations9', 'backcharg', 'reutrn', 'v5plus', 'crashdepth', 'temporari', 'ineffici', 'vaio', 'june/juli', 'sounf', '2mnth', 'nikala', 'haur', 'mahanamazon', 'chaiy', 'regress', 'casting/mirror', 'unfriend', 'alien', 'caution', 'okpros-', 'poordr', 'ovearl', 'availablespeak', 'goodcamrea', '13mg', 'warrent', 'crude', 'diall', 'mainten', 'bless', '3hour', '20hour', '625.', 'halosmart', 'devicefound', 'drizzl', 'cheatedprocessor', 'vashul', 'haha', 'volcano', '5star1', 'gaming3', 'selifi', 'fvvg', 'prafomen', 'unbeatabledolbi', 'amazingcompactworth', 'moneybest', 'battery,4000', 'bina', 'kiy', 'phonenic', 'productfullfil', 'superrrr', 'shameless', '2016.', 'charger3', 'alpha', 'non-', 'jan2018', 'dueto', '-this', '-hotspot', 'card-', 'riajiaconsult', 'proc', 'widget', 'mentionedhang', 'lotheatingperform', '180gm', 'okaywork', '5bettri', 'usal', 'ordinay', '😒😒😒😢😢😢😢', 'quicklyi', 'motog5', 'motog2', 'nooo', 'bougt', 'note41', 'torch/', 'arm', 'admit', 'deem', 'appx', '700mb', 'whithin', 'stars2', 'mah3', 'lete', 'riington', 'ker', 'ley', 'bhoir', 'suppppeeeerrr', 'awesomejust', 'issueotherwis', 'rumor', 'excellentbecom', '4gmobil', 'operations1', '10mins2', 'minstoo', '30fps', 'ranger', 'gudslowli', 'futurecon', 'oval', 'duak', 'welll', 'yeaahhh', '4000mgz', 'is3', 'slotsgood', 'ameez', 'wàs', 'dullbatteri', 'foolit', 'numberit', 'temperaturei', 'achcha', 'avrag', 'mobilesimpli', 'resolution2', 'hands-fre', 'subpar', 'featuresfantabul', '☺️☺️☺️', 'functionalitysatisfi', 'unop', 'bujet', 'reviw', 'aday', 'beawar', '30k', 'duriat', 'boardthat', 'overthink', 'சிறப்பான', 'ஒன்று', 'என்று', 'சொல்ல', 'இயலாது', 'ஏற்றுக்கொல்லலாம்😂😚', 'adverdis', 'hilight', 'goodpro', 'lovin', 'backup3', 'okat', 'funniest', 'phone😂😂', 'recomand', 'fastexpect', 'olmost', 'greatest', 'methodeven', 'sttill', 'amazingbecaus', 'sound-', 'okayoveral', 'enforc', '12-15', '5day', 'handseti', 'backupdu', 'grippi', 'ever👍👍👍👍👍😍😍😍', 'irresist', 'device1', 'signal4', 'bad5', 'crowd6', 'quicklypleas', 'थोड़ा', 'महँगा', '।।।।।।।', 'stood', 'suuport', 'servi', 'problem🔥', 'inner', 'fischer', 'bast', 'okkk', 'giver', 'wellcamera', 'porafamen', 'problemremain', 'timei', 'diasapoint', 'prashant', 'gus', 'apk', 'helplin', 'iphone6', 'bost', 'spider', 'semmaya', 'iruku', 'oklittl', 'thisbut', 'pare', 'music/voic', 'unresolv', 'mamu', 'presist', '1-while', 'tempretur', 'grow', '2batteri', 'drail', 'time3-', 'mobile4-', 'update1-', 'good2-', 'perferm', 'good3-', 'good4-', 'device5-', 'properly6-', 'good7-', 'why9', '10-', 'methi', 'productnotif', 'automet', 'lookpro', 'backupnic', 'resolutionprotect', 'screenmet', 'designfing', 'unlockcon', 'issuesblu', 'poorlow', 'cameracould', 'effectsi', 'urg', 'pros4gb', 'flashconsdifficult', 'screenbright', 'lessbluetooth', 'onsom', 'feast', 'loadedvalu', 'moneylight', '9month', 'leneovo', 'yureka', 'lolheat', 'browsingbatteri', 'assembl', 'yeari', 'hourand', 'lwnovo', 'proofrath', 'backupfront', 'awesomeenough', 'devicetouch', 'awesomefingerprint', 'charmfre', 'coversepar', 'cardandroid', 'sooncon', 'jio4gphon', 'sometimesfacebook', 'crashesdolbi', 'usedu', 'receiev', 'sceptic', 'thisfirst', 'satishfi', 'watevr', 'cameraheatingbatteri', '29/08/17', '13999/', '1000/', '2000/', 'wapa', 'isey', 'vorest', 'feature-rich', 'makkhan', '10-15k', 'quicklyfront', 'painful', 'product0', 'workingotg', 'culprit', '512', 'brandambassador', 'sincei', '32gb/3gb', 'now,10', '45-50', 'rear,13+5', 'reveiw', 'kuddo', 's-hope', '20daysfac', '10sept', 'mpixel', 'goodcarmera', 'pricedont', 'disappiont', 'supet', 'googel', 'samasung', 'plas', 'poorand', 'willb', 'drill', 'superstar', 'fastlyi', '😊😊easi', 'rectif', 'olt', 'gudbuti', 'ssatisfi', 'ft.', 'brokencustom', 'jabalpur', '4200/-', '26/09/2017', 'problempoor', 'packagingnot', 'dhale', 'sifahat', 'deviceit', 'backi', '9644051287', '9hrs', 'ice', 'markand', 'liat', 'gamesapart', 'ither', 'operationsbttri', '2-2:30', '😢😢😢😢', 'patent', 'headpon', 'on5', 'lenovobrilli', 'speedbatteri', 'algorithm', 're-command', '5500.', 'pathat', 'exterior', 'phonethankyou', '15daysi', 'warmerbut', '15minn', '14-16hrs', 'boxgood', 'gio', 'tubro', 'refresh', 'quicklyget', '45c', 'priceeveryth', 'mobilelowest', 'future4+642', '3ghz4000mhz', 'midium', 'rural', 'resultspoor', 'ang', 'bez', 'boxwhat', 'possibleoth', 'replay', '200', 'tek', 'bharathi', '48hrs', 'meமிகவும்', 'ஆடம்பரம்', 'இல்லாத', 'பலம்', 'பொருந்திய', 'திரண்பேசி_smart', 'phns', 'border', 'inlfat', 'goodveri', 'soundsrear', 'weeksound', 'goodmus', 'goodfingerprint', 'battery-', 'negativescamera', 'lightcamera', 'tow', 'servicesonlin', 'goodtak', 'mastercardr', '😡😡🤬🤬', 'selfie-beautificational', 'leatel', 'dosto', 'hamesa', 'kharaab', 'kharidn', 'paaog', 'fasata', 'karog', 'jaagta', 'bolega', 'aaps', 'rupay', 'aapka', 'upgradefront', 'overheating-', '/poor', 'rout', 'bakwasssss', 'problemcharg', 'fastback', 'patriod', 'availablefront', 'gamingget', 'continouslyh', '22gb', 'poorscreen', 'workingspeak', 'goodworst', 'phonebless', '5500/-', 'sim+', 'intoler', 'jot', 'reasons1', 'flashi', 'anim', 'wifi/mobil', 'software/system', '8500.', 'fab👍', 'objecti', 'versioncharg', 'wipe', '10/9camera', '10/7display', '10/9', '5phone', '10/5finger', '10/8batteri', '10/7', 'ptaa', 'kaisa', 'dovic', 'fatech', 'hoe', 'lrnovo', 'chargingcon', 'aavdla', 'tumi', 'ghya', 'clearriti', 'ironbox', 'loan', '12999/-', '😙😞😞🤑', '1000/-the', 'poori', 'antena', 'brokaw', 'strake', '2017but', 'for14hr', '1hrs', 'week1', 'making/receiv', 'ram,13+5', ',4000', 'deth', '₹20,000', 'musicbatteri', 'mahov', 'bylenovothanku', 'maneuv', '-all', '10mint', 'ranc', 'youtubeand', 'canno', 'attch', 'evercamera', 'toolkit', 'lessphoto', 'gallerytarbocharg', 'frustat', 'okbatteri', 'mahoveral', 'jio/volte/4g', 'neck', 'awesome7', 'a2dp', 'radmi', 'lunchar', 'notwork', 'autorot', 'k32', 'callrecord', 'k33', 'child', 'k35', 'verylow', '=k3', 'worki', 'sumth', 'surpass', 'great2', 'chargeaga', 'gue', 'entha', 'mobila', 'yarum', 'vangathinga', 'naan', 'vangi', 'yupprocess', 'isgoodsound', 'bekarga', 'lanjodukuam', 'edi', 'mari', 'fortun', 'phonevalu', 'reaer', 'impressionsthi', 'notbavail', 'phonr', 'dwnld', 'samsung/appl', 'lte+lt', 'distenc', 'selficam', '1950', 'shorter', 'sajad', 'ahm', 'lifetil', 'downsid', 'rrmain', 'hve', '8,9and', 'hifi', 'notethank', '🤷\\u200d♂️', 'cath', 'sire', 'def', 'cromecast', 'darn', 'append', 'supervisor', 'woman', 'flawlesscamera', 'greatno', 'yrr', 'buletooth', 'bougher', 'belt', 'soud', 'specifc', 'defecult', '13000rs', 'k8note😢😡', '4gvoic', 'servis', 'ether-net', 'forest', '9718180091satbir', 'heatingupd', 'unfortunet', 'qualitynetwork', 'inbilt', 'gong', 'are:1', 'usecharg', 'oohhh', 'threre', 'hantset', 'bohut', 'dera', 'bild', 'quality-just', 'backup-finei', 'geoni', '7700.', 'widout', 'kidar', 'paysa', 'hove', 'suberb', 'soundspik', '13mpvenom', \"b'coz\", 'autofac', '0too', 'chargingmobil', 'onmic', 'aluminum', 'oneperform', 'dayheat', 'torchcamera', 'wud', 'bitch', 'thief', 'dacoit', 'oromis', 'entrant', 'gav', 'motiv', 'stab', 'ull', 'jept', 'mum', 'thot', 'high-spe', 'goodjust', 'updatefrom', 'vrtical', '15hrs', 'mounth', 'ami', 'only8099', 'prosrear', 'gudbuilt', 'gudfrnt', 'gudspeak', 'gud2', 'consavg', 'mahdisplay', 'avgcamera', 'poorphon', 'chargingtouch', 'slowperform', 'noteaftr', 'likemoto', 'plusmoto', 'plushonor', '6xasus', 'butapp', 'liketim', 'analog', 'workgalleri', 'easilydown', '2gud', 'phoneworthi', 'joint', 'foolbatteri', 'useand', 'phonepleas', 'k8plus', '3type', '50/100', '10/100', 'recird', 'ction', 'binda', 'stander', '10000000', 'wowsom', 'hunt', 'snepdragun', '46℃', 'soemtim', 'mouth', 'yaaa', 'loophol', 'servicewast', 'supplier', 'featurescamera', 'gudfabul', 'cloudspoor', 'dependencypoor', 'functionsd', 'butmicrophon', 'fon👍👍', 'whichbi', 'perforc', 'highnetwork', 'timetoo', 'chete', 'd_atom', 'screeni', 'lookn', 'boar', 'heavey', 'magavali', 'tar', 'milali', 'ulat', 'sagnyat', 'tumchya', 'shi', 'hou', 'shakala', 'pant', 'broken/d', 'fot', '√turbo', '√after', 'missing√product', 'phone√curv', 'telis', 'productissu', 'work2', 'oversold', 'golden', 'andstisfiedwoth', 'satisfiethi', 'voltebekaar', 'saddl', 'son', 'bday', 'wao', 'whis', '20.', 'back2', 'design3', 'awesomecons:1', 'injustic', 'gaming2', 'processoe3', 'screelock', 'scenario', 'ltd', '14,500', 'nick', 'notepleas', 'prblem', 'everg', 'friday', 'volte/lt', 'proclaim', 'issuesoftwar', 'withthismob', '₹16000', 'quiliti', 'pakig', 'hase', 'smartphonen', '5-8', 'heatdisplay', 'lookperform', 'upsid', 'forver', 'cheated', 'wasteg', '2017realli', 'automatoc', 'tuch', 'und', '2:45', 'nak', 'nightsound', '4g8', 'turbo-fast', 'vrcon', 'slow-mo', 'usageawesom', 'cameraa', 'heavyfast', 'chargingawesom', 'killerbetteri', 'fastnetwork', 'ricept', 'goodthink', 'looking2', 'diacharg', 'detector', 'optioncan', 'featuresbatteri', 'alsoto', 'featurebluetooth', 'carhotspot', 'somtim', 'luckbatteri', 'applicationscreen', 'freezesno', '2pm', 'rellay', 'pake', 'didt', 'figerprint', 'midiatech', 'should/can', '👍bcz', '2ft', 'gra', '5minut', 'chalan', 'samasya', 'aapko', 'presan', 'dega', 'bjp', 'observation-', 'folt', 'target', 'upad', '////', 'dill', 'apk70', 'monthsheat', 'issuegreat', 'beautiful', 'me3', '3g4', 'retrun', 'usagein', 'toolcamera', 'defiant', 'handg', 'experiencebattery:4000', 'traffic', '343/-', 'grill', 'thisin', 'poorcamera', '25-08-2017', 'salefirst', 'morningaft', 'ispros1', 'slot2', '480ppi', 'protection3', 'free4', 'flash6', 'simoltan', 'detected8', 'soundcons1', 'deg2', '61/2', 'time4', 'use5', 'keeeeeeee', 'upoveral', 'wellif', 'changeran', 'optimz', '5/5', 'shini', 'systemat', 'itcamera', 'properlyit', 'pros-plenti', 'ramgood', 'capacitydesc', 'speakersturbo', 'chargeamaz', 'resolutiongood', 'camcons-turbo', 'dischargeheavi', 'weightheat', 'sometimesback', 'improvementtough', 'handedstock', '👍👍👍', 'ooosm', 'gallery2', 'percentage3', 'option5', 'qaleti', 'bro/si', 'rangether', 'conditioni', 'narrow', 'slab', 'camerawith', 'optionoveral', '😙😀😀😀😀😎😎😎😎', 'gorella', 'silicon', 'case2', 'phone4', 'inclusioncons1', '12-14hrs', 'longev', 'vault', 'beacus', 'dare', 'parfomus', 'cald', '°to', 'disaplay', 'infront', 'hereaft', 'thrdclass', 'former', '2-2', 'leak', 'layna', 'bakba', 'battert', 'maniac', 'cheaten', '2hr0', 'dis-satisfi', 'cardbuy', 'coordin', 'lime', 'pertain', 'appal', 'horsepow', 'steep', 'factual', 'https', '//forum', 'com/t5/k8-xt1902-smartphones/hi-guys-is-there-any-solution-for-battery-drain-issue-in-lenovo/td-p/3777078', 'imporv', 'mansoor', 'scold', 'camrera', 'crazili', '🙄🙄🙄', 'hazzl', 'pbm', 'musicmobil', 'hagag', 'hitter', '18hrs', '15kdeliveri', '10800.', '-print', '9/10gaming-', '10/10graphics-', '10/10ram', 'management-', '8/10performence-', '10/10heating-', 'centreguy', 'unbreak', 'hestit', 'buying✌️', 'helpful', 'light2', 'screen3', 'in-build', 'gallery4', 'application5', 'expected6', 'hangs7', 'handsetsbecous', 'automa', '❤️❤️', 'uni-bodi', 'fesilit', 'wpr', 'conflict', 'incompat', 'phonenev', 'alldrain', '11day', 'zenfone2', 'gain', 'frome', 'processing3', 'game-play', '2wk', 'drawbackphon', 'douplic', 'evalu', 'hisss', 'unhappyit', '8hrs', 'valueless', 'in-bound', 'out-bound', 'carrier', 'blacklist', 'lifegood', 'processorgood', 'cameraeveryth', 'goodwant', 'refud', 'problemit', 'poblem', '😤😤😤', 'hare', 'funtoosh', 'recamond', 'leth', 'garila', '3gcamera', '/sysem', 'launcher/', 'ati', 'falut', 'perfecthow', 'input', 'setisfi', 'lwait', 'replc', 'sahara', 'rahul', 'singhmobil', '09953756674', 'drawback-', 'glass-', 'christma', 'blackwhit', 'monthdisplay', '9/10camera', '7/10processor', '10/10batteri', '8/10a', '100min', 'bottun', 'curvey', 'dilevrri', 'k8i', 'notification/ind', 'anticip', 'disppoint', 'cell-phon', 'bindi', 'forehead', 'phonego', 'mobilei', 'divert', 'backupso', '😅😄😄😄😄😄', 'dissaponit', 'jil', 'suprb', '3gp', 'meanwhil', 'decentcamera', 'awesomesound', 'awesomeno', 'lagsnot', 'problemr', '14000must', 'notecamera', 'extrordinari', 'proposit', 'productaft', 'flote', 'here', 'chrge', '3:15', 'mintu', 'hamg', 'black4', 'stop6', 'resatr', 'hand9', 'cardpros-', 'experince2', 'too4', 'so6', 'faster7', 'iin', 'plees', 'badov', 'worthveri', 'backupb', 'processorc', 'speakerd', 'camerahigh', '2kmah', 'osther', 'softwarecast', 'workcontact', 'lenovothey', 'resolvedhigh', 'crashesh', 'dec', 'trend', '⭐⭐⭐⭐⭐', 'k5on', 'soap', 'compulsori', 'impossibleif', 'boxpro', 'sounddisplay', 'rangebatteri', 'goodbodi', 'betteroveral', 'marketplac', 'worstpurchaseev', 'alik', 'abund', 'poweramp', '/dual', 'edgesh', 'meek', 'dosesnt', 'alsoo', 'sooper', 'er', 'featureszijn', 'product-', 'in-between', 'bauth', 'glitter', 'bitter…cast', 'workrestart', 'willa', 'jokemani', 'jaw', '6camera', 'modeno', 'lagmain', 'atmosbest', 'itcon', 'backupit', '3000mahnot', 'cerema', '2:10', 'suffieci', 'heaterveri', 'fasna', 'lenovoh', 'theatric', '150min', '50-100.', 'bck', 'attn', 'absenc', 'naiyara', 'mohammad', 'minnatullah', 'advoc', 'patna', 'abscent', 'osem', 'goodnoth', 'newbor', 'heatingwhat', 'wild', 'scrap', 'used/phon', 'found1', 'issues2', 'naugout', 'eseilyhang', 'difict', 'backupmediatek', 'optimizedpoor', 'issuesand', 'phas', 'lanch', 'monthi', 'problemnow', 'nowit', 'blowing👌👌👌👌👌bi', 'workingwhoev', 'monhh', 'sri', 'pro:13+5mp', 'cam,13', 'lowlight', 'whn', 'goodworth', 'ot', 'jahnu', 'shukla', 'regrat', 'minutehang', 'lotbatteri', 'proffession', 'displaycamera', 'price10', 'issuecon', 'wind', 'latebuilt', 'notenot', '11999/-', 'lenovowould', 'infrom', 'compant', '16/09/17', '19/09/17', 'earliestaft', 'compla', 'fingr', 'madeup', 'mutipl', 'hours/minut', 'chutiya', 'banan', 'airt', 'mistakesbad', 'k-5', 'k-8', 'notesum', 'expext', 'chnage', 'notepro', 'holdcompar', 'allconsno', 'comparong', 'clicksi', 'mybworst', 'daysbut', 'agaian', 'kiab', 'dar', 'orbatteri', 'asay', 'khatam', 'hso', 'film', 'exalt', 'shud', 'errorwast', 'recordinggoogl', 'usecamera', 'qualityscreen', 'timeprocess', 'smoothlywat', 'effectphon', 'gorilaglass', 'knock', 'ident', '24×7', 'ghe', 'sometimesabrupt', 'instagra', 'oth', 'deewali', 'vulner', 'cracki', 'wash.', 'pricegood', 'priceth', 'expeci', 'tocuh', 'extrac', 'product👎👎👎👎👎', 'anycast', 'chocol', '30bje', '9450283097', 'coffe', 'cup', 'hungri', 'chahe', 'submot', 'dunt', 'nagat', 'performancebut', 'lakh', 'gamesther', 'goodther', 'geekyranjit', 'menu4', 'results5', 'day6', 'fastly7', 'spelling8', 'probe', 'kamiya', 'ok2', 'ok-ok', 'raat', 'andere/black', 'kamr', 'kali', 'karega', 'farak', 'pada', 'hote', 'hong', 'contacts5', 'gallery6', 'manaual', 'padt', 'dekh', 'bahiyo', 'aapki', 'marji', 'kishor', 'disguest', 'everrrrrrrrr', 'dexacor', 'trustabl', '12/10/12', 'diflect', 'follows1', 'modar', 'confusing4', 'okoth', 'moneysmooth', 'touchclear', 'picturesometh', 'camerabut', 'supebbbbif', 'workingdisplay', 'touchcamera', 'lightstock', 'assistantgreat', 'mobiiiiiiiiil', 'drainfast', 'csll', 'nott', 'problem1', 'vedeo', 'charging5', 'game6', 'fasteith', 'hood', 'whait', 'dolbey', '13998', 'arrow', '5/5it', 'pooor', 'oili', 'creation', 'bandwidth', 'hor', 'reguir', 'it😍', 'phonen', '14kreturn', 'movil', 'superbbbb', 'hangfre', 'player3', 'button4', 'featuure5', 'export6', 'batterey', 'expectedand', 'missingoveral', 'bad1', 'tonn', 'headphones/speak', 'nahhi', 'samth', 'proceccor', 'prdkt', 'kseri', 'commend', 'heating\\\\2', 'mark,3', 'cameraov', 'mee', 'thim', 'adwan', 'lee', '4000mah2', 'desadvantag', 'perdefin', 'sotwar', 'workingtot', 'displayi', '11,999.', 'outside3', 'ringl', 'a60004', 'great5', 'ramhd', 'anafford', 'supp', 'okayish', 'mobilenot', 'non-stop', 'sys', 'toolbar', 'struc', 'phonehappi', 'servicefeatur', 'wellal', '40percent', 'frill', 'cleardolbi', 'procesar', 'clarati', 'centrepleas', 'igt', 'waste/', 'selectiom', 'ashok', 'starscamera', 'starsperform', 'starsbatteri', '2starssound', 'starsturbo', '5starram', 'starsslight', 'issueon', 'lightno', 'buttonsov', '25sept', 'anf', 'packedveri', 'superman', 'fli', 'backregardsrgkolh', 'compris', '28-04-2018lenovo', 'slightest', 'wicket', 'bowl', 'inflat', '😢😢😢', 'rqst', 'respos', 'blanchard', 'launchr', 'noteinstruct', 'minextra', 'weigh', '3gsoverh', 'varianti', 'dowanload', 'adob', 'lightroom', 'snapse', '😈😈😈😈mi', '☠️☠️', 'phonecharg', '31/12/2017', 'chromcast', 'obtain', 'heandset', 'admiss', 'trai', 'levano', 'yaha', 'jayada', 'pai', 'unka', 'hamaray', 'hamari', 'sabhi', 'samjkar', 'karay', 'warna', 'aapnay', 'khrid', 'aayi', 'amazon5', 'cleartiti', '2600', 'account-fak', 'dsp', 'pandiyanthi', 'recard', 'inbild', 'ect', 'secwhat', 'happand', 'broblam', 'delayiam', 'same-day', 'trustworth', 'credibl', 'custol', '/camera', 'laggiest', 'proccesor', 'betti', 'average2', 'ok3', 'okmi', 'irrelev', 'performancelook', 'potato', 'hoopla', 'vow', 'notori', '14/3/2018', 'awesomecast', 'workingrear', 'badhead', 'haaammmm', 'glich', 'bsnl', 'tatch', 'bateer', 'charj', 'properi', 'buler', 'wolluld', 'cameraandveri', 'regarsthankssantosh', 'rbt', 'looksgood', 'lfeworth', 'fond', 'himobil', 'complaintmobil', 'heatcamera', 'lowheadset', '₹2000', 'picasa', 'amateur', '5inch', '65.', '14,000', 'futurea', 'warm/hot', 'bulk', 'ienova', 'lookful', 'cameraful', 'processorful', 'glassful', 'allful', 'callimg', 'hoursbatteri', 'hourbatteri', 'indicatecamera', '😂😂😂😁😀', 'heat/temperatur', 'ondevic', 'enclu', 'egg', 'amlet', 'mi-a1', 'bzo', 'sellec', 'vise', 'preactiv', 'ligh', 'userfriendi', 'turbochargepoor', 'itselfbatteri', 'daywhich', 'promisedcamera', 'woth', 'phablet', 'coston', 'chargeit', 'bork', 'aoutomat', 'lab', 'hoursit', 'performancesuresh', 'kumawatbikan', 'rajasthan', '8000mobil', 'onethink', 'itno', 'cameradu', 'disconnectedno', '6-7hour', '16-18', '666it', '702+33', 'taxi', '18000tax', 'upar', 'taxlik', '680', 'itand', '30rs', 'showso', 'secondear', 'remedi', 'sir/madam', 'analys', 'treatment', 'liner', 'better-', 'awasam', 'vvvvvvvvv', 'problemfront', 'goodback', 'averagenorm', 'lifebuilt', 'excellentredmi', 'poorfak', 'stabilitybogus', 'upslow', 'sencor', 'keno', 'lone', 'morov', 'leoavo', '2side', 'ess', 'loghatiya', 'sori', 'mobilelook', 'processorsfak', 'cameraslow', 'lump', 'ratabl', 'inprov', '1200', 'ulta', 'chargingphoto', 'thoug', 'empow', 'dosti', 'kyoki', 'satibl', 'botton', 'btr', 'knwing', 'caz', 'prblmpls', 'mobileif', 'prblmif', 'dem', 'scratche', 'sendor', 'domin', 'tempratur', 'brigt', 'uoper', 'chiken', 'mask', 'fabulus', 'mechin', 'eyephon', 'conct', 'somwhow', 'breez', 'metro', 'nagpur', 'productno', 'chase', '🔥🔥🔥🔥🔥🔥', 'deviceon', 'embed', 'rangeit', 'orderedus', 'drian', 'casting/screen', \"doesn'tlast\", 'brag', 'concamera', 'avaragewarm', 'continus', '10,000', 'aug.', 'heal', '512mb', 'carbon', 'irit', 'bilink', 'hendset', 'slowbatteri', '2000mahno', 'charginghang', 'dost', 'foa', 'lyf', '1display', 'soler', 'eclip', 'writ', 'ithink', 'eveyon', 'peopal', 'earphones/headphon', 'brightnessit', 'browseralso', 'lighti', '100-0', 'iik', 'greatprocessor', 'usingcamera', 'back,2mp', 'front:1ani', 'itself:2good', 'looking:3', 'mager', 'drine', 're-start', 'killerwhat', 'obstruct', 'orr', 'probelm', 'bstteri', '8-10hr', 'multitax', 'equest', 'handlecamera', 'goodintern', 'okh', 'marg', 'bastard', 'antutu', 'geek', '1000/-', 'pre-scratch', 'adapter+usb', 'tinker', 'ugli', 'continusli', 'dust-bin', 'goodcast', 'no1', 'mynphon', 'feom', 'value_of_money', 'wishto', 'laeat', 'crapcamera', 'hanc', 'profomance-', 'backup-', 'reviews-', '4front', 'camera-k8', 'resul', 'hopper', 'happppi', 'qualti', 'impressiveaverag', 'improvedwil', 'cliariti', 'rangesuperb', '4month', 'sleekneg', '40prcnt', 'hazzi', 'mobile😏😏no', 'picupveri', 'heatingca', 'use😠😠😠', 'dammeg', 'whic', 'nesessori', 'explos', 'alreay', 'literarri', '-anup', 'evernot', 'bluff', 'telugu', 'coleti', 'backup👌', 'good,9/10', 'canect', '8batteri', '9overal', '10plus', 'exxcelentbatteri', 'a+++++', 'lighten', 'brighten', 'lightels', 'horrabl', 'givien', 'emphas', 'ticket', 'crippl', 'bad:1.', 'good:1.', 'kyon', 'goon', 'rangeee', 'expectedbatteri', 'mahcamera', 'goodautomat', 'maker', 'stopgap', 'shortlist', 'thinkpro', 'blocki', 'flash+', 'machineri', 'integr', 'e4plus', 'setback', '31st', 'pointsnot', 'saledespit', 'transact', 'button3', 'hardwareupd', 'seconds6', 'rgb', 'lenovonot', 'ever,1', 'show0', '50℃', 'experiencepro', 'scanner-camera', '-support', '4636', 'performance-good', 'management-no', 'issues-good', 'jio-no', '-addit', 'key-speak', 'clear-selfi', 'featurecon', 'button-camera', 'lightn', '-batteri', 'charge-tak', 'off-th', 'scratchi', 'handling-no', 'box-un', 'ido', 'issuefingerprint', 'heatedcamera', 'badtot', 'readyli', 'easlyy', 'phone3', 'volte4', 'supported5', 'fast6', 'scarry7', 'levelnorm', 'cracks8', 'issuesso', 'canera', 'setit', 'brightnessand', 'timealso', 'issuei', 'fifteen', 'kelvin', 'experiment', 'sub15k', 'lill', 'wuth', '3200mah', 'appreciabl', 'drawer', 'yiu', 'lenovo2', 'deisgn', 'merit', 'cost3', 'exotherm', 'liber', 'warm2', 'use3', 'raw', 'so5', 'toch', 'camerath', '8000/-', 'simultaneously3', 'low4', 'textur', 'point-', '___', '4gb-64gb', 'camera____', 'dslr-like', 'depth-of-field', 'purecel', 'f/1', 'phonedo', '50°c', '20000.', 'negleg', 'thislot', 'faced1', 'hrs3', 'purpose4', 'handle5', 'respondingtoo', 'narrat', 'pleac', 'discus', 'defects1', '5-6normal', 'blinking3', 'required4', 'required5', 'bugs6', 'responds7', '4to', '5hours8', 'design9', 'design10', 'cover11', 'quality12', 'back👎', 'conc', 'tiger', 'dog', 'dialogu', 'ihav', '7777', 'notabl', 'patchi', 'mechanish', 'dailer', 'non-ac', 'non-gam', 'features:1.', 'buttons,2', 'recorder,3', 'options,4', 'screen,5', 'amazing😚', 'luve', '12000😔', 'whieht', 'acc', 'gali', 'pakda', '1500ma', 'hangingi', 'somei', 'are1～it', 'feelsi', 'littlei', 'heavy2~it', 'tendsi', 'heati', 'normali', '3~it', 'somth', 'nicwbut', 'isol', 'jazab', '30day', 'launch😅', 'othrr', 'zerostar', 'satisfic', '👌👌👌👌👌', 'almostlenovo', 'boxrear', 'vebrat', 'phonemi', 'gooddo', 'phone😣tri', 'jruri', 'itta', 'gimmicki', 'fitur', 'biffer', '45°and', 'thingsi', 'presenc', 'fabric', 'gazzet', 'mpbatteri', 'slightheat', 'ospro', 'ikon', 'sapc', 'optioni', 'anyview', 'thisheavi', 'weightlow', 'backupearley', 'issuedur', 'fasthang', '2013', 'workingi', 'witch', 'discrep', 'abomin', 'rant', 'senor', 'buyersound', 'missingmost', 'pocketmajor', 'guerd', 'gurd', 'workplz', 'hogaya', 'crach', 'dis-appoint', '7600', 'bluttooth', 'slowlenovo', 'piecesbut', 'notso', 'invinc', 'rendu', '26-9-2017', 'damm', 'moderet', 'meaning', 'communic', 'vvvvvvvveri', '9931292026', 'chariti', 'standead', '235', '05-may-18product', 'ok', 'beri', 'mode2', 'hang3', 'monybut', '5000mah', 'gatiya', 'moneynoth', 'presentbatteri', 'marksoftwar', 'phcamera', 'clearbatteri', '😏and', 'ribbon', 'marknetwork', 'cameraqu', 'inbult', 'chl', 'boooooor', 'mistaketh', '2-3hoursmobil', 'anythingfing', 'working/malfunct', 'loda', 'fal2', 'idlebuilt', 'goodreceiv', 'covercamera', 'averageh', 'phoneaddit', 'dere', 'cooler', 'xiamiit', 'callfrom', 'niether', 'lenobo', 'thousands/-', '📸back', 'comara', 'ossm', 'depawali', 'bock', 'dispatch', 'suspici', 'moneycon', 'must-buy', 'obtion', 'sept.', 'cls', 'fatep', 'kewal', 'haimobil', 'rigour', 'calle', 'leonvo', 'dicijn', 'mujeh', 'gide', '2ndri', 'satisfiedit', 'missingsm', 'bil', 'gum', 'dusra', 'chahiya', 'kyuki', 'krab', 'boycot', 'ver7', 'evid', 'revisit', 'vehicl', 'fuel', 'inject', '12:01', 'finest', 'raini', 'amazonr', 'modem', 'fingureprint', 'doun', 'seriuosli', 'màin', 'mental', 'finehowev', 'letea', 'g4+', '730', 'seat', 'fid', '3star', 'goodheat', 'issuelenova', 'suckdont', 'buydo', 'moneynonrefund', 'astonish', 'kachra', 'sooperb', 'ekdin', 'thora', 'chargebatteri', 'usedid', 'oclock', 'retrurn', 'performancecons:1.', '6000rs', 'yellowish5', 'reset/boot', 'problemheat', 'cameracamera', 'expectedbatterybatteri', 'fastdoesnt', 'earphonesproduct', 'sefli', 'ford', 'bolteheo', 'krupiya', 'dhayan', 'mobilecharg', 'than4', 'hansdet', 'fastly2', 'clicked3', 'timeswhen', 'heaphon', 'overtim', 'achiev', 'goal', 'alonepro', 'aredu', 'chargingdisplay', 'atmosstock', 'fluiditi', 'hollywood', 'arei', 'camerathos', 'nowfin', '1600', 'afterward', 'leti', 'nite', 'hardley', 'expectedh', 'fastcamera', 'okno', 'shortcutno', '3/2', '0/1', 'naki', 'itisnot', 'morvel', 'cast/', 'tvand', 'plesa', 'awwwesom', 'bhejo', 'volet', '-turbo', 'mins-best', 'processor-bett', '4-good', 'useag', 'max2', '11999bodi', 'octcor', '12k-14k', 'loaction', 'markbatteri', 'experiencebut', 'inbut', 'bocm', '-sys', '-so', '-the', 'non-remov', 'appth', 'bst', 'fevret', 'prie', 'protrud', 'heavyin', 'multipurpos', 'blunt', 'shadi', 'backupscamera', 'satisfiedhang', 'sometimesh', 'entrest', 'ishu', 'projector', 'possible3', 'searchabl', 'device4', 'sensort', 'diva', 'oppos', 'organis', 'videos-', 'snapdel', '40degre', 'supportit', 'productthi', 'reviewi', 'thismi', 'fakepleas', 'poooor', 'mobileit', 'survic', 'longlist', 'virsion', 'mobilemlgood', 'puf', 'offcamera', 'portait', 'poorsound/speak', 'consumt', 'power-bank', 'productveri', 'generation/world/planet', 'aka', 'breathtak', '-too', 'lenovo4', 'many7', 'decharg', 'slimmer', 'vol', 'bull', 'strugll', 'alwaz', 'nogut', 'oreio', 'motoz', 'vaat', 'brock', 'anad', 'prose', 'mi4a', 'qualcomm', 'amazonpleas', '6to8', 'sade', 'distributor', '09/08/2017', 'lpoor', 'aso', 'gooddischarg', 'purchased', '14000/-bluetooth', 'supportconnectivity/radiosdata', 'hspa+', 'ltespe', 'mpbs', 'cat44g', 'fdd', '1/3/5/7/8/', 'tdd', '403g', 'wcdma', '1/5/82g', '2/3/5/8and', '20,000', 'shaken', 'bockeh', 'bulr', '650.', 'availbl', 'secondhand', 'suchitra', 'smartphonegreat', 'suppppeeerrrr', 'effectth', 'dafault', 'humili', 'submiss', 'atmos3', 'daylight4', 'managable6', 'cameracons:1', '🔋doe', 'mah2', 'sham3', 'sham4', 'safisfi', 'lightamazon', 'bedfrom', 'onoth', 'paytm', 'mahesh', 'majar', 'devicepro', 'managementdispli', 'soundcamera', 'lightgam', 'defan', 'ilik', 'update1', 'heated3', 'kyun', 'ther', 'chargerear', 'muchfront', 'yrand', '4mnths', 'witv100', 'switc', 'hed', 'gallri', 'optin', 'gvn', 'dntbbuy', '29sept', 'samea', 'niceeee', 'example:1', 'on2', 'up/pul', 'vibration/ring', 'ringer3', 'paper4', 'annoying6', 'gestures7', 'knote', 'stereotyp', 'optionupd', '-:7021734362', 'impressivebut', 'itph', 'heatbettri', 'hahahahahabt', 'itpl', 'ossssssm', 'pricetq', 'sleeker', 'land', 'replacement/refund', 'labori', 'acknowledg', 'evlo', 'adichaalum', 'thaanguraan', 'mnthhsnot', 'farnt', 'lyk', '8oct', 'ptoduct', 'properlyal', 'deepth', 'worthov', 'acchaa', 'denet', 'it😪', 'agenc', 'autocal', 'chlune', 'vadiya', 'osdey', 'beekar', 'tra', 'diti', 'osday', 'laina', 'nalo', 'lifefast', 'processingbut', 'haih', 'acessori', 'ossom', '5,000', 'jionet', 'make/rec', 'provided3', 'in14000', '2picrecuv', 'ward', 'grunion', 'suplier', 'ambinet', 'brokeh', 'fornt', 'decca', 'summer', 'functional4', 'daysi', 'xiome', 'mobilelenovo', 'bugdet', 'everh', 'relli', 'mysid', 'manufatur', 'monit', 'options7', 'speed8', 'time9', 'hog', 'mph', 'life10', 'rod', 'excellent4', 'card5', 'management6', 'optionperson', 'cracked/broken', 'dwon', 'customeri', 'case/servic', '6000.', 'lenovodul', 'networkdolbi', 'plzzzzz', 'earfon', 'satticfi', 'batrri', 'mobileh', 'chargingno', 'suppeer', 'forfoman', 'vorstion', 'btata', 'unsbn', 'sare', '175g', 'noteso', 'productso', 'refundthank', 'uesd', 'trubbl', 'scree', 'dopleas', 'letharg', 'retr', 'somhow', 'assori', '30hrs', 'problam2', 'promin', '2:30', '3:00', 'profom', '0signal', 'lucki', 'avareag', 'tamilnadu', 'aug17', 'lattest', 'chinis', 'phonecal', 'crake', '20/30', 'stops/', 'euival', 'usel', '2201.', 'up', 'advt', 'immidi', '14/09/17', 'techinician', 'pagal', 'keya', '10-1pm', '1:25pm', '3:30pm', 'oooo', 'flipkart-wala', 'until', '2000mahmus', 'bust', 'vundi', 'chargenow', 'chargeat', 'now', 'chargesam', 'mormal', '12-13', 'cahrger', '😞all', 'aya', 'aps', 'nibedan', 'neeraj', 'raikwar94', 'toot', 'hath', 'chutn', 'bechn', 'dikhati', 'khubi', 'rahta', 'wahi', 'batata', 'superrrrrrrr', 'depth-en', 'patches', 'harm', 'gorila', 'signaljio', 'hadbatteri', 'onlyveri', 'doubtphon', 'personnel', 'bough', 'verigoud', 'today,12th', 'theflagshipkil', 'poooooor', 'dileveri', 'appliat', 'app😍', 'selfie', 'meizu', '1/10', 'alreadyp', 'suber', 'pover', 'hedset', 'sigl', 'hittingcamera', 'properlyworst', 'aftersells-servic', 'pda', 'fai', 'backup😙', 'econom', '15999', '58500lenovo', '😎😍😘', 'packuo', 'conditionturbo', '3housrhang', 'scoll', 'october2017', 'theft', 'spellbound', 'clearitiyand', 'theon', 'performancequick', 'backupbut', 'killerturbo', 'coolth', '18hour', 'mobilereview', 'budjet', 'smartphin', 'concept', 'two-way', 'drasticallyi', 'masseng', 'loook', 'thinga', 'elementari', 'refurb', '2017camera', 'bout', 'prper', 'esha', 'satisfactorili', 'island', 'south', 'andaman', 'goodneg', 'goodwatsapp', '4kit', 'videobatteri', 'modeflash', 'powercal', 'wtsup', 'tryi', 'frandlier', 'deliverymi', 'itnic', 'flow', 'lot4', 'effectsinstead', 'beggar', 'shorten', 'static', 'displac', 'connectivityoveral', 'poorer', 'deg', 'improp', 'unak', 'tarfs', 'bandha', 'ake', 'bandh', 'samn', 'vahi', 'chalu', 'jake', 'lavo', 'inki', 'galati', 'ham', 'bhukat', 'impecc', 'theandroid', 'woooww', 'seeit', '144', '240', '80', 'bankcoz', 'somethin', 'sigh', 'wholeee', 'plastici', 'thisi', 'khanik', 'hoa', 'k-4', 'bow', 'cave', 'ridicol', 'complaintsabout', 'timephon', 'misplac', 'resembl', 'stabilis', 'boat', 'heed', 'rangeoveral', 'omelett', 'speedapp', 'quicklygood', 'surfinggood', 'lookingbatteri', 'heppen', 'mobileautomat', 'hangso', 'using2', 'top4', 'enthupros:1.', 'xoami', 'unmark', 'hitens', 'fearur', 'slap', 'smack', 'director', 'joom', 'dhund', 'dusr', 'karvana', 'varna', 'copy/cut', 'cut/', 'supob', '1and', 'looser', 'procec', 'issuesperfect', 'connectivitysoftwar', 'cameravalu', '7to8', 'screech', 'aux', 'febulus', 'undergo', 'wll', 'rrfund', 'kiyakya', 'gai', 'pronounc', 'fastertherebi', 'likegood', 'itslf', 'sometym', 'recuev', 'fort', 'aunt', '😢should', 'pow', 'issuedin', 'pdta', 'neuper', 'ruff', 'atroci', 'turbo-charg', 'micro-usb', 'slow-mot', 'overload', 'purchag', 'krwane', 'laaousk', 'jism', 'khtm', 'itni', 'hwill', 'awhil', 'wasawesom', 'comparedthi', '5or6', 'hangeg', 'favt', 'hidingheat', 'heatset', 'autosuggest', 'car-usb', 'laptop-usb', 'ibgot', 'prodact', '2-month', 'mobilepl', 'shocksphon', 'mobilesdu', 'purchase1', 'solo', 'problemin', 'properlycamera', 'madarchod', 'doran', 'aajata', 'kaan', 'hotehi', 'beatri', 'doc', 'starfront', 'greatsecondari', 'starsbattery-3', 'fastcharg', 'speed-4starsdesign-4', 'starsit', 'featurether', 'lenovoiniti', 'degard', 'lenovoit', '1there', 'stphotosded', 'costumis', 'osmvolte', 'sloteit', 'muchdo', 'curious', 'slote', 'negatives-1', 'falleb', 'upsat', 'closess', 'biig', 'here4', 'onn', 'seenpoor', 'batteryveri', 'chargingslowli', 'functioningheatingnetwork', 'problemnot', 'accesscustom', 'tgus', 'clich', 'phn😀', 'spilt', 'dislpay', 'legit', 'raju', 'rula', 'patak', 'isn', 'thnkful', 'unsatisfactori', 'mourn', 'zabardastt', 'headgear', 'ap', 'charginga', 'aram', '6overal', 'batrey', 'marn', 'bhar', 'batteryhang', 'कैमरा', 'लेकिन', 'नहीं', 'बेकार', 'क्वालिटी', 'डिस्प्ले', 'थोड़ी', 'ठीक', '10/6bakwa', '10/4', 'ahh', 'kesa', 'yrrsurumey', 'faet', 'sey', 'honey', '50min', 'dikhata', 'suru', 'huwa', '5kin', 'karu', 'problm', 'definatio', '7200/-', 'handsetexcel', 'displayfabul', 'qualityexcel', 'backupal', 'rangemarvel', 'smartphonethank', 'phonebett', 'smartphone1', 'recording2', 'quality4', 'poor6', 'option7', 'low8', 'performanceand', 'avreg', '200g', 'phonethank', 'gor', '520', '3/32gb', 'hellothi', 'needfulit', 'superiear', 'dout', '😡😡😡', 'abb', 'stolen😓', 'signel', 'hpi', 'leptop', 'width', 'issueit', 'purchaseif', 'agra', '8077830744', 'frozen', 'purushoth', 'mathav', 'shander', 'productcons1', 'price2', 'nephew', 'for3', '480p', 'properly4', 'well5', 'sometimei', 'lac', 'okther', '1000000', 'weat', 'usage:1.', 'more5', 'killer🤔', 'labour', 'sumsung', 'musik', 'bhaut', 'lagai', 'faida', 'tarah', 'girti', 'superbok', 'discribeh', 'usefor', 'hangbatteri', 'fastturbo', 'lotcamera', 'costom', 'slowmot', 'unmatch', 'receiv3d', 'qwaliti', 'smm', 'supportunst', 'mannerno', 'callservic', 'helpdesk', 'batteryminus', 'sensat', 'hater', 'play-stor', 'thank-you', 'rimuv', '45m', 'chareg', 'fyi', '12999₹', 'bigbillionday', '11999₹', 'regardless', 'awsmm', 'sudakuthu', 'ella', 'ongala', 'nabi', 'vaguna', 'ennai', 'seruppala', 'atiganum', 'prbl', 'coliti', '25-', 'mediat', '2:30hrs', 'averageoveral', 'hw/sw', 'decod', 'hotstar', 'pluse', 'alsoveri', 'dou', 'खूप', 'बकवास', 'आहे', 'chargingturbo', 'effectivecamera', 'averagespeak', 'performance1', 'hours2', 'malfunctioning3', 'malfunctioning4', 'mobile5', 'papers6', 'customerssanjay', 'goenka', 'bravia', \"nov'17\", 'balasubramanian', 'rchennai9840835042', 'invoc', 'dooe', 'wrorst', 'no-coast', 'telephon', 'afteral', 'phone😇', 'govern', 'dalivar', 'lata', '24hour', 'to10', 'problemphon', 'notepurchas', 'amazonwarranti', 'warrantyproblem', 'problemc', 'indorelenevo', 'yashwant', 'plaza', 'cmara', 'kadhu', 'unprotect', 'phoneawesom', 'camerapow', 'coreeveryth', 'pocket😎', 'kioki', 'oweral', 'jae', 'achi', '2017there', 'performancesometim', 'gamesbatteri', 'betterram', 'expectedconsid', 'slugg', 'cristal', 'sleepi', 'sutabl', '5-6hour', 'featuresdrainag', 'nicepow', 'privaci', 'lpove', 'jiovoic', 'sirmi', 'velu', 'completi', 'lunch', '15/20', 'addressbest', 'defecr', 'jitna', 'socha', 'uss', 'santh', 'maah', 'drr', 'lagn', 'dwnldng', 'networknetwork', 'regardsyasir', 'siddique9711193815', 'earlycamera', 'lift', 'name/numb', 'gamer/us', 'batterybackup', 'everyphon', 'devicenetwork', 'missingso', '4this', 'sportearphon', 'verybad', '180gram', 'babjood', 'estem', 'pareshani', 'jaruri', 'fecher', 'neech', 'madhurata', 'dhik', 'dikhti', 'jhurriya', 'kaphi', 'sudhar', 'aavashyakta', 'nazar', 'thodi', 'achchhi', 'abhav', 'defth', 'asardar', 'jalta', 'jiss', 'keval', 'sthiti', 'atal', 'easli', 'maxim', '6hr', 'sarkha', 'nahiy', 'dhoka', 'delegate5', 'etchumbl', 'e5/redmi', 'pbone', 'iiam', 'ues', 'degin', 'degni', 'option3', 'enovo', 'moneybatteri', 'murder', 'verymuch', 'sapport', 'whiter', 'anythingw', 'issuethey', 'stuffpleas', 'excellentprocess', 'nicebut', 'buyers:1.', 'strand', 'hangs-up', 'queries/issu', 'dispos', 'regardscertifi', 'vrygood', 'pethet', 'kmi', 'buylt', 'k3/k4', \"con's-\", 'rectangular', 'heavier-', 'a/c', 'connect-', \"notepro's-\", 'them-', 'coordinationi', 'betterbut', 'badbut', 'outstandingno', 'gaminga', 'soundno', 'cameragorilla', 'galss', 'productbest', 'featurestoo', 'frend', 'batt', 'purcheser😕', 'me🤔', 'vetnom', 'yesit', 'voltecamera', 'vibei', 'vibebut', 'seriesnot', 'repurchas', '25kbut', 'performancestock', 'damg', 'concret', 'qualitycon', 'heatingcamerabatteri', 'p70', 'begun', 'suddenly4', 'handphon', 'availbel', 'heatingstylishmetallicbatteryfhd', 'displaycon', 'productsinc', 'etcvisit', 'uinabl', 'mailmi', 'recommenddo', 'satisfiedpleas', '😀😀😀😀😀', 'ghatya', 'k5vibejust', 'lookinghav', 'muchotherwis', 'hower', 'weari', 'amz', 'returnd', 'lengthi', 'multi-task', 'gun', 'afetr', 'odd', 'valueth', '50.', 'armour', 'snappi', 'obscur', 'sheer', 'ktm', 'appeas', 'throttl', 'torqu', 'tuneup', 'nahin', 'paforman', 'dayscemera', 'vudeo', 'worl', 'hire', 'feak', 'frode', 'plze', 'establish', 'markoptions/featur', 'verient', '7gb', 'productbutiful', 'cameralong', 'batteryhigh', 'prosis', 'tempur', 'depht', 'cavreg', 'problemov', 'midiatec', 'featuresand', 'amaxon', 'slowveri', 'connectivity-sup', 'pea', 'engag', 'consadv1', 'hanged2', 'gradual', 'phones5', 'okdisadvantages1', 'ofcours', 'desire2', '3000/3500', 'samei', 'configer', 'bestif', 'thankssss', 'valuat', 'worksno', 'expos', 'a1subscrib', 'asdc', 'complian', 'copyi', 'cousterm', 'netflix', 'visual', 'amplifi', 'unintent', 'custmor', 'productcan', 'auto-bright', '2017-', 'connet', '24/01/2018', 'chargingbut', 'grmperform', 'disadvateag', 'chois', 'heve', 'tovveri', 'indirect', 'satisf', 'camerabad', 'youtubebad', 'nope', 'halpi', 'toda', 'miln', 'shaprat', 'mentioin', 'thw', 'situationi', 'averageotherwis', 'vist', 'absul', 'jabrdast', 'konsa', 'buhat', 'kurab', 'sal', 'kabi', 'maat', 'clreariti', 'mistec', 'encourag', 'fraudul', 'sprnding', '50gb', 'gehdjdid', '30-100', 'look3', 'imprint', 'was-do', '-turbocharg', '25day', 'volti', 'temperaturego', '44-45°c', 'gadgetbut', '👌👌👌👌', 'cute', 'heat-', 'tall', 'broad', 'latenc', 'hoto', 'centuri', 'show/told', 'skinni', 'backupsingl', 'phonesecond', '2017now', '5000rs', 'dine', 'margin', 'letdown', 'diseas', 'unpredict', 'oblivion', 'poordisplay', 'misbehav', 'toooo', 'okspe', 'fluster', 'excellentbatteri', 'sat', 'k8…and', 'karain', 'formal', 'trouser', 'meditek', 'faltuh', 'taggicharu', 'pros-', 'unibodycons-', 'btteri', 'percent2', 'whats-app', 'insidenow', 'muh', 'nowveri', 'nop', 'failures/set', '👎😕🙁😏😓', 'observationsprosfast', 'chargingspeakerconsveri', 'timesveri', 'windi', 'incal', 'jiska', 'deti', 'naya', 'thaa', 'kaach', 'bikhar', 'hoshiyari', 'batati', 'kre', 'aurpattern', 'haiquick', 'haa', 'auro', 'thrown', 'smar', 'goodcharg', 'backup7-8', 'reviewmeet', 'cope', 'precaut', 'goodweight', '💀killer', 'prais', 'curabl', '👌👌👌👌👌👌💗💗', 'byjuli', 'performnc', '2018wast', 'qualitybut', 'wifegreat', 'priceamaz', 'itbest', '5note', 'amazoncamera', 'backbatteri', 'lenovogood', 'buton', 'ringtoneand', '4gcompar', 'hez', 'lostthi', 'manger', 'uncomplet', 'glove', 'missd', 'anna', 'salai', 'hcl', 'becus', 'normalcamera', 'samrt', 'panelbatteri', 'worth😍', 'noughgat', 'somebdi', 'seenor', 'useda', 'thia', 'gamesworst', 'mali', 'downward', 'runnung', 'chrom', 'khelt', 'bax', 'ghhh', 'drink', 'pdoduct', 'ossam', 'multask', '😍😍😍😍', 'promoting/sel', 'breaker', 'strenth', 'pakka', 'breakabl', 'pricework', 'mi-not', 'workhors', 'un-satisfi', 'simil', 'torrent', 'badback', 'nadu', 'w/o', 'solicit', 'abail', 'ane', 'kan', 'jal', 'app/sit', 'emei', 'returned/replac', 'fame', 'hot-spot', 'butwat', 'supprab', 'j7pro', 'j7max', '😇😇😇😇', 'hur', 'rhii', 'lgaa', 'karan', 'gyaa', 'bda', 'hutiyaap', 'lgaaa', 'sasta', 'enugh', 'vthis', 'atmi', 'bitmin', 'absorb', 'heatfingerprint', 'uneasi', 'inter', 'buyyy', 'oldest', 'o/', 'gaurd', 'camerafront', 'keyno', 'realist', 'gose', '45min', 'exes', 'charginh', 'vostro', '1510', 'wierdo', '1500/-', 'helluva', 'summari', '5000k', 'amin', 'chargedu', 'hourh', 'clearphon', 'evren', 'andbatteri', 'interior', 'kerala', 'camerathough', 'productexcel', 'ded', 'vastlycal', 'extra-ordinari', \"doesn'tget\", 'interchang', 'countiu', 'initiallyveri', 'passag', 'handal', 'fraction', 'it👍', 'jalandhar', 'int', 'critic', 'rangegood', 'flashwith', 'upno', 'issuelatest', 'reserv', 'consgalleri', 'missingthem', 'chargingmus', 'missingspe', 'antivirus', 'missingcamera', 'expectedin', '28000', 'sign-in', 'lid', \"call'sear\", 'theresend', 'updateno', 'orgin', '-cons1', '-20', 'cover-although', 'sweati', 'battery-when', '6pm', '12am', 'disrupt', '-4/5', 'cam-again', 'ashen', 'monochrom', 'squint', '🔈speaker', 'noteit', 'disapoaint', '5😢😢😢do', ',02may', 'oct2017', 'workingbut', 'jugaad', 'dude', 'nav', 'eject', 'plzzzzzz', 'krlo', 'lgatar', 'bachti', 'bss', 'isliy', 'zada', 'bsss', 'apki', 'mrzi', 'bta', 'smjho', 'qki', 'pta', 'han', 'sawal', '7007441140', 'properlyth', 'properlypl', '8540/-', 'mediateck', 'mortif', 'speedet', 'exec', 'itz', 'q465', 'rijalt', 'averagebateri', 'bakra', 'batteryworst', 'cameraworst', 'compli', '3mont', 'issues:1', '5500', '50percent', 'phoch', 'effectwhil', 'worthabl', 'even15', 'edm', '🙌🙌🙌🙌music', '3g/4g', 'quarliti', 'manish', 'requestthank', 'concernproduct', 'bjt', 'glue', 'buyingpoor', 'vibek5', 'screecast', 'badd', 'pricepoint', '8390900228', 'nentwork', 'goodfront', 'drown', 'fastotherwis', '650', 'superrr', 'disappointedi', 'squek', 'frighten', 'just', 'jordar', 'btw', 'curiour', '-cheatinggggg', 'lteso', 'nonth', 'sohnd', 'powerk8', 'pkys', 'hereand', '0/5', 'condion', 'mornng', 'propor', 'suugest', 'amazonnot', 'volteveri', 'microtec', 'khtam', 'iast', '13900', '350', '4000mha', 'pastic', 'dissopoint', 'goodus', 'gooscast', 'jindegi', 'guilti', 'rapchik', 'lai', 'bhari', 'teami', 'bot', '_4000but', 'ismor', 'lenevok8', 'fleaker', '5-star', 'doot', '5000/-', '30-09-2017.', 'viewer', 'gret', 'awosom', '11th', 'usefast', 'cpudual', 'cameraveri', 'prosnear', 'launcherdolbi', 'sound4gb', 'ram5', 'displayconsth', 'swap', 'rohil7736832940', '2000rs', 'aloneam', 'noticed,1', ',2.', 'reckon', 'purchasedcontact', 'vanishdo', 'mirroringno', 'otgno', '900', 'ok/ggod', 'serial', 'mineus', 'perfmanc', 'clearanc', 'yaaaa', 'waterproof', 'fastlysystem', 'requiredhang', 'cameperform', 'storagene', 'effectoveral', 'dayradmi', 'nota', 'deda', 'jim', 'cutso', 'me😞', '13000.', 'dubl', 'fentastik', 'selfish', 'bedfirst', 'productdo', 'cmra', 'app2', 'available3', 'issues4', 'set5', 'usable7', 'available8', 'working9', 'display10', 'crime', 'display/sound', 'were:1.', 'mice', '₹12,999', 'andoird', '30percent', 'unwil', 'reosnabel', 'guna', 'echo', 'rahega', 'apna', 'sudhaar', 'glassi', 'screenin', 'indirapuram', 'nitin', 'joshi9873551974', 'phonesdesign', 'appealingdaili', 'glide', 'rail', 'averageselfi', 'prosesar', 'my', 'worth-ful', 'bougtht', 'anil', '9849468855', 'viz', 'yesterday-21-04-2018', '4200', 'opprat', 'gamin', 'blip', 'allround', 'denger', 'connectivityin', 'recoveri', 'unfit', 'disoppont', 'verrrryyyyyyi', 'intrupt', 'it2', 'believe3', 'great4', 'downbest', '420.', 'showroom', '6moth', '☺️but', '1-jio', 'montg', 'resend', 'mode3', 'sound4', 'further5', 'selfies6', 'updates7', 'atmos8', '1902-2', '9990', '4850', 'suresh', 'bahout', 'grmavat', 'hhot', 'krat', 'hka', 'bachwa', 'batwa', 'exercis', 'suicid', 'goodbt', 'muncip', 'monsoon', 'climax', 'nail', 'buspro', 'android13', 'atmosless', 'heatingvr', 'modecon', 'updatesnorm', 'blasterbatteri', 'consumingfin', 'otherspl', '1500-2000', 'attitud', 'dolbyatmo', 'vinod', '43-degre', '1-all', '2-play', '3-call', '535', 'unginat', 'firbhi', 'tuta', 'patthar', 'pee', 'gir', 'aadh', 'gyzzzz', 'bichm', 'kbhibhi', 'cameraand', 'lest', 'poweful', 'befor', 'gash', '128gb', 'feautr', 'amazonpolici', 'immers', 'performance2', 'lasting3', 'feel4', 'superb5', 'notebut', 'switchi', 'chargingfront', 'cameranot', 'fineconscal', 'fastslow', 'chargingh', 'rangewith', 'needsthank', 'amazonthank', 'leno', 'nat', 'werst', 'blurrish', 'littlebit', 'notificationl', 'palac', 'beliv', 'synch', 'plug-in', 'button/hom', 'gnetwork', 'usas', 'bdhiya', 'goodproblem', 'prect', 'dissplay', 'rong', 'cammand', 'phenomenondepth', 'satisfactorynot', 'applevideo', 'incrediblesom', '1overal', 'optionvoic', 'goodpictur', 'lenvovo', '4ram/64rom', 'senc', 'purfect', 'thrill', 'supercharg', 'cote', 'nownorefundoptionform', 'sethu', '4or', 'organ', 'samecontact', '9167256825', 'candid', '11,900', 'snapper', 'backdraws1', 'class4', 'lotttt', 'hangand', 'ntg', 'moneybrought', 'warrantylenovo', 'guidanc', 'kishorekhatua890', 'comthank', 'smartphoneveri', 'purches', 'returnbl', 'suffar', 'waw', 'found:1.', 'headphone2', 'bettrylif', 'reveiew', 'displayveri', 'phoneyou', 'camera+', 'badnot', 'hisar', 'haryana', 'serviceveri', 'prosdual', 'camerasepar', 'cardhug', 'assess', 'mult', 'ovet', 'this-1', 'netpack', 'commerc', 'krck', '27/08/2017', 'jao', 'dikhta', 'waisa', 'intermed', 'diffculti', 'sice', 'gooddesign', 'averagecon', 'indeedgood', 'performanceno', 'taskingfing', 'fastalthough', 'expectationbatteri', 'delevard', 'heatingus', 'greatespeci', 'amazingon', 'worstttt', 'partial', 'wellbut', 'returnand', 'smrt', 'namesak', 'baddest', 'gard', 'goodpic', 'usingloud', 'lay', 'bharilenovo', 'burn-in', 'missbhav', 'anabl', 'finr', 'onboard', 'spacebut', 'pace', 'awsmmee', 'weard', 'k5plus', 'qualityfront', 'displaydolbi', 'superif', 'bullet', 'darshana', 'superbno', 'heatinggood', 'qalitybut', '3-4hour', 'arous', 'spite', 'employ', '2-3hr', 'slowi', 'moth', '1603/-', '13999/-do', 'decta', 'distract', 'beta', 'info', 'million', 'processor😘😘', 'expectationslet', 'durabilti', 'amd', 'supercast', 'leke', 'pachatava', 'chargingcamera', 'okish', 'cameraselfi', 'wastespe', 'trapit', 'suppper', 'cherg', 'goodest', 'cheapbut', 'screen2', 'hide4', 'updown', 'notvolt', 'issuelenovo', 'therea', 'worsen', 'fineth', 'punda', 'recordingand', 'onk4', 'thisor', 'baddrain', 'of1', 'compass3', 'screen4', 'cleaner', 'dammag', '5/5batteri', '5/5sound', '5/5display', '5/5front', '5primari', 'upgrade:1.', 'plant', 'zombi', 'heatingfast', 'nowdaili', 'hoursi', 'cameraspeedi', 'processorstock', 'uiconsbatteri', 'markdrain', 'fewer', 'haphappi', 'enjoyablecons1', 'performing2', 'minutes3', 'processorpoor', 'ramsound', 'loudnot', '4pro1', 'lund', 'daysbatteri', 'excellentus', 'goodfing', 'fastdid', 'phoneperform', 'givenno', 'barsound', 'oknetwork', 'immediatelybecaus', 'reg', 'sasikumar', 'availablebut', 'competeh', 'gorgeous', 'wheater', 'dut', 'inc.', 'lifeeffortless', 'grainyjust', 'dranag', '15/5/2018', 'beytari', 'redmi4', '3gd/32gb', 'battery10', '/an', 'hourwhil', 'url', '9/10batteri', '9/10game', 'etcsound', 'effectdisplay', 'qualitycharg', 'nonlag', 'thisfrom', 'outeramazon', 'outer', 'cooper', 'note8', 'mau', 'shortout', 'certificate/', 'enclos', 'ears👂', 'throughout', 'lenovok', 'begain', 'previou', '-when', 'respon', 'issuemay', 'kundo', '👿👿😤', 'tavar', 'failsand', '65-70', 'missinggreat', 'lagsno', 'screencamera', 'goodram', 'properlywast', 'butcash', 'creditoff', 'nam', 'frod', '30sec', '64intern', 'mangalthakur', 'mein', 'rehta', '9711067762', \"did'nt\", 'quicki', 'and/or', 'whe', 'procudr', 'overwhelm', 'usef', '2000.', 'extract', 'ineffect', '-95', '-105', 'dbm', 'guyslisten', 'ok-ish', 'lotta', 'aircel', 'there', 'stand-bi', 'lotz', 'ion', 'camr', 'phoneearphon', 'slimhandylook', 'operationbut', 'carmera', 'weekawesom', 'worthdual', 'awesomeprocessor', 'mach', 'okit', 'charginggo', 'helpless', 'tolrat', 'camchalu', 'coolplay', '7_8', 'hourcamera', 'qualityfing', 'properlyturbo', 'complit', 'ringtones4', 'orderd', 'temt', 'primarili', 'flexibl', 'milki', 'meeting/sil', 'meeting/confer', 'noooo', 'ride', '-ve', 'onl', 'plss', 'plsssss', 'pleaselisten', 'lenovok8istheworstbook', 'skype', 'thoo', 'resort', 'on😬😡', 'recommened', 'workingsuggest', 'biometr', 'okjio', 'issuepathet', 'amazonveri', 'cantact', 'reckless', 'backend', 'castl', 'price😃', 'owsam', 'whr', 'boxheadfon', 'jastlaik', 'naw', '13januri', 'miss-cal', 'chaln', 'exang', 'comind', 'cheep', 'proccer', 'porfom', 'whencharg', 'outputno', 'goodsound', 'goodcam', 'extraneri', 'diliv', 'customisationbluetooth', 'rangerar', 'surfac', '7000/-', 'jldi', 'fhon', 'forcebl', 'plse', 'selif', 'keyword', 'phoneca', 'phonehit', 'ranh', '6,7', 'tomorrow', 'dikh', 'panal', '+64gb', \"jan'18\", 'prblmguy', 'gsv', 'rs,14k', 'ritarn', 'againveri', 'duli', 'recignis', 'miser', 'workingcast', 'workingnetwork', 'problemoveral', 'satisfiedreturn', 'pick-upstil', 'verr', 'bakp', 'nise', 'desgin', 'kiler', 'simcard', 'dought', 'problemyellow', 'camerahang', 'allmost', 'hain', 'divai', 'capciti', 'differentlast', 'performancecamera', 'watev', 'grossli', 'consumptiom', 'dorect', 'figer', 'boton', 'exal', 'shutabl', 'wastephon', 'luckliy', 'espect', 'slept', '81℅', 'woke', '58.', 'manufacture', '5,6', 'hoursand', 'simcamera', 'conduct', 'xpectat', 'vision', 'laxmi', 'puja', 'subdu', 'reviv', 'on28th', 'reshmi', 'cornial', 'chutiy', 'lifespan', 'dmg', 'seam', 'expectedprossd', 'slotmedia', 'buttongood', 'flashgood', 'displayfast', 'scannerconsheavi', '180g', 'updatepoor', 'graph', 'nokiai', 'offcharg', 'cymerabatteri', 'opit', 'outof', 'generalis', 'greatrest', 'spl', '7month', 'bthe', 'drawaback', 'teeth', 'contest', 'continuouslyh', 'nougatso', 'like1-', 'issues2-batteri', 'rate3-fingerprint', 'responsive4-l', 'perfam', 'mi/redmi', '64-bit', 'successfully', 'options1', 'device2', 'files3', 'videos4', 'files5', 'wordi', 'peaopl', 'gige', 'usagefirst', 'cheera', 'todaybut', 'performancescreen', 'hasdolbi', 'settingsbatteri', 'soltion', 'updatesthough', 'hasnt', 'yellowliesh', 'usedfor', '10hour', 'moneydo', 'papersnot', 'physicalpoor', 'tuffon', 'lenovo/googl', 'wantsnot', 'excellenttop', 'marketexcel', 'featureal', 'phonep', 'hkuch', 'puran', 'vali', 'review2', '26-', 'onlyit', 'rigor', 'teach', 'reps.', 'sove', 'kareng', 'uthata', 'shuold', 'demond', '6500', 'amongst', 'highlights:1.', 'great-', 'apt', 'designsoftwarestoragemus', 'keydolbi', 'atmosvr', 'experiencefing', 'sensorgoogl', 'assistantded', 'slotscon', 'weightpoor', 'backupdisappoint', 'cameralot', 'softwareseven', 'issuebatteri', 'fastlenovo', 'phone😡😡😡', 'procces', 'tume', '👎👎👎👎', 'reagrd', 'pritam', 'shambharkar', 'itmob', '9923294166', 'disconnec', 'strong/loud', 'cust', 'twicebut', '-deca', 'feather', 'techniqu', 'bubblesheet', 'prossec', 'badbad', 'lenovobuilt', 'okus', 'yesbatteri', 'greatcamera', 'vlogingsom', 'nil', 'pink', 'purpl', 'suggestabul', 'aachha', 'gudfin', '😍😍😍😍😍😍😍😘😘😘😘😘😘😘😘😍😍😍😍😍😍😍', 'snart', 'fedup', 'connevt', '11990.', 'productmobil', 'centeralso', 'prof', 'headseat', 'ejuct', 'business/person', 'untweak', 'longish', 'kumaresan', 'note5', 'batteey', 'disgrac', 'craft', 'revis', 'contemporari', 'redempt', 'gazab', 'faddu', 'nhiii', 'bdiya', 'product1', 'hrs2', 'whatsapp4', 'properly5', 'followup', 'vibebad', 'mobile', '-sk', 'hasan78696', 'krao', 'daysfirst', 'goodturbo', 'bus', 'unsupport', 'uninstal', 'install/uninstal', 'aweom', 'goooooood', 'retriev', 'turbochargerapart', 'phoneeven', 'videossnipp', '14cm', 'awesommmmm', 'aashiyana', 'privat', 'limitedsold', 'everyfast', '47c', 'awesomebatteri', 'fantasticne', 'gear', 'interupt', 'unibodi', 'itthank', 'beahaviour', 'handlingpros:1.', 'resistancecons:1.', '699/-', 'expected7', 'feature-wis', 'gouri', 'manohar', 'disappint', 'spendin14thousand', 'qha5', 'ohon', 'everag', 'evertim', 'reslolv', 'garmin', 'ant+', 'naysay', 'neeed', 'khuzema', 'baaki', 'whast', 'easilyh', 'gudlittl', 'problemturbo', '20/06/2018', 'faced:1', 'talking2', 'headphones3', 'reviewss', 'barbadi', 'bharn', 'fast,4000', 'fluke', 'client', 'mmmm', 'notegood', 'storagedu', 'newtwork', 'averageha', 'problemfing', '3-5', '👌👌👌👌👌👌👌👌👌👌👌👌👌', 'backuphang', 'noteno', 'screenshotno', 'barno', 'fingerprintjab', 'sakta', 'unko', 'notebatteri', 'minutesno', 'note9', 'backuplook', 'excellentotherwis', 'loverotherwis', 'feasibl', 'fingur', 'scenser', 'prosidur', 'phohe', 'smooth3', 'hot4', 'offamazon', 'anymoredo', 'markturbo', 'workingth', 'lick', 'diagnosi', 'cera', 'goodnois', 'reduct', 'heatrear', 'gamingani', 'sharp6', 'properlyon', 'peach', 'esm', 'chiefer', 'hospot', 'features❤️lov', '✌️✌️✌️', 'multitaskingcon', '-audio', 'sugeest', 'siliguri', 'happyeven', 'close2', 'work3', 'show4', 'heat5', 'problem6', 'show7', 'day8', 'xender', 'magnifici', 'isveri', 'layr', 'improvemnt', 'totay', 'haveput', 'secend', 'his/her', 'improvis', 'exhibit', 'dr.', 'prajith', 'verav', 'gujarat', 'verev', 'backup-1-1', 'gamesusp-', 'badupd', 'memi', '9:30', 'mare', 'annual', 'issue1', 'again2', 'connectingin', 'shift2', 'sound3', 'app4', 'preventionwast', '2012.', 'lowest3', 'night5', 'mode6', 'ore', 'plsa', 'neglig', 'preeti', 'thatmay', 'boli', 'gae', 'avi', 'millano', 'becasu', 'lvd', '28jan', 'highet', 'experiencescons1', 'prosmobil', 'x-play', 'cricket', 'tilt', 'bunch', 'pircjas', 'par,2', 'footprint', 'idea/jio/vodafon', '110-130', \"launchpro's:1.\", 'build,2', 'operation,3', 'out', 'audio,4', '12999.', 'teamthi', 'sequenc', 'contrapt', 'acceptablebackground', 'minnor', 'scrapproduct', 'xlent', 'prodict', 'nanocot', 'bent', '13,000/-', 'fucher', 'thanmoto', 'reiter', 'lenovao', '107', 'initiali', 'gorial', 'drope', 'hieght', 'udpat', 'specvolum', 'zerone', 'inbox', 'reign', 'tec', '…mi', 'monthsther', 'issuecamera', 'occassion', 'ladi', 'waooo', 'discusst', 'proces', 'amazon/suppli', 'starhug', 'heatingfals', 'atxa', 'thish', '10800', 'overhyp', 'rlli', 'dsle', 'nowon', 'workingamazon', 'ringet', 'timefram', 'vyawastha', 'custem', 'inkar', 'krte', 'cheatedi', '825.', '16-24hr', 'hot2', 'bueati', 'rap', 'carbag', 'bag', '☹️nice', '😒batteri', '😊overal', 'pert', 'annoying2', 'usage4', 'points:1.', 'rs15000', 'simplist', 'ostentati', '100.', 'thereand', 'tooon', 'enoughrest', '29-apr-2018', '30-09-2017', '28-12-2018.', 'thankyu', 'noy', 'purcahs', 'beutiful', 'scrinqual', 'betar', 'ovweal', 'spark', 'behigh', 'awesomelov', 'phonepaisa', '200rs', '17000', 'hyster', 'phonememori', 'excellentcamera', 'normalprocessor', 'camera3', 'audiabl', 'whopping10', 'goodprocess', 'veri', 'intl', 'supub', 'atract', '9,999', 'moneybeat', 'fluent', 'gurrilla', '88to', 'ish', 'sucksphon', '1800', '9009', 'amaaaz', 'neet', 'superrrbut', 'broblem', 'lifw', 'phonepro', 'slotsand', '-heat', 'issue-below', 'life-issu', 'endgraph', '13-14k', 'one-two', 'movie/tv', 'suganthan', 'mobi', 'terriblealso', 'unwantedand', 'fudu', 'soz', 'phone🤔🤔🤔', 'niceord', 'dolli', 'bachap', 'lenovomani', 'y😭😭😭😭😭', 'inglenovo', 'continuo', 'ing', '😏nobodi', 'bluf', 'performancebit', 'heavyand', 'handphoto', 'batey', 'problamcamera', 'dameg', 'empoley', 'chaeg', 'dirt', 'thoughand', 'wellit', 'worsewhi', 'resept', 'metel', 'hard-cor', 'shocker', 'pleaseeee', 'brightnesscon', 'instud', 'crome', 'tookov', 'notsmooth', 'quilt', 'mistaken', 'resultwhat', 'recours', 'usagepositives:1.', 'speed3', 'storagenegatives:1.', 'noteplan', '11000/-', 'satish', 'chavhan', '4g4', 'powerpoint', 'stunnsan', 'indepth', 'vimbar', 'extraordinarili', '5and', '52gb', 'enought', 'aim', 'tea', 'keo', 'mi4i', 'lound', 'sweat', 'setisfid', 'probelom', 'heaten', 'disaapoit', 'sentenc', '-•the', '•veri', 'halogen', '•major', '•on', '•depth', '•batteri', 'worth2', 'paste3', '9901', '2min', 'lenovi', 'daysdisplay', 'smoothspe', 'bad4day', 'serampor', 'rcvd', 'myc', 'specsdont', 'jean', '185', 'pokemon', 'famous', 'fourth', 'froze', 'complex', 'coss', 'fsb', 'firstcon', 'walk', 'readings2', 'headphone/earphon', 'less6', 'pro1', 'clarity4', 'verdictfin', 'publicity/market', 'in4', 'brose', 'internet2', 'front4', 'afrer', 'sancer', 'mami', 'okbattri', 'visa', 'unsatisafactori', 'catalog', 'shoe', 'playabl', 'avid', '10-11', 'kurear', 'farod', 'loke', 'phonefeel', 'hotter', 'aval', 'rainbow', \"customer'sfirst\", '45°c', 'luke', 'consfirst', \"doesn'tsom\", 'youoption', 'scrrenshot', 'no-problem', 'hoursno', 'sensor/phon', 'greatbut', 'problemrest', 'lifeit', 'membership', 'stune', 'cons-1', 'sofar', 'goodat', '😣😣😣', '65℃', 'camerafast', 'wld', 'dupe', 'rs8000perform', 'averagemus', 'impressivefac', 'n/w', 'enen', 'pune', '8668434994', 'rangepros-du', 'camera-dolbi', 'atmos-front', 'processor-5', 'good-gorilla', 'coating-turbo', 'chargercons-no', 'speakers-no', 'option-no', 'keysveri', 'shope', 'gha', 'unsaf', 'turbi', 'failurehav', 'weri', 'frone', 'qualitymind', 'supb', 'becos', 'daypleas', 'wroth', 'oneday', 'smartest', 'letv', 'productfront', 'atomat', 'gbno', 'hanglong', 'chargerawesom', 'surpriz', 'onlyno', '41°', 'jerk', 'accesorio', 'disppear', 'pleasant', 'mishap', 'unknow', '2650', 'stole', 'parfon', 'godlok', 'tecno', 'hopless', 'mko', 'kyo', 'phle', 'prblms', 'dekhega', 'payng', 'apko', 'kon', 'doin', 'frds', 'rangeandroid', 'nougatsolid', 'qualityded', 'cardscustomis', 'keytheatermax', 'supportcon', 'quicklyaverag', 'chargedheavyweek', 'gripe', 'aproblem', 'chief', 'dishearten', '4gig', '64gig', '✌️❤️', '01_04_2018', 'compliant', 'index', 'heatingbudget', 'qti', 'gooda', 'directori', 'yah', 'khabi', 'bata', 'kaht', 'karoy', 'play/call/', 'trough', 'senseless', 'password/pattern', 'badlli', 'poormi', 'tmprd', 'glss', 'evn', 'tmpere', 'thnxx', 'relief', 'tomi', '3-5-2018', 'reng', 'aata', 'distrut', 'jda', 'aon', 'krtaa', 'hii', 'jdaa', 'tik', 'houa', 'morethan', 'worstest', '000000000.', 'intarnet', 'quut', 'dwpth', 'supportedno', 'recorderscreen', 'earworst', 'retain', 'delhi', 'exorbit', 'phonefront', 'expdctat', 'may2018', 'unsung', 'hero', '4gbram64gb', 'strg', 'glasstheatermax', 'inbuild10', 'deacaaaa', 'frnt', 'oooooooozam', 'dual2sim', 'upto128', 'scannerdolbi', '😍4000mah', 'savag', 'bundlebatteri', 'problemscharg', 'permit', 'ting', '19k-20k', 'bad☹️👎', '☹️☹️', 'adviceregardsmangesh', 'sellfi', 'reproduction2', 'quality3', 'flash4', 'management5', 'datecons:1', '13999flipcart', 'issuesinstead', 'hander', 'tirbo', 'pecentag', 'substanc', 'expier', 'haet', 'wieght', 'sombodi', 'slate', 'banavo', '6mnth', 'supprot', 'hangl', 'tim', 'betterspeci', 'low/dim', 'soso', 'prod', 'amozen', 'deliveryperson', 'flet', 'addverti', 'a1st', 'reflect', 'disapoint', '25-8-17', 'conferen', 'paradox', 'silenc', 'haour', 'evrag', 'not', 'relev', 'calriti', 'follows:1.', 'transient', 'hair', 'takenit', 'hassal', 'soreturn', '11,000/-', 'probalem', 'onlycamera', 'automus', 'gudvalu', 'inset', 'thislenovo', 'otherthan', 'dismal', 'lenovoal', 'performancemani', 'dayservic', 'night-mod', '9852865839', '64.', \"does'nt\", 'speaker/mik', 'diret', 'sharing/transf', 'bekr', 'lenov0', '9833228989', 'deepak', 'lenovono', 'bluetoothveri', 'timeov', 'problemheavi', 'headsetearphon', 'coast', 'acceseri', '15gb', 'bottom10', 'ult', 'day1', 'muchbett', 'lenovo/amazon', 'shiwn', 'mobileon', 'websiteh', 'chargingnetwork', 'fudduest', 'phoneaffordablequit', 'handytouch', 'awesomecamera', 'goodrecommend', 'dislikea', 'phonegud', 'backupmobil', 'sexythank', '😒camera', '-prosfastconspoor', 'useslittl', 'bulkysmart', 'rearcamera', 'yuphoria', '430', 'procccessor', '👍last', 'androidoleophob', 'glasslet', 'button/opt', 'filemanag', 'gimic', 'hadfon', 'sayingit', 'recordersecondari', 'below', 'reason1-it', '2-deca', 'processor3-nano', 'coating4-dolbi', 'music5-lot', 'bulg', '42958', 'rohini', 'fingerprintbak', 'backuptot', 'applianc', 'reviewappear', 'spandragon', '635', 'coinscamera', '2/5', 'refin', 'cover4/5', 'crispverdict', 'smarkcheck', 'path', 'monthscreen', 'camcustom', 'carr', 'specc', 'warrante', 'abbt', 'thri', 'backupon', 'sametim', 'notof', 'gudet', 'eit', 'quicklybut', 'brief', 'details:1.', 'suspect', 'lagging6', 'someoth', 'xaiomi', 'utilis', '1599', 'amazz', 'eveyth', 'nit', 'costliest', 'orphanag', 'butt', 'deepli', 'lemon', 'cameradislik', 'abhitak', 'rehe', 'joldi', 'mobileandgood', 'battery🔋fantast', 'camera📷', 'qualitygood', 'p1m', 'nosign', 'as1', 'level4', 'phonewaist', 'supportedinbuilt', 'presentsharit', 'foremost', 'phoneeveryth', 'prperly4', 'mark5', 'लूट', 'गया', 'भाई', '1yr', 'compa', 'burger', 'poorest', 'phnnbest', 'lifeexcel', 'performancefastest', '-dedic', 'slot-a', 'key-dolbi', 'enhancement-pow', 'cpu-front', 'good+front', 'flash-compass', 'readymad', 'kernel', 'phone-fast', 'sensorcon', '-dual', 'properly-no', 'range-hav', '-notif', 'app-batteri', 'good-hav', 'issue-build', '-lenovo', 'superslow', 'slot+compass', 'mhv', '2unabl', 'conract', 'abeauti', 'shoop', 'egnor', 'garda', 'refand', 'problameand', 'circl', '32.', 'inlet', 'maggi', 'beard', 'good,1', 'thane', 'plight', 'fucntion', '4+64', '4300', 'batreri', 'chargegot', 'tedious', 'enlagr', 'sirlenovo', 'riski', 'bharat', 'nagpal', 'igyaan', 'wrongmobil', 'sound/mute/vibr', 'renoun', 'metion', 'chair', 'mapsa-goa', 'ass', 'decisio', 'vand', 'phoneheatinghotspot', 'slider', 'complaing', 'chargerthi', 'receivedin', 'maney', '👌👌venom', 'bhaiveri', 'neglect', 'heset', 'picturesso', 'chalana', 'lagega', 'wasnt', 'entri', 'societi', 'visitor', 'endbackup', 'setfast', 'deliverycamera', 'sumsungpric', 'phoneand', 'centresi', 'tome', 'tot', 'speakar', 'katil', 'bagh', 'gs+', 'tape', '30minut', 'thereaft', 'amaezon', '4000+mh', 'cameraspeciali', 'camerawhich', 'burethat', 'onlythank', 'phonebefor', 'camm', 'isphon', 'bekhar', 'komat', 'karido', 'amazonmobil', 'karidn', 'kuchh', 'mobol', 'pervious', 'mandatori', 'repleas', 'pricebatteri', 'quicklyselfi', 'averageportrait', 'sucksi', 'fardo', 'forcestop', 'freind', 'usedolbi', 'usedh', 'duap', 'phonephon', 'spiker', \"phone'sno\", 'recordingspeak', 'featuresdisplay', 'averagephoto', 'averagegood', 'datajio', 'supportout', 'uplift', 'cumbersom', 'introduct', 'unprofession', 'consworst', 'hangi', 'replesh', 'itth', 'rangelast', 'missus', 'impres', '3/5rear', '2/5batteri', '3/5processor', 'average-', 'beautif', 'sharper', 'golf', 'buke', 'pro-good', '¡great¡cons-', 'balckl', 'smother', 'kadak', 'purchasebad', 'parfomanceand', 'ani', 'extr', 'workingphon', 'top-back', '1250', '4000mahso', 'superb3', 'awesome4', 'simwel', 'shiva', '6600', 'exchan', '100killer', 'dupal', 'juz', 'uhll', 'toher', 'bttr', 'fri', 'phenomenon', '44deg', 'toll', 'solvabl', 'consscreen', 'workmemori', 'timesaft', 'dealspow', 'slowthey', 'brokennev', 'quotingcustom', 'awam', 'ntwork', 'receptor', 'permen', 'priceaft', 'hasgood', 'lifeno', 'issuegood', 'displaysom', 'updatewil', 'unbuilt', 'probalm', 'itnern', 'ugrad', 'nono', '😫phone', '😀camera', '0🤣applic', '/mi', '7plus', 'playng', 'brandsnd', 'grand', 'arcad', 'dibrugarh', 'gentl', '20/10/2017', 'sugest', 'thanks🖕', '5-6hrs', '4000ma', 'motog4', 'lifehighspe', 'processinghigh', 'cemeraturbo', 'worst6', 'producr', 'worthlessi', 'buylenidi', 'thiski', 'curtosi', 'ergnom', 'phonebest', 'truecal', 'perfarmec', 'supperbbbbb', 'alsa', '9989', 'conftebl', 'goodwhat', 'inspir', 'easy-', 'play-', 'models-', 'rangeturbo', 'moneyuseless', 'moneyworst', 'cameraoverheat', 'lotsinc', 'productsathish', \"y'day\", 'thnxxx', 'silent/vibr', 'trash/memori', 'setting/opt', 'hotshot', 'inaccur', 'saper', 'scren', 'snapedragon', '12hrs', 'sterio', 'duringcal', 'prolblem', '406-2999907-1285932', 'probl', 'that2', 'blocked3', 'qualitylittl', 'heatingbut', 'is1', 'cpu-z', 'precossor', 'unreach', 'thereno', 'mption', 'recordingno', 'recordingjust', 'motorolla', 'lestest', 'slutter', 'fedex', 'कडक', '3800', 'thst', 'mate', 'systen', 'ador', 'avareg', 'wn-725n', 'alwa', 'practial', 'neget', '6000,6000', '9642783920', 'pricein', 'backupand', 'hotmobil', 'lgq6', 'iii', 'day-1', 'stack', 'uncompar', 'pride', '45degre', 'linoov', 'ovev', 'cameraturbo', 'chargerdesigncon', 'camerasign', 'problemsdu', 'hatsoff', 'exepect', 'distinguish', 'handel', 'guerilla', '4not', 'phoneg', 'onlywhen', 'connectingi', 'issueso', 'possiblei', 'youcamera', 'kahe', 'amoson', '54gb', 'nogat', 'systemperform', 'seen2', 'handly4', 'framedrop', 'september,2017', '20,000.', '22000', 'mobilno', 'productinternet', 'slowhang', 'reslov', 'hasbest', 'hangwast', 'ovar', 'mespeak', 'forcili', 'venovo', 'tion', 'namegam', 'usepro', 'harder', 'signl', 'creepsmak', 'betternext', 'attain', 'sometimeotherwis', 'mobilepleas', 'bouquet', 'dslrs', 'lucrat', 'prima', 'faci', 'gadget-geek', 'likeabl', 'eui', 'anyday', 'vote', 'oxygen-mod', 'devoid', 'lag/slow', 'tread', 'embrac', 'mns', 'mush', 'goodpl', '👎👎👎👎👎', 'inspiet', 'tank', 'becausei', 'offerand', 'andamaz', 'performancetank', 'granni', 'z90', 'thnks', 'krke', 'mann', 'banaya', 'pah', 'bewkoif', 'milta', '3g/2g', '100°/', '3hr', 'midiatek', 'troublesom', 'compens', 'processoron', 'marketget', 'inani', 'rs11999', 'boken', 'worstdo', 'productcharg', 'chargingif', 'minif', 'soonit', 'recordingif', 'phonethen', 'usernow', 'hangther', 'expecat', '👌👌photo', 'camera😍😍', 'vigrous', 'thk', 'minuet', 'comar', 'earephon', 'positive-desc', 'negative-a', 'points-', '-veheat', 'spurious', 'etho', 'paravala', 'momentr', 'durafec', 'issuesbuy', 'recommendedwould', '2500.', 'overr', 'decept', 'peroblam', 'software/hardwar', 'hange', 're-configur', 'thrice', 'recoment', 'bcome', 'garrenty/', 'summeri', 'height4', 'lenovo5', \"has'nt\", '23rd', 'lennvo', 'fastscreen', 'blabber', 'netwrok', 'valoo', 'whaat', 'rkhii', 'bki', 'repons', 'reactiv', 'warrior', 'reviewgood', 'things-dual', 'camera-stock', 'android-front', 'flesh-fre', 'coverbad', 'things-', 'user-singl', 'digital-turbo', 'cuxgf', '🤔googl', 'mut', 'clarity-', 'features-', 'fast-', 'light-', 'rom-', 'slot-', 'li-polym', 'battery🔋-', 'feature-', 'unlock-', 'loud-', 'sides-', 'overcharg', 'applications-ha', 'mobile-', 'hindi-', 'emoji', 'keypad-', 'part-', 'reader-', 'trafficcon', 'efficient-', 'movies-', 'usp-', 'properly-', 'stabilization-', 'bit-', 'saved-', 'exordinari', 'macbook', 'alter', '4gbintern', 'gbcamera', 'marvellousdont', 'everyt', 'worseveri', 'samsumg', 'backuptak', 'chargenot', 'subham', 'nikalo', 'confir', '/network', 'cameraoveral', 'caneea', 'chuka', 'galdi', 'notifications2', 'buttons3', 'lifeoveral', 'min2', 'handne', '2500mh', '12999-10', '1300', '=11700/-', 'deliverywith', 'policytot', 'yelllow', 'whiteoth', 'contect', '8853718149', 'rairaisahab', 'compl', 'featurenot', 'poordo', 'basool', 'thye', 'associ', 'conform', 'problemh', 'problemand', 'itjust', 'botb', 'unfocus', 'escap', 'bakhwa', 'kuchi', 'aab', 'betari', 'jyasa', 'bahat', 'lenovoworth', 'drawback/loophol', 'traingular', 'right-hand', 'okcamera', 'pricey', 'veryy', 'uak', 'turant', 'retunn', 'paya', 'phonelarg', 'displaygood', 'qualitygreat', 'fundament', '25/05/2018', '28/05/18', '11-jun-10', '699', 'apr-30-may-28', '13,999but', 'bekaarpehl', 'inko', 'usk', 'kaharb', 'kiyaa', 'pehla', 'bekaaar', 'quickly2', 'hangs5', 'cover6', 'separately8', 'warmpros1', 'door2', 'steam', 'list6', 'feature7', 'boxi', '1piec', '2-3hour', '😊🙂🙂👍👍👍', 'experenci', 'backuptoo', 'carrynot', 'phonelov', 'templat', 'ofhelio', 'bargain', 'magnanim', 'predessor', 'gautam', 'den', 'satisfiedth', 'sealand', 'absentpleas', 'mobileturbo', 'mobilebatri', '4ghear', 'spk', 'wellturbo', 'idbatteri', 'hoursheat', 'zabardast', 'heit', 'young', 'trial', 'wellll', 'enorm', 'avali', 'sensor3', 'cameracons1', 'life3', 'parfoamc', 'averagebut', 'marath', 'aligarhthi', 'moneypost', 'warning-do', 'incumb', 'dyjddhndjjccbnnxcnnxfj', 'mobilewith', 'asin', 'b01lzksuxf', 'breley', 'coler', '15000awesom', 'camerabrilli', 'backupfast', 'chargingsmooth', 'toucheveryth', 'friction', 'itekdum', 'mobilehigh', 'performancehigh', 'graphicsstylish', 'designbig', 'chori', '19-', 'substanti', 'x22', 'performancefrequ', 'surfingi', 'connectth', 'itbett', 'priceprosstock', 'bodykil', 'processerkil', 'looksconsdepth', 'improveheat', 'usagebacklight', 'betterit', 'mane', 'bok', 'chalaya', 'kwalityi', 'fatjaata', 'bettryi', 'bekap', '15-16hour', 'unsecur', 'whattsapp', 'regardhem', 'invers', 'invert', 'hppn', 'phonecam', 'darsan', 'appbatteri', 'scar', 'pannel', 'gbtotal', 'headphoesetc', 'lteit', 'withsom', 'aapn', 'frontimag', 'heavy-duti', 'hng', 'nogaut', 'raghavendari', '14000mi', 'fro', 'goat', 'chargingi', 'lenovoso', 'evrytm', 'sunni', 'poorui', 'crashes4gb', 'publicitydevelop', 'bugsboot', 'loop', 'bugui', 'hardwarepoor', 'geat', 'good☺️☺️👌🏻', 'unavail', 'productnoth', 'specialnot', 'product😄', '22/03/2018', 'overheatinglow', 'optimizationdepth', 'argu', 'camerawel', 'overvalu', 'idk', 'fluentli', 'speedomet', 'peranoma', '4gbram', 'connectedit', 'bad😈😈😈😈😈', '120', 'lifebatteri', '11,999', 'ate', 'ohk', 'hungin', 'gimmickotherwis', 'roz', 'jaa', 'lagaya', 'screenshort', 'replacementissu', 'noteworst', 'modelscast', 'workingram', 'poordrawbacksairtel', 'voltepow', 'availablesound', 'atmosamazon', 'hitch', 'killer8', 'takcal', 'mobilemobil', 'swithch', 'poour', 'prosec', 'whater', 'gaget', 'pakeg']\n"
     ]
    }
   ],
   "source": [
    "print(singlewordlist)"
   ]
  },
  {
   "cell_type": "code",
   "execution_count": 73,
   "metadata": {},
   "outputs": [],
   "source": [
    "check = ['caring','not','quickly','saw','quicker','quickest','better']"
   ]
  },
  {
   "cell_type": "code",
   "execution_count": 74,
   "metadata": {},
   "outputs": [],
   "source": [
    "check = [lemm.lemmatize(word) for word in check]\n",
    "check = [lemm.lemmatize(word, pos = 'v') for word in check]\n",
    "check = [lemm.lemmatize(word, pos = 'a') for word in check]\n",
    "check = [lemm.lemmatize(word, pos = 's') for word in check]\n",
    "check = [lemm.lemmatize(word, pos = 'r') for word in check]\n",
    "check = [lemm.lemmatize(word, pos = 'n') for word in check]"
   ]
  },
  {
   "cell_type": "code",
   "execution_count": 75,
   "metadata": {},
   "outputs": [
    {
     "data": {
      "text/plain": [
       "['care', 'not', 'quickly', 'saw', 'quick', 'quick', 'good']"
      ]
     },
     "execution_count": 75,
     "metadata": {},
     "output_type": "execute_result"
    }
   ],
   "source": [
    "check"
   ]
  },
  {
   "cell_type": "code",
   "execution_count": 76,
   "metadata": {},
   "outputs": [],
   "source": [
    "#Stememr reduces the number of distinct words in the corpus to a greater exten"
   ]
  },
  {
   "cell_type": "markdown",
   "metadata": {},
   "source": [
    "# We will now apply these cleaning techniques on all the reviews by writing a UDF"
   ]
  },
  {
   "cell_type": "code",
   "execution_count": 77,
   "metadata": {},
   "outputs": [],
   "source": [
    "from nltk.corpus import wordnet\n",
    "def notdrop(words):    \n",
    "    new_words = []\n",
    "    temp_word = ''\n",
    "    for word in words:\n",
    "        antonyms = []\n",
    "        if word == 'not':\n",
    "            temp_word = 'not_'\n",
    "        elif temp_word == 'not_':\n",
    "            for syn in wordnet.synsets(word):\n",
    "                for s in syn.lemmas():\n",
    "                    for a in s.antonyms():\n",
    "                        antonyms.append(a.name())\n",
    "            if len(antonyms) >= 1:\n",
    "                word = antonyms[0]\n",
    "            else:\n",
    "                word = temp_word + word\n",
    "            temp_word = ''\n",
    "        if word != 'not':\n",
    "            new_words.append(word)\n",
    "\n",
    "    return(new_words)"
   ]
  },
  {
   "cell_type": "code",
   "execution_count": 78,
   "metadata": {},
   "outputs": [],
   "source": [
    "# Define function that takes in a raw string, returns a clean string\n",
    "def clean_txtlemm(sent):\n",
    "    sent = re.sub(r\"\\.\",\". \",sent)\n",
    "    sent = re.sub(r\"[^\\w\\s]+\",\" \",sent)\n",
    "    tokens1 = word_tokenize(sent.lower())\n",
    "    for i in range(len(tokens1)):\n",
    "        tokens1[i]=re.sub(r\"n't\",\"not\",tokens1[i])\n",
    "    #take care of negation\n",
    "    tokens = notdrop(tokens1)\n",
    "    lemmatized1 = [lemm.lemmatize(term, pos = 'v')  for term in tokens if term not in stop_updated and len(term) > 2]\n",
    "    lemmatized2 = [lemm.lemmatize(term, pos = 'a')  for term in lemmatized1] \n",
    "    lemmatized3 = [lemm.lemmatize(term, pos = 's')  for term in lemmatized2] \n",
    "    lemmatized4 = [lemm.lemmatize(term, pos = 'r')  for term in lemmatized3] \n",
    "    lemmatized5 = [lemm.lemmatize(term, pos = 'n')  for term in lemmatized4]\n",
    "    lemmatized6 = [term for term in lemmatized5 if term not in singlewordlist]\n",
    "    res = \" \".join(lemmatized6)\n",
    "    return res"
   ]
  },
  {
   "cell_type": "code",
   "execution_count": 79,
   "metadata": {},
   "outputs": [
    {
     "name": "stdout",
     "output_type": "stream",
     "text": [
      "Wall time: 6min 3s\n"
     ]
    }
   ],
   "source": [
    "%%time\n",
    "reviews['clean_reviewlemm'] = reviews.review.apply(clean_txtlemm)"
   ]
  },
  {
   "cell_type": "code",
   "execution_count": 80,
   "metadata": {},
   "outputs": [],
   "source": [
    "reviews_combinedlemm = \" \".join(reviews.clean_reviewlemm.values)"
   ]
  },
  {
   "cell_type": "code",
   "execution_count": 81,
   "metadata": {},
   "outputs": [
    {
     "name": "stdout",
     "output_type": "stream",
     "text": [
      "7058 153723\n"
     ]
    }
   ],
   "source": [
    "all_termsupdatedlemm = word_tokenize(reviews_combinedlemm.lower())\n",
    "print(len(set(all_termsupdatedlemm)),len((all_termsupdatedlemm)))"
   ]
  },
  {
   "cell_type": "code",
   "execution_count": null,
   "metadata": {},
   "outputs": [],
   "source": []
  },
  {
   "cell_type": "code",
   "execution_count": 82,
   "metadata": {},
   "outputs": [],
   "source": [
    "from sklearn.feature_extraction.text import CountVectorizer\n",
    "from sklearn.feature_extraction.text import TfidfVectorizer"
   ]
  },
  {
   "cell_type": "code",
   "execution_count": 83,
   "metadata": {},
   "outputs": [],
   "source": [
    "# create a bigram count vectorizer object\n",
    "#bigram_count_vectorizer = CountVectorizer(ngram_range=(2,2))\n",
    "unigram_count_vectorizer = CountVectorizer(ngram_range=(1,2),max_features = 1000)\n",
    "tfidf_count_vectorizer = TfidfVectorizer(ngram_range=(1,2),max_features = 1000)"
   ]
  },
  {
   "cell_type": "code",
   "execution_count": 84,
   "metadata": {},
   "outputs": [],
   "source": [
    "X_unigram = unigram_count_vectorizer.fit_transform(reviews['clean_reviewlemm'])\n",
    "tfidfscores = tfidf_count_vectorizer.fit_transform(reviews['clean_reviewlemm'])\n",
    "# Creating a DTM\n",
    "DTM_unigram = pd.DataFrame(X_unigram.toarray(), columns=unigram_count_vectorizer.get_feature_names())\n",
    "TFIDFunigram = pd.DataFrame(tfidfscores.toarray(), columns=tfidf_count_vectorizer.get_feature_names())"
   ]
  },
  {
   "cell_type": "code",
   "execution_count": 85,
   "metadata": {},
   "outputs": [
    {
     "data": {
      "text/html": [
       "<div>\n",
       "<style scoped>\n",
       "    .dataframe tbody tr th:only-of-type {\n",
       "        vertical-align: middle;\n",
       "    }\n",
       "\n",
       "    .dataframe tbody tr th {\n",
       "        vertical-align: top;\n",
       "    }\n",
       "\n",
       "    .dataframe thead th {\n",
       "        text-align: right;\n",
       "    }\n",
       "</style>\n",
       "<table border=\"1\" class=\"dataframe\">\n",
       "  <thead>\n",
       "    <tr style=\"text-align: right;\">\n",
       "      <th></th>\n",
       "      <th>100</th>\n",
       "      <th>13mp</th>\n",
       "      <th>14k</th>\n",
       "      <th>1st</th>\n",
       "      <th>2017</th>\n",
       "      <th>2018</th>\n",
       "      <th>2nd</th>\n",
       "      <th>3rd</th>\n",
       "      <th>4000</th>\n",
       "      <th>4000 mah</th>\n",
       "      <th>...</th>\n",
       "      <th>would</th>\n",
       "      <th>write</th>\n",
       "      <th>write review</th>\n",
       "      <th>wrong</th>\n",
       "      <th>wrost</th>\n",
       "      <th>year</th>\n",
       "      <th>yes</th>\n",
       "      <th>yesterday</th>\n",
       "      <th>yet</th>\n",
       "      <th>youtube</th>\n",
       "    </tr>\n",
       "  </thead>\n",
       "  <tbody>\n",
       "    <tr>\n",
       "      <th>0</th>\n",
       "      <td>0</td>\n",
       "      <td>0</td>\n",
       "      <td>0</td>\n",
       "      <td>0</td>\n",
       "      <td>0</td>\n",
       "      <td>0</td>\n",
       "      <td>0</td>\n",
       "      <td>0</td>\n",
       "      <td>0</td>\n",
       "      <td>0</td>\n",
       "      <td>...</td>\n",
       "      <td>0</td>\n",
       "      <td>0</td>\n",
       "      <td>0</td>\n",
       "      <td>0</td>\n",
       "      <td>0</td>\n",
       "      <td>0</td>\n",
       "      <td>0</td>\n",
       "      <td>0</td>\n",
       "      <td>0</td>\n",
       "      <td>0</td>\n",
       "    </tr>\n",
       "    <tr>\n",
       "      <th>1</th>\n",
       "      <td>0</td>\n",
       "      <td>0</td>\n",
       "      <td>0</td>\n",
       "      <td>0</td>\n",
       "      <td>0</td>\n",
       "      <td>0</td>\n",
       "      <td>0</td>\n",
       "      <td>0</td>\n",
       "      <td>0</td>\n",
       "      <td>0</td>\n",
       "      <td>...</td>\n",
       "      <td>0</td>\n",
       "      <td>0</td>\n",
       "      <td>0</td>\n",
       "      <td>0</td>\n",
       "      <td>0</td>\n",
       "      <td>0</td>\n",
       "      <td>0</td>\n",
       "      <td>0</td>\n",
       "      <td>0</td>\n",
       "      <td>0</td>\n",
       "    </tr>\n",
       "    <tr>\n",
       "      <th>2</th>\n",
       "      <td>0</td>\n",
       "      <td>0</td>\n",
       "      <td>0</td>\n",
       "      <td>0</td>\n",
       "      <td>0</td>\n",
       "      <td>0</td>\n",
       "      <td>0</td>\n",
       "      <td>0</td>\n",
       "      <td>0</td>\n",
       "      <td>0</td>\n",
       "      <td>...</td>\n",
       "      <td>0</td>\n",
       "      <td>0</td>\n",
       "      <td>0</td>\n",
       "      <td>0</td>\n",
       "      <td>0</td>\n",
       "      <td>0</td>\n",
       "      <td>0</td>\n",
       "      <td>0</td>\n",
       "      <td>0</td>\n",
       "      <td>0</td>\n",
       "    </tr>\n",
       "    <tr>\n",
       "      <th>3</th>\n",
       "      <td>0</td>\n",
       "      <td>0</td>\n",
       "      <td>0</td>\n",
       "      <td>0</td>\n",
       "      <td>0</td>\n",
       "      <td>0</td>\n",
       "      <td>0</td>\n",
       "      <td>0</td>\n",
       "      <td>0</td>\n",
       "      <td>0</td>\n",
       "      <td>...</td>\n",
       "      <td>0</td>\n",
       "      <td>0</td>\n",
       "      <td>0</td>\n",
       "      <td>0</td>\n",
       "      <td>0</td>\n",
       "      <td>0</td>\n",
       "      <td>0</td>\n",
       "      <td>0</td>\n",
       "      <td>0</td>\n",
       "      <td>0</td>\n",
       "    </tr>\n",
       "    <tr>\n",
       "      <th>4</th>\n",
       "      <td>0</td>\n",
       "      <td>0</td>\n",
       "      <td>0</td>\n",
       "      <td>0</td>\n",
       "      <td>0</td>\n",
       "      <td>0</td>\n",
       "      <td>0</td>\n",
       "      <td>0</td>\n",
       "      <td>0</td>\n",
       "      <td>0</td>\n",
       "      <td>...</td>\n",
       "      <td>0</td>\n",
       "      <td>0</td>\n",
       "      <td>0</td>\n",
       "      <td>0</td>\n",
       "      <td>0</td>\n",
       "      <td>0</td>\n",
       "      <td>0</td>\n",
       "      <td>0</td>\n",
       "      <td>0</td>\n",
       "      <td>0</td>\n",
       "    </tr>\n",
       "    <tr>\n",
       "      <th>...</th>\n",
       "      <td>...</td>\n",
       "      <td>...</td>\n",
       "      <td>...</td>\n",
       "      <td>...</td>\n",
       "      <td>...</td>\n",
       "      <td>...</td>\n",
       "      <td>...</td>\n",
       "      <td>...</td>\n",
       "      <td>...</td>\n",
       "      <td>...</td>\n",
       "      <td>...</td>\n",
       "      <td>...</td>\n",
       "      <td>...</td>\n",
       "      <td>...</td>\n",
       "      <td>...</td>\n",
       "      <td>...</td>\n",
       "      <td>...</td>\n",
       "      <td>...</td>\n",
       "      <td>...</td>\n",
       "      <td>...</td>\n",
       "      <td>...</td>\n",
       "    </tr>\n",
       "    <tr>\n",
       "      <th>14670</th>\n",
       "      <td>0</td>\n",
       "      <td>0</td>\n",
       "      <td>0</td>\n",
       "      <td>0</td>\n",
       "      <td>0</td>\n",
       "      <td>0</td>\n",
       "      <td>0</td>\n",
       "      <td>0</td>\n",
       "      <td>0</td>\n",
       "      <td>0</td>\n",
       "      <td>...</td>\n",
       "      <td>0</td>\n",
       "      <td>0</td>\n",
       "      <td>0</td>\n",
       "      <td>0</td>\n",
       "      <td>0</td>\n",
       "      <td>0</td>\n",
       "      <td>0</td>\n",
       "      <td>0</td>\n",
       "      <td>0</td>\n",
       "      <td>0</td>\n",
       "    </tr>\n",
       "    <tr>\n",
       "      <th>14671</th>\n",
       "      <td>0</td>\n",
       "      <td>0</td>\n",
       "      <td>0</td>\n",
       "      <td>0</td>\n",
       "      <td>0</td>\n",
       "      <td>0</td>\n",
       "      <td>0</td>\n",
       "      <td>0</td>\n",
       "      <td>0</td>\n",
       "      <td>0</td>\n",
       "      <td>...</td>\n",
       "      <td>0</td>\n",
       "      <td>0</td>\n",
       "      <td>0</td>\n",
       "      <td>0</td>\n",
       "      <td>0</td>\n",
       "      <td>0</td>\n",
       "      <td>0</td>\n",
       "      <td>0</td>\n",
       "      <td>0</td>\n",
       "      <td>0</td>\n",
       "    </tr>\n",
       "    <tr>\n",
       "      <th>14672</th>\n",
       "      <td>0</td>\n",
       "      <td>0</td>\n",
       "      <td>0</td>\n",
       "      <td>0</td>\n",
       "      <td>0</td>\n",
       "      <td>0</td>\n",
       "      <td>0</td>\n",
       "      <td>0</td>\n",
       "      <td>0</td>\n",
       "      <td>0</td>\n",
       "      <td>...</td>\n",
       "      <td>0</td>\n",
       "      <td>0</td>\n",
       "      <td>0</td>\n",
       "      <td>0</td>\n",
       "      <td>0</td>\n",
       "      <td>0</td>\n",
       "      <td>0</td>\n",
       "      <td>0</td>\n",
       "      <td>0</td>\n",
       "      <td>0</td>\n",
       "    </tr>\n",
       "    <tr>\n",
       "      <th>14673</th>\n",
       "      <td>0</td>\n",
       "      <td>0</td>\n",
       "      <td>0</td>\n",
       "      <td>0</td>\n",
       "      <td>0</td>\n",
       "      <td>0</td>\n",
       "      <td>0</td>\n",
       "      <td>0</td>\n",
       "      <td>0</td>\n",
       "      <td>0</td>\n",
       "      <td>...</td>\n",
       "      <td>0</td>\n",
       "      <td>0</td>\n",
       "      <td>0</td>\n",
       "      <td>0</td>\n",
       "      <td>0</td>\n",
       "      <td>0</td>\n",
       "      <td>0</td>\n",
       "      <td>0</td>\n",
       "      <td>0</td>\n",
       "      <td>0</td>\n",
       "    </tr>\n",
       "    <tr>\n",
       "      <th>14674</th>\n",
       "      <td>0</td>\n",
       "      <td>0</td>\n",
       "      <td>0</td>\n",
       "      <td>0</td>\n",
       "      <td>0</td>\n",
       "      <td>0</td>\n",
       "      <td>0</td>\n",
       "      <td>0</td>\n",
       "      <td>0</td>\n",
       "      <td>0</td>\n",
       "      <td>...</td>\n",
       "      <td>0</td>\n",
       "      <td>0</td>\n",
       "      <td>0</td>\n",
       "      <td>0</td>\n",
       "      <td>0</td>\n",
       "      <td>0</td>\n",
       "      <td>0</td>\n",
       "      <td>0</td>\n",
       "      <td>0</td>\n",
       "      <td>0</td>\n",
       "    </tr>\n",
       "  </tbody>\n",
       "</table>\n",
       "<p>14675 rows × 1000 columns</p>\n",
       "</div>"
      ],
      "text/plain": [
       "       100  13mp  14k  1st  2017  2018  2nd  3rd  4000  4000 mah  ...  would  \\\n",
       "0        0     0    0    0     0     0    0    0     0         0  ...      0   \n",
       "1        0     0    0    0     0     0    0    0     0         0  ...      0   \n",
       "2        0     0    0    0     0     0    0    0     0         0  ...      0   \n",
       "3        0     0    0    0     0     0    0    0     0         0  ...      0   \n",
       "4        0     0    0    0     0     0    0    0     0         0  ...      0   \n",
       "...    ...   ...  ...  ...   ...   ...  ...  ...   ...       ...  ...    ...   \n",
       "14670    0     0    0    0     0     0    0    0     0         0  ...      0   \n",
       "14671    0     0    0    0     0     0    0    0     0         0  ...      0   \n",
       "14672    0     0    0    0     0     0    0    0     0         0  ...      0   \n",
       "14673    0     0    0    0     0     0    0    0     0         0  ...      0   \n",
       "14674    0     0    0    0     0     0    0    0     0         0  ...      0   \n",
       "\n",
       "       write  write review  wrong  wrost  year  yes  yesterday  yet  youtube  \n",
       "0          0             0      0      0     0    0          0    0        0  \n",
       "1          0             0      0      0     0    0          0    0        0  \n",
       "2          0             0      0      0     0    0          0    0        0  \n",
       "3          0             0      0      0     0    0          0    0        0  \n",
       "4          0             0      0      0     0    0          0    0        0  \n",
       "...      ...           ...    ...    ...   ...  ...        ...  ...      ...  \n",
       "14670      0             0      0      0     0    0          0    0        0  \n",
       "14671      0             0      0      0     0    0          0    0        0  \n",
       "14672      0             0      0      0     0    0          0    0        0  \n",
       "14673      0             0      0      0     0    0          0    0        0  \n",
       "14674      0             0      0      0     0    0          0    0        0  \n",
       "\n",
       "[14675 rows x 1000 columns]"
      ]
     },
     "execution_count": 85,
     "metadata": {},
     "output_type": "execute_result"
    }
   ],
   "source": [
    "DTM_unigram"
   ]
  },
  {
   "cell_type": "code",
   "execution_count": 86,
   "metadata": {},
   "outputs": [
    {
     "data": {
      "text/plain": [
       "0.010289608177172062"
      ]
     },
     "execution_count": 86,
     "metadata": {},
     "output_type": "execute_result"
    }
   ],
   "source": [
    "(151000)/(14675*1000)"
   ]
  },
  {
   "cell_type": "code",
   "execution_count": 87,
   "metadata": {},
   "outputs": [
    {
     "data": {
      "text/plain": [
       "<14675x1000 sparse matrix of type '<class 'numpy.float64'>'\n",
       "\twith 135202 stored elements in Compressed Sparse Row format>"
      ]
     },
     "execution_count": 87,
     "metadata": {},
     "output_type": "execute_result"
    }
   ],
   "source": [
    "tfidfscores"
   ]
  },
  {
   "cell_type": "code",
   "execution_count": 88,
   "metadata": {},
   "outputs": [
    {
     "data": {
      "text/html": [
       "<div>\n",
       "<style scoped>\n",
       "    .dataframe tbody tr th:only-of-type {\n",
       "        vertical-align: middle;\n",
       "    }\n",
       "\n",
       "    .dataframe tbody tr th {\n",
       "        vertical-align: top;\n",
       "    }\n",
       "\n",
       "    .dataframe thead th {\n",
       "        text-align: right;\n",
       "    }\n",
       "</style>\n",
       "<table border=\"1\" class=\"dataframe\">\n",
       "  <thead>\n",
       "    <tr style=\"text-align: right;\">\n",
       "      <th></th>\n",
       "      <th>100</th>\n",
       "      <th>13mp</th>\n",
       "      <th>14k</th>\n",
       "      <th>1st</th>\n",
       "      <th>2017</th>\n",
       "      <th>2018</th>\n",
       "      <th>2nd</th>\n",
       "      <th>3rd</th>\n",
       "      <th>4000</th>\n",
       "      <th>4000 mah</th>\n",
       "      <th>...</th>\n",
       "      <th>would</th>\n",
       "      <th>write</th>\n",
       "      <th>write review</th>\n",
       "      <th>wrong</th>\n",
       "      <th>wrost</th>\n",
       "      <th>year</th>\n",
       "      <th>yes</th>\n",
       "      <th>yesterday</th>\n",
       "      <th>yet</th>\n",
       "      <th>youtube</th>\n",
       "    </tr>\n",
       "  </thead>\n",
       "  <tbody>\n",
       "    <tr>\n",
       "      <th>0</th>\n",
       "      <td>0.0</td>\n",
       "      <td>0.0</td>\n",
       "      <td>0.0</td>\n",
       "      <td>0.0</td>\n",
       "      <td>0.0</td>\n",
       "      <td>0.0</td>\n",
       "      <td>0.0</td>\n",
       "      <td>0.0</td>\n",
       "      <td>0.0</td>\n",
       "      <td>0.0</td>\n",
       "      <td>...</td>\n",
       "      <td>0.0</td>\n",
       "      <td>0.0</td>\n",
       "      <td>0.0</td>\n",
       "      <td>0.0</td>\n",
       "      <td>0.0</td>\n",
       "      <td>0.0</td>\n",
       "      <td>0.0</td>\n",
       "      <td>0.0</td>\n",
       "      <td>0.0</td>\n",
       "      <td>0.0</td>\n",
       "    </tr>\n",
       "    <tr>\n",
       "      <th>1</th>\n",
       "      <td>0.0</td>\n",
       "      <td>0.0</td>\n",
       "      <td>0.0</td>\n",
       "      <td>0.0</td>\n",
       "      <td>0.0</td>\n",
       "      <td>0.0</td>\n",
       "      <td>0.0</td>\n",
       "      <td>0.0</td>\n",
       "      <td>0.0</td>\n",
       "      <td>0.0</td>\n",
       "      <td>...</td>\n",
       "      <td>0.0</td>\n",
       "      <td>0.0</td>\n",
       "      <td>0.0</td>\n",
       "      <td>0.0</td>\n",
       "      <td>0.0</td>\n",
       "      <td>0.0</td>\n",
       "      <td>0.0</td>\n",
       "      <td>0.0</td>\n",
       "      <td>0.0</td>\n",
       "      <td>0.0</td>\n",
       "    </tr>\n",
       "    <tr>\n",
       "      <th>2</th>\n",
       "      <td>0.0</td>\n",
       "      <td>0.0</td>\n",
       "      <td>0.0</td>\n",
       "      <td>0.0</td>\n",
       "      <td>0.0</td>\n",
       "      <td>0.0</td>\n",
       "      <td>0.0</td>\n",
       "      <td>0.0</td>\n",
       "      <td>0.0</td>\n",
       "      <td>0.0</td>\n",
       "      <td>...</td>\n",
       "      <td>0.0</td>\n",
       "      <td>0.0</td>\n",
       "      <td>0.0</td>\n",
       "      <td>0.0</td>\n",
       "      <td>0.0</td>\n",
       "      <td>0.0</td>\n",
       "      <td>0.0</td>\n",
       "      <td>0.0</td>\n",
       "      <td>0.0</td>\n",
       "      <td>0.0</td>\n",
       "    </tr>\n",
       "    <tr>\n",
       "      <th>3</th>\n",
       "      <td>0.0</td>\n",
       "      <td>0.0</td>\n",
       "      <td>0.0</td>\n",
       "      <td>0.0</td>\n",
       "      <td>0.0</td>\n",
       "      <td>0.0</td>\n",
       "      <td>0.0</td>\n",
       "      <td>0.0</td>\n",
       "      <td>0.0</td>\n",
       "      <td>0.0</td>\n",
       "      <td>...</td>\n",
       "      <td>0.0</td>\n",
       "      <td>0.0</td>\n",
       "      <td>0.0</td>\n",
       "      <td>0.0</td>\n",
       "      <td>0.0</td>\n",
       "      <td>0.0</td>\n",
       "      <td>0.0</td>\n",
       "      <td>0.0</td>\n",
       "      <td>0.0</td>\n",
       "      <td>0.0</td>\n",
       "    </tr>\n",
       "    <tr>\n",
       "      <th>4</th>\n",
       "      <td>0.0</td>\n",
       "      <td>0.0</td>\n",
       "      <td>0.0</td>\n",
       "      <td>0.0</td>\n",
       "      <td>0.0</td>\n",
       "      <td>0.0</td>\n",
       "      <td>0.0</td>\n",
       "      <td>0.0</td>\n",
       "      <td>0.0</td>\n",
       "      <td>0.0</td>\n",
       "      <td>...</td>\n",
       "      <td>0.0</td>\n",
       "      <td>0.0</td>\n",
       "      <td>0.0</td>\n",
       "      <td>0.0</td>\n",
       "      <td>0.0</td>\n",
       "      <td>0.0</td>\n",
       "      <td>0.0</td>\n",
       "      <td>0.0</td>\n",
       "      <td>0.0</td>\n",
       "      <td>0.0</td>\n",
       "    </tr>\n",
       "    <tr>\n",
       "      <th>...</th>\n",
       "      <td>...</td>\n",
       "      <td>...</td>\n",
       "      <td>...</td>\n",
       "      <td>...</td>\n",
       "      <td>...</td>\n",
       "      <td>...</td>\n",
       "      <td>...</td>\n",
       "      <td>...</td>\n",
       "      <td>...</td>\n",
       "      <td>...</td>\n",
       "      <td>...</td>\n",
       "      <td>...</td>\n",
       "      <td>...</td>\n",
       "      <td>...</td>\n",
       "      <td>...</td>\n",
       "      <td>...</td>\n",
       "      <td>...</td>\n",
       "      <td>...</td>\n",
       "      <td>...</td>\n",
       "      <td>...</td>\n",
       "      <td>...</td>\n",
       "    </tr>\n",
       "    <tr>\n",
       "      <th>14670</th>\n",
       "      <td>0.0</td>\n",
       "      <td>0.0</td>\n",
       "      <td>0.0</td>\n",
       "      <td>0.0</td>\n",
       "      <td>0.0</td>\n",
       "      <td>0.0</td>\n",
       "      <td>0.0</td>\n",
       "      <td>0.0</td>\n",
       "      <td>0.0</td>\n",
       "      <td>0.0</td>\n",
       "      <td>...</td>\n",
       "      <td>0.0</td>\n",
       "      <td>0.0</td>\n",
       "      <td>0.0</td>\n",
       "      <td>0.0</td>\n",
       "      <td>0.0</td>\n",
       "      <td>0.0</td>\n",
       "      <td>0.0</td>\n",
       "      <td>0.0</td>\n",
       "      <td>0.0</td>\n",
       "      <td>0.0</td>\n",
       "    </tr>\n",
       "    <tr>\n",
       "      <th>14671</th>\n",
       "      <td>0.0</td>\n",
       "      <td>0.0</td>\n",
       "      <td>0.0</td>\n",
       "      <td>0.0</td>\n",
       "      <td>0.0</td>\n",
       "      <td>0.0</td>\n",
       "      <td>0.0</td>\n",
       "      <td>0.0</td>\n",
       "      <td>0.0</td>\n",
       "      <td>0.0</td>\n",
       "      <td>...</td>\n",
       "      <td>0.0</td>\n",
       "      <td>0.0</td>\n",
       "      <td>0.0</td>\n",
       "      <td>0.0</td>\n",
       "      <td>0.0</td>\n",
       "      <td>0.0</td>\n",
       "      <td>0.0</td>\n",
       "      <td>0.0</td>\n",
       "      <td>0.0</td>\n",
       "      <td>0.0</td>\n",
       "    </tr>\n",
       "    <tr>\n",
       "      <th>14672</th>\n",
       "      <td>0.0</td>\n",
       "      <td>0.0</td>\n",
       "      <td>0.0</td>\n",
       "      <td>0.0</td>\n",
       "      <td>0.0</td>\n",
       "      <td>0.0</td>\n",
       "      <td>0.0</td>\n",
       "      <td>0.0</td>\n",
       "      <td>0.0</td>\n",
       "      <td>0.0</td>\n",
       "      <td>...</td>\n",
       "      <td>0.0</td>\n",
       "      <td>0.0</td>\n",
       "      <td>0.0</td>\n",
       "      <td>0.0</td>\n",
       "      <td>0.0</td>\n",
       "      <td>0.0</td>\n",
       "      <td>0.0</td>\n",
       "      <td>0.0</td>\n",
       "      <td>0.0</td>\n",
       "      <td>0.0</td>\n",
       "    </tr>\n",
       "    <tr>\n",
       "      <th>14673</th>\n",
       "      <td>0.0</td>\n",
       "      <td>0.0</td>\n",
       "      <td>0.0</td>\n",
       "      <td>0.0</td>\n",
       "      <td>0.0</td>\n",
       "      <td>0.0</td>\n",
       "      <td>0.0</td>\n",
       "      <td>0.0</td>\n",
       "      <td>0.0</td>\n",
       "      <td>0.0</td>\n",
       "      <td>...</td>\n",
       "      <td>0.0</td>\n",
       "      <td>0.0</td>\n",
       "      <td>0.0</td>\n",
       "      <td>0.0</td>\n",
       "      <td>0.0</td>\n",
       "      <td>0.0</td>\n",
       "      <td>0.0</td>\n",
       "      <td>0.0</td>\n",
       "      <td>0.0</td>\n",
       "      <td>0.0</td>\n",
       "    </tr>\n",
       "    <tr>\n",
       "      <th>14674</th>\n",
       "      <td>0.0</td>\n",
       "      <td>0.0</td>\n",
       "      <td>0.0</td>\n",
       "      <td>0.0</td>\n",
       "      <td>0.0</td>\n",
       "      <td>0.0</td>\n",
       "      <td>0.0</td>\n",
       "      <td>0.0</td>\n",
       "      <td>0.0</td>\n",
       "      <td>0.0</td>\n",
       "      <td>...</td>\n",
       "      <td>0.0</td>\n",
       "      <td>0.0</td>\n",
       "      <td>0.0</td>\n",
       "      <td>0.0</td>\n",
       "      <td>0.0</td>\n",
       "      <td>0.0</td>\n",
       "      <td>0.0</td>\n",
       "      <td>0.0</td>\n",
       "      <td>0.0</td>\n",
       "      <td>0.0</td>\n",
       "    </tr>\n",
       "  </tbody>\n",
       "</table>\n",
       "<p>14675 rows × 1000 columns</p>\n",
       "</div>"
      ],
      "text/plain": [
       "       100  13mp  14k  1st  2017  2018  2nd  3rd  4000  4000 mah  ...  would  \\\n",
       "0      0.0   0.0  0.0  0.0   0.0   0.0  0.0  0.0   0.0       0.0  ...    0.0   \n",
       "1      0.0   0.0  0.0  0.0   0.0   0.0  0.0  0.0   0.0       0.0  ...    0.0   \n",
       "2      0.0   0.0  0.0  0.0   0.0   0.0  0.0  0.0   0.0       0.0  ...    0.0   \n",
       "3      0.0   0.0  0.0  0.0   0.0   0.0  0.0  0.0   0.0       0.0  ...    0.0   \n",
       "4      0.0   0.0  0.0  0.0   0.0   0.0  0.0  0.0   0.0       0.0  ...    0.0   \n",
       "...    ...   ...  ...  ...   ...   ...  ...  ...   ...       ...  ...    ...   \n",
       "14670  0.0   0.0  0.0  0.0   0.0   0.0  0.0  0.0   0.0       0.0  ...    0.0   \n",
       "14671  0.0   0.0  0.0  0.0   0.0   0.0  0.0  0.0   0.0       0.0  ...    0.0   \n",
       "14672  0.0   0.0  0.0  0.0   0.0   0.0  0.0  0.0   0.0       0.0  ...    0.0   \n",
       "14673  0.0   0.0  0.0  0.0   0.0   0.0  0.0  0.0   0.0       0.0  ...    0.0   \n",
       "14674  0.0   0.0  0.0  0.0   0.0   0.0  0.0  0.0   0.0       0.0  ...    0.0   \n",
       "\n",
       "       write  write review  wrong  wrost  year  yes  yesterday  yet  youtube  \n",
       "0        0.0           0.0    0.0    0.0   0.0  0.0        0.0  0.0      0.0  \n",
       "1        0.0           0.0    0.0    0.0   0.0  0.0        0.0  0.0      0.0  \n",
       "2        0.0           0.0    0.0    0.0   0.0  0.0        0.0  0.0      0.0  \n",
       "3        0.0           0.0    0.0    0.0   0.0  0.0        0.0  0.0      0.0  \n",
       "4        0.0           0.0    0.0    0.0   0.0  0.0        0.0  0.0      0.0  \n",
       "...      ...           ...    ...    ...   ...  ...        ...  ...      ...  \n",
       "14670    0.0           0.0    0.0    0.0   0.0  0.0        0.0  0.0      0.0  \n",
       "14671    0.0           0.0    0.0    0.0   0.0  0.0        0.0  0.0      0.0  \n",
       "14672    0.0           0.0    0.0    0.0   0.0  0.0        0.0  0.0      0.0  \n",
       "14673    0.0           0.0    0.0    0.0   0.0  0.0        0.0  0.0      0.0  \n",
       "14674    0.0           0.0    0.0    0.0   0.0  0.0        0.0  0.0      0.0  \n",
       "\n",
       "[14675 rows x 1000 columns]"
      ]
     },
     "execution_count": 88,
     "metadata": {},
     "output_type": "execute_result"
    }
   ],
   "source": [
    "TFIDFunigram"
   ]
  },
  {
   "cell_type": "code",
   "execution_count": 89,
   "metadata": {},
   "outputs": [
    {
     "data": {
      "text/html": [
       "<div>\n",
       "<style scoped>\n",
       "    .dataframe tbody tr th:only-of-type {\n",
       "        vertical-align: middle;\n",
       "    }\n",
       "\n",
       "    .dataframe tbody tr th {\n",
       "        vertical-align: top;\n",
       "    }\n",
       "\n",
       "    .dataframe thead th {\n",
       "        text-align: right;\n",
       "    }\n",
       "</style>\n",
       "<table border=\"1\" class=\"dataframe\">\n",
       "  <thead>\n",
       "    <tr style=\"text-align: right;\">\n",
       "      <th></th>\n",
       "      <th>sentiment</th>\n",
       "      <th>review</th>\n",
       "      <th>clean_reviewlemm</th>\n",
       "    </tr>\n",
       "  </thead>\n",
       "  <tbody>\n",
       "    <tr>\n",
       "      <th>0</th>\n",
       "      <td>1</td>\n",
       "      <td>Good but need updates and improvements</td>\n",
       "      <td>good need update improvement</td>\n",
       "    </tr>\n",
       "    <tr>\n",
       "      <th>1</th>\n",
       "      <td>0</td>\n",
       "      <td>Worst mobile i have bought ever, Battery is dr...</td>\n",
       "      <td>bad buy ever battery drain like hell backup ho...</td>\n",
       "    </tr>\n",
       "    <tr>\n",
       "      <th>2</th>\n",
       "      <td>1</td>\n",
       "      <td>when I will get my 10% cash back.... its alrea...</td>\n",
       "      <td>get cash back already january</td>\n",
       "    </tr>\n",
       "    <tr>\n",
       "      <th>3</th>\n",
       "      <td>1</td>\n",
       "      <td>Good</td>\n",
       "      <td>good</td>\n",
       "    </tr>\n",
       "    <tr>\n",
       "      <th>4</th>\n",
       "      <td>0</td>\n",
       "      <td>The worst phone everThey have changed the last...</td>\n",
       "      <td>bad change last problem still amazon not_retur...</td>\n",
       "    </tr>\n",
       "    <tr>\n",
       "      <th>...</th>\n",
       "      <td>...</td>\n",
       "      <td>...</td>\n",
       "      <td>...</td>\n",
       "    </tr>\n",
       "    <tr>\n",
       "      <th>14670</th>\n",
       "      <td>1</td>\n",
       "      <td>I really like the phone, Everything is working...</td>\n",
       "      <td>really like everything work fine use</td>\n",
       "    </tr>\n",
       "    <tr>\n",
       "      <th>14671</th>\n",
       "      <td>1</td>\n",
       "      <td>The Lenovo K8 Note is awesome. It takes best p...</td>\n",
       "      <td>note awesome take best picture dual camera sli...</td>\n",
       "    </tr>\n",
       "    <tr>\n",
       "      <th>14672</th>\n",
       "      <td>1</td>\n",
       "      <td>Awesome Gaget.. @ this price</td>\n",
       "      <td>awesome price</td>\n",
       "    </tr>\n",
       "    <tr>\n",
       "      <th>14673</th>\n",
       "      <td>1</td>\n",
       "      <td>This phone is nice processing will be successf...</td>\n",
       "      <td>nice process successful dual camera differ dua...</td>\n",
       "    </tr>\n",
       "    <tr>\n",
       "      <th>14674</th>\n",
       "      <td>1</td>\n",
       "      <td>Good product but the pakeging was not enough.</td>\n",
       "      <td>good pakeging not_enough</td>\n",
       "    </tr>\n",
       "  </tbody>\n",
       "</table>\n",
       "<p>14675 rows × 3 columns</p>\n",
       "</div>"
      ],
      "text/plain": [
       "       sentiment                                             review  \\\n",
       "0              1             Good but need updates and improvements   \n",
       "1              0  Worst mobile i have bought ever, Battery is dr...   \n",
       "2              1  when I will get my 10% cash back.... its alrea...   \n",
       "3              1                                               Good   \n",
       "4              0  The worst phone everThey have changed the last...   \n",
       "...          ...                                                ...   \n",
       "14670          1  I really like the phone, Everything is working...   \n",
       "14671          1  The Lenovo K8 Note is awesome. It takes best p...   \n",
       "14672          1                       Awesome Gaget.. @ this price   \n",
       "14673          1  This phone is nice processing will be successf...   \n",
       "14674          1      Good product but the pakeging was not enough.   \n",
       "\n",
       "                                        clean_reviewlemm  \n",
       "0                           good need update improvement  \n",
       "1      bad buy ever battery drain like hell backup ho...  \n",
       "2                          get cash back already january  \n",
       "3                                                   good  \n",
       "4      bad change last problem still amazon not_retur...  \n",
       "...                                                  ...  \n",
       "14670               really like everything work fine use  \n",
       "14671  note awesome take best picture dual camera sli...  \n",
       "14672                                      awesome price  \n",
       "14673  nice process successful dual camera differ dua...  \n",
       "14674                           good pakeging not_enough  \n",
       "\n",
       "[14675 rows x 3 columns]"
      ]
     },
     "execution_count": 89,
     "metadata": {},
     "output_type": "execute_result"
    }
   ],
   "source": [
    "reviews"
   ]
  },
  {
   "cell_type": "code",
   "execution_count": 90,
   "metadata": {},
   "outputs": [
    {
     "data": {
      "text/plain": [
       "<14675x1000 sparse matrix of type '<class 'numpy.int64'>'\n",
       "\twith 135202 stored elements in Compressed Sparse Row format>"
      ]
     },
     "execution_count": 90,
     "metadata": {},
     "output_type": "execute_result"
    }
   ],
   "source": [
    "X_unigram"
   ]
  },
  {
   "cell_type": "code",
   "execution_count": 91,
   "metadata": {},
   "outputs": [
    {
     "data": {
      "text/html": [
       "<div>\n",
       "<style scoped>\n",
       "    .dataframe tbody tr th:only-of-type {\n",
       "        vertical-align: middle;\n",
       "    }\n",
       "\n",
       "    .dataframe tbody tr th {\n",
       "        vertical-align: top;\n",
       "    }\n",
       "\n",
       "    .dataframe thead th {\n",
       "        text-align: right;\n",
       "    }\n",
       "</style>\n",
       "<table border=\"1\" class=\"dataframe\">\n",
       "  <thead>\n",
       "    <tr style=\"text-align: right;\">\n",
       "      <th></th>\n",
       "      <th>100</th>\n",
       "      <th>13mp</th>\n",
       "      <th>14k</th>\n",
       "      <th>1st</th>\n",
       "      <th>2017</th>\n",
       "      <th>2018</th>\n",
       "      <th>2nd</th>\n",
       "      <th>3rd</th>\n",
       "      <th>4000</th>\n",
       "      <th>4000 mah</th>\n",
       "      <th>...</th>\n",
       "      <th>would</th>\n",
       "      <th>write</th>\n",
       "      <th>write review</th>\n",
       "      <th>wrong</th>\n",
       "      <th>wrost</th>\n",
       "      <th>year</th>\n",
       "      <th>yes</th>\n",
       "      <th>yesterday</th>\n",
       "      <th>yet</th>\n",
       "      <th>youtube</th>\n",
       "    </tr>\n",
       "  </thead>\n",
       "  <tbody>\n",
       "    <tr>\n",
       "      <th>0</th>\n",
       "      <td>0.0</td>\n",
       "      <td>0.0</td>\n",
       "      <td>0.0</td>\n",
       "      <td>0.0</td>\n",
       "      <td>0.0</td>\n",
       "      <td>0.0</td>\n",
       "      <td>0.0</td>\n",
       "      <td>0.0</td>\n",
       "      <td>0.0</td>\n",
       "      <td>0.0</td>\n",
       "      <td>...</td>\n",
       "      <td>0.0</td>\n",
       "      <td>0.0</td>\n",
       "      <td>0.0</td>\n",
       "      <td>0.0</td>\n",
       "      <td>0.0</td>\n",
       "      <td>0.0</td>\n",
       "      <td>0.0</td>\n",
       "      <td>0.0</td>\n",
       "      <td>0.0</td>\n",
       "      <td>0.0</td>\n",
       "    </tr>\n",
       "    <tr>\n",
       "      <th>1</th>\n",
       "      <td>0.0</td>\n",
       "      <td>0.0</td>\n",
       "      <td>0.0</td>\n",
       "      <td>0.0</td>\n",
       "      <td>0.0</td>\n",
       "      <td>0.0</td>\n",
       "      <td>0.0</td>\n",
       "      <td>0.0</td>\n",
       "      <td>0.0</td>\n",
       "      <td>0.0</td>\n",
       "      <td>...</td>\n",
       "      <td>0.0</td>\n",
       "      <td>0.0</td>\n",
       "      <td>0.0</td>\n",
       "      <td>0.0</td>\n",
       "      <td>0.0</td>\n",
       "      <td>0.0</td>\n",
       "      <td>0.0</td>\n",
       "      <td>0.0</td>\n",
       "      <td>0.0</td>\n",
       "      <td>0.0</td>\n",
       "    </tr>\n",
       "    <tr>\n",
       "      <th>2</th>\n",
       "      <td>0.0</td>\n",
       "      <td>0.0</td>\n",
       "      <td>0.0</td>\n",
       "      <td>0.0</td>\n",
       "      <td>0.0</td>\n",
       "      <td>0.0</td>\n",
       "      <td>0.0</td>\n",
       "      <td>0.0</td>\n",
       "      <td>0.0</td>\n",
       "      <td>0.0</td>\n",
       "      <td>...</td>\n",
       "      <td>0.0</td>\n",
       "      <td>0.0</td>\n",
       "      <td>0.0</td>\n",
       "      <td>0.0</td>\n",
       "      <td>0.0</td>\n",
       "      <td>0.0</td>\n",
       "      <td>0.0</td>\n",
       "      <td>0.0</td>\n",
       "      <td>0.0</td>\n",
       "      <td>0.0</td>\n",
       "    </tr>\n",
       "    <tr>\n",
       "      <th>3</th>\n",
       "      <td>0.0</td>\n",
       "      <td>0.0</td>\n",
       "      <td>0.0</td>\n",
       "      <td>0.0</td>\n",
       "      <td>0.0</td>\n",
       "      <td>0.0</td>\n",
       "      <td>0.0</td>\n",
       "      <td>0.0</td>\n",
       "      <td>0.0</td>\n",
       "      <td>0.0</td>\n",
       "      <td>...</td>\n",
       "      <td>0.0</td>\n",
       "      <td>0.0</td>\n",
       "      <td>0.0</td>\n",
       "      <td>0.0</td>\n",
       "      <td>0.0</td>\n",
       "      <td>0.0</td>\n",
       "      <td>0.0</td>\n",
       "      <td>0.0</td>\n",
       "      <td>0.0</td>\n",
       "      <td>0.0</td>\n",
       "    </tr>\n",
       "    <tr>\n",
       "      <th>4</th>\n",
       "      <td>0.0</td>\n",
       "      <td>0.0</td>\n",
       "      <td>0.0</td>\n",
       "      <td>0.0</td>\n",
       "      <td>0.0</td>\n",
       "      <td>0.0</td>\n",
       "      <td>0.0</td>\n",
       "      <td>0.0</td>\n",
       "      <td>0.0</td>\n",
       "      <td>0.0</td>\n",
       "      <td>...</td>\n",
       "      <td>0.0</td>\n",
       "      <td>0.0</td>\n",
       "      <td>0.0</td>\n",
       "      <td>0.0</td>\n",
       "      <td>0.0</td>\n",
       "      <td>0.0</td>\n",
       "      <td>0.0</td>\n",
       "      <td>0.0</td>\n",
       "      <td>0.0</td>\n",
       "      <td>0.0</td>\n",
       "    </tr>\n",
       "    <tr>\n",
       "      <th>...</th>\n",
       "      <td>...</td>\n",
       "      <td>...</td>\n",
       "      <td>...</td>\n",
       "      <td>...</td>\n",
       "      <td>...</td>\n",
       "      <td>...</td>\n",
       "      <td>...</td>\n",
       "      <td>...</td>\n",
       "      <td>...</td>\n",
       "      <td>...</td>\n",
       "      <td>...</td>\n",
       "      <td>...</td>\n",
       "      <td>...</td>\n",
       "      <td>...</td>\n",
       "      <td>...</td>\n",
       "      <td>...</td>\n",
       "      <td>...</td>\n",
       "      <td>...</td>\n",
       "      <td>...</td>\n",
       "      <td>...</td>\n",
       "      <td>...</td>\n",
       "    </tr>\n",
       "    <tr>\n",
       "      <th>14670</th>\n",
       "      <td>0.0</td>\n",
       "      <td>0.0</td>\n",
       "      <td>0.0</td>\n",
       "      <td>0.0</td>\n",
       "      <td>0.0</td>\n",
       "      <td>0.0</td>\n",
       "      <td>0.0</td>\n",
       "      <td>0.0</td>\n",
       "      <td>0.0</td>\n",
       "      <td>0.0</td>\n",
       "      <td>...</td>\n",
       "      <td>0.0</td>\n",
       "      <td>0.0</td>\n",
       "      <td>0.0</td>\n",
       "      <td>0.0</td>\n",
       "      <td>0.0</td>\n",
       "      <td>0.0</td>\n",
       "      <td>0.0</td>\n",
       "      <td>0.0</td>\n",
       "      <td>0.0</td>\n",
       "      <td>0.0</td>\n",
       "    </tr>\n",
       "    <tr>\n",
       "      <th>14671</th>\n",
       "      <td>0.0</td>\n",
       "      <td>0.0</td>\n",
       "      <td>0.0</td>\n",
       "      <td>0.0</td>\n",
       "      <td>0.0</td>\n",
       "      <td>0.0</td>\n",
       "      <td>0.0</td>\n",
       "      <td>0.0</td>\n",
       "      <td>0.0</td>\n",
       "      <td>0.0</td>\n",
       "      <td>...</td>\n",
       "      <td>0.0</td>\n",
       "      <td>0.0</td>\n",
       "      <td>0.0</td>\n",
       "      <td>0.0</td>\n",
       "      <td>0.0</td>\n",
       "      <td>0.0</td>\n",
       "      <td>0.0</td>\n",
       "      <td>0.0</td>\n",
       "      <td>0.0</td>\n",
       "      <td>0.0</td>\n",
       "    </tr>\n",
       "    <tr>\n",
       "      <th>14672</th>\n",
       "      <td>0.0</td>\n",
       "      <td>0.0</td>\n",
       "      <td>0.0</td>\n",
       "      <td>0.0</td>\n",
       "      <td>0.0</td>\n",
       "      <td>0.0</td>\n",
       "      <td>0.0</td>\n",
       "      <td>0.0</td>\n",
       "      <td>0.0</td>\n",
       "      <td>0.0</td>\n",
       "      <td>...</td>\n",
       "      <td>0.0</td>\n",
       "      <td>0.0</td>\n",
       "      <td>0.0</td>\n",
       "      <td>0.0</td>\n",
       "      <td>0.0</td>\n",
       "      <td>0.0</td>\n",
       "      <td>0.0</td>\n",
       "      <td>0.0</td>\n",
       "      <td>0.0</td>\n",
       "      <td>0.0</td>\n",
       "    </tr>\n",
       "    <tr>\n",
       "      <th>14673</th>\n",
       "      <td>0.0</td>\n",
       "      <td>0.0</td>\n",
       "      <td>0.0</td>\n",
       "      <td>0.0</td>\n",
       "      <td>0.0</td>\n",
       "      <td>0.0</td>\n",
       "      <td>0.0</td>\n",
       "      <td>0.0</td>\n",
       "      <td>0.0</td>\n",
       "      <td>0.0</td>\n",
       "      <td>...</td>\n",
       "      <td>0.0</td>\n",
       "      <td>0.0</td>\n",
       "      <td>0.0</td>\n",
       "      <td>0.0</td>\n",
       "      <td>0.0</td>\n",
       "      <td>0.0</td>\n",
       "      <td>0.0</td>\n",
       "      <td>0.0</td>\n",
       "      <td>0.0</td>\n",
       "      <td>0.0</td>\n",
       "    </tr>\n",
       "    <tr>\n",
       "      <th>14674</th>\n",
       "      <td>0.0</td>\n",
       "      <td>0.0</td>\n",
       "      <td>0.0</td>\n",
       "      <td>0.0</td>\n",
       "      <td>0.0</td>\n",
       "      <td>0.0</td>\n",
       "      <td>0.0</td>\n",
       "      <td>0.0</td>\n",
       "      <td>0.0</td>\n",
       "      <td>0.0</td>\n",
       "      <td>...</td>\n",
       "      <td>0.0</td>\n",
       "      <td>0.0</td>\n",
       "      <td>0.0</td>\n",
       "      <td>0.0</td>\n",
       "      <td>0.0</td>\n",
       "      <td>0.0</td>\n",
       "      <td>0.0</td>\n",
       "      <td>0.0</td>\n",
       "      <td>0.0</td>\n",
       "      <td>0.0</td>\n",
       "    </tr>\n",
       "  </tbody>\n",
       "</table>\n",
       "<p>14675 rows × 1000 columns</p>\n",
       "</div>"
      ],
      "text/plain": [
       "       100  13mp  14k  1st  2017  2018  2nd  3rd  4000  4000 mah  ...  would  \\\n",
       "0      0.0   0.0  0.0  0.0   0.0   0.0  0.0  0.0   0.0       0.0  ...    0.0   \n",
       "1      0.0   0.0  0.0  0.0   0.0   0.0  0.0  0.0   0.0       0.0  ...    0.0   \n",
       "2      0.0   0.0  0.0  0.0   0.0   0.0  0.0  0.0   0.0       0.0  ...    0.0   \n",
       "3      0.0   0.0  0.0  0.0   0.0   0.0  0.0  0.0   0.0       0.0  ...    0.0   \n",
       "4      0.0   0.0  0.0  0.0   0.0   0.0  0.0  0.0   0.0       0.0  ...    0.0   \n",
       "...    ...   ...  ...  ...   ...   ...  ...  ...   ...       ...  ...    ...   \n",
       "14670  0.0   0.0  0.0  0.0   0.0   0.0  0.0  0.0   0.0       0.0  ...    0.0   \n",
       "14671  0.0   0.0  0.0  0.0   0.0   0.0  0.0  0.0   0.0       0.0  ...    0.0   \n",
       "14672  0.0   0.0  0.0  0.0   0.0   0.0  0.0  0.0   0.0       0.0  ...    0.0   \n",
       "14673  0.0   0.0  0.0  0.0   0.0   0.0  0.0  0.0   0.0       0.0  ...    0.0   \n",
       "14674  0.0   0.0  0.0  0.0   0.0   0.0  0.0  0.0   0.0       0.0  ...    0.0   \n",
       "\n",
       "       write  write review  wrong  wrost  year  yes  yesterday  yet  youtube  \n",
       "0        0.0           0.0    0.0    0.0   0.0  0.0        0.0  0.0      0.0  \n",
       "1        0.0           0.0    0.0    0.0   0.0  0.0        0.0  0.0      0.0  \n",
       "2        0.0           0.0    0.0    0.0   0.0  0.0        0.0  0.0      0.0  \n",
       "3        0.0           0.0    0.0    0.0   0.0  0.0        0.0  0.0      0.0  \n",
       "4        0.0           0.0    0.0    0.0   0.0  0.0        0.0  0.0      0.0  \n",
       "...      ...           ...    ...    ...   ...  ...        ...  ...      ...  \n",
       "14670    0.0           0.0    0.0    0.0   0.0  0.0        0.0  0.0      0.0  \n",
       "14671    0.0           0.0    0.0    0.0   0.0  0.0        0.0  0.0      0.0  \n",
       "14672    0.0           0.0    0.0    0.0   0.0  0.0        0.0  0.0      0.0  \n",
       "14673    0.0           0.0    0.0    0.0   0.0  0.0        0.0  0.0      0.0  \n",
       "14674    0.0           0.0    0.0    0.0   0.0  0.0        0.0  0.0      0.0  \n",
       "\n",
       "[14675 rows x 1000 columns]"
      ]
     },
     "execution_count": 91,
     "metadata": {},
     "output_type": "execute_result"
    }
   ],
   "source": [
    "TFIDFunigram"
   ]
  },
  {
   "cell_type": "code",
   "execution_count": 92,
   "metadata": {},
   "outputs": [],
   "source": [
    "X = reviews.clean_reviewlemm.values\n",
    "y = reviews.sentiment.values"
   ]
  },
  {
   "cell_type": "code",
   "execution_count": 93,
   "metadata": {},
   "outputs": [
    {
     "data": {
      "text/plain": [
       "array(['good need update improvement',\n",
       "       'bad buy ever battery drain like hell backup hour internet use even put idle get discharge big lie amazon lenove not_at expect make full say battery 4000mah booster charger fake take least hour fully charge know survive make full please else regret like',\n",
       "       'get cash back already january', ..., 'awesome price',\n",
       "       'nice process successful dual camera differ dual mod',\n",
       "       'good pakeging not_enough'], dtype=object)"
      ]
     },
     "execution_count": 93,
     "metadata": {},
     "output_type": "execute_result"
    }
   ],
   "source": [
    "X"
   ]
  },
  {
   "cell_type": "code",
   "execution_count": 94,
   "metadata": {},
   "outputs": [
    {
     "data": {
      "text/plain": [
       "array([1, 0, 1, ..., 1, 1, 1], dtype=int64)"
      ]
     },
     "execution_count": 94,
     "metadata": {},
     "output_type": "execute_result"
    }
   ],
   "source": [
    "y"
   ]
  },
  {
   "cell_type": "code",
   "execution_count": 95,
   "metadata": {},
   "outputs": [],
   "source": [
    "from sklearn.model_selection import train_test_split\n",
    "X_train,X_test,y_train,y_test = train_test_split(X,y,test_size = 0.2,random_state = 1809)"
   ]
  },
  {
   "cell_type": "code",
   "execution_count": 199,
   "metadata": {},
   "outputs": [],
   "source": [
    "from sklearn.linear_model import LogisticRegression as LR\n",
    "logreg1 = LR(max_iter=10000)\n",
    "logreg2 = LR(max_iter=10000)"
   ]
  },
  {
   "cell_type": "code",
   "execution_count": 97,
   "metadata": {},
   "outputs": [],
   "source": [
    "?LR"
   ]
  },
  {
   "cell_type": "code",
   "execution_count": 98,
   "metadata": {},
   "outputs": [],
   "source": [
    "vectorizer1 = CountVectorizer(ngram_range=(1,3),max_features = 1000)\n",
    "vectorizer2 = TfidfVectorizer(ngram_range=(1,3),max_features = 1000)"
   ]
  },
  {
   "cell_type": "code",
   "execution_count": 99,
   "metadata": {},
   "outputs": [],
   "source": [
    "X_train_DTM = vectorizer1.fit_transform(X_train)\n",
    "X_train_TFIDF = vectorizer2.fit_transform(X_train)"
   ]
  },
  {
   "cell_type": "code",
   "execution_count": 200,
   "metadata": {},
   "outputs": [
    {
     "data": {
      "text/plain": [
       "LogisticRegression(max_iter=10000)"
      ]
     },
     "execution_count": 200,
     "metadata": {},
     "output_type": "execute_result"
    }
   ],
   "source": [
    "logreg1.fit(X_train_DTM.todense(),y_train)\n",
    "logreg2.fit(X_train_TFIDF.todense(),y_train)"
   ]
  },
  {
   "cell_type": "code",
   "execution_count": 101,
   "metadata": {},
   "outputs": [],
   "source": [
    "y_train_pred1 = logreg1.predict(X_train_DTM.todense())\n",
    "y_train_pred2 = logreg2.predict(X_train_TFIDF.todense())"
   ]
  },
  {
   "cell_type": "code",
   "execution_count": 102,
   "metadata": {},
   "outputs": [],
   "source": [
    "from sklearn.metrics import confusion_matrix, accuracy_score"
   ]
  },
  {
   "cell_type": "code",
   "execution_count": 103,
   "metadata": {},
   "outputs": [
    {
     "data": {
      "text/plain": [
       "0.8933560477001704"
      ]
     },
     "execution_count": 103,
     "metadata": {},
     "output_type": "execute_result"
    }
   ],
   "source": [
    "accuracy_score(y_train,y_train_pred1)"
   ]
  },
  {
   "cell_type": "code",
   "execution_count": 104,
   "metadata": {},
   "outputs": [
    {
     "data": {
      "text/plain": [
       "0.8797274275979557"
      ]
     },
     "execution_count": 104,
     "metadata": {},
     "output_type": "execute_result"
    }
   ],
   "source": [
    "accuracy_score(y_train,y_train_pred2)"
   ]
  },
  {
   "cell_type": "code",
   "execution_count": 105,
   "metadata": {},
   "outputs": [],
   "source": [
    "#How many paramters in the logistic regression model?\n",
    "#1001\n",
    "#1/(1+ exp(-alpha + beta1*x1 + beta2*x2 +... + beta1000*x1000))"
   ]
  },
  {
   "cell_type": "code",
   "execution_count": null,
   "metadata": {},
   "outputs": [],
   "source": []
  },
  {
   "cell_type": "code",
   "execution_count": 106,
   "metadata": {},
   "outputs": [],
   "source": [
    "X_test_DTM = vectorizer1.transform(X_test)\n",
    "X_test_TFIDF = vectorizer2.transform(X_test)"
   ]
  },
  {
   "cell_type": "code",
   "execution_count": 107,
   "metadata": {},
   "outputs": [],
   "source": [
    "y_test_pred1 = logreg1.predict(X_test_DTM)\n",
    "y_test_pred2 = logreg2.predict(X_test_TFIDF)"
   ]
  },
  {
   "cell_type": "code",
   "execution_count": 108,
   "metadata": {},
   "outputs": [
    {
     "data": {
      "text/plain": [
       "0.8609880749574106"
      ]
     },
     "execution_count": 108,
     "metadata": {},
     "output_type": "execute_result"
    }
   ],
   "source": [
    "accuracy_score(y_test,y_test_pred1)"
   ]
  },
  {
   "cell_type": "code",
   "execution_count": 109,
   "metadata": {},
   "outputs": [
    {
     "data": {
      "text/plain": [
       "0.8609880749574106"
      ]
     },
     "execution_count": 109,
     "metadata": {},
     "output_type": "execute_result"
    }
   ],
   "source": [
    "accuracy_score(y_test,y_test_pred2)"
   ]
  },
  {
   "cell_type": "code",
   "execution_count": 110,
   "metadata": {},
   "outputs": [
    {
     "data": {
      "text/plain": [
       "array([[1146,  252],\n",
       "       [ 156, 1381]], dtype=int64)"
      ]
     },
     "execution_count": 110,
     "metadata": {},
     "output_type": "execute_result"
    }
   ],
   "source": [
    "confusion_matrix(y_test,y_test_pred2,labels = [1,0])"
   ]
  },
  {
   "cell_type": "code",
   "execution_count": 111,
   "metadata": {},
   "outputs": [
    {
     "data": {
      "text/plain": [
       "array([[1381,  156],\n",
       "       [ 252, 1146]], dtype=int64)"
      ]
     },
     "execution_count": 111,
     "metadata": {},
     "output_type": "execute_result"
    }
   ],
   "source": [
    "confusion_matrix(y_test,y_test_pred2,labels = [0,1])"
   ]
  },
  {
   "cell_type": "code",
   "execution_count": 112,
   "metadata": {},
   "outputs": [],
   "source": [
    "review1 = \"bad phone, pathetic battery\"\n",
    "review2 = \"amazing phone, great camera\"\n",
    "review3 = \"bad phone but good camera\"\n",
    "review4 = \"bad phone but good camera good good\"\n",
    "review5 = \"bad phone but good camera good good good\"\n",
    "lreview = [review1,review2,review3,review4,review5]"
   ]
  },
  {
   "cell_type": "code",
   "execution_count": 113,
   "metadata": {},
   "outputs": [],
   "source": [
    "crev1 = vectorizer1.transform(lreview)\n",
    "crev2 = vectorizer2.transform(lreview)"
   ]
  },
  {
   "cell_type": "code",
   "execution_count": 114,
   "metadata": {},
   "outputs": [],
   "source": [
    "rpred1 = logreg1.predict(crev1.todense())\n",
    "rpred2 = logreg2.predict(crev2.todense())"
   ]
  },
  {
   "cell_type": "code",
   "execution_count": 115,
   "metadata": {},
   "outputs": [
    {
     "name": "stdout",
     "output_type": "stream",
     "text": [
      "[0 1 0 0 1]\n",
      "[0 1 0 1 1]\n"
     ]
    }
   ],
   "source": [
    "print(rpred1)\n",
    "print(rpred2)"
   ]
  },
  {
   "cell_type": "code",
   "execution_count": 116,
   "metadata": {},
   "outputs": [],
   "source": [
    "listofcoef1 = logreg1.coef_"
   ]
  },
  {
   "cell_type": "code",
   "execution_count": 117,
   "metadata": {},
   "outputs": [],
   "source": [
    "listofcoef2 = logreg2.coef_"
   ]
  },
  {
   "cell_type": "code",
   "execution_count": 118,
   "metadata": {},
   "outputs": [
    {
     "data": {
      "text/plain": [
       "(array([ 2.,  0.,  0.,  1.,  0.,  1.,  0.,  0.,  1.,  0.,  1.,  0.,  1.,\n",
       "         1.,  1.,  1.,  4.,  4.,  0.,  8.,  5.,  4.,  3.,  6.,  8.,  9.,\n",
       "        10., 11., 16., 14., 18., 17., 16., 17., 31., 18., 29., 30., 32.,\n",
       "        34., 31., 44., 35., 37., 39., 35., 37., 40., 32., 20., 33., 23.,\n",
       "        36., 19., 20., 22., 22., 21., 10., 12.,  9.,  5., 10.,  4.,  7.,\n",
       "         3.,  6.,  6.,  1.,  3.,  5.,  0.,  1.,  0.,  1.,  2.,  1.,  1.,\n",
       "         2.,  0.,  0.,  2.,  3.,  1.,  1.,  1.,  0.,  0.,  0.,  0.,  0.,\n",
       "         0.,  0.,  1.,  1.,  0.,  0.,  0.,  0.,  1.]),\n",
       " array([-2.51946696, -2.46494977, -2.41043257, -2.35591537, -2.30139818,\n",
       "        -2.24688098, -2.19236378, -2.13784659, -2.08332939, -2.02881219,\n",
       "        -1.974295  , -1.9197778 , -1.8652606 , -1.81074341, -1.75622621,\n",
       "        -1.70170902, -1.64719182, -1.59267462, -1.53815743, -1.48364023,\n",
       "        -1.42912303, -1.37460584, -1.32008864, -1.26557144, -1.21105425,\n",
       "        -1.15653705, -1.10201985, -1.04750266, -0.99298546, -0.93846827,\n",
       "        -0.88395107, -0.82943387, -0.77491668, -0.72039948, -0.66588228,\n",
       "        -0.61136509, -0.55684789, -0.50233069, -0.4478135 , -0.3932963 ,\n",
       "        -0.3387791 , -0.28426191, -0.22974471, -0.17522751, -0.12071032,\n",
       "        -0.06619312, -0.01167593,  0.04284127,  0.09735847,  0.15187566,\n",
       "         0.20639286,  0.26091006,  0.31542725,  0.36994445,  0.42446165,\n",
       "         0.47897884,  0.53349604,  0.58801324,  0.64253043,  0.69704763,\n",
       "         0.75156482,  0.80608202,  0.86059922,  0.91511641,  0.96963361,\n",
       "         1.02415081,  1.078668  ,  1.1331852 ,  1.1877024 ,  1.24221959,\n",
       "         1.29673679,  1.35125399,  1.40577118,  1.46028838,  1.51480557,\n",
       "         1.56932277,  1.62383997,  1.67835716,  1.73287436,  1.78739156,\n",
       "         1.84190875,  1.89642595,  1.95094315,  2.00546034,  2.05997754,\n",
       "         2.11449474,  2.16901193,  2.22352913,  2.27804632,  2.33256352,\n",
       "         2.38708072,  2.44159791,  2.49611511,  2.55063231,  2.6051495 ,\n",
       "         2.6596667 ,  2.7141839 ,  2.76870109,  2.82321829,  2.87773549,\n",
       "         2.93225268]),\n",
       " <BarContainer object of 100 artists>)"
      ]
     },
     "execution_count": 118,
     "metadata": {},
     "output_type": "execute_result"
    },
    {
     "data": {
      "image/png": "[encoded data removed]",
      "text/plain": [
       "<Figure size 432x288 with 1 Axes>"
      ]
     },
     "metadata": {
      "needs_background": "light"
     },
     "output_type": "display_data"
    }
   ],
   "source": [
    "plt.hist(listofcoef1.T,bins=100)"
   ]
  },
  {
   "cell_type": "code",
   "execution_count": 119,
   "metadata": {},
   "outputs": [
    {
     "data": {
      "text/plain": [
       "(array([  1.,   0.,   0.,   0.,   0.,   0.,   0.,   0.,   0.,   0.,   0.,\n",
       "          0.,   0.,   0.,   0.,   0.,   1.,   0.,   0.,   0.,   0.,   0.,\n",
       "          0.,   0.,   0.,   1.,   2.,   0.,   0.,   1.,   0.,   0.,   1.,\n",
       "          2.,   2.,   2.,   5.,   5.,   9.,  15.,  20.,  11.,  18.,  18.,\n",
       "         26.,  23.,  39.,  53.,  56.,  49.,  67., 100.,  66.,  65.,  59.,\n",
       "         45.,  48.,  34.,  35.,  20.,  19.,  14.,   9.,  10.,   6.,   8.,\n",
       "          5.,   3.,   4.,   0.,   3.,   4.,   0.,   1.,   4.,   1.,   0.,\n",
       "          0.,   1.,   0.,   1.,   0.,   2.,   1.,   0.,   0.,   0.,   1.,\n",
       "          0.,   0.,   1.,   0.,   0.,   1.,   0.,   0.,   0.,   1.,   0.,\n",
       "          1.]),\n",
       " array([-6.00627721, -5.89419404, -5.78211087, -5.6700277 , -5.55794453,\n",
       "        -5.44586136, -5.33377819, -5.22169502, -5.10961186, -4.99752869,\n",
       "        -4.88544552, -4.77336235, -4.66127918, -4.54919601, -4.43711284,\n",
       "        -4.32502967, -4.2129465 , -4.10086333, -3.98878017, -3.876697  ,\n",
       "        -3.76461383, -3.65253066, -3.54044749, -3.42836432, -3.31628115,\n",
       "        -3.20419798, -3.09211481, -2.98003164, -2.86794848, -2.75586531,\n",
       "        -2.64378214, -2.53169897, -2.4196158 , -2.30753263, -2.19544946,\n",
       "        -2.08336629, -1.97128312, -1.85919995, -1.74711678, -1.63503362,\n",
       "        -1.52295045, -1.41086728, -1.29878411, -1.18670094, -1.07461777,\n",
       "        -0.9625346 , -0.85045143, -0.73836826, -0.62628509, -0.51420193,\n",
       "        -0.40211876, -0.29003559, -0.17795242, -0.06586925,  0.04621392,\n",
       "         0.15829709,  0.27038026,  0.38246343,  0.4945466 ,  0.60662976,\n",
       "         0.71871293,  0.8307961 ,  0.94287927,  1.05496244,  1.16704561,\n",
       "         1.27912878,  1.39121195,  1.50329512,  1.61537829,  1.72746146,\n",
       "         1.83954462,  1.95162779,  2.06371096,  2.17579413,  2.2878773 ,\n",
       "         2.39996047,  2.51204364,  2.62412681,  2.73620998,  2.84829315,\n",
       "         2.96037631,  3.07245948,  3.18454265,  3.29662582,  3.40870899,\n",
       "         3.52079216,  3.63287533,  3.7449585 ,  3.85704167,  3.96912484,\n",
       "         4.081208  ,  4.19329117,  4.30537434,  4.41745751,  4.52954068,\n",
       "         4.64162385,  4.75370702,  4.86579019,  4.97787336,  5.08995653,\n",
       "         5.20203969]),\n",
       " <BarContainer object of 100 artists>)"
      ]
     },
     "execution_count": 119,
     "metadata": {},
     "output_type": "execute_result"
    },
    {
     "data": {
      "image/png": "[encoded data removed]",
      "text/plain": [
       "<Figure size 432x288 with 1 Axes>"
      ]
     },
     "metadata": {
      "needs_background": "light"
     },
     "output_type": "display_data"
    }
   ],
   "source": [
    "plt.hist(listofcoef2.T,bins=100)"
   ]
  },
  {
   "cell_type": "code",
   "execution_count": 120,
   "metadata": {},
   "outputs": [
    {
     "name": "stdout",
     "output_type": "stream",
     "text": [
      "[311, 52, 876, 535, 600, 428, 103, 412, 32, 875, 326, 942, 116, 65, 559, 986, 647, 11, 786, 671]\n"
     ]
    }
   ],
   "source": [
    "listofcoef1 = listofcoef1.reshape(len(listofcoef1.T))\n",
    "import heapq\n",
    "nlargest = heapq.nlargest(20, range(len(listofcoef1)), listofcoef1.__getitem__)\n",
    "print(nlargest)"
   ]
  },
  {
   "cell_type": "code",
   "execution_count": 121,
   "metadata": {},
   "outputs": [
    {
     "name": "stdout",
     "output_type": "stream",
     "text": [
      "[611, 64, 939, 699, 960, 626, 989, 309, 440, 278, 247, 828, 228, 869, 101, 325, 534, 760, 589, 189]\n"
     ]
    }
   ],
   "source": [
    "nsmallest = heapq.nsmallest(20, range(len(listofcoef1)), listofcoef1.__getitem__)\n",
    "print(nsmallest)"
   ]
  },
  {
   "cell_type": "code",
   "execution_count": 122,
   "metadata": {
    "scrolled": true
   },
   "outputs": [
    {
     "name": "stdout",
     "output_type": "stream",
     "text": [
      "excellent\n",
      "awesome\n",
      "superb\n",
      "love\n",
      "nice\n",
      "happy\n",
      "best\n",
      "great\n",
      "amaze\n",
      "super\n",
      "fantastic\n",
      "value money\n",
      "bokeh effect\n",
      "bad bad\n",
      "memory card\n",
      "worth\n",
      "opinion\n",
      "4000mah battery\n",
      "satisfy\n",
      "perfect\n"
     ]
    }
   ],
   "source": [
    "for i in range(20):\n",
    "    print(vectorizer1.get_feature_names()[nlargest[i]])"
   ]
  },
  {
   "cell_type": "markdown",
   "metadata": {},
   "source": [
    "# The reason 'bad bad' being positive is justified because whereever it appears, 'bad' also appears twice, which has a large negative beta, which can compensate for the postivity 'bad bad' is trying to bring.\n",
    "Something similar to the multi-collinearity issue in linear regression, where these things are observed once in a while"
   ]
  },
  {
   "cell_type": "code",
   "execution_count": 123,
   "metadata": {
    "scrolled": true
   },
   "outputs": [
    {
     "name": "stdout",
     "output_type": "stream",
     "text": [
      "not_a good\n",
      "bad\n",
      "useless\n",
      "poor\n",
      "waste\n",
      "not_very\n",
      "worthlessness\n",
      "evil\n",
      "heat fast\n",
      "drain fast\n",
      "definitely\n",
      "slow\n",
      "customer\n",
      "store\n",
      "bed\n",
      "fall_short_of\n",
      "loud\n",
      "refund\n",
      "negate\n",
      "cheat\n"
     ]
    }
   ],
   "source": [
    "for i in range(20):\n",
    "    print(vectorizer1.get_feature_names()[nsmallest[i]])"
   ]
  },
  {
   "cell_type": "code",
   "execution_count": 124,
   "metadata": {},
   "outputs": [],
   "source": [
    "listofcoef2 = listofcoef2.reshape(len(listofcoef2.T))\n",
    "import heapq\n",
    "nlargest = heapq.nlargest(20, range(len(listofcoef2)), listofcoef2.__getitem__)\n",
    "nsmallest = heapq.nsmallest(20, range(len(listofcoef2)), listofcoef2.__getitem__)"
   ]
  },
  {
   "cell_type": "code",
   "execution_count": 125,
   "metadata": {},
   "outputs": [
    {
     "name": "stdout",
     "output_type": "stream",
     "text": [
      "awesome\n",
      "excellent\n",
      "best\n",
      "great\n",
      "superb\n",
      "amaze\n",
      "love\n",
      "nice\n",
      "worth\n",
      "super\n",
      "happy\n",
      "satisfy\n",
      "good\n",
      "fantastic\n",
      "value money\n",
      "budget\n",
      "everything\n",
      "price\n",
      "perfect\n",
      "really good\n"
     ]
    }
   ],
   "source": [
    "for i in range(20):\n",
    "    print(vectorizer2.get_feature_names()[nlargest[i]])"
   ]
  },
  {
   "cell_type": "code",
   "execution_count": 126,
   "metadata": {},
   "outputs": [
    {
     "name": "stdout",
     "output_type": "stream",
     "text": [
      "bad\n",
      "poor\n",
      "evil\n",
      "waste\n",
      "idle\n",
      "disappoint\n",
      "slow\n",
      "heat\n",
      "worthlessness\n",
      "not_a good\n",
      "drain\n",
      "app\n",
      "fall_short_of\n",
      "unable\n",
      "replacement\n",
      "useless\n",
      "return\n",
      "speaker\n",
      "dont\n",
      "drain fast\n"
     ]
    }
   ],
   "source": [
    "for i in range(20):\n",
    "    print(vectorizer2.get_feature_names()[nsmallest[i]])"
   ]
  },
  {
   "cell_type": "code",
   "execution_count": 127,
   "metadata": {},
   "outputs": [
    {
     "data": {
      "text/plain": [
       "array([-1.48342131e-01,  2.01234601e-01,  3.29508237e-01,  6.73010560e-02,\n",
       "       -3.88408832e-01, -3.79847117e-01, -1.32913226e+00, -2.06897510e-01,\n",
       "        3.28170226e-01, -7.71965982e-02, -2.54296410e-01,  4.92136213e-01,\n",
       "       -1.59060703e-01, -2.78392875e-01, -2.51892579e-01,  2.88085342e-01,\n",
       "       -4.97654328e-01,  7.11659660e-01, -1.54132303e-01, -1.14034711e+00,\n",
       "        2.90527657e-01, -5.62339525e-01,  6.84536454e-02, -2.70062174e-01,\n",
       "       -4.36309755e-01, -5.43557981e-01, -2.05291718e-02, -6.33477383e-01,\n",
       "        1.28738973e+00, -3.30032640e-01,  1.37745794e-01, -5.01838930e-01,\n",
       "        3.40756872e+00, -1.31913236e-01, -3.85911814e-01, -3.06591956e-01,\n",
       "        5.21430149e-01, -1.84714451e-01, -1.84026016e-01, -1.57366202e-01,\n",
       "       -2.04369383e+00, -5.62477780e-01, -2.39557462e-01, -8.00949451e-02,\n",
       "        5.29605479e-01, -5.24884532e-01, -3.76925372e-01, -3.76405188e-01,\n",
       "       -6.84476115e-01, -1.12957596e+00, -4.15307457e-01, -1.57903746e+00,\n",
       "        5.20203969e+00,  1.65827268e-01, -2.65653272e-01,  1.64372965e-01,\n",
       "       -3.00151456e-02, -9.63335144e-02,  2.10861093e-02,  5.40638553e-02,\n",
       "       -2.46608764e-01, -1.80555342e-01,  1.40162173e+00, -5.44836883e-01,\n",
       "       -6.00627721e+00,  4.32274117e-01, -3.79264908e-01, -5.66831502e-01,\n",
       "       -1.09618546e+00, -1.23204900e+00, -1.48473412e+00, -4.29462276e-01,\n",
       "       -9.81508603e-01, -2.27520385e-01, -1.22685941e+00, -1.52524926e+00,\n",
       "        2.88139946e-01, -7.54652846e-01,  1.40321807e-01,  2.44481107e-02,\n",
       "       -3.82348091e-01,  8.83867256e-02,  1.22269666e+00, -5.40130459e-01,\n",
       "       -4.60354119e-01,  6.03153083e-01, -6.89062019e-01, -8.65304488e-01,\n",
       "       -8.37950967e-01, -2.97395314e-01, -4.90635367e-01,  3.00108152e-01,\n",
       "        9.11370856e-01, -7.87596855e-01, -3.05985839e-01, -2.68434999e-01,\n",
       "        1.10001840e+00,  1.86600001e-01, -1.02064147e-01, -6.54754369e-01,\n",
       "        3.36382247e-01, -1.58012291e+00,  4.63940812e-01,  4.49938631e+00,\n",
       "        7.78242769e-01,  7.70409254e-01,  5.07524480e-01, -1.13431550e+00,\n",
       "       -8.22836051e-01,  2.22701012e-01,  1.44004062e+00, -1.20176893e-01,\n",
       "       -5.75241206e-01, -1.40483170e-01, -6.33511304e-01, -2.05093891e-01,\n",
       "        6.13244528e-01, -4.41688740e-01, -8.89108330e-01, -5.59927242e-01,\n",
       "       -1.31122721e+00, -4.37941747e-01, -8.11771600e-01, -4.61066307e-02,\n",
       "        2.21604365e+00, -9.53943084e-01, -2.65341814e-01,  2.46245815e-01,\n",
       "       -7.71607474e-02, -1.63432763e+00,  1.03953390e-01, -6.16829854e-01,\n",
       "       -4.28283612e-01, -1.74653843e-01, -1.69521473e+00, -2.92610303e-01,\n",
       "        9.20374977e-02,  1.14024426e-01,  1.74800451e-02,  3.32051510e-01,\n",
       "       -5.97357926e-01,  7.88915463e-01,  5.92280513e-01,  1.10208512e-01,\n",
       "       -1.16283627e+00,  1.23282314e-01,  5.30803215e-01, -2.77498751e-01,\n",
       "       -9.72409393e-02,  2.17782060e-01, -2.06949681e-01,  4.99948172e-01,\n",
       "       -1.14717050e+00, -5.77130952e-02, -2.84042971e-01, -5.52989546e-01,\n",
       "       -1.09812217e+00,  6.37291412e-01, -7.15976287e-01, -2.22697292e-01,\n",
       "       -2.88964497e-01, -1.00272268e+00,  7.54926315e-01, -5.25921724e-01,\n",
       "       -1.57565689e+00, -6.03009612e-02, -9.97599361e-01, -7.64815532e-01,\n",
       "       -1.50766155e-01,  2.88872818e-01, -1.61112490e+00,  6.31018637e-01,\n",
       "       -7.24731700e-01, -1.19124952e+00, -8.64999225e-01, -1.62791018e+00,\n",
       "       -1.78777749e+00,  2.72624670e-01,  2.85751118e-01, -7.95456487e-02,\n",
       "        1.49486728e-01,  1.57846652e-03, -7.43477364e-01, -5.18914369e-01,\n",
       "        2.18159730e-01, -6.34451574e-01, -7.65368156e-01,  7.15521077e-02,\n",
       "       -6.63778485e-01, -1.61051011e+00, -3.53293190e-01, -3.28606947e-01,\n",
       "       -7.48287792e-01, -6.46029779e-01,  1.41748594e-02, -1.29519233e-01,\n",
       "        7.55384951e-01, -3.89678050e-01, -5.20218628e-01, -4.85447093e-01,\n",
       "        4.79678356e-01, -6.31187291e-02, -3.65282331e-01, -2.49846901e-01,\n",
       "        1.41563634e-03,  5.34653936e-01,  2.15328272e-02, -5.20881120e-04,\n",
       "       -2.87754812e-02,  4.69640919e-01, -2.02339025e-02, -4.84784783e-01,\n",
       "        4.09420090e-02, -4.93643453e-01, -1.81682315e-01, -2.70529727e-01,\n",
       "       -1.62341106e+00, -1.31874393e-02,  1.90856215e+00,  8.56487685e-01,\n",
       "        3.44587683e-01,  6.43306388e-01,  6.88464271e-02,  1.48489404e-01,\n",
       "        7.92502886e-02, -9.80253583e-01, -8.15434259e-01,  8.49637818e-01,\n",
       "       -1.77013065e+00, -7.10694967e-01, -8.58697502e-02, -8.40072530e-01,\n",
       "       -7.36791740e-01,  4.21214520e-01, -1.05209433e+00,  1.66421982e-01,\n",
       "        4.62787418e-02, -8.43121969e-01, -2.35976973e-01,  4.34688031e-01,\n",
       "        5.59801350e-01,  7.06620663e-02,  1.28893413e+00, -6.04597861e-02,\n",
       "       -8.93571279e-02, -1.15322904e+00, -1.49222906e+00,  3.61144399e-02,\n",
       "        2.25681026e-01,  1.40079209e+00, -5.26274268e-01,  8.36674075e-01,\n",
       "        3.01342924e-01, -1.87896978e-01,  5.84264197e-01, -1.77926520e-01,\n",
       "       -4.89344027e-01, -6.95396806e-01, -2.75413831e+00, -3.20546122e-01,\n",
       "       -1.46431361e+00, -9.93315646e-01, -7.74074619e-01, -7.08539044e-01,\n",
       "        6.49896614e-02,  2.51788760e-01,  2.61284885e-01, -5.04853506e-01,\n",
       "       -8.14066840e-01,  8.71525075e-01, -5.13016762e-01, -1.84017429e+00,\n",
       "       -8.30891539e-01,  1.65987424e-01, -6.37322034e-01, -1.82709071e-01,\n",
       "       -2.11559774e+00,  2.28135587e-01, -1.81816187e+00, -5.23262548e-01,\n",
       "        1.96126764e-01, -5.59462134e-01, -4.03986062e-01,  2.60517867e-01,\n",
       "        6.09152106e-02, -5.39246557e-01, -1.64839423e+00, -2.19204681e-01,\n",
       "       -5.32613001e-01,  5.56872422e-01,  1.30567854e+00,  7.04751167e-01,\n",
       "       -9.73179170e-02,  2.51528952e-01, -2.33890638e-01,  4.53932107e-04,\n",
       "        5.35331507e-01,  5.65564192e-01, -6.68842493e-03,  5.32679981e-02,\n",
       "       -1.80065449e+00, -2.59663496e-01, -6.28620970e-01, -3.52505368e-01,\n",
       "       -5.40909166e-01, -3.81375161e-01,  2.01925358e+00,  4.80189166e-01,\n",
       "        2.17066467e-01, -3.19431237e+00, -4.83160066e-01,  4.88666269e+00,\n",
       "        1.14620730e+00, -6.28938934e-01,  2.63550088e-01, -2.64996009e-01,\n",
       "        8.48450881e-01, -4.91227700e-01, -1.30134910e+00, -4.83297753e-01,\n",
       "       -3.44671510e-01, -4.26462973e-01, -1.30530448e+00, -8.70186541e-01,\n",
       "        5.07150888e-02, -1.99324167e+00,  2.33351886e+00,  7.30731350e-01,\n",
       "       -7.92903226e-01,  5.38756350e-01, -2.30198331e-01,  1.00064910e+00,\n",
       "        8.93843202e-01,  4.59825026e-02, -1.28707721e+00,  1.12411802e+00,\n",
       "       -4.03454192e-01,  1.47049138e-03, -3.53036017e-01,  1.65770450e-02,\n",
       "       -5.92532354e-01,  7.52779061e-01, -4.59553310e-02, -3.40338861e-01,\n",
       "        1.38593491e+00, -1.84433488e-01,  1.14878811e-01,  9.91246400e-01,\n",
       "        1.26538471e-01, -2.05453145e-01, -6.02145568e-02,  3.73701047e-01,\n",
       "        4.13037102e-01,  1.85475358e-01, -4.32047100e-01, -3.48955892e-01,\n",
       "        5.17077530e-02, -8.30560327e-01, -2.78534479e-01, -3.02854218e-01,\n",
       "        7.32277994e-01,  7.18416831e-01, -3.99580581e-01,  6.12491616e-01,\n",
       "        2.84816765e-01,  1.66346161e-01,  4.81137930e-01,  3.92683599e-01,\n",
       "       -1.93023584e-01,  3.63512065e-01, -8.56234815e-01,  1.06218462e+00,\n",
       "       -1.30590410e+00, -3.30435061e-01, -2.60574327e-01, -5.05336463e-01,\n",
       "       -2.85519879e-02, -7.12538416e-01, -5.99425292e-01, -1.00437624e+00,\n",
       "       -4.40147325e-01,  2.34290682e+00,  8.46682847e-01,  5.44220132e-01,\n",
       "        7.50336268e-01,  1.17221034e+00,  3.26300228e-01,  3.51749524e-01,\n",
       "        2.38224499e-01, -5.38370070e-02,  1.14562826e+00, -4.63054727e-01,\n",
       "        5.98535195e-01,  3.17121230e-01,  1.68650266e+00,  1.05119464e+00,\n",
       "        5.55646989e-01,  1.09447624e+00,  8.05431424e-01,  4.96691583e-01,\n",
       "        1.62812633e+00,  8.77444513e-01,  1.20163124e+00,  6.53892390e-02,\n",
       "       -1.80409867e-01,  1.44824010e+00,  7.03665838e-01,  5.50115261e-01,\n",
       "        9.48935274e-01,  2.59982771e-01, -7.92315003e-01, -8.41901835e-01,\n",
       "        4.10448009e+00,  2.38124806e-01,  5.69807189e-01,  1.94570677e-02,\n",
       "        1.57907901e+00, -2.35349908e-01, -2.89141355e-01, -8.60356476e-01,\n",
       "        4.24206569e-01, -1.07199771e+00,  6.64923966e-01, -6.71486494e-02,\n",
       "       -1.45703084e+00,  1.76948554e-01, -8.12270331e-01, -1.07573274e+00,\n",
       "        2.48573556e+00,  8.90490173e-02,  4.01073170e-03, -5.19997297e-01,\n",
       "       -6.89730839e-01, -1.21063108e+00,  2.66537206e-01, -7.37064160e-01,\n",
       "       -2.25739109e+00,  8.31017578e-03,  1.09831823e-01, -1.36313058e-02,\n",
       "       -1.41935376e+00,  1.37736223e-02, -3.95237414e-01, -1.25091516e-01,\n",
       "       -6.34758292e-01, -1.29820880e+00,  6.71785275e-02, -3.29247701e-01,\n",
       "        5.67867254e-01, -7.65685373e-01, -1.22019584e+00, -2.54730784e-01,\n",
       "       -7.27676879e-01, -1.90537378e-01, -5.95852815e-01, -4.46122664e-01,\n",
       "       -2.24024464e-01,  7.67391172e-03, -1.00531100e+00, -3.94689723e-01,\n",
       "       -2.87205831e-01, -1.51314970e+00, -2.04298935e-01, -1.00689823e-01,\n",
       "        1.23079088e-01, -7.09709620e-01, -2.99058991e+00, -4.64965270e-01,\n",
       "       -8.96172359e-01, -9.69525739e-01,  8.02513404e-01,  2.92108600e-01,\n",
       "       -2.97517594e-01, -6.32807278e-01, -5.25973615e-01, -4.88187097e-01,\n",
       "       -1.68506363e-01, -1.01757846e+00,  4.99054698e-01,  8.50120058e-02,\n",
       "       -3.16500788e-01, -9.87853874e-01,  1.38551810e-01, -2.92516354e-01,\n",
       "       -2.85829837e-01, -9.60292118e-01, -4.86927723e-01,  1.36126324e-01,\n",
       "       -3.92133771e-01, -2.47764846e-01, -1.00802984e-01, -3.78750047e-01,\n",
       "       -1.05127731e-01,  7.33146652e-02, -1.29540535e+00, -8.26011255e-01,\n",
       "        1.17780030e+00,  1.02739775e+00, -2.75970552e-01, -4.02449275e-01,\n",
       "       -2.96797634e-01, -8.51082133e-01,  3.32112236e-01,  5.01207828e-01,\n",
       "        1.27534487e-01,  3.17357284e-01, -3.26980995e-01, -2.77063025e-02,\n",
       "       -1.95585601e-01, -2.85355864e-01, -1.24971311e-01, -1.46845715e+00,\n",
       "       -9.71401314e-04, -2.34020311e-01, -1.48144528e-02, -2.02279908e-01,\n",
       "        5.29141943e-01, -1.16317553e-02,  9.49884967e-01, -5.58079805e-01,\n",
       "       -6.72885602e-01, -6.26228567e-01,  1.09845272e+00,  7.57227335e-01,\n",
       "        3.08737198e-01, -7.02085982e-01,  1.35054637e+00, -2.75591034e-02,\n",
       "        6.82638778e-01, -9.16440433e-02, -5.27578483e-01, -3.59217229e-01,\n",
       "       -1.48887114e+00, -2.29842835e-01, -5.61244514e-01,  3.24135267e+00,\n",
       "        1.80072533e-01, -6.93668356e-01,  7.45204480e-02,  3.53008766e-01,\n",
       "       -7.91165573e-01, -8.03083083e-01, -2.13445268e-01,  1.85032395e-02,\n",
       "       -1.07062508e+00, -1.48399523e+00, -7.61385442e-01, -1.00325331e+00,\n",
       "        3.81507421e-01, -1.41122355e+00, -9.00744918e-01, -5.56170845e-01,\n",
       "       -1.18955530e+00, -4.56208914e-01, -5.96464060e-01,  3.82462051e-01,\n",
       "       -1.79950781e-01, -1.08394138e-01, -3.84739954e-01,  3.50168572e-01,\n",
       "       -1.13853637e+00, -5.89169228e-01, -2.17281034e-01, -1.01000418e-01,\n",
       "       -9.52796013e-01, -7.57977109e-01, -3.76841949e-01,  4.56618505e-01,\n",
       "        2.97198883e-01,  8.04214788e-02, -1.71448509e-01,  4.20631576e-01,\n",
       "       -6.59003557e-01, -2.74562367e-01,  7.43258663e-02, -7.04666604e-01,\n",
       "       -3.49599639e-01, -7.34920597e-01, -9.52425620e-01, -1.15292155e+00,\n",
       "       -9.08512785e-02, -3.90801329e-02, -3.08976560e-01, -2.31622803e-01,\n",
       "        1.38623733e+00, -7.78100840e-01, -8.30815825e-01, -3.58747010e-01,\n",
       "        2.25688418e-01, -1.58772142e+00, -2.52003485e-02, -1.63608201e+00,\n",
       "       -1.08487493e+00, -5.82787293e-01, -3.62472937e-01, -7.56960409e-01,\n",
       "       -1.00262148e+00,  4.40028786e-01,  1.35416719e-01, -1.55379809e+00,\n",
       "        3.19338766e+00,  1.62504481e+00,  1.08455914e+00,  9.29594897e-01,\n",
       "        8.12195769e-01,  4.26768155e-01, -2.68672021e-01, -1.01731768e+00,\n",
       "        1.47093025e-02, -1.60190273e-01, -1.73835539e+00, -2.14672594e+00,\n",
       "       -1.40171673e+00, -1.25734056e+00, -3.67624052e-01, -1.52410526e+00,\n",
       "       -9.36952499e-01, -2.95608016e-01, -1.23783090e+00, -8.22814988e-01,\n",
       "       -1.27811778e+00, -1.04980604e+00, -8.99493954e-01, -2.54783496e-01,\n",
       "       -7.17460178e-01,  2.31526179e-01, -1.69433995e+00, -5.79500943e-01,\n",
       "       -1.43556900e-01, -4.85172835e-01, -1.08306655e-01,  2.00073905e-02,\n",
       "       -2.00832186e-01, -8.55979922e-01, -3.25527960e-01, -6.37477852e-01,\n",
       "       -6.20955383e-01, -2.71001883e-01, -7.21023409e-01,  8.83293386e-01,\n",
       "        8.36738728e-01, -8.26082378e-01,  1.02194298e-01, -9.09710176e-01,\n",
       "       -3.86588091e-01, -3.92505068e-01, -2.73215804e-01,  6.55303471e-01,\n",
       "       -1.73670195e+00,  3.23673005e-01, -6.38116127e-01,  7.08103255e-02,\n",
       "       -9.63103347e-02,  6.96257693e-01,  1.50321427e-01,  1.29779326e-02,\n",
       "        1.19140989e+00,  3.13549829e-01,  5.13000169e-01, -1.03724204e+00,\n",
       "        7.06401253e-01, -2.12238267e-01, -5.85472567e-01, -5.46285514e-01,\n",
       "       -8.22049967e-01,  3.61703830e-01, -1.23787404e-01, -1.48957764e+00,\n",
       "       -2.09564979e-01,  4.04452500e-01, -1.50569099e+00,  1.99739100e+00,\n",
       "        5.40418313e-02,  7.30910632e-01,  7.05393952e-01,  5.73083304e-01,\n",
       "        7.27890730e-01, -3.56244516e-01, -2.78823682e-01, -6.35253590e-02,\n",
       "        9.97775028e-02, -6.78064257e-01,  2.00039682e-01,  4.54081405e-01,\n",
       "        1.22622210e+00, -1.22520234e+00, -7.88829659e-01, -3.27521736e-01,\n",
       "       -6.90279700e-01,  1.33033165e-01, -4.44187192e-01, -1.05242436e+00,\n",
       "       -1.32136968e+00, -5.14259356e-01, -8.71394311e-01, -1.14153710e+00,\n",
       "       -2.85494932e-01,  1.62314776e-01, -8.25496578e-01, -4.15938854e+00,\n",
       "       -1.01291808e+00, -2.06825437e-01, -7.07202629e-01, -6.28538926e-01,\n",
       "       -3.12765138e-01, -1.32259702e-01, -3.64768265e-01, -2.09913955e-01,\n",
       "       -4.60034722e-01,  2.01302834e+00,  7.55592910e-01, -3.75688059e-01,\n",
       "        4.74256091e-01,  2.44990609e-02, -1.00715884e+00, -1.61191180e+00,\n",
       "       -9.44852287e-02,  1.61896329e-01,  2.97644433e-01,  1.20266706e-01,\n",
       "        7.20832331e-01,  9.23297263e-01, -7.20045993e-01,  3.79560572e-01,\n",
       "        1.27657377e-01, -1.51311945e+00, -1.11342809e+00,  2.04492835e-01,\n",
       "       -1.10650572e-01, -7.21243747e-02, -4.37229773e-01, -6.72097204e-01,\n",
       "       -3.23766050e-01,  3.69313185e-01, -7.09589896e-02, -1.00765369e+00,\n",
       "        5.56648196e-01, -9.51641711e-01, -3.24207030e-01, -3.81633622e-01,\n",
       "        8.09832656e-02,  1.39274959e+00, -2.17613123e-01,  3.42622399e-01,\n",
       "        5.80684896e-02,  2.54316113e-01,  1.51276898e+00,  1.97470647e+00,\n",
       "        9.58581971e-02, -2.78528123e-01, -2.59803194e-01, -2.36486015e-01,\n",
       "       -6.80374480e-01,  6.74052827e-01, -4.91215880e-01,  3.60005440e-01,\n",
       "       -5.55705691e-01, -4.55330605e-01, -2.14531243e-01, -7.06669054e-01,\n",
       "       -1.45199551e+00, -5.05201443e-01,  1.12053195e-01, -3.68021327e-01,\n",
       "        1.90711298e-01, -5.75131264e-01, -8.95486039e-02, -1.94728389e+00,\n",
       "       -2.80893133e-01, -2.66203731e-01,  8.09763553e-02,  4.37078212e-01,\n",
       "       -5.24328141e-01, -2.31596360e-01,  2.35199299e-01, -1.43991969e+00,\n",
       "        9.75515350e-01, -1.88550830e+00, -5.17554166e-01,  1.04744761e+00,\n",
       "       -2.95792737e-02, -6.01160035e-01, -1.07764552e-01,  3.59338034e-01,\n",
       "       -1.98876950e-01, -1.46538397e+00,  2.39373102e+00, -3.59774066e-01,\n",
       "       -2.18866224e-01, -1.03474933e+00, -4.29499402e-01, -1.69738105e+00,\n",
       "        2.42584525e-01, -3.16917497e-01, -2.10893336e-01, -9.06194433e-01,\n",
       "        3.35816609e-01, -1.39289556e+00,  6.77183475e-01, -1.67863807e+00,\n",
       "        2.75668002e-01, -1.91495803e-01, -4.34351129e-02, -1.04132569e-01,\n",
       "       -7.65307062e-01,  5.04475086e-02,  3.91390073e-01, -9.25434403e-01,\n",
       "       -7.24994171e-01,  3.04743602e-02, -7.09249652e-01, -2.81375751e-01,\n",
       "       -3.84564860e-01, -3.63956810e-01, -1.34437564e+00, -8.75196205e-02,\n",
       "       -1.65363867e+00, -1.11891046e+00, -5.10004769e-01, -4.69288389e-01,\n",
       "       -4.53547700e-02,  2.95656742e-02,  2.86997419e-01, -5.65835756e-01,\n",
       "        5.27372041e-01,  4.11963982e-01, -7.59037954e-02,  5.98484330e-01,\n",
       "       -2.37045179e+00,  2.15921760e-01, -6.84558212e-01,  4.51749033e-01,\n",
       "        6.91562862e-01,  1.58849196e+00,  1.93943807e+00,  3.53347993e-01,\n",
       "        5.60155152e-01, -9.06726340e-01,  4.60097649e-01,  8.16567502e-01,\n",
       "       -1.22961061e+00,  3.52194591e-01, -6.01331663e-01, -5.66079708e-01,\n",
       "       -5.72595500e-02,  1.96375404e-01,  1.68395185e-01,  2.66107995e-02,\n",
       "        5.20550492e-01,  4.29458082e-01, -2.80012579e-01, -1.86537739e+00,\n",
       "       -4.00521143e-01, -7.90609949e-01, -6.00176563e-01, -1.03295305e-01,\n",
       "        4.07236442e-01,  2.18880175e-01, -1.71792390e-01, -1.26212807e-01,\n",
       "       -4.54014379e-02, -1.62111861e+00, -2.78485615e-01,  6.59912838e-01,\n",
       "        4.45268527e-01,  4.96493888e-01, -1.63064588e+00, -1.13492708e+00,\n",
       "        3.61115207e-01, -8.18165005e-01, -4.22462222e-01, -5.37635065e-01,\n",
       "       -1.19911957e+00, -6.81245860e-01,  6.72213493e-02,  2.76808613e+00,\n",
       "        3.75902034e+00, -1.09693044e+00, -5.77680697e-01, -6.89632271e-01,\n",
       "       -5.42703135e-01, -1.51993530e+00, -8.70568702e-02, -7.10465560e-02,\n",
       "        6.46774085e-02, -3.92725307e-01, -1.19074589e-01,  1.06118801e-02,\n",
       "        6.06520564e-02, -2.56980071e-01,  4.57047888e-01, -1.89719922e-01,\n",
       "       -6.50809468e-01, -8.27270148e-01, -3.67261153e-02, -2.64220195e-01,\n",
       "        1.94776809e+00,  1.06649538e+00,  2.15352721e-01, -1.15657480e-01,\n",
       "       -1.03883944e+00, -1.59119836e-01, -1.72974437e-01,  1.37117206e+00,\n",
       "       -2.62430508e-01, -2.35050087e-01, -4.71716984e-01,  4.26467942e-01,\n",
       "       -7.32919509e-01, -9.79917166e-01, -2.12574483e-01,  3.67512514e-01,\n",
       "       -3.28447781e-02, -1.08821208e+00, -4.08655470e-01, -4.94384865e-01,\n",
       "       -2.77265734e-01, -5.61430855e-01, -3.11552114e-01, -1.43900371e+00,\n",
       "       -7.15079519e-01, -1.95701006e+00, -5.63534134e-01, -6.90919614e-02,\n",
       "       -1.30176909e+00, -5.84521863e-01,  6.22891659e-04, -2.76420745e-01,\n",
       "       -2.67461853e-01, -6.00027300e-02,  2.88466548e-02, -9.15740273e-02,\n",
       "       -6.38336481e-02,  1.61769247e-01,  4.79391504e-01,  5.53185476e-01,\n",
       "        7.00031458e-01, -5.47460194e-01,  4.71487853e-01, -1.93010532e+00,\n",
       "        3.19863612e-01,  1.70321445e+00,  2.29109282e+00,  3.65818424e-01,\n",
       "        3.65818424e-01, -7.33971860e-01, -5.43508180e-01, -1.20204465e+00,\n",
       "       -7.54100341e-01, -7.01333030e-01, -2.23490960e-01, -4.84120534e-01,\n",
       "       -1.22932331e-01, -1.48928053e+00, -3.86354308e-01, -9.51291300e-02,\n",
       "       -3.44409537e-01, -1.19962484e+00,  2.62281912e-01, -2.72488175e-01,\n",
       "       -3.02358930e+00, -1.51482697e+00, -1.51113692e-01, -1.45516888e-01,\n",
       "       -2.75249570e-01, -4.20710422e-01,  2.98878282e-01, -2.23562722e-01,\n",
       "        4.94047048e-01,  9.03179038e-01, -7.61579698e-02, -1.50554783e-01,\n",
       "        1.38419967e-01, -6.45163990e-01,  2.14833047e-01, -1.95529203e-01,\n",
       "       -1.38016239e+00, -1.99379042e-01, -2.70495890e-01,  5.52899226e-01,\n",
       "        1.04845620e-03, -4.90705944e-04,  5.00209937e-01,  9.62625476e-01,\n",
       "        4.10377185e-01,  5.21283946e-02,  2.97621286e+00,  7.36308273e-01,\n",
       "        1.36914972e+00, -2.22856660e+00, -9.98993567e-01, -4.22624094e-01,\n",
       "        9.46685408e-02, -9.52368544e-01, -1.19864297e+00, -3.52692682e-01,\n",
       "        3.82937809e-01, -2.29559298e-01,  1.14972667e+00, -1.58615538e-01])"
      ]
     },
     "execution_count": 127,
     "metadata": {},
     "output_type": "execute_result"
    }
   ],
   "source": [
    "listofcoef2"
   ]
  },
  {
   "cell_type": "code",
   "execution_count": 128,
   "metadata": {},
   "outputs": [
    {
     "data": {
      "text/plain": [
       "array([-1.45503003e-01,  4.47940747e-01,  4.37872335e-01,  6.59068679e-02,\n",
       "       -6.86529497e-01,  1.05985349e-01, -1.41434158e+00, -3.97960767e-01,\n",
       "        1.27604286e+00, -1.46663089e-01, -1.15273496e-01,  1.51687271e+00,\n",
       "        3.15736120e-01, -8.14382706e-02,  2.28774007e-01,  3.12692978e-01,\n",
       "       -5.20071953e-01,  5.87432967e-01, -3.75403051e-01, -1.07228854e+00,\n",
       "        8.77024632e-01, -8.66927032e-01,  5.59552087e-01, -3.88809328e-01,\n",
       "       -2.25295505e-01,  5.08889209e-02,  7.57571428e-01, -2.55177854e-01,\n",
       "       -3.21754331e-01, -1.05549203e-01,  2.26565696e-01,  4.09596116e-01,\n",
       "        1.96334536e+00,  9.40399772e-03, -2.47290267e-01, -6.24643165e-01,\n",
       "        3.16621478e-01, -3.49271317e-01, -3.85262544e-02, -5.77056138e-02,\n",
       "       -8.15995018e-01, -2.98333793e-01,  4.01011751e-01, -3.11549601e-01,\n",
       "        1.04341244e+00,  9.74604529e-02, -4.66924949e-01, -2.06550110e-01,\n",
       "       -3.96536708e-01, -4.12459180e-01, -5.98032617e-01, -7.37289174e-01,\n",
       "        2.61623499e+00, -7.09143240e-01, -1.02350999e-01, -3.21835765e-02,\n",
       "       -1.51551134e-01,  6.08778431e-01,  6.95334804e-02, -8.95631126e-02,\n",
       "        8.84362256e-01,  1.23050917e-01,  5.15358940e-01,  5.03505642e-02,\n",
       "       -2.50604379e+00,  1.71157532e+00,  1.15260355e-01, -4.91955465e-01,\n",
       "       -6.51243657e-01, -7.75521625e-01, -1.12538647e+00,  8.19055137e-02,\n",
       "       -1.04086616e+00, -9.11398221e-02, -7.60114076e-01, -5.05803402e-01,\n",
       "        3.30674108e-01, -4.61238067e-01, -8.67833372e-03, -8.31853787e-02,\n",
       "        1.07597931e-01,  5.45356664e-01,  3.31702206e-01,  5.04360685e-02,\n",
       "        2.53430118e-01,  7.98024088e-01, -2.64243672e-01,  1.62128455e-01,\n",
       "       -3.74540543e-01, -1.41367583e-01,  3.87217173e-02,  6.95698889e-01,\n",
       "        2.23034907e-01, -1.43960982e-01, -3.52823796e-01, -8.28130896e-02,\n",
       "        7.64910861e-01,  3.47064855e-01,  2.83755705e-01, -2.66352337e-01,\n",
       "        3.61944261e-01, -1.58331710e+00,  2.61156292e-01,  1.99189490e+00,\n",
       "        5.00479727e-01, -5.87831204e-02,  4.45256368e-01, -1.05371248e+00,\n",
       "       -5.55100716e-01,  3.33483090e-02,  7.47355487e-01, -7.68694306e-01,\n",
       "       -1.30517345e-01,  2.10952172e-01, -7.59478107e-01, -8.94324814e-01,\n",
       "        1.74886864e+00, -4.53132338e-01, -4.89843188e-01, -4.41176948e-01,\n",
       "       -9.23901528e-01, -4.77367064e-01, -7.31871213e-01, -5.35047982e-02,\n",
       "        1.14204321e+00, -8.80820270e-01, -6.17103953e-01,  3.45342273e-01,\n",
       "       -2.19018761e-02, -8.08090581e-01,  5.02747023e-01, -1.10937480e+00,\n",
       "       -2.73468717e-01,  3.93795964e-03, -4.52234097e-01, -3.12517639e-01,\n",
       "        3.90130804e-01,  1.36715199e-01,  5.17455516e-01,  2.17516345e-01,\n",
       "       -5.63839148e-01,  1.11204238e+00,  5.17810218e-01, -2.93994980e-01,\n",
       "       -4.05496290e-01,  3.03771306e-01,  7.95203635e-01,  3.22079829e-01,\n",
       "        4.59277484e-01,  1.34778302e-01, -4.40425018e-01, -7.31865108e-01,\n",
       "       -9.00793292e-01,  1.44608419e-01, -6.79479869e-02, -1.09661884e-02,\n",
       "       -1.45236818e+00,  6.35957700e-01, -8.58860874e-01,  4.19629769e-01,\n",
       "        1.20278071e-02, -9.46555219e-01,  3.67897865e-01, -1.20658622e+00,\n",
       "       -1.18966371e+00, -6.84890919e-01, -6.10703380e-01, -1.02789864e+00,\n",
       "       -2.94524083e-01,  2.55114869e-01, -9.69610146e-01,  5.55617668e-01,\n",
       "       -7.14343795e-01, -8.66811905e-01, -2.78578689e-01, -8.08605863e-01,\n",
       "       -4.78978152e-01,  6.34097914e-01,  5.45897414e-01, -1.80672132e-01,\n",
       "        2.59783600e-01, -2.36129849e-01, -5.04764642e-01, -1.10167996e-01,\n",
       "        3.98945862e-01, -6.29484652e-01, -2.17872728e-01, -6.86445527e-02,\n",
       "       -5.86438359e-01, -1.46336654e+00,  7.25646718e-02, -3.11709300e-01,\n",
       "       -9.68518988e-01, -6.69040973e-01, -8.91668102e-02,  2.39197211e-01,\n",
       "        4.48489047e-01, -8.33913648e-01, -4.66300532e-01, -9.69770138e-01,\n",
       "        8.36483168e-01,  2.25710641e-01, -1.93582566e-01, -1.87250135e-02,\n",
       "       -1.56364103e-01,  5.85036648e-01,  6.29586020e-01,  2.28811993e-01,\n",
       "        3.81040294e-01,  2.42655164e-01, -2.47114671e-01,  3.56422286e-01,\n",
       "        1.36031943e-01, -4.19619040e-01,  1.55265635e-01, -3.41420016e-01,\n",
       "       -5.48823106e-01, -1.12263904e-01,  1.15703729e+00,  6.45794317e-01,\n",
       "       -7.26854930e-02,  5.06430748e-01, -5.52516962e-01, -5.19069954e-01,\n",
       "       -2.68548104e-01, -9.73662746e-01, -1.09510484e+00,  8.95931093e-01,\n",
       "       -1.62475060e+00, -6.58580551e-01,  4.02033017e-01, -4.93166738e-01,\n",
       "        6.82060548e-02,  2.20836545e-01, -4.47484387e-01,  6.26538825e-01,\n",
       "       -1.70948054e-01, -8.24449027e-01, -2.72737072e-01, -3.71248623e-03,\n",
       "        3.10472094e-01, -3.12871802e-01,  5.21163100e-01, -1.13461182e+00,\n",
       "        1.65007524e-01, -9.73774631e-01, -1.20227474e+00, -1.64696582e+00,\n",
       "       -3.84596397e-01,  6.28177281e-01, -8.81580115e-01,  1.08618227e+00,\n",
       "       -2.96324983e-01, -8.39847077e-01,  3.66621400e-01, -3.02543312e-01,\n",
       "        2.78703759e-01, -6.65553850e-01, -1.31149459e+00,  4.45116838e-01,\n",
       "       -6.49701676e-01, -7.45949679e-01, -8.15666889e-01, -3.24003389e-01,\n",
       "       -2.80947323e-02,  5.01815452e-01, -8.82204969e-02,  3.92286018e-02,\n",
       "       -5.30666697e-01,  9.99222096e-01, -4.59284507e-01, -1.21540079e+00,\n",
       "       -3.81342090e-02,  4.96934927e-01, -1.31093583e+00,  4.82720382e-02,\n",
       "       -5.91582334e-01,  5.41994297e-01, -1.67636800e+00, -5.77878697e-01,\n",
       "        8.53834978e-02, -4.68282793e-02,  6.01231992e-04,  5.32170510e-01,\n",
       "        4.71224720e-01, -1.21139258e-01, -1.43930202e+00,  4.91524589e-02,\n",
       "       -4.04701493e-01,  9.96085313e-01,  9.55128367e-01,  1.30019469e+00,\n",
       "       -2.03817145e-01,  8.22220455e-01, -2.61285581e-01, -6.42579560e-02,\n",
       "        6.88186515e-01,  3.24712365e-01, -1.54124490e-02,  4.48418143e-01,\n",
       "       -3.19603690e-01, -1.38939119e-01, -2.18888360e-01, -3.66646534e-01,\n",
       "       -8.36859732e-01, -4.38590412e-01,  8.88618883e-01,  4.84024632e-01,\n",
       "       -3.36507898e-01, -1.79582269e+00, -1.48362313e-01,  2.93225268e+00,\n",
       "        5.03375051e-01, -2.64249991e-01,  2.22187438e-01, -5.04159641e-01,\n",
       "        6.19886428e-01, -4.58458163e-01, -5.38953308e-01, -8.31669006e-02,\n",
       "        4.81599614e-02, -4.81671289e-01, -1.18462693e+00, -5.05585501e-01,\n",
       "        5.22583351e-02, -1.58163132e+00,  1.93071231e+00,  1.86699935e-01,\n",
       "       -1.12160560e+00,  3.11021228e-01,  1.39916285e-01,  5.20245207e-01,\n",
       "        7.06179248e-01,  1.15078070e-02, -1.40906407e+00,  2.75674485e-01,\n",
       "       -9.55909748e-01,  1.70213947e-02, -2.48403499e-01, -2.51715348e-01,\n",
       "       -6.62130366e-01,  1.31177038e+00, -2.90895395e-01, -6.93323188e-02,\n",
       "        7.44126162e-01, -1.19374570e-01,  2.19655403e-01,  8.89505201e-01,\n",
       "        5.55111213e-01, -3.56825477e-01, -3.51239215e-01,  5.99191926e-01,\n",
       "        9.79643112e-02,  5.61143881e-01, -2.90339253e-01, -5.05562670e-01,\n",
       "        8.98598732e-02, -4.30214769e-01, -1.96221741e-01, -6.27114081e-01,\n",
       "        4.44713273e-01,  9.15545703e-01, -2.45253737e-01,  5.49518514e-01,\n",
       "        1.97665516e-01,  1.59735644e-01,  4.91328982e-01,  7.44366753e-01,\n",
       "       -5.18988601e-01,  2.72502272e-01, -3.31409190e-01,  7.14590971e-01,\n",
       "       -2.97209316e-01,  1.11284341e-02, -3.65691638e-01, -5.47511587e-01,\n",
       "        1.38346657e-01, -6.51145227e-01, -9.23212162e-02, -3.49383775e-01,\n",
       "        3.97848243e-02,  1.31061662e+00,  9.41323046e-02, -1.27737672e-01,\n",
       "        2.49863774e-01,  7.24376960e-01, -2.28615890e-01, -5.48515043e-01,\n",
       "        1.67071791e-01, -2.58648189e-01,  8.68196822e-01, -1.10761524e+00,\n",
       "       -1.31079435e-01, -3.06803449e-01, -2.34067665e-02,  4.29525899e-01,\n",
       "        4.48373856e-01,  3.55176642e-01, -2.64128811e-01, -7.11848941e-02,\n",
       "        4.73894600e-01, -3.65026496e-01,  4.54260986e-01, -6.48910161e-01,\n",
       "       -6.32691905e-01,  5.62308320e-01, -2.94693351e-01, -5.02775581e-02,\n",
       "        2.57393485e-01,  1.03857912e+00, -3.82417074e-01, -4.09259046e-01,\n",
       "        1.98731822e+00, -6.41748904e-01, -6.82766040e-01,  1.07619184e-02,\n",
       "        1.10389707e+00, -5.98457596e-01, -8.34095083e-02, -7.89589066e-01,\n",
       "        6.37292490e-01, -8.11696341e-01,  2.56688570e-01, -8.77254555e-03,\n",
       "       -6.86749231e-01,  3.94869606e-01, -3.63214554e-01, -1.35014436e+00,\n",
       "        2.04419366e+00,  2.82753358e-01,  3.62191776e-01, -5.12583366e-01,\n",
       "       -3.51432409e-01, -1.07619546e+00,  1.36691910e-01, -5.59210753e-01,\n",
       "       -1.09719715e+00,  1.95271345e-01,  2.43291401e-01,  1.44962883e-01,\n",
       "       -1.71275604e+00,  2.11255900e-01, -2.27160555e-01,  5.59021852e-01,\n",
       "       -2.28628022e-01, -9.07868651e-01,  5.23265702e-01, -4.07399636e-01,\n",
       "        3.76626780e-01, -8.73043819e-01, -9.99563044e-01, -3.92706494e-01,\n",
       "       -5.19634653e-01,  1.07648179e-02, -6.29403997e-01, -5.54080514e-01,\n",
       "        1.21254456e-01,  3.85516732e-01, -9.66075739e-01, -2.95521280e-01,\n",
       "       -4.23399066e-01, -2.36897554e-01,  3.31535765e-01, -4.53582518e-01,\n",
       "        8.08892703e-02, -2.97333773e-01, -1.17029962e+00,  1.01252499e-01,\n",
       "        8.40438003e-02, -1.17822578e+00,  5.70745301e-01,  5.04683014e-01,\n",
       "       -7.27548108e-01, -5.11327109e-01, -4.70821153e-01,  3.67015666e-02,\n",
       "        8.69625543e-01, -4.87540575e-01,  2.67242436e-01, -2.11972428e-01,\n",
       "       -1.32788394e+00, -8.01353165e-01, -1.78131492e-01, -1.85934863e-01,\n",
       "       -1.93457436e-01, -3.01224128e-01, -2.61408941e-01,  3.33292909e-01,\n",
       "       -4.64233696e-01, -2.56730112e-01,  1.11807128e-01, -7.58024198e-01,\n",
       "        3.28679003e-01,  5.65780760e-01, -8.93220779e-01, -4.34730312e-01,\n",
       "        5.31447147e-01,  1.11107774e+00, -1.50163145e-01, -4.89344218e-02,\n",
       "       -1.82982449e-01, -5.65039046e-01,  3.31881554e-03,  3.97265838e-01,\n",
       "       -1.94087185e-01,  1.71646069e-01, -6.19063883e-01, -2.17739863e-01,\n",
       "       -4.23236162e-02, -2.58812138e-01, -2.60992444e-01, -9.76308166e-01,\n",
       "        6.20704706e-02,  7.81208583e-02, -1.31612698e-01,  1.86937370e-01,\n",
       "       -4.06412221e-02, -3.39847597e-02,  3.64918098e-01, -7.95660215e-01,\n",
       "       -2.16492040e-01, -1.00659044e+00,  5.95440250e-01,  2.51865254e-01,\n",
       "        7.73397809e-01,  5.44499958e-01,  7.90034930e-01,  3.14229312e-02,\n",
       "       -1.56251277e-01, -3.70534064e-01, -2.81960535e-01, -3.30118888e-01,\n",
       "       -5.62933351e-01, -2.13386356e-01, -1.57059060e+00,  2.11750092e+00,\n",
       "        2.34538125e-01, -3.57192175e-01,  2.32870065e-01,  1.10776407e-02,\n",
       "       -2.33583767e-01, -1.01315981e+00,  4.76332689e-01, -1.96844041e-02,\n",
       "       -1.17108115e+00, -1.06925351e+00, -6.43687360e-01, -1.15601114e+00,\n",
       "        3.00059648e-01, -6.32284093e-01, -1.10456145e+00, -1.86459426e-01,\n",
       "       -6.53849607e-01, -9.32371556e-02, -6.97502694e-01,  3.07315190e-01,\n",
       "        3.67329984e-02, -1.41131432e-01, -9.23318240e-01,  1.64218547e+00,\n",
       "       -1.01478877e+00, -2.18813606e-01,  5.24902781e-01,  3.32390955e-01,\n",
       "       -4.34821143e-01, -3.55089031e-01, -5.28257024e-01,  7.98289800e-01,\n",
       "        3.48544713e-01,  3.93470101e-01, -6.12856591e-02,  2.95608321e-02,\n",
       "       -4.10909140e-01, -2.17576442e-01, -2.51920042e-01, -9.50255606e-01,\n",
       "       -4.26522932e-01, -4.27774549e-01, -1.35023292e+00, -6.22260517e-01,\n",
       "        2.00103726e-01, -3.77743371e-01,  2.10191075e-01, -5.52947395e-02,\n",
       "        1.00169300e+00, -7.69422814e-01, -8.03160397e-01, -9.17364309e-01,\n",
       "        2.15755456e-01, -1.46947530e+00,  6.51726456e-01, -5.25130237e-01,\n",
       "       -9.00422168e-01, -3.57154687e-01, -2.62731938e-01,  7.55685506e-02,\n",
       "       -1.06135866e+00,  3.57839311e-01,  1.04755677e-01, -7.54926935e-01,\n",
       "        2.09038766e+00,  6.80995950e-01, -3.88132232e-01,  5.85480381e-02,\n",
       "       -6.67699060e-02, -2.00089114e-01, -5.01025772e-01, -4.82678208e-01,\n",
       "        3.01803595e-01,  2.64668048e-01, -8.70512895e-01, -2.51946696e+00,\n",
       "       -6.48633634e-01, -1.13988278e+00, -8.72179508e-01, -1.45821192e+00,\n",
       "       -7.77537766e-01, -1.02754981e-01, -1.01308359e+00, -1.00891173e+00,\n",
       "       -1.04381287e+00, -1.09415384e+00, -4.41635238e-01,  2.67399022e-01,\n",
       "       -4.53587204e-01,  6.65308170e-01, -1.93508460e+00, -2.53786200e-01,\n",
       "       -6.65340732e-01, -1.53889559e-01,  7.16199672e-01,  2.56851030e-01,\n",
       "       -5.30320813e-01, -1.69902306e-01, -2.53866375e-01, -3.04846851e-01,\n",
       "       -4.16972223e-01, -5.28087934e-01, -1.68542847e-01,  2.06099782e-01,\n",
       "        9.32428393e-01, -9.90518473e-01,  7.31072859e-01, -5.76641869e-01,\n",
       "        8.97599310e-02, -3.01909577e-01, -7.08580274e-01,  1.60410966e+00,\n",
       "       -3.45317001e-01,  5.51045932e-01, -4.00214897e-01,  3.33976105e-01,\n",
       "        7.96069429e-02,  1.66613232e-01, -1.65059774e-01, -1.48316511e-01,\n",
       "        4.28281672e-01, -5.68686338e-01,  6.31427479e-01, -6.84696325e-01,\n",
       "        5.62264302e-01, -2.12220352e-01, -5.02891955e-01, -2.43899151e-01,\n",
       "       -8.66734275e-01,  7.35335987e-01, -1.97236374e-01, -9.27141503e-01,\n",
       "       -2.41304740e-01,  1.24763138e+00, -1.24025643e+00,  1.34658485e+00,\n",
       "       -1.01143665e-01,  1.24850386e-01,  7.09338763e-01,  1.01018543e+00,\n",
       "       -2.36049645e-01, -3.55401759e-01, -4.15806113e-01, -1.54057569e-02,\n",
       "        4.22891069e-01, -4.88880723e-01, -2.75598467e-01,  2.26843121e-01,\n",
       "        1.28465919e+00, -7.21019765e-01, -7.81683562e-01,  9.47655558e-02,\n",
       "       -4.78973363e-01,  2.66658025e-01,  1.10439594e-01, -5.89641204e-01,\n",
       "       -7.16329136e-01, -4.65575116e-01, -8.54459340e-01, -6.53746020e-01,\n",
       "       -3.46346697e-02,  6.16863926e-01, -4.31714197e-01, -2.24613299e+00,\n",
       "       -4.56716077e-01,  8.28324548e-01, -4.08153471e-01, -2.76973115e-01,\n",
       "       -2.57003978e-01, -1.48968109e-01, -9.51053978e-02, -1.22356275e+00,\n",
       "        1.19991543e-01,  5.44765956e-01, -1.61409397e-01, -1.08905608e+00,\n",
       "        6.37843341e-01, -2.75616419e-01, -6.56482467e-01, -8.61523464e-01,\n",
       "        2.46084618e-01,  5.32787839e-01,  9.02913493e-01,  6.10754246e-01,\n",
       "        1.19431959e-01,  4.36666791e-01, -1.33591267e+00, -1.73466483e-01,\n",
       "        5.86614407e-01, -1.38738123e+00, -5.52327662e-01,  4.70006353e-03,\n",
       "        4.52243104e-01, -1.44832426e-01, -1.12173130e+00,  7.15093023e-02,\n",
       "       -2.22817097e-01,  9.53274938e-01, -9.04213887e-01, -3.66089000e-01,\n",
       "        2.34545850e-01, -6.33688662e-01, -8.75431593e-01, -7.77873537e-01,\n",
       "       -4.28850815e-02,  3.89907105e-01,  1.05650519e-02, -2.44623179e-01,\n",
       "        4.02311463e-01, -5.95855760e-01,  3.51273492e-01,  1.09858507e+00,\n",
       "        7.78660573e-02, -1.32326257e-01,  5.67328059e-01, -1.50732698e-01,\n",
       "       -6.65008011e-01,  3.71672284e-02,  2.21907570e-01,  6.41013002e-01,\n",
       "       -2.95829251e-01, -1.26546772e-01, -5.97044796e-01, -6.70982542e-01,\n",
       "       -1.54283164e+00, -8.64824243e-02,  3.96093026e-01, -7.49196980e-01,\n",
       "       -1.03190169e-01, -6.40800199e-01,  4.90238251e-01, -1.42606529e+00,\n",
       "        3.66273332e-01, -4.65736760e-01,  7.75921038e-02,  6.69271701e-01,\n",
       "       -3.85874404e-01, -8.40232778e-02, -1.82946891e-01, -3.93740114e-01,\n",
       "        1.17846473e+00, -1.21675403e+00, -2.87954685e-01,  8.77261363e-01,\n",
       "       -4.93685893e-02, -2.47909712e-01,  1.19900933e-01,  3.53903201e-02,\n",
       "        3.20089856e-02, -1.46125608e+00,  1.42382051e+00, -4.53110647e-01,\n",
       "        3.49353768e-02, -8.20638092e-01, -5.56239510e-01, -6.93207472e-01,\n",
       "        8.96157168e-01, -2.67185793e-01, -1.55899856e-01, -4.07750715e-01,\n",
       "        6.55377695e-01, -1.45865895e+00,  7.80814424e-01, -4.85433919e-01,\n",
       "        3.28514526e-01, -3.43682388e-01,  3.36919860e-01, -3.27374156e-02,\n",
       "       -6.82739743e-01,  3.52679910e-02, -1.94730778e-01, -2.24094692e-01,\n",
       "       -1.60363502e-01, -9.57449330e-02, -1.54004131e-01, -2.50707715e-01,\n",
       "       -3.68010606e-01, -9.95287112e-02, -7.41855276e-01,  1.49368975e-01,\n",
       "       -9.66272621e-01, -2.78171587e-01,  7.30110276e-02, -6.63793971e-01,\n",
       "       -1.24326034e-01,  7.10645682e-02,  3.29832030e-01, -4.04251875e-01,\n",
       "        9.76820133e-01,  4.05800165e-01, -1.90099626e-02,  5.94911545e-01,\n",
       "       -1.63160842e+00,  7.86728370e-01, -8.27725430e-01,  1.35750665e-01,\n",
       "        2.25830229e-01,  1.15502379e+00,  1.17007460e+00,  1.76889536e-01,\n",
       "        1.01968619e+00, -5.94546715e-01,  8.43640127e-01,  1.14765124e+00,\n",
       "       -1.20823259e+00,  5.79181854e-01, -1.07072045e-01, -9.54204809e-01,\n",
       "       -7.32279581e-02, -5.67261984e-02,  3.43471067e-01,  6.74525246e-01,\n",
       "       -5.59774190e-03,  6.01243540e-01, -2.43719468e-01, -1.27185099e+00,\n",
       "        1.48633477e-01, -8.76041559e-01, -9.37772279e-01, -8.33647959e-02,\n",
       "        5.29914064e-02,  6.02148135e-01, -1.53660158e-01,  1.90820143e-01,\n",
       "       -2.30857454e-01, -8.24079138e-01, -2.88562947e-01,  9.87364500e-02,\n",
       "       -1.12231236e-01,  1.95152881e-01, -6.01202189e-01, -1.03134913e+00,\n",
       "        5.10348652e-01, -1.61534018e+00, -3.76249831e-01, -2.42976067e-01,\n",
       "       -1.40835112e+00,  8.62196582e-02,  5.76208946e-01,  1.94009704e+00,\n",
       "        2.57329904e+00, -4.43695361e-01, -5.54761421e-01, -1.93036075e-01,\n",
       "       -3.03407278e-01, -6.66851787e-01,  3.97193785e-01,  7.18964441e-03,\n",
       "        3.59572870e-02, -1.93433180e-01,  2.27188934e-01,  2.96287408e-01,\n",
       "        2.82035740e-01,  1.53764240e-01,  5.31026674e-01, -4.21166981e-01,\n",
       "       -3.89012181e-01, -6.74099020e-01, -2.13521350e-01,  3.29290764e-02,\n",
       "        1.07374294e+00,  3.90030959e-01,  1.13117240e-01,  2.86551189e-02,\n",
       "       -9.59701965e-01,  8.20509203e-02, -9.43947798e-02,  1.01190826e+00,\n",
       "       -5.82327335e-02,  1.03922057e-01, -6.60571550e-01,  6.14447771e-01,\n",
       "       -5.54641796e-01, -9.64867640e-01, -4.15323546e-01,  3.46557410e-01,\n",
       "        2.71482274e-01, -7.24256156e-01,  2.60977195e-01, -3.26013428e-01,\n",
       "       -4.30466229e-01,  1.56874475e-01,  7.31385112e-02, -9.12658127e-01,\n",
       "       -5.05973111e-01, -1.23778221e+00, -4.86668186e-01,  3.36787590e-01,\n",
       "       -9.72521430e-01, -1.46826263e-01,  4.73850636e-02,  1.33443530e-01,\n",
       "       -6.19870822e-01,  1.07695733e-01,  7.06460535e-01, -4.64831045e-02,\n",
       "        4.68411190e-01,  8.26224848e-01,  6.04357777e-01,  6.03063143e-01,\n",
       "        3.60243975e-01, -3.51236349e-01, -7.92603221e-02, -2.32900464e+00,\n",
       "       -1.99121351e-01,  7.32673430e-01,  1.78413187e+00,  3.40319781e-01,\n",
       "        3.40319781e-01, -7.44236865e-01, -8.62793162e-01, -1.02122931e+00,\n",
       "       -6.33849140e-01, -3.80609803e-01,  3.58652704e-01, -2.35182842e-01,\n",
       "        4.84331752e-02, -1.08141501e+00, -1.50709384e-01, -3.72225088e-01,\n",
       "        9.45429263e-02, -9.10198126e-01,  2.66100202e-01,  2.01315907e-01,\n",
       "       -2.06851750e+00, -4.57445040e-01, -5.53603184e-04, -5.33099362e-04,\n",
       "       -5.63533100e-01, -5.02300970e-01,  1.31010141e+00, -4.99867429e-02,\n",
       "       -7.00011785e-02,  4.52095937e-01,  1.48832262e-01, -1.03088770e-01,\n",
       "        7.98456433e-02,  2.71371739e-01,  1.58105804e-01, -4.42104541e-02,\n",
       "       -9.27091555e-01,  7.88746215e-02, -5.60972858e-02,  6.81034650e-01,\n",
       "       -1.21200510e-01, -5.46003572e-02,  3.18976411e-01,  2.58864980e-01,\n",
       "        4.58866313e-01, -2.01837028e-01,  1.61054624e+00,  3.28907005e-01,\n",
       "        1.11912731e+00, -1.84311452e+00, -8.83065836e-01, -6.41127100e-01,\n",
       "        8.08813163e-02, -1.43408038e+00, -1.25947301e+00, -7.05892029e-01,\n",
       "       -4.87683298e-02,  7.68195564e-02,  1.21879143e+00, -2.90384238e-01])"
      ]
     },
     "execution_count": 128,
     "metadata": {},
     "output_type": "execute_result"
    }
   ],
   "source": [
    "listofcoef1"
   ]
  },
  {
   "cell_type": "markdown",
   "metadata": {},
   "source": [
    "# Plot the bar graph for top 25 frequenctly used bigrams"
   ]
  },
  {
   "cell_type": "code",
   "execution_count": 129,
   "metadata": {},
   "outputs": [],
   "source": [
    "from sklearn.feature_extraction.text import CountVectorizer"
   ]
  },
  {
   "cell_type": "code",
   "execution_count": 130,
   "metadata": {},
   "outputs": [],
   "source": [
    "# create a bigram count vectorizer object\n",
    "bigram_count_vectorizer = CountVectorizer(ngram_range=(2,2),max_features = 1500)"
   ]
  },
  {
   "cell_type": "code",
   "execution_count": 131,
   "metadata": {},
   "outputs": [],
   "source": [
    "X_bigram = bigram_count_vectorizer.fit_transform(reviews['clean_reviewlemm'])\n",
    "\n",
    "# Creating a DTM\n",
    "DTM_bigram = pd.DataFrame(X_bigram.toarray(), columns=bigram_count_vectorizer.get_feature_names())"
   ]
  },
  {
   "cell_type": "code",
   "execution_count": 132,
   "metadata": {},
   "outputs": [
    {
     "data": {
      "text/plain": [
       "['100 battery',\n",
       " '100 charge',\n",
       " '15w turbo',\n",
       " '3gb ram',\n",
       " '3rd class',\n",
       " '4000 mah',\n",
       " '4000mah battery',\n",
       " '4gb ram',\n",
       " '5mp camera',\n",
       " 'affordable price',\n",
       " 'already use',\n",
       " 'also bad',\n",
       " 'also battery',\n",
       " 'also buy',\n",
       " 'also camera',\n",
       " 'also charge',\n",
       " 'also drain',\n",
       " 'also evil',\n",
       " 'also fast',\n",
       " 'also get']"
      ]
     },
     "execution_count": 132,
     "metadata": {},
     "output_type": "execute_result"
    }
   ],
   "source": [
    "bigram_count_vectorizer.get_feature_names()[:20]"
   ]
  },
  {
   "cell_type": "code",
   "execution_count": 133,
   "metadata": {},
   "outputs": [
    {
     "data": {
      "text/html": [
       "<div>\n",
       "<style scoped>\n",
       "    .dataframe tbody tr th:only-of-type {\n",
       "        vertical-align: middle;\n",
       "    }\n",
       "\n",
       "    .dataframe tbody tr th {\n",
       "        vertical-align: top;\n",
       "    }\n",
       "\n",
       "    .dataframe thead th {\n",
       "        text-align: right;\n",
       "    }\n",
       "</style>\n",
       "<table border=\"1\" class=\"dataframe\">\n",
       "  <thead>\n",
       "    <tr style=\"text-align: right;\">\n",
       "      <th></th>\n",
       "      <th>100 battery</th>\n",
       "      <th>100 charge</th>\n",
       "      <th>15w turbo</th>\n",
       "      <th>3gb ram</th>\n",
       "      <th>3rd class</th>\n",
       "      <th>4000 mah</th>\n",
       "      <th>4000mah battery</th>\n",
       "      <th>4gb ram</th>\n",
       "      <th>5mp camera</th>\n",
       "      <th>affordable price</th>\n",
       "      <th>...</th>\n",
       "      <th>worth buy</th>\n",
       "      <th>worth every</th>\n",
       "      <th>worth money</th>\n",
       "      <th>worth price</th>\n",
       "      <th>worthlessness money</th>\n",
       "      <th>would good</th>\n",
       "      <th>would like</th>\n",
       "      <th>would say</th>\n",
       "      <th>write review</th>\n",
       "      <th>youtube video</th>\n",
       "    </tr>\n",
       "  </thead>\n",
       "  <tbody>\n",
       "    <tr>\n",
       "      <th>0</th>\n",
       "      <td>0</td>\n",
       "      <td>0</td>\n",
       "      <td>0</td>\n",
       "      <td>0</td>\n",
       "      <td>0</td>\n",
       "      <td>0</td>\n",
       "      <td>0</td>\n",
       "      <td>0</td>\n",
       "      <td>0</td>\n",
       "      <td>0</td>\n",
       "      <td>...</td>\n",
       "      <td>0</td>\n",
       "      <td>0</td>\n",
       "      <td>0</td>\n",
       "      <td>0</td>\n",
       "      <td>0</td>\n",
       "      <td>0</td>\n",
       "      <td>0</td>\n",
       "      <td>0</td>\n",
       "      <td>0</td>\n",
       "      <td>0</td>\n",
       "    </tr>\n",
       "    <tr>\n",
       "      <th>1</th>\n",
       "      <td>0</td>\n",
       "      <td>0</td>\n",
       "      <td>0</td>\n",
       "      <td>0</td>\n",
       "      <td>0</td>\n",
       "      <td>0</td>\n",
       "      <td>0</td>\n",
       "      <td>0</td>\n",
       "      <td>0</td>\n",
       "      <td>0</td>\n",
       "      <td>...</td>\n",
       "      <td>0</td>\n",
       "      <td>0</td>\n",
       "      <td>0</td>\n",
       "      <td>0</td>\n",
       "      <td>0</td>\n",
       "      <td>0</td>\n",
       "      <td>0</td>\n",
       "      <td>0</td>\n",
       "      <td>0</td>\n",
       "      <td>0</td>\n",
       "    </tr>\n",
       "    <tr>\n",
       "      <th>2</th>\n",
       "      <td>0</td>\n",
       "      <td>0</td>\n",
       "      <td>0</td>\n",
       "      <td>0</td>\n",
       "      <td>0</td>\n",
       "      <td>0</td>\n",
       "      <td>0</td>\n",
       "      <td>0</td>\n",
       "      <td>0</td>\n",
       "      <td>0</td>\n",
       "      <td>...</td>\n",
       "      <td>0</td>\n",
       "      <td>0</td>\n",
       "      <td>0</td>\n",
       "      <td>0</td>\n",
       "      <td>0</td>\n",
       "      <td>0</td>\n",
       "      <td>0</td>\n",
       "      <td>0</td>\n",
       "      <td>0</td>\n",
       "      <td>0</td>\n",
       "    </tr>\n",
       "    <tr>\n",
       "      <th>3</th>\n",
       "      <td>0</td>\n",
       "      <td>0</td>\n",
       "      <td>0</td>\n",
       "      <td>0</td>\n",
       "      <td>0</td>\n",
       "      <td>0</td>\n",
       "      <td>0</td>\n",
       "      <td>0</td>\n",
       "      <td>0</td>\n",
       "      <td>0</td>\n",
       "      <td>...</td>\n",
       "      <td>0</td>\n",
       "      <td>0</td>\n",
       "      <td>0</td>\n",
       "      <td>0</td>\n",
       "      <td>0</td>\n",
       "      <td>0</td>\n",
       "      <td>0</td>\n",
       "      <td>0</td>\n",
       "      <td>0</td>\n",
       "      <td>0</td>\n",
       "    </tr>\n",
       "    <tr>\n",
       "      <th>4</th>\n",
       "      <td>0</td>\n",
       "      <td>0</td>\n",
       "      <td>0</td>\n",
       "      <td>0</td>\n",
       "      <td>0</td>\n",
       "      <td>0</td>\n",
       "      <td>0</td>\n",
       "      <td>0</td>\n",
       "      <td>0</td>\n",
       "      <td>0</td>\n",
       "      <td>...</td>\n",
       "      <td>0</td>\n",
       "      <td>0</td>\n",
       "      <td>0</td>\n",
       "      <td>0</td>\n",
       "      <td>0</td>\n",
       "      <td>0</td>\n",
       "      <td>0</td>\n",
       "      <td>0</td>\n",
       "      <td>0</td>\n",
       "      <td>0</td>\n",
       "    </tr>\n",
       "  </tbody>\n",
       "</table>\n",
       "<p>5 rows × 1500 columns</p>\n",
       "</div>"
      ],
      "text/plain": [
       "   100 battery  100 charge  15w turbo  3gb ram  3rd class  4000 mah  \\\n",
       "0            0           0          0        0          0         0   \n",
       "1            0           0          0        0          0         0   \n",
       "2            0           0          0        0          0         0   \n",
       "3            0           0          0        0          0         0   \n",
       "4            0           0          0        0          0         0   \n",
       "\n",
       "   4000mah battery  4gb ram  5mp camera  affordable price  ...  worth buy  \\\n",
       "0                0        0           0                 0  ...          0   \n",
       "1                0        0           0                 0  ...          0   \n",
       "2                0        0           0                 0  ...          0   \n",
       "3                0        0           0                 0  ...          0   \n",
       "4                0        0           0                 0  ...          0   \n",
       "\n",
       "   worth every  worth money  worth price  worthlessness money  would good  \\\n",
       "0            0            0            0                    0           0   \n",
       "1            0            0            0                    0           0   \n",
       "2            0            0            0                    0           0   \n",
       "3            0            0            0                    0           0   \n",
       "4            0            0            0                    0           0   \n",
       "\n",
       "   would like  would say  write review  youtube video  \n",
       "0           0          0             0              0  \n",
       "1           0          0             0              0  \n",
       "2           0          0             0              0  \n",
       "3           0          0             0              0  \n",
       "4           0          0             0              0  \n",
       "\n",
       "[5 rows x 1500 columns]"
      ]
     },
     "execution_count": 133,
     "metadata": {},
     "output_type": "execute_result"
    }
   ],
   "source": [
    "DTM_bigram.head()"
   ]
  },
  {
   "cell_type": "code",
   "execution_count": 134,
   "metadata": {},
   "outputs": [
    {
     "data": {
      "text/plain": [
       "<AxesSubplot:>"
      ]
     },
     "execution_count": 134,
     "metadata": {},
     "output_type": "execute_result"
    },
    {
     "data": {
      "image/png": "[encoded data removed]",
      "text/plain": [
       "<Figure size 1440x360 with 1 Axes>"
      ]
     },
     "metadata": {
      "needs_background": "light"
     },
     "output_type": "display_data"
    }
   ],
   "source": [
    "DTM_bigram.sum().sort_values(ascending=False).head(25).plot.bar(figsize=(20,5)) "
   ]
  },
  {
   "cell_type": "markdown",
   "metadata": {},
   "source": [
    "In the amazon case study dataset\n",
    "Find the top 5 relavent reviews which has the below words\n",
    " - \"battery drain\"\n",
    " -\"Good camera\"\n",
    "If there is a clash in the scores, review at index 0 has higher precedence than at index 1 and so on...."
   ]
  },
  {
   "cell_type": "markdown",
   "metadata": {},
   "source": [
    "### Cosine Similarity"
   ]
  },
  {
   "cell_type": "code",
   "execution_count": 135,
   "metadata": {},
   "outputs": [],
   "source": [
    "from sklearn.metrics.pairwise import cosine_similarity"
   ]
  },
  {
   "cell_type": "code",
   "execution_count": 201,
   "metadata": {},
   "outputs": [],
   "source": [
    "tfidfvectorizer = TfidfVectorizer(max_features=1000, ngram_range=(1,3))"
   ]
  },
  {
   "cell_type": "code",
   "execution_count": 202,
   "metadata": {},
   "outputs": [
    {
     "data": {
      "text/html": [
       "<div>\n",
       "<style scoped>\n",
       "    .dataframe tbody tr th:only-of-type {\n",
       "        vertical-align: middle;\n",
       "    }\n",
       "\n",
       "    .dataframe tbody tr th {\n",
       "        vertical-align: top;\n",
       "    }\n",
       "\n",
       "    .dataframe thead th {\n",
       "        text-align: right;\n",
       "    }\n",
       "</style>\n",
       "<table border=\"1\" class=\"dataframe\">\n",
       "  <thead>\n",
       "    <tr style=\"text-align: right;\">\n",
       "      <th></th>\n",
       "      <th>100</th>\n",
       "      <th>13mp</th>\n",
       "      <th>14k</th>\n",
       "      <th>1st</th>\n",
       "      <th>2017</th>\n",
       "      <th>2018</th>\n",
       "      <th>2nd</th>\n",
       "      <th>3rd</th>\n",
       "      <th>4000</th>\n",
       "      <th>4000 mah</th>\n",
       "      <th>...</th>\n",
       "      <th>would</th>\n",
       "      <th>write</th>\n",
       "      <th>write review</th>\n",
       "      <th>wrong</th>\n",
       "      <th>wrost</th>\n",
       "      <th>year</th>\n",
       "      <th>yes</th>\n",
       "      <th>yesterday</th>\n",
       "      <th>yet</th>\n",
       "      <th>youtube</th>\n",
       "    </tr>\n",
       "  </thead>\n",
       "  <tbody>\n",
       "    <tr>\n",
       "      <th>0</th>\n",
       "      <td>0.0</td>\n",
       "      <td>0.0</td>\n",
       "      <td>0.0</td>\n",
       "      <td>0.0</td>\n",
       "      <td>0.0</td>\n",
       "      <td>0.0</td>\n",
       "      <td>0.0</td>\n",
       "      <td>0.0</td>\n",
       "      <td>0.0</td>\n",
       "      <td>0.0</td>\n",
       "      <td>...</td>\n",
       "      <td>0.0</td>\n",
       "      <td>0.0</td>\n",
       "      <td>0.0</td>\n",
       "      <td>0.0</td>\n",
       "      <td>0.0</td>\n",
       "      <td>0.0</td>\n",
       "      <td>0.0</td>\n",
       "      <td>0.0</td>\n",
       "      <td>0.0</td>\n",
       "      <td>0.0</td>\n",
       "    </tr>\n",
       "    <tr>\n",
       "      <th>1</th>\n",
       "      <td>0.0</td>\n",
       "      <td>0.0</td>\n",
       "      <td>0.0</td>\n",
       "      <td>0.0</td>\n",
       "      <td>0.0</td>\n",
       "      <td>0.0</td>\n",
       "      <td>0.0</td>\n",
       "      <td>0.0</td>\n",
       "      <td>0.0</td>\n",
       "      <td>0.0</td>\n",
       "      <td>...</td>\n",
       "      <td>0.0</td>\n",
       "      <td>0.0</td>\n",
       "      <td>0.0</td>\n",
       "      <td>0.0</td>\n",
       "      <td>0.0</td>\n",
       "      <td>0.0</td>\n",
       "      <td>0.0</td>\n",
       "      <td>0.0</td>\n",
       "      <td>0.0</td>\n",
       "      <td>0.0</td>\n",
       "    </tr>\n",
       "    <tr>\n",
       "      <th>2</th>\n",
       "      <td>0.0</td>\n",
       "      <td>0.0</td>\n",
       "      <td>0.0</td>\n",
       "      <td>0.0</td>\n",
       "      <td>0.0</td>\n",
       "      <td>0.0</td>\n",
       "      <td>0.0</td>\n",
       "      <td>0.0</td>\n",
       "      <td>0.0</td>\n",
       "      <td>0.0</td>\n",
       "      <td>...</td>\n",
       "      <td>0.0</td>\n",
       "      <td>0.0</td>\n",
       "      <td>0.0</td>\n",
       "      <td>0.0</td>\n",
       "      <td>0.0</td>\n",
       "      <td>0.0</td>\n",
       "      <td>0.0</td>\n",
       "      <td>0.0</td>\n",
       "      <td>0.0</td>\n",
       "      <td>0.0</td>\n",
       "    </tr>\n",
       "    <tr>\n",
       "      <th>3</th>\n",
       "      <td>0.0</td>\n",
       "      <td>0.0</td>\n",
       "      <td>0.0</td>\n",
       "      <td>0.0</td>\n",
       "      <td>0.0</td>\n",
       "      <td>0.0</td>\n",
       "      <td>0.0</td>\n",
       "      <td>0.0</td>\n",
       "      <td>0.0</td>\n",
       "      <td>0.0</td>\n",
       "      <td>...</td>\n",
       "      <td>0.0</td>\n",
       "      <td>0.0</td>\n",
       "      <td>0.0</td>\n",
       "      <td>0.0</td>\n",
       "      <td>0.0</td>\n",
       "      <td>0.0</td>\n",
       "      <td>0.0</td>\n",
       "      <td>0.0</td>\n",
       "      <td>0.0</td>\n",
       "      <td>0.0</td>\n",
       "    </tr>\n",
       "    <tr>\n",
       "      <th>4</th>\n",
       "      <td>0.0</td>\n",
       "      <td>0.0</td>\n",
       "      <td>0.0</td>\n",
       "      <td>0.0</td>\n",
       "      <td>0.0</td>\n",
       "      <td>0.0</td>\n",
       "      <td>0.0</td>\n",
       "      <td>0.0</td>\n",
       "      <td>0.0</td>\n",
       "      <td>0.0</td>\n",
       "      <td>...</td>\n",
       "      <td>0.0</td>\n",
       "      <td>0.0</td>\n",
       "      <td>0.0</td>\n",
       "      <td>0.0</td>\n",
       "      <td>0.0</td>\n",
       "      <td>0.0</td>\n",
       "      <td>0.0</td>\n",
       "      <td>0.0</td>\n",
       "      <td>0.0</td>\n",
       "      <td>0.0</td>\n",
       "    </tr>\n",
       "    <tr>\n",
       "      <th>...</th>\n",
       "      <td>...</td>\n",
       "      <td>...</td>\n",
       "      <td>...</td>\n",
       "      <td>...</td>\n",
       "      <td>...</td>\n",
       "      <td>...</td>\n",
       "      <td>...</td>\n",
       "      <td>...</td>\n",
       "      <td>...</td>\n",
       "      <td>...</td>\n",
       "      <td>...</td>\n",
       "      <td>...</td>\n",
       "      <td>...</td>\n",
       "      <td>...</td>\n",
       "      <td>...</td>\n",
       "      <td>...</td>\n",
       "      <td>...</td>\n",
       "      <td>...</td>\n",
       "      <td>...</td>\n",
       "      <td>...</td>\n",
       "      <td>...</td>\n",
       "    </tr>\n",
       "    <tr>\n",
       "      <th>14670</th>\n",
       "      <td>0.0</td>\n",
       "      <td>0.0</td>\n",
       "      <td>0.0</td>\n",
       "      <td>0.0</td>\n",
       "      <td>0.0</td>\n",
       "      <td>0.0</td>\n",
       "      <td>0.0</td>\n",
       "      <td>0.0</td>\n",
       "      <td>0.0</td>\n",
       "      <td>0.0</td>\n",
       "      <td>...</td>\n",
       "      <td>0.0</td>\n",
       "      <td>0.0</td>\n",
       "      <td>0.0</td>\n",
       "      <td>0.0</td>\n",
       "      <td>0.0</td>\n",
       "      <td>0.0</td>\n",
       "      <td>0.0</td>\n",
       "      <td>0.0</td>\n",
       "      <td>0.0</td>\n",
       "      <td>0.0</td>\n",
       "    </tr>\n",
       "    <tr>\n",
       "      <th>14671</th>\n",
       "      <td>0.0</td>\n",
       "      <td>0.0</td>\n",
       "      <td>0.0</td>\n",
       "      <td>0.0</td>\n",
       "      <td>0.0</td>\n",
       "      <td>0.0</td>\n",
       "      <td>0.0</td>\n",
       "      <td>0.0</td>\n",
       "      <td>0.0</td>\n",
       "      <td>0.0</td>\n",
       "      <td>...</td>\n",
       "      <td>0.0</td>\n",
       "      <td>0.0</td>\n",
       "      <td>0.0</td>\n",
       "      <td>0.0</td>\n",
       "      <td>0.0</td>\n",
       "      <td>0.0</td>\n",
       "      <td>0.0</td>\n",
       "      <td>0.0</td>\n",
       "      <td>0.0</td>\n",
       "      <td>0.0</td>\n",
       "    </tr>\n",
       "    <tr>\n",
       "      <th>14672</th>\n",
       "      <td>0.0</td>\n",
       "      <td>0.0</td>\n",
       "      <td>0.0</td>\n",
       "      <td>0.0</td>\n",
       "      <td>0.0</td>\n",
       "      <td>0.0</td>\n",
       "      <td>0.0</td>\n",
       "      <td>0.0</td>\n",
       "      <td>0.0</td>\n",
       "      <td>0.0</td>\n",
       "      <td>...</td>\n",
       "      <td>0.0</td>\n",
       "      <td>0.0</td>\n",
       "      <td>0.0</td>\n",
       "      <td>0.0</td>\n",
       "      <td>0.0</td>\n",
       "      <td>0.0</td>\n",
       "      <td>0.0</td>\n",
       "      <td>0.0</td>\n",
       "      <td>0.0</td>\n",
       "      <td>0.0</td>\n",
       "    </tr>\n",
       "    <tr>\n",
       "      <th>14673</th>\n",
       "      <td>0.0</td>\n",
       "      <td>0.0</td>\n",
       "      <td>0.0</td>\n",
       "      <td>0.0</td>\n",
       "      <td>0.0</td>\n",
       "      <td>0.0</td>\n",
       "      <td>0.0</td>\n",
       "      <td>0.0</td>\n",
       "      <td>0.0</td>\n",
       "      <td>0.0</td>\n",
       "      <td>...</td>\n",
       "      <td>0.0</td>\n",
       "      <td>0.0</td>\n",
       "      <td>0.0</td>\n",
       "      <td>0.0</td>\n",
       "      <td>0.0</td>\n",
       "      <td>0.0</td>\n",
       "      <td>0.0</td>\n",
       "      <td>0.0</td>\n",
       "      <td>0.0</td>\n",
       "      <td>0.0</td>\n",
       "    </tr>\n",
       "    <tr>\n",
       "      <th>14674</th>\n",
       "      <td>0.0</td>\n",
       "      <td>0.0</td>\n",
       "      <td>0.0</td>\n",
       "      <td>0.0</td>\n",
       "      <td>0.0</td>\n",
       "      <td>0.0</td>\n",
       "      <td>0.0</td>\n",
       "      <td>0.0</td>\n",
       "      <td>0.0</td>\n",
       "      <td>0.0</td>\n",
       "      <td>...</td>\n",
       "      <td>0.0</td>\n",
       "      <td>0.0</td>\n",
       "      <td>0.0</td>\n",
       "      <td>0.0</td>\n",
       "      <td>0.0</td>\n",
       "      <td>0.0</td>\n",
       "      <td>0.0</td>\n",
       "      <td>0.0</td>\n",
       "      <td>0.0</td>\n",
       "      <td>0.0</td>\n",
       "    </tr>\n",
       "  </tbody>\n",
       "</table>\n",
       "<p>14675 rows × 1000 columns</p>\n",
       "</div>"
      ],
      "text/plain": [
       "       100  13mp  14k  1st  2017  2018  2nd  3rd  4000  4000 mah  ...  would  \\\n",
       "0      0.0   0.0  0.0  0.0   0.0   0.0  0.0  0.0   0.0       0.0  ...    0.0   \n",
       "1      0.0   0.0  0.0  0.0   0.0   0.0  0.0  0.0   0.0       0.0  ...    0.0   \n",
       "2      0.0   0.0  0.0  0.0   0.0   0.0  0.0  0.0   0.0       0.0  ...    0.0   \n",
       "3      0.0   0.0  0.0  0.0   0.0   0.0  0.0  0.0   0.0       0.0  ...    0.0   \n",
       "4      0.0   0.0  0.0  0.0   0.0   0.0  0.0  0.0   0.0       0.0  ...    0.0   \n",
       "...    ...   ...  ...  ...   ...   ...  ...  ...   ...       ...  ...    ...   \n",
       "14670  0.0   0.0  0.0  0.0   0.0   0.0  0.0  0.0   0.0       0.0  ...    0.0   \n",
       "14671  0.0   0.0  0.0  0.0   0.0   0.0  0.0  0.0   0.0       0.0  ...    0.0   \n",
       "14672  0.0   0.0  0.0  0.0   0.0   0.0  0.0  0.0   0.0       0.0  ...    0.0   \n",
       "14673  0.0   0.0  0.0  0.0   0.0   0.0  0.0  0.0   0.0       0.0  ...    0.0   \n",
       "14674  0.0   0.0  0.0  0.0   0.0   0.0  0.0  0.0   0.0       0.0  ...    0.0   \n",
       "\n",
       "       write  write review  wrong  wrost  year  yes  yesterday  yet  youtube  \n",
       "0        0.0           0.0    0.0    0.0   0.0  0.0        0.0  0.0      0.0  \n",
       "1        0.0           0.0    0.0    0.0   0.0  0.0        0.0  0.0      0.0  \n",
       "2        0.0           0.0    0.0    0.0   0.0  0.0        0.0  0.0      0.0  \n",
       "3        0.0           0.0    0.0    0.0   0.0  0.0        0.0  0.0      0.0  \n",
       "4        0.0           0.0    0.0    0.0   0.0  0.0        0.0  0.0      0.0  \n",
       "...      ...           ...    ...    ...   ...  ...        ...  ...      ...  \n",
       "14670    0.0           0.0    0.0    0.0   0.0  0.0        0.0  0.0      0.0  \n",
       "14671    0.0           0.0    0.0    0.0   0.0  0.0        0.0  0.0      0.0  \n",
       "14672    0.0           0.0    0.0    0.0   0.0  0.0        0.0  0.0      0.0  \n",
       "14673    0.0           0.0    0.0    0.0   0.0  0.0        0.0  0.0      0.0  \n",
       "14674    0.0           0.0    0.0    0.0   0.0  0.0        0.0  0.0      0.0  \n",
       "\n",
       "[14675 rows x 1000 columns]"
      ]
     },
     "execution_count": 202,
     "metadata": {},
     "output_type": "execute_result"
    }
   ],
   "source": [
    "X = tfidfvectorizer.fit_transform(reviews['clean_reviewlemm'])\n",
    "df_tfidf = pd.DataFrame(X.toarray(),columns=tfidfvectorizer.get_feature_names())\n",
    "df_tfidf"
   ]
  },
  {
   "cell_type": "code",
   "execution_count": 203,
   "metadata": {},
   "outputs": [
    {
     "data": {
      "text/plain": [
       "array([[0.08544553]])"
      ]
     },
     "execution_count": 203,
     "metadata": {},
     "output_type": "execute_result"
    }
   ],
   "source": [
    "#Check the cosine similarity with the second and the third reviews\n",
    "cosine_similarity(df_tfidf[100:101], df_tfidf[20:21])"
   ]
  },
  {
   "cell_type": "code",
   "execution_count": 204,
   "metadata": {},
   "outputs": [
    {
     "data": {
      "text/html": [
       "<div>\n",
       "<style scoped>\n",
       "    .dataframe tbody tr th:only-of-type {\n",
       "        vertical-align: middle;\n",
       "    }\n",
       "\n",
       "    .dataframe tbody tr th {\n",
       "        vertical-align: top;\n",
       "    }\n",
       "\n",
       "    .dataframe thead th {\n",
       "        text-align: right;\n",
       "    }\n",
       "</style>\n",
       "<table border=\"1\" class=\"dataframe\">\n",
       "  <thead>\n",
       "    <tr style=\"text-align: right;\">\n",
       "      <th></th>\n",
       "      <th>100</th>\n",
       "      <th>13mp</th>\n",
       "      <th>14k</th>\n",
       "      <th>1st</th>\n",
       "      <th>2017</th>\n",
       "      <th>2018</th>\n",
       "      <th>2nd</th>\n",
       "      <th>3rd</th>\n",
       "      <th>4000</th>\n",
       "      <th>4000 mah</th>\n",
       "      <th>...</th>\n",
       "      <th>would</th>\n",
       "      <th>write</th>\n",
       "      <th>write review</th>\n",
       "      <th>wrong</th>\n",
       "      <th>wrost</th>\n",
       "      <th>year</th>\n",
       "      <th>yes</th>\n",
       "      <th>yesterday</th>\n",
       "      <th>yet</th>\n",
       "      <th>youtube</th>\n",
       "    </tr>\n",
       "  </thead>\n",
       "  <tbody>\n",
       "    <tr>\n",
       "      <th>0</th>\n",
       "      <td>0.0</td>\n",
       "      <td>0.0</td>\n",
       "      <td>0.0</td>\n",
       "      <td>0.0</td>\n",
       "      <td>0.0</td>\n",
       "      <td>0.0</td>\n",
       "      <td>0.0</td>\n",
       "      <td>0.0</td>\n",
       "      <td>0.0</td>\n",
       "      <td>0.0</td>\n",
       "      <td>...</td>\n",
       "      <td>0.0</td>\n",
       "      <td>0.0</td>\n",
       "      <td>0.0</td>\n",
       "      <td>0.0</td>\n",
       "      <td>0.0</td>\n",
       "      <td>0.0</td>\n",
       "      <td>0.0</td>\n",
       "      <td>0.0</td>\n",
       "      <td>0.0</td>\n",
       "      <td>0.0</td>\n",
       "    </tr>\n",
       "  </tbody>\n",
       "</table>\n",
       "<p>1 rows × 1000 columns</p>\n",
       "</div>"
      ],
      "text/plain": [
       "   100  13mp  14k  1st  2017  2018  2nd  3rd  4000  4000 mah  ...  would  \\\n",
       "0  0.0   0.0  0.0  0.0   0.0   0.0  0.0  0.0   0.0       0.0  ...    0.0   \n",
       "\n",
       "   write  write review  wrong  wrost  year  yes  yesterday  yet  youtube  \n",
       "0    0.0           0.0    0.0    0.0   0.0  0.0        0.0  0.0      0.0  \n",
       "\n",
       "[1 rows x 1000 columns]"
      ]
     },
     "execution_count": 204,
     "metadata": {},
     "output_type": "execute_result"
    }
   ],
   "source": [
    "df_tfidf[0:1]"
   ]
  },
  {
   "cell_type": "code",
   "execution_count": 205,
   "metadata": {},
   "outputs": [
    {
     "data": {
      "text/html": [
       "<div>\n",
       "<style scoped>\n",
       "    .dataframe tbody tr th:only-of-type {\n",
       "        vertical-align: middle;\n",
       "    }\n",
       "\n",
       "    .dataframe tbody tr th {\n",
       "        vertical-align: top;\n",
       "    }\n",
       "\n",
       "    .dataframe thead th {\n",
       "        text-align: right;\n",
       "    }\n",
       "</style>\n",
       "<table border=\"1\" class=\"dataframe\">\n",
       "  <thead>\n",
       "    <tr style=\"text-align: right;\">\n",
       "      <th></th>\n",
       "      <th>0</th>\n",
       "      <th>1</th>\n",
       "      <th>2</th>\n",
       "      <th>3</th>\n",
       "      <th>4</th>\n",
       "      <th>5</th>\n",
       "      <th>6</th>\n",
       "      <th>7</th>\n",
       "      <th>8</th>\n",
       "      <th>9</th>\n",
       "      <th>...</th>\n",
       "      <th>14665</th>\n",
       "      <th>14666</th>\n",
       "      <th>14667</th>\n",
       "      <th>14668</th>\n",
       "      <th>14669</th>\n",
       "      <th>14670</th>\n",
       "      <th>14671</th>\n",
       "      <th>14672</th>\n",
       "      <th>14673</th>\n",
       "      <th>14674</th>\n",
       "    </tr>\n",
       "  </thead>\n",
       "  <tbody>\n",
       "    <tr>\n",
       "      <th>0</th>\n",
       "      <td>1.000000</td>\n",
       "      <td>0.000000</td>\n",
       "      <td>0.000000</td>\n",
       "      <td>0.220434</td>\n",
       "      <td>0.0000</td>\n",
       "      <td>0.0</td>\n",
       "      <td>0.000000</td>\n",
       "      <td>0.000000</td>\n",
       "      <td>0.000000</td>\n",
       "      <td>0.033154</td>\n",
       "      <td>...</td>\n",
       "      <td>0.0</td>\n",
       "      <td>0.000000</td>\n",
       "      <td>0.000000</td>\n",
       "      <td>0.057297</td>\n",
       "      <td>0.000000</td>\n",
       "      <td>0.000000</td>\n",
       "      <td>0.000000</td>\n",
       "      <td>0.000000</td>\n",
       "      <td>0.000000</td>\n",
       "      <td>0.220434</td>\n",
       "    </tr>\n",
       "    <tr>\n",
       "      <th>1</th>\n",
       "      <td>0.000000</td>\n",
       "      <td>1.000000</td>\n",
       "      <td>0.026205</td>\n",
       "      <td>0.000000</td>\n",
       "      <td>0.0764</td>\n",
       "      <td>0.0</td>\n",
       "      <td>0.024745</td>\n",
       "      <td>0.053872</td>\n",
       "      <td>0.000000</td>\n",
       "      <td>0.022446</td>\n",
       "      <td>...</td>\n",
       "      <td>0.0</td>\n",
       "      <td>0.046594</td>\n",
       "      <td>0.000000</td>\n",
       "      <td>0.000000</td>\n",
       "      <td>0.148467</td>\n",
       "      <td>0.093577</td>\n",
       "      <td>0.031226</td>\n",
       "      <td>0.000000</td>\n",
       "      <td>0.000000</td>\n",
       "      <td>0.000000</td>\n",
       "    </tr>\n",
       "    <tr>\n",
       "      <th>2</th>\n",
       "      <td>0.000000</td>\n",
       "      <td>0.026205</td>\n",
       "      <td>1.000000</td>\n",
       "      <td>0.000000</td>\n",
       "      <td>0.0000</td>\n",
       "      <td>0.0</td>\n",
       "      <td>0.000000</td>\n",
       "      <td>0.000000</td>\n",
       "      <td>0.000000</td>\n",
       "      <td>0.000000</td>\n",
       "      <td>...</td>\n",
       "      <td>0.0</td>\n",
       "      <td>0.000000</td>\n",
       "      <td>0.000000</td>\n",
       "      <td>0.000000</td>\n",
       "      <td>0.000000</td>\n",
       "      <td>0.000000</td>\n",
       "      <td>0.047486</td>\n",
       "      <td>0.000000</td>\n",
       "      <td>0.000000</td>\n",
       "      <td>0.000000</td>\n",
       "    </tr>\n",
       "    <tr>\n",
       "      <th>3</th>\n",
       "      <td>0.220434</td>\n",
       "      <td>0.000000</td>\n",
       "      <td>0.000000</td>\n",
       "      <td>1.000000</td>\n",
       "      <td>0.0000</td>\n",
       "      <td>0.0</td>\n",
       "      <td>0.000000</td>\n",
       "      <td>0.000000</td>\n",
       "      <td>0.000000</td>\n",
       "      <td>0.150404</td>\n",
       "      <td>...</td>\n",
       "      <td>0.0</td>\n",
       "      <td>0.000000</td>\n",
       "      <td>0.000000</td>\n",
       "      <td>0.259929</td>\n",
       "      <td>0.000000</td>\n",
       "      <td>0.000000</td>\n",
       "      <td>0.000000</td>\n",
       "      <td>0.000000</td>\n",
       "      <td>0.000000</td>\n",
       "      <td>1.000000</td>\n",
       "    </tr>\n",
       "    <tr>\n",
       "      <th>4</th>\n",
       "      <td>0.000000</td>\n",
       "      <td>0.076400</td>\n",
       "      <td>0.000000</td>\n",
       "      <td>0.000000</td>\n",
       "      <td>1.0000</td>\n",
       "      <td>0.0</td>\n",
       "      <td>0.000000</td>\n",
       "      <td>0.000000</td>\n",
       "      <td>0.201478</td>\n",
       "      <td>0.000000</td>\n",
       "      <td>...</td>\n",
       "      <td>0.0</td>\n",
       "      <td>0.117947</td>\n",
       "      <td>0.000000</td>\n",
       "      <td>0.000000</td>\n",
       "      <td>0.000000</td>\n",
       "      <td>0.000000</td>\n",
       "      <td>0.000000</td>\n",
       "      <td>0.000000</td>\n",
       "      <td>0.000000</td>\n",
       "      <td>0.000000</td>\n",
       "    </tr>\n",
       "    <tr>\n",
       "      <th>...</th>\n",
       "      <td>...</td>\n",
       "      <td>...</td>\n",
       "      <td>...</td>\n",
       "      <td>...</td>\n",
       "      <td>...</td>\n",
       "      <td>...</td>\n",
       "      <td>...</td>\n",
       "      <td>...</td>\n",
       "      <td>...</td>\n",
       "      <td>...</td>\n",
       "      <td>...</td>\n",
       "      <td>...</td>\n",
       "      <td>...</td>\n",
       "      <td>...</td>\n",
       "      <td>...</td>\n",
       "      <td>...</td>\n",
       "      <td>...</td>\n",
       "      <td>...</td>\n",
       "      <td>...</td>\n",
       "      <td>...</td>\n",
       "      <td>...</td>\n",
       "    </tr>\n",
       "    <tr>\n",
       "      <th>14670</th>\n",
       "      <td>0.000000</td>\n",
       "      <td>0.093577</td>\n",
       "      <td>0.000000</td>\n",
       "      <td>0.000000</td>\n",
       "      <td>0.0000</td>\n",
       "      <td>0.0</td>\n",
       "      <td>0.134797</td>\n",
       "      <td>0.000000</td>\n",
       "      <td>0.000000</td>\n",
       "      <td>0.000000</td>\n",
       "      <td>...</td>\n",
       "      <td>0.0</td>\n",
       "      <td>0.000000</td>\n",
       "      <td>0.000000</td>\n",
       "      <td>0.000000</td>\n",
       "      <td>0.000000</td>\n",
       "      <td>1.000000</td>\n",
       "      <td>0.000000</td>\n",
       "      <td>0.000000</td>\n",
       "      <td>0.000000</td>\n",
       "      <td>0.000000</td>\n",
       "    </tr>\n",
       "    <tr>\n",
       "      <th>14671</th>\n",
       "      <td>0.000000</td>\n",
       "      <td>0.031226</td>\n",
       "      <td>0.047486</td>\n",
       "      <td>0.000000</td>\n",
       "      <td>0.0000</td>\n",
       "      <td>0.0</td>\n",
       "      <td>0.132189</td>\n",
       "      <td>0.034682</td>\n",
       "      <td>0.028510</td>\n",
       "      <td>0.000000</td>\n",
       "      <td>...</td>\n",
       "      <td>0.0</td>\n",
       "      <td>0.000000</td>\n",
       "      <td>0.000000</td>\n",
       "      <td>0.000000</td>\n",
       "      <td>0.095582</td>\n",
       "      <td>0.000000</td>\n",
       "      <td>1.000000</td>\n",
       "      <td>0.217949</td>\n",
       "      <td>0.183485</td>\n",
       "      <td>0.000000</td>\n",
       "    </tr>\n",
       "    <tr>\n",
       "      <th>14672</th>\n",
       "      <td>0.000000</td>\n",
       "      <td>0.000000</td>\n",
       "      <td>0.000000</td>\n",
       "      <td>0.000000</td>\n",
       "      <td>0.0000</td>\n",
       "      <td>0.0</td>\n",
       "      <td>0.231172</td>\n",
       "      <td>0.000000</td>\n",
       "      <td>0.000000</td>\n",
       "      <td>0.000000</td>\n",
       "      <td>...</td>\n",
       "      <td>0.0</td>\n",
       "      <td>0.000000</td>\n",
       "      <td>0.000000</td>\n",
       "      <td>0.000000</td>\n",
       "      <td>0.000000</td>\n",
       "      <td>0.000000</td>\n",
       "      <td>0.217949</td>\n",
       "      <td>1.000000</td>\n",
       "      <td>0.000000</td>\n",
       "      <td>0.000000</td>\n",
       "    </tr>\n",
       "    <tr>\n",
       "      <th>14673</th>\n",
       "      <td>0.000000</td>\n",
       "      <td>0.000000</td>\n",
       "      <td>0.000000</td>\n",
       "      <td>0.000000</td>\n",
       "      <td>0.0000</td>\n",
       "      <td>0.0</td>\n",
       "      <td>0.000000</td>\n",
       "      <td>0.000000</td>\n",
       "      <td>0.000000</td>\n",
       "      <td>0.000000</td>\n",
       "      <td>...</td>\n",
       "      <td>0.0</td>\n",
       "      <td>0.000000</td>\n",
       "      <td>0.231667</td>\n",
       "      <td>0.000000</td>\n",
       "      <td>0.000000</td>\n",
       "      <td>0.000000</td>\n",
       "      <td>0.183485</td>\n",
       "      <td>0.000000</td>\n",
       "      <td>1.000000</td>\n",
       "      <td>0.000000</td>\n",
       "    </tr>\n",
       "    <tr>\n",
       "      <th>14674</th>\n",
       "      <td>0.220434</td>\n",
       "      <td>0.000000</td>\n",
       "      <td>0.000000</td>\n",
       "      <td>1.000000</td>\n",
       "      <td>0.0000</td>\n",
       "      <td>0.0</td>\n",
       "      <td>0.000000</td>\n",
       "      <td>0.000000</td>\n",
       "      <td>0.000000</td>\n",
       "      <td>0.150404</td>\n",
       "      <td>...</td>\n",
       "      <td>0.0</td>\n",
       "      <td>0.000000</td>\n",
       "      <td>0.000000</td>\n",
       "      <td>0.259929</td>\n",
       "      <td>0.000000</td>\n",
       "      <td>0.000000</td>\n",
       "      <td>0.000000</td>\n",
       "      <td>0.000000</td>\n",
       "      <td>0.000000</td>\n",
       "      <td>1.000000</td>\n",
       "    </tr>\n",
       "  </tbody>\n",
       "</table>\n",
       "<p>14675 rows × 14675 columns</p>\n",
       "</div>"
      ],
      "text/plain": [
       "          0         1         2         3       4      5         6      \\\n",
       "0      1.000000  0.000000  0.000000  0.220434  0.0000    0.0  0.000000   \n",
       "1      0.000000  1.000000  0.026205  0.000000  0.0764    0.0  0.024745   \n",
       "2      0.000000  0.026205  1.000000  0.000000  0.0000    0.0  0.000000   \n",
       "3      0.220434  0.000000  0.000000  1.000000  0.0000    0.0  0.000000   \n",
       "4      0.000000  0.076400  0.000000  0.000000  1.0000    0.0  0.000000   \n",
       "...         ...       ...       ...       ...     ...    ...       ...   \n",
       "14670  0.000000  0.093577  0.000000  0.000000  0.0000    0.0  0.134797   \n",
       "14671  0.000000  0.031226  0.047486  0.000000  0.0000    0.0  0.132189   \n",
       "14672  0.000000  0.000000  0.000000  0.000000  0.0000    0.0  0.231172   \n",
       "14673  0.000000  0.000000  0.000000  0.000000  0.0000    0.0  0.000000   \n",
       "14674  0.220434  0.000000  0.000000  1.000000  0.0000    0.0  0.000000   \n",
       "\n",
       "          7         8         9      ...  14665     14666     14667     14668  \\\n",
       "0      0.000000  0.000000  0.033154  ...    0.0  0.000000  0.000000  0.057297   \n",
       "1      0.053872  0.000000  0.022446  ...    0.0  0.046594  0.000000  0.000000   \n",
       "2      0.000000  0.000000  0.000000  ...    0.0  0.000000  0.000000  0.000000   \n",
       "3      0.000000  0.000000  0.150404  ...    0.0  0.000000  0.000000  0.259929   \n",
       "4      0.000000  0.201478  0.000000  ...    0.0  0.117947  0.000000  0.000000   \n",
       "...         ...       ...       ...  ...    ...       ...       ...       ...   \n",
       "14670  0.000000  0.000000  0.000000  ...    0.0  0.000000  0.000000  0.000000   \n",
       "14671  0.034682  0.028510  0.000000  ...    0.0  0.000000  0.000000  0.000000   \n",
       "14672  0.000000  0.000000  0.000000  ...    0.0  0.000000  0.000000  0.000000   \n",
       "14673  0.000000  0.000000  0.000000  ...    0.0  0.000000  0.231667  0.000000   \n",
       "14674  0.000000  0.000000  0.150404  ...    0.0  0.000000  0.000000  0.259929   \n",
       "\n",
       "          14669     14670     14671     14672     14673     14674  \n",
       "0      0.000000  0.000000  0.000000  0.000000  0.000000  0.220434  \n",
       "1      0.148467  0.093577  0.031226  0.000000  0.000000  0.000000  \n",
       "2      0.000000  0.000000  0.047486  0.000000  0.000000  0.000000  \n",
       "3      0.000000  0.000000  0.000000  0.000000  0.000000  1.000000  \n",
       "4      0.000000  0.000000  0.000000  0.000000  0.000000  0.000000  \n",
       "...         ...       ...       ...       ...       ...       ...  \n",
       "14670  0.000000  1.000000  0.000000  0.000000  0.000000  0.000000  \n",
       "14671  0.095582  0.000000  1.000000  0.217949  0.183485  0.000000  \n",
       "14672  0.000000  0.000000  0.217949  1.000000  0.000000  0.000000  \n",
       "14673  0.000000  0.000000  0.183485  0.000000  1.000000  0.000000  \n",
       "14674  0.000000  0.000000  0.000000  0.000000  0.000000  1.000000  \n",
       "\n",
       "[14675 rows x 14675 columns]"
      ]
     },
     "execution_count": 205,
     "metadata": {},
     "output_type": "execute_result"
    }
   ],
   "source": [
    "cosimreviews = cosine_similarity(df_tfidf)\n",
    "cosimreviews = pd.DataFrame(cosimreviews)\n",
    "cosimreviews"
   ]
  },
  {
   "cell_type": "code",
   "execution_count": 206,
   "metadata": {},
   "outputs": [],
   "source": [
    "def get_similar_reviews(input_review, cosimreviews):\n",
    "    cos_vals = cosimreviews[input_review].sort_values(ascending=False)\n",
    "    similar_rev = cos_vals.drop(input_review).head(5)\n",
    "    return similar_rev"
   ]
  },
  {
   "cell_type": "code",
   "execution_count": 207,
   "metadata": {},
   "outputs": [
    {
     "data": {
      "text/plain": [
       "8195     0.870619\n",
       "6624     0.870619\n",
       "12667    0.870619\n",
       "8731     0.870619\n",
       "4828     0.804726\n",
       "Name: 100, dtype: float64"
      ]
     },
     "execution_count": 207,
     "metadata": {},
     "output_type": "execute_result"
    }
   ],
   "source": [
    "get_similar_reviews(100, cosimreviews)"
   ]
  },
  {
   "cell_type": "code",
   "execution_count": 208,
   "metadata": {},
   "outputs": [
    {
     "data": {
      "text/plain": [
       "'good sep get cash back way make fool call cash back lol'"
      ]
     },
     "execution_count": 208,
     "metadata": {},
     "output_type": "execute_result"
    }
   ],
   "source": [
    "reviews.clean_reviewlemm[100]"
   ]
  },
  {
   "cell_type": "code",
   "execution_count": 209,
   "metadata": {},
   "outputs": [
    {
     "data": {
      "text/plain": [
       "'goodi not_recived cash back'"
      ]
     },
     "execution_count": 209,
     "metadata": {},
     "output_type": "execute_result"
    }
   ],
   "source": [
    "reviews.clean_reviewlemm[12667]"
   ]
  },
  {
   "cell_type": "code",
   "execution_count": 210,
   "metadata": {},
   "outputs": [
    {
     "data": {
      "text/html": [
       "<div>\n",
       "<style scoped>\n",
       "    .dataframe tbody tr th:only-of-type {\n",
       "        vertical-align: middle;\n",
       "    }\n",
       "\n",
       "    .dataframe tbody tr th {\n",
       "        vertical-align: top;\n",
       "    }\n",
       "\n",
       "    .dataframe thead th {\n",
       "        text-align: right;\n",
       "    }\n",
       "</style>\n",
       "<table border=\"1\" class=\"dataframe\">\n",
       "  <thead>\n",
       "    <tr style=\"text-align: right;\">\n",
       "      <th></th>\n",
       "      <th>100</th>\n",
       "      <th>13mp</th>\n",
       "      <th>14k</th>\n",
       "      <th>1st</th>\n",
       "      <th>2017</th>\n",
       "      <th>2018</th>\n",
       "      <th>2nd</th>\n",
       "      <th>3rd</th>\n",
       "      <th>4000</th>\n",
       "      <th>4000 mah</th>\n",
       "      <th>...</th>\n",
       "      <th>would</th>\n",
       "      <th>write</th>\n",
       "      <th>write review</th>\n",
       "      <th>wrong</th>\n",
       "      <th>wrost</th>\n",
       "      <th>year</th>\n",
       "      <th>yes</th>\n",
       "      <th>yesterday</th>\n",
       "      <th>yet</th>\n",
       "      <th>youtube</th>\n",
       "    </tr>\n",
       "  </thead>\n",
       "  <tbody>\n",
       "    <tr>\n",
       "      <th>100</th>\n",
       "      <td>1.000000</td>\n",
       "      <td>0.002204</td>\n",
       "      <td>0.004816</td>\n",
       "      <td>0.031947</td>\n",
       "      <td>0.000000</td>\n",
       "      <td>0.004619</td>\n",
       "      <td>0.005758</td>\n",
       "      <td>0.000000</td>\n",
       "      <td>0.037227</td>\n",
       "      <td>0.040181</td>\n",
       "      <td>...</td>\n",
       "      <td>0.020518</td>\n",
       "      <td>0.015876</td>\n",
       "      <td>0.024971</td>\n",
       "      <td>0.005453</td>\n",
       "      <td>0.004960</td>\n",
       "      <td>0.012753</td>\n",
       "      <td>0.000284</td>\n",
       "      <td>0.006268</td>\n",
       "      <td>0.000000</td>\n",
       "      <td>0.007641</td>\n",
       "    </tr>\n",
       "    <tr>\n",
       "      <th>13mp</th>\n",
       "      <td>0.002204</td>\n",
       "      <td>1.000000</td>\n",
       "      <td>0.003257</td>\n",
       "      <td>0.003196</td>\n",
       "      <td>0.000000</td>\n",
       "      <td>0.000000</td>\n",
       "      <td>0.003218</td>\n",
       "      <td>0.000000</td>\n",
       "      <td>0.000457</td>\n",
       "      <td>0.000551</td>\n",
       "      <td>...</td>\n",
       "      <td>0.002049</td>\n",
       "      <td>0.000000</td>\n",
       "      <td>0.000000</td>\n",
       "      <td>0.000000</td>\n",
       "      <td>0.036083</td>\n",
       "      <td>0.000000</td>\n",
       "      <td>0.000422</td>\n",
       "      <td>0.000000</td>\n",
       "      <td>0.000000</td>\n",
       "      <td>0.014085</td>\n",
       "    </tr>\n",
       "    <tr>\n",
       "      <th>14k</th>\n",
       "      <td>0.004816</td>\n",
       "      <td>0.003257</td>\n",
       "      <td>1.000000</td>\n",
       "      <td>0.000000</td>\n",
       "      <td>0.000000</td>\n",
       "      <td>0.000000</td>\n",
       "      <td>0.000000</td>\n",
       "      <td>0.000000</td>\n",
       "      <td>0.000962</td>\n",
       "      <td>0.001159</td>\n",
       "      <td>...</td>\n",
       "      <td>0.009704</td>\n",
       "      <td>0.004392</td>\n",
       "      <td>0.007090</td>\n",
       "      <td>0.006149</td>\n",
       "      <td>0.000000</td>\n",
       "      <td>0.001049</td>\n",
       "      <td>0.000000</td>\n",
       "      <td>0.000000</td>\n",
       "      <td>0.001014</td>\n",
       "      <td>0.014363</td>\n",
       "    </tr>\n",
       "    <tr>\n",
       "      <th>1st</th>\n",
       "      <td>0.031947</td>\n",
       "      <td>0.003196</td>\n",
       "      <td>0.000000</td>\n",
       "      <td>1.000000</td>\n",
       "      <td>0.044188</td>\n",
       "      <td>0.008229</td>\n",
       "      <td>0.026113</td>\n",
       "      <td>0.015800</td>\n",
       "      <td>0.034229</td>\n",
       "      <td>0.032090</td>\n",
       "      <td>...</td>\n",
       "      <td>0.006978</td>\n",
       "      <td>0.000000</td>\n",
       "      <td>0.000000</td>\n",
       "      <td>0.025210</td>\n",
       "      <td>0.000000</td>\n",
       "      <td>0.036570</td>\n",
       "      <td>0.009496</td>\n",
       "      <td>0.000000</td>\n",
       "      <td>0.004619</td>\n",
       "      <td>0.008251</td>\n",
       "    </tr>\n",
       "    <tr>\n",
       "      <th>2017</th>\n",
       "      <td>0.000000</td>\n",
       "      <td>0.000000</td>\n",
       "      <td>0.000000</td>\n",
       "      <td>0.044188</td>\n",
       "      <td>1.000000</td>\n",
       "      <td>0.087170</td>\n",
       "      <td>0.000000</td>\n",
       "      <td>0.000000</td>\n",
       "      <td>0.000925</td>\n",
       "      <td>0.001114</td>\n",
       "      <td>...</td>\n",
       "      <td>0.019116</td>\n",
       "      <td>0.002783</td>\n",
       "      <td>0.000000</td>\n",
       "      <td>0.018477</td>\n",
       "      <td>0.000000</td>\n",
       "      <td>0.007826</td>\n",
       "      <td>0.003015</td>\n",
       "      <td>0.000000</td>\n",
       "      <td>0.001326</td>\n",
       "      <td>0.000000</td>\n",
       "    </tr>\n",
       "    <tr>\n",
       "      <th>...</th>\n",
       "      <td>...</td>\n",
       "      <td>...</td>\n",
       "      <td>...</td>\n",
       "      <td>...</td>\n",
       "      <td>...</td>\n",
       "      <td>...</td>\n",
       "      <td>...</td>\n",
       "      <td>...</td>\n",
       "      <td>...</td>\n",
       "      <td>...</td>\n",
       "      <td>...</td>\n",
       "      <td>...</td>\n",
       "      <td>...</td>\n",
       "      <td>...</td>\n",
       "      <td>...</td>\n",
       "      <td>...</td>\n",
       "      <td>...</td>\n",
       "      <td>...</td>\n",
       "      <td>...</td>\n",
       "      <td>...</td>\n",
       "      <td>...</td>\n",
       "    </tr>\n",
       "    <tr>\n",
       "      <th>year</th>\n",
       "      <td>0.012753</td>\n",
       "      <td>0.000000</td>\n",
       "      <td>0.001049</td>\n",
       "      <td>0.036570</td>\n",
       "      <td>0.007826</td>\n",
       "      <td>0.035847</td>\n",
       "      <td>0.000000</td>\n",
       "      <td>0.049342</td>\n",
       "      <td>0.002210</td>\n",
       "      <td>0.002662</td>\n",
       "      <td>...</td>\n",
       "      <td>0.023156</td>\n",
       "      <td>0.016299</td>\n",
       "      <td>0.000000</td>\n",
       "      <td>0.014465</td>\n",
       "      <td>0.000000</td>\n",
       "      <td>1.000000</td>\n",
       "      <td>0.000000</td>\n",
       "      <td>0.000000</td>\n",
       "      <td>0.031599</td>\n",
       "      <td>0.000000</td>\n",
       "    </tr>\n",
       "    <tr>\n",
       "      <th>yes</th>\n",
       "      <td>0.000284</td>\n",
       "      <td>0.000422</td>\n",
       "      <td>0.000000</td>\n",
       "      <td>0.009496</td>\n",
       "      <td>0.003015</td>\n",
       "      <td>0.000000</td>\n",
       "      <td>0.000000</td>\n",
       "      <td>0.001231</td>\n",
       "      <td>0.010252</td>\n",
       "      <td>0.012350</td>\n",
       "      <td>...</td>\n",
       "      <td>0.005894</td>\n",
       "      <td>0.004752</td>\n",
       "      <td>0.000000</td>\n",
       "      <td>0.000504</td>\n",
       "      <td>0.000000</td>\n",
       "      <td>0.000000</td>\n",
       "      <td>1.000000</td>\n",
       "      <td>0.000000</td>\n",
       "      <td>0.000000</td>\n",
       "      <td>0.002941</td>\n",
       "    </tr>\n",
       "    <tr>\n",
       "      <th>yesterday</th>\n",
       "      <td>0.006268</td>\n",
       "      <td>0.000000</td>\n",
       "      <td>0.000000</td>\n",
       "      <td>0.000000</td>\n",
       "      <td>0.000000</td>\n",
       "      <td>0.118276</td>\n",
       "      <td>0.031003</td>\n",
       "      <td>0.000000</td>\n",
       "      <td>0.007435</td>\n",
       "      <td>0.000000</td>\n",
       "      <td>...</td>\n",
       "      <td>0.003111</td>\n",
       "      <td>0.000000</td>\n",
       "      <td>0.000000</td>\n",
       "      <td>0.000000</td>\n",
       "      <td>0.000000</td>\n",
       "      <td>0.000000</td>\n",
       "      <td>0.000000</td>\n",
       "      <td>1.000000</td>\n",
       "      <td>0.000000</td>\n",
       "      <td>0.008017</td>\n",
       "    </tr>\n",
       "    <tr>\n",
       "      <th>yet</th>\n",
       "      <td>0.000000</td>\n",
       "      <td>0.000000</td>\n",
       "      <td>0.001014</td>\n",
       "      <td>0.004619</td>\n",
       "      <td>0.001326</td>\n",
       "      <td>0.019988</td>\n",
       "      <td>0.000000</td>\n",
       "      <td>0.004834</td>\n",
       "      <td>0.000000</td>\n",
       "      <td>0.000000</td>\n",
       "      <td>...</td>\n",
       "      <td>0.013004</td>\n",
       "      <td>0.004360</td>\n",
       "      <td>0.000000</td>\n",
       "      <td>0.000000</td>\n",
       "      <td>0.000000</td>\n",
       "      <td>0.031599</td>\n",
       "      <td>0.000000</td>\n",
       "      <td>0.000000</td>\n",
       "      <td>1.000000</td>\n",
       "      <td>0.023214</td>\n",
       "    </tr>\n",
       "    <tr>\n",
       "      <th>youtube</th>\n",
       "      <td>0.007641</td>\n",
       "      <td>0.014085</td>\n",
       "      <td>0.014363</td>\n",
       "      <td>0.008251</td>\n",
       "      <td>0.000000</td>\n",
       "      <td>0.051581</td>\n",
       "      <td>0.014682</td>\n",
       "      <td>0.000000</td>\n",
       "      <td>0.007570</td>\n",
       "      <td>0.009120</td>\n",
       "      <td>...</td>\n",
       "      <td>0.002965</td>\n",
       "      <td>0.006115</td>\n",
       "      <td>0.006822</td>\n",
       "      <td>0.001174</td>\n",
       "      <td>0.000000</td>\n",
       "      <td>0.000000</td>\n",
       "      <td>0.002941</td>\n",
       "      <td>0.008017</td>\n",
       "      <td>0.023214</td>\n",
       "      <td>1.000000</td>\n",
       "    </tr>\n",
       "  </tbody>\n",
       "</table>\n",
       "<p>1000 rows × 1000 columns</p>\n",
       "</div>"
      ],
      "text/plain": [
       "                100      13mp       14k       1st      2017      2018  \\\n",
       "100        1.000000  0.002204  0.004816  0.031947  0.000000  0.004619   \n",
       "13mp       0.002204  1.000000  0.003257  0.003196  0.000000  0.000000   \n",
       "14k        0.004816  0.003257  1.000000  0.000000  0.000000  0.000000   \n",
       "1st        0.031947  0.003196  0.000000  1.000000  0.044188  0.008229   \n",
       "2017       0.000000  0.000000  0.000000  0.044188  1.000000  0.087170   \n",
       "...             ...       ...       ...       ...       ...       ...   \n",
       "year       0.012753  0.000000  0.001049  0.036570  0.007826  0.035847   \n",
       "yes        0.000284  0.000422  0.000000  0.009496  0.003015  0.000000   \n",
       "yesterday  0.006268  0.000000  0.000000  0.000000  0.000000  0.118276   \n",
       "yet        0.000000  0.000000  0.001014  0.004619  0.001326  0.019988   \n",
       "youtube    0.007641  0.014085  0.014363  0.008251  0.000000  0.051581   \n",
       "\n",
       "                2nd       3rd      4000  4000 mah  ...     would     write  \\\n",
       "100        0.005758  0.000000  0.037227  0.040181  ...  0.020518  0.015876   \n",
       "13mp       0.003218  0.000000  0.000457  0.000551  ...  0.002049  0.000000   \n",
       "14k        0.000000  0.000000  0.000962  0.001159  ...  0.009704  0.004392   \n",
       "1st        0.026113  0.015800  0.034229  0.032090  ...  0.006978  0.000000   \n",
       "2017       0.000000  0.000000  0.000925  0.001114  ...  0.019116  0.002783   \n",
       "...             ...       ...       ...       ...  ...       ...       ...   \n",
       "year       0.000000  0.049342  0.002210  0.002662  ...  0.023156  0.016299   \n",
       "yes        0.000000  0.001231  0.010252  0.012350  ...  0.005894  0.004752   \n",
       "yesterday  0.031003  0.000000  0.007435  0.000000  ...  0.003111  0.000000   \n",
       "yet        0.000000  0.004834  0.000000  0.000000  ...  0.013004  0.004360   \n",
       "youtube    0.014682  0.000000  0.007570  0.009120  ...  0.002965  0.006115   \n",
       "\n",
       "           write review     wrong     wrost      year       yes  yesterday  \\\n",
       "100            0.024971  0.005453  0.004960  0.012753  0.000284   0.006268   \n",
       "13mp           0.000000  0.000000  0.036083  0.000000  0.000422   0.000000   \n",
       "14k            0.007090  0.006149  0.000000  0.001049  0.000000   0.000000   \n",
       "1st            0.000000  0.025210  0.000000  0.036570  0.009496   0.000000   \n",
       "2017           0.000000  0.018477  0.000000  0.007826  0.003015   0.000000   \n",
       "...                 ...       ...       ...       ...       ...        ...   \n",
       "year           0.000000  0.014465  0.000000  1.000000  0.000000   0.000000   \n",
       "yes            0.000000  0.000504  0.000000  0.000000  1.000000   0.000000   \n",
       "yesterday      0.000000  0.000000  0.000000  0.000000  0.000000   1.000000   \n",
       "yet            0.000000  0.000000  0.000000  0.031599  0.000000   0.000000   \n",
       "youtube        0.006822  0.001174  0.000000  0.000000  0.002941   0.008017   \n",
       "\n",
       "                yet   youtube  \n",
       "100        0.000000  0.007641  \n",
       "13mp       0.000000  0.014085  \n",
       "14k        0.001014  0.014363  \n",
       "1st        0.004619  0.008251  \n",
       "2017       0.001326  0.000000  \n",
       "...             ...       ...  \n",
       "year       0.031599  0.000000  \n",
       "yes        0.000000  0.002941  \n",
       "yesterday  0.000000  0.008017  \n",
       "yet        1.000000  0.023214  \n",
       "youtube    0.023214  1.000000  \n",
       "\n",
       "[1000 rows x 1000 columns]"
      ]
     },
     "execution_count": 210,
     "metadata": {},
     "output_type": "execute_result"
    }
   ],
   "source": [
    "cs = cosine_similarity(df_tfidf.T)\n",
    "cswords = pd.DataFrame(cs, columns = tfidfvectorizer.get_feature_names(), index = tfidfvectorizer.get_feature_names())\n",
    "cswords"
   ]
  },
  {
   "cell_type": "code",
   "execution_count": 211,
   "metadata": {},
   "outputs": [],
   "source": [
    "def get_similar_words(input_word, sim_mat):\n",
    "    cos_vals = sim_mat[input_word].sort_values(ascending=False)\n",
    "    similar_words = cos_vals.drop(input_word).head(5)\n",
    "    return similar_words"
   ]
  },
  {
   "cell_type": "code",
   "execution_count": 213,
   "metadata": {},
   "outputs": [
    {
     "data": {
      "text/plain": [
       "bad                 0.148348\n",
       "customer service    0.062153\n",
       "bad battery         0.062110\n",
       "bad camera          0.057317\n",
       "bring               0.049637\n",
       "Name: bad bad, dtype: float64"
      ]
     },
     "execution_count": 213,
     "metadata": {},
     "output_type": "execute_result"
    }
   ],
   "source": [
    "sim_mat = cosine_similarity(df_tfidf.T)\n",
    "\n",
    "sim_mat = pd.DataFrame(sim_mat, columns= df_tfidf.columns, index= df_tfidf.columns)\n",
    "\n",
    "get_similar_words('bad bad', sim_mat)"
   ]
  },
  {
   "cell_type": "code",
   "execution_count": 147,
   "metadata": {},
   "outputs": [
    {
     "data": {
      "text/plain": [
       "take     0.361721\n",
       "turbo    0.318815\n",
       "hour     0.315991\n",
       "heat     0.231828\n",
       "full     0.219013\n",
       "Name: charge, dtype: float64"
      ]
     },
     "execution_count": 147,
     "metadata": {},
     "output_type": "execute_result"
    }
   ],
   "source": [
    "#Understanding how the function works\n",
    "sim_mat['charge'].sort_values(ascending=False).drop('charge').head(5)"
   ]
  },
  {
   "cell_type": "code",
   "execution_count": 148,
   "metadata": {
    "scrolled": true
   },
   "outputs": [
    {
     "data": {
      "text/plain": [
       "sentiment                                                           1\n",
       "review              Good phone but charger not working / damage wi...\n",
       "clean_reviewlemm                good charger idle damage within month\n",
       "Name: 11, dtype: object"
      ]
     },
     "execution_count": 148,
     "metadata": {},
     "output_type": "execute_result"
    }
   ],
   "source": [
    "reviews.iloc[11]"
   ]
  },
  {
   "cell_type": "code",
   "execution_count": 149,
   "metadata": {},
   "outputs": [
    {
     "data": {
      "text/plain": [
       "0.0"
      ]
     },
     "execution_count": 149,
     "metadata": {},
     "output_type": "execute_result"
    }
   ],
   "source": [
    "cs[11,0]"
   ]
  },
  {
   "cell_type": "code",
   "execution_count": 192,
   "metadata": {},
   "outputs": [
    {
     "data": {
      "text/plain": [
       "excellent      1.000000\n",
       "feature        0.061317\n",
       "performance    0.054749\n",
       "camera         0.050034\n",
       "service        0.042288\n",
       "amazon         0.039842\n",
       "Name: excellent, dtype: float64"
      ]
     },
     "execution_count": 192,
     "metadata": {},
     "output_type": "execute_result"
    }
   ],
   "source": [
    "word = 'excellent'\n",
    "cswords[word].sort_values(ascending = False).head(6)"
   ]
  },
  {
   "cell_type": "code",
   "execution_count": 191,
   "metadata": {},
   "outputs": [
    {
     "data": {
      "text/plain": [
       "ever          0.157756\n",
       "buy           0.147624\n",
       "battery       0.137070\n",
       "camera        0.134124\n",
       "experience    0.129205\n",
       "Name: bad, dtype: float64"
      ]
     },
     "execution_count": 191,
     "metadata": {},
     "output_type": "execute_result"
    }
   ],
   "source": [
    "cswords[word].sort_values(ascending = False).drop(word).head(5)"
   ]
  },
  {
   "cell_type": "code",
   "execution_count": null,
   "metadata": {},
   "outputs": [],
   "source": []
  },
  {
   "cell_type": "code",
   "execution_count": 214,
   "metadata": {},
   "outputs": [],
   "source": [
    "countvectorizer = CountVectorizer(max_features=1000, ngram_range=(1,3))"
   ]
  },
  {
   "cell_type": "code",
   "execution_count": 217,
   "metadata": {},
   "outputs": [
    {
     "data": {
      "text/plain": [
       "35"
      ]
     },
     "execution_count": 217,
     "metadata": {},
     "output_type": "execute_result"
    }
   ],
   "source": [
    "X = countvectorizer.fit_transform(reviews['clean_reviewlemm'])\n",
    "df_tfidf = pd.DataFrame(X.toarray(),columns=countvectorizer.get_feature_names())\n",
    "df_tfidf['bad bad'].sum()"
   ]
  },
  {
   "cell_type": "code",
   "execution_count": 226,
   "metadata": {},
   "outputs": [],
   "source": [
    "counter = 0\n",
    "sentimentcount = 0\n",
    "for i in range(14675):\n",
    "    if df_tfidf['bad bad'][i] >0 :\n",
    "        counter = counter +1\n",
    "        if reviews['sentiment'][i]==1:\n",
    "            sentimentcount = sentimentcount + 1"
   ]
  },
  {
   "cell_type": "code",
   "execution_count": 224,
   "metadata": {},
   "outputs": [
    {
     "data": {
      "text/plain": [
       "0        1\n",
       "1        0\n",
       "2        1\n",
       "3        1\n",
       "4        0\n",
       "        ..\n",
       "14670    1\n",
       "14671    1\n",
       "14672    1\n",
       "14673    1\n",
       "14674    1\n",
       "Name: sentiment, Length: 14675, dtype: int64"
      ]
     },
     "execution_count": 224,
     "metadata": {},
     "output_type": "execute_result"
    }
   ],
   "source": [
    "reviews.sentiment"
   ]
  },
  {
   "cell_type": "code",
   "execution_count": 221,
   "metadata": {},
   "outputs": [
    {
     "data": {
      "text/plain": [
       "31"
      ]
     },
     "execution_count": 221,
     "metadata": {},
     "output_type": "execute_result"
    }
   ],
   "source": [
    "counter"
   ]
  },
  {
   "cell_type": "code",
   "execution_count": 227,
   "metadata": {},
   "outputs": [
    {
     "data": {
      "text/plain": [
       "2"
      ]
     },
     "execution_count": 227,
     "metadata": {},
     "output_type": "execute_result"
    }
   ],
   "source": [
    "sentimentcount"
   ]
  },
  {
   "cell_type": "code",
   "execution_count": 219,
   "metadata": {},
   "outputs": [
    {
     "data": {
      "text/plain": [
       "0"
      ]
     },
     "execution_count": 219,
     "metadata": {},
     "output_type": "execute_result"
    }
   ],
   "source": [
    "df_tfidf['bad bad'][1]"
   ]
  },
  {
   "cell_type": "code",
   "execution_count": null,
   "metadata": {},
   "outputs": [],
   "source": []
  },
  {
   "cell_type": "code",
   "execution_count": null,
   "metadata": {},
   "outputs": [],
   "source": []
  },
  {
   "cell_type": "code",
   "execution_count": null,
   "metadata": {},
   "outputs": [],
   "source": []
  },
  {
   "cell_type": "code",
   "execution_count": null,
   "metadata": {},
   "outputs": [],
   "source": []
  },
  {
   "cell_type": "code",
   "execution_count": null,
   "metadata": {},
   "outputs": [],
   "source": []
  },
  {
   "cell_type": "code",
   "execution_count": null,
   "metadata": {},
   "outputs": [],
   "source": []
  },
  {
   "cell_type": "code",
   "execution_count": null,
   "metadata": {},
   "outputs": [],
   "source": []
  },
  {
   "cell_type": "code",
   "execution_count": null,
   "metadata": {},
   "outputs": [],
   "source": []
  },
  {
   "cell_type": "code",
   "execution_count": null,
   "metadata": {},
   "outputs": [],
   "source": []
  },
  {
   "cell_type": "code",
   "execution_count": null,
   "metadata": {},
   "outputs": [],
   "source": []
  },
  {
   "cell_type": "code",
   "execution_count": null,
   "metadata": {},
   "outputs": [],
   "source": []
  },
  {
   "cell_type": "code",
   "execution_count": null,
   "metadata": {},
   "outputs": [],
   "source": []
  },
  {
   "cell_type": "code",
   "execution_count": null,
   "metadata": {},
   "outputs": [],
   "source": []
  },
  {
   "cell_type": "code",
   "execution_count": null,
   "metadata": {},
   "outputs": [],
   "source": []
  }
 ],
 "metadata": {
  "kernelspec": {
   "display_name": "Python 3",
   "language": "python",
   "name": "python3"
  },
  "language_info": {
   "codemirror_mode": {
    "name": "ipython",
    "version": 3
   },
   "file_extension": ".py",
   "mimetype": "text/x-python",
   "name": "python",
   "nbconvert_exporter": "python",
   "pygments_lexer": "ipython3",
   "version": "3.8.8"
  }
 },
 "nbformat": 4,
 "nbformat_minor": 2
}
