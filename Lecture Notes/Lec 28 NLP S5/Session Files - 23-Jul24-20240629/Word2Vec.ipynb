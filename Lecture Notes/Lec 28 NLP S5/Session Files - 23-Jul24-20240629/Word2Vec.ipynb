{
 "cells": [
  {
   "cell_type": "code",
   "execution_count": 2,
   "id": "a5e18770",
   "metadata": {},
   "outputs": [
    {
     "name": "stdout",
     "output_type": "stream",
     "text": [
      "Requirement already satisfied: gensim in d:\\python\\lib\\site-packages (4.2.0)\n",
      "Requirement already satisfied: scipy>=0.18.1 in d:\\python\\lib\\site-packages (from gensim) (1.6.2)\n",
      "Requirement already satisfied: Cython==0.29.28 in d:\\python\\lib\\site-packages (from gensim) (0.29.28)\n",
      "Requirement already satisfied: numpy>=1.17.0 in d:\\python\\lib\\site-packages (from gensim) (1.20.3)\n",
      "Requirement already satisfied: smart-open>=1.8.1 in d:\\python\\lib\\site-packages (from gensim) (6.2.0)\n"
     ]
    }
   ],
   "source": [
    "!pip install gensim"
   ]
  },
  {
   "cell_type": "code",
   "execution_count": 15,
   "id": "ad471c78",
   "metadata": {},
   "outputs": [],
   "source": [
    "import gensim.downloader as api\n",
    "\n",
    "# Download the pre-trained Word2Vec model (this may take some time)\n",
    "model = api.load(\"word2vec-google-news-300\")"
   ]
  },
  {
   "cell_type": "code",
   "execution_count": 16,
   "id": "9bebc04a",
   "metadata": {},
   "outputs": [
    {
     "name": "stdout",
     "output_type": "stream",
     "text": [
      "Most similar words to 'cat': [('cats', 0.8099379539489746), ('dog', 0.760945737361908), ('kitten', 0.7464984655380249), ('feline', 0.7326233983039856), ('beagle', 0.7150582671165466)]\n",
      "Similarity between 'king' and 'queen': 0.6510956883430481\n"
     ]
    }
   ],
   "source": [
    "# Example: Get the vector for a specific word\n",
    "word = \"cat\"\n",
    "if word in model:\n",
    "    word_vector = model[word]\n",
    "    #print(f\"Vector for '{word}': {word_vector}\")\n",
    "\n",
    "# Example: Find most similar words to a given word\n",
    "similar_words = model.most_similar(\"cat\", topn=5)\n",
    "print(f\"Most similar words to 'cat': {similar_words}\")\n",
    "\n",
    "# Example: Calculate similarity between two words\n",
    "similarity = model.similarity(\"king\", \"queen\")\n",
    "print(f\"Similarity between 'king' and 'queen': {similarity}\")"
   ]
  },
  {
   "cell_type": "code",
   "execution_count": 17,
   "id": "0001b66b",
   "metadata": {},
   "outputs": [
    {
     "data": {
      "text/plain": [
       "0.7609456727705608"
      ]
     },
     "execution_count": 17,
     "metadata": {},
     "output_type": "execute_result"
    }
   ],
   "source": [
    "model['cat']@model['dog']/(((model['cat']@model['cat'])**0.5)*((model['dog']@model['dog'])**0.5))"
   ]
  },
  {
   "cell_type": "code",
   "execution_count": 18,
   "id": "f868dd11",
   "metadata": {},
   "outputs": [
    {
     "data": {
      "text/plain": [
       "[('king', 0.8449392318725586),\n",
       " ('queen', 0.7300518155097961),\n",
       " ('monarch', 0.645466148853302),\n",
       " ('princess', 0.6156251430511475),\n",
       " ('crown_prince', 0.5818676948547363)]"
      ]
     },
     "execution_count": 18,
     "metadata": {},
     "output_type": "execute_result"
    }
   ],
   "source": [
    "word1 = 'king'\n",
    "word2 = 'man'\n",
    "word3 = 'woman'\n",
    "wv1 = model[word1]\n",
    "wv2 = model[word2]\n",
    "wv3 = model[word3]\n",
    "resultant = wv1 - wv2 + wv3\n",
    "similar_words = model.similar_by_vector(resultant, topn=5)\n",
    "similar_words"
   ]
  },
  {
   "cell_type": "code",
   "execution_count": 19,
   "id": "782c403a",
   "metadata": {},
   "outputs": [
    {
     "data": {
      "text/plain": [
       "[('tiger', 0.8992404937744141),\n",
       " ('tigers', 0.7130635976791382),\n",
       " ('elephant', 0.6425685882568359),\n",
       " ('tigress', 0.6230633854866028),\n",
       " ('elephants', 0.6157457232475281)]"
      ]
     },
     "execution_count": 19,
     "metadata": {},
     "output_type": "execute_result"
    }
   ],
   "source": [
    "word1 = 'tiger'\n",
    "word2 = 'man'\n",
    "word3 = 'woman'\n",
    "wv1 = model[word1]\n",
    "wv2 = model[word2]\n",
    "wv3 = model[word3]\n",
    "resultant = wv1 - wv2 + wv3\n",
    "similar_words = model.similar_by_vector(resultant, topn=5)\n",
    "similar_words"
   ]
  },
  {
   "cell_type": "code",
   "execution_count": 20,
   "id": "88d33285",
   "metadata": {},
   "outputs": [
    {
     "data": {
      "text/plain": [
       "[('politics', 0.8209196329116821),\n",
       " ('person', 0.6758646965026855),\n",
       " ('politician', 0.6410143375396729),\n",
       " ('partisan_politics', 0.577743411064148),\n",
       " ('political', 0.5589037537574768)]"
      ]
     },
     "execution_count": 20,
     "metadata": {},
     "output_type": "execute_result"
    }
   ],
   "source": [
    "word1 = 'politics'\n",
    "word2 = 'person'\n",
    "wv1 = model[word1]\n",
    "wv2 = model[word2]\n",
    "resultant = wv1 + wv2\n",
    "similar_words = model.similar_by_vector(resultant, topn=5)\n",
    "similar_words"
   ]
  },
  {
   "cell_type": "code",
   "execution_count": null,
   "id": "1d58b796",
   "metadata": {},
   "outputs": [],
   "source": []
  }
 ],
 "metadata": {
  "kernelspec": {
   "display_name": "Python 3",
   "language": "python",
   "name": "python3"
  },
  "language_info": {
   "codemirror_mode": {
    "name": "ipython",
    "version": 3
   },
   "file_extension": ".py",
   "mimetype": "text/x-python",
   "name": "python",
   "nbconvert_exporter": "python",
   "pygments_lexer": "ipython3",
   "version": "3.8.8"
  }
 },
 "nbformat": 4,
 "nbformat_minor": 5
}
