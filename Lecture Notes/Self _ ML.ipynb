{
 "cells": [
  {
   "cell_type": "code",
   "execution_count": 6,
   "id": "2ccb9043",
   "metadata": {},
   "outputs": [
    {
     "name": "stdout",
     "output_type": "stream",
     "text": [
      "[[2 0 1]\n",
      " [1 2 1]\n",
      " [0 1 1]]\n"
     ]
    }
   ],
   "source": [
    "from sklearn import metrics\n",
    "actual = ['c','h','f','c','h','f','c','h','h'] # depicts cricket , hockey , football players\n",
    "predict =['c','h','h','c','f','f','f','c','h'] # model prediction\n",
    "print(metrics.confusion_matrix(actual, predict, labels=['c','h','f']))"
   ]
  },
  {
   "cell_type": "code",
   "execution_count": 7,
   "id": "7265e4fb",
   "metadata": {},
   "outputs": [
    {
     "name": "stdout",
     "output_type": "stream",
     "text": [
      "              precision    recall  f1-score   support\n",
      "\n",
      "           c       0.67      0.67      0.67         3\n",
      "           h       0.67      0.50      0.57         4\n",
      "           f       0.33      0.50      0.40         2\n",
      "\n",
      "    accuracy                           0.56         9\n",
      "   macro avg       0.56      0.56      0.55         9\n",
      "weighted avg       0.59      0.56      0.57         9\n",
      "\n"
     ]
    }
   ],
   "source": [
    "print(metrics.classification_report(actual,predict,labels=['c','h','f']))"
   ]
  },
  {
   "cell_type": "code",
   "execution_count": 13,
   "id": "df579d15",
   "metadata": {},
   "outputs": [
    {
     "data": {
      "text/plain": [
       "array([0, 1])"
      ]
     },
     "execution_count": 13,
     "metadata": {},
     "output_type": "execute_result"
    }
   ],
   "source": [
    "from sklearn.ensemble import RandomForestClassifier\n",
    "clf = RandomForestClassifier(random_state=0)\n",
    "X= [[1,2,3], [11,12,13]] # 2 samples , 3 features\n",
    "Y = [0,1] # classes of each sample\n",
    "clf.fit(X,Y)\n",
    "\n",
    "clf.predict([[4,5,6], [11,11,13]])"
   ]
  }
 ],
 "metadata": {
  "kernelspec": {
   "display_name": "Python 3 (ipykernel)",
   "language": "python",
   "name": "python3"
  },
  "language_info": {
   "codemirror_mode": {
    "name": "ipython",
    "version": 3
   },
   "file_extension": ".py",
   "mimetype": "text/x-python",
   "name": "python",
   "nbconvert_exporter": "python",
   "pygments_lexer": "ipython3",
   "version": "3.11.5"
  }
 },
 "nbformat": 4,
 "nbformat_minor": 5
}
