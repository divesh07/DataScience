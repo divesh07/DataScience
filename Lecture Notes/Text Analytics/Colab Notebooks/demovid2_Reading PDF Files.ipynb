{
 "cells": [
  {
   "cell_type": "markdown",
   "metadata": {
    "id": "Hf3sW8xww6S8"
   },
   "source": [
    "# Reading PDF files in Python\n",
    "* Reading text data from PDF files\n",
    "* Extract page-wise text content in a PDF file\n",
    "* Create corpus using text data from multiple PDF files "
   ]
  },
  {
   "cell_type": "code",
   "execution_count": 1,
   "metadata": {
    "id": "YKHNApB0xOhq"
   },
   "outputs": [],
   "source": [
    "#!pip3 install -U -q PyDrive\n",
    "\n",
    "#from PyDrive.auth import GoogleAuth\n",
    "#from PyDrive.drive import GoogleDrive\n",
    "#from google.colab import auth\n",
    "#from oauth2client.client import GoogleCredentials\n",
    "\n",
    "#!pip3 install google\n",
    "#!pip3 install google-api-core\n",
    "#import google.auth\n",
    "#import pandas as pd"
   ]
  },
  {
   "cell_type": "code",
   "execution_count": 2,
   "metadata": {
    "id": "MCgqob0Gxcy1"
   },
   "outputs": [],
   "source": [
    "#auth.authenticate_user()\n",
    "#gauth = GoogleAuth()\n",
    "#gauth.credentials = GoogleCredentials.get_application_default()\n",
    "#drive = GoogleDrive(gauth)"
   ]
  },
  {
   "cell_type": "code",
   "execution_count": 3,
   "metadata": {
    "id": "utf7emiHxfau"
   },
   "outputs": [],
   "source": [
    "#downloaded = drive.CreateFile({'id':'1FjJzaLd-qxFTv61J1oZNLpTtL5oYH7xI'}) # replace the id with id of file you want to access\n",
    "#downloaded.GetContentFile('CommunicationAffectAndLearning.pdf') "
   ]
  },
  {
   "cell_type": "code",
   "execution_count": 4,
   "metadata": {
    "colab": {
     "base_uri": "https://localhost:8080/"
    },
    "executionInfo": {
     "elapsed": 8217,
     "status": "ok",
     "timestamp": 1611082423999,
     "user": {
      "displayName": "Varun Rana",
      "photoUrl": "",
      "userId": "00188788562004174296"
     },
     "user_tz": -330
    },
    "id": "PddIeSK9yMhA",
    "outputId": "630cc28e-095b-4bf4-db32-945700be2b34"
   },
   "outputs": [
    {
     "name": "stdout",
     "output_type": "stream",
     "text": [
      "Collecting PyPDF2\n",
      "  Obtaining dependency information for PyPDF2 from https://files.pythonhosted.org/packages/8e/5e/c86a5643653825d3c913719e788e41386bee415c2b87b4f955432f2de6b2/pypdf2-3.0.1-py3-none-any.whl.metadata\n",
      "  Downloading pypdf2-3.0.1-py3-none-any.whl.metadata (6.8 kB)\n",
      "Downloading pypdf2-3.0.1-py3-none-any.whl (232 kB)\n",
      "\u001b[2K   \u001b[90m━━━━━━━━━━━━━━━━━━━━━━━━━━━━━━━━━━━━━━━━\u001b[0m \u001b[32m232.6/232.6 kB\u001b[0m \u001b[31m3.7 MB/s\u001b[0m eta \u001b[36m0:00:00\u001b[0ma \u001b[36m0:00:01\u001b[0m\n",
      "\u001b[?25hInstalling collected packages: PyPDF2\n",
      "Successfully installed PyPDF2-3.0.1\n"
     ]
    }
   ],
   "source": [
    "!pip3 install PyPDF2\n",
    "#!pip3 install pdfmerge\n"
   ]
  },
  {
   "cell_type": "code",
   "execution_count": 6,
   "metadata": {},
   "outputs": [
    {
     "name": "stdout",
     "output_type": "stream",
     "text": [
      "/Users/divesh.gandhi/anaconda3/bin/python\n",
      "Name: PyPDF2\n",
      "Version: 3.0.1\n",
      "Summary: A pure-python PDF library capable of splitting, merging, cropping, and transforming PDF files\n",
      "Home-page: \n",
      "Author: \n",
      "Author-email: Mathieu Fenniak <biziqe@mathieu.fenniak.net>\n",
      "License: \n",
      "Location: /Users/divesh.gandhi/anaconda3/lib/python3.11/site-packages\n",
      "Requires: \n",
      "Required-by: \n"
     ]
    }
   ],
   "source": [
    "import sys\n",
    "print(sys.executable)\n",
    "\n",
    "!pip3 show PyPDF2"
   ]
  },
  {
   "cell_type": "code",
   "execution_count": 40,
   "metadata": {
    "colab": {
     "base_uri": "https://localhost:8080/"
    },
    "executionInfo": {
     "elapsed": 8206,
     "status": "ok",
     "timestamp": 1611082424001,
     "user": {
      "displayName": "Varun Rana",
      "photoUrl": "",
      "userId": "00188788562004174296"
     },
     "user_tz": -330
    },
    "id": "PeabgHRNx_Wb",
    "outputId": "aaabad18-9b10-4ed6-a106-5bee35debb57"
   },
   "outputs": [
    {
     "name": "stdout",
     "output_type": "stream",
     "text": [
      "Owner\n",
      "Microsoft Word - Communication Affect and Learning.doc\n",
      "{'/CreationDate': \"D:20090318181611-04'00'\", '/Author': 'Owner', '/Creator': 'PScript5.dll Version 5.2.2', '/Producer': 'Acrobat Distiller 8.1.0 (Windows)', '/ModDate': \"D:20090318181931-04'00'\", '/Title': 'Microsoft Word - Communication Affect and Learning.doc'}\n"
     ]
    }
   ],
   "source": [
    "sys.path.append('/Users/divesh.gandhi/anaconda3/lib/python3.11/site-packages')\n",
    "import PyPDF2\n",
    "\n",
    "#from PyPDF2 import PdfFileReader\n",
    "#path = 'CommunicationAffectAndLearning.pdf'\n",
    "#pdf = PyPDF2.PdfFileReader(open(path, 'rb')) # Invoking a pdf file reader; using open to read the file in binary using 'rb'    \n",
    "\n",
    "from PyPDF2 import PdfReader\n",
    "\n",
    "reader = PdfReader(\"CommunicationAffectAndLearning.pdf\")\n",
    "data = reader.metadata\n",
    "len(reader.pages)\n",
    "print(data.author)\n",
    "print(data.title)\n",
    "print(data)\n",
    "\n",
    "#reader.documentInfo\n",
    "#page = reader.pages[]\n",
    "#print(page.extract_text())"
   ]
  },
  {
   "cell_type": "code",
   "execution_count": 24,
   "metadata": {
    "colab": {
     "base_uri": "https://localhost:8080/"
    },
    "executionInfo": {
     "elapsed": 8194,
     "status": "ok",
     "timestamp": 1611082424002,
     "user": {
      "displayName": "Varun Rana",
      "photoUrl": "",
      "userId": "00188788562004174296"
     },
     "user_tz": -330
    },
    "id": "a15WJDu7yJ3n",
    "outputId": "568faf09-1f07-47be-dd8f-89797a36f6de"
   },
   "outputs": [],
   "source": [
    "# using an attribute numPages to know number of pages in pdf\n",
    "#pdf.numPages"
   ]
  },
  {
   "cell_type": "code",
   "execution_count": null,
   "metadata": {
    "colab": {
     "base_uri": "https://localhost:8080/"
    },
    "executionInfo": {
     "elapsed": 8179,
     "status": "ok",
     "timestamp": 1611082424003,
     "user": {
      "displayName": "Varun Rana",
      "photoUrl": "",
      "userId": "00188788562004174296"
     },
     "user_tz": -330
    },
    "id": "jkB9AWDEyuHR",
    "outputId": "3bb80f57-8cc3-453b-db18-0e0e234919e7"
   },
   "outputs": [],
   "source": [
    "# Using a method to get the info of the doc\n",
    "info = pdf.getDocumentInfo()\n",
    "print(info.author)\n",
    "print(info.title)"
   ]
  },
  {
   "cell_type": "markdown",
   "metadata": {
    "id": "X93DOy-B4U-O"
   },
   "source": [
    "### Extract the text and read"
   ]
  },
  {
   "cell_type": "code",
   "execution_count": null,
   "metadata": {
    "colab": {
     "base_uri": "https://localhost:8080/"
    },
    "executionInfo": {
     "elapsed": 8167,
     "status": "ok",
     "timestamp": 1611082424004,
     "user": {
      "displayName": "Varun Rana",
      "photoUrl": "",
      "userId": "00188788562004174296"
     },
     "user_tz": -330
    },
    "id": "Tnbxi0Jy0vto",
    "outputId": "0db61cb9-c9b9-40d3-cebe-095325bd1f2e"
   },
   "outputs": [],
   "source": [
    "page = pdf.getPage(2) # Read one page at a time; here '2' is page no\n",
    "text = page.extractText().encode('utf-8') # extracting and encoding\n",
    "text"
   ]
  },
  {
   "cell_type": "code",
   "execution_count": null,
   "metadata": {
    "colab": {
     "base_uri": "https://localhost:8080/"
    },
    "executionInfo": {
     "elapsed": 8156,
     "status": "ok",
     "timestamp": 1611082424006,
     "user": {
      "displayName": "Varun Rana",
      "photoUrl": "",
      "userId": "00188788562004174296"
     },
     "user_tz": -330
    },
    "id": "3p2EwE1S4Syg",
    "outputId": "bfe153fa-cf14-4860-da69-bce995ffd482"
   },
   "outputs": [],
   "source": [
    "# page.extractText().encode('utf-8') return a byte object\n",
    "type(text)"
   ]
  },
  {
   "cell_type": "markdown",
   "metadata": {
    "id": "6Rsf-8HK6BKY"
   },
   "source": [
    "### Convert the byte object to string type"
   ]
  },
  {
   "cell_type": "code",
   "execution_count": null,
   "metadata": {
    "colab": {
     "base_uri": "https://localhost:8080/",
     "height": 119
    },
    "executionInfo": {
     "elapsed": 8143,
     "status": "ok",
     "timestamp": 1611082424007,
     "user": {
      "displayName": "Varun Rana",
      "photoUrl": "",
      "userId": "00188788562004174296"
     },
     "user_tz": -330
    },
    "id": "QDkyiGqr5Q59",
    "outputId": "93953ec9-ceca-4cc0-9e87-ec50141b3cfc"
   },
   "outputs": [],
   "source": [
    "page = pdf.getPage(2)\n",
    "text = page.extractText().encode('utf-8').decode('utf-8')\n",
    "text"
   ]
  },
  {
   "cell_type": "code",
   "execution_count": null,
   "metadata": {
    "colab": {
     "base_uri": "https://localhost:8080/"
    },
    "executionInfo": {
     "elapsed": 8130,
     "status": "ok",
     "timestamp": 1611082424008,
     "user": {
      "displayName": "Varun Rana",
      "photoUrl": "",
      "userId": "00188788562004174296"
     },
     "user_tz": -330
    },
    "id": "C7QMm40p8rYo",
    "outputId": "9bff574a-168d-4e35-9028-5d52c5d6ac9d"
   },
   "outputs": [],
   "source": [
    "type(text)"
   ]
  },
  {
   "cell_type": "markdown",
   "metadata": {
    "id": "0Xk8h5TV9tPt"
   },
   "source": [
    "# Read whole pdf at once "
   ]
  },
  {
   "cell_type": "code",
   "execution_count": null,
   "metadata": {
    "id": "1kbWg5XG8tVq"
   },
   "outputs": [],
   "source": [
    "read_pages = lambda pdf, pg_num : pdf.getPage(pg_num).extractText().encode('utf-8').decode('utf-8') \n",
    "# lambda fn taking two parameters(pdf is filehandler, pg_num is page no which we want to read) \n",
    "# lambda fn uses filehandler(pdf) to take page no and extract text out of it after converting it into a string format\n",
    "pages = [read_pages(pdf, x) for x in range(pdf.numPages)]"
   ]
  },
  {
   "cell_type": "code",
   "execution_count": null,
   "metadata": {
    "colab": {
     "base_uri": "https://localhost:8080/"
    },
    "executionInfo": {
     "elapsed": 11997,
     "status": "ok",
     "timestamp": 1611082427897,
     "user": {
      "displayName": "Varun Rana",
      "photoUrl": "",
      "userId": "00188788562004174296"
     },
     "user_tz": -330
    },
    "id": "o0zqMLFq_vwB",
    "outputId": "213d1d0f-a524-4d76-d158-80ecba1ba432"
   },
   "outputs": [],
   "source": [
    "len(pages)"
   ]
  },
  {
   "cell_type": "code",
   "execution_count": null,
   "metadata": {
    "colab": {
     "base_uri": "https://localhost:8080/",
     "height": 119
    },
    "executionInfo": {
     "elapsed": 11985,
     "status": "ok",
     "timestamp": 1611082427899,
     "user": {
      "displayName": "Varun Rana",
      "photoUrl": "",
      "userId": "00188788562004174296"
     },
     "user_tz": -330
    },
    "id": "Kt4rrQMtAgwB",
    "outputId": "b6aba578-8d16-4d3c-935c-07e472df04c0"
   },
   "outputs": [],
   "source": [
    "pages[2]"
   ]
  },
  {
   "cell_type": "code",
   "execution_count": null,
   "metadata": {
    "colab": {
     "base_uri": "https://localhost:8080/",
     "height": 120
    },
    "executionInfo": {
     "elapsed": 11972,
     "status": "ok",
     "timestamp": 1611082427900,
     "user": {
      "displayName": "Varun Rana",
      "photoUrl": "",
      "userId": "00188788562004174296"
     },
     "user_tz": -330
    },
    "id": "TyilEFhxAnJW",
    "outputId": "5ae9ae50-d505-4d60-bf92-aa4a20f7a178"
   },
   "outputs": [],
   "source": [
    "pages[3]"
   ]
  },
  {
   "cell_type": "code",
   "execution_count": null,
   "metadata": {
    "colab": {
     "base_uri": "https://localhost:8080/",
     "height": 120
    },
    "executionInfo": {
     "elapsed": 11958,
     "status": "ok",
     "timestamp": 1611082427901,
     "user": {
      "displayName": "Varun Rana",
      "photoUrl": "",
      "userId": "00188788562004174296"
     },
     "user_tz": -330
    },
    "id": "hXYSIPhXAvdD",
    "outputId": "6765fb66-b3e3-4feb-ae97-ce1aff098859"
   },
   "outputs": [],
   "source": [
    "pages[15]"
   ]
  },
  {
   "cell_type": "markdown",
   "metadata": {
    "id": "ssQTox56CkKp"
   },
   "source": [
    "# Join multiples pages\n",
    "* sometimes we need to use multiple pdf so that each pdf content is available in a single string to form one document and another string coming from another pdf to form 2nd document."
   ]
  },
  {
   "cell_type": "code",
   "execution_count": null,
   "metadata": {
    "colab": {
     "base_uri": "https://localhost:8080/"
    },
    "executionInfo": {
     "elapsed": 11945,
     "status": "ok",
     "timestamp": 1611082427902,
     "user": {
      "displayName": "Varun Rana",
      "photoUrl": "",
      "userId": "00188788562004174296"
     },
     "user_tz": -330
    },
    "id": "esI1ui1oAzML",
    "outputId": "1ed6d213-8f0a-4d70-fbc6-11df3ad3b295"
   },
   "outputs": [],
   "source": [
    "doc = ' '.join(pages) # Combining all the pages together using join fn by providing it a space; Every page will have and additional space b/w them.   \n",
    "len(doc)"
   ]
  },
  {
   "cell_type": "markdown",
   "metadata": {
    "id": "EcYwgvS9DS--"
   },
   "source": [
    "# Read all PDFs and create corpus"
   ]
  },
  {
   "cell_type": "code",
   "execution_count": null,
   "metadata": {
    "id": "_ei9AqCGFK0b"
   },
   "outputs": [],
   "source": [
    "!pip install -U -q PyDrive\n",
    "from pydrive.auth import GoogleAuth\n",
    "from pydrive.drive import GoogleDrive\n",
    "from google.colab import auth\n",
    "from oauth2client.client import GoogleCredentials"
   ]
  },
  {
   "cell_type": "code",
   "execution_count": null,
   "metadata": {
    "id": "Rdme7cwpFLBB"
   },
   "outputs": [],
   "source": [
    "auth.authenticate_user()\n",
    "gauth = GoogleAuth()\n",
    "gauth.credentials = GoogleCredentials.get_application_default()\n",
    "drive = GoogleDrive(gauth)"
   ]
  },
  {
   "cell_type": "code",
   "execution_count": null,
   "metadata": {
    "id": "967VXCC0E1Yp"
   },
   "outputs": [],
   "source": [
    " # replace the id with id of file you want to access\n",
    "downloaded = drive.CreateFile({'id':'12E3xUHTnEgkX3z-PrX4bGzDHiJshydv4'})\n",
    "downloaded.GetContentFile('How to Measure Anything.pdf') "
   ]
  },
  {
   "cell_type": "code",
   "execution_count": null,
   "metadata": {
    "id": "Fvpw0T4Z_IcO"
   },
   "outputs": [],
   "source": [
    "!pip install -U -q PyDrive\n",
    "from pydrive.auth import GoogleAuth\n",
    "from pydrive.drive import GoogleDrive\n",
    "from google.colab import auth\n",
    "from oauth2client.client import GoogleCredentials"
   ]
  },
  {
   "cell_type": "code",
   "execution_count": null,
   "metadata": {
    "id": "szza8YIR_ImB"
   },
   "outputs": [],
   "source": [
    "auth.authenticate_user()\n",
    "gauth = GoogleAuth()\n",
    "gauth.credentials = GoogleCredentials.get_application_default()\n",
    "drive = GoogleDrive(gauth)"
   ]
  },
  {
   "cell_type": "code",
   "execution_count": null,
   "metadata": {
    "id": "NAOAvzKy_OTz"
   },
   "outputs": [],
   "source": [
    "downloaded = drive.CreateFile({'id':'1xmcwhXmHHT5S9cMo_iYjltY1UUFx5JpM'})\n",
    "downloaded.GetContentFile('everythingfinance.pdf') "
   ]
  },
  {
   "cell_type": "code",
   "execution_count": null,
   "metadata": {
    "colab": {
     "base_uri": "https://localhost:8080/"
    },
    "executionInfo": {
     "elapsed": 21273,
     "status": "ok",
     "timestamp": 1611082437291,
     "user": {
      "displayName": "Varun Rana",
      "photoUrl": "",
      "userId": "00188788562004174296"
     },
     "user_tz": -330
    },
    "id": "eGXScpu-CUrc",
    "outputId": "acad28fe-d0d3-4564-c42f-bf4266ac29f0"
   },
   "outputs": [],
   "source": [
    "import glob # used for getting all the pdfs filenames from drive \n",
    "path_search = '*.pdf'\n",
    "path_pdf_files = glob.glob(path_search)\n",
    "path_pdf_files"
   ]
  },
  {
   "cell_type": "markdown",
   "metadata": {
    "id": "L_DRFNYG2KxC"
   },
   "source": [
    "# Create a corpus"
   ]
  },
  {
   "cell_type": "code",
   "execution_count": null,
   "metadata": {
    "colab": {
     "base_uri": "https://localhost:8080/"
    },
    "executionInfo": {
     "elapsed": 27142,
     "status": "ok",
     "timestamp": 1611082443171,
     "user": {
      "displayName": "Varun Rana",
      "photoUrl": "",
      "userId": "00188788562004174296"
     },
     "user_tz": -330
    },
    "id": "yp-ZPFFP1bSJ",
    "outputId": "d937c4c5-4b59-46eb-fbe7-b095d16631bf"
   },
   "outputs": [],
   "source": [
    "docs = [] # creating a list to make a corpus, the list will contain 3 strings; Each string will contain one pdf\n",
    "\n",
    "read_pages1 = lambda pdf, pg_num : pdf.getPage(pg_num).extractText().encode('utf-8').decode('utf-8') \n",
    "# lambda fn taking two parameters(pdf is filehandler, pg_num is page no which we want to read) \n",
    "# lambda fn uses filehandler(pdf) to take page no and extract text out of it after converting it into a string format\n",
    "for x in path_pdf_files:\n",
    "  pdf = PyPDF2.PdfFileReader(open(x, 'rb'))\n",
    "  pages = [read_pages1(pdf, i) for i in range(pdf.numPages)]\n",
    "  doc = '\\n'.join(pages)\n",
    "  docs.append(doc)\n"
   ]
  },
  {
   "cell_type": "code",
   "execution_count": null,
   "metadata": {
    "colab": {
     "base_uri": "https://localhost:8080/",
     "height": 120
    },
    "executionInfo": {
     "elapsed": 1347,
     "status": "ok",
     "timestamp": 1611082455392,
     "user": {
      "displayName": "Varun Rana",
      "photoUrl": "",
      "userId": "00188788562004174296"
     },
     "user_tz": -330
    },
    "id": "ex7kWv-62CVK",
    "outputId": "07750fae-df1e-4f8a-e07f-2b2b465d6cac"
   },
   "outputs": [],
   "source": [
    "docs[0]"
   ]
  },
  {
   "cell_type": "code",
   "execution_count": null,
   "metadata": {
    "id": "Lg0LzaRE6aCb"
   },
   "outputs": [],
   "source": [
    "      "
   ]
  },
  {
   "cell_type": "code",
   "execution_count": null,
   "metadata": {
    "id": "zkz0oJg97Oi-"
   },
   "outputs": [],
   "source": []
  }
 ],
 "metadata": {
  "colab": {
   "authorship_tag": "ABX9TyPs7fugcsweIKeoVE4pgfLD",
   "collapsed_sections": [],
   "name": "demovid2_Reading PDF Files.ipynb",
   "provenance": []
  },
  "kernelspec": {
   "display_name": "Python 3 (ipykernel)",
   "language": "python",
   "name": "python3"
  },
  "language_info": {
   "codemirror_mode": {
    "name": "ipython",
    "version": 3
   },
   "file_extension": ".py",
   "mimetype": "text/x-python",
   "name": "python",
   "nbconvert_exporter": "python",
   "pygments_lexer": "ipython3",
   "version": "3.11.5"
  }
 },
 "nbformat": 4,
 "nbformat_minor": 1
}
