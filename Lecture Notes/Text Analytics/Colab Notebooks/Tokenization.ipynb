{
  "nbformat": 4,
  "nbformat_minor": 0,
  "metadata": {
    "colab": {
      "name": "Tokenization.ipynb",
      "provenance": [],
      "collapsed_sections": []
    },
    "kernelspec": {
      "name": "python3",
      "display_name": "Python 3"
    }
  },
  "cells": [
    {
      "cell_type": "markdown",
      "metadata": {
        "id": "URGdCtQ6blVK",
        "colab_type": "text"
      },
      "source": [
        "# Tokenization"
      ]
    },
    {
      "cell_type": "code",
      "metadata": {
        "id": "XfvVyxxeDpR6",
        "colab_type": "code",
        "colab": {}
      },
      "source": [
        "import re\n",
        "import nltk\n",
        "import pandas as pd"
      ],
      "execution_count": 1,
      "outputs": []
    },
    {
      "cell_type": "code",
      "metadata": {
        "id": "yJXxBliPDuD-",
        "colab_type": "code",
        "colab": {
          "base_uri": "https://localhost:8080/",
          "height": 68
        },
        "outputId": "fb7ccb96-497e-4c27-d91a-ddbde36dae0e"
      },
      "source": [
        "nltk.download('punkt')"
      ],
      "execution_count": 2,
      "outputs": [
        {
          "output_type": "stream",
          "text": [
            "[nltk_data] Downloading package punkt to /root/nltk_data...\n",
            "[nltk_data]   Unzipping tokenizers/punkt.zip.\n"
          ],
          "name": "stdout"
        },
        {
          "output_type": "execute_result",
          "data": {
            "text/plain": [
              "True"
            ]
          },
          "metadata": {
            "tags": []
          },
          "execution_count": 2
        }
      ]
    },
    {
      "cell_type": "code",
      "metadata": {
        "id": "W53eJsBMDxsC",
        "colab_type": "code",
        "colab": {}
      },
      "source": [
        "doc = 'I visited my grandparents last week; We had a good time together'"
      ],
      "execution_count": 4,
      "outputs": []
    },
    {
      "cell_type": "code",
      "metadata": {
        "id": "RmyWea-TD3x-",
        "colab_type": "code",
        "colab": {
          "base_uri": "https://localhost:8080/",
          "height": 223
        },
        "outputId": "e451a64e-5597-4743-c28c-9cf9f24eedc7"
      },
      "source": [
        "tokens = doc.lower().split(' ')\n",
        "tokens"
      ],
      "execution_count": 5,
      "outputs": [
        {
          "output_type": "execute_result",
          "data": {
            "text/plain": [
              "['i',\n",
              " 'visited',\n",
              " 'my',\n",
              " 'grandparents',\n",
              " 'last',\n",
              " 'week;',\n",
              " 'we',\n",
              " 'had',\n",
              " 'a',\n",
              " 'good',\n",
              " 'time',\n",
              " 'together']"
            ]
          },
          "metadata": {
            "tags": []
          },
          "execution_count": 5
        }
      ]
    },
    {
      "cell_type": "code",
      "metadata": {
        "id": "T8JMP3UTEORK",
        "colab_type": "code",
        "colab": {
          "base_uri": "https://localhost:8080/",
          "height": 35
        },
        "outputId": "8d18f284-ae42-4723-ec56-c46d7658ac64"
      },
      "source": [
        "doc_cleaned = re.sub('[^\\w+\\s]', '', doc.lower())\n",
        "doc_cleaned"
      ],
      "execution_count": 6,
      "outputs": [
        {
          "output_type": "execute_result",
          "data": {
            "application/vnd.google.colaboratory.intrinsic": {
              "type": "string"
            },
            "text/plain": [
              "'i visited my grandparents last week we had a good time together'"
            ]
          },
          "metadata": {
            "tags": []
          },
          "execution_count": 6
        }
      ]
    },
    {
      "cell_type": "code",
      "metadata": {
        "id": "tpG6-7dhE1Er",
        "colab_type": "code",
        "colab": {
          "base_uri": "https://localhost:8080/",
          "height": 223
        },
        "outputId": "de174163-27a2-4c53-dc72-497d99abe7fb"
      },
      "source": [
        "doc_cleaned = re.sub('[^\\w+\\s]', '', doc.lower())\n",
        "tokens = doc_cleaned.split(' ')\n",
        "tokens"
      ],
      "execution_count": 7,
      "outputs": [
        {
          "output_type": "execute_result",
          "data": {
            "text/plain": [
              "['i',\n",
              " 'visited',\n",
              " 'my',\n",
              " 'grandparents',\n",
              " 'last',\n",
              " 'week',\n",
              " 'we',\n",
              " 'had',\n",
              " 'a',\n",
              " 'good',\n",
              " 'time',\n",
              " 'together']"
            ]
          },
          "metadata": {
            "tags": []
          },
          "execution_count": 7
        }
      ]
    },
    {
      "cell_type": "code",
      "metadata": {
        "id": "4yoyJGz4E9fd",
        "colab_type": "code",
        "colab": {
          "base_uri": "https://localhost:8080/",
          "height": 240
        },
        "outputId": "2d7c56df-637a-442b-9fa4-57022ef3497f"
      },
      "source": [
        "from nltk.tokenize import word_tokenize\n",
        "tokens = word_tokenize(doc.lower())\n",
        "tokens"
      ],
      "execution_count": 8,
      "outputs": [
        {
          "output_type": "execute_result",
          "data": {
            "text/plain": [
              "['i',\n",
              " 'visited',\n",
              " 'my',\n",
              " 'grandparents',\n",
              " 'last',\n",
              " 'week',\n",
              " ';',\n",
              " 'we',\n",
              " 'had',\n",
              " 'a',\n",
              " 'good',\n",
              " 'time',\n",
              " 'together']"
            ]
          },
          "metadata": {
            "tags": []
          },
          "execution_count": 8
        }
      ]
    },
    {
      "cell_type": "code",
      "metadata": {
        "id": "09gopiTmFYhX",
        "colab_type": "code",
        "colab": {
          "base_uri": "https://localhost:8080/",
          "height": 223
        },
        "outputId": "d544f476-faac-423e-c7e4-7ceae36dd188"
      },
      "source": [
        "from nltk.tokenize import RegexpTokenizer\n",
        "tokenizer = RegexpTokenizer(r'\\w+')\n",
        "tokens = tokenizer.tokenize(doc.lower())\n",
        "tokens"
      ],
      "execution_count": 9,
      "outputs": [
        {
          "output_type": "execute_result",
          "data": {
            "text/plain": [
              "['i',\n",
              " 'visited',\n",
              " 'my',\n",
              " 'grandparents',\n",
              " 'last',\n",
              " 'week',\n",
              " 'we',\n",
              " 'had',\n",
              " 'a',\n",
              " 'good',\n",
              " 'time',\n",
              " 'together']"
            ]
          },
          "metadata": {
            "tags": []
          },
          "execution_count": 9
        }
      ]
    },
    {
      "cell_type": "code",
      "metadata": {
        "id": "w6bvZnJXIIni",
        "colab_type": "code",
        "colab": {}
      },
      "source": [
        "doc = '@john This product is really cool!!!😀😃😄😁😆😅 #awesome'"
      ],
      "execution_count": 10,
      "outputs": []
    },
    {
      "cell_type": "code",
      "metadata": {
        "id": "BvZF7qbfIMdR",
        "colab_type": "code",
        "colab": {
          "base_uri": "https://localhost:8080/",
          "height": 240
        },
        "outputId": "015de10b-c68c-4410-bd1a-bb338a658988"
      },
      "source": [
        "tokens = word_tokenize(doc)\n",
        "tokens"
      ],
      "execution_count": 11,
      "outputs": [
        {
          "output_type": "execute_result",
          "data": {
            "text/plain": [
              "['@',\n",
              " 'john',\n",
              " 'This',\n",
              " 'product',\n",
              " 'is',\n",
              " 'really',\n",
              " 'cool',\n",
              " '!',\n",
              " '!',\n",
              " '!',\n",
              " '😀😃😄😁😆😅',\n",
              " '#',\n",
              " 'awesome']"
            ]
          },
          "metadata": {
            "tags": []
          },
          "execution_count": 11
        }
      ]
    },
    {
      "cell_type": "code",
      "metadata": {
        "id": "leZcJ0L-JIDc",
        "colab_type": "code",
        "colab": {
          "base_uri": "https://localhost:8080/",
          "height": 291
        },
        "outputId": "4e1070db-76a0-4f12-c52b-369eea1739f1"
      },
      "source": [
        "from nltk.tokenize import TweetTokenizer\n",
        "tweet_tokenizer = TweetTokenizer()\n",
        "tokens = tweet_tokenizer.tokenize(doc)\n",
        "tokens"
      ],
      "execution_count": 12,
      "outputs": [
        {
          "output_type": "execute_result",
          "data": {
            "text/plain": [
              "['@john',\n",
              " 'This',\n",
              " 'product',\n",
              " 'is',\n",
              " 'really',\n",
              " 'cool',\n",
              " '!',\n",
              " '!',\n",
              " '!',\n",
              " '😀',\n",
              " '😃',\n",
              " '😄',\n",
              " '😁',\n",
              " '😆',\n",
              " '😅',\n",
              " '#awesome']"
            ]
          },
          "metadata": {
            "tags": []
          },
          "execution_count": 12
        }
      ]
    },
    {
      "cell_type": "code",
      "metadata": {
        "id": "2EMGIDEvH_du",
        "colab_type": "code",
        "colab": {
          "base_uri": "https://localhost:8080/",
          "height": 110
        },
        "outputId": "9bf31dbc-c447-4abc-ecbd-469f23aaa665"
      },
      "source": [
        "## Tokenizing tweets\n",
        "url = 'https://raw.githubusercontent.com/skathirmani/datasets/master/imdb_sentiment.csv'\n",
        "imdb = pd.read_csv(url)\n",
        "imdb.head(2)"
      ],
      "execution_count": 13,
      "outputs": [
        {
          "output_type": "execute_result",
          "data": {
            "text/html": [
              "<div>\n",
              "<style scoped>\n",
              "    .dataframe tbody tr th:only-of-type {\n",
              "        vertical-align: middle;\n",
              "    }\n",
              "\n",
              "    .dataframe tbody tr th {\n",
              "        vertical-align: top;\n",
              "    }\n",
              "\n",
              "    .dataframe thead th {\n",
              "        text-align: right;\n",
              "    }\n",
              "</style>\n",
              "<table border=\"1\" class=\"dataframe\">\n",
              "  <thead>\n",
              "    <tr style=\"text-align: right;\">\n",
              "      <th></th>\n",
              "      <th>review</th>\n",
              "      <th>sentiment</th>\n",
              "    </tr>\n",
              "  </thead>\n",
              "  <tbody>\n",
              "    <tr>\n",
              "      <th>0</th>\n",
              "      <td>A very, very, very slow-moving, aimless movie ...</td>\n",
              "      <td>0</td>\n",
              "    </tr>\n",
              "    <tr>\n",
              "      <th>1</th>\n",
              "      <td>Not sure who was more lost - the flat characte...</td>\n",
              "      <td>0</td>\n",
              "    </tr>\n",
              "  </tbody>\n",
              "</table>\n",
              "</div>"
            ],
            "text/plain": [
              "                                              review  sentiment\n",
              "0  A very, very, very slow-moving, aimless movie ...          0\n",
              "1  Not sure who was more lost - the flat characte...          0"
            ]
          },
          "metadata": {
            "tags": []
          },
          "execution_count": 13
        }
      ]
    },
    {
      "cell_type": "code",
      "metadata": {
        "id": "Ye0ujxIadwo7",
        "colab_type": "code",
        "colab": {
          "base_uri": "https://localhost:8080/",
          "height": 294
        },
        "outputId": "ce0dccd2-2b94-4ea5-e11e-4d6869d4372e"
      },
      "source": [
        "docs = imdb['review'].str.lower()\n",
        "tokenizer = RegexpTokenizer(r'\\w+')\n",
        "for doc in docs.head():\n",
        "  tokens = tokenizer.tokenize(doc)\n",
        "  print(doc)\n",
        "  print(tokens)\n",
        "  print('-------')\n"
      ],
      "execution_count": 15,
      "outputs": [
        {
          "output_type": "stream",
          "text": [
            "a very, very, very slow-moving, aimless movie about a distressed, drifting young man.  \n",
            "['a', 'very', 'very', 'very', 'slow', 'moving', 'aimless', 'movie', 'about', 'a', 'distressed', 'drifting', 'young', 'man']\n",
            "-------\n",
            "not sure who was more lost - the flat characters or the audience, nearly half of whom walked out.  \n",
            "['not', 'sure', 'who', 'was', 'more', 'lost', 'the', 'flat', 'characters', 'or', 'the', 'audience', 'nearly', 'half', 'of', 'whom', 'walked', 'out']\n",
            "-------\n",
            "attempting artiness with black & white and clever camera angles, the movie disappointed - became even more ridiculous - as the acting was poor and the plot and lines almost non-existent.  \n",
            "['attempting', 'artiness', 'with', 'black', 'white', 'and', 'clever', 'camera', 'angles', 'the', 'movie', 'disappointed', 'became', 'even', 'more', 'ridiculous', 'as', 'the', 'acting', 'was', 'poor', 'and', 'the', 'plot', 'and', 'lines', 'almost', 'non', 'existent']\n",
            "-------\n",
            "very little music or anything to speak of.  \n",
            "['very', 'little', 'music', 'or', 'anything', 'to', 'speak', 'of']\n",
            "-------\n",
            "the best scene in the movie was when gerardo is trying to find a song that keeps running through his head.  \n",
            "['the', 'best', 'scene', 'in', 'the', 'movie', 'was', 'when', 'gerardo', 'is', 'trying', 'to', 'find', 'a', 'song', 'that', 'keeps', 'running', 'through', 'his', 'head']\n",
            "-------\n"
          ],
          "name": "stdout"
        }
      ]
    },
    {
      "cell_type": "code",
      "metadata": {
        "id": "TtTRVZJKeVO1",
        "colab_type": "code",
        "colab": {
          "base_uri": "https://localhost:8080/",
          "height": 1000
        },
        "outputId": "d2302387-9f89-43d8-8a12-28f69216799a"
      },
      "source": [
        "docs = imdb['review'].str.lower()\n",
        "docs_cleaned = []\n",
        "tokenizer = RegexpTokenizer(r'\\w+')\n",
        "for doc in docs.head():\n",
        "  tokens = tokenizer.tokenize(doc)\n",
        "  docs_cleaned.append(tokens)\n",
        "docs_cleaned"
      ],
      "execution_count": 16,
      "outputs": [
        {
          "output_type": "execute_result",
          "data": {
            "text/plain": [
              "[['a',\n",
              "  'very',\n",
              "  'very',\n",
              "  'very',\n",
              "  'slow',\n",
              "  'moving',\n",
              "  'aimless',\n",
              "  'movie',\n",
              "  'about',\n",
              "  'a',\n",
              "  'distressed',\n",
              "  'drifting',\n",
              "  'young',\n",
              "  'man'],\n",
              " ['not',\n",
              "  'sure',\n",
              "  'who',\n",
              "  'was',\n",
              "  'more',\n",
              "  'lost',\n",
              "  'the',\n",
              "  'flat',\n",
              "  'characters',\n",
              "  'or',\n",
              "  'the',\n",
              "  'audience',\n",
              "  'nearly',\n",
              "  'half',\n",
              "  'of',\n",
              "  'whom',\n",
              "  'walked',\n",
              "  'out'],\n",
              " ['attempting',\n",
              "  'artiness',\n",
              "  'with',\n",
              "  'black',\n",
              "  'white',\n",
              "  'and',\n",
              "  'clever',\n",
              "  'camera',\n",
              "  'angles',\n",
              "  'the',\n",
              "  'movie',\n",
              "  'disappointed',\n",
              "  'became',\n",
              "  'even',\n",
              "  'more',\n",
              "  'ridiculous',\n",
              "  'as',\n",
              "  'the',\n",
              "  'acting',\n",
              "  'was',\n",
              "  'poor',\n",
              "  'and',\n",
              "  'the',\n",
              "  'plot',\n",
              "  'and',\n",
              "  'lines',\n",
              "  'almost',\n",
              "  'non',\n",
              "  'existent'],\n",
              " ['very', 'little', 'music', 'or', 'anything', 'to', 'speak', 'of'],\n",
              " ['the',\n",
              "  'best',\n",
              "  'scene',\n",
              "  'in',\n",
              "  'the',\n",
              "  'movie',\n",
              "  'was',\n",
              "  'when',\n",
              "  'gerardo',\n",
              "  'is',\n",
              "  'trying',\n",
              "  'to',\n",
              "  'find',\n",
              "  'a',\n",
              "  'song',\n",
              "  'that',\n",
              "  'keeps',\n",
              "  'running',\n",
              "  'through',\n",
              "  'his',\n",
              "  'head']]"
            ]
          },
          "metadata": {
            "tags": []
          },
          "execution_count": 16
        }
      ]
    },
    {
      "cell_type": "code",
      "metadata": {
        "id": "nIJrUYVkepj_",
        "colab_type": "code",
        "colab": {}
      },
      "source": [
        "doc = 'I visited my grandparents last week; We had a good time together'"
      ],
      "execution_count": 18,
      "outputs": []
    },
    {
      "cell_type": "code",
      "metadata": {
        "id": "gdFY3BgWGkpT",
        "colab_type": "code",
        "colab": {
          "base_uri": "https://localhost:8080/",
          "height": 240
        },
        "outputId": "c79293e0-b691-435e-8932-7335abc6b596"
      },
      "source": [
        "import spacy\n",
        "nlp = spacy.load(\"en_core_web_sm\")\n",
        "\n",
        "spacy_doc = nlp(doc.lower())\n",
        "for token in spacy_doc:\n",
        "  print(token)"
      ],
      "execution_count": 19,
      "outputs": [
        {
          "output_type": "stream",
          "text": [
            "i\n",
            "visited\n",
            "my\n",
            "grandparents\n",
            "last\n",
            "week\n",
            ";\n",
            "we\n",
            "had\n",
            "a\n",
            "good\n",
            "time\n",
            "together\n"
          ],
          "name": "stdout"
        }
      ]
    }
  ]
}