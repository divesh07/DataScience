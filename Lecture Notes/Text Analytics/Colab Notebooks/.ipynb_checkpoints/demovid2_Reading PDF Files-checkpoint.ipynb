{
 "cells": [
  {
   "cell_type": "markdown",
   "metadata": {
    "id": "Hf3sW8xww6S8"
   },
   "source": [
    "# Reading PDF files in Python\n",
    "* Reading text data from PDF files\n",
    "* Extract page-wise text content in a PDF file\n",
    "* Create corpus using text data from multiple PDF files "
   ]
  },
  {
   "cell_type": "code",
   "execution_count": 8,
   "metadata": {
    "id": "YKHNApB0xOhq"
   },
   "outputs": [
    {
     "name": "stdout",
     "output_type": "stream",
     "text": [
      "zsh:1: command not found: pip\r\n"
     ]
    },
    {
     "ename": "ModuleNotFoundError",
     "evalue": "No module named 'pydrive'",
     "output_type": "error",
     "traceback": [
      "\u001b[0;31m---------------------------------------------------------------------------\u001b[0m",
      "\u001b[0;31mModuleNotFoundError\u001b[0m                       Traceback (most recent call last)",
      "Cell \u001b[0;32mIn[8], line 3\u001b[0m\n\u001b[1;32m      1\u001b[0m \u001b[38;5;66;03m#!pip install -U -q pydrive\u001b[39;00m\n\u001b[1;32m      2\u001b[0m get_ipython()\u001b[38;5;241m.\u001b[39msystem(\u001b[38;5;124m'\u001b[39m\u001b[38;5;124mpip install pydrive --upgrade\u001b[39m\u001b[38;5;124m'\u001b[39m)\n\u001b[0;32m----> 3\u001b[0m \u001b[38;5;28;01mfrom\u001b[39;00m \u001b[38;5;21;01mpydrive\u001b[39;00m\u001b[38;5;21;01m.\u001b[39;00m\u001b[38;5;21;01mauth\u001b[39;00m \u001b[38;5;28;01mimport\u001b[39;00m GoogleAuth\n\u001b[1;32m      4\u001b[0m \u001b[38;5;28;01mfrom\u001b[39;00m \u001b[38;5;21;01mpydrive\u001b[39;00m\u001b[38;5;21;01m.\u001b[39;00m\u001b[38;5;21;01mdrive\u001b[39;00m \u001b[38;5;28;01mimport\u001b[39;00m GoogleDrive\n\u001b[1;32m      5\u001b[0m \u001b[38;5;28;01mfrom\u001b[39;00m \u001b[38;5;21;01mgoogle\u001b[39;00m\u001b[38;5;21;01m.\u001b[39;00m\u001b[38;5;21;01mcolab\u001b[39;00m \u001b[38;5;28;01mimport\u001b[39;00m auth\n",
      "\u001b[0;31mModuleNotFoundError\u001b[0m: No module named 'pydrive'"
     ]
    }
   ],
   "source": [
    "#!pip install -U -q pydrive\n",
    "!pip install pydrive --upgrade\n",
    "from pydrive.auth import GoogleAuth\n",
    "from pydrive.drive import GoogleDrive\n",
    "from google.colab import auth\n",
    "from oauth2client.client import GoogleCredentials"
   ]
  },
  {
   "cell_type": "code",
   "execution_count": null,
   "metadata": {
    "id": "MCgqob0Gxcy1"
   },
   "outputs": [],
   "source": [
    "auth.authenticate_user()\n",
    "gauth = GoogleAuth()\n",
    "gauth.credentials = GoogleCredentials.get_application_default()\n",
    "drive = GoogleDrive(gauth)"
   ]
  },
  {
   "cell_type": "code",
   "execution_count": null,
   "metadata": {
    "id": "utf7emiHxfau"
   },
   "outputs": [],
   "source": [
    "downloaded = drive.CreateFile({'id':'1FjJzaLd-qxFTv61J1oZNLpTtL5oYH7xI'}) # replace the id with id of file you want to access\n",
    "downloaded.GetContentFile('CommunicationAffectAndLearning.pdf') "
   ]
  },
  {
   "cell_type": "code",
   "execution_count": null,
   "metadata": {
    "colab": {
     "base_uri": "https://localhost:8080/"
    },
    "executionInfo": {
     "elapsed": 8217,
     "status": "ok",
     "timestamp": 1611082423999,
     "user": {
      "displayName": "Varun Rana",
      "photoUrl": "",
      "userId": "00188788562004174296"
     },
     "user_tz": -330
    },
    "id": "PddIeSK9yMhA",
    "outputId": "630cc28e-095b-4bf4-db32-945700be2b34"
   },
   "outputs": [
    {
     "name": "stdout",
     "output_type": "stream",
     "text": [
      "Requirement already satisfied: PyPDF2 in /usr/local/lib/python3.6/dist-packages (1.26.0)\n"
     ]
    }
   ],
   "source": [
    "!pip install PyPDF2"
   ]
  },
  {
   "cell_type": "code",
   "execution_count": null,
   "metadata": {
    "colab": {
     "base_uri": "https://localhost:8080/"
    },
    "executionInfo": {
     "elapsed": 8206,
     "status": "ok",
     "timestamp": 1611082424001,
     "user": {
      "displayName": "Varun Rana",
      "photoUrl": "",
      "userId": "00188788562004174296"
     },
     "user_tz": -330
    },
    "id": "PeabgHRNx_Wb",
    "outputId": "aaabad18-9b10-4ed6-a106-5bee35debb57"
   },
   "outputs": [
    {
     "name": "stderr",
     "output_type": "stream",
     "text": [
      "PdfReadWarning: Xref table not zero-indexed. ID numbers for objects will be corrected. [pdf.py:1736]\n"
     ]
    }
   ],
   "source": [
    "import PyPDF2\n",
    "path = 'CommunicationAffectAndLearning.pdf'\n",
    "pdf = PyPDF2.PdfFileReader(open(path, 'rb')) # Invoking a pdf file reader; using open to read the file in binary using 'rb'    \n"
   ]
  },
  {
   "cell_type": "code",
   "execution_count": null,
   "metadata": {
    "colab": {
     "base_uri": "https://localhost:8080/"
    },
    "executionInfo": {
     "elapsed": 8194,
     "status": "ok",
     "timestamp": 1611082424002,
     "user": {
      "displayName": "Varun Rana",
      "photoUrl": "",
      "userId": "00188788562004174296"
     },
     "user_tz": -330
    },
    "id": "a15WJDu7yJ3n",
    "outputId": "568faf09-1f07-47be-dd8f-89797a36f6de"
   },
   "outputs": [
    {
     "data": {
      "text/plain": [
       "267"
      ]
     },
     "execution_count": 100,
     "metadata": {
      "tags": []
     },
     "output_type": "execute_result"
    }
   ],
   "source": [
    "# using an attribute numPages to know number of pages in pdf\n",
    "pdf.numPages"
   ]
  },
  {
   "cell_type": "code",
   "execution_count": null,
   "metadata": {
    "colab": {
     "base_uri": "https://localhost:8080/"
    },
    "executionInfo": {
     "elapsed": 8179,
     "status": "ok",
     "timestamp": 1611082424003,
     "user": {
      "displayName": "Varun Rana",
      "photoUrl": "",
      "userId": "00188788562004174296"
     },
     "user_tz": -330
    },
    "id": "jkB9AWDEyuHR",
    "outputId": "3bb80f57-8cc3-453b-db18-0e0e234919e7"
   },
   "outputs": [
    {
     "name": "stdout",
     "output_type": "stream",
     "text": [
      "Owner\n",
      "Microsoft Word - Communication Affect and Learning.doc\n"
     ]
    }
   ],
   "source": [
    "# Using a method to get the info of the doc\n",
    "info = pdf.getDocumentInfo()\n",
    "print(info.author)\n",
    "print(info.title)"
   ]
  },
  {
   "cell_type": "markdown",
   "metadata": {
    "id": "X93DOy-B4U-O"
   },
   "source": [
    "### Extract the text and read"
   ]
  },
  {
   "cell_type": "code",
   "execution_count": null,
   "metadata": {
    "colab": {
     "base_uri": "https://localhost:8080/"
    },
    "executionInfo": {
     "elapsed": 8167,
     "status": "ok",
     "timestamp": 1611082424004,
     "user": {
      "displayName": "Varun Rana",
      "photoUrl": "",
      "userId": "00188788562004174296"
     },
     "user_tz": -330
    },
    "id": "Tnbxi0Jy0vto",
    "outputId": "0db61cb9-c9b9-40d3-cebe-095325bd1f2e"
   },
   "outputs": [
    {
     "data": {
      "text/plain": [
       "b' Copyright \\xc2\\xa9 2009 by Virginia Peck Richmo\\nnd, Jason S. Wrench, and Joan Gorham \\nAll rights reserved. \\n\\nPrinted in the United \\nStates of America.   \\n \\nThis work is licensed under the Creative Commons Attribution-Noncommercial-No Derivative \\n\\nWorks 3.0 United States License.  \\n\\n To view a copy of this license, visit http://creativecommons.org/licenses/by-nc-nd/3.0/us/ \\nor send a letter to Creative Commons, 171 \\nSecond Street, Suite 300, San Francisco, \\nCalifornia, 94105, USA. \\n\\n \\n \\nAll research measures utilized within this text\\nbook are copyrighted by the measure\\xe2\\x84\\xa2s original \\ncreators and used by permission within this\\n text. Please contact the measure\\xe2\\x84\\xa2s original \\ncreator for licensing information. \\n\\n \\n \\n \\n   \\n \\n \\n \\n   \\n \\n \\n1st Edition printed by Burgess Publishing, \\nEdina, MN, in 1992 (ISBN: 0-80874-699-5) \\n2nd Edition printed by Tapestry Press, \\nActon, MA, in 2001 (ISBN: 1-56888-548-2)\\n'"
      ]
     },
     "execution_count": 102,
     "metadata": {
      "tags": []
     },
     "output_type": "execute_result"
    }
   ],
   "source": [
    "page = pdf.getPage(2) # Read one page at a time; here '2' is page no\n",
    "text = page.extractText().encode('utf-8') # extracting and encoding\n",
    "text"
   ]
  },
  {
   "cell_type": "code",
   "execution_count": null,
   "metadata": {
    "colab": {
     "base_uri": "https://localhost:8080/"
    },
    "executionInfo": {
     "elapsed": 8156,
     "status": "ok",
     "timestamp": 1611082424006,
     "user": {
      "displayName": "Varun Rana",
      "photoUrl": "",
      "userId": "00188788562004174296"
     },
     "user_tz": -330
    },
    "id": "3p2EwE1S4Syg",
    "outputId": "bfe153fa-cf14-4860-da69-bce995ffd482"
   },
   "outputs": [
    {
     "data": {
      "text/plain": [
       "bytes"
      ]
     },
     "execution_count": 103,
     "metadata": {
      "tags": []
     },
     "output_type": "execute_result"
    }
   ],
   "source": [
    "# page.extractText().encode('utf-8') return a byte object\n",
    "type(text)"
   ]
  },
  {
   "cell_type": "markdown",
   "metadata": {
    "id": "6Rsf-8HK6BKY"
   },
   "source": [
    "### Convert the byte object to string type"
   ]
  },
  {
   "cell_type": "code",
   "execution_count": null,
   "metadata": {
    "colab": {
     "base_uri": "https://localhost:8080/",
     "height": 119
    },
    "executionInfo": {
     "elapsed": 8143,
     "status": "ok",
     "timestamp": 1611082424007,
     "user": {
      "displayName": "Varun Rana",
      "photoUrl": "",
      "userId": "00188788562004174296"
     },
     "user_tz": -330
    },
    "id": "QDkyiGqr5Q59",
    "outputId": "93953ec9-ceca-4cc0-9e87-ec50141b3cfc"
   },
   "outputs": [
    {
     "data": {
      "application/vnd.google.colaboratory.intrinsic+json": {
       "type": "string"
      },
      "text/plain": [
       "' Copyright © 2009 by Virginia Peck Richmo\\nnd, Jason S. Wrench, and Joan Gorham \\nAll rights reserved. \\n\\nPrinted in the United \\nStates of America.   \\n \\nThis work is licensed under the Creative Commons Attribution-Noncommercial-No Derivative \\n\\nWorks 3.0 United States License.  \\n\\n To view a copy of this license, visit http://creativecommons.org/licenses/by-nc-nd/3.0/us/ \\nor send a letter to Creative Commons, 171 \\nSecond Street, Suite 300, San Francisco, \\nCalifornia, 94105, USA. \\n\\n \\n \\nAll research measures utilized within this text\\nbook are copyrighted by the measure™s original \\ncreators and used by permission within this\\n text. Please contact the measure™s original \\ncreator for licensing information. \\n\\n \\n \\n \\n   \\n \\n \\n \\n   \\n \\n \\n1st Edition printed by Burgess Publishing, \\nEdina, MN, in 1992 (ISBN: 0-80874-699-5) \\n2nd Edition printed by Tapestry Press, \\nActon, MA, in 2001 (ISBN: 1-56888-548-2)\\n'"
      ]
     },
     "execution_count": 104,
     "metadata": {
      "tags": []
     },
     "output_type": "execute_result"
    }
   ],
   "source": [
    "page = pdf.getPage(2)\n",
    "text = page.extractText().encode('utf-8').decode('utf-8')\n",
    "text"
   ]
  },
  {
   "cell_type": "code",
   "execution_count": null,
   "metadata": {
    "colab": {
     "base_uri": "https://localhost:8080/"
    },
    "executionInfo": {
     "elapsed": 8130,
     "status": "ok",
     "timestamp": 1611082424008,
     "user": {
      "displayName": "Varun Rana",
      "photoUrl": "",
      "userId": "00188788562004174296"
     },
     "user_tz": -330
    },
    "id": "C7QMm40p8rYo",
    "outputId": "9bff574a-168d-4e35-9028-5d52c5d6ac9d"
   },
   "outputs": [
    {
     "data": {
      "text/plain": [
       "str"
      ]
     },
     "execution_count": 105,
     "metadata": {
      "tags": []
     },
     "output_type": "execute_result"
    }
   ],
   "source": [
    "type(text)"
   ]
  },
  {
   "cell_type": "markdown",
   "metadata": {
    "id": "0Xk8h5TV9tPt"
   },
   "source": [
    "# Read whole pdf at once "
   ]
  },
  {
   "cell_type": "code",
   "execution_count": null,
   "metadata": {
    "id": "1kbWg5XG8tVq"
   },
   "outputs": [],
   "source": [
    "read_pages = lambda pdf, pg_num : pdf.getPage(pg_num).extractText().encode('utf-8').decode('utf-8') \n",
    "# lambda fn taking two parameters(pdf is filehandler, pg_num is page no which we want to read) \n",
    "# lambda fn uses filehandler(pdf) to take page no and extract text out of it after converting it into a string format\n",
    "pages = [read_pages(pdf, x) for x in range(pdf.numPages)]"
   ]
  },
  {
   "cell_type": "code",
   "execution_count": null,
   "metadata": {
    "colab": {
     "base_uri": "https://localhost:8080/"
    },
    "executionInfo": {
     "elapsed": 11997,
     "status": "ok",
     "timestamp": 1611082427897,
     "user": {
      "displayName": "Varun Rana",
      "photoUrl": "",
      "userId": "00188788562004174296"
     },
     "user_tz": -330
    },
    "id": "o0zqMLFq_vwB",
    "outputId": "213d1d0f-a524-4d76-d158-80ecba1ba432"
   },
   "outputs": [
    {
     "data": {
      "text/plain": [
       "267"
      ]
     },
     "execution_count": 107,
     "metadata": {
      "tags": []
     },
     "output_type": "execute_result"
    }
   ],
   "source": [
    "len(pages)"
   ]
  },
  {
   "cell_type": "code",
   "execution_count": null,
   "metadata": {
    "colab": {
     "base_uri": "https://localhost:8080/",
     "height": 119
    },
    "executionInfo": {
     "elapsed": 11985,
     "status": "ok",
     "timestamp": 1611082427899,
     "user": {
      "displayName": "Varun Rana",
      "photoUrl": "",
      "userId": "00188788562004174296"
     },
     "user_tz": -330
    },
    "id": "Kt4rrQMtAgwB",
    "outputId": "b6aba578-8d16-4d3c-935c-07e472df04c0"
   },
   "outputs": [
    {
     "data": {
      "application/vnd.google.colaboratory.intrinsic+json": {
       "type": "string"
      },
      "text/plain": [
       "' Copyright © 2009 by Virginia Peck Richmo\\nnd, Jason S. Wrench, and Joan Gorham \\nAll rights reserved. \\n\\nPrinted in the United \\nStates of America.   \\n \\nThis work is licensed under the Creative Commons Attribution-Noncommercial-No Derivative \\n\\nWorks 3.0 United States License.  \\n\\n To view a copy of this license, visit http://creativecommons.org/licenses/by-nc-nd/3.0/us/ \\nor send a letter to Creative Commons, 171 \\nSecond Street, Suite 300, San Francisco, \\nCalifornia, 94105, USA. \\n\\n \\n \\nAll research measures utilized within this text\\nbook are copyrighted by the measure™s original \\ncreators and used by permission within this\\n text. Please contact the measure™s original \\ncreator for licensing information. \\n\\n \\n \\n \\n   \\n \\n \\n \\n   \\n \\n \\n1st Edition printed by Burgess Publishing, \\nEdina, MN, in 1992 (ISBN: 0-80874-699-5) \\n2nd Edition printed by Tapestry Press, \\nActon, MA, in 2001 (ISBN: 1-56888-548-2)\\n'"
      ]
     },
     "execution_count": 108,
     "metadata": {
      "tags": []
     },
     "output_type": "execute_result"
    }
   ],
   "source": [
    "pages[2]"
   ]
  },
  {
   "cell_type": "code",
   "execution_count": null,
   "metadata": {
    "colab": {
     "base_uri": "https://localhost:8080/",
     "height": 120
    },
    "executionInfo": {
     "elapsed": 11972,
     "status": "ok",
     "timestamp": 1611082427900,
     "user": {
      "displayName": "Varun Rana",
      "photoUrl": "",
      "userId": "00188788562004174296"
     },
     "user_tz": -330
    },
    "id": "TyilEFhxAnJW",
    "outputId": "5ae9ae50-d505-4d60-bf92-aa4a20f7a178"
   },
   "outputs": [
    {
     "data": {
      "application/vnd.google.colaboratory.intrinsic+json": {
       "type": "string"
      },
      "text/plain": [
       "'  TABLE OF CONTENTS  Preface           i \\n\\n \\n1.  Teaching As a Communication Process \\n     001 \\n The Instructional Communication Process \\n\\n The Teacher \\n The Content \\n The Instructional Strategy \\n\\n The Student \\n\\n The Feedback/Evaluation  \\n\\n The Learning Environment/Instructional Context \\n\\n Kibler™s Model of Instruction \\n The ADDIE Model of Instructional Design \\n \\n2. Communicating With Instructional Objectives    017 \\n\\n Why Some Teachers Resent Objectives \\n\\n The Value of Objectives \\n\\n What Objectives Should Communicate \\n 3. Instructional Communication Strategies     028 \\n\\n The Teacher As a Speaker \\n\\n The Teacher As a Moderator \\n\\n The Teacher As a Trainer \\n\\n The Teacher As a Manager \\n The Teacher As a Coordinator & Innovator  \\n \\n4.  Communication, Affect, an\\nd Student Needs     042 \\n Measuring Student Affect \\n\\n Basic Academic Needs of Students \\n\\n Traditional Interpersonal Need Models  \\n Outcomes of Meet\\ning Student Needs  \\n5.  Learning Styles         059 \\n\\n What is Learning Style? \\n'"
      ]
     },
     "execution_count": 109,
     "metadata": {
      "tags": []
     },
     "output_type": "execute_result"
    }
   ],
   "source": [
    "pages[3]"
   ]
  },
  {
   "cell_type": "code",
   "execution_count": null,
   "metadata": {
    "colab": {
     "base_uri": "https://localhost:8080/",
     "height": 120
    },
    "executionInfo": {
     "elapsed": 11958,
     "status": "ok",
     "timestamp": 1611082427901,
     "user": {
      "displayName": "Varun Rana",
      "photoUrl": "",
      "userId": "00188788562004174296"
     },
     "user_tz": -330
    },
    "id": "hXYSIPhXAvdD",
    "outputId": "6765fb66-b3e3-4feb-ae97-ce1aff098859"
   },
   "outputs": [
    {
     "data": {
      "application/vnd.google.colaboratory.intrinsic+json": {
       "type": "string"
      },
      "text/plain": [
       "' Chapter One - 3 \\nriffs, and putting them together made really\\n fine music. His frie\\nnds find this very \\nimpressive, and Spike can\\'t wait to learn more. \\n What have these three piano teachers \\ncommunicated to their students? Grady\\'s \\nteacher taught him to dislike studying piano, \\nthat playing the piano \\nwas hard work and no \\nfun. Grady probably also learne\\nd that studying music is a pain\\n and should be avoided in the \\nfuture. He may avoid trying out for the band \\nor chorus in school, and he may have already \\nlearned to associate music itself with unpleas\\nantness so that he will not even choose to \\nlisten to much music as he grows older. Since it is very unlikely that these were the \\nobjectives of Grady\\'s teacher, we must ques\\ntion that teacher\\'s ability to utilize the \\ninstructional communication\\n process effectively. \\nRoxanne\\'s teacher was somewhat\\n more effective. Roxanne \\nlearned that music can be \\nfun and enjoyable, but she also learned that\\n she had very little musical ability. Her \\nself-esteem as a musician is low. It is unlik\\nely Roxanne will take \\nany more music lessons, \\npiano or otherwise. She also is unlikely to take \\nthe risk of looking bad \\nby joining the band or \\nthe chorus in school later. But she is likely \\nto appreciate listening to music. She may even \\nbe willing to sign up for music appreciation cl\\nasses. Certainly, she wi\\nll collect albums in the \\nfuture. If Roxanne\\'s teacher\\'s goal was to teac\\nh her to play the piano, the teacher wasn™t \\nsuccessful. However, if the goal was to get Ro\\nxanne to enjoy music, \\nthe goal was achieved. \\nFuture teachers will not have to deal with a student who dislikes music, but they may have \\n\\na difficult time getting Roxanne to try performing again. \\nSpike\\'s second teacher certainly was mo\\nre successful with \\nthe instructional communication process than his \\nfirst one. Spike likes playing \\nthe piano and wants to learn \\nmore. He is \"ready\" for that or another teacher to guide him to higher levels of learning. \\n\\nHowever, Spike may now associat\\ne his ability to play the piano with peer respect, so we \\ndon\\'t know how he will respond if he plays something for them that is \"sophisticated\" or \\n\\n\"high brow,\" and they do not like it. Nevertheless, this teacher has demonstrated effective \\nuse of the instructional communication process.  \\nWithin these examples, there are several va\\nriables at work: the teacher, the content \\nof the lessons, the instructiona\\nl strategy, the student, fee\\ndback or evaluation, and the \\nlearning environment or context in which instruction occurs. Working together, these \\n\\nelements define the instruct\\nional communication process. \\n   '"
      ]
     },
     "execution_count": 110,
     "metadata": {
      "tags": []
     },
     "output_type": "execute_result"
    }
   ],
   "source": [
    "pages[15]"
   ]
  },
  {
   "cell_type": "markdown",
   "metadata": {
    "id": "ssQTox56CkKp"
   },
   "source": [
    "# Join multiples pages\n",
    "* sometimes we need to use multiple pdf so that each pdf content is available in a single string to form one document and another string coming from another pdf to form 2nd document."
   ]
  },
  {
   "cell_type": "code",
   "execution_count": null,
   "metadata": {
    "colab": {
     "base_uri": "https://localhost:8080/"
    },
    "executionInfo": {
     "elapsed": 11945,
     "status": "ok",
     "timestamp": 1611082427902,
     "user": {
      "displayName": "Varun Rana",
      "photoUrl": "",
      "userId": "00188788562004174296"
     },
     "user_tz": -330
    },
    "id": "esI1ui1oAzML",
    "outputId": "1ed6d213-8f0a-4d70-fbc6-11df3ad3b295"
   },
   "outputs": [
    {
     "data": {
      "text/plain": [
       "658597"
      ]
     },
     "execution_count": 111,
     "metadata": {
      "tags": []
     },
     "output_type": "execute_result"
    }
   ],
   "source": [
    "doc = ' '.join(pages) # Combining all the pages together using join fn by providing it a space; Every page will have and additional space b/w them.   \n",
    "len(doc)"
   ]
  },
  {
   "cell_type": "markdown",
   "metadata": {
    "id": "EcYwgvS9DS--"
   },
   "source": [
    "# Read all PDFs and create corpus"
   ]
  },
  {
   "cell_type": "code",
   "execution_count": null,
   "metadata": {
    "id": "_ei9AqCGFK0b"
   },
   "outputs": [],
   "source": [
    "!pip install -U -q PyDrive\n",
    "from pydrive.auth import GoogleAuth\n",
    "from pydrive.drive import GoogleDrive\n",
    "from google.colab import auth\n",
    "from oauth2client.client import GoogleCredentials"
   ]
  },
  {
   "cell_type": "code",
   "execution_count": null,
   "metadata": {
    "id": "Rdme7cwpFLBB"
   },
   "outputs": [],
   "source": [
    "auth.authenticate_user()\n",
    "gauth = GoogleAuth()\n",
    "gauth.credentials = GoogleCredentials.get_application_default()\n",
    "drive = GoogleDrive(gauth)"
   ]
  },
  {
   "cell_type": "code",
   "execution_count": null,
   "metadata": {
    "id": "967VXCC0E1Yp"
   },
   "outputs": [],
   "source": [
    " # replace the id with id of file you want to access\n",
    "downloaded = drive.CreateFile({'id':'12E3xUHTnEgkX3z-PrX4bGzDHiJshydv4'})\n",
    "downloaded.GetContentFile('How to Measure Anything.pdf') "
   ]
  },
  {
   "cell_type": "code",
   "execution_count": null,
   "metadata": {
    "id": "Fvpw0T4Z_IcO"
   },
   "outputs": [],
   "source": [
    "!pip install -U -q PyDrive\n",
    "from pydrive.auth import GoogleAuth\n",
    "from pydrive.drive import GoogleDrive\n",
    "from google.colab import auth\n",
    "from oauth2client.client import GoogleCredentials"
   ]
  },
  {
   "cell_type": "code",
   "execution_count": null,
   "metadata": {
    "id": "szza8YIR_ImB"
   },
   "outputs": [],
   "source": [
    "auth.authenticate_user()\n",
    "gauth = GoogleAuth()\n",
    "gauth.credentials = GoogleCredentials.get_application_default()\n",
    "drive = GoogleDrive(gauth)"
   ]
  },
  {
   "cell_type": "code",
   "execution_count": null,
   "metadata": {
    "id": "NAOAvzKy_OTz"
   },
   "outputs": [],
   "source": [
    "downloaded = drive.CreateFile({'id':'1xmcwhXmHHT5S9cMo_iYjltY1UUFx5JpM'})\n",
    "downloaded.GetContentFile('everythingfinance.pdf') "
   ]
  },
  {
   "cell_type": "code",
   "execution_count": null,
   "metadata": {
    "colab": {
     "base_uri": "https://localhost:8080/"
    },
    "executionInfo": {
     "elapsed": 21273,
     "status": "ok",
     "timestamp": 1611082437291,
     "user": {
      "displayName": "Varun Rana",
      "photoUrl": "",
      "userId": "00188788562004174296"
     },
     "user_tz": -330
    },
    "id": "eGXScpu-CUrc",
    "outputId": "acad28fe-d0d3-4564-c42f-bf4266ac29f0"
   },
   "outputs": [
    {
     "data": {
      "text/plain": [
       "['everythingfinance.pdf',\n",
       " 'CommunicationAffectAndLearning.pdf',\n",
       " 'How to Measure Anything.pdf']"
      ]
     },
     "execution_count": 118,
     "metadata": {
      "tags": []
     },
     "output_type": "execute_result"
    }
   ],
   "source": [
    "import glob # used for getting all the pdfs filenames from drive \n",
    "path_search = '*.pdf'\n",
    "path_pdf_files = glob.glob(path_search)\n",
    "path_pdf_files"
   ]
  },
  {
   "cell_type": "markdown",
   "metadata": {
    "id": "L_DRFNYG2KxC"
   },
   "source": [
    "# Create a corpus"
   ]
  },
  {
   "cell_type": "code",
   "execution_count": null,
   "metadata": {
    "colab": {
     "base_uri": "https://localhost:8080/"
    },
    "executionInfo": {
     "elapsed": 27142,
     "status": "ok",
     "timestamp": 1611082443171,
     "user": {
      "displayName": "Varun Rana",
      "photoUrl": "",
      "userId": "00188788562004174296"
     },
     "user_tz": -330
    },
    "id": "yp-ZPFFP1bSJ",
    "outputId": "d937c4c5-4b59-46eb-fbe7-b095d16631bf"
   },
   "outputs": [
    {
     "name": "stderr",
     "output_type": "stream",
     "text": [
      "PdfReadWarning: Xref table not zero-indexed. ID numbers for objects will be corrected. [pdf.py:1736]\n"
     ]
    }
   ],
   "source": [
    "docs = [] # creating a list to make a corpus, the list will contain 3 strings; Each string will contain one pdf\n",
    "\n",
    "read_pages1 = lambda pdf, pg_num : pdf.getPage(pg_num).extractText().encode('utf-8').decode('utf-8') \n",
    "# lambda fn taking two parameters(pdf is filehandler, pg_num is page no which we want to read) \n",
    "# lambda fn uses filehandler(pdf) to take page no and extract text out of it after converting it into a string format\n",
    "for x in path_pdf_files:\n",
    "  pdf = PyPDF2.PdfFileReader(open(x, 'rb'))\n",
    "  pages = [read_pages1(pdf, i) for i in range(pdf.numPages)]\n",
    "  doc = '\\n'.join(pages)\n",
    "  docs.append(doc)\n"
   ]
  },
  {
   "cell_type": "code",
   "execution_count": null,
   "metadata": {
    "colab": {
     "base_uri": "https://localhost:8080/",
     "height": 120
    },
    "executionInfo": {
     "elapsed": 1347,
     "status": "ok",
     "timestamp": 1611082455392,
     "user": {
      "displayName": "Varun Rana",
      "photoUrl": "",
      "userId": "00188788562004174296"
     },
     "user_tz": -330
    },
    "id": "ex7kWv-62CVK",
    "outputId": "07750fae-df1e-4f8a-e07f-2b2b465d6cac"
   },
   "outputs": [
    {
     "data": {
      "application/vnd.google.colaboratory.intrinsic+json": {
       "type": "string"
      },
      "text/plain": [
       "'Everything You Ever Really Needed to Know About Personal Finance\\nOn Just One Pageby Trent Hamm - The Simple Dollar - \\nhttp://www.thesimpledollar.com\\n/\\nIntroductionThe cover of this document tells you the whole story.  Everything you \\nreally need to know abut personal Þnance can be summarized in just one page.  Spend less than you earn.  Earn more.  Live frugal.  Do something sensible with the difference.  Control your \\nown destiny.  All of the other writing out there on personal Þnance is just details.\\nIn fact, the rest of this document is just details.  What you!ll Þnd in the rest of this document is a lot of additional detail about the points made on the cover.  Beyond that, \\nthis document is heavily footnoted.  If you!re reading this document on a computer, you \\ncan click on those footnote numbers and immediately jump to online resources that expand upon that point.The hardest part of personal Þnance is just having the courage to take that Þrst step.Sharing This DocumentThis document is being freely distributed under the Creative Commons Attribution-Share \\nAlike 3.0 United States License.  What does that mean?  It means that this document is free - you can send it to your friends, put it up on your website, or print it out.  You can \\nalso use if for commercial purposes - if you want to format it as a book and sell it, feel free.  You can also modify the contents to your heart\\n!s desire as long as it!s shared in the same way - any derivative works must also be shared under the Creative Commons \\nAttribution-Share Alike 3.0 License.\\nI only have two requests.  One, if you write about this on your website, include a link back to the original source of the document - http://www.thesimpledollar.com/onepage/\\n.  \\nDoing this enables new readers to always be able to retrieve the latest version of the document.  Two, if you do something interesting with this document (creating something \\nnew and compelling with it, use it in a classroom, use it in a major media source), please let me know by dropping me an email at trent@thesimpledollar.com\\n.All uncredited art was produced by me and is also shared under the Creative Commons \\nAttribution-Share Alike 3.0 United States License.\\nEverything PF                                          http://www.thesimpledollar.com\\n                                             2/49\\nMy StoryI was born in raised in downstate rural Illinois.  Growing up, my family didn!t have a lot of money [1], but they did have a lot of love.  They taught me the value of living frugally \\n[2], but it wasn!t always coupled with great Þnancial lessons.  In short, I had little idea how to manage my own money, and when I left home for college, I made a long \\nsequence of Þnancial mistakes. [3]  Flash forward to April 2006.  I had a good job, was married, and had an infant son, but I \\nstill hadn!t learned the value of managing my money.  To put it simply, I had a Þnancial \\nmeltdown [4], capped off by a long night of soul searching while facing a pile of bills that \\nI simply couldn!t afford to pay \\n[5].That experience woke me up.   I dove into personal Þnance books, reading them by the hundreds [6].  I started throwing the book at our terrible Þnancial state, trying every tactic that I read about.  And it worked.  Over the course of two years, we paid off two \\ncar loans, Þve Þgures! worth of credit card debt, Þve Þgures! worth of student loan debt, and several personal loans.  This turnaround laid the foundation for many things we had \\nonly dreamed about to that point - we bought a home, had another child, built a strong emergency fund, and, eventually, I was able to change careers and become a writer, \\ntaking a pay drop but living out a dream I!d had since I was a child.How did I do it?  The cover of this document tells the truth of the matter.  It\\n!s the blueprint for all of these great changes in my life.Want to know more?  Let\\n!s go.Everything PF                                          http://www.thesimpledollar.com\\n                                             3/49\\nIdea #1: Spend Less Than You Earn!\\nAnnual income twenty pounds, annual expenditure nineteen nineteen and six, \\nresult happiness. Annual income twenty pounds, annual expenditure twenty \\npounds ought and six, result misery.\\nCharles Dickens, David CopperÞeldIn the end, this is the fundamental rule of personal Þnance: spend less than you earn [7].  It!s the one point that comes up time and time again in almost every personal Þnance book you read [8] or talk that you hear.\\nIt!s easy to see it when you look at each side of the coin.  Let!s say you earn $30,000 a year and you spend $31,000 a year.  That extra $1,000 has to be borrowed, often from \\nsources like credit cards.  The following year, in order to maintain your lifestyle, you still \\nspend $1,000 a year more than you make, plus you spend $300 more than that just making the minimum payments on your debt, leaving you a total of $2,200 in the hole (the $1,000 extra you spent the Þrst year plus the $1,000 extra you spent the second year plus the $300 extra you spent repaying that debt minus the $100 you actually managed to pay off).  The debt builds - after the third year, you\\n!re $3,600 in debt.  It Everything PF                                          http://www.thesimpledollar.com\\n                                             4/49\\nkeeps growing and growing and growing until that debt is eating up all of your income, leaving you in misery.\\nOn the other hand, let!s say you only spend $29,000 a year - only $2,000 less in spending.  That extra $1,000 goes into your savings account and earns 3%.  The next \\nyear, you drop another $1,000 in the account and now you have $2,030 in there.  The \\nnext year, another $1,000, bringing you to $3,060.90.  That money builds up and soon \\nyou have a house down payment or the seed money to start the small business of your dreams - or even something as simple as the ability to easily pay for a car repair without \\nyour heart skipping a beat.The difference between these two stories is only $2,000 a year\\n.  There are two avenues \\nto achieving this goal: spending less and earning more. By working on either (or both) of \\nthese areas, you can increase the gap between those two numbers - and that gap is your ticket to freedom [9]. The harder you work on either spending less or earning more, \\nthe bigger that gap will become and the quicker that train to your dreams will arrive at the station.Let!s look at each side of that coin.Everything PF                                          http://www.thesimpledollar.com\\n                                             5/49\\nIdea #2: Earn More!It\\'s better to hang out with people better than you. Pick out associates whose behavior is better than yours and you\\'ll drift in that direction. Warren Buffett\\nSo how does one earn more? Many people will argue that there is no universal way for people to earn more money, and they\\n!re right: some people are born entrepreneurs, others function much better in an ofÞce environment. Some people are endlessly creative, others are masters at completing long lists of tasks.Once you dig past that, though, there are some common things that anyone can do, regardless of their Þnancial state, to earn more money.\\nGet Started Now!\\n!!!\\nThe best way to get started is found in your own workplace.  Everything PF                                          http://www.thesimpledollar.com\\n                                             6/49\\nGo to work well-rested and presentable. Never show up to work looking like you just rolled out of bed. Take a shower, wear clean clothes, use deodorant, brush your teeth, \\nand do your best to look presentable [10].  Also, get a good night of sleep before work \\nso that you can be as mentally and physically fresh as possible. Every interaction you have in the workplace will reßect either positively or negatively upon you, and you can very easily increase the positive-ness of those interactions by just taking a half an hour to make yourself presentable.Minimize negative comments. Every work environment provides ample opportunities for negativity, whether it\\n!s \\njust workplace gossip or your manager is asking questions. While it might feel good to participate in the negativity of gossip, don!t (feel free to listen, but don!t jump in with the negativity). Even when supervisors are seeking comments on other workers, hold back \\non the negativity and look for what positives you can Þnd. Negativity in the \\nworkplace drags everyone down and positivity lifts everyone, so stick with the positive.Don!t ÒbackstabÓ anyone. Along those same lines, you\\n!ll have many opportunities to Òsell outÓ others in the workplace. Avoid it at all costs. If you have an opportunity to \\ndiscuss other workers or particular situations, you might perceive that piling on those workers or those situations will beneÞt you - rarely is that actually true. Instead, look for the positives you can outline about anyone or anything.If you have downtime, Þnd something useful to do. Many workplaces have times where there is simply downtime - you!re waiting on new customers, you!ve Þnished your \\ncurrent project, and so on. That downtime is key in separating the people who get \\nahead from the people who get left behind. Find things to do with that time that!s useful. Clean up your workspace. Clean up the store. Work on a low-priority project. Improve \\nyour skills. There are always things that can be done - don\\n!t just sit or stand around to be told what to do.Everything PF                                          http://www.thesimpledollar.com\\n                                             7/49Women workers in ordnance shops, Midval Steel and Ordnance Co., \\nNicetown, Pa. Hand chipping with pneumatic hammers. 1918. Lt. Lubbe.  Credit: National Archives and Records Administration\\n\\nDo every task you!re given as well as you can. When you!re given a minor, menial \\ntask, it!s often very tempting to do it with minimal effort just to get it done. You\\n!re supposed to sweep the ßoor, so you do it mindlessly and do a mediocre job. You\\n!re given something to type up, but you don!t bother to check it for typos. You\\n!re given a mundane system administration task, so you overlook a basic step. Instead of falling into that trap, try to give your complete focus to the task at hand and do it as best you can.Learn from (and emulate) the people who do their job well. In most workplaces, it!s easy to identify the top workers. They\\n!re the ones that managers defer to and ask for advice. They\\n!re the ones who always seem to come through with the things that need to \\nbe done. As a result, they have job stability, plenty of options, and likely a very solid \\nsalary. Learn from these people. Ask them plenty of questions about how they get things \\ndone. Watch what they do, particularly with their downtime. In some situations, it might \\neven be appropriate to ask them to be your mentor [11]\\n.Build positive relationships with everyone in the workplace. You do \\nnothing but gain from building a positive relationship with everyone in your workplace, from the highest level of management that you can easily interact with to the person who empties the trash cans. Be friendly to everyone. Ask how \\ntheir day is going. Find some common interests and talk about them. The more \\npeople you develop positive relationships \\nwith (both up and down the hierarchy), the better off you\\n!ll be.Ignore poisonous people. Every workplace seems to have a poisonous person or two. \\nI know I!ve interacted with plenty of such people in my years - and in a few cases, they!ve really reduced the quality of the work environment and made me more negative. \\nIf you!re stuck with a poisonous person, just minimize all interaction with that person. Everything PF                                          http://www.thesimpledollar.com\\n                                             8/49Secretaries, housewives, women from all over central Florida are getting \\ninto vocational schools to learn war work. Typical are these in the \\nDaytona Beach branch of the Volusia country vocational school. April \\n1942.  Credit: National Archives and Records Administration\\n\\nWhen you do have to interact, stick with the facts and get back to your own tasks. That \\nperson might spew some poison about you, but most workplaces have pretty clearly identiÞed the poisonous people and take what they say with a grain of salt, so don!t let their responses or backstabbing bother you. Get your work done and move on with life.Never use your sick leave as Òextra vacation.Ó In one environment where I worked, this problem was endemic. As soon as a person had enough sick leave built up to take \\neven a single day off, that person called in ÒsickÓ like clockwork - with one exception. \\nWant to guess who the one person was that received a raise and then, later, a \\npromotion was? It!s Þne to use your sick leave when you!re actually ill, but consistent and reliable presence in the workplace is a huge beneÞt for your long-term career goals.Improve yourself in your spare time. The simplest way to do this is to work on getting \\nin better shape. Get some exercise [12] and eat a healthy diet [13]. Doing this will improve both your energy and your appearance, things that are purely beneÞcial in any work environment. If you have a job that requires some speciÞc skills, Þnd ways to improve those in your spare time as well. Keep up to date on your speciÞc area of knowledge. Learn what you would need to know to take the next step in your career.\\nStep up to challenges when they present themselves. When a challenging situation comes up, don!t shy away from it. Step up to the plate and give it your best shot. If you think it might be over your head, ask for help when you need it. If you show yourself able to handle challenging tasks, you!ll become a more valuable employee, and a more valuable employee gets more perks.Be a leader when it!s needed. When difÞcult situations occur, every workplace beneÞts \\nfrom having someone they can rely on as a leader. Be the person that speaks for the \\nworkers during a meeting. Be the person who helps people out when they!re going through a crisis. Eventually, you\\n!ll Þnd that people simply come to you by default - and that includes management.Own up to your own mistakes. If you mess up (and you inevitably will), admit to the mistake and do what you can to rectify it. Don!t try to hide it. Don!t try to pass the blame to others. Apologize well - not facetiously \\n[14].  Everyone makes mistakes. The winners \\nEverything PF                                          http://www.thesimpledollar.com\\n                                             9/49\\nare the people who own up to those mistakes and then go the extra mile to Þx the created problem.Stand up for yourself when you want a raise or promotion. If you want a raise or a promotion, be clear about it. Ask your supervisor directly for what you want - and be \\nable to make a good case for it. If you get a Òno,Ó ask what you need to do to put yourself in position for it and do just that. If you don!t stand up for yourself, no one will.Get Educated This doesn!t mean drop out and go back to school. It merely means to keep learning new things. If something interests you, read a book about it [15]. Take evening \\nclasses to get certiÞcation in a certain area or get a masters! degree. No matter what you!re doing, there!s some way you can learn more and improve yourself.Develop More Income Streams Always be on the lookout for ways to have money rolling into your pocket from a lot of different places \\n[16]. Maybe you!re a good writer and can sell a short story or an online \\nebook. Maybe you!ve got a little piece of land somewhere that you can lease to a farmer or a developer. Maybe you \\nspend your free time managing a ßower bed in the park - why not put a little wooden freewill donation box out there for people to drop a coin in? Maybe you have some extra cash laying around with which you can buy a long-term treasury note that will keep issuing you a check every six months [17]. Having more income streams merely means that losing one of them (like your job) is less devastating in your life and it also means your overall income for now will go up.Start a Side BusinessInstead of burning a few hours in front of the television each evening [18], how about investing at least part of that time into starting a side business [19]? You can try starting \\na blog with a few ads on it, or maybe you!re good with woodworking and can make deck \\nfurniture. Maybe you!re good at baking bread and can take loaves to the farmer!s Everything PF                                          http://www.thesimpledollar.com\\n                                             10/49Power house mechanic working on a steam pump. By Lewis Hine, 1920.  Credit: National Archives and Records \\nAdministration\\nmarket, or maybe you deeply enjoy gardening and can sell vegetables. There are lots of \\npossibilities out there for starting a business that will supplement your current income and perhaps eventually grow into your main income [20].Move Towards Your Passions\\nWhenever the opportunity presents itself, gravitate towards the things that really excite you, because passion is what will make you successful [21]. For me, my passion is writing, so I!ve made an effort to gravitate towards it by working on The Simple Dollar in \\nmy spare time. For others, it could be anything - maybe it!s leading a team, or perhaps it!s writing beautiful computer code. Whatever really excites you and makes you want to do more and more and more and better and better and better, that\\n!s what you need to move towards at all times [22].Don\"t Burn BridgesYou never know when a relationship you\\n!ve forged in your past might come in handy later on, even the ones you completely don!t expect. Thus, even if you feel wronged in a \\nsituation or want ÒrevengeÓ on some people - or even if you just feel an urge to spread negative gossip - resist it. As you get older, you\\n!ll Þnd yourself time and time again bumping into people that you forged relationships with earlier on - if you burned those bridges, you!ll Þnd that eventually you!ll have burnt that very bridge that you need to cross to get ahead. My advice? Never spread a negative word about anyone, because it \\nnever helps.Keep in Touch\\nWhen you do build a bridge with someone, don!t let it get old and worn out - spend the time to keep in touch with that person. Shoot them an email or a phone call every once in a while just to see what they!re up to. When it!s clear they need help and you can easily provide it, always provide it. I found the book Never Eat Alone \\nby Keith Ferrazzi [23] to be particularly powerful in this regard. I!m rather introverted, and it!s often a challenge for me to initiate and then keep communication going with someone, and this book provided tons of tips on how (and why) to keep contact with people.Everything PF                                          http://www.thesimpledollar.com\\n                                             11/49\\nIdea #3: Live Frugal!Industry, perseverance, and frugality make fortune yield.\\nBenjamin FranklinFor a lot of people, frugality is a nine letter word for cheap. They think of people doing \\nstuff like buying cartloads of generic products, using forty coupons in the checkout aisle, \\nwearing patched clothing, driving a rusted-out old vehicle, and other such things that it!s \\neasy to look down your nose at.Here!s a secret, something that I!ve witnessed several times in my own life and read about many more: those frugal people that you look down your nose at often have a mountain of cash in the bank (not always, of course, but more often than you think). They!re not drowning in a mortgage, they!re not making payments on a Þve Þgure credit card debt. They\\n!re not working to death on the weekends or drowning an ulcer in Pepto-Bismol. They\\n!re living their life according to their own rules.Everything PF                                          http://www.thesimpledollar.com\\n                                             12/49\\nThe best part is that we can all apply some of those same rules in our own life. Here!s what you can do to start reducing that spending.Maximize Every DollarEvery time you spend money, you make a decision. You decide that whatever you\\n!re giving that dollar for is worth it, and thus you make the exchange. The real key to \\nspending less is to raise that deÞnition of what a dollar is worth. Here are 100 great tactics for reducing your spending and saving more money.\\n1. Switch your bank accounts to a bank that respects you. You shouldn\\n!t be spending your hard-earned money on maintenance fees - you also should be earning some serious interest on your checking and savings accounts. I use ING Direct as my primary bank - I earn roughly 1% on my checking account and 1.4% on my savings account (even in this down economy) and they!ve never dinged me with a fee. It!s not too hard to switch banks, either, if you sit down and just do it. \\n[23]2. Turn off the television.\\n One big way to save money is to watch less television. There are a lot of \\nÞnancial beneÞts to this [24]: less exposure to guilt-inducing ads, more time to focus on other things in life, less electrical use, and so on. It!s great to unwind in the evening, but seek another hobby to do that.3. Turn a critical eye to your Òcollections.Ó\\n Most people collect something - what do you collect? Is it something that consistently brings you joy? Or is it something that you just do out of habit at this point? Does the collection itself have value? Could you perhaps Òtrim the fatÓ from this collection by getting rid of duplicates or \\ngetting rid of the items you no longer use [25]? Also, could you perhaps cut down on \\nyour spending on that hobby [26], [27]? Focus on trimming the things you don!t feel strongly about - if you dig into things that bother you, you!re going to eventually relapse.Everything PF                                          http://www.thesimpledollar.com\\n                                             13/49\\n4. Sign up for every free customer rewards program you can. Even if you rarely shop at that place, having a rewards card for that place will eventually net you some coupons and discounts. Here!s the basic game plan for maximizing these programs [28]: create a Gmail address just for these mailings, collect every card you can, and then check that account for extra coupons whenever you!re ready to shop.5. Make your own gifts instead of buying stuff from the store. You can make food \\nmixes, candles, bread, cookies, soap, and all kinds of other things at home quite easily and inexpensively [29]. These make spectacular gifts for others because they involve \\nyour homemade touch, plus quite often they!re consumable, meaning they don!t wind up \\nÞlling someone!s closet with junk. Even better - include a personal handwritten note with \\nthe gift [30]. This will make it even more special than anything you could possibly buy \\ndown at the mall, plus it saves you money.\\n6. Master the thirty day rule. Whenever you!re considering making an unnecessary purchase, wait thirty days and then ask yourself if you still want that item [31]. Quite often, you!ll Þnd that the urge to buy has passed and you!ll have saved yourself some money by simply waiting. If you want, you can even keep a Òthirty day listÓ where you write down the item and the day you!ll reconsider it, but I prefer just to keep this one in my head - that way, I often just forget about the unimportant things.\\n7. Write a list before you go shopping - \\nand stick to it. One should never go into a \\nstore without a strong idea of what one will be buying while in there [32]. Make a careful plan of what you!ll buy before you go, then stick strictly to that list when you go to the store. Don!t put anything in the cart that!s not on the list, no matter how tempting, and you!ll come out of the store saving a bundle.8. Invite friends over instead of going out. Almost every activity at home is less \\nexpensive than going out. Invite some friends over and have a cookout or a potluck Everything PF                                          http://www.thesimpledollar.com\\n                                             14/49A peek at my coupon binder - an effective way to use coupons. \\n[33]\\nmeal, then play some cards and have a few drinks. Everyone will have fun, the cost will be low, and the others will likely reciprocate not long afterwards.\\n9. Instead of throwing out some damaged clothing, repair it instead. Don!t toss out a shirt because of a broken button - sew a new one on with some closely-matched thread. Don!t toss out pants because of a hole in them - put in a patch of some sort and save them for times when you!re working around the house. Simple sewing can be done \\nby anyone - it just takes a few minutes and it saves a lot of money by keeping you from buying new clothes when you don!t really need to.10. Don!t spend big money entertaining your children. Most children, especially young ones, can be entertained very cheaply. Buy them an end roll of newspaper from \\nyour local paper [34] and let their creativity run wild. Make a game out of ordinary stuff \\naround the house, like tossing pennies into a jar, even. Collect common household \\nitems into a Òrainy dayÓ art box [35].  Realize that what your children want most of all is your time, not your stuff, and you\\n!ll Þnd money in your pocket and joy in your heart.11. Call your credit card company and ask for a rate reduction.\\n Take any of your \\ncredit cards that are carrying a balance, ßip them over, and call the number on the back. \\nTell them that you want an interest rate reduction or you\\n!ll take your business elsewhere. If the Þrst person you talk to won!t do it, ask to talk to a supervisor [36]. If you have a $5,000 balance, even a 3% rate reduction saves you $150 a year.\\n12. Clean out your closet. Go through your closets and try to get rid of some of the stuff in there. You can have a yard sale with it, take it to a consignment shop, or even \\ndonate it for the tax deduction - all of which turn old stuff you don\\n!t want to use any more \\ninto money in your pocket. Not only that, it!s often a psychological load off your mind to \\nclean out your closets.13. Buy games that have a lot of replay value - and don!t acquire new ones until you!ve mastered what you have. My video game buying habits [37] have changed quite a bit since my Ògame of the weekÓ days. Now, I focus on games that can be played \\nover and over and over again, and I focus on mastering the games that I buy. Good \\ntargets include puzzle games and long, involved quest games - they maximize the value \\nof your gaming dollar.\\nEverything PF                                          http://www.thesimpledollar.com\\n                                             15/49\\n14. Drink more water.\\n Not only does drinking plenty of water have great health beneÞts, water drinking has Þnancial beneÞts, too [38]. Drink a big glass of water before each meal, and not only will you digest it better, you won\\n!t eat as much, saving on the ol!\\n food bill. You\\n!ll also Þnd yourself feeling a bit better as you begin to get adequately hydrated (most Americans are perpetually somewhat dehydrated).\\n15. Cut back on the convenience foods - fast foods, microwave meals, and so on. Instead of eating \\nfast food or just nuking some prepackaged food when you get home, try making some simple and healthy replacements that you can take with you [39], like homemade bulk breakfast burritos [40].. An \\nhour!s worth of preparation one weekend can give you a ton of cheap and handy meals that will end \\nup saving you a lot of cash and not eat into your time when you!re busy.\\n16. Give up expensive habits, like cigarettes, alcohol, and drugs. Those habits cause money to ßow away from you with nothing in return. Call up your fortitude and work hard to kick the habits and you!ll Þnd that money staying in your pocket instead of burning up and ßoating away.\\n17. Make a quadruple batch of a casserole. Casseroles are nice, easy dishes to prepare, but on busy nights, it!s often still easier to just order some take-out or eat out or \\njust plop a prepackaged meal in the oven. Instead, the next time you make a casserole, make four batches of it and put the other three in the freezer [41]. Then, the next time \\nyou need a quick meal for the family, grab one of those batches and just heat it up - \\neasy as can be. Even better, doing this allows you to buy the ingredients in bulk, making \\neach casserole cheaper than it would be ordinarily - and far, far cheaper than eating out \\nor trying a prepackaged meal.Everything PF                                          http://www.thesimpledollar.com\\n                                             16/49\\n18. Be diligent about turning off lights before you leave. If you spend one minute turning off lights before a two hour trip, that\\n!s the equivalent of earning $50 an hour [42]. That!s some impressive savings, particularly if you do it before longer trips. The key is to \\nuse less energy, particularly when you\\n!re not using the device.19. Swap books, music, and DVDs cheaply on the internet via services like PaperBackSwap. You can very easily swap the books and CDs and DVDs you\\n!ve grown bored with via the internet with others. Just use sites like PaperBackSwap [43], clean out your media collection, and trade them with others online. The best part? You\\n!ll get a ßood of new books (or CDs or DVDs [44]) to enjoy, mailed right to you - for free.\\n20. Maximize yard sales. I like to stop by yard sales if I see them, but I recognize that often the stuff there is junk. Thus, I\\n!m careful about what I buy and I use clever tactics to \\nÞnd it - and lower the prices [45]. That way, I wind up with a really big bargain - or else I \\ncan just walk away with the money in my pocket, having been entertained for a bit.21. Install CFL (or, even better, LED) \\nbulbs wherever it makes sense. These \\nbulbs might cost more initially, but they \\nboth have a longer life than normal incandescent bulbs and they both eat far less electricity. CFLs tend to use about \\n25% of the electricity of an incandescent - LEDs use about 20% [46]. CFLs are cheaper than LEDs right now and produce better light, but not quite as good as incandescent bulbs. My policy? Put LEDs in closets and out of the way places, use CFLs for hall and some room lighting, and use incandescent bulbs (until the other bulbs get better) where you read and do other eye-intensive activities. This will trim a \\nsigniÞcant amount from your electric bill.22. Install a programmable thermostat. These devices regulate the temperature in \\nyour house automatically according to the schedule that you set. Thus, when you\\n!re not home, it allows the heating or cooling to turn off for several hours, saving you on your \\nEverything PF                                          http://www.thesimpledollar.com\\n                                             17/49\\nenergy bill. A programmable thermostat can easily cut your energy bill by 10 to 20% - \\nand it!s surprisingly easy to install [47].23. Buy appliances based on reliability, not what\\n!s cheapest at the store. It!s worth the time to do a bit of research when you buy a new appliance. A reliable, energy \\nefÞcient washer and dryer might cost you quite a bit now, but if it continually saves you \\nenergy and lasts for Þfteen years, you!ll save signiÞcant money in the long run [48]. When you need to buy an appliance, research it - start with back issues of Consumer Reports at the library. An hour\\n!s worth of research can easily save you hundreds of dollars.24. Clean your car!s air Þlter.\\n A clean air Þlter can improve your gas mileage by up to \\n7%, saving you more than $100 for every 10,000 miles you drive in an average vehicle. Plus, cleaning your air Þlter is easy to do in just a few minutes [49] - just follow the instructions in your automobile!s manual and you!re good to go.25. Hide your credit cards. Take your credit cards and put them in a safe place in your \\nhome, not in your wallet where it!s easy to spend them. If you argue that you need it for Òemergencies,Ó just be sure to keep a small amount of cash hidden in your wallet for these emergencies. Don!t keep plastic on you until you have the willpower to not use it even when you!re sorely tempted.26. Plan your meals around your grocery store!s ßyer.\\n Instead of just planning your meals based on a cookbook or whatever you can dream up, plan all your meals around what!s on sale in your grocery store!s ßyer [50]. Look at the biggest sales, then plan meals based on those ingredients and what you have on hand, and you!ll Þnd yourself with a much smaller food bill than you!re used to.Everything PF                                          http://www.thesimpledollar.com\\n                                             18/49supermarket.  Photo by fazen\\n27. Do a price comparison - and Þnd a cheaper grocery store. Most of us get in a routine of shopping at the same grocery store, even though quite often it!s not the one that offers the best deals on our most common purchases. Fortunately, there\\n!s a simple way to Þnd the cheapest store around. Just keep track of the twenty or so things you buy most often, then shop for these items at a variety of stores [51]. Eventually, one \\nstore will come out on top for your purchases - just make that one your regular shopping \\ndestination and you!ll automatically save money.\\n28. Challenge yourself to try making your own things. Before I tried it myself, I thought homemade breadmaking was complicated and a waste of time and money. I came to Þnd out that it \\nwas pretty easy [52] and it was actually much cheaper, healthier, and tastier than buying a loaf \\nfrom the store. Now, we rarely ever buy bread \\nproducts at the store - and we save money by making that choice.  I!ve had a similar experience with many other household staples, like laundry detergent [53], cleaning supplies [54], and oatmeal packets [55].  Make it yourself - it!s surprisingly fun and it almost always saves you money.\\n29. Don!t spend money just to de-stress. Quite often, I used to spend money just to wind down from a stressful day at work. Instead, I!ve found that I quite often feel much better by going home and taking some quiet time just to stretch and then meditate. I end \\nup feeling much more together, happy, and ready to face an evening with the kids in the \\nright mindset than I ever would by just blowing some cash after work. Instead of spending to de-stress, try some basic meditation techniques, stretching, or yoga and see how you feel.30. Talk to your loved ones about what your dreams are.\\n This seems like an odd \\nway to save money, but think about it. If you spend time with the people you love the \\nmost and come to some consensus about your dreams, it becomes easy for you all to plan for it. If you!re all planning and working together towards this dream, it becomes easier to stay focused on it and reach it. Set a big, audacious goal together and Everything PF                                          http://www.thesimpledollar.com\\n                                             19/49\\nencourage each other to be Þnancially Þt - soon, you!ll Þnd you!re doing it naturally and your dreams are coming closer than ever.\\n31. Do a Òmaintenance runÓ on your appliances. Check them to make sure there isn!t any dust clogging them and that they!re fairly clean. Look behind the appliances, and use your vacuum to gently clear away dust. Check all of the vents, especially on refrigerators, dryers, and heating and cooling units. The less dust you have blocking the \\nmechanics of these devices, the more efÞciently they!ll run (saving you on your energy bill) and the longer they!ll last (saving you on replacement costs).32. Cancel unused club memberships. Are you paying dues at a club that you never \\nuse? Like, for instance, a gym membership or a country club membership? Cancel these club memberships, even if you think you might use them again someday - you can always renew the membership at a later date if it turns out that you actually do miss \\nit.33. When shopping for standard items (clothes, sports equipment, older games, etc.), start by shopping used. Quite often, you can Þnd the exact item you want with a bit of clever shopping at used equipment stores, used game stores, consignment shops, \\nand so on. Just make these shops a part of your normal routine - go there Þrst when looking for potential items and you will save money.\\n34. Keep your hands clean. This one\\n!s simple - just wash your hands thoroughly each time you use the bathroom or handle raw foods [56]. You\\n!ll keep yourself from acquiring all kinds of viruses and bacteria, saving you on medical bills and medicine costs and lost productivity. That\\n!s not to say you shouldn!t explore the world and get your hands dirty sometimes - that!s good for you, too - but basic sanitation does help keep the medical bills away.\\n35. Remove your credit card numbers from your online accounts. It!s easy to spend online when you have your card information stored in an account - just click and buy. The best way to break this habit is to simply delete your card from the account. \\nThat way, when you\\n!re tempted to spend, you!ll be forced to spend the time to dig out your card - and really think about why you!re spending this money.\\nEverything PF                                          http://www.thesimpledollar.com\\n                                             20/49\\n36. Give a gift of a service instead of an item. For new parents, give an evening of babysitting as a gift. If you know pet owners, offer to take care of their pets when they \\ntravel. Offer up some lawn care as a gift to a new homeowner. These are always \\nspectacular gifts for anyone - I know that, as a parent of a toddler and an infant, I love receiving a babysitting gift, probably more than any ÒstuffÓ I might receive.\\n37. Do holiday shopping right after the holidays. Most people use this technique for Christmas, but it works for every holiday [57]. Wait until about two days after a holiday, \\nthen go out shopping for items you need that are themed for that day. Get a Mother\\n!s Day card for next year the day after Mother!s Day. Get Easter egg decorating kits the \\nday after Easter. Get wrapping paper and cards and such the day after Christmas. The \\ndiscounts are tremendous, and you can just put this stuff in the closet until next year, \\nsaving you a bundle.38. Join up with a volunteer program. It!s a great way to meet new people, get some exercise, and involve yourself in a positive project that can lift your spirit. It also comes without a cost to you and can provide a lot of entertainment and a fulÞlling day when you!re in the right mindset. I!ve come to spend more and more of my time volunteering, serving on various committees and groups in the community - and it!s the best thing I!ve \\never done.39. Reevaluate the stuff in the rooms in your house. Go into a room and go through every single item in it. Do you really need that item? Are you happy that it\\n!s there, or would you be just Þne if it were not? If you can Þnd stuff to get rid of, get rid of it - it just creates clutter \\nand it might have some value to others. You also \\nimprove the perceived value of your house - and you!re likely to get a lot of cleaning done in the process. It!s a frugal win-win-win.40. Try generic brands of items you buy regularly.\\n Instead of just picking up the ordinary brand of an item you buy, try out the store brand or generic version of the item. \\nLikely, you\\n!ll save a few cents now, but you\\n!ll also likely discover that the store brand is just as good as the name brand - the only difference between the two, often, is the \\nEverything PF                                          http://www.thesimpledollar.com\\n                                             21/49\\nmarketing. Once you!re on board the generic train, you!ll Þnd your regular grocery bill getting smaller and smaller.\\n41. Prepare some meals at home. Get an accessible and easy-to-use cookbook (my favorite ÒbeginnerÓ cookbook is Mark Bittman!s excellent How to Cook Everything) and try making some of the dishes inside. You\\n!ll Þnd that cooking at home is much easier than you think - and way cheaper and healthier than take-out or dining out. Even better, \\nyou can easily prepare meals in advance [58] - even handy fast food type meals [59].42. Switch to term life insurance. Repeat after me: insurance is not an investment [60]. Switch to term insurance instead and use that difference in cost to get yourself out \\nof debt and start building some wealth. Universal and whole policies are much more expensive and offer a sub par investment opportunity (unless you\\n!re buying for a child) - \\nyou!re much better off getting yourself free of a debt burden than spending extra on \\nsuch things.43. Go for reliability and fuel efÞciency when buying a car.\\n A reliable and fuel \\nefÞcient car will save you thousands over the long haul [60]. Let!s say you drive a vehicle for 80,000 miles. If you choose a 25 miles per gallon car over a 15 miles per gallon car, you save 2,133 gallons of gas. At $3 a gallon, that\\n!s $6,400 in savings right there. Reliability can pay the same dividends. Do the research - it will pay off for you.\\n44. Don!t go to stores or shopping centers for entertainment. Doing so is just an encouragement to spend money you don!t really have on stuff you don\\n!t really need. Instead, Þnd other places to entertain yourself - the park, the basketball court, a museum, a friend!s house, or even in your own home. Don!t substitute shopping for entertainment and you!ll be way better off.\\n45. Master the ten second rule. Whenever you pick up an item in order to add it to your cart or to take it to the checkout, stop for ten seconds and ask yourself why you!re buying it and whether you actually need it or not [61]. If you can!t Þnd a good answer, \\nput the item back. This keeps me from making impulse buys on a regular basis.\\n46. Rent out unused space in your home. Do you have an extra bedroom that!s not being used? Rent it out. In our home, we could, if times were tough, rent out our entire Everything PF                                          http://www.thesimpledollar.com\\n                                             22/49\\nbasement - it has a Òliving room,Ó a bedroom, and a bathroom and has a stairwell right by the kitchen. If we found the right person, this would bring in a lot of extra money.\\n47. Create a visual reminder of your debt. Basically, just make a giant progress bar \\nthat starts with the amount of debt you have and ends with zero [62]. Each time you pay \\ndown a little bit, Þll in a little more of that progress bar. Keep this reminder in a place \\nwhere you!ll see it often, and keep Þlling it in regularly. It keeps your eyes on the prize \\nand leads you straight to debt freedom.48. Get rid of unread magazine subscriptions. Do you have a pile of unread magazines sitting around your house? Likely, it\\n!s the result of a subscription that you!re not reading. Not only should you not renew that magazine, you should give their subscription department a call and try to cancel for a refund - sometimes, they!ll give you the prorated amount back. I!ve had to cull my subscriptions in the past, but I!ve never regretted it.49. Eat breakfast. Eating a healthy breakfast Þlls you up with energy for the day and also decreases your desire to eat a big lunch in the middle of the day. Not only that, \\nbreakfast can be very healthy, quick, and inexpensive \\n[63]. A bowl of oatmeal in the \\nmorning is often the one thing that keeps me from running out to eat an expensive lunch \\nlater in the day - and it keeps me peppy and full of energy for the entire morning instead \\nof in a coffee-laced daze.\\n50. Swap babysitting with neighbors. We live in a neighborhood with an army of \\nyoung children out and about. Because of that, there are a lot of parents out there who are quite willing to swap babysitting nights with us, saving you the money of hiring one for an evening out. A few families even take this to incredible extremes. Try to Þnd \\nanother set of parents or two that you trust, and swap nights of babysitting with them. That way, you\\n!ll get occasional evenings free without the cost of a babysitter, saving you \\nsome scratch.51. Don!t fear leftovers - instead, jazz them up. Many people dread eating leftovers - they!re just inferior rehashes of regular meals, not exactly enjoyable to the discerning palate. However, there\\n!s nothing cheaper than eating leftovers and with a few great techniques for making leftovers tasty [64], you can often end up with something Everything PF                                          http://www.thesimpledollar.com\\n                                             23/49\\nsurprising and quite delicious on the other end. My favorite technique? Chaining - using the leftovers as a basis for an all-new dish.52. Go through your clothes - all of them. If you have a regular urge to buy clothes, go through everything that you have and see what you might Þnd. Take the clothes at \\nthe back of the closet and bring them to the front and suddenly your wardrobe will feel completely different. Take the clothes buried in your dresser and pull them to the top. \\nYou\\n!ll feel like a brand new person who doesn!t need to spend money on clothes right now.\\n53. Brown bag your lunch. Instead of going out to eat at work, take your own lunch. Lots of people think that this means Ònasty lunch,Ó but it doesn!t. With some thoughtful preparation and just a few minutes of time [65], you can create something quite enjoyable for your brown bag lunch - and save \\na Þstful of cash each day, too.\\n54. Learn how to dress minimally. \\nBuy clothes that mix and match well and you!ll not need nearly as many clothes. If you have Þve pants, seven shirts, and seven ties that all go together, you have \\nalmost an endless wardrobe right there just by mixing and matching. This is exactly what I do in \\norder to minimize clothes buying and still look professional - I just mix and remix what I wear by using utilitarian clothes options to begin with.55. Ask for help and encouragement from your inner circle\\n. Sit down and talk to the people you love and care about the most and ask them for help. Tell them that you\\n!re trying to trim your spending and you!d love it if they offered any suggestions and support \\nthey might have - and pay attention to what they tell you. They might have some \\npersonal insights for your situation that will really help.Everything PF                                          http://www.thesimpledollar.com\\n                                             24/49Day 57: Brown Baggin It.  Photo by Brymo\\n56. If something!s broken, give a fair shot at repairing it yourself before replacing it or calling a repairman. Get a handyman!s book or advice from the internet and give it a shot yourself. I!ve Þxed clocks, air conditioners, and VCRs by doing this before, saving signiÞcant cash by saving on a replacement or on a repair person.57. Keep an idea notebook in your pocket. I!ve wasted countless amounts of time and money simply because I!ve forgotten things in my head. Instead of relying on my memory, I keep a small notebook with me to jot down ideas and things I need to \\nremember [66], then I check it regularly throughout the day. This keeps me from \\nforgetting to pick up milk and having to backtrack ten miles, for starters.58. Invest in a deep freezer.\\n A deep freezer, after the initial investment, is a great \\nbargain [67]. You can use it to store all sorts of bulk foods, which enables you to pay \\nless per pound of it at the market. Even better, you can store lots of meals prepared in \\nadvance, enabling you to just go home and pop something homemade (and cheap) in the oven.59. Look for a cheaper place to live. The cost of living in Iowa is surprisingly low [68], enough so that I!m quite happy to give up the cultural opportunities of other places to enjoy Iowa all year around. When I want to enjoy the cultural opportunities of another place, I!ll travel there - after all, I can afford it. Take a serious look \\nabout moving to a less expensive area \\n- if you can Þnd work there, then a move can deÞnitely put you in better Þnancial shape.60. Check out what your town!s parks and recreation board has to offer. My town has several wonderful parks, free basketball and tennis courts, free disc golf, trails, and lots of other stuff just there waiting to be used. You can go have fun for hours out in the \\nEverything PF                                          http://www.thesimpledollar.com\\n                                             25/490112 Iowa Sunset.  Photo by iowa_spirit_walker\\n\\nwonderful outdoors, playing sports, hiking on trails, or trying other activities - and it!s all there for free. All you have to do is discover it.\\n61. Air up your tires.\\n For every two PSI that all of your tires are below the recommended level, you lose 1% on your gas mileage. Most car tires are Þve to ten PSI \\nbelow the normal level, so that means by just airing up your tires, you can improve your gas mileage by up to 5% [69]. It!s easy, too. Just read your car\\n!s manual to see what the \\nrecommended tire pressure is, then head to the gas station. Ask the attendant inside if \\nthey have a tire air gauge you can borrow (most of them do, both in urban and rural settings), then stop over by the air pump. Check your tires, then use the pump to Þll them up to where they should be. It!s basically free gas!62. Start a garden. Gardening is an inexpensive hobby if you have a yard. Just rent a tiller, till up a patch, plant some plants, keep it weeded, and you\\n!ll have a very inexpensive hobby that produces a huge amount of vegetables for you to eat at the end of the season [70]. I like planting a bunch of tomato plants, keeping them cared for, then \\nenjoying a huge ßood of tomatoes at the end of the summer. We like to eat them fresh, \\ncan them, and make tomato juice, sauce, paste, ketchup, pasta sauce, and pizza sauce. Delicious (and very inexpensive)!63. Dig into your community calendar. \\nThere are often tons of free events going on in \\nyour town that you don!t even know about. Stop by the local library or by city hall and ask how you can get ahold of a listing of upcoming community events [71], and make an \\neffort to hit the interesting ones. You can often get free meals, free entertainment, and \\nfree stuff just by paying attention - even better, you\\n!ll get in touch with what!s going on around you.64. Take public transportation.\\n If the city!s transit system is available near you, take it to work (or to play) instead of driving your car. It\\n!s far cheaper and you don!t have to worry about parking your vehicle. When I lived in a larger city, I bought an annual transit \\npass that actually paid for itself after less than two months of use compared to using an automobile - and after that, for ten months, I basically could ride to work (and to some events) for free. That\\n!s money in the bank.Everything PF                                          http://www.thesimpledollar.com\\n                                             26/49\\n65. Cut your own hair. \\nI can cut mine myself with a pair of clippers, for example. I just cut it really short every once in a while and don!t worry about it too much. Just put a garbage bag over the bathroom sink, bust out the clippers and scissors, and get it done. \\nTwo or three cuts will pay for the clippers, and then you\\n!re basically getting free haircuts. \\nWith a bit of practice, you can make it look good, too.66. Carpool. Is there anyone that lives near you who works at the same place (or near the same place) that you do? Why not ride together, alternating drivers each day? You \\ncan halve the wear and tear and gas costs for your car - and for your acquaintance as well.67. Cut back on your oil changes.  If you!re methodically following your dealership!s recommendation and getting an oil change every 3,000 miles, you might want to take a peek at your car!s owner!s manual.  Most modern cars only need an oil change every 5,000 miles and many models use one even less frequently than that.68. Get a crock pot.  A crock pot is \\nperhaps the best deal on earth for reducing cooking costs in a busy family [72]. You can just dump in your \\ningredients before work, put it on simmer, \\nand dinner is done when you get home. There are countless recipes out there for all variety of foods, and every time you cook this way, you\\n!re saving money as compared to eating out.69. Do some basic home and auto maintenance on a regular schedule. Instead of just waiting until something breaks to deal with it, develop a monthly maintenance schedule [73] where you go around your home (and your car) and perform a bit of maintenance where it!s needed. This little activity, taking you just an hour or two a \\nmonth, will keep things from breaking down and help you see problems before they become disasters.Everything PF                                          http://www.thesimpledollar.com\\n                                             27/49\\n70. Pack food before you go on a road trip. Have everyone pack a sack lunch for the trip. That way, instead of stopping in the middle of the trip, driving around looking for a \\nplace to eat, spending a bunch of time there, and then paying a hefty bill, you can just eat on the road or, better yet, stop at a nice park and stretch for a bit \\n[74]. Plus, you!ll save a lot of money and a fair amount of time this way.\\n71. Go through your cell phone bill, look for services you don!t use, and ditch them. Sit down and go through each item on your bill and see if there!s anything there that you don!t use, like a surfeit of text messages or web access or something to that effect. Then call your cell phone company and ask to have those services eliminated. \\nBoom, you!re saving money.\\n72. Consolidate your student loans. Interest rates are quite low right now, so it might \\nbe worthwhile to consolidate your student loans into one low-rate package. Look into the various student loan consolidation packages - even a 1% reduction on a $10,000 loan saves you $100 a year - and your loan is probably bigger than that (and the rate cut you could get is probably bigger).73. When buying a car, go for late model used.\\n These are typically cars coming \\nstraight off of leases, meaning they were cared for by reliable owners. Look at late \\nmodel used Þrst and foremost - and use those prices as your baseline when comparing older used cars and new cars (don!t exclude those options - exceptional deals and particular market conditions might point you towards another option on occasion).  My truck was purchased with this criteria and has lasted me several years already with only \\none signiÞcant issue - and I saved a ton of money on the purchase price over buying new. Only now is it beginning to show signiÞcant signs of aging - and with the money I \\nsaved on that purchase, I was able to get out of debt that much quicker.\\n74. Hit the library - hard. Don!t look at a library as just a place to get old books. Look at \\nit as a free place to do all sorts of things [75]. I!ve used it to learn a foreign language, meet people, use the Internet anonymously, check out movies and CDs, grab local free \\nnewspapers, and keep up on community events. Best of all, it doesn!t cost a dime.75. Use a simple razor to shave. I!ve been a big advocate of the basic safety razor for a long time [76], but that!s just one piece of the puzzle. For ÒnormalÓ shaves, I just shave \\nEverything PF                                          http://www.thesimpledollar.com\\n                                             28/49\\nin the shower and dry off the blade afterwards, using \\njust soap for lather - incredibly cheap, since I only swap blades once every few weeks. The real moral \\nof the story? Use a simple razor - not an expensive electric one that stops working in three years - and shave your face when it!s wet. You can get a very \\ngood shave with some practice and save a lot of money over the long haul.76. Find daily inspiration for making intelligent moves. I!m usually inspired by my children. Perhaps you!re inspired to make changes by your spouse - or even by someone in the community you respect. Maybe it!s just a personal goal, like an early retirement. Find something that makes you want to make positive changes, then use that person or thing \\nas a constant reminder [77]. Keep a picture of it in your wallet, in your vehicle, and on your bathroom mirror. Keep it in your mind as much as you possibly can.\\n77. Find out about all of the beneÞts of your job. Most people aren!t even aware of all of the beneÞts available to them. Spend some time with an HR person Þnding out about all of the beneÞts of your job [78] - you might be surprised at what you might Þnd. I found free tickets to sporting events, free personal improvement opportunities, and an optional employee match on some retirement funds that maximized the money I was socking away. This not only cut down on my own spending on things like sporting and \\ncommunity events and educational classes, but also improved my retirement plan.78. Make your own items instead of buying them. I like to make my own laundry detergent [79] and my own Goo-Gone [80], for starters. I also like making Glade, Windex, and Soft Scrub [81]. In both cases, it!s way cheaper than buying the commercial version. Hunt around for recipes - it!s amazing how many things you can make at home in just a few minutes that saves a ton of money compared to the commercial version.Everything PF                                          http://www.thesimpledollar.com\\n                                             29/49\\n79. Encourage your friends to do less expensive activities. This is often a tricky \\nthing to do, but there are a number of techniques you can try [82]. My favorite one is to be the Þrst one to suggest something - that often gives you the power to steer the group \\ntowards things that are cheaper. If you can convince your friends to go to the park and \\nshoot hoops instead of going golÞng, those green fees are going to stay in your pocket.80. Don!t speed. Not only is it inefÞcient in terms of gasoline usage, it also can get you pulled over and cost you a bundle [83]. It!s highly cost-efÞcient to just drive the speed limit, keep that gas in the tank, and keep the cops off your tail.\\n81. Read more. Reading is one of the \\ncheapest - and most beneÞcial - hobbies around. Most towns have a library available to the public - just go there and check out some books that interest you. Then, spend some of \\nyour free time in a cozy place in your house, just reading away. You\\n!ll learn something new, improve your reading \\nability, enjoy yourself, and not have to \\nspend a dime - and it!s surprisingly easy to get into the reading habit [84].82. Buy a smaller house. I currently live in a 2,000 square foot house with my wife and \\ntwo kids. Frankly, it\\n!s just the right size for us - if anything, it!s a little big. We often Þnd \\nourselves in the same room in the house, just surrounded by empty space. You don\\n!t need a giant place to live. Instead, buy something more modest and you!ll Þnd yourself with plenty of room - and still plenty of cash in your pocket.83. Drive a different route to work. This is an especially powerful tip if you Þnd \\nyourself ÒautomaticallyÓ stopping for something on the way into work or the way home. Get rid of that constant drain by selecting a different route that doesn\\n!t go by the temptation [85], even if the new route is a bit longer. You\\n!ll still be time ahead (because you!re not stopping) and you!ll deÞnitely be money ahead.Everything PF                                          http://www.thesimpledollar.com\\n                                             30/49Caught Reading.  Photo by Jayel Aheram.\\n\\n84. Always ask for fees to be waived.\\n Any time you sign up for a service of any kind \\nand there are sign-up fees, ask for them to be waived. Sometimes (but not always), they \\nwill be - and you save money just by being forthright about not wanting to pay excessive \\nfees. I did this with my last cell phone sign-up and got part of my fees waived, cutting down signiÞcantly on the bill.85. Don!t overspend on hygiene products. For most people, inexpensive hygiene products do the trick [86] - for example, I just buy whichever toothpaste is the cheapest, and the same goes with deodorant and the like. The key is to use this stuff regularly and \\nconsistently - bathe daily, keep yourself clean, and you\\n!ll be just Þne. No need to buy a $40 facial scrub if you actually scrub your face properly.\\n86. Eat less meat. For the nutritional value, meat is very expensive, especially as compared to vegetables and fruits. Simply change around your regular meal proportions \\nto include more fruits and vegetables and less meats - eat a smaller steak and a bigger helping of green beans, for example. Not only is this a healthier way to eat (saving on health costs), it!s also less expensive.87. Use a brutally effective coupon strategy. \\nHere!s the trick: wait a month before using the coupons [87]. Save your coupon ßyer out of your Sunday paper for a month, then bust it out and start cutting anything that might be of interest. For a bonus kicker, \\nuse the coupons in comparison with your grocery store ßyer that week to Þnd out ways you can use a coupon to reduce the cost of an item already on sale - you can wind up paying pennies for some things and, on occasion, actually get food for free (I!ve came home with a ton of free yogurt containers before, for example).88. Air seal your home.\\n Most homes have some air leaks that make the job of keeping it cool in summer and warm in winter that much harder - and that much more costly for you. Spend an afternoon air sealing your home - the Department of Energy has a great free guide on basic airsealing [88].89. Make your own beer or wine. If you enjoy an occasional drink, this is a great way to enjoy some of the beverages that you love at a surprisingly cheap price [89]. You can \\neasily make Þve gallons of beer or wine at once and it doesn!t take that long, either, \\nonce you have the basic ingredients. Even better, it\\n!s a great activity to do with friends - Everything PF                                          http://www.thesimpledollar.com\\n                                             31/49\\nyou buy the equipment, they bring the juice and you both get a few bottles of delicious homemade wine out of the deal. A nice \\nentertainment, plus some free beverages - that!s \\na great frugal deal.90. Make sure all your electrical devices are on a surge protector.\\n This is especially true of \\nyour entertainment center and your computer equipment. A power surge can damage these \\nelectronics very easily, so spend the money for a \\nbasic surge protector and keep your equipment plugged into such a device.91. Get on an automatic debt repayment plan for any student loans you have. Many student loans offer a rate reduction if you sign \\nup for their automatic debt repayment plan. This way, not only do you save a few bucks \\na month, you don!t have to go to the effort of actually paying the bill. Our automatic plan \\nsaved us about $60 a year.\\n92. Cut down on your vacation spending. Instead of going on a big, extravagant trip, pack up the car and see some of America some years for vacation. One of the best \\nvacations I!ve ever taken was when my son was an infant - we just packed up the car and drove around Minnesota, eventually camping for a few days along the north shore of Lake Superior. For a week long relaxing vacation, it was incredibly cheap and quite \\nmemorable, too.93. Cancel the cable or satellite channels you don!t watch. Many people with cable services often are paying for a premium package but rarely watch those extra channels. \\nFor the longest time, my wife and I were subscribed to HBO, Starz, and Cinemax, yet we would only tune in once a month at best. We argued that it was worth it because we \\ncould watch a movie or a great drama whenever we wanted, but it would have been far cheaper just to rent a movie. Get rid of the excess channels and put that cash back in your pocket [90].Everything PF                                          http://www.thesimpledollar.com\\n                                             32/49\\n94. Exercise more. Go for a walk or a jog each evening, and practice stretching and some light muscle exercise at home. These exercises can be done at home for very \\nlittle, meaning you!ve got an activity without a lot of cost, and the health beneÞts are enormous. Just set aside some time each day to get some exercise, and your body and wallet will thank you.95. Utilize online bill pay with your bank. This serves two purposes. First, it keeps \\nyou in much closer contact with your money, as you can keep a very close eye on your \\nbalance and be in much less danger of overdrafting. Second, it saves you money on stamps and paper checks by allowing you to just Þll in an online form, click submit, and have your bill paid. Try it out - and take advantage of it if you\\n!re not already.\\n96. Buy staples in bulk. We buy items we use a lot of in bulk, particularly items that \\ndon!t perish - trash bags, laundry detergent, diapers, and so on are purchased in the largest amounts possible. This cuts down on their cost per usage by quite a bit and, \\nover the long haul, begins to add up to some serious money. Even better, we don\\n!t have \\nto shop for these items very often, saving time and a fraction of the cost of a trip to the grocery store.97. Connect your entertainment center and/or computer setup to a true smart power strip. A device like the SmartStrip LCG4 basically cuts power to all devices on \\nthe strip depending on the status of the Þrst item on the strip. So, if you have your workstation hooked up to this, every time you power down your workstation, your monitor powers down, your printer powers down, your scanner powers down, and so on. You can do the same thing with your entertainment console - when you turn off the \\ntelevision, the cable/satellite box also goes off, as does the video game console, the \\nVCR, the DVD player, and so on. This can save you a lot of electricity and signiÞcantly \\ntrim your power bill.98. Don!t beat yourself up when you make a mistake. Even if you make ten good choices, it!s easy to beat yourself up and feel like a failure over one bad choice. If you make a big mistake and realize it, think about why you realized it now instead of then, and try to apply that later on. The memory of that mistake can end up being very \\nvaluable, indeed.Everything PF                                          http://www.thesimpledollar.com\\n                                             33/49\\n99. Always keep looking ahead\\n. Don!t let the mistakes of your past drag you down into \\nmore mistakes. Look ahead to the future. The choices you make now won\\n!t affect the \\npast - but they deÞnitely will affect the future. Think back, and remember how the bad \\nchoices you made earlier are costing you now, and constantly remember to not make \\nthose mistakes now so that they don!t cost your future self.100. Never give up. Whenever the struggle against debt feels like it!s too much, go read a personal Þnance blog and remember that there are a lot of people out there Þghting the same Þght. Read around through the archives and learn some new things - and perhaps get inspired to keep going, no matter what.Break Your Bad Habits\\nMost people have some sort of routine in their day where they buy a morning latte or a bagel, or they drink six cans of soda, or they eat out at the same place each day for lunch. What these routines add up to is a lot of money. Spending $5 every day in a \\nworkweek adds up to $1,300 over a year - that!s a mortgage payment for a lot of people. Spend some time looking at the stuff you do every day, especially the ones that \\nrequire you to spend money, and ask yourself if they\\n!re really necessary or could be replaced.Don\"t Make Yourself Miserable!\\n Most of the time, when you cut a bit of spending from your life, you!ll Þnd that you never miss it. However, there are times when you Þnd yourself really regretting it. If that\\n!s the case, then it!s probably a worthwhile expense for you. Saving money doesn!t have to equate to misery, it just means that you cut down on the unnecessary.\\nDon\"t Forget the Big PictureThat, of course, doesn!t mean that you should justify every purchase with a basic ÒI want it and I have money in my account.Ó That shouldn\\n!t ever be enough to motivate a purchase. I Þnd that using a visual reminder in my wallet [91] of what I!m Þnancially working towards does a great job of keeping my mind on the big picture and helping me Þlter out what!s really needed and what!s just a ßeeting desire.Everything PF                                          http://www.thesimpledollar.com\\n                                             34/49\\nIdea #4: Manage Your Money!\\nOnly when the tide goes out do you discover who\\'s been swimming naked. Warren Buffett\\nWhenever you increase your income or decrease your spending, you!ll Þnd yourself with \\nmore cash at the end of the month. That cash is your ticket to Þnancial freedom, and the \\nmore you can get each month, the better off you are. The trick, though, is to not spend \\nit, but to do things that will build a stable future for you. Here!s the game plan.Pay Off All High Interest Debt\\nAnything with an interest rate over 9% needs to go as soon as possible. Use the extra money to make double or triple payments on these debts, focusing Þrst on the one with the highest interest rate. When that one!s gone, keep going with each successively lower interest rate debt.  Here!s a detailed program for doing just taht.Getting Started - What You Need\\nTo get the ball rolling, you\\n!re going to need a few items.Everything PF                                          http://www.thesimpledollar.com\\n                                             35/49\\nA few sheets of paper and a pen\\n Even though you likely spend quite a bit of time at the computer, this is still \\na good exercise to do with a few sheets of paper and a pen. Doing this \\nlittle task by hand adds to the concreteness and importance of the exercise - and there!s really no math to do by hand here, either, so you \\ndon!t have to worry about needing calculation tools.The latest statement for every single debt you have You\\n!ll also need the latest statement \\non every single debt you have: your mortgage, your auto loans, student loans you!re responsible for, any other outstanding consumer loans, credit card statements, and so \\non. Everything. Make sure that on this statement you can identify the annual interest rate (APR or APY, it\\n!s not important to distinguish between the two for the purpose of this exercise).Making the Þrst list The Þrst thing you should do is make a list with four columns \\nconsisting of the name of each debt you owe, the amount you still owe on that debt, the monthly payment for that debt, and, most importantly, the current interest rate on that \\ndebt. You should be able to get all of this information easily from the statements. The \\ngoal here is to get all of that information into one place.Which Debts Take Priority?\\nNow that you have the list, you can put the statements off to the side - everything you \\nneed is now on this one sheet of paper.\\nOrder all of the debts by their current interest rate. Now, go through that list and number \\nthe debts based on their interest rate. Give the highest interest a big number 1 off to the \\nleft, the next highest a big 2, and so on. Don!t worry about which debt has the biggest balance - that doesn!t actually matter when Þguring out which debt is the most important \\none to pay off.\\nEverything PF                                          http://www.thesimpledollar.com\\n                                             36/49DEBT FREE AT AGE 28!!  Photo by lemonjenny\\n\\nLook for ways to reduce the rates, focusing most strongly on the highest current one. Now that you!ve ordered the debts, go to the debt marked with a 1. Is there any way you \\ncan reduce that interest rate? If it!s a credit card debt, you could call the credit card company and ask for a rate reduction [92], or you could transfer the balance to another card for a lower rate. You might also be able to pay it off with a home equity line of credit \\nor with a personal loan from your credit union. Maybe you can consolidate your student loans at a very low rate. The key is to lower that interest rate. Go through every one of \\nyour debts from highest to lowest interest rate and do your best to get each rate nice and low. Obviously, there are some rates you\\n!re likely to be unable to easily change, like \\nyour mortgage rate, but see what you can do about most of the rest of them.When you!ve reduced rates, make a new list reßecting the changes. As you get each \\nrate lowered, update your list - cross off the old rates and write in the new ones, and \\nlikely cross off a few lines entirely and add new ones (if you consolidate or do balance \\ntransfers). If you wind up with two different interest rates on the same balance - after a \\nbalance transfer, for example - write down the interest rate that you\\n!d be paying off Þrst \\nwith any extra payments and ignore the other rate.Once you!ve lowered all the rates as much as possible, rewrite the whole list so it!s clear, except \\norder them directly by their current interest rate with the highest rate on top. This is your debt repayment plan - it will save you a lot of money if you stick with it.\\nWhat about debts that are set to adjust in the future? One aspect that often confuses people is how to handle debts that are set to adjust in the future. I generally ignore these adjustments and apply one simple rule of thumb: it!s always best to be in the best possible situation one month from now because the future is unclear. You may end up \\nconsolidating those debts, or maybe a windfall will come suddenly. Because of that \\nuncertainty, look at the short term when repaying your debts and ignore possible future \\nadjustments - it!ll make the planning easier and guide you down a path that, no matter what, is at the very least close to the best possible plan and often is the best possible plan.Yes, I\\n!m aware that situations can be constructed where it!s arguably better to worry about the adjustments early, but given the uncertainty of what may come and also the \\nhigh level of confusion one adds to the discussion in order to shave off a few extra \\nEverything PF                                          http://www.thesimpledollar.com\\n                                             37/49\\ndollars, it!s not worth the speculation. Build a plan - one that!s simple, makes sense, and is either optimal or very close to it - and stick with it, and you!ll be just Þne.How Do I Use The Plan?Direct all of your extra payments towards the top debt on the list. Each month, make minimum payments on all of the debts on the list except for the top one. With that top debt, throw everything you can at it. Make a double payment or a triple payment or more. This is a \\ngreat time to use the snowßaking strategy [93] - whenever you come into a few extra dollars during the month, due to living cheap or a little unexpected windfall, immediately apply that cash to the top debt on your list.When a debt vanishes, cross it off and feel good about it!\\n Over time, you should be eating away very quickly at that top debt, and (hopefully) before long you!ll be able to eliminate it. Cross it off the list, celebrate a little, then start hammering away at the new \\ntop dog on your list.When Do I Need To Update The Plan?\\nUpdate the list when you acquire a new debt. Whenever you get a new debt, it!s going to need to Þnd a place on your list. Stick it in there wherever it belongs based on the interest rate.Update the list when one of your debts adjusts to a new rate. Whenever a debt of yours adjusts in interest rate, cross it off the list, then add it back in just like a new debt where \\nit belongs based on the new interest rate.After you do this a few times, it!s useful to rewrite the list so that everything remains clear on it, but it!s fun to hold onto the old one (with some crossed-out debts) to remember where you came from.Everything PF                                          http://www.thesimpledollar.com\\n                                             38/49Credit cards.  Photo by TheTruthAbout....\\n\\nBuild an Emergency FundAn emergency fund is an amount of money you keep in a savings account that!s intended to be used in the event of a major crisis, such as a job loss, a medical emergency, major car damage, and so on \\n[94]. It!s a good idea to measure your emergency fund in terms of months! worth of living expenses - you should have a month \\nand a half worth of living expenses for each person you claim as a dependent. So, for me in a house with two children and my wife, I have a six month emergency fund.For many, a \\nsix month emergency fund seems like an impossible goal.  So, for now, put \\nthat thought aside - it!s a very long term goal.  Focus instead on putting away a small amount each week [95].  Ask your bank to transfer $20 a week from your checking \\naccount to your savings account - and just forget about it until a major crisis hits.  Having that cash will make all the difference - it\\n!ll keep stress out of your life and make the crisis easy to manage without falling into debt.Max Out RetirementBy this, I mean you should go to one of those retirement meetings at work, ask exactly how much you should be putting away to ensure that your living expenses are well-covered in retirement, and put that much away. This varies a lot depending on how \\nmuch you have in right now, how much your employer matches, and so on, so you \\nshould talk to your retirement planner at work about the speciÞcs.You\\n!ll hear a huge variety of advice on how to save for retirement.  Most of it is contradictory.  In truth, \\nvery little of it matters as long as you follow a few key principles.  You should be saving 10% of your income at the bare minimum.  You should \\nnot have more than 5% of your retirement in the stock of any one company.  If your \\ncompany doesn!t have a retirement plan, open a Roth IRA on your own with a reputable \\ncompany like Vanguard.  If your company offers any matching on your retirement, \\ncontribute enough so that you can get all of it.  If you don!t know what you!re doing, put your money in a Òtarget retirementÓ fund so that it gradually becomes less risky (read: less stock-heavy) as you approach retirement.  If you actually do those things, you!re already ahead of the game.Everything PF                                          http://www.thesimpledollar.com\\n                                             39/49\\nWhat About College Savings?\\nCollege savings are next. If you have kids, set up a 529 college savings plan [96] for them and start automatically putting a certain amount into this account each month.  There are a lot of different 529 plans available to you, but don\\n!t get stressed out by the details - pick a good one [97] and start saving now instead of hunting for the ÒperfectÓ one and wasting valuable investing time.  The plan I use for my own children is College \\nSavings Iowa, which is managed by Vanguard.\\nPay Off All Debts\\n If all of these are covered and you still have cash left over (which you will, given some time), the next step is to pay off all of your debts. Get rid of your car loans, your student \\nloans, and your mortgage using the debt reduction method described in the previous section.Invest! You might also want to start investing \\nat this point. My recommendation is to buy low-cost broad-based index funds because they don!t have many fees and grow very nicely over long periods of time [98]. Don!t invest in individual stocks unless you!re quite content to lose the money (i.e., gambling) or you want to invest many, \\nmany hours in research - something few people want to do.  I personally invest with Vanguard directly through vanguard.com - their fees are miniscule, they offer \\na huge array of index funds, and their customer service is stellar.\\nEverything PF                                          http://www.thesimpledollar.com\\n                                             40/49Save Money!  Photo by voobie.\\nIdea #5: Control Your Own Destiny!\\nFreedom is not merely the opportunity to do as one pleases; neither is it merely the opportunity to choose between set alternatives. Freedom is, Þrst of \\nall, the chance to formulate the available choices, to argue over them -- and then, the opportunity to choose.C. Wright Mills\\nMost people see the goal of all of this as being rich. That\\n!s why you see so many books about millionaires on bookstore shelves - being a millionaire is something many of us aspire to, right?Here!s the secret: it!s not about being rich. Having a big net worth is just an indicator of what this whole process is really about.It!s all about freedom. Freedom from debt. Freedom from supervisors telling us what to do. Freedom to spend the time to do things right. Freedom to try out new things and follow our interests. Freedom to sleep until eleven one day, then stay up until two in the \\nmorning working on what we!re passionate about.Everything PF                                          http://www.thesimpledollar.com\\n                                             41/49\\nThat!s what most people really want - I know that!s certainly what I want. Having a big bank account just means that I!m not beholden to others. I can follow my passions and dreams wherever they take me. If my job is not satisfying to me, I!m no longer tied to that paycheck - I can just get up and walk away. I can do whatever makes me happy \\nand avoid most of what makes me sad, without regrets or worries.It might be a bit unpleasant to substitute a Starbucks latte for a homemade cup of joe, but compared to that, how can little things possibly compare?It!s a lot of hard work to climb that mountain, but the air up there is the sweetest thing that there is.Everything PF                                          http://www.thesimpledollar.com\\n                                             42/49\\nDo You Want To Know More?\\nIf you were excited by the information in this document, there are a lot of sources out there to Þnd out more.The Simple Dollarhttp://www.thesimpledollar.com\\n/I update this site twice daily with articles that discuss the positive side of personal Þnance discussed in this document.  I often try to relate the speciÞc points to the real experience of my own life, translating what I!m going through into real advice you can use in your own life.  The comments by readers are always lively - why not jump in and \\njoin the discussion?Personal Finance BooksHere are twelve great personal Þnance books.  I!ve written extensive reviews of all of them - follow the footnote links to read my reviews.Your Money or Your Life \\n- Joe Dominguez and Vicki Robin (living; my favorite) \\n[99]What Color Is Your Parachute? \\n- Richard Nelson Bolles (careers) [100]The Bogleheads! Guide to Investing - Larimore, Lindauer, and LeBoeuf (investing) \\n[101]The Complete Tightwad Gazette\\n - Amy Dacyczyn (frugality) \\n[102]The Total Money Makeover\\n - Dave Ramsey (debt reduction) [103]Born to Buy - Juliet Schor (parenting) [104]It Pays to Talk \\n- Charles Schwab and Carrie Schwab-Pomerantz (communication) [105]Smart and Simple Financial Strategies for Busy People - Jane Bryant Quinn [106]The Money Trap\\n - Ron Gallen (mental blocks) [107]The Difference\\n - Jean Chatzky (lifestyles) [108]You\\n!re So Money - Farnoosh Torabi (young females) \\n[109]I Will Teach You To Be Rich \\n- Ramit Sethi (young professionals) [110]\\nPersonal Finance, Personal Development, and Career BlogsI Þnd that reading a wide variety of personal Þnance and personal growth ideas and opinions helps me to keep my own money in line.  Here are twenty Þve essential reads.Everything PF                                          http://www.thesimpledollar.com\\n                                             43/49\\nAsk MetaFilterhttp://ask.metaÞlter.com\\nAsk MetaFilter is an interesting community blog of sorts. Here!s how it works: members pay a small fee to join, then they!re allowed to ask questions that are on their mind. The \\nquestions are all over the place, ranging from whether a person should move from Boston to Colorado to things like how budget reconciliation in the Senate works. The \\ndiversity of questions - and the wide range of responses, many of them well thought out - makes Ask MetaFilter a compelling read.\\nBargaineeringhttp://www.bargaineering.com/articles/\\nBargaineering (formerly Blueprint for Financial Prosperity) is probably my favorite personal Þnance blog for interesting ideas. Jim Wang, the author of the site, is quite \\ngood at generating compelling core ideas, which usually gets my mind moving. Quite often, I!ll see an intriguing idea on Jim!s site, stew on it for a while, try it out, look at how it works in my own life, and Þnd myself eventually telling a story that goes off in some \\ncompletely different direction.\\nChristianPFhttp://www.christianpf.com\\n/ChristianPF has a distinct take on personal Þnance: that the themes of Christianity and the themes of money management have quite a bit of overlap. Because the site focuses \\nso heavily on that overlap - and because the author is a solid writer who occasionally throws out a few amazing gems - ChristianPF consistently offers insights that leave me \\nthinking.Clever Dudehttp://www.cleverdude.com\\n/Clever Dude keeps me coming back because of the tone and the sense of humor underlying most of the posts. The site does a great job of putting just the right touch of \\nhumor on personal Þnance and frugality issues, often with the humor sneaking up on you and just brushing you when you least expect it. It!s just the right amount - enough to \\nmake the articles enjoyable to read, without going too far and making it all into a farce. Everything PF                                          http://www.thesimpledollar.com\\n                                             44/49\\nConsumerism Commentaryhttp://www.consumerismcommentary.com\\n/Flexo, the writer at Consumerism Commentary, has the knack of a good essayist. He \\ncan turn a simple, seemingly unrelated event or idea into an interesting personal Þnance \\ntake. Consumeristhttp://consumerist.com/Consumerist is a blog run by Consumers Union, the folks behind Consumer Reports. It focuses directly on consumer issues, which means that it often calls out poor customer service from companies, faulty products, and so forth, mixed in with some great advice on saving money and making good buying choices. This is what I call a ÒßoodÓ blog, \\nmeaning there are a lot of posts each day - I usually Þnd myself just leaÞng through the piles of posts for the handful that really apply to me. Deal Seeking Momhttp://www.dealseekingmom.com\\n/Deal Seeking Mom mostly just provides a lot of great coupons and freebies - the site does a great job of Þltering out many of the less-useful items and just provides some of the cream of the crop - and occasionally drops a great article on speciÞc money-saving tactics in the middle there.Dumb Little Manhttp://www.dumblittleman.com\\n/I keep coming back to Dumb Little Man for the variety. The site posts articles on a wide \\nvariety of topics - productivity, personal development, money management, careers, \\nand so on. The author usually gets right to the point, outlining a handful of good \\nsuggestions on the topic. For me, it usually serves as a great starting point for ways to improve myself, whether in terms of money or career or even my day-to-day life.Freelance Switchhttp://www.freelanceswitch.com\\n/Freelance Switch focuses very speciÞcally on the money and career issues that face people who are freelancers - of which, to an extent, I would include myself as a Everything PF                                          http://www.thesimpledollar.com\\n                                             45/49\\nmember. Because of that tight focus, Freelance Switch can toss out many of the \\nextraneous details and really hone in on factors that matter speciÞcally to freelancers. Free Money Financehttp://www.freemoneyÞnance.com\\n/Free Money Finance succeeds for me because the author is very, very effective at \\ncombing through the mainstream media, Þnding the articles on personal money management that are really compelling, and commenting on them in a relatable fashion. \\nThe (slight) majority of the posts at FMF follow that general format and, for me, those are the ones that keep me coming back for more. Frugal Dadhttp://frugaldad.com/Frugal Dad. The name alone tells you exactly what you\\n!re going to get: frugality tips and \\npersonal Þnance thoughts related to kids. Two topics that, unsurprisingly, appeal to me \\nquite a bit. Another factor that works in Frugal Dad\\n!s favor is that the site, over time, tells \\nthe story of his life - a meshing of good advice and memoir that I Þnd appealing.Get Rich Slowlyhttp://www.getrichslowly.org/blog/\\nPoint blank, this is the best personal Þnance blog out there (besides The Simple Dollar, \\nof course). JD and I have similar ideas so often that I!ll sometimes check Get Rich Slowly before I post a new article just to make sure that JD hasn!t randomly came up with a similar idea.I Will Teach You To Be Rich\\nhttp://www.iwillteachyoutoberich.com\\n/I read I Will Teach You To Be Rich for two reasons. First, Ramit\\n!s focus is largely on entrepreneurship - it!s fairly obvious that his audience is the Silicon Valley startup \\ncrowd. Second, his tone is pure entertainment - a pastiche of self-assurance and compelling advice that makes most of the articles there quite worth reading.Everything PF                                          http://www.thesimpledollar.com\\n                                             46/49\\nLifehackerhttp://lifehacker.com\\n/Lifehacker is a very frequently updated site (ten or more times a day) focusing on productivity technology issues, but occasionally brushing on personal Þnance, personal growth, and other areas. I almost always Þnd a gem or two by browsing through Lifehacker - a useful piece of software, a good piece of advice, or something wholly unexpected.Money Saving Momhttp://www.moneysavingmom.com\\n/Money Saving Mom is something like a hybrid between Frugal Dad and Deal Seeking Mom - it!s a real medley of frugality tips, solid coupons (I!ve used more coupons from MSM than from pretty much any other site I!ve visited), and excellent anecdotes about parenting with frugality in mind. Pick the Brainhttp://www.pickthebrain.com/blog\\nPick the Brain is an excellent wide-ranging self-improvement blog, offering up tons of \\ninteresting articles on motivation, productivity, money management, and other aspects \\nof self-improvement. The variety of ideas is what keeps me coming back - it\\n!s infrequently updated, but when I do see an update, it!s usually full of solid ideas. Productivity501http://www.productivity501.com\\n/Productivity501 focuses squarely on how to be more productive with your time - and time is money, after all. Mark does a consistently great job of digging through ordinary \\ntasks and Þnding ways to reduce our time investment on those tasks, resulting in more time to spend on other things of greater personal value (like spending time with my kids, \\nfor example).Queercentshttp://www.queercents.com\\n/Queercents is actually a collective blog, including writings from a large number of writers that are all members of the LGBT community. As with many group blogs, the \\npresence of many writers creates a great diversity of opinion and perspectives - and Everything PF                                          http://www.thesimpledollar.com\\n                                             47/49\\noften you Þnd a writer or two that you really click with (I like Nina, for example) while being exposed to a lot of ideas and angles that you would have never considered before. Red Tape Chronicles\\nhttp://redtape.msnbc.com/Red Tape Chronicles (from MSNBC) focuses on consumer issues - mostly, how to deal \\nwith customer service headaches, identity theft, and other painful elements of modern Þnancial life. Bob Sullivan provides great fact-based coverage of consumer fraud, writing really strong material that often leads me to investigating similar experiences in my own life. Smart Spendinghttp://blogs.moneycentral.msn.com/SmartSpending/Smart Spending is something of a Òmeta-blogÓ of personal Þnance blogs. Karen Datko and Donna Freedman do a great job of scouring a wide range of personal Þnance blogs, \\nÞnding a wide variety of commentary on personal Þnance issues while adding their own unique views. Smart Spending is a great resource for seeing what lots of different \\nvoices are saying on personal Þnance topics. The Digerati Lifehttp://www.thedigeratilife.com/blog/\\nI often look at The Digerati Life as something of an urban parallel to The Simple Dollar. \\nThe author lives in the Bay Area and often has a more urban perspective than I do, but \\nwe regularly come to the same conclusions. What keeps me coming back? A warm tone \\nand a lot of excellent advice.The Wallet\\nhttp://blogs.wsj.com/wallet/The Wallet is a personal Þnance blog from the Wall Street Journal. It can be dry at \\ntimes, but if you want a ßood of thought-provoking reading on personal Þnance, this is a great source. It!s a mix of link collections to interesting articles from all over and short pieces from WSJ staff writers, all adding together to create a compelling mix of money \\nmaterial. Everything PF                                          http://www.thesimpledollar.com\\n                                             48/49\\nUncluttererhttp://unclutterer.com\\n/Unclutterer is a fascinating blog with a very speciÞc topic: reducing clutter. In Erin\\n!s eyes, clutter stands in the way of personal productivity, personal happiness, and good \\npersonal Þnance, too. Her soft, witty tone and her consistently thoughtful ideas on reducing the clutter in one!s life keep me constantly coming back for more.Wise Bread\\nhttp://www.wisebread.com\\n/Wise Bread is a group blog that looks at a huge array of personal Þnance issues, providing a wide range of voices and insights on money matters. The wide variety of \\nvoices (in particular, the always-excellent Philip Brewer) and wide variety of issues \\nmake this one a great blog for getting your juices ßowing when it comes to money management.Zen Habitshttp://zenhabits.net/Last but not least is Zen Habits, a site focused on simplicity in life, money, work, and \\nlove. Leo!s goal with Zen Habits is pretty clear - if you reduce the complexities in your life, you have much more life to enjoy, a philosophy I wholeheartedly agree with. Leo\\n!s posts vary widely, but they all strike the common theme of Þnding a simpler way in life. \\nThe Final ThoughtYou can do this.\\n Two years ago, I was almost bankrupt and in deep despair \\n[109] because I didn!t believe this stuff, either. It took a lot of learning and a lot of honest soul-\\nsearching, but I began to realize what was really important and I turned the ship around. \\nTrust me: you can do it, too.\\nEverything PF                                          http://www.thesimpledollar.com\\n                                             49/49'"
      ]
     },
     "execution_count": 122,
     "metadata": {
      "tags": []
     },
     "output_type": "execute_result"
    }
   ],
   "source": [
    "docs[0]"
   ]
  },
  {
   "cell_type": "code",
   "execution_count": null,
   "metadata": {
    "id": "Lg0LzaRE6aCb"
   },
   "outputs": [],
   "source": [
    "      "
   ]
  },
  {
   "cell_type": "code",
   "execution_count": null,
   "metadata": {
    "id": "zkz0oJg97Oi-"
   },
   "outputs": [],
   "source": []
  }
 ],
 "metadata": {
  "colab": {
   "authorship_tag": "ABX9TyPs7fugcsweIKeoVE4pgfLD",
   "collapsed_sections": [],
   "name": "demovid2_Reading PDF Files.ipynb",
   "provenance": []
  },
  "kernelspec": {
   "display_name": "Python 3 (ipykernel)",
   "language": "python",
   "name": "python3"
  },
  "language_info": {
   "codemirror_mode": {
    "name": "ipython",
    "version": 3
   },
   "file_extension": ".py",
   "mimetype": "text/x-python",
   "name": "python",
   "nbconvert_exporter": "python",
   "pygments_lexer": "ipython3",
   "version": "3.11.5"
  }
 },
 "nbformat": 4,
 "nbformat_minor": 1
}
