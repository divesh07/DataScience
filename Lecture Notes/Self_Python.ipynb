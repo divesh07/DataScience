{
 "cells": [
  {
   "cell_type": "code",
   "execution_count": null,
   "id": "df1b5367",
   "metadata": {},
   "outputs": [],
   "source": [
    "'''\n",
    "Python libraries\n",
    "\n",
    "numpy - numerical operations on n dim arrays\n",
    "pandas - data exploration , data analysis and data cleaning\n",
    "matplotlib , seaborn - data visualisation\n",
    "statsmodels - statistical modelling and analysis\n",
    "skikit learn - ML ( supervised and unsupervised learning)\n",
    "tensor flow - deep learning models for image and speech\n",
    "nltk , spacy , text blob - natural language took kit ( nltk ) - text processing and NLP tasks\n",
    "'''\n"
   ]
  },
  {
   "cell_type": "code",
   "execution_count": 3,
   "id": "94b723bb",
   "metadata": {},
   "outputs": [
    {
     "name": "stdout",
     "output_type": "stream",
     "text": [
      "Hello 15 7.5 True\n",
      "<class 'str'> <class 'int'> <class 'float'> <class 'bool'>\n"
     ]
    }
   ],
   "source": [
    "# Variables , Data types\n",
    "x = 'Hello' # x becomes an object of Class String\n",
    "y = 15 # y is an object of Class Integer\n",
    "z = 7.5 # z is an object of Class Float\n",
    "b = True # b is an object of Class Boolean\n",
    "\n",
    "print(x,y,z,b)\n",
    "print(type(x), type(y), type(z), type(b))\n"
   ]
  },
  {
   "cell_type": "code",
   "execution_count": 4,
   "id": "c2263e20",
   "metadata": {},
   "outputs": [
    {
     "name": "stdout",
     "output_type": "stream",
     "text": [
      "<class 'str'>\n"
     ]
    }
   ],
   "source": [
    "print(type('17'))"
   ]
  },
  {
   "cell_type": "code",
   "execution_count": 12,
   "id": "1db69f90",
   "metadata": {},
   "outputs": [
    {
     "name": "stdout",
     "output_type": "stream",
     "text": [
      "7\n",
      "-1\n",
      "12\n",
      "3\n",
      "81\n",
      "33.333333333333336\n",
      "33\n"
     ]
    }
   ],
   "source": [
    "x=3;y=4;z=100\n",
    "print(x + y)\n",
    "print (x - y)\n",
    "print (x * y)\n",
    "print (x % y)\n",
    "print (x ** y)\n",
    "print (z /x)\n",
    "print ( z//x) # floor of the number"
   ]
  },
  {
   "cell_type": "code",
   "execution_count": 14,
   "id": "48b28eca",
   "metadata": {},
   "outputs": [
    {
     "name": "stdout",
     "output_type": "stream",
     "text": [
      "True\n",
      "False\n"
     ]
    }
   ],
   "source": [
    "a = 5 ; b = 7\n",
    "print(a ==5)\n",
    "print(b ==5)"
   ]
  },
  {
   "cell_type": "code",
   "execution_count": 16,
   "id": "bcd7f463",
   "metadata": {},
   "outputs": [
    {
     "name": "stdout",
     "output_type": "stream",
     "text": [
      "heythere\n"
     ]
    }
   ],
   "source": [
    "a = 'hey' ; b = 'there'\n",
    "print ( a + b) # String concat"
   ]
  },
  {
   "cell_type": "code",
   "execution_count": 19,
   "id": "fbc54be9",
   "metadata": {},
   "outputs": [
    {
     "name": "stdout",
     "output_type": "stream",
     "text": [
      "HiHiHi\n"
     ]
    }
   ],
   "source": [
    "a = 'Hi'\n",
    "print ( a * 3)"
   ]
  },
  {
   "cell_type": "code",
   "execution_count": 18,
   "id": "15960042",
   "metadata": {},
   "outputs": [
    {
     "name": "stdout",
     "output_type": "stream",
     "text": [
      "4\n"
     ]
    }
   ],
   "source": [
    "a = '3'\n",
    "print ( int(a) + 1) # typecast string to int , else it would throw an error"
   ]
  },
  {
   "cell_type": "code",
   "execution_count": 26,
   "id": "e756ba9d",
   "metadata": {},
   "outputs": [
    {
     "name": "stdout",
     "output_type": "stream",
     "text": [
      "whats your name div\n",
      "hi there  div\n",
      " whats is your age ?23\n",
      "Still pretty young !! huh , your just  23\n",
      "<class 'str'>\n",
      "<class 'str'>\n"
     ]
    }
   ],
   "source": [
    "name = input ('whats your name ')\n",
    "print ( \"hi there \" , name)\n",
    "age = input ( ' whats is your age ?')\n",
    "print ( 'Still pretty young !! huh , your just ' , age)\n",
    "## Any input from the keyboard is of string type\n",
    "print(type(name))\n",
    "print(type(age))\n"
   ]
  },
  {
   "cell_type": "code",
   "execution_count": 28,
   "id": "bf651ec3",
   "metadata": {},
   "outputs": [
    {
     "name": "stdout",
     "output_type": "stream",
     "text": [
      "[1, 'a', 4.3, False]\n",
      "<class 'list'>\n"
     ]
    }
   ],
   "source": [
    "# List is a hetrogenous collection\n",
    "lst = [ 1 ,'a' , 4.3, False]\n",
    "print(lst)\n",
    "print(type(lst)) # Object of class list"
   ]
  },
  {
   "cell_type": "code",
   "execution_count": 30,
   "id": "9acfe4ef",
   "metadata": {},
   "outputs": [
    {
     "name": "stdout",
     "output_type": "stream",
     "text": [
      "17 is odd\n"
     ]
    }
   ],
   "source": [
    "# Conditional constructs\n",
    "\n",
    "x=17\n",
    "if x%2 == 0:\n",
    "    print(x , 'is even')\n",
    "else:\n",
    "    print(x , 'is odd')"
   ]
  },
  {
   "cell_type": "code",
   "execution_count": 31,
   "id": "4e17b768",
   "metadata": {},
   "outputs": [
    {
     "name": "stdout",
     "output_type": "stream",
     "text": [
      "5 is smaller than 10\n",
      "5 is greater than 0\n"
     ]
    }
   ],
   "source": [
    "# multiple if\n",
    "\n",
    "x=5\n",
    "if x < 10:\n",
    "    print(x , 'is smaller than 10')\n",
    "if x > 0:\n",
    "    print(x , 'is greater than 0')"
   ]
  },
  {
   "cell_type": "code",
   "execution_count": 34,
   "id": "c5e86256",
   "metadata": {},
   "outputs": [
    {
     "name": "stdout",
     "output_type": "stream",
     "text": [
      "x and y are equal\n"
     ]
    }
   ],
   "source": [
    "#Chained conditions\n",
    "\n",
    "x = 20\n",
    "y = 20\n",
    "if x < y:\n",
    "    print('x is lesss than y')\n",
    "elif x > y:\n",
    "    print('x is greater than y')\n",
    "else:\n",
    "    print('x and y are equal')"
   ]
  },
  {
   "cell_type": "code",
   "execution_count": 35,
   "id": "372483d5",
   "metadata": {},
   "outputs": [
    {
     "name": "stdout",
     "output_type": "stream",
     "text": [
      "x is +ve single digit no\n"
     ]
    }
   ],
   "source": [
    "#nested if \n",
    "\n",
    "x=5\n",
    "\n",
    "if x > 0:\n",
    "    if x < 10:\n",
    "        print ( 'x is +ve single digit no')"
   ]
  },
  {
   "cell_type": "code",
   "execution_count": 36,
   "id": "744dc462",
   "metadata": {},
   "outputs": [
    {
     "name": "stdout",
     "output_type": "stream",
     "text": [
      "x is +ve single digit no\n"
     ]
    }
   ],
   "source": [
    "# And operator\n",
    "\n",
    "x=5\n",
    "if x > 0 and x < 10:\n",
    "    print('x is +ve single digit no')\n"
   ]
  },
  {
   "cell_type": "code",
   "execution_count": 39,
   "id": "385f4420",
   "metadata": {},
   "outputs": [
    {
     "name": "stdout",
     "output_type": "stream",
     "text": [
      "Either x and y is even\n"
     ]
    }
   ],
   "source": [
    "# or operator\n",
    "\n",
    "x=15; y=10\n",
    "\n",
    "if x% 10 == 0 or y%10 == 0:\n",
    "    print('Either x and y is even')\n"
   ]
  },
  {
   "cell_type": "code",
   "execution_count": 46,
   "id": "af2cce37",
   "metadata": {},
   "outputs": [
    {
     "name": "stdout",
     "output_type": "stream",
     "text": [
      "x is less than  5\n"
     ]
    }
   ],
   "source": [
    "# Not operator\n",
    "\n",
    "x = 4\n",
    "if not (x > 5):\n",
    "    print ( 'x is less than  5')"
   ]
  },
  {
   "cell_type": "code",
   "execution_count": null,
   "id": "b4e4ce06",
   "metadata": {},
   "outputs": [],
   "source": [
    "# Iterative : while\n",
    "\n",
    "noStudents = int ( input ( \"Enter no of students \"))\n",
    "counter = 1;\n",
    "\n",
    "while counter <= noStudents:\n",
    "    marks1 = int ( input(\"Marks1\"))\n",
    "    marks2 = int ( input(\"Marks2\"))\n",
    "    marks3 = int ( input(\"Marks3\"))\n",
    "    \n",
    "    total = marks1 + marks2 + marks3\n",
    "    average = total / 3\n",
    "    print ( average)\n",
    "\n",
    "    if average > 15:\n",
    "        print (\"Passed\")\n",
    "    else:\n",
    "        print(\"Failed\")\n",
    "    counter+=1"
   ]
  },
  {
   "cell_type": "code",
   "execution_count": 52,
   "id": "32ec14c5",
   "metadata": {},
   "outputs": [
    {
     "name": "stdout",
     "output_type": "stream",
     "text": [
      "30.0\n"
     ]
    }
   ],
   "source": [
    "# For loop\n",
    "\n",
    "# find mean of values in the list\n",
    "\n",
    "lst = [ 10,20,30,40,50]\n",
    "count = 0\n",
    "sum = 0\n",
    "\n",
    "for x in lst:\n",
    "    count += 1\n",
    "    sum = sum + x\n",
    "mean = round ( sum / count , 2)\n",
    "print ( mean)"
   ]
  },
  {
   "cell_type": "code",
   "execution_count": null,
   "id": "2ece5a78",
   "metadata": {},
   "outputs": [],
   "source": [
    "# Data structures in python\n",
    "\n",
    "# List , String , Sets , Tuples and Dictionary\n"
   ]
  },
  {
   "cell_type": "code",
   "execution_count": 78,
   "id": "0885ae7e",
   "metadata": {},
   "outputs": [
    {
     "name": "stdout",
     "output_type": "stream",
     "text": [
      "10\n",
      "a\n",
      "b\n",
      "[1, 'a', 'b']\n",
      "True\n",
      "False\n",
      "[10, 20, 1, 'a', 'b', 'c']\n",
      "[10, 20, 1, 'a', 'b', 'c', [4, 5]]\n",
      "[10, 20, 1, 'a', 'b', 'c', [4, 5], 1, 2]\n",
      "[10, 20, 1, 'a', 'b', 'c', [4, 5], 1, 2, 'g']\n",
      "[10, 20, 1, 'a', 'b', 'c', [4, 5], 1, 2]\n",
      "[2, 4, 8, 12]\n"
     ]
    }
   ],
   "source": [
    "# List\n",
    "\n",
    "'''\n",
    "Hetrogenous elements indexed from 0\n",
    "List can be updated\n",
    "Enclosed within square bracked\n",
    "'''\n",
    "\n",
    "lst = [ 10,20,1,'a','b']\n",
    "print (lst[0])\n",
    "print (lst[3])\n",
    "print (lst[-1]) # last element\n",
    "\n",
    "#Slicing\n",
    "print (lst[2:5]) # index 2 to 4 is printed , inclusive index : exclusive index\n",
    "\n",
    "# In operator , to check if elements is present\n",
    "print ( 10 in lst)\n",
    "print ( 40 in lst)\n",
    "\n",
    "# Append()\n",
    "lst.append('c')\n",
    "print (lst)\n",
    "\n",
    "lst2 = [4,5]\n",
    "lst.append(lst2)\n",
    "\n",
    "print (lst)\n",
    "\n",
    "# Extend()\n",
    "lst.extend([1,2])\n",
    "print (lst)\n",
    "\n",
    "# Insert()\n",
    "lst.insert(9, 'g') # Insert element x at index i ( index , element)\n",
    "print ( lst)\n",
    "\n",
    "lst.remove('g') # remove element 'g'\n",
    "print (lst)\n",
    "\n",
    "lst.count('a') # count of element 1 = 2 , element 4 = 0\n",
    "\n"
   ]
  },
  {
   "cell_type": "code",
   "execution_count": 83,
   "id": "5fede490",
   "metadata": {},
   "outputs": [
    {
     "name": "stdout",
     "output_type": "stream",
     "text": [
      "[2, 4, 8, 12]\n",
      "[12, 8, 4, 2]\n",
      "1\n",
      "['a', 'b', 'c', [4, 5], 1, 2]\n"
     ]
    }
   ],
   "source": [
    "# Sort\n",
    "lst3 = [4, 8,2,12]\n",
    "lst3.sort()\n",
    "print (lst3)\n",
    "\n",
    "#Reverse\n",
    "lst3.reverse()\n",
    "print (lst3)\n",
    "\n",
    "print(lst.pop(0))\n",
    "print(lst)"
   ]
  },
  {
   "cell_type": "code",
   "execution_count": 87,
   "id": "794415d9",
   "metadata": {},
   "outputs": [
    {
     "name": "stdout",
     "output_type": "stream",
     "text": [
      "{10, 20, 30}\n",
      "{40, 10, 20, 30}\n"
     ]
    }
   ],
   "source": [
    "# Set \n",
    "\n",
    "'''\n",
    "Hetrogenous unordered collection of unique elements\n",
    "Curly brackets\n",
    "\n",
    "'''\n",
    "\n",
    "set_1 = {10,20,10,30,20}\n",
    "print(set_1)\n",
    "\n",
    "set_1.add(40)\n",
    "print(set_1)"
   ]
  }
 ],
 "metadata": {
  "kernelspec": {
   "display_name": "Python 3 (ipykernel)",
   "language": "python",
   "name": "python3"
  },
  "language_info": {
   "codemirror_mode": {
    "name": "ipython",
    "version": 3
   },
   "file_extension": ".py",
   "mimetype": "text/x-python",
   "name": "python",
   "nbconvert_exporter": "python",
   "pygments_lexer": "ipython3",
   "version": "3.11.5"
  }
 },
 "nbformat": 4,
 "nbformat_minor": 5
}
