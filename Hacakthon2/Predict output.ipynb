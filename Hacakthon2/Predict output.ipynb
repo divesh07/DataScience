{
 "cells": [
  {
   "cell_type": "code",
   "execution_count": 11,
   "id": "65756b6c",
   "metadata": {},
   "outputs": [
    {
     "name": "stdout",
     "output_type": "stream",
     "text": [
      "   customer_id  Y\n",
      "0       374679  1\n",
      "1       469678  1\n",
      "2       216140  0\n",
      "3       184301  0\n",
      "4       148720  1\n"
     ]
    }
   ],
   "source": [
    "import pandas as pd\n",
    "\n",
    "# Load only customer_id and the second column (predictions) from each CSV\n",
    "csv1 = pd.read_csv('/Users/divesh.gandhi/Documents/personal/IIT-R/Lectures/Hacakthon2/sub12_XGboost.csv', usecols=[0, 1])  # Assuming the second column is the prediction\n",
    "csv2 = pd.read_csv('/Users/divesh.gandhi/Documents/personal/IIT-R/Lectures/Hacakthon2/sub12_lightGBM.csv', usecols=[0, 1])\n",
    "csv3 = pd.read_csv('/Users/divesh.gandhi/Documents/personal/IIT-R/Lectures/Hacakthon2/sub12_Catboost.csv', usecols=[0, 1])\n",
    "#csv4 = pd.read_csv('/Users/divesh.gandhi/Documents/personal/IIT-R/Lectures/Hacakthon2/sub12_lr.csv', usecols=[0, 1])\n",
    "#csv5 = pd.read_csv('/Users/divesh.gandhi/Documents/personal/IIT-R/Lectures/Hacakthon2/sub12_rf.csv', usecols=[0, 1])\n",
    "\n",
    "# Check if the number of records in each file is 2537\n",
    "assert len(csv1) == 2537, \"CSV1 does not have 2537 records\"\n",
    "assert len(csv2) == 2537, \"CSV2 does not have 2537 records\"\n",
    "assert len(csv3) == 2537, \"CSV3 does not have 2537 records\"\n",
    "#assert len(csv4) == 2537, \"CSV4 does not have 2537 records\"\n",
    "#assert len(csv5) == 2537, \"CSV4 does not have 2537 records\"\n",
    "\n",
    "# Combine the customer_id and predictions into a new DataFrame\n",
    "combined_df = pd.DataFrame({\n",
    "    'customer_id': csv1['customer_id'],  # Keeping the 'customer_id' from the first CSV\n",
    "    'prediction1': csv1.iloc[:, 1],   # The second column from csv1\n",
    "    'prediction2': csv2.iloc[:, 1],   # The second column from csv2\n",
    "    'prediction3': csv3.iloc[:, 1],   # The second column from csv3\n",
    "    #'prediction4': csv4.iloc[:, 1],    # The second column from csv4\n",
    "    #'prediction5': csv5.iloc[:, 1]    # The second column from csv5\n",
    "})\n",
    "\n",
    "# Get the mode (most frequent value) for each row across the 4 predictions\n",
    "combined_df['Y'] = combined_df[['prediction1', 'prediction2', 'prediction3']].mode(axis=1)[0]\n",
    "\n",
    "# Ensure the DataFrame has exactly 2537 records\n",
    "assert len(combined_df) == 2537, \"The combined DataFrame does not have 2537 records\"\n",
    "\n",
    "# Save the result to a new CSV with only 'customer_id' and 'Y'\n",
    "combined_df[['customer_id', 'Y']].to_csv('final_predictions2.csv', index=False)\n",
    "\n",
    "# Display the first few rows of the final dataframe for verification\n",
    "print(combined_df[['customer_id', 'Y']].head())\n"
   ]
  }
 ],
 "metadata": {
  "kernelspec": {
   "display_name": "Python 3 (ipykernel)",
   "language": "python",
   "name": "python3"
  },
  "language_info": {
   "codemirror_mode": {
    "name": "ipython",
    "version": 3
   },
   "file_extension": ".py",
   "mimetype": "text/x-python",
   "name": "python",
   "nbconvert_exporter": "python",
   "pygments_lexer": "ipython3",
   "version": "3.11.5"
  }
 },
 "nbformat": 4,
 "nbformat_minor": 5
}
